{
  "cells": [
    {
      "cell_type": "markdown",
      "source": "# Assignment 10: Tidying Messy Datasets",
      "metadata": {
        "tags": [],
        "cell_id": "00000-5045b71c-e16c-4d75-8e84-e80a72524758",
        "deepnote_cell_type": "markdown"
      }
    },
    {
      "cell_type": "markdown",
      "source": "## Data Exploration:\n### What You Should Do When You Load Up Your Data Set For The First Time ",
      "metadata": {
        "tags": [],
        "cell_id": "00001-a949f7d7-22b5-4107-9647-bb685bf8a356",
        "deepnote_cell_type": "markdown"
      }
    },
    {
      "cell_type": "code",
      "metadata": {
        "tags": [],
        "cell_id": "00000-03a967cb-407f-4f66-81ad-26221bd3a565",
        "deepnote_to_be_reexecuted": false,
        "source_hash": "9b82ee11",
        "execution_start": 1620248783205,
        "execution_millis": 1,
        "deepnote_cell_type": "code"
      },
      "source": "import pandas as pd",
      "execution_count": 1,
      "outputs": []
    },
    {
      "cell_type": "code",
      "metadata": {
        "tags": [],
        "cell_id": "00002-39948ffc-f82c-4574-b3c0-6c5e8cc257fa",
        "deepnote_to_be_reexecuted": false,
        "source_hash": "2b659eeb",
        "execution_start": 1620248783209,
        "execution_millis": 8,
        "deepnote_cell_type": "code"
      },
      "source": "df = pd.read_csv('./tidy_data/gapminder.tsv', sep = '\\t')",
      "execution_count": 2,
      "outputs": []
    },
    {
      "cell_type": "code",
      "metadata": {
        "tags": [],
        "cell_id": "00003-06eec3e5-9f00-457f-848a-2f0cf8f48012",
        "deepnote_to_be_reexecuted": false,
        "source_hash": "c085b6ba",
        "execution_start": 1620248783235,
        "execution_millis": 95,
        "deepnote_cell_type": "code"
      },
      "source": "df.head()",
      "execution_count": 3,
      "outputs": [
        {
          "output_type": "execute_result",
          "execution_count": 3,
          "data": {
            "application/vnd.deepnote.dataframe.v2+json": {
              "row_count": 5,
              "column_count": 6,
              "columns": [
                {
                  "name": "country",
                  "dtype": "object",
                  "stats": {
                    "unique_count": 1,
                    "nan_count": 0,
                    "categories": [
                      {
                        "name": "Afghanistan",
                        "count": 5
                      }
                    ]
                  }
                },
                {
                  "name": "continent",
                  "dtype": "object",
                  "stats": {
                    "unique_count": 1,
                    "nan_count": 0,
                    "categories": [
                      {
                        "name": "Asia",
                        "count": 5
                      }
                    ]
                  }
                },
                {
                  "name": "year",
                  "dtype": "int64",
                  "stats": {
                    "unique_count": 5,
                    "nan_count": 0,
                    "min": "1952",
                    "max": "1972",
                    "histogram": [
                      {
                        "bin_start": 1952,
                        "bin_end": 1954,
                        "count": 1
                      },
                      {
                        "bin_start": 1954,
                        "bin_end": 1956,
                        "count": 0
                      },
                      {
                        "bin_start": 1956,
                        "bin_end": 1958,
                        "count": 1
                      },
                      {
                        "bin_start": 1958,
                        "bin_end": 1960,
                        "count": 0
                      },
                      {
                        "bin_start": 1960,
                        "bin_end": 1962,
                        "count": 0
                      },
                      {
                        "bin_start": 1962,
                        "bin_end": 1964,
                        "count": 1
                      },
                      {
                        "bin_start": 1964,
                        "bin_end": 1966,
                        "count": 0
                      },
                      {
                        "bin_start": 1966,
                        "bin_end": 1968,
                        "count": 1
                      },
                      {
                        "bin_start": 1968,
                        "bin_end": 1970,
                        "count": 0
                      },
                      {
                        "bin_start": 1970,
                        "bin_end": 1972,
                        "count": 1
                      }
                    ]
                  }
                },
                {
                  "name": "lifeExp",
                  "dtype": "float64",
                  "stats": {
                    "unique_count": 5,
                    "nan_count": 0,
                    "min": "28.801",
                    "max": "36.088",
                    "histogram": [
                      {
                        "bin_start": 28.801,
                        "bin_end": 29.5297,
                        "count": 1
                      },
                      {
                        "bin_start": 29.5297,
                        "bin_end": 30.258399999999998,
                        "count": 0
                      },
                      {
                        "bin_start": 30.258399999999998,
                        "bin_end": 30.987099999999998,
                        "count": 1
                      },
                      {
                        "bin_start": 30.987099999999998,
                        "bin_end": 31.715799999999998,
                        "count": 0
                      },
                      {
                        "bin_start": 31.715799999999998,
                        "bin_end": 32.4445,
                        "count": 1
                      },
                      {
                        "bin_start": 32.4445,
                        "bin_end": 33.1732,
                        "count": 0
                      },
                      {
                        "bin_start": 33.1732,
                        "bin_end": 33.9019,
                        "count": 0
                      },
                      {
                        "bin_start": 33.9019,
                        "bin_end": 34.6306,
                        "count": 1
                      },
                      {
                        "bin_start": 34.6306,
                        "bin_end": 35.3593,
                        "count": 0
                      },
                      {
                        "bin_start": 35.3593,
                        "bin_end": 36.088,
                        "count": 1
                      }
                    ]
                  }
                },
                {
                  "name": "pop",
                  "dtype": "int64",
                  "stats": {
                    "unique_count": 5,
                    "nan_count": 0,
                    "min": "8425333",
                    "max": "13079460",
                    "histogram": [
                      {
                        "bin_start": 8425333,
                        "bin_end": 8890745.7,
                        "count": 1
                      },
                      {
                        "bin_start": 8890745.7,
                        "bin_end": 9356158.4,
                        "count": 1
                      },
                      {
                        "bin_start": 9356158.4,
                        "bin_end": 9821571.1,
                        "count": 0
                      },
                      {
                        "bin_start": 9821571.1,
                        "bin_end": 10286983.8,
                        "count": 1
                      },
                      {
                        "bin_start": 10286983.8,
                        "bin_end": 10752396.5,
                        "count": 0
                      },
                      {
                        "bin_start": 10752396.5,
                        "bin_end": 11217809.2,
                        "count": 0
                      },
                      {
                        "bin_start": 11217809.2,
                        "bin_end": 11683221.9,
                        "count": 1
                      },
                      {
                        "bin_start": 11683221.9,
                        "bin_end": 12148634.6,
                        "count": 0
                      },
                      {
                        "bin_start": 12148634.6,
                        "bin_end": 12614047.3,
                        "count": 0
                      },
                      {
                        "bin_start": 12614047.3,
                        "bin_end": 13079460,
                        "count": 1
                      }
                    ]
                  }
                },
                {
                  "name": "gdpPercap",
                  "dtype": "float64",
                  "stats": {
                    "unique_count": 5,
                    "nan_count": 0,
                    "min": "739.9811058",
                    "max": "853.10071",
                    "histogram": [
                      {
                        "bin_start": 739.9811058,
                        "bin_end": 751.29306622,
                        "count": 1
                      },
                      {
                        "bin_start": 751.29306622,
                        "bin_end": 762.60502664,
                        "count": 0
                      },
                      {
                        "bin_start": 762.60502664,
                        "bin_end": 773.91698706,
                        "count": 0
                      },
                      {
                        "bin_start": 773.91698706,
                        "bin_end": 785.22894748,
                        "count": 1
                      },
                      {
                        "bin_start": 785.22894748,
                        "bin_end": 796.5409079000001,
                        "count": 0
                      },
                      {
                        "bin_start": 796.5409079000001,
                        "bin_end": 807.85286832,
                        "count": 0
                      },
                      {
                        "bin_start": 807.85286832,
                        "bin_end": 819.1648287400001,
                        "count": 0
                      },
                      {
                        "bin_start": 819.1648287400001,
                        "bin_end": 830.4767891600001,
                        "count": 1
                      },
                      {
                        "bin_start": 830.4767891600001,
                        "bin_end": 841.7887495800001,
                        "count": 1
                      },
                      {
                        "bin_start": 841.7887495800001,
                        "bin_end": 853.10071,
                        "count": 1
                      }
                    ]
                  }
                },
                {
                  "name": "_deepnote_index_column",
                  "dtype": "int64"
                }
              ],
              "rows_top": [
                {
                  "country": "Afghanistan",
                  "continent": "Asia",
                  "year": 1952,
                  "lifeExp": 28.801,
                  "pop": 8425333,
                  "gdpPercap": 779.4453145,
                  "_deepnote_index_column": 0
                },
                {
                  "country": "Afghanistan",
                  "continent": "Asia",
                  "year": 1957,
                  "lifeExp": 30.332,
                  "pop": 9240934,
                  "gdpPercap": 820.8530296,
                  "_deepnote_index_column": 1
                },
                {
                  "country": "Afghanistan",
                  "continent": "Asia",
                  "year": 1962,
                  "lifeExp": 31.997,
                  "pop": 10267083,
                  "gdpPercap": 853.10071,
                  "_deepnote_index_column": 2
                },
                {
                  "country": "Afghanistan",
                  "continent": "Asia",
                  "year": 1967,
                  "lifeExp": 34.02,
                  "pop": 11537966,
                  "gdpPercap": 836.1971382,
                  "_deepnote_index_column": 3
                },
                {
                  "country": "Afghanistan",
                  "continent": "Asia",
                  "year": 1972,
                  "lifeExp": 36.088,
                  "pop": 13079460,
                  "gdpPercap": 739.9811058,
                  "_deepnote_index_column": 4
                }
              ],
              "rows_bottom": null
            },
            "text/plain": "       country continent  year  lifeExp       pop   gdpPercap\n0  Afghanistan      Asia  1952   28.801   8425333  779.445314\n1  Afghanistan      Asia  1957   30.332   9240934  820.853030\n2  Afghanistan      Asia  1962   31.997  10267083  853.100710\n3  Afghanistan      Asia  1967   34.020  11537966  836.197138\n4  Afghanistan      Asia  1972   36.088  13079460  739.981106",
            "text/html": "<div>\n<style scoped>\n    .dataframe tbody tr th:only-of-type {\n        vertical-align: middle;\n    }\n\n    .dataframe tbody tr th {\n        vertical-align: top;\n    }\n\n    .dataframe thead th {\n        text-align: right;\n    }\n</style>\n<table border=\"1\" class=\"dataframe\">\n  <thead>\n    <tr style=\"text-align: right;\">\n      <th></th>\n      <th>country</th>\n      <th>continent</th>\n      <th>year</th>\n      <th>lifeExp</th>\n      <th>pop</th>\n      <th>gdpPercap</th>\n    </tr>\n  </thead>\n  <tbody>\n    <tr>\n      <th>0</th>\n      <td>Afghanistan</td>\n      <td>Asia</td>\n      <td>1952</td>\n      <td>28.801</td>\n      <td>8425333</td>\n      <td>779.445314</td>\n    </tr>\n    <tr>\n      <th>1</th>\n      <td>Afghanistan</td>\n      <td>Asia</td>\n      <td>1957</td>\n      <td>30.332</td>\n      <td>9240934</td>\n      <td>820.853030</td>\n    </tr>\n    <tr>\n      <th>2</th>\n      <td>Afghanistan</td>\n      <td>Asia</td>\n      <td>1962</td>\n      <td>31.997</td>\n      <td>10267083</td>\n      <td>853.100710</td>\n    </tr>\n    <tr>\n      <th>3</th>\n      <td>Afghanistan</td>\n      <td>Asia</td>\n      <td>1967</td>\n      <td>34.020</td>\n      <td>11537966</td>\n      <td>836.197138</td>\n    </tr>\n    <tr>\n      <th>4</th>\n      <td>Afghanistan</td>\n      <td>Asia</td>\n      <td>1972</td>\n      <td>36.088</td>\n      <td>13079460</td>\n      <td>739.981106</td>\n    </tr>\n  </tbody>\n</table>\n</div>"
          },
          "metadata": {}
        }
      ]
    },
    {
      "cell_type": "code",
      "metadata": {
        "tags": [],
        "cell_id": "00004-a02c3ea9-dcc6-4a8a-bf4f-2fb513bc293d",
        "deepnote_to_be_reexecuted": false,
        "source_hash": "4f0c909c",
        "execution_start": 1620248783301,
        "execution_millis": 29,
        "deepnote_cell_type": "code"
      },
      "source": "df.columns #access columns",
      "execution_count": 4,
      "outputs": [
        {
          "output_type": "execute_result",
          "execution_count": 4,
          "data": {
            "text/plain": "Index(['country', 'continent', 'year', 'lifeExp', 'pop', 'gdpPercap'], dtype='object')"
          },
          "metadata": {}
        }
      ]
    },
    {
      "cell_type": "code",
      "metadata": {
        "tags": [],
        "cell_id": "00005-7b444c30-a568-4ed2-9855-920d2165bc2d",
        "deepnote_to_be_reexecuted": false,
        "source_hash": "d70c1d63",
        "execution_start": 1620248783302,
        "execution_millis": 28,
        "deepnote_cell_type": "code"
      },
      "source": "df.index #access rows in dataframe",
      "execution_count": 5,
      "outputs": [
        {
          "output_type": "execute_result",
          "execution_count": 5,
          "data": {
            "text/plain": "RangeIndex(start=0, stop=1704, step=1)"
          },
          "metadata": {}
        }
      ]
    },
    {
      "cell_type": "code",
      "metadata": {
        "tags": [],
        "cell_id": "00006-731315f0-59af-4e05-9473-7be448168958",
        "deepnote_to_be_reexecuted": false,
        "source_hash": "346ced43",
        "execution_start": 1620248783303,
        "execution_millis": 27,
        "deepnote_cell_type": "code"
      },
      "source": "df.values #access body of dataframe  ",
      "execution_count": 6,
      "outputs": [
        {
          "output_type": "execute_result",
          "execution_count": 6,
          "data": {
            "text/plain": "array([['Afghanistan', 'Asia', 1952, 28.801, 8425333, 779.4453145],\n       ['Afghanistan', 'Asia', 1957, 30.332, 9240934, 820.8530296],\n       ['Afghanistan', 'Asia', 1962, 31.997, 10267083, 853.10071],\n       ...,\n       ['Zimbabwe', 'Africa', 1997, 46.809, 11404948, 792.4499603],\n       ['Zimbabwe', 'Africa', 2002, 39.989, 11926563, 672.0386227],\n       ['Zimbabwe', 'Africa', 2007, 43.487, 12311143, 469.7092981]],\n      dtype=object)"
          },
          "metadata": {}
        }
      ]
    },
    {
      "cell_type": "code",
      "metadata": {
        "tags": [],
        "cell_id": "00007-d69d4866-bbba-4152-8013-174037c31ed7",
        "deepnote_to_be_reexecuted": false,
        "source_hash": "19168682",
        "execution_start": 1620248783307,
        "execution_millis": 24,
        "deepnote_cell_type": "code"
      },
      "source": "type(df) #df is a dataframe object",
      "execution_count": 7,
      "outputs": [
        {
          "output_type": "execute_result",
          "execution_count": 7,
          "data": {
            "text/plain": "pandas.core.frame.DataFrame"
          },
          "metadata": {}
        }
      ]
    },
    {
      "cell_type": "code",
      "metadata": {
        "tags": [],
        "cell_id": "00008-61c21fb6-b814-4f7e-b782-1ae2318b675f",
        "deepnote_to_be_reexecuted": false,
        "source_hash": "55e24bb6",
        "execution_start": 1620248783317,
        "execution_millis": 54,
        "deepnote_cell_type": "code"
      },
      "source": "df.shape #.shape() will not work, because this is a function, not an attribute",
      "execution_count": 8,
      "outputs": [
        {
          "output_type": "execute_result",
          "execution_count": 8,
          "data": {
            "text/plain": "(1704, 6)"
          },
          "metadata": {}
        }
      ]
    },
    {
      "cell_type": "code",
      "metadata": {
        "tags": [],
        "cell_id": "00010-7ac9a854-0fe8-463c-93ac-dc426c77ea33",
        "deepnote_to_be_reexecuted": false,
        "source_hash": "de1e323c",
        "execution_start": 1620248783322,
        "execution_millis": 49,
        "deepnote_cell_type": "code"
      },
      "source": "df.info()",
      "execution_count": 9,
      "outputs": [
        {
          "name": "stdout",
          "text": "<class 'pandas.core.frame.DataFrame'>\nRangeIndex: 1704 entries, 0 to 1703\nData columns (total 6 columns):\n #   Column     Non-Null Count  Dtype  \n---  ------     --------------  -----  \n 0   country    1704 non-null   object \n 1   continent  1704 non-null   object \n 2   year       1704 non-null   int64  \n 3   lifeExp    1704 non-null   float64\n 4   pop        1704 non-null   int64  \n 5   gdpPercap  1704 non-null   float64\ndtypes: float64(2), int64(2), object(2)\nmemory usage: 80.0+ KB\n",
          "output_type": "stream"
        }
      ]
    },
    {
      "cell_type": "markdown",
      "source": "## Basic Manipulation",
      "metadata": {
        "tags": [],
        "cell_id": "00011-7ecbf2a5-13ba-4bf0-a741-135bfed07fe1",
        "deepnote_cell_type": "markdown"
      }
    },
    {
      "cell_type": "code",
      "metadata": {
        "tags": [],
        "cell_id": "00011-1ebbd698-75d1-4bfc-b380-1fe206d036ca",
        "deepnote_to_be_reexecuted": false,
        "source_hash": "81ab458b",
        "execution_start": 1620248783339,
        "execution_millis": 69,
        "deepnote_cell_type": "code"
      },
      "source": "df['country'] #gives just country column ",
      "execution_count": 10,
      "outputs": [
        {
          "output_type": "execute_result",
          "execution_count": 10,
          "data": {
            "text/plain": "0       Afghanistan\n1       Afghanistan\n2       Afghanistan\n3       Afghanistan\n4       Afghanistan\n           ...     \n1699       Zimbabwe\n1700       Zimbabwe\n1701       Zimbabwe\n1702       Zimbabwe\n1703       Zimbabwe\nName: country, Length: 1704, dtype: object"
          },
          "metadata": {}
        }
      ]
    },
    {
      "cell_type": "code",
      "metadata": {
        "tags": [],
        "cell_id": "00013-43279e96-de13-4523-984b-98d958c5e5da",
        "deepnote_to_be_reexecuted": false,
        "source_hash": "87f3ee2e",
        "execution_start": 1620248783345,
        "execution_millis": 0,
        "deepnote_cell_type": "code"
      },
      "source": "country_df = df['country'] #get just the country column, and assign it to a variable",
      "execution_count": 11,
      "outputs": []
    },
    {
      "cell_type": "code",
      "metadata": {
        "tags": [],
        "cell_id": "00014-057d9217-79dd-4d6a-973b-5a5ea43ad361",
        "deepnote_to_be_reexecuted": false,
        "source_hash": "98ba0e48",
        "execution_start": 1620248783354,
        "execution_millis": 54,
        "deepnote_cell_type": "code"
      },
      "source": "country_df.head()",
      "execution_count": 12,
      "outputs": [
        {
          "output_type": "execute_result",
          "execution_count": 12,
          "data": {
            "text/plain": "0    Afghanistan\n1    Afghanistan\n2    Afghanistan\n3    Afghanistan\n4    Afghanistan\nName: country, dtype: object"
          },
          "metadata": {}
        }
      ]
    },
    {
      "cell_type": "code",
      "metadata": {
        "tags": [],
        "cell_id": "00015-b88246e3-a631-464e-b290-5e62a46bf9f2",
        "deepnote_to_be_reexecuted": false,
        "source_hash": "b90408b5",
        "execution_start": 1620248783384,
        "execution_millis": 47,
        "deepnote_cell_type": "code"
      },
      "source": "type(country_df) #each column is a series\n#each series is like a 1 dimensional numpy array",
      "execution_count": 13,
      "outputs": [
        {
          "output_type": "execute_result",
          "execution_count": 13,
          "data": {
            "text/plain": "pandas.core.series.Series"
          },
          "metadata": {}
        }
      ]
    },
    {
      "cell_type": "code",
      "metadata": {
        "tags": [],
        "cell_id": "00016-df0a80e6-aaad-4225-a172-49207d9113b4",
        "deepnote_to_be_reexecuted": false,
        "source_hash": "88a059c7",
        "execution_start": 1620248783399,
        "execution_millis": 0,
        "deepnote_cell_type": "code"
      },
      "source": "subset = df[['country', 'continent', 'year']] #put list object inside subsetting brackets",
      "execution_count": 14,
      "outputs": []
    },
    {
      "cell_type": "code",
      "metadata": {
        "tags": [],
        "cell_id": "00017-0842dabe-4482-4352-a07f-3eb7e643e9d5",
        "deepnote_to_be_reexecuted": false,
        "source_hash": "8d3cf01e",
        "execution_start": 1620248783399,
        "execution_millis": 32,
        "deepnote_cell_type": "code"
      },
      "source": "subset.head()",
      "execution_count": 15,
      "outputs": [
        {
          "output_type": "execute_result",
          "execution_count": 15,
          "data": {
            "application/vnd.deepnote.dataframe.v2+json": {
              "row_count": 5,
              "column_count": 3,
              "columns": [
                {
                  "name": "country",
                  "dtype": "object",
                  "stats": {
                    "unique_count": 1,
                    "nan_count": 0,
                    "categories": [
                      {
                        "name": "Afghanistan",
                        "count": 5
                      }
                    ]
                  }
                },
                {
                  "name": "continent",
                  "dtype": "object",
                  "stats": {
                    "unique_count": 1,
                    "nan_count": 0,
                    "categories": [
                      {
                        "name": "Asia",
                        "count": 5
                      }
                    ]
                  }
                },
                {
                  "name": "year",
                  "dtype": "int64",
                  "stats": {
                    "unique_count": 5,
                    "nan_count": 0,
                    "min": "1952",
                    "max": "1972",
                    "histogram": [
                      {
                        "bin_start": 1952,
                        "bin_end": 1954,
                        "count": 1
                      },
                      {
                        "bin_start": 1954,
                        "bin_end": 1956,
                        "count": 0
                      },
                      {
                        "bin_start": 1956,
                        "bin_end": 1958,
                        "count": 1
                      },
                      {
                        "bin_start": 1958,
                        "bin_end": 1960,
                        "count": 0
                      },
                      {
                        "bin_start": 1960,
                        "bin_end": 1962,
                        "count": 0
                      },
                      {
                        "bin_start": 1962,
                        "bin_end": 1964,
                        "count": 1
                      },
                      {
                        "bin_start": 1964,
                        "bin_end": 1966,
                        "count": 0
                      },
                      {
                        "bin_start": 1966,
                        "bin_end": 1968,
                        "count": 1
                      },
                      {
                        "bin_start": 1968,
                        "bin_end": 1970,
                        "count": 0
                      },
                      {
                        "bin_start": 1970,
                        "bin_end": 1972,
                        "count": 1
                      }
                    ]
                  }
                },
                {
                  "name": "_deepnote_index_column",
                  "dtype": "int64"
                }
              ],
              "rows_top": [
                {
                  "country": "Afghanistan",
                  "continent": "Asia",
                  "year": 1952,
                  "_deepnote_index_column": 0
                },
                {
                  "country": "Afghanistan",
                  "continent": "Asia",
                  "year": 1957,
                  "_deepnote_index_column": 1
                },
                {
                  "country": "Afghanistan",
                  "continent": "Asia",
                  "year": 1962,
                  "_deepnote_index_column": 2
                },
                {
                  "country": "Afghanistan",
                  "continent": "Asia",
                  "year": 1967,
                  "_deepnote_index_column": 3
                },
                {
                  "country": "Afghanistan",
                  "continent": "Asia",
                  "year": 1972,
                  "_deepnote_index_column": 4
                }
              ],
              "rows_bottom": null
            },
            "text/plain": "       country continent  year\n0  Afghanistan      Asia  1952\n1  Afghanistan      Asia  1957\n2  Afghanistan      Asia  1962\n3  Afghanistan      Asia  1967\n4  Afghanistan      Asia  1972",
            "text/html": "<div>\n<style scoped>\n    .dataframe tbody tr th:only-of-type {\n        vertical-align: middle;\n    }\n\n    .dataframe tbody tr th {\n        vertical-align: top;\n    }\n\n    .dataframe thead th {\n        text-align: right;\n    }\n</style>\n<table border=\"1\" class=\"dataframe\">\n  <thead>\n    <tr style=\"text-align: right;\">\n      <th></th>\n      <th>country</th>\n      <th>continent</th>\n      <th>year</th>\n    </tr>\n  </thead>\n  <tbody>\n    <tr>\n      <th>0</th>\n      <td>Afghanistan</td>\n      <td>Asia</td>\n      <td>1952</td>\n    </tr>\n    <tr>\n      <th>1</th>\n      <td>Afghanistan</td>\n      <td>Asia</td>\n      <td>1957</td>\n    </tr>\n    <tr>\n      <th>2</th>\n      <td>Afghanistan</td>\n      <td>Asia</td>\n      <td>1962</td>\n    </tr>\n    <tr>\n      <th>3</th>\n      <td>Afghanistan</td>\n      <td>Asia</td>\n      <td>1967</td>\n    </tr>\n    <tr>\n      <th>4</th>\n      <td>Afghanistan</td>\n      <td>Asia</td>\n      <td>1972</td>\n    </tr>\n  </tbody>\n</table>\n</div>"
          },
          "metadata": {}
        }
      ]
    },
    {
      "cell_type": "code",
      "metadata": {
        "tags": [],
        "cell_id": "00018-087ce93d-cf25-4bbc-a6bb-a55eae19acb6",
        "deepnote_to_be_reexecuted": false,
        "source_hash": "a86b0fb",
        "execution_start": 1620248783411,
        "execution_millis": 20,
        "deepnote_cell_type": "code"
      },
      "source": "pd.__version__ #shows which version of pandas we're working with",
      "execution_count": 16,
      "outputs": [
        {
          "output_type": "execute_result",
          "execution_count": 16,
          "data": {
            "text/plain": "'1.2.4'"
          },
          "metadata": {}
        }
      ]
    },
    {
      "cell_type": "code",
      "metadata": {
        "tags": [],
        "cell_id": "00019-483e3435-0d79-48e4-aa2e-a903dbb88b42",
        "deepnote_to_be_reexecuted": false,
        "source_hash": "d4c16a3c",
        "execution_start": 1620248783420,
        "execution_millis": 14,
        "deepnote_cell_type": "code"
      },
      "source": "df.loc[2] #looks within index to find what matches the symbol/character 2",
      "execution_count": 17,
      "outputs": [
        {
          "output_type": "execute_result",
          "execution_count": 17,
          "data": {
            "text/plain": "country      Afghanistan\ncontinent           Asia\nyear                1962\nlifeExp           31.997\npop             10267083\ngdpPercap      853.10071\nName: 2, dtype: object"
          },
          "metadata": {}
        }
      ]
    },
    {
      "cell_type": "code",
      "metadata": {
        "tags": [],
        "cell_id": "00020-7d310749-c5ba-4adc-8c22-715072760bd9",
        "deepnote_to_be_reexecuted": false,
        "source_hash": "c774e966",
        "execution_start": 1620248783426,
        "execution_millis": 40,
        "deepnote_cell_type": "code"
      },
      "source": "df.loc[[2, 0]] #list object ",
      "execution_count": 18,
      "outputs": [
        {
          "output_type": "execute_result",
          "execution_count": 18,
          "data": {
            "application/vnd.deepnote.dataframe.v2+json": {
              "row_count": 2,
              "column_count": 6,
              "columns": [
                {
                  "name": "country",
                  "dtype": "object",
                  "stats": {
                    "unique_count": 1,
                    "nan_count": 0,
                    "categories": [
                      {
                        "name": "Afghanistan",
                        "count": 2
                      }
                    ]
                  }
                },
                {
                  "name": "continent",
                  "dtype": "object",
                  "stats": {
                    "unique_count": 1,
                    "nan_count": 0,
                    "categories": [
                      {
                        "name": "Asia",
                        "count": 2
                      }
                    ]
                  }
                },
                {
                  "name": "year",
                  "dtype": "int64",
                  "stats": {
                    "unique_count": 2,
                    "nan_count": 0,
                    "min": "1952",
                    "max": "1962",
                    "histogram": [
                      {
                        "bin_start": 1952,
                        "bin_end": 1953,
                        "count": 1
                      },
                      {
                        "bin_start": 1953,
                        "bin_end": 1954,
                        "count": 0
                      },
                      {
                        "bin_start": 1954,
                        "bin_end": 1955,
                        "count": 0
                      },
                      {
                        "bin_start": 1955,
                        "bin_end": 1956,
                        "count": 0
                      },
                      {
                        "bin_start": 1956,
                        "bin_end": 1957,
                        "count": 0
                      },
                      {
                        "bin_start": 1957,
                        "bin_end": 1958,
                        "count": 0
                      },
                      {
                        "bin_start": 1958,
                        "bin_end": 1959,
                        "count": 0
                      },
                      {
                        "bin_start": 1959,
                        "bin_end": 1960,
                        "count": 0
                      },
                      {
                        "bin_start": 1960,
                        "bin_end": 1961,
                        "count": 0
                      },
                      {
                        "bin_start": 1961,
                        "bin_end": 1962,
                        "count": 1
                      }
                    ]
                  }
                },
                {
                  "name": "lifeExp",
                  "dtype": "float64",
                  "stats": {
                    "unique_count": 2,
                    "nan_count": 0,
                    "min": "28.801",
                    "max": "31.997",
                    "histogram": [
                      {
                        "bin_start": 28.801,
                        "bin_end": 29.1206,
                        "count": 1
                      },
                      {
                        "bin_start": 29.1206,
                        "bin_end": 29.440199999999997,
                        "count": 0
                      },
                      {
                        "bin_start": 29.440199999999997,
                        "bin_end": 29.7598,
                        "count": 0
                      },
                      {
                        "bin_start": 29.7598,
                        "bin_end": 30.0794,
                        "count": 0
                      },
                      {
                        "bin_start": 30.0794,
                        "bin_end": 30.399,
                        "count": 0
                      },
                      {
                        "bin_start": 30.399,
                        "bin_end": 30.7186,
                        "count": 0
                      },
                      {
                        "bin_start": 30.7186,
                        "bin_end": 31.0382,
                        "count": 0
                      },
                      {
                        "bin_start": 31.0382,
                        "bin_end": 31.3578,
                        "count": 0
                      },
                      {
                        "bin_start": 31.3578,
                        "bin_end": 31.6774,
                        "count": 0
                      },
                      {
                        "bin_start": 31.6774,
                        "bin_end": 31.997,
                        "count": 1
                      }
                    ]
                  }
                },
                {
                  "name": "pop",
                  "dtype": "int64",
                  "stats": {
                    "unique_count": 2,
                    "nan_count": 0,
                    "min": "8425333",
                    "max": "10267083",
                    "histogram": [
                      {
                        "bin_start": 8425333,
                        "bin_end": 8609508,
                        "count": 1
                      },
                      {
                        "bin_start": 8609508,
                        "bin_end": 8793683,
                        "count": 0
                      },
                      {
                        "bin_start": 8793683,
                        "bin_end": 8977858,
                        "count": 0
                      },
                      {
                        "bin_start": 8977858,
                        "bin_end": 9162033,
                        "count": 0
                      },
                      {
                        "bin_start": 9162033,
                        "bin_end": 9346208,
                        "count": 0
                      },
                      {
                        "bin_start": 9346208,
                        "bin_end": 9530383,
                        "count": 0
                      },
                      {
                        "bin_start": 9530383,
                        "bin_end": 9714558,
                        "count": 0
                      },
                      {
                        "bin_start": 9714558,
                        "bin_end": 9898733,
                        "count": 0
                      },
                      {
                        "bin_start": 9898733,
                        "bin_end": 10082908,
                        "count": 0
                      },
                      {
                        "bin_start": 10082908,
                        "bin_end": 10267083,
                        "count": 1
                      }
                    ]
                  }
                },
                {
                  "name": "gdpPercap",
                  "dtype": "float64",
                  "stats": {
                    "unique_count": 2,
                    "nan_count": 0,
                    "min": "779.4453145",
                    "max": "853.10071",
                    "histogram": [
                      {
                        "bin_start": 779.4453145,
                        "bin_end": 786.81085405,
                        "count": 1
                      },
                      {
                        "bin_start": 786.81085405,
                        "bin_end": 794.1763936,
                        "count": 0
                      },
                      {
                        "bin_start": 794.1763936,
                        "bin_end": 801.54193315,
                        "count": 0
                      },
                      {
                        "bin_start": 801.54193315,
                        "bin_end": 808.9074727,
                        "count": 0
                      },
                      {
                        "bin_start": 808.9074727,
                        "bin_end": 816.27301225,
                        "count": 0
                      },
                      {
                        "bin_start": 816.27301225,
                        "bin_end": 823.6385518000001,
                        "count": 0
                      },
                      {
                        "bin_start": 823.6385518000001,
                        "bin_end": 831.0040913500001,
                        "count": 0
                      },
                      {
                        "bin_start": 831.0040913500001,
                        "bin_end": 838.3696309000001,
                        "count": 0
                      },
                      {
                        "bin_start": 838.3696309000001,
                        "bin_end": 845.73517045,
                        "count": 0
                      },
                      {
                        "bin_start": 845.73517045,
                        "bin_end": 853.10071,
                        "count": 1
                      }
                    ]
                  }
                },
                {
                  "name": "_deepnote_index_column",
                  "dtype": "int64"
                }
              ],
              "rows_top": [
                {
                  "country": "Afghanistan",
                  "continent": "Asia",
                  "year": 1962,
                  "lifeExp": 31.997,
                  "pop": 10267083,
                  "gdpPercap": 853.10071,
                  "_deepnote_index_column": 2
                },
                {
                  "country": "Afghanistan",
                  "continent": "Asia",
                  "year": 1952,
                  "lifeExp": 28.801,
                  "pop": 8425333,
                  "gdpPercap": 779.4453145,
                  "_deepnote_index_column": 0
                }
              ],
              "rows_bottom": null
            },
            "text/plain": "       country continent  year  lifeExp       pop   gdpPercap\n2  Afghanistan      Asia  1962   31.997  10267083  853.100710\n0  Afghanistan      Asia  1952   28.801   8425333  779.445314",
            "text/html": "<div>\n<style scoped>\n    .dataframe tbody tr th:only-of-type {\n        vertical-align: middle;\n    }\n\n    .dataframe tbody tr th {\n        vertical-align: top;\n    }\n\n    .dataframe thead th {\n        text-align: right;\n    }\n</style>\n<table border=\"1\" class=\"dataframe\">\n  <thead>\n    <tr style=\"text-align: right;\">\n      <th></th>\n      <th>country</th>\n      <th>continent</th>\n      <th>year</th>\n      <th>lifeExp</th>\n      <th>pop</th>\n      <th>gdpPercap</th>\n    </tr>\n  </thead>\n  <tbody>\n    <tr>\n      <th>2</th>\n      <td>Afghanistan</td>\n      <td>Asia</td>\n      <td>1962</td>\n      <td>31.997</td>\n      <td>10267083</td>\n      <td>853.100710</td>\n    </tr>\n    <tr>\n      <th>0</th>\n      <td>Afghanistan</td>\n      <td>Asia</td>\n      <td>1952</td>\n      <td>28.801</td>\n      <td>8425333</td>\n      <td>779.445314</td>\n    </tr>\n  </tbody>\n</table>\n</div>"
          },
          "metadata": {}
        }
      ]
    },
    {
      "cell_type": "code",
      "metadata": {
        "tags": [],
        "cell_id": "00021-10a6c3ed-1a88-4bf1-9389-0d381fd6d3c5",
        "deepnote_to_be_reexecuted": false,
        "source_hash": "47bef14b",
        "execution_start": 1620248783460,
        "execution_millis": 1,
        "deepnote_cell_type": "code"
      },
      "source": "df.iloc[2] #i stands for index",
      "execution_count": 19,
      "outputs": [
        {
          "output_type": "execute_result",
          "execution_count": 19,
          "data": {
            "text/plain": "country      Afghanistan\ncontinent           Asia\nyear                1962\nlifeExp           31.997\npop             10267083\ngdpPercap      853.10071\nName: 2, dtype: object"
          },
          "metadata": {}
        }
      ]
    },
    {
      "cell_type": "code",
      "metadata": {
        "tags": [],
        "cell_id": "00022-9f42942a-106c-44eb-bf1b-9fc376c30dab",
        "deepnote_to_be_reexecuted": false,
        "source_hash": "489ea47b",
        "execution_start": 1620248783507,
        "execution_millis": 3,
        "deepnote_cell_type": "code"
      },
      "source": "# df.ix[2] not a good subset method",
      "execution_count": 20,
      "outputs": []
    },
    {
      "cell_type": "code",
      "metadata": {
        "tags": [],
        "cell_id": "00023-2173fccf-d2ae-4d28-a14e-80078a4b9c4c",
        "deepnote_to_be_reexecuted": false,
        "source_hash": "abad7fd3",
        "execution_start": 1620248783508,
        "execution_millis": 0,
        "deepnote_cell_type": "code"
      },
      "source": "subset2 = df.loc[:, ['year','pop']] #[rows, columns]",
      "execution_count": 21,
      "outputs": []
    },
    {
      "cell_type": "code",
      "metadata": {
        "tags": [],
        "cell_id": "00024-91c48a39-fa5e-4c2f-b8f9-527016cb50f7",
        "deepnote_to_be_reexecuted": false,
        "source_hash": "df2c0b17",
        "execution_start": 1620248783509,
        "execution_millis": 8,
        "deepnote_cell_type": "code"
      },
      "source": "subset2.head()",
      "execution_count": 22,
      "outputs": [
        {
          "output_type": "execute_result",
          "execution_count": 22,
          "data": {
            "application/vnd.deepnote.dataframe.v2+json": {
              "row_count": 5,
              "column_count": 2,
              "columns": [
                {
                  "name": "year",
                  "dtype": "int64",
                  "stats": {
                    "unique_count": 5,
                    "nan_count": 0,
                    "min": "1952",
                    "max": "1972",
                    "histogram": [
                      {
                        "bin_start": 1952,
                        "bin_end": 1954,
                        "count": 1
                      },
                      {
                        "bin_start": 1954,
                        "bin_end": 1956,
                        "count": 0
                      },
                      {
                        "bin_start": 1956,
                        "bin_end": 1958,
                        "count": 1
                      },
                      {
                        "bin_start": 1958,
                        "bin_end": 1960,
                        "count": 0
                      },
                      {
                        "bin_start": 1960,
                        "bin_end": 1962,
                        "count": 0
                      },
                      {
                        "bin_start": 1962,
                        "bin_end": 1964,
                        "count": 1
                      },
                      {
                        "bin_start": 1964,
                        "bin_end": 1966,
                        "count": 0
                      },
                      {
                        "bin_start": 1966,
                        "bin_end": 1968,
                        "count": 1
                      },
                      {
                        "bin_start": 1968,
                        "bin_end": 1970,
                        "count": 0
                      },
                      {
                        "bin_start": 1970,
                        "bin_end": 1972,
                        "count": 1
                      }
                    ]
                  }
                },
                {
                  "name": "pop",
                  "dtype": "int64",
                  "stats": {
                    "unique_count": 5,
                    "nan_count": 0,
                    "min": "8425333",
                    "max": "13079460",
                    "histogram": [
                      {
                        "bin_start": 8425333,
                        "bin_end": 8890745.7,
                        "count": 1
                      },
                      {
                        "bin_start": 8890745.7,
                        "bin_end": 9356158.4,
                        "count": 1
                      },
                      {
                        "bin_start": 9356158.4,
                        "bin_end": 9821571.1,
                        "count": 0
                      },
                      {
                        "bin_start": 9821571.1,
                        "bin_end": 10286983.8,
                        "count": 1
                      },
                      {
                        "bin_start": 10286983.8,
                        "bin_end": 10752396.5,
                        "count": 0
                      },
                      {
                        "bin_start": 10752396.5,
                        "bin_end": 11217809.2,
                        "count": 0
                      },
                      {
                        "bin_start": 11217809.2,
                        "bin_end": 11683221.9,
                        "count": 1
                      },
                      {
                        "bin_start": 11683221.9,
                        "bin_end": 12148634.6,
                        "count": 0
                      },
                      {
                        "bin_start": 12148634.6,
                        "bin_end": 12614047.3,
                        "count": 0
                      },
                      {
                        "bin_start": 12614047.3,
                        "bin_end": 13079460,
                        "count": 1
                      }
                    ]
                  }
                },
                {
                  "name": "_deepnote_index_column",
                  "dtype": "int64"
                }
              ],
              "rows_top": [
                {
                  "year": 1952,
                  "pop": 8425333,
                  "_deepnote_index_column": 0
                },
                {
                  "year": 1957,
                  "pop": 9240934,
                  "_deepnote_index_column": 1
                },
                {
                  "year": 1962,
                  "pop": 10267083,
                  "_deepnote_index_column": 2
                },
                {
                  "year": 1967,
                  "pop": 11537966,
                  "_deepnote_index_column": 3
                },
                {
                  "year": 1972,
                  "pop": 13079460,
                  "_deepnote_index_column": 4
                }
              ],
              "rows_bottom": null
            },
            "text/plain": "   year       pop\n0  1952   8425333\n1  1957   9240934\n2  1962  10267083\n3  1967  11537966\n4  1972  13079460",
            "text/html": "<div>\n<style scoped>\n    .dataframe tbody tr th:only-of-type {\n        vertical-align: middle;\n    }\n\n    .dataframe tbody tr th {\n        vertical-align: top;\n    }\n\n    .dataframe thead th {\n        text-align: right;\n    }\n</style>\n<table border=\"1\" class=\"dataframe\">\n  <thead>\n    <tr style=\"text-align: right;\">\n      <th></th>\n      <th>year</th>\n      <th>pop</th>\n    </tr>\n  </thead>\n  <tbody>\n    <tr>\n      <th>0</th>\n      <td>1952</td>\n      <td>8425333</td>\n    </tr>\n    <tr>\n      <th>1</th>\n      <td>1957</td>\n      <td>9240934</td>\n    </tr>\n    <tr>\n      <th>2</th>\n      <td>1962</td>\n      <td>10267083</td>\n    </tr>\n    <tr>\n      <th>3</th>\n      <td>1967</td>\n      <td>11537966</td>\n    </tr>\n    <tr>\n      <th>4</th>\n      <td>1972</td>\n      <td>13079460</td>\n    </tr>\n  </tbody>\n</table>\n</div>"
          },
          "metadata": {}
        }
      ]
    },
    {
      "cell_type": "code",
      "metadata": {
        "tags": [],
        "cell_id": "00025-4dd996f9-7113-4f0a-a420-7b55390c5b98",
        "deepnote_to_be_reexecuted": false,
        "source_hash": "82c7939a",
        "execution_start": 1620248783513,
        "execution_millis": 24,
        "deepnote_cell_type": "code"
      },
      "source": "df.loc[df['year'] == 1967, ['year','pop']]",
      "execution_count": 23,
      "outputs": [
        {
          "output_type": "execute_result",
          "execution_count": 23,
          "data": {
            "application/vnd.deepnote.dataframe.v2+json": {
              "row_count": 142,
              "column_count": 2,
              "columns": [
                {
                  "name": "year",
                  "dtype": "int64",
                  "stats": {
                    "unique_count": 1,
                    "nan_count": 0,
                    "min": "1967",
                    "max": "1967",
                    "histogram": [
                      {
                        "bin_start": 1966.5,
                        "bin_end": 1966.6,
                        "count": 0
                      },
                      {
                        "bin_start": 1966.6,
                        "bin_end": 1966.7,
                        "count": 0
                      },
                      {
                        "bin_start": 1966.7,
                        "bin_end": 1966.8,
                        "count": 0
                      },
                      {
                        "bin_start": 1966.8,
                        "bin_end": 1966.9,
                        "count": 0
                      },
                      {
                        "bin_start": 1966.9,
                        "bin_end": 1967,
                        "count": 0
                      },
                      {
                        "bin_start": 1967,
                        "bin_end": 1967.1,
                        "count": 142
                      },
                      {
                        "bin_start": 1967.1,
                        "bin_end": 1967.2,
                        "count": 0
                      },
                      {
                        "bin_start": 1967.2,
                        "bin_end": 1967.3,
                        "count": 0
                      },
                      {
                        "bin_start": 1967.3,
                        "bin_end": 1967.4,
                        "count": 0
                      },
                      {
                        "bin_start": 1967.4,
                        "bin_end": 1967.5,
                        "count": 0
                      }
                    ]
                  }
                },
                {
                  "name": "pop",
                  "dtype": "int64",
                  "stats": {
                    "unique_count": 142,
                    "nan_count": 0,
                    "min": "70787",
                    "max": "754550000",
                    "histogram": [
                      {
                        "bin_start": 70787,
                        "bin_end": 75518708.3,
                        "count": 135
                      },
                      {
                        "bin_start": 75518708.3,
                        "bin_end": 150966629.6,
                        "count": 4
                      },
                      {
                        "bin_start": 150966629.6,
                        "bin_end": 226414550.89999998,
                        "count": 1
                      },
                      {
                        "bin_start": 226414550.89999998,
                        "bin_end": 301862472.2,
                        "count": 0
                      },
                      {
                        "bin_start": 301862472.2,
                        "bin_end": 377310393.5,
                        "count": 0
                      },
                      {
                        "bin_start": 377310393.5,
                        "bin_end": 452758314.79999995,
                        "count": 0
                      },
                      {
                        "bin_start": 452758314.79999995,
                        "bin_end": 528206236.09999996,
                        "count": 1
                      },
                      {
                        "bin_start": 528206236.09999996,
                        "bin_end": 603654157.4,
                        "count": 0
                      },
                      {
                        "bin_start": 603654157.4,
                        "bin_end": 679102078.6999999,
                        "count": 0
                      },
                      {
                        "bin_start": 679102078.6999999,
                        "bin_end": 754550000,
                        "count": 1
                      }
                    ]
                  }
                },
                {
                  "name": "_deepnote_index_column",
                  "dtype": "int64"
                }
              ],
              "rows_top": [
                {
                  "year": 1967,
                  "pop": 11537966,
                  "_deepnote_index_column": 3
                },
                {
                  "year": 1967,
                  "pop": 1984060,
                  "_deepnote_index_column": 15
                },
                {
                  "year": 1967,
                  "pop": 12760499,
                  "_deepnote_index_column": 27
                },
                {
                  "year": 1967,
                  "pop": 5247469,
                  "_deepnote_index_column": 39
                },
                {
                  "year": 1967,
                  "pop": 22934225,
                  "_deepnote_index_column": 51
                },
                {
                  "year": 1967,
                  "pop": 11872264,
                  "_deepnote_index_column": 63
                },
                {
                  "year": 1967,
                  "pop": 7376998,
                  "_deepnote_index_column": 75
                },
                {
                  "year": 1967,
                  "pop": 202182,
                  "_deepnote_index_column": 87
                },
                {
                  "year": 1967,
                  "pop": 62821884,
                  "_deepnote_index_column": 99
                },
                {
                  "year": 1967,
                  "pop": 9556500,
                  "_deepnote_index_column": 111
                },
                {
                  "year": 1967,
                  "pop": 2427334,
                  "_deepnote_index_column": 123
                },
                {
                  "year": 1967,
                  "pop": 4040665,
                  "_deepnote_index_column": 135
                },
                {
                  "year": 1967,
                  "pop": 3585000,
                  "_deepnote_index_column": 147
                },
                {
                  "year": 1967,
                  "pop": 553541,
                  "_deepnote_index_column": 159
                },
                {
                  "year": 1967,
                  "pop": 88049823,
                  "_deepnote_index_column": 171
                },
                {
                  "year": 1967,
                  "pop": 8310226,
                  "_deepnote_index_column": 183
                },
                {
                  "year": 1967,
                  "pop": 5127935,
                  "_deepnote_index_column": 195
                },
                {
                  "year": 1967,
                  "pop": 3330989,
                  "_deepnote_index_column": 207
                },
                {
                  "year": 1967,
                  "pop": 6960067,
                  "_deepnote_index_column": 219
                },
                {
                  "year": 1967,
                  "pop": 6335506,
                  "_deepnote_index_column": 231
                },
                {
                  "year": 1967,
                  "pop": 20819767,
                  "_deepnote_index_column": 243
                },
                {
                  "year": 1967,
                  "pop": 1733638,
                  "_deepnote_index_column": 255
                },
                {
                  "year": 1967,
                  "pop": 3495967,
                  "_deepnote_index_column": 267
                },
                {
                  "year": 1967,
                  "pop": 8858908,
                  "_deepnote_index_column": 279
                },
                {
                  "year": 1967,
                  "pop": 754550000,
                  "_deepnote_index_column": 291
                },
                {
                  "year": 1967,
                  "pop": 19764027,
                  "_deepnote_index_column": 303
                },
                {
                  "year": 1967,
                  "pop": 217378,
                  "_deepnote_index_column": 315
                },
                {
                  "year": 1967,
                  "pop": 19941073,
                  "_deepnote_index_column": 327
                },
                {
                  "year": 1967,
                  "pop": 1179760,
                  "_deepnote_index_column": 339
                },
                {
                  "year": 1967,
                  "pop": 1588717,
                  "_deepnote_index_column": 351
                },
                {
                  "year": 1967,
                  "pop": 4744870,
                  "_deepnote_index_column": 363
                },
                {
                  "year": 1967,
                  "pop": 4174366,
                  "_deepnote_index_column": 375
                },
                {
                  "year": 1967,
                  "pop": 8139332,
                  "_deepnote_index_column": 387
                },
                {
                  "year": 1967,
                  "pop": 9835109,
                  "_deepnote_index_column": 399
                },
                {
                  "year": 1967,
                  "pop": 4838800,
                  "_deepnote_index_column": 411
                },
                {
                  "year": 1967,
                  "pop": 127617,
                  "_deepnote_index_column": 423
                },
                {
                  "year": 1967,
                  "pop": 4049146,
                  "_deepnote_index_column": 435
                },
                {
                  "year": 1967,
                  "pop": 5432424,
                  "_deepnote_index_column": 447
                },
                {
                  "year": 1967,
                  "pop": 31681188,
                  "_deepnote_index_column": 459
                },
                {
                  "year": 1967,
                  "pop": 3232927,
                  "_deepnote_index_column": 471
                },
                {
                  "year": 1967,
                  "pop": 259864,
                  "_deepnote_index_column": 483
                },
                {
                  "year": 1967,
                  "pop": 1820319,
                  "_deepnote_index_column": 495
                },
                {
                  "year": 1967,
                  "pop": 27860297,
                  "_deepnote_index_column": 507
                },
                {
                  "year": 1967,
                  "pop": 4605744,
                  "_deepnote_index_column": 519
                },
                {
                  "year": 1967,
                  "pop": 49569000,
                  "_deepnote_index_column": 531
                },
                {
                  "year": 1967,
                  "pop": 489004,
                  "_deepnote_index_column": 543
                },
                {
                  "year": 1967,
                  "pop": 439593,
                  "_deepnote_index_column": 555
                },
                {
                  "year": 1967,
                  "pop": 76368453,
                  "_deepnote_index_column": 567
                },
                {
                  "year": 1967,
                  "pop": 8490213,
                  "_deepnote_index_column": 579
                },
                {
                  "year": 1967,
                  "pop": 8716441,
                  "_deepnote_index_column": 591
                },
                {
                  "year": 1967,
                  "pop": 4690773,
                  "_deepnote_index_column": 603
                },
                {
                  "year": 1967,
                  "pop": 3451418,
                  "_deepnote_index_column": 615
                },
                {
                  "year": 1967,
                  "pop": 601287,
                  "_deepnote_index_column": 627
                },
                {
                  "year": 1967,
                  "pop": 4318137,
                  "_deepnote_index_column": 639
                },
                {
                  "year": 1967,
                  "pop": 2500689,
                  "_deepnote_index_column": 651
                },
                {
                  "year": 1967,
                  "pop": 3722800,
                  "_deepnote_index_column": 663
                },
                {
                  "year": 1967,
                  "pop": 10223422,
                  "_deepnote_index_column": 675
                },
                {
                  "year": 1967,
                  "pop": 198676,
                  "_deepnote_index_column": 687
                },
                {
                  "year": 1967,
                  "pop": 506000000,
                  "_deepnote_index_column": 699
                },
                {
                  "year": 1967,
                  "pop": 109343000,
                  "_deepnote_index_column": 711
                },
                {
                  "year": 1967,
                  "pop": 26538000,
                  "_deepnote_index_column": 723
                },
                {
                  "year": 1967,
                  "pop": 8519282,
                  "_deepnote_index_column": 735
                },
                {
                  "year": 1967,
                  "pop": 2900100,
                  "_deepnote_index_column": 747
                },
                {
                  "year": 1967,
                  "pop": 2693585,
                  "_deepnote_index_column": 759
                },
                {
                  "year": 1967,
                  "pop": 52667100,
                  "_deepnote_index_column": 771
                },
                {
                  "year": 1967,
                  "pop": 1861096,
                  "_deepnote_index_column": 783
                },
                {
                  "year": 1967,
                  "pop": 100825279,
                  "_deepnote_index_column": 795
                },
                {
                  "year": 1967,
                  "pop": 1255058,
                  "_deepnote_index_column": 807
                },
                {
                  "year": 1967,
                  "pop": 10191512,
                  "_deepnote_index_column": 819
                },
                {
                  "year": 1967,
                  "pop": 12617009,
                  "_deepnote_index_column": 831
                },
                {
                  "year": 1967,
                  "pop": 30131000,
                  "_deepnote_index_column": 843
                },
                {
                  "year": 1967,
                  "pop": 575003,
                  "_deepnote_index_column": 855
                },
                {
                  "year": 1967,
                  "pop": 2186894,
                  "_deepnote_index_column": 867
                },
                {
                  "year": 1967,
                  "pop": 996380,
                  "_deepnote_index_column": 879
                },
                {
                  "year": 1967,
                  "pop": 1279406,
                  "_deepnote_index_column": 891
                },
                {
                  "year": 1967,
                  "pop": 1759224,
                  "_deepnote_index_column": 903
                },
                {
                  "year": 1967,
                  "pop": 6334556,
                  "_deepnote_index_column": 915
                },
                {
                  "year": 1967,
                  "pop": 4147252,
                  "_deepnote_index_column": 927
                },
                {
                  "year": 1967,
                  "pop": 10154878,
                  "_deepnote_index_column": 939
                },
                {
                  "year": 1967,
                  "pop": 5212416,
                  "_deepnote_index_column": 951
                },
                {
                  "year": 1967,
                  "pop": 1230542,
                  "_deepnote_index_column": 963
                },
                {
                  "year": 1967,
                  "pop": 789309,
                  "_deepnote_index_column": 975
                },
                {
                  "year": 1967,
                  "pop": 47995559,
                  "_deepnote_index_column": 987
                },
                {
                  "year": 1967,
                  "pop": 1149500,
                  "_deepnote_index_column": 999
                },
                {
                  "year": 1967,
                  "pop": 501035,
                  "_deepnote_index_column": 1011
                },
                {
                  "year": 1967,
                  "pop": 14770296,
                  "_deepnote_index_column": 1023
                },
                {
                  "year": 1967,
                  "pop": 8680909,
                  "_deepnote_index_column": 1035
                },
                {
                  "year": 1967,
                  "pop": 25870271,
                  "_deepnote_index_column": 1047
                },
                {
                  "year": 1967,
                  "pop": 706640,
                  "_deepnote_index_column": 1059
                },
                {
                  "year": 1967,
                  "pop": 11261690,
                  "_deepnote_index_column": 1071
                },
                {
                  "year": 1967,
                  "pop": 12596822,
                  "_deepnote_index_column": 1083
                },
                {
                  "year": 1967,
                  "pop": 2728150,
                  "_deepnote_index_column": 1095
                },
                {
                  "year": 1967,
                  "pop": 1865490,
                  "_deepnote_index_column": 1107
                },
                {
                  "year": 1967,
                  "pop": 4534062,
                  "_deepnote_index_column": 1119
                },
                {
                  "year": 1967,
                  "pop": 47287752,
                  "_deepnote_index_column": 1131
                },
                {
                  "year": 1967,
                  "pop": 3786019,
                  "_deepnote_index_column": 1143
                },
                {
                  "year": 1967,
                  "pop": 714775,
                  "_deepnote_index_column": 1155
                },
                {
                  "year": 1967,
                  "pop": 60641899,
                  "_deepnote_index_column": 1167
                },
                {
                  "year": 1967,
                  "pop": 1405486,
                  "_deepnote_index_column": 1179
                },
                {
                  "year": 1967,
                  "pop": 2287985,
                  "_deepnote_index_column": 1191
                },
                {
                  "year": 1967,
                  "pop": 12132200,
                  "_deepnote_index_column": 1203
                },
                {
                  "year": 1967,
                  "pop": 35356600,
                  "_deepnote_index_column": 1215
                },
                {
                  "year": 1967,
                  "pop": 31785378,
                  "_deepnote_index_column": 1227
                },
                {
                  "year": 1967,
                  "pop": 9103000,
                  "_deepnote_index_column": 1239
                },
                {
                  "year": 1967,
                  "pop": 2648961,
                  "_deepnote_index_column": 1251
                },
                {
                  "year": 1967,
                  "pop": 414024,
                  "_deepnote_index_column": 1263
                },
                {
                  "year": 1967,
                  "pop": 19284814,
                  "_deepnote_index_column": 1275
                },
                {
                  "year": 1967,
                  "pop": 3451079,
                  "_deepnote_index_column": 1287
                },
                {
                  "year": 1967,
                  "pop": 70787,
                  "_deepnote_index_column": 1299
                },
                {
                  "year": 1967,
                  "pop": 5618198,
                  "_deepnote_index_column": 1311
                },
                {
                  "year": 1967,
                  "pop": 3965841,
                  "_deepnote_index_column": 1323
                },
                {
                  "year": 1967,
                  "pop": 7971222,
                  "_deepnote_index_column": 1335
                },
                {
                  "year": 1967,
                  "pop": 2662190,
                  "_deepnote_index_column": 1347
                },
                {
                  "year": 1967,
                  "pop": 1977600,
                  "_deepnote_index_column": 1359
                },
                {
                  "year": 1967,
                  "pop": 4442238,
                  "_deepnote_index_column": 1371
                },
                {
                  "year": 1967,
                  "pop": 1646912,
                  "_deepnote_index_column": 1383
                },
                {
                  "year": 1967,
                  "pop": 3428839,
                  "_deepnote_index_column": 1395
                },
                {
                  "year": 1967,
                  "pop": 20997321,
                  "_deepnote_index_column": 1407
                },
                {
                  "year": 1967,
                  "pop": 32850275,
                  "_deepnote_index_column": 1419
                },
                {
                  "year": 1967,
                  "pop": 11737396,
                  "_deepnote_index_column": 1431
                },
                {
                  "year": 1967,
                  "pop": 12716129,
                  "_deepnote_index_column": 1443
                },
                {
                  "year": 1967,
                  "pop": 420690,
                  "_deepnote_index_column": 1455
                },
                {
                  "year": 1967,
                  "pop": 7867931,
                  "_deepnote_index_column": 1467
                },
                {
                  "year": 1967,
                  "pop": 6063000,
                  "_deepnote_index_column": 1479
                },
                {
                  "year": 1967,
                  "pop": 5680812,
                  "_deepnote_index_column": 1491
                },
                {
                  "year": 1967,
                  "pop": 13648692,
                  "_deepnote_index_column": 1503
                },
                {
                  "year": 1967,
                  "pop": 12607312,
                  "_deepnote_index_column": 1515
                },
                {
                  "year": 1967,
                  "pop": 34024249,
                  "_deepnote_index_column": 1527
                },
                {
                  "year": 1967,
                  "pop": 1735550,
                  "_deepnote_index_column": 1539
                },
                {
                  "year": 1967,
                  "pop": 960155,
                  "_deepnote_index_column": 1551
                },
                {
                  "year": 1967,
                  "pop": 4786986,
                  "_deepnote_index_column": 1563
                },
                {
                  "year": 1967,
                  "pop": 33411317,
                  "_deepnote_index_column": 1575
                },
                {
                  "year": 1967,
                  "pop": 8900294,
                  "_deepnote_index_column": 1587
                },
                {
                  "year": 1967,
                  "pop": 54959000,
                  "_deepnote_index_column": 1599
                },
                {
                  "year": 1967,
                  "pop": 198712000,
                  "_deepnote_index_column": 1611
                },
                {
                  "year": 1967,
                  "pop": 2748579,
                  "_deepnote_index_column": 1623
                },
                {
                  "year": 1967,
                  "pop": 9709552,
                  "_deepnote_index_column": 1635
                },
                {
                  "year": 1967,
                  "pop": 39463910,
                  "_deepnote_index_column": 1647
                },
                {
                  "year": 1967,
                  "pop": 1142636,
                  "_deepnote_index_column": 1659
                },
                {
                  "year": 1967,
                  "pop": 6740785,
                  "_deepnote_index_column": 1671
                },
                {
                  "year": 1967,
                  "pop": 3900000,
                  "_deepnote_index_column": 1683
                },
                {
                  "year": 1967,
                  "pop": 4995432,
                  "_deepnote_index_column": 1695
                }
              ],
              "rows_bottom": null
            },
            "text/plain": "      year       pop\n3     1967  11537966\n15    1967   1984060\n27    1967  12760499\n39    1967   5247469\n51    1967  22934225\n...    ...       ...\n1647  1967  39463910\n1659  1967   1142636\n1671  1967   6740785\n1683  1967   3900000\n1695  1967   4995432\n\n[142 rows x 2 columns]",
            "text/html": "<div>\n<style scoped>\n    .dataframe tbody tr th:only-of-type {\n        vertical-align: middle;\n    }\n\n    .dataframe tbody tr th {\n        vertical-align: top;\n    }\n\n    .dataframe thead th {\n        text-align: right;\n    }\n</style>\n<table border=\"1\" class=\"dataframe\">\n  <thead>\n    <tr style=\"text-align: right;\">\n      <th></th>\n      <th>year</th>\n      <th>pop</th>\n    </tr>\n  </thead>\n  <tbody>\n    <tr>\n      <th>3</th>\n      <td>1967</td>\n      <td>11537966</td>\n    </tr>\n    <tr>\n      <th>15</th>\n      <td>1967</td>\n      <td>1984060</td>\n    </tr>\n    <tr>\n      <th>27</th>\n      <td>1967</td>\n      <td>12760499</td>\n    </tr>\n    <tr>\n      <th>39</th>\n      <td>1967</td>\n      <td>5247469</td>\n    </tr>\n    <tr>\n      <th>51</th>\n      <td>1967</td>\n      <td>22934225</td>\n    </tr>\n    <tr>\n      <th>...</th>\n      <td>...</td>\n      <td>...</td>\n    </tr>\n    <tr>\n      <th>1647</th>\n      <td>1967</td>\n      <td>39463910</td>\n    </tr>\n    <tr>\n      <th>1659</th>\n      <td>1967</td>\n      <td>1142636</td>\n    </tr>\n    <tr>\n      <th>1671</th>\n      <td>1967</td>\n      <td>6740785</td>\n    </tr>\n    <tr>\n      <th>1683</th>\n      <td>1967</td>\n      <td>3900000</td>\n    </tr>\n    <tr>\n      <th>1695</th>\n      <td>1967</td>\n      <td>4995432</td>\n    </tr>\n  </tbody>\n</table>\n<p>142 rows × 2 columns</p>\n</div>"
          },
          "metadata": {}
        }
      ]
    },
    {
      "cell_type": "code",
      "metadata": {
        "tags": [],
        "cell_id": "00026-41bf3299-ac0e-4a36-bada-31e6f3beeb55",
        "deepnote_to_be_reexecuted": false,
        "source_hash": "64eb96dd",
        "execution_start": 1620248783569,
        "execution_millis": 12,
        "deepnote_cell_type": "code"
      },
      "source": "df.loc[(df['year'] == 1967) & (df['pop'] > 1_000_000), ['year','pop']]",
      "execution_count": 24,
      "outputs": [
        {
          "output_type": "execute_result",
          "execution_count": 24,
          "data": {
            "application/vnd.deepnote.dataframe.v2+json": {
              "row_count": 123,
              "column_count": 2,
              "columns": [
                {
                  "name": "year",
                  "dtype": "int64",
                  "stats": {
                    "unique_count": 1,
                    "nan_count": 0,
                    "min": "1967",
                    "max": "1967",
                    "histogram": [
                      {
                        "bin_start": 1966.5,
                        "bin_end": 1966.6,
                        "count": 0
                      },
                      {
                        "bin_start": 1966.6,
                        "bin_end": 1966.7,
                        "count": 0
                      },
                      {
                        "bin_start": 1966.7,
                        "bin_end": 1966.8,
                        "count": 0
                      },
                      {
                        "bin_start": 1966.8,
                        "bin_end": 1966.9,
                        "count": 0
                      },
                      {
                        "bin_start": 1966.9,
                        "bin_end": 1967,
                        "count": 0
                      },
                      {
                        "bin_start": 1967,
                        "bin_end": 1967.1,
                        "count": 123
                      },
                      {
                        "bin_start": 1967.1,
                        "bin_end": 1967.2,
                        "count": 0
                      },
                      {
                        "bin_start": 1967.2,
                        "bin_end": 1967.3,
                        "count": 0
                      },
                      {
                        "bin_start": 1967.3,
                        "bin_end": 1967.4,
                        "count": 0
                      },
                      {
                        "bin_start": 1967.4,
                        "bin_end": 1967.5,
                        "count": 0
                      }
                    ]
                  }
                },
                {
                  "name": "pop",
                  "dtype": "int64",
                  "stats": {
                    "unique_count": 123,
                    "nan_count": 0,
                    "min": "1142636",
                    "max": "754550000",
                    "histogram": [
                      {
                        "bin_start": 1142636,
                        "bin_end": 76483372.4,
                        "count": 117
                      },
                      {
                        "bin_start": 76483372.4,
                        "bin_end": 151824108.8,
                        "count": 3
                      },
                      {
                        "bin_start": 151824108.8,
                        "bin_end": 227164845.20000002,
                        "count": 1
                      },
                      {
                        "bin_start": 227164845.20000002,
                        "bin_end": 302505581.6,
                        "count": 0
                      },
                      {
                        "bin_start": 302505581.6,
                        "bin_end": 377846318,
                        "count": 0
                      },
                      {
                        "bin_start": 377846318,
                        "bin_end": 453187054.40000004,
                        "count": 0
                      },
                      {
                        "bin_start": 453187054.40000004,
                        "bin_end": 528527790.8000001,
                        "count": 1
                      },
                      {
                        "bin_start": 528527790.8000001,
                        "bin_end": 603868527.2,
                        "count": 0
                      },
                      {
                        "bin_start": 603868527.2,
                        "bin_end": 679209263.6,
                        "count": 0
                      },
                      {
                        "bin_start": 679209263.6,
                        "bin_end": 754550000,
                        "count": 1
                      }
                    ]
                  }
                },
                {
                  "name": "_deepnote_index_column",
                  "dtype": "int64"
                }
              ],
              "rows_top": [
                {
                  "year": 1967,
                  "pop": 11537966,
                  "_deepnote_index_column": 3
                },
                {
                  "year": 1967,
                  "pop": 1984060,
                  "_deepnote_index_column": 15
                },
                {
                  "year": 1967,
                  "pop": 12760499,
                  "_deepnote_index_column": 27
                },
                {
                  "year": 1967,
                  "pop": 5247469,
                  "_deepnote_index_column": 39
                },
                {
                  "year": 1967,
                  "pop": 22934225,
                  "_deepnote_index_column": 51
                },
                {
                  "year": 1967,
                  "pop": 11872264,
                  "_deepnote_index_column": 63
                },
                {
                  "year": 1967,
                  "pop": 7376998,
                  "_deepnote_index_column": 75
                },
                {
                  "year": 1967,
                  "pop": 62821884,
                  "_deepnote_index_column": 99
                },
                {
                  "year": 1967,
                  "pop": 9556500,
                  "_deepnote_index_column": 111
                },
                {
                  "year": 1967,
                  "pop": 2427334,
                  "_deepnote_index_column": 123
                },
                {
                  "year": 1967,
                  "pop": 4040665,
                  "_deepnote_index_column": 135
                },
                {
                  "year": 1967,
                  "pop": 3585000,
                  "_deepnote_index_column": 147
                },
                {
                  "year": 1967,
                  "pop": 88049823,
                  "_deepnote_index_column": 171
                },
                {
                  "year": 1967,
                  "pop": 8310226,
                  "_deepnote_index_column": 183
                },
                {
                  "year": 1967,
                  "pop": 5127935,
                  "_deepnote_index_column": 195
                },
                {
                  "year": 1967,
                  "pop": 3330989,
                  "_deepnote_index_column": 207
                },
                {
                  "year": 1967,
                  "pop": 6960067,
                  "_deepnote_index_column": 219
                },
                {
                  "year": 1967,
                  "pop": 6335506,
                  "_deepnote_index_column": 231
                },
                {
                  "year": 1967,
                  "pop": 20819767,
                  "_deepnote_index_column": 243
                },
                {
                  "year": 1967,
                  "pop": 1733638,
                  "_deepnote_index_column": 255
                },
                {
                  "year": 1967,
                  "pop": 3495967,
                  "_deepnote_index_column": 267
                },
                {
                  "year": 1967,
                  "pop": 8858908,
                  "_deepnote_index_column": 279
                },
                {
                  "year": 1967,
                  "pop": 754550000,
                  "_deepnote_index_column": 291
                },
                {
                  "year": 1967,
                  "pop": 19764027,
                  "_deepnote_index_column": 303
                },
                {
                  "year": 1967,
                  "pop": 19941073,
                  "_deepnote_index_column": 327
                },
                {
                  "year": 1967,
                  "pop": 1179760,
                  "_deepnote_index_column": 339
                },
                {
                  "year": 1967,
                  "pop": 1588717,
                  "_deepnote_index_column": 351
                },
                {
                  "year": 1967,
                  "pop": 4744870,
                  "_deepnote_index_column": 363
                },
                {
                  "year": 1967,
                  "pop": 4174366,
                  "_deepnote_index_column": 375
                },
                {
                  "year": 1967,
                  "pop": 8139332,
                  "_deepnote_index_column": 387
                },
                {
                  "year": 1967,
                  "pop": 9835109,
                  "_deepnote_index_column": 399
                },
                {
                  "year": 1967,
                  "pop": 4838800,
                  "_deepnote_index_column": 411
                },
                {
                  "year": 1967,
                  "pop": 4049146,
                  "_deepnote_index_column": 435
                },
                {
                  "year": 1967,
                  "pop": 5432424,
                  "_deepnote_index_column": 447
                },
                {
                  "year": 1967,
                  "pop": 31681188,
                  "_deepnote_index_column": 459
                },
                {
                  "year": 1967,
                  "pop": 3232927,
                  "_deepnote_index_column": 471
                },
                {
                  "year": 1967,
                  "pop": 1820319,
                  "_deepnote_index_column": 495
                },
                {
                  "year": 1967,
                  "pop": 27860297,
                  "_deepnote_index_column": 507
                },
                {
                  "year": 1967,
                  "pop": 4605744,
                  "_deepnote_index_column": 519
                },
                {
                  "year": 1967,
                  "pop": 49569000,
                  "_deepnote_index_column": 531
                },
                {
                  "year": 1967,
                  "pop": 76368453,
                  "_deepnote_index_column": 567
                },
                {
                  "year": 1967,
                  "pop": 8490213,
                  "_deepnote_index_column": 579
                },
                {
                  "year": 1967,
                  "pop": 8716441,
                  "_deepnote_index_column": 591
                },
                {
                  "year": 1967,
                  "pop": 4690773,
                  "_deepnote_index_column": 603
                },
                {
                  "year": 1967,
                  "pop": 3451418,
                  "_deepnote_index_column": 615
                },
                {
                  "year": 1967,
                  "pop": 4318137,
                  "_deepnote_index_column": 639
                },
                {
                  "year": 1967,
                  "pop": 2500689,
                  "_deepnote_index_column": 651
                },
                {
                  "year": 1967,
                  "pop": 3722800,
                  "_deepnote_index_column": 663
                },
                {
                  "year": 1967,
                  "pop": 10223422,
                  "_deepnote_index_column": 675
                },
                {
                  "year": 1967,
                  "pop": 506000000,
                  "_deepnote_index_column": 699
                },
                {
                  "year": 1967,
                  "pop": 109343000,
                  "_deepnote_index_column": 711
                },
                {
                  "year": 1967,
                  "pop": 26538000,
                  "_deepnote_index_column": 723
                },
                {
                  "year": 1967,
                  "pop": 8519282,
                  "_deepnote_index_column": 735
                },
                {
                  "year": 1967,
                  "pop": 2900100,
                  "_deepnote_index_column": 747
                },
                {
                  "year": 1967,
                  "pop": 2693585,
                  "_deepnote_index_column": 759
                },
                {
                  "year": 1967,
                  "pop": 52667100,
                  "_deepnote_index_column": 771
                },
                {
                  "year": 1967,
                  "pop": 1861096,
                  "_deepnote_index_column": 783
                },
                {
                  "year": 1967,
                  "pop": 100825279,
                  "_deepnote_index_column": 795
                },
                {
                  "year": 1967,
                  "pop": 1255058,
                  "_deepnote_index_column": 807
                },
                {
                  "year": 1967,
                  "pop": 10191512,
                  "_deepnote_index_column": 819
                },
                {
                  "year": 1967,
                  "pop": 12617009,
                  "_deepnote_index_column": 831
                },
                {
                  "year": 1967,
                  "pop": 30131000,
                  "_deepnote_index_column": 843
                },
                {
                  "year": 1967,
                  "pop": 2186894,
                  "_deepnote_index_column": 867
                },
                {
                  "year": 1967,
                  "pop": 1279406,
                  "_deepnote_index_column": 891
                },
                {
                  "year": 1967,
                  "pop": 1759224,
                  "_deepnote_index_column": 903
                },
                {
                  "year": 1967,
                  "pop": 6334556,
                  "_deepnote_index_column": 915
                },
                {
                  "year": 1967,
                  "pop": 4147252,
                  "_deepnote_index_column": 927
                },
                {
                  "year": 1967,
                  "pop": 10154878,
                  "_deepnote_index_column": 939
                },
                {
                  "year": 1967,
                  "pop": 5212416,
                  "_deepnote_index_column": 951
                },
                {
                  "year": 1967,
                  "pop": 1230542,
                  "_deepnote_index_column": 963
                },
                {
                  "year": 1967,
                  "pop": 47995559,
                  "_deepnote_index_column": 987
                },
                {
                  "year": 1967,
                  "pop": 1149500,
                  "_deepnote_index_column": 999
                },
                {
                  "year": 1967,
                  "pop": 14770296,
                  "_deepnote_index_column": 1023
                },
                {
                  "year": 1967,
                  "pop": 8680909,
                  "_deepnote_index_column": 1035
                },
                {
                  "year": 1967,
                  "pop": 25870271,
                  "_deepnote_index_column": 1047
                },
                {
                  "year": 1967,
                  "pop": 11261690,
                  "_deepnote_index_column": 1071
                },
                {
                  "year": 1967,
                  "pop": 12596822,
                  "_deepnote_index_column": 1083
                },
                {
                  "year": 1967,
                  "pop": 2728150,
                  "_deepnote_index_column": 1095
                },
                {
                  "year": 1967,
                  "pop": 1865490,
                  "_deepnote_index_column": 1107
                },
                {
                  "year": 1967,
                  "pop": 4534062,
                  "_deepnote_index_column": 1119
                },
                {
                  "year": 1967,
                  "pop": 47287752,
                  "_deepnote_index_column": 1131
                },
                {
                  "year": 1967,
                  "pop": 3786019,
                  "_deepnote_index_column": 1143
                },
                {
                  "year": 1967,
                  "pop": 60641899,
                  "_deepnote_index_column": 1167
                },
                {
                  "year": 1967,
                  "pop": 1405486,
                  "_deepnote_index_column": 1179
                },
                {
                  "year": 1967,
                  "pop": 2287985,
                  "_deepnote_index_column": 1191
                },
                {
                  "year": 1967,
                  "pop": 12132200,
                  "_deepnote_index_column": 1203
                },
                {
                  "year": 1967,
                  "pop": 35356600,
                  "_deepnote_index_column": 1215
                },
                {
                  "year": 1967,
                  "pop": 31785378,
                  "_deepnote_index_column": 1227
                },
                {
                  "year": 1967,
                  "pop": 9103000,
                  "_deepnote_index_column": 1239
                },
                {
                  "year": 1967,
                  "pop": 2648961,
                  "_deepnote_index_column": 1251
                },
                {
                  "year": 1967,
                  "pop": 19284814,
                  "_deepnote_index_column": 1275
                },
                {
                  "year": 1967,
                  "pop": 3451079,
                  "_deepnote_index_column": 1287
                },
                {
                  "year": 1967,
                  "pop": 5618198,
                  "_deepnote_index_column": 1311
                },
                {
                  "year": 1967,
                  "pop": 3965841,
                  "_deepnote_index_column": 1323
                },
                {
                  "year": 1967,
                  "pop": 7971222,
                  "_deepnote_index_column": 1335
                },
                {
                  "year": 1967,
                  "pop": 2662190,
                  "_deepnote_index_column": 1347
                },
                {
                  "year": 1967,
                  "pop": 1977600,
                  "_deepnote_index_column": 1359
                },
                {
                  "year": 1967,
                  "pop": 4442238,
                  "_deepnote_index_column": 1371
                },
                {
                  "year": 1967,
                  "pop": 1646912,
                  "_deepnote_index_column": 1383
                },
                {
                  "year": 1967,
                  "pop": 3428839,
                  "_deepnote_index_column": 1395
                },
                {
                  "year": 1967,
                  "pop": 20997321,
                  "_deepnote_index_column": 1407
                },
                {
                  "year": 1967,
                  "pop": 32850275,
                  "_deepnote_index_column": 1419
                },
                {
                  "year": 1967,
                  "pop": 11737396,
                  "_deepnote_index_column": 1431
                },
                {
                  "year": 1967,
                  "pop": 12716129,
                  "_deepnote_index_column": 1443
                },
                {
                  "year": 1967,
                  "pop": 7867931,
                  "_deepnote_index_column": 1467
                },
                {
                  "year": 1967,
                  "pop": 6063000,
                  "_deepnote_index_column": 1479
                },
                {
                  "year": 1967,
                  "pop": 5680812,
                  "_deepnote_index_column": 1491
                },
                {
                  "year": 1967,
                  "pop": 13648692,
                  "_deepnote_index_column": 1503
                },
                {
                  "year": 1967,
                  "pop": 12607312,
                  "_deepnote_index_column": 1515
                },
                {
                  "year": 1967,
                  "pop": 34024249,
                  "_deepnote_index_column": 1527
                },
                {
                  "year": 1967,
                  "pop": 1735550,
                  "_deepnote_index_column": 1539
                },
                {
                  "year": 1967,
                  "pop": 4786986,
                  "_deepnote_index_column": 1563
                },
                {
                  "year": 1967,
                  "pop": 33411317,
                  "_deepnote_index_column": 1575
                },
                {
                  "year": 1967,
                  "pop": 8900294,
                  "_deepnote_index_column": 1587
                },
                {
                  "year": 1967,
                  "pop": 54959000,
                  "_deepnote_index_column": 1599
                },
                {
                  "year": 1967,
                  "pop": 198712000,
                  "_deepnote_index_column": 1611
                },
                {
                  "year": 1967,
                  "pop": 2748579,
                  "_deepnote_index_column": 1623
                },
                {
                  "year": 1967,
                  "pop": 9709552,
                  "_deepnote_index_column": 1635
                },
                {
                  "year": 1967,
                  "pop": 39463910,
                  "_deepnote_index_column": 1647
                },
                {
                  "year": 1967,
                  "pop": 1142636,
                  "_deepnote_index_column": 1659
                },
                {
                  "year": 1967,
                  "pop": 6740785,
                  "_deepnote_index_column": 1671
                },
                {
                  "year": 1967,
                  "pop": 3900000,
                  "_deepnote_index_column": 1683
                },
                {
                  "year": 1967,
                  "pop": 4995432,
                  "_deepnote_index_column": 1695
                }
              ],
              "rows_bottom": null
            },
            "text/plain": "      year       pop\n3     1967  11537966\n15    1967   1984060\n27    1967  12760499\n39    1967   5247469\n51    1967  22934225\n...    ...       ...\n1647  1967  39463910\n1659  1967   1142636\n1671  1967   6740785\n1683  1967   3900000\n1695  1967   4995432\n\n[123 rows x 2 columns]",
            "text/html": "<div>\n<style scoped>\n    .dataframe tbody tr th:only-of-type {\n        vertical-align: middle;\n    }\n\n    .dataframe tbody tr th {\n        vertical-align: top;\n    }\n\n    .dataframe thead th {\n        text-align: right;\n    }\n</style>\n<table border=\"1\" class=\"dataframe\">\n  <thead>\n    <tr style=\"text-align: right;\">\n      <th></th>\n      <th>year</th>\n      <th>pop</th>\n    </tr>\n  </thead>\n  <tbody>\n    <tr>\n      <th>3</th>\n      <td>1967</td>\n      <td>11537966</td>\n    </tr>\n    <tr>\n      <th>15</th>\n      <td>1967</td>\n      <td>1984060</td>\n    </tr>\n    <tr>\n      <th>27</th>\n      <td>1967</td>\n      <td>12760499</td>\n    </tr>\n    <tr>\n      <th>39</th>\n      <td>1967</td>\n      <td>5247469</td>\n    </tr>\n    <tr>\n      <th>51</th>\n      <td>1967</td>\n      <td>22934225</td>\n    </tr>\n    <tr>\n      <th>...</th>\n      <td>...</td>\n      <td>...</td>\n    </tr>\n    <tr>\n      <th>1647</th>\n      <td>1967</td>\n      <td>39463910</td>\n    </tr>\n    <tr>\n      <th>1659</th>\n      <td>1967</td>\n      <td>1142636</td>\n    </tr>\n    <tr>\n      <th>1671</th>\n      <td>1967</td>\n      <td>6740785</td>\n    </tr>\n    <tr>\n      <th>1683</th>\n      <td>1967</td>\n      <td>3900000</td>\n    </tr>\n    <tr>\n      <th>1695</th>\n      <td>1967</td>\n      <td>4995432</td>\n    </tr>\n  </tbody>\n</table>\n<p>123 rows × 2 columns</p>\n</div>"
          },
          "metadata": {}
        }
      ]
    },
    {
      "cell_type": "code",
      "metadata": {
        "tags": [],
        "cell_id": "00027-3e1f6460-7e25-419d-b2bb-d86fb2ebe6a7",
        "deepnote_to_be_reexecuted": false,
        "source_hash": "79852eaa",
        "execution_start": 1620248783595,
        "execution_millis": 1,
        "deepnote_cell_type": "code"
      },
      "source": "pew = pd.read_csv('./tidy_data/pew.csv')",
      "execution_count": 25,
      "outputs": []
    },
    {
      "cell_type": "code",
      "metadata": {
        "tags": [],
        "cell_id": "00028-b0728573-415e-4675-9e60-bcc084eb5676",
        "deepnote_to_be_reexecuted": false,
        "source_hash": "190b4ed4",
        "execution_start": 1620248783618,
        "execution_millis": 22,
        "deepnote_cell_type": "code"
      },
      "source": "pew.head()",
      "execution_count": 26,
      "outputs": [
        {
          "output_type": "execute_result",
          "execution_count": 26,
          "data": {
            "application/vnd.deepnote.dataframe.v2+json": {
              "row_count": 5,
              "column_count": 11,
              "columns": [
                {
                  "name": "religion",
                  "dtype": "object",
                  "stats": {
                    "unique_count": 5,
                    "nan_count": 0,
                    "categories": [
                      {
                        "name": "Agnostic",
                        "count": 1
                      },
                      {
                        "name": "Atheist",
                        "count": 1
                      },
                      {
                        "name": "3 others",
                        "count": 3
                      }
                    ]
                  }
                },
                {
                  "name": "<$10k",
                  "dtype": "int64",
                  "stats": {
                    "unique_count": 4,
                    "nan_count": 0,
                    "min": "12",
                    "max": "418",
                    "histogram": [
                      {
                        "bin_start": 12,
                        "bin_end": 52.6,
                        "count": 4
                      },
                      {
                        "bin_start": 52.6,
                        "bin_end": 93.2,
                        "count": 0
                      },
                      {
                        "bin_start": 93.2,
                        "bin_end": 133.8,
                        "count": 0
                      },
                      {
                        "bin_start": 133.8,
                        "bin_end": 174.4,
                        "count": 0
                      },
                      {
                        "bin_start": 174.4,
                        "bin_end": 215,
                        "count": 0
                      },
                      {
                        "bin_start": 215,
                        "bin_end": 255.60000000000002,
                        "count": 0
                      },
                      {
                        "bin_start": 255.60000000000002,
                        "bin_end": 296.2,
                        "count": 0
                      },
                      {
                        "bin_start": 296.2,
                        "bin_end": 336.8,
                        "count": 0
                      },
                      {
                        "bin_start": 336.8,
                        "bin_end": 377.40000000000003,
                        "count": 0
                      },
                      {
                        "bin_start": 377.40000000000003,
                        "bin_end": 418,
                        "count": 1
                      }
                    ]
                  }
                },
                {
                  "name": "$10-20k",
                  "dtype": "int64",
                  "stats": {
                    "unique_count": 5,
                    "nan_count": 0,
                    "min": "14",
                    "max": "617",
                    "histogram": [
                      {
                        "bin_start": 14,
                        "bin_end": 74.3,
                        "count": 4
                      },
                      {
                        "bin_start": 74.3,
                        "bin_end": 134.6,
                        "count": 0
                      },
                      {
                        "bin_start": 134.6,
                        "bin_end": 194.89999999999998,
                        "count": 0
                      },
                      {
                        "bin_start": 194.89999999999998,
                        "bin_end": 255.2,
                        "count": 0
                      },
                      {
                        "bin_start": 255.2,
                        "bin_end": 315.5,
                        "count": 0
                      },
                      {
                        "bin_start": 315.5,
                        "bin_end": 375.79999999999995,
                        "count": 0
                      },
                      {
                        "bin_start": 375.79999999999995,
                        "bin_end": 436.09999999999997,
                        "count": 0
                      },
                      {
                        "bin_start": 436.09999999999997,
                        "bin_end": 496.4,
                        "count": 0
                      },
                      {
                        "bin_start": 496.4,
                        "bin_end": 556.6999999999999,
                        "count": 0
                      },
                      {
                        "bin_start": 556.6999999999999,
                        "bin_end": 617,
                        "count": 1
                      }
                    ]
                  }
                },
                {
                  "name": "$20-30k",
                  "dtype": "int64",
                  "stats": {
                    "unique_count": 5,
                    "nan_count": 0,
                    "min": "15",
                    "max": "732",
                    "histogram": [
                      {
                        "bin_start": 15,
                        "bin_end": 86.7,
                        "count": 4
                      },
                      {
                        "bin_start": 86.7,
                        "bin_end": 158.4,
                        "count": 0
                      },
                      {
                        "bin_start": 158.4,
                        "bin_end": 230.10000000000002,
                        "count": 0
                      },
                      {
                        "bin_start": 230.10000000000002,
                        "bin_end": 301.8,
                        "count": 0
                      },
                      {
                        "bin_start": 301.8,
                        "bin_end": 373.5,
                        "count": 0
                      },
                      {
                        "bin_start": 373.5,
                        "bin_end": 445.20000000000005,
                        "count": 0
                      },
                      {
                        "bin_start": 445.20000000000005,
                        "bin_end": 516.9000000000001,
                        "count": 0
                      },
                      {
                        "bin_start": 516.9000000000001,
                        "bin_end": 588.6,
                        "count": 0
                      },
                      {
                        "bin_start": 588.6,
                        "bin_end": 660.3000000000001,
                        "count": 0
                      },
                      {
                        "bin_start": 660.3000000000001,
                        "bin_end": 732,
                        "count": 1
                      }
                    ]
                  }
                },
                {
                  "name": "$30-40k",
                  "dtype": "int64",
                  "stats": {
                    "unique_count": 5,
                    "nan_count": 0,
                    "min": "11",
                    "max": "670",
                    "histogram": [
                      {
                        "bin_start": 11,
                        "bin_end": 76.9,
                        "count": 3
                      },
                      {
                        "bin_start": 76.9,
                        "bin_end": 142.8,
                        "count": 1
                      },
                      {
                        "bin_start": 142.8,
                        "bin_end": 208.70000000000002,
                        "count": 0
                      },
                      {
                        "bin_start": 208.70000000000002,
                        "bin_end": 274.6,
                        "count": 0
                      },
                      {
                        "bin_start": 274.6,
                        "bin_end": 340.5,
                        "count": 0
                      },
                      {
                        "bin_start": 340.5,
                        "bin_end": 406.40000000000003,
                        "count": 0
                      },
                      {
                        "bin_start": 406.40000000000003,
                        "bin_end": 472.30000000000007,
                        "count": 0
                      },
                      {
                        "bin_start": 472.30000000000007,
                        "bin_end": 538.2,
                        "count": 0
                      },
                      {
                        "bin_start": 538.2,
                        "bin_end": 604.1,
                        "count": 0
                      },
                      {
                        "bin_start": 604.1,
                        "bin_end": 670,
                        "count": 1
                      }
                    ]
                  }
                },
                {
                  "name": "$40-50k",
                  "dtype": "int64",
                  "stats": {
                    "unique_count": 5,
                    "nan_count": 0,
                    "min": "10",
                    "max": "638",
                    "histogram": [
                      {
                        "bin_start": 10,
                        "bin_end": 72.8,
                        "count": 3
                      },
                      {
                        "bin_start": 72.8,
                        "bin_end": 135.6,
                        "count": 1
                      },
                      {
                        "bin_start": 135.6,
                        "bin_end": 198.39999999999998,
                        "count": 0
                      },
                      {
                        "bin_start": 198.39999999999998,
                        "bin_end": 261.2,
                        "count": 0
                      },
                      {
                        "bin_start": 261.2,
                        "bin_end": 324,
                        "count": 0
                      },
                      {
                        "bin_start": 324,
                        "bin_end": 386.79999999999995,
                        "count": 0
                      },
                      {
                        "bin_start": 386.79999999999995,
                        "bin_end": 449.59999999999997,
                        "count": 0
                      },
                      {
                        "bin_start": 449.59999999999997,
                        "bin_end": 512.4,
                        "count": 0
                      },
                      {
                        "bin_start": 512.4,
                        "bin_end": 575.1999999999999,
                        "count": 0
                      },
                      {
                        "bin_start": 575.1999999999999,
                        "bin_end": 638,
                        "count": 1
                      }
                    ]
                  }
                },
                {
                  "name": "$50-75k",
                  "dtype": "int64",
                  "stats": {
                    "unique_count": 5,
                    "nan_count": 0,
                    "min": "35",
                    "max": "1116",
                    "histogram": [
                      {
                        "bin_start": 35,
                        "bin_end": 143.1,
                        "count": 4
                      },
                      {
                        "bin_start": 143.1,
                        "bin_end": 251.2,
                        "count": 0
                      },
                      {
                        "bin_start": 251.2,
                        "bin_end": 359.29999999999995,
                        "count": 0
                      },
                      {
                        "bin_start": 359.29999999999995,
                        "bin_end": 467.4,
                        "count": 0
                      },
                      {
                        "bin_start": 467.4,
                        "bin_end": 575.5,
                        "count": 0
                      },
                      {
                        "bin_start": 575.5,
                        "bin_end": 683.5999999999999,
                        "count": 0
                      },
                      {
                        "bin_start": 683.5999999999999,
                        "bin_end": 791.6999999999999,
                        "count": 0
                      },
                      {
                        "bin_start": 791.6999999999999,
                        "bin_end": 899.8,
                        "count": 0
                      },
                      {
                        "bin_start": 899.8,
                        "bin_end": 1007.9,
                        "count": 0
                      },
                      {
                        "bin_start": 1007.9,
                        "bin_end": 1116,
                        "count": 1
                      }
                    ]
                  }
                },
                {
                  "name": "$75-100k",
                  "dtype": "int64",
                  "stats": {
                    "unique_count": 5,
                    "nan_count": 0,
                    "min": "21",
                    "max": "949",
                    "histogram": [
                      {
                        "bin_start": 21,
                        "bin_end": 113.8,
                        "count": 3
                      },
                      {
                        "bin_start": 113.8,
                        "bin_end": 206.6,
                        "count": 1
                      },
                      {
                        "bin_start": 206.6,
                        "bin_end": 299.4,
                        "count": 0
                      },
                      {
                        "bin_start": 299.4,
                        "bin_end": 392.2,
                        "count": 0
                      },
                      {
                        "bin_start": 392.2,
                        "bin_end": 485,
                        "count": 0
                      },
                      {
                        "bin_start": 485,
                        "bin_end": 577.8,
                        "count": 0
                      },
                      {
                        "bin_start": 577.8,
                        "bin_end": 670.6,
                        "count": 0
                      },
                      {
                        "bin_start": 670.6,
                        "bin_end": 763.4,
                        "count": 0
                      },
                      {
                        "bin_start": 763.4,
                        "bin_end": 856.1999999999999,
                        "count": 0
                      },
                      {
                        "bin_start": 856.1999999999999,
                        "bin_end": 949,
                        "count": 1
                      }
                    ]
                  }
                },
                {
                  "name": "$100-150k",
                  "dtype": "int64",
                  "stats": {
                    "unique_count": 5,
                    "nan_count": 0,
                    "min": "17",
                    "max": "792",
                    "histogram": [
                      {
                        "bin_start": 17,
                        "bin_end": 94.5,
                        "count": 3
                      },
                      {
                        "bin_start": 94.5,
                        "bin_end": 172,
                        "count": 1
                      },
                      {
                        "bin_start": 172,
                        "bin_end": 249.5,
                        "count": 0
                      },
                      {
                        "bin_start": 249.5,
                        "bin_end": 327,
                        "count": 0
                      },
                      {
                        "bin_start": 327,
                        "bin_end": 404.5,
                        "count": 0
                      },
                      {
                        "bin_start": 404.5,
                        "bin_end": 482,
                        "count": 0
                      },
                      {
                        "bin_start": 482,
                        "bin_end": 559.5,
                        "count": 0
                      },
                      {
                        "bin_start": 559.5,
                        "bin_end": 637,
                        "count": 0
                      },
                      {
                        "bin_start": 637,
                        "bin_end": 714.5,
                        "count": 0
                      },
                      {
                        "bin_start": 714.5,
                        "bin_end": 792,
                        "count": 1
                      }
                    ]
                  }
                },
                {
                  "name": ">150k",
                  "dtype": "int64",
                  "stats": {
                    "unique_count": 5,
                    "nan_count": 0,
                    "min": "18",
                    "max": "633",
                    "histogram": [
                      {
                        "bin_start": 18,
                        "bin_end": 79.5,
                        "count": 3
                      },
                      {
                        "bin_start": 79.5,
                        "bin_end": 141,
                        "count": 1
                      },
                      {
                        "bin_start": 141,
                        "bin_end": 202.5,
                        "count": 0
                      },
                      {
                        "bin_start": 202.5,
                        "bin_end": 264,
                        "count": 0
                      },
                      {
                        "bin_start": 264,
                        "bin_end": 325.5,
                        "count": 0
                      },
                      {
                        "bin_start": 325.5,
                        "bin_end": 387,
                        "count": 0
                      },
                      {
                        "bin_start": 387,
                        "bin_end": 448.5,
                        "count": 0
                      },
                      {
                        "bin_start": 448.5,
                        "bin_end": 510,
                        "count": 0
                      },
                      {
                        "bin_start": 510,
                        "bin_end": 571.5,
                        "count": 0
                      },
                      {
                        "bin_start": 571.5,
                        "bin_end": 633,
                        "count": 1
                      }
                    ]
                  }
                },
                {
                  "name": "Don't know/refused",
                  "dtype": "int64",
                  "stats": {
                    "unique_count": 5,
                    "nan_count": 0,
                    "min": "54",
                    "max": "1489",
                    "histogram": [
                      {
                        "bin_start": 54,
                        "bin_end": 197.5,
                        "count": 4
                      },
                      {
                        "bin_start": 197.5,
                        "bin_end": 341,
                        "count": 0
                      },
                      {
                        "bin_start": 341,
                        "bin_end": 484.5,
                        "count": 0
                      },
                      {
                        "bin_start": 484.5,
                        "bin_end": 628,
                        "count": 0
                      },
                      {
                        "bin_start": 628,
                        "bin_end": 771.5,
                        "count": 0
                      },
                      {
                        "bin_start": 771.5,
                        "bin_end": 915,
                        "count": 0
                      },
                      {
                        "bin_start": 915,
                        "bin_end": 1058.5,
                        "count": 0
                      },
                      {
                        "bin_start": 1058.5,
                        "bin_end": 1202,
                        "count": 0
                      },
                      {
                        "bin_start": 1202,
                        "bin_end": 1345.5,
                        "count": 0
                      },
                      {
                        "bin_start": 1345.5,
                        "bin_end": 1489,
                        "count": 1
                      }
                    ]
                  }
                },
                {
                  "name": "_deepnote_index_column",
                  "dtype": "int64"
                }
              ],
              "rows_top": [
                {
                  "religion": "Agnostic",
                  "<$10k": 27,
                  "$10-20k": 34,
                  "$20-30k": 60,
                  "$30-40k": 81,
                  "$40-50k": 76,
                  "$50-75k": 137,
                  "$75-100k": 122,
                  "$100-150k": 109,
                  ">150k": 84,
                  "Don't know/refused": 96,
                  "_deepnote_index_column": 0
                },
                {
                  "religion": "Atheist",
                  "<$10k": 12,
                  "$10-20k": 27,
                  "$20-30k": 37,
                  "$30-40k": 52,
                  "$40-50k": 35,
                  "$50-75k": 70,
                  "$75-100k": 73,
                  "$100-150k": 59,
                  ">150k": 74,
                  "Don't know/refused": 76,
                  "_deepnote_index_column": 1
                },
                {
                  "religion": "Buddhist",
                  "<$10k": 27,
                  "$10-20k": 21,
                  "$20-30k": 30,
                  "$30-40k": 34,
                  "$40-50k": 33,
                  "$50-75k": 58,
                  "$75-100k": 62,
                  "$100-150k": 39,
                  ">150k": 53,
                  "Don't know/refused": 54,
                  "_deepnote_index_column": 2
                },
                {
                  "religion": "Catholic",
                  "<$10k": 418,
                  "$10-20k": 617,
                  "$20-30k": 732,
                  "$30-40k": 670,
                  "$40-50k": 638,
                  "$50-75k": 1116,
                  "$75-100k": 949,
                  "$100-150k": 792,
                  ">150k": 633,
                  "Don't know/refused": 1489,
                  "_deepnote_index_column": 3
                },
                {
                  "religion": "Don’t know/refused",
                  "<$10k": 15,
                  "$10-20k": 14,
                  "$20-30k": 15,
                  "$30-40k": 11,
                  "$40-50k": 10,
                  "$50-75k": 35,
                  "$75-100k": 21,
                  "$100-150k": 17,
                  ">150k": 18,
                  "Don't know/refused": 116,
                  "_deepnote_index_column": 4
                }
              ],
              "rows_bottom": null
            },
            "text/plain": "             religion  <$10k  $10-20k  $20-30k  $30-40k  $40-50k  $50-75k  \\\n0            Agnostic     27       34       60       81       76      137   \n1             Atheist     12       27       37       52       35       70   \n2            Buddhist     27       21       30       34       33       58   \n3            Catholic    418      617      732      670      638     1116   \n4  Don’t know/refused     15       14       15       11       10       35   \n\n   $75-100k  $100-150k  >150k  Don't know/refused  \n0       122        109     84                  96  \n1        73         59     74                  76  \n2        62         39     53                  54  \n3       949        792    633                1489  \n4        21         17     18                 116  ",
            "text/html": "<div>\n<style scoped>\n    .dataframe tbody tr th:only-of-type {\n        vertical-align: middle;\n    }\n\n    .dataframe tbody tr th {\n        vertical-align: top;\n    }\n\n    .dataframe thead th {\n        text-align: right;\n    }\n</style>\n<table border=\"1\" class=\"dataframe\">\n  <thead>\n    <tr style=\"text-align: right;\">\n      <th></th>\n      <th>religion</th>\n      <th>&lt;$10k</th>\n      <th>$10-20k</th>\n      <th>$20-30k</th>\n      <th>$30-40k</th>\n      <th>$40-50k</th>\n      <th>$50-75k</th>\n      <th>$75-100k</th>\n      <th>$100-150k</th>\n      <th>&gt;150k</th>\n      <th>Don't know/refused</th>\n    </tr>\n  </thead>\n  <tbody>\n    <tr>\n      <th>0</th>\n      <td>Agnostic</td>\n      <td>27</td>\n      <td>34</td>\n      <td>60</td>\n      <td>81</td>\n      <td>76</td>\n      <td>137</td>\n      <td>122</td>\n      <td>109</td>\n      <td>84</td>\n      <td>96</td>\n    </tr>\n    <tr>\n      <th>1</th>\n      <td>Atheist</td>\n      <td>12</td>\n      <td>27</td>\n      <td>37</td>\n      <td>52</td>\n      <td>35</td>\n      <td>70</td>\n      <td>73</td>\n      <td>59</td>\n      <td>74</td>\n      <td>76</td>\n    </tr>\n    <tr>\n      <th>2</th>\n      <td>Buddhist</td>\n      <td>27</td>\n      <td>21</td>\n      <td>30</td>\n      <td>34</td>\n      <td>33</td>\n      <td>58</td>\n      <td>62</td>\n      <td>39</td>\n      <td>53</td>\n      <td>54</td>\n    </tr>\n    <tr>\n      <th>3</th>\n      <td>Catholic</td>\n      <td>418</td>\n      <td>617</td>\n      <td>732</td>\n      <td>670</td>\n      <td>638</td>\n      <td>1116</td>\n      <td>949</td>\n      <td>792</td>\n      <td>633</td>\n      <td>1489</td>\n    </tr>\n    <tr>\n      <th>4</th>\n      <td>Don’t know/refused</td>\n      <td>15</td>\n      <td>14</td>\n      <td>15</td>\n      <td>11</td>\n      <td>10</td>\n      <td>35</td>\n      <td>21</td>\n      <td>17</td>\n      <td>18</td>\n      <td>116</td>\n    </tr>\n  </tbody>\n</table>\n</div>"
          },
          "metadata": {}
        }
      ]
    },
    {
      "cell_type": "code",
      "metadata": {
        "tags": [],
        "cell_id": "00029-b8711fc7-31b9-400a-9fe8-8a20fd3bb2b7",
        "deepnote_to_be_reexecuted": false,
        "source_hash": "9cb17870",
        "execution_start": 1620248783678,
        "execution_millis": 0,
        "deepnote_cell_type": "code"
      },
      "source": "pew_long = pd.melt(pew, id_vars = 'religion') #id_vars is what we leave alone",
      "execution_count": 27,
      "outputs": []
    },
    {
      "cell_type": "code",
      "metadata": {
        "tags": [],
        "cell_id": "00030-c1e3464b-5637-405b-889f-c82013e80e55",
        "deepnote_to_be_reexecuted": false,
        "source_hash": "413880b1",
        "execution_start": 1620248783679,
        "execution_millis": 24,
        "deepnote_cell_type": "code"
      },
      "source": "pew_long.head()",
      "execution_count": 28,
      "outputs": [
        {
          "output_type": "execute_result",
          "execution_count": 28,
          "data": {
            "application/vnd.deepnote.dataframe.v2+json": {
              "row_count": 5,
              "column_count": 3,
              "columns": [
                {
                  "name": "religion",
                  "dtype": "object",
                  "stats": {
                    "unique_count": 5,
                    "nan_count": 0,
                    "categories": [
                      {
                        "name": "Agnostic",
                        "count": 1
                      },
                      {
                        "name": "Atheist",
                        "count": 1
                      },
                      {
                        "name": "3 others",
                        "count": 3
                      }
                    ]
                  }
                },
                {
                  "name": "variable",
                  "dtype": "object",
                  "stats": {
                    "unique_count": 1,
                    "nan_count": 0,
                    "categories": [
                      {
                        "name": "<$10k",
                        "count": 5
                      }
                    ]
                  }
                },
                {
                  "name": "value",
                  "dtype": "int64",
                  "stats": {
                    "unique_count": 4,
                    "nan_count": 0,
                    "min": "12",
                    "max": "418",
                    "histogram": [
                      {
                        "bin_start": 12,
                        "bin_end": 52.6,
                        "count": 4
                      },
                      {
                        "bin_start": 52.6,
                        "bin_end": 93.2,
                        "count": 0
                      },
                      {
                        "bin_start": 93.2,
                        "bin_end": 133.8,
                        "count": 0
                      },
                      {
                        "bin_start": 133.8,
                        "bin_end": 174.4,
                        "count": 0
                      },
                      {
                        "bin_start": 174.4,
                        "bin_end": 215,
                        "count": 0
                      },
                      {
                        "bin_start": 215,
                        "bin_end": 255.60000000000002,
                        "count": 0
                      },
                      {
                        "bin_start": 255.60000000000002,
                        "bin_end": 296.2,
                        "count": 0
                      },
                      {
                        "bin_start": 296.2,
                        "bin_end": 336.8,
                        "count": 0
                      },
                      {
                        "bin_start": 336.8,
                        "bin_end": 377.40000000000003,
                        "count": 0
                      },
                      {
                        "bin_start": 377.40000000000003,
                        "bin_end": 418,
                        "count": 1
                      }
                    ]
                  }
                },
                {
                  "name": "_deepnote_index_column",
                  "dtype": "int64"
                }
              ],
              "rows_top": [
                {
                  "religion": "Agnostic",
                  "variable": "<$10k",
                  "value": 27,
                  "_deepnote_index_column": 0
                },
                {
                  "religion": "Atheist",
                  "variable": "<$10k",
                  "value": 12,
                  "_deepnote_index_column": 1
                },
                {
                  "religion": "Buddhist",
                  "variable": "<$10k",
                  "value": 27,
                  "_deepnote_index_column": 2
                },
                {
                  "religion": "Catholic",
                  "variable": "<$10k",
                  "value": 418,
                  "_deepnote_index_column": 3
                },
                {
                  "religion": "Don’t know/refused",
                  "variable": "<$10k",
                  "value": 15,
                  "_deepnote_index_column": 4
                }
              ],
              "rows_bottom": null
            },
            "text/plain": "             religion variable  value\n0            Agnostic    <$10k     27\n1             Atheist    <$10k     12\n2            Buddhist    <$10k     27\n3            Catholic    <$10k    418\n4  Don’t know/refused    <$10k     15",
            "text/html": "<div>\n<style scoped>\n    .dataframe tbody tr th:only-of-type {\n        vertical-align: middle;\n    }\n\n    .dataframe tbody tr th {\n        vertical-align: top;\n    }\n\n    .dataframe thead th {\n        text-align: right;\n    }\n</style>\n<table border=\"1\" class=\"dataframe\">\n  <thead>\n    <tr style=\"text-align: right;\">\n      <th></th>\n      <th>religion</th>\n      <th>variable</th>\n      <th>value</th>\n    </tr>\n  </thead>\n  <tbody>\n    <tr>\n      <th>0</th>\n      <td>Agnostic</td>\n      <td>&lt;$10k</td>\n      <td>27</td>\n    </tr>\n    <tr>\n      <th>1</th>\n      <td>Atheist</td>\n      <td>&lt;$10k</td>\n      <td>12</td>\n    </tr>\n    <tr>\n      <th>2</th>\n      <td>Buddhist</td>\n      <td>&lt;$10k</td>\n      <td>27</td>\n    </tr>\n    <tr>\n      <th>3</th>\n      <td>Catholic</td>\n      <td>&lt;$10k</td>\n      <td>418</td>\n    </tr>\n    <tr>\n      <th>4</th>\n      <td>Don’t know/refused</td>\n      <td>&lt;$10k</td>\n      <td>15</td>\n    </tr>\n  </tbody>\n</table>\n</div>"
          },
          "metadata": {}
        }
      ]
    },
    {
      "cell_type": "code",
      "metadata": {
        "tags": [],
        "cell_id": "00031-8f0d3c10-569d-4b9f-8f38-b38ecc8b7506",
        "deepnote_to_be_reexecuted": false,
        "source_hash": "1d49b8f8",
        "execution_start": 1620248783697,
        "execution_millis": 0,
        "deepnote_cell_type": "code"
      },
      "source": "#rename variables\npew_long = pd.melt(pew, id_vars ='religion', \n                    var_name='income',\n                    value_name='count')",
      "execution_count": 29,
      "outputs": []
    },
    {
      "cell_type": "code",
      "metadata": {
        "tags": [],
        "cell_id": "00032-94fd222c-f1b4-4a15-ae67-1e4edeb14133",
        "deepnote_to_be_reexecuted": false,
        "source_hash": "413880b1",
        "execution_start": 1620248783697,
        "execution_millis": 22,
        "deepnote_cell_type": "code"
      },
      "source": "pew_long.head()",
      "execution_count": 30,
      "outputs": [
        {
          "output_type": "execute_result",
          "execution_count": 30,
          "data": {
            "application/vnd.deepnote.dataframe.v2+json": {
              "row_count": 5,
              "column_count": 3,
              "columns": [
                {
                  "name": "religion",
                  "dtype": "object",
                  "stats": {
                    "unique_count": 5,
                    "nan_count": 0,
                    "categories": [
                      {
                        "name": "Agnostic",
                        "count": 1
                      },
                      {
                        "name": "Atheist",
                        "count": 1
                      },
                      {
                        "name": "3 others",
                        "count": 3
                      }
                    ]
                  }
                },
                {
                  "name": "income",
                  "dtype": "object",
                  "stats": {
                    "unique_count": 1,
                    "nan_count": 0,
                    "categories": [
                      {
                        "name": "<$10k",
                        "count": 5
                      }
                    ]
                  }
                },
                {
                  "name": "count",
                  "dtype": "int64",
                  "stats": {
                    "unique_count": 4,
                    "nan_count": 0,
                    "min": "12",
                    "max": "418",
                    "histogram": [
                      {
                        "bin_start": 12,
                        "bin_end": 52.6,
                        "count": 4
                      },
                      {
                        "bin_start": 52.6,
                        "bin_end": 93.2,
                        "count": 0
                      },
                      {
                        "bin_start": 93.2,
                        "bin_end": 133.8,
                        "count": 0
                      },
                      {
                        "bin_start": 133.8,
                        "bin_end": 174.4,
                        "count": 0
                      },
                      {
                        "bin_start": 174.4,
                        "bin_end": 215,
                        "count": 0
                      },
                      {
                        "bin_start": 215,
                        "bin_end": 255.60000000000002,
                        "count": 0
                      },
                      {
                        "bin_start": 255.60000000000002,
                        "bin_end": 296.2,
                        "count": 0
                      },
                      {
                        "bin_start": 296.2,
                        "bin_end": 336.8,
                        "count": 0
                      },
                      {
                        "bin_start": 336.8,
                        "bin_end": 377.40000000000003,
                        "count": 0
                      },
                      {
                        "bin_start": 377.40000000000003,
                        "bin_end": 418,
                        "count": 1
                      }
                    ]
                  }
                },
                {
                  "name": "_deepnote_index_column",
                  "dtype": "int64"
                }
              ],
              "rows_top": [
                {
                  "religion": "Agnostic",
                  "income": "<$10k",
                  "count": 27,
                  "_deepnote_index_column": 0
                },
                {
                  "religion": "Atheist",
                  "income": "<$10k",
                  "count": 12,
                  "_deepnote_index_column": 1
                },
                {
                  "religion": "Buddhist",
                  "income": "<$10k",
                  "count": 27,
                  "_deepnote_index_column": 2
                },
                {
                  "religion": "Catholic",
                  "income": "<$10k",
                  "count": 418,
                  "_deepnote_index_column": 3
                },
                {
                  "religion": "Don’t know/refused",
                  "income": "<$10k",
                  "count": 15,
                  "_deepnote_index_column": 4
                }
              ],
              "rows_bottom": null
            },
            "text/plain": "             religion income  count\n0            Agnostic  <$10k     27\n1             Atheist  <$10k     12\n2            Buddhist  <$10k     27\n3            Catholic  <$10k    418\n4  Don’t know/refused  <$10k     15",
            "text/html": "<div>\n<style scoped>\n    .dataframe tbody tr th:only-of-type {\n        vertical-align: middle;\n    }\n\n    .dataframe tbody tr th {\n        vertical-align: top;\n    }\n\n    .dataframe thead th {\n        text-align: right;\n    }\n</style>\n<table border=\"1\" class=\"dataframe\">\n  <thead>\n    <tr style=\"text-align: right;\">\n      <th></th>\n      <th>religion</th>\n      <th>income</th>\n      <th>count</th>\n    </tr>\n  </thead>\n  <tbody>\n    <tr>\n      <th>0</th>\n      <td>Agnostic</td>\n      <td>&lt;$10k</td>\n      <td>27</td>\n    </tr>\n    <tr>\n      <th>1</th>\n      <td>Atheist</td>\n      <td>&lt;$10k</td>\n      <td>12</td>\n    </tr>\n    <tr>\n      <th>2</th>\n      <td>Buddhist</td>\n      <td>&lt;$10k</td>\n      <td>27</td>\n    </tr>\n    <tr>\n      <th>3</th>\n      <td>Catholic</td>\n      <td>&lt;$10k</td>\n      <td>418</td>\n    </tr>\n    <tr>\n      <th>4</th>\n      <td>Don’t know/refused</td>\n      <td>&lt;$10k</td>\n      <td>15</td>\n    </tr>\n  </tbody>\n</table>\n</div>"
          },
          "metadata": {}
        }
      ]
    },
    {
      "cell_type": "code",
      "metadata": {
        "tags": [],
        "cell_id": "00033-72494ac0-7fd1-4c1c-808d-6015da178c69",
        "deepnote_to_be_reexecuted": false,
        "source_hash": "8b1ef003",
        "execution_start": 1620248783714,
        "execution_millis": 11,
        "deepnote_cell_type": "code"
      },
      "source": "billboard = pd.read_csv('./tidy_data/billboard.csv')",
      "execution_count": 31,
      "outputs": []
    },
    {
      "cell_type": "code",
      "metadata": {
        "tags": [],
        "cell_id": "00034-42760521-6f5f-4994-a666-73562617230f",
        "deepnote_to_be_reexecuted": false,
        "source_hash": "631c4d59",
        "execution_start": 1620248783777,
        "execution_millis": 249,
        "deepnote_cell_type": "code"
      },
      "source": "billboard.head()",
      "execution_count": 32,
      "outputs": [
        {
          "output_type": "execute_result",
          "execution_count": 32,
          "data": {
            "application/vnd.deepnote.dataframe.v2+json": {
              "row_count": 5,
              "column_count": 81,
              "columns": [
                {
                  "name": "year",
                  "dtype": "int64",
                  "stats": {
                    "unique_count": 1,
                    "nan_count": 0,
                    "min": "2000",
                    "max": "2000",
                    "histogram": [
                      {
                        "bin_start": 1999.5,
                        "bin_end": 1999.6,
                        "count": 0
                      },
                      {
                        "bin_start": 1999.6,
                        "bin_end": 1999.7,
                        "count": 0
                      },
                      {
                        "bin_start": 1999.7,
                        "bin_end": 1999.8,
                        "count": 0
                      },
                      {
                        "bin_start": 1999.8,
                        "bin_end": 1999.9,
                        "count": 0
                      },
                      {
                        "bin_start": 1999.9,
                        "bin_end": 2000,
                        "count": 0
                      },
                      {
                        "bin_start": 2000,
                        "bin_end": 2000.1,
                        "count": 5
                      },
                      {
                        "bin_start": 2000.1,
                        "bin_end": 2000.2,
                        "count": 0
                      },
                      {
                        "bin_start": 2000.2,
                        "bin_end": 2000.3,
                        "count": 0
                      },
                      {
                        "bin_start": 2000.3,
                        "bin_end": 2000.4,
                        "count": 0
                      },
                      {
                        "bin_start": 2000.4,
                        "bin_end": 2000.5,
                        "count": 0
                      }
                    ]
                  }
                },
                {
                  "name": "artist",
                  "dtype": "object",
                  "stats": {
                    "unique_count": 4,
                    "nan_count": 0,
                    "categories": [
                      {
                        "name": "3 Doors Down",
                        "count": 2
                      },
                      {
                        "name": "2 Pac",
                        "count": 1
                      },
                      {
                        "name": "2 others",
                        "count": 2
                      }
                    ]
                  }
                },
                {
                  "name": "track",
                  "dtype": "object",
                  "stats": {
                    "unique_count": 5,
                    "nan_count": 0,
                    "categories": [
                      {
                        "name": "Baby Don't Cry (Keep...",
                        "count": 1
                      },
                      {
                        "name": "The Hardest Part Of ...",
                        "count": 1
                      },
                      {
                        "name": "3 others",
                        "count": 3
                      }
                    ]
                  }
                },
                {
                  "name": "time",
                  "dtype": "object",
                  "stats": {
                    "unique_count": 5,
                    "nan_count": 0,
                    "categories": [
                      {
                        "name": "4:22",
                        "count": 1
                      },
                      {
                        "name": "3:15",
                        "count": 1
                      },
                      {
                        "name": "3 others",
                        "count": 3
                      }
                    ]
                  }
                },
                {
                  "name": "date.entered",
                  "dtype": "object",
                  "stats": {
                    "unique_count": 5,
                    "nan_count": 0,
                    "categories": [
                      {
                        "name": "2000-02-26",
                        "count": 1
                      },
                      {
                        "name": "2000-09-02",
                        "count": 1
                      },
                      {
                        "name": "3 others",
                        "count": 3
                      }
                    ]
                  }
                },
                {
                  "name": "wk1",
                  "dtype": "int64",
                  "stats": {
                    "unique_count": 5,
                    "nan_count": 0,
                    "min": "57",
                    "max": "91",
                    "histogram": [
                      {
                        "bin_start": 57,
                        "bin_end": 60.4,
                        "count": 1
                      },
                      {
                        "bin_start": 60.4,
                        "bin_end": 63.8,
                        "count": 0
                      },
                      {
                        "bin_start": 63.8,
                        "bin_end": 67.2,
                        "count": 0
                      },
                      {
                        "bin_start": 67.2,
                        "bin_end": 70.6,
                        "count": 0
                      },
                      {
                        "bin_start": 70.6,
                        "bin_end": 74,
                        "count": 0
                      },
                      {
                        "bin_start": 74,
                        "bin_end": 77.4,
                        "count": 1
                      },
                      {
                        "bin_start": 77.4,
                        "bin_end": 80.8,
                        "count": 0
                      },
                      {
                        "bin_start": 80.8,
                        "bin_end": 84.2,
                        "count": 1
                      },
                      {
                        "bin_start": 84.2,
                        "bin_end": 87.6,
                        "count": 1
                      },
                      {
                        "bin_start": 87.6,
                        "bin_end": 91,
                        "count": 1
                      }
                    ]
                  }
                },
                {
                  "name": "wk2",
                  "dtype": "float64",
                  "stats": {
                    "unique_count": 5,
                    "nan_count": 0,
                    "min": "34.0",
                    "max": "87.0",
                    "histogram": [
                      {
                        "bin_start": 34,
                        "bin_end": 39.3,
                        "count": 1
                      },
                      {
                        "bin_start": 39.3,
                        "bin_end": 44.6,
                        "count": 0
                      },
                      {
                        "bin_start": 44.6,
                        "bin_end": 49.9,
                        "count": 0
                      },
                      {
                        "bin_start": 49.9,
                        "bin_end": 55.2,
                        "count": 0
                      },
                      {
                        "bin_start": 55.2,
                        "bin_end": 60.5,
                        "count": 0
                      },
                      {
                        "bin_start": 60.5,
                        "bin_end": 65.8,
                        "count": 0
                      },
                      {
                        "bin_start": 65.8,
                        "bin_end": 71.1,
                        "count": 1
                      },
                      {
                        "bin_start": 71.1,
                        "bin_end": 76.4,
                        "count": 1
                      },
                      {
                        "bin_start": 76.4,
                        "bin_end": 81.69999999999999,
                        "count": 0
                      },
                      {
                        "bin_start": 81.69999999999999,
                        "bin_end": 87,
                        "count": 2
                      }
                    ]
                  }
                },
                {
                  "name": "wk3",
                  "dtype": "float64",
                  "stats": {
                    "unique_count": 4,
                    "nan_count": 0,
                    "min": "25.0",
                    "max": "92.0",
                    "histogram": [
                      {
                        "bin_start": 25,
                        "bin_end": 31.7,
                        "count": 1
                      },
                      {
                        "bin_start": 31.7,
                        "bin_end": 38.4,
                        "count": 0
                      },
                      {
                        "bin_start": 38.4,
                        "bin_end": 45.1,
                        "count": 0
                      },
                      {
                        "bin_start": 45.1,
                        "bin_end": 51.8,
                        "count": 0
                      },
                      {
                        "bin_start": 51.8,
                        "bin_end": 58.5,
                        "count": 0
                      },
                      {
                        "bin_start": 58.5,
                        "bin_end": 65.2,
                        "count": 0
                      },
                      {
                        "bin_start": 65.2,
                        "bin_end": 71.9,
                        "count": 1
                      },
                      {
                        "bin_start": 71.9,
                        "bin_end": 78.6,
                        "count": 2
                      },
                      {
                        "bin_start": 78.6,
                        "bin_end": 85.30000000000001,
                        "count": 0
                      },
                      {
                        "bin_start": 85.30000000000001,
                        "bin_end": 92,
                        "count": 1
                      }
                    ]
                  }
                },
                {
                  "name": "wk4",
                  "dtype": "float64",
                  "stats": {
                    "unique_count": 4,
                    "nan_count": 1,
                    "min": "17.0",
                    "max": "77.0",
                    "histogram": [
                      {
                        "bin_start": 17,
                        "bin_end": 23,
                        "count": 1
                      },
                      {
                        "bin_start": 23,
                        "bin_end": 29,
                        "count": 0
                      },
                      {
                        "bin_start": 29,
                        "bin_end": 35,
                        "count": 0
                      },
                      {
                        "bin_start": 35,
                        "bin_end": 41,
                        "count": 0
                      },
                      {
                        "bin_start": 41,
                        "bin_end": 47,
                        "count": 0
                      },
                      {
                        "bin_start": 47,
                        "bin_end": 53,
                        "count": 0
                      },
                      {
                        "bin_start": 53,
                        "bin_end": 59,
                        "count": 0
                      },
                      {
                        "bin_start": 59,
                        "bin_end": 65,
                        "count": 0
                      },
                      {
                        "bin_start": 65,
                        "bin_end": 71,
                        "count": 2
                      },
                      {
                        "bin_start": 71,
                        "bin_end": 77,
                        "count": 1
                      }
                    ]
                  }
                },
                {
                  "name": "wk5",
                  "dtype": "float64",
                  "stats": {
                    "unique_count": 4,
                    "nan_count": 1,
                    "min": "17.0",
                    "max": "87.0",
                    "histogram": [
                      {
                        "bin_start": 17,
                        "bin_end": 24,
                        "count": 1
                      },
                      {
                        "bin_start": 24,
                        "bin_end": 31,
                        "count": 0
                      },
                      {
                        "bin_start": 31,
                        "bin_end": 38,
                        "count": 0
                      },
                      {
                        "bin_start": 38,
                        "bin_end": 45,
                        "count": 0
                      },
                      {
                        "bin_start": 45,
                        "bin_end": 52,
                        "count": 0
                      },
                      {
                        "bin_start": 52,
                        "bin_end": 59,
                        "count": 0
                      },
                      {
                        "bin_start": 59,
                        "bin_end": 66,
                        "count": 0
                      },
                      {
                        "bin_start": 66,
                        "bin_end": 73,
                        "count": 2
                      },
                      {
                        "bin_start": 73,
                        "bin_end": 80,
                        "count": 0
                      },
                      {
                        "bin_start": 80,
                        "bin_end": 87,
                        "count": 1
                      }
                    ]
                  }
                },
                {
                  "name": "wk6",
                  "dtype": "float64",
                  "stats": {
                    "unique_count": 4,
                    "nan_count": 1,
                    "min": "31.0",
                    "max": "94.0",
                    "histogram": [
                      {
                        "bin_start": 31,
                        "bin_end": 37.3,
                        "count": 1
                      },
                      {
                        "bin_start": 37.3,
                        "bin_end": 43.6,
                        "count": 0
                      },
                      {
                        "bin_start": 43.6,
                        "bin_end": 49.9,
                        "count": 0
                      },
                      {
                        "bin_start": 49.9,
                        "bin_end": 56.2,
                        "count": 0
                      },
                      {
                        "bin_start": 56.2,
                        "bin_end": 62.5,
                        "count": 1
                      },
                      {
                        "bin_start": 62.5,
                        "bin_end": 68.8,
                        "count": 1
                      },
                      {
                        "bin_start": 68.8,
                        "bin_end": 75.1,
                        "count": 0
                      },
                      {
                        "bin_start": 75.1,
                        "bin_end": 81.4,
                        "count": 0
                      },
                      {
                        "bin_start": 81.4,
                        "bin_end": 87.69999999999999,
                        "count": 0
                      },
                      {
                        "bin_start": 87.69999999999999,
                        "bin_end": 94,
                        "count": 1
                      }
                    ]
                  }
                },
                {
                  "name": "wk7",
                  "dtype": "float64",
                  "stats": {
                    "unique_count": 4,
                    "nan_count": 1,
                    "min": "36.0",
                    "max": "99.0",
                    "histogram": [
                      {
                        "bin_start": 36,
                        "bin_end": 42.3,
                        "count": 1
                      },
                      {
                        "bin_start": 42.3,
                        "bin_end": 48.6,
                        "count": 0
                      },
                      {
                        "bin_start": 48.6,
                        "bin_end": 54.9,
                        "count": 1
                      },
                      {
                        "bin_start": 54.9,
                        "bin_end": 61.2,
                        "count": 1
                      },
                      {
                        "bin_start": 61.2,
                        "bin_end": 67.5,
                        "count": 0
                      },
                      {
                        "bin_start": 67.5,
                        "bin_end": 73.8,
                        "count": 0
                      },
                      {
                        "bin_start": 73.8,
                        "bin_end": 80.1,
                        "count": 0
                      },
                      {
                        "bin_start": 80.1,
                        "bin_end": 86.4,
                        "count": 0
                      },
                      {
                        "bin_start": 86.4,
                        "bin_end": 92.69999999999999,
                        "count": 0
                      },
                      {
                        "bin_start": 92.69999999999999,
                        "bin_end": 99,
                        "count": 1
                      }
                    ]
                  }
                },
                {
                  "name": "wk8",
                  "dtype": "float64",
                  "stats": {
                    "unique_count": 3,
                    "nan_count": 2,
                    "min": "49.0",
                    "max": "59.0",
                    "histogram": [
                      {
                        "bin_start": 49,
                        "bin_end": 50,
                        "count": 1
                      },
                      {
                        "bin_start": 50,
                        "bin_end": 51,
                        "count": 0
                      },
                      {
                        "bin_start": 51,
                        "bin_end": 52,
                        "count": 0
                      },
                      {
                        "bin_start": 52,
                        "bin_end": 53,
                        "count": 0
                      },
                      {
                        "bin_start": 53,
                        "bin_end": 54,
                        "count": 1
                      },
                      {
                        "bin_start": 54,
                        "bin_end": 55,
                        "count": 0
                      },
                      {
                        "bin_start": 55,
                        "bin_end": 56,
                        "count": 0
                      },
                      {
                        "bin_start": 56,
                        "bin_end": 57,
                        "count": 0
                      },
                      {
                        "bin_start": 57,
                        "bin_end": 58,
                        "count": 0
                      },
                      {
                        "bin_start": 58,
                        "bin_end": 59,
                        "count": 1
                      }
                    ]
                  }
                },
                {
                  "name": "wk9",
                  "dtype": "float64",
                  "stats": {
                    "unique_count": 3,
                    "nan_count": 2,
                    "min": "51.0",
                    "max": "62.0",
                    "histogram": [
                      {
                        "bin_start": 51,
                        "bin_end": 52.1,
                        "count": 1
                      },
                      {
                        "bin_start": 52.1,
                        "bin_end": 53.2,
                        "count": 1
                      },
                      {
                        "bin_start": 53.2,
                        "bin_end": 54.3,
                        "count": 0
                      },
                      {
                        "bin_start": 54.3,
                        "bin_end": 55.4,
                        "count": 0
                      },
                      {
                        "bin_start": 55.4,
                        "bin_end": 56.5,
                        "count": 0
                      },
                      {
                        "bin_start": 56.5,
                        "bin_end": 57.6,
                        "count": 0
                      },
                      {
                        "bin_start": 57.6,
                        "bin_end": 58.7,
                        "count": 0
                      },
                      {
                        "bin_start": 58.7,
                        "bin_end": 59.8,
                        "count": 0
                      },
                      {
                        "bin_start": 59.8,
                        "bin_end": 60.9,
                        "count": 0
                      },
                      {
                        "bin_start": 60.9,
                        "bin_end": 62,
                        "count": 1
                      }
                    ]
                  }
                },
                {
                  "name": "wk10",
                  "dtype": "float64",
                  "stats": {
                    "unique_count": 3,
                    "nan_count": 2,
                    "min": "51.0",
                    "max": "61.0",
                    "histogram": [
                      {
                        "bin_start": 51,
                        "bin_end": 52,
                        "count": 1
                      },
                      {
                        "bin_start": 52,
                        "bin_end": 53,
                        "count": 0
                      },
                      {
                        "bin_start": 53,
                        "bin_end": 54,
                        "count": 0
                      },
                      {
                        "bin_start": 54,
                        "bin_end": 55,
                        "count": 0
                      },
                      {
                        "bin_start": 55,
                        "bin_end": 56,
                        "count": 0
                      },
                      {
                        "bin_start": 56,
                        "bin_end": 57,
                        "count": 0
                      },
                      {
                        "bin_start": 57,
                        "bin_end": 58,
                        "count": 1
                      },
                      {
                        "bin_start": 58,
                        "bin_end": 59,
                        "count": 0
                      },
                      {
                        "bin_start": 59,
                        "bin_end": 60,
                        "count": 0
                      },
                      {
                        "bin_start": 60,
                        "bin_end": 61,
                        "count": 1
                      }
                    ]
                  }
                },
                {
                  "name": "wk11",
                  "dtype": "float64",
                  "stats": {
                    "unique_count": 3,
                    "nan_count": 2,
                    "min": "51.0",
                    "max": "64.0",
                    "histogram": [
                      {
                        "bin_start": 51,
                        "bin_end": 52.3,
                        "count": 1
                      },
                      {
                        "bin_start": 52.3,
                        "bin_end": 53.6,
                        "count": 0
                      },
                      {
                        "bin_start": 53.6,
                        "bin_end": 54.9,
                        "count": 0
                      },
                      {
                        "bin_start": 54.9,
                        "bin_end": 56.2,
                        "count": 0
                      },
                      {
                        "bin_start": 56.2,
                        "bin_end": 57.5,
                        "count": 0
                      },
                      {
                        "bin_start": 57.5,
                        "bin_end": 58.8,
                        "count": 0
                      },
                      {
                        "bin_start": 58.8,
                        "bin_end": 60.1,
                        "count": 0
                      },
                      {
                        "bin_start": 60.1,
                        "bin_end": 61.4,
                        "count": 1
                      },
                      {
                        "bin_start": 61.4,
                        "bin_end": 62.7,
                        "count": 0
                      },
                      {
                        "bin_start": 62.7,
                        "bin_end": 64,
                        "count": 1
                      }
                    ]
                  }
                },
                {
                  "name": "wk12",
                  "dtype": "float64",
                  "stats": {
                    "unique_count": 3,
                    "nan_count": 2,
                    "min": "51.0",
                    "max": "70.0",
                    "histogram": [
                      {
                        "bin_start": 51,
                        "bin_end": 52.9,
                        "count": 1
                      },
                      {
                        "bin_start": 52.9,
                        "bin_end": 54.8,
                        "count": 0
                      },
                      {
                        "bin_start": 54.8,
                        "bin_end": 56.7,
                        "count": 0
                      },
                      {
                        "bin_start": 56.7,
                        "bin_end": 58.6,
                        "count": 0
                      },
                      {
                        "bin_start": 58.6,
                        "bin_end": 60.5,
                        "count": 1
                      },
                      {
                        "bin_start": 60.5,
                        "bin_end": 62.4,
                        "count": 0
                      },
                      {
                        "bin_start": 62.4,
                        "bin_end": 64.3,
                        "count": 0
                      },
                      {
                        "bin_start": 64.3,
                        "bin_end": 66.2,
                        "count": 0
                      },
                      {
                        "bin_start": 66.2,
                        "bin_end": 68.1,
                        "count": 0
                      },
                      {
                        "bin_start": 68.1,
                        "bin_end": 70,
                        "count": 1
                      }
                    ]
                  }
                },
                {
                  "name": "wk13",
                  "dtype": "float64",
                  "stats": {
                    "unique_count": 3,
                    "nan_count": 2,
                    "min": "47.0",
                    "max": "75.0",
                    "histogram": [
                      {
                        "bin_start": 47,
                        "bin_end": 49.8,
                        "count": 1
                      },
                      {
                        "bin_start": 49.8,
                        "bin_end": 52.6,
                        "count": 0
                      },
                      {
                        "bin_start": 52.6,
                        "bin_end": 55.4,
                        "count": 0
                      },
                      {
                        "bin_start": 55.4,
                        "bin_end": 58.2,
                        "count": 0
                      },
                      {
                        "bin_start": 58.2,
                        "bin_end": 61,
                        "count": 0
                      },
                      {
                        "bin_start": 61,
                        "bin_end": 63.8,
                        "count": 1
                      },
                      {
                        "bin_start": 63.8,
                        "bin_end": 66.6,
                        "count": 0
                      },
                      {
                        "bin_start": 66.6,
                        "bin_end": 69.4,
                        "count": 0
                      },
                      {
                        "bin_start": 69.4,
                        "bin_end": 72.2,
                        "count": 0
                      },
                      {
                        "bin_start": 72.2,
                        "bin_end": 75,
                        "count": 1
                      }
                    ]
                  }
                },
                {
                  "name": "wk14",
                  "dtype": "float64",
                  "stats": {
                    "unique_count": 3,
                    "nan_count": 2,
                    "min": "44.0",
                    "max": "76.0",
                    "histogram": [
                      {
                        "bin_start": 44,
                        "bin_end": 47.2,
                        "count": 1
                      },
                      {
                        "bin_start": 47.2,
                        "bin_end": 50.4,
                        "count": 0
                      },
                      {
                        "bin_start": 50.4,
                        "bin_end": 53.6,
                        "count": 0
                      },
                      {
                        "bin_start": 53.6,
                        "bin_end": 56.8,
                        "count": 0
                      },
                      {
                        "bin_start": 56.8,
                        "bin_end": 60,
                        "count": 0
                      },
                      {
                        "bin_start": 60,
                        "bin_end": 63.2,
                        "count": 0
                      },
                      {
                        "bin_start": 63.2,
                        "bin_end": 66.4,
                        "count": 1
                      },
                      {
                        "bin_start": 66.4,
                        "bin_end": 69.6,
                        "count": 0
                      },
                      {
                        "bin_start": 69.6,
                        "bin_end": 72.8,
                        "count": 0
                      },
                      {
                        "bin_start": 72.8,
                        "bin_end": 76,
                        "count": 1
                      }
                    ]
                  }
                },
                {
                  "name": "wk15",
                  "dtype": "float64",
                  "stats": {
                    "unique_count": 3,
                    "nan_count": 2,
                    "min": "38.0",
                    "max": "78.0",
                    "histogram": [
                      {
                        "bin_start": 38,
                        "bin_end": 42,
                        "count": 1
                      },
                      {
                        "bin_start": 42,
                        "bin_end": 46,
                        "count": 0
                      },
                      {
                        "bin_start": 46,
                        "bin_end": 50,
                        "count": 0
                      },
                      {
                        "bin_start": 50,
                        "bin_end": 54,
                        "count": 0
                      },
                      {
                        "bin_start": 54,
                        "bin_end": 58,
                        "count": 0
                      },
                      {
                        "bin_start": 58,
                        "bin_end": 62,
                        "count": 0
                      },
                      {
                        "bin_start": 62,
                        "bin_end": 66,
                        "count": 0
                      },
                      {
                        "bin_start": 66,
                        "bin_end": 70,
                        "count": 0
                      },
                      {
                        "bin_start": 70,
                        "bin_end": 74,
                        "count": 1
                      },
                      {
                        "bin_start": 74,
                        "bin_end": 78,
                        "count": 1
                      }
                    ]
                  }
                },
                {
                  "name": "wk16",
                  "dtype": "float64",
                  "stats": {
                    "unique_count": 3,
                    "nan_count": 2,
                    "min": "28.0",
                    "max": "85.0",
                    "histogram": [
                      {
                        "bin_start": 28,
                        "bin_end": 33.7,
                        "count": 1
                      },
                      {
                        "bin_start": 33.7,
                        "bin_end": 39.4,
                        "count": 0
                      },
                      {
                        "bin_start": 39.4,
                        "bin_end": 45.1,
                        "count": 0
                      },
                      {
                        "bin_start": 45.1,
                        "bin_end": 50.8,
                        "count": 0
                      },
                      {
                        "bin_start": 50.8,
                        "bin_end": 56.5,
                        "count": 0
                      },
                      {
                        "bin_start": 56.5,
                        "bin_end": 62.2,
                        "count": 0
                      },
                      {
                        "bin_start": 62.2,
                        "bin_end": 67.9,
                        "count": 0
                      },
                      {
                        "bin_start": 67.9,
                        "bin_end": 73.6,
                        "count": 0
                      },
                      {
                        "bin_start": 73.6,
                        "bin_end": 79.30000000000001,
                        "count": 1
                      },
                      {
                        "bin_start": 79.30000000000001,
                        "bin_end": 85,
                        "count": 1
                      }
                    ]
                  }
                },
                {
                  "name": "wk17",
                  "dtype": "float64",
                  "stats": {
                    "unique_count": 3,
                    "nan_count": 2,
                    "min": "22.0",
                    "max": "92.0",
                    "histogram": [
                      {
                        "bin_start": 22,
                        "bin_end": 29,
                        "count": 1
                      },
                      {
                        "bin_start": 29,
                        "bin_end": 36,
                        "count": 0
                      },
                      {
                        "bin_start": 36,
                        "bin_end": 43,
                        "count": 0
                      },
                      {
                        "bin_start": 43,
                        "bin_end": 50,
                        "count": 0
                      },
                      {
                        "bin_start": 50,
                        "bin_end": 57,
                        "count": 0
                      },
                      {
                        "bin_start": 57,
                        "bin_end": 64,
                        "count": 0
                      },
                      {
                        "bin_start": 64,
                        "bin_end": 71,
                        "count": 0
                      },
                      {
                        "bin_start": 71,
                        "bin_end": 78,
                        "count": 1
                      },
                      {
                        "bin_start": 78,
                        "bin_end": 85,
                        "count": 0
                      },
                      {
                        "bin_start": 85,
                        "bin_end": 92,
                        "count": 1
                      }
                    ]
                  }
                },
                {
                  "name": "wk18",
                  "dtype": "float64",
                  "stats": {
                    "unique_count": 3,
                    "nan_count": 2,
                    "min": "18.0",
                    "max": "96.0",
                    "histogram": [
                      {
                        "bin_start": 18,
                        "bin_end": 25.8,
                        "count": 1
                      },
                      {
                        "bin_start": 25.8,
                        "bin_end": 33.6,
                        "count": 0
                      },
                      {
                        "bin_start": 33.6,
                        "bin_end": 41.4,
                        "count": 0
                      },
                      {
                        "bin_start": 41.4,
                        "bin_end": 49.2,
                        "count": 0
                      },
                      {
                        "bin_start": 49.2,
                        "bin_end": 57,
                        "count": 0
                      },
                      {
                        "bin_start": 57,
                        "bin_end": 64.8,
                        "count": 0
                      },
                      {
                        "bin_start": 64.8,
                        "bin_end": 72.6,
                        "count": 1
                      },
                      {
                        "bin_start": 72.6,
                        "bin_end": 80.4,
                        "count": 0
                      },
                      {
                        "bin_start": 80.4,
                        "bin_end": 88.2,
                        "count": 0
                      },
                      {
                        "bin_start": 88.2,
                        "bin_end": 96,
                        "count": 1
                      }
                    ]
                  }
                },
                {
                  "name": "wk19",
                  "dtype": "float64",
                  "stats": {
                    "unique_count": 2,
                    "nan_count": 3,
                    "min": "18.0",
                    "max": "73.0",
                    "histogram": [
                      {
                        "bin_start": 18,
                        "bin_end": 23.5,
                        "count": 1
                      },
                      {
                        "bin_start": 23.5,
                        "bin_end": 29,
                        "count": 0
                      },
                      {
                        "bin_start": 29,
                        "bin_end": 34.5,
                        "count": 0
                      },
                      {
                        "bin_start": 34.5,
                        "bin_end": 40,
                        "count": 0
                      },
                      {
                        "bin_start": 40,
                        "bin_end": 45.5,
                        "count": 0
                      },
                      {
                        "bin_start": 45.5,
                        "bin_end": 51,
                        "count": 0
                      },
                      {
                        "bin_start": 51,
                        "bin_end": 56.5,
                        "count": 0
                      },
                      {
                        "bin_start": 56.5,
                        "bin_end": 62,
                        "count": 0
                      },
                      {
                        "bin_start": 62,
                        "bin_end": 67.5,
                        "count": 0
                      },
                      {
                        "bin_start": 67.5,
                        "bin_end": 73,
                        "count": 1
                      }
                    ]
                  }
                },
                {
                  "name": "wk20",
                  "dtype": "float64",
                  "stats": {
                    "unique_count": 2,
                    "nan_count": 3,
                    "min": "14.0",
                    "max": "70.0",
                    "histogram": [
                      {
                        "bin_start": 14,
                        "bin_end": 19.6,
                        "count": 1
                      },
                      {
                        "bin_start": 19.6,
                        "bin_end": 25.2,
                        "count": 0
                      },
                      {
                        "bin_start": 25.2,
                        "bin_end": 30.799999999999997,
                        "count": 0
                      },
                      {
                        "bin_start": 30.799999999999997,
                        "bin_end": 36.4,
                        "count": 0
                      },
                      {
                        "bin_start": 36.4,
                        "bin_end": 42,
                        "count": 0
                      },
                      {
                        "bin_start": 42,
                        "bin_end": 47.599999999999994,
                        "count": 0
                      },
                      {
                        "bin_start": 47.599999999999994,
                        "bin_end": 53.199999999999996,
                        "count": 0
                      },
                      {
                        "bin_start": 53.199999999999996,
                        "bin_end": 58.8,
                        "count": 0
                      },
                      {
                        "bin_start": 58.8,
                        "bin_end": 64.4,
                        "count": 0
                      },
                      {
                        "bin_start": 64.4,
                        "bin_end": 70,
                        "count": 1
                      }
                    ]
                  }
                },
                {
                  "name": "wk21",
                  "dtype": "float64",
                  "stats": {
                    "unique_count": 1,
                    "nan_count": 4,
                    "min": "12.0",
                    "max": "12.0",
                    "histogram": [
                      {
                        "bin_start": 11.5,
                        "bin_end": 11.6,
                        "count": 0
                      },
                      {
                        "bin_start": 11.6,
                        "bin_end": 11.7,
                        "count": 0
                      },
                      {
                        "bin_start": 11.7,
                        "bin_end": 11.8,
                        "count": 0
                      },
                      {
                        "bin_start": 11.8,
                        "bin_end": 11.9,
                        "count": 0
                      },
                      {
                        "bin_start": 11.9,
                        "bin_end": 12,
                        "count": 0
                      },
                      {
                        "bin_start": 12,
                        "bin_end": 12.1,
                        "count": 1
                      },
                      {
                        "bin_start": 12.1,
                        "bin_end": 12.2,
                        "count": 0
                      },
                      {
                        "bin_start": 12.2,
                        "bin_end": 12.3,
                        "count": 0
                      },
                      {
                        "bin_start": 12.3,
                        "bin_end": 12.4,
                        "count": 0
                      },
                      {
                        "bin_start": 12.4,
                        "bin_end": 12.5,
                        "count": 0
                      }
                    ]
                  }
                },
                {
                  "name": "wk22",
                  "dtype": "float64",
                  "stats": {
                    "unique_count": 1,
                    "nan_count": 4,
                    "min": "7.0",
                    "max": "7.0",
                    "histogram": [
                      {
                        "bin_start": 6.5,
                        "bin_end": 6.6,
                        "count": 0
                      },
                      {
                        "bin_start": 6.6,
                        "bin_end": 6.7,
                        "count": 0
                      },
                      {
                        "bin_start": 6.7,
                        "bin_end": 6.8,
                        "count": 0
                      },
                      {
                        "bin_start": 6.8,
                        "bin_end": 6.9,
                        "count": 0
                      },
                      {
                        "bin_start": 6.9,
                        "bin_end": 7,
                        "count": 0
                      },
                      {
                        "bin_start": 7,
                        "bin_end": 7.1,
                        "count": 1
                      },
                      {
                        "bin_start": 7.1,
                        "bin_end": 7.2,
                        "count": 0
                      },
                      {
                        "bin_start": 7.2,
                        "bin_end": 7.3,
                        "count": 0
                      },
                      {
                        "bin_start": 7.3,
                        "bin_end": 7.4,
                        "count": 0
                      },
                      {
                        "bin_start": 7.4,
                        "bin_end": 7.5,
                        "count": 0
                      }
                    ]
                  }
                },
                {
                  "name": "wk23",
                  "dtype": "float64",
                  "stats": {
                    "unique_count": 1,
                    "nan_count": 4,
                    "min": "6.0",
                    "max": "6.0",
                    "histogram": [
                      {
                        "bin_start": 5.5,
                        "bin_end": 5.6,
                        "count": 0
                      },
                      {
                        "bin_start": 5.6,
                        "bin_end": 5.7,
                        "count": 0
                      },
                      {
                        "bin_start": 5.7,
                        "bin_end": 5.8,
                        "count": 0
                      },
                      {
                        "bin_start": 5.8,
                        "bin_end": 5.9,
                        "count": 0
                      },
                      {
                        "bin_start": 5.9,
                        "bin_end": 6,
                        "count": 0
                      },
                      {
                        "bin_start": 6,
                        "bin_end": 6.1,
                        "count": 1
                      },
                      {
                        "bin_start": 6.1,
                        "bin_end": 6.2,
                        "count": 0
                      },
                      {
                        "bin_start": 6.2,
                        "bin_end": 6.3,
                        "count": 0
                      },
                      {
                        "bin_start": 6.3,
                        "bin_end": 6.4,
                        "count": 0
                      },
                      {
                        "bin_start": 6.4,
                        "bin_end": 6.5,
                        "count": 0
                      }
                    ]
                  }
                },
                {
                  "name": "wk24",
                  "dtype": "float64",
                  "stats": {
                    "unique_count": 1,
                    "nan_count": 4,
                    "min": "6.0",
                    "max": "6.0",
                    "histogram": [
                      {
                        "bin_start": 5.5,
                        "bin_end": 5.6,
                        "count": 0
                      },
                      {
                        "bin_start": 5.6,
                        "bin_end": 5.7,
                        "count": 0
                      },
                      {
                        "bin_start": 5.7,
                        "bin_end": 5.8,
                        "count": 0
                      },
                      {
                        "bin_start": 5.8,
                        "bin_end": 5.9,
                        "count": 0
                      },
                      {
                        "bin_start": 5.9,
                        "bin_end": 6,
                        "count": 0
                      },
                      {
                        "bin_start": 6,
                        "bin_end": 6.1,
                        "count": 1
                      },
                      {
                        "bin_start": 6.1,
                        "bin_end": 6.2,
                        "count": 0
                      },
                      {
                        "bin_start": 6.2,
                        "bin_end": 6.3,
                        "count": 0
                      },
                      {
                        "bin_start": 6.3,
                        "bin_end": 6.4,
                        "count": 0
                      },
                      {
                        "bin_start": 6.4,
                        "bin_end": 6.5,
                        "count": 0
                      }
                    ]
                  }
                },
                {
                  "name": "wk25",
                  "dtype": "float64",
                  "stats": {
                    "unique_count": 1,
                    "nan_count": 4,
                    "min": "6.0",
                    "max": "6.0",
                    "histogram": [
                      {
                        "bin_start": 5.5,
                        "bin_end": 5.6,
                        "count": 0
                      },
                      {
                        "bin_start": 5.6,
                        "bin_end": 5.7,
                        "count": 0
                      },
                      {
                        "bin_start": 5.7,
                        "bin_end": 5.8,
                        "count": 0
                      },
                      {
                        "bin_start": 5.8,
                        "bin_end": 5.9,
                        "count": 0
                      },
                      {
                        "bin_start": 5.9,
                        "bin_end": 6,
                        "count": 0
                      },
                      {
                        "bin_start": 6,
                        "bin_end": 6.1,
                        "count": 1
                      },
                      {
                        "bin_start": 6.1,
                        "bin_end": 6.2,
                        "count": 0
                      },
                      {
                        "bin_start": 6.2,
                        "bin_end": 6.3,
                        "count": 0
                      },
                      {
                        "bin_start": 6.3,
                        "bin_end": 6.4,
                        "count": 0
                      },
                      {
                        "bin_start": 6.4,
                        "bin_end": 6.5,
                        "count": 0
                      }
                    ]
                  }
                },
                {
                  "name": "wk26",
                  "dtype": "float64",
                  "stats": {
                    "unique_count": 1,
                    "nan_count": 4,
                    "min": "5.0",
                    "max": "5.0",
                    "histogram": [
                      {
                        "bin_start": 4.5,
                        "bin_end": 4.6,
                        "count": 0
                      },
                      {
                        "bin_start": 4.6,
                        "bin_end": 4.7,
                        "count": 0
                      },
                      {
                        "bin_start": 4.7,
                        "bin_end": 4.8,
                        "count": 0
                      },
                      {
                        "bin_start": 4.8,
                        "bin_end": 4.9,
                        "count": 0
                      },
                      {
                        "bin_start": 4.9,
                        "bin_end": 5,
                        "count": 0
                      },
                      {
                        "bin_start": 5,
                        "bin_end": 5.1,
                        "count": 1
                      },
                      {
                        "bin_start": 5.1,
                        "bin_end": 5.2,
                        "count": 0
                      },
                      {
                        "bin_start": 5.2,
                        "bin_end": 5.3,
                        "count": 0
                      },
                      {
                        "bin_start": 5.3,
                        "bin_end": 5.4,
                        "count": 0
                      },
                      {
                        "bin_start": 5.4,
                        "bin_end": 5.5,
                        "count": 0
                      }
                    ]
                  }
                },
                {
                  "name": "wk27",
                  "dtype": "float64",
                  "stats": {
                    "unique_count": 1,
                    "nan_count": 4,
                    "min": "5.0",
                    "max": "5.0",
                    "histogram": [
                      {
                        "bin_start": 4.5,
                        "bin_end": 4.6,
                        "count": 0
                      },
                      {
                        "bin_start": 4.6,
                        "bin_end": 4.7,
                        "count": 0
                      },
                      {
                        "bin_start": 4.7,
                        "bin_end": 4.8,
                        "count": 0
                      },
                      {
                        "bin_start": 4.8,
                        "bin_end": 4.9,
                        "count": 0
                      },
                      {
                        "bin_start": 4.9,
                        "bin_end": 5,
                        "count": 0
                      },
                      {
                        "bin_start": 5,
                        "bin_end": 5.1,
                        "count": 1
                      },
                      {
                        "bin_start": 5.1,
                        "bin_end": 5.2,
                        "count": 0
                      },
                      {
                        "bin_start": 5.2,
                        "bin_end": 5.3,
                        "count": 0
                      },
                      {
                        "bin_start": 5.3,
                        "bin_end": 5.4,
                        "count": 0
                      },
                      {
                        "bin_start": 5.4,
                        "bin_end": 5.5,
                        "count": 0
                      }
                    ]
                  }
                },
                {
                  "name": "wk28",
                  "dtype": "float64",
                  "stats": {
                    "unique_count": 1,
                    "nan_count": 4,
                    "min": "4.0",
                    "max": "4.0",
                    "histogram": [
                      {
                        "bin_start": 3.5,
                        "bin_end": 3.6,
                        "count": 0
                      },
                      {
                        "bin_start": 3.6,
                        "bin_end": 3.7,
                        "count": 0
                      },
                      {
                        "bin_start": 3.7,
                        "bin_end": 3.8,
                        "count": 0
                      },
                      {
                        "bin_start": 3.8,
                        "bin_end": 3.9,
                        "count": 0
                      },
                      {
                        "bin_start": 3.9,
                        "bin_end": 4,
                        "count": 0
                      },
                      {
                        "bin_start": 4,
                        "bin_end": 4.1,
                        "count": 1
                      },
                      {
                        "bin_start": 4.1,
                        "bin_end": 4.2,
                        "count": 0
                      },
                      {
                        "bin_start": 4.2,
                        "bin_end": 4.3,
                        "count": 0
                      },
                      {
                        "bin_start": 4.3,
                        "bin_end": 4.4,
                        "count": 0
                      },
                      {
                        "bin_start": 4.4,
                        "bin_end": 4.5,
                        "count": 0
                      }
                    ]
                  }
                },
                {
                  "name": "wk29",
                  "dtype": "float64",
                  "stats": {
                    "unique_count": 1,
                    "nan_count": 4,
                    "min": "4.0",
                    "max": "4.0",
                    "histogram": [
                      {
                        "bin_start": 3.5,
                        "bin_end": 3.6,
                        "count": 0
                      },
                      {
                        "bin_start": 3.6,
                        "bin_end": 3.7,
                        "count": 0
                      },
                      {
                        "bin_start": 3.7,
                        "bin_end": 3.8,
                        "count": 0
                      },
                      {
                        "bin_start": 3.8,
                        "bin_end": 3.9,
                        "count": 0
                      },
                      {
                        "bin_start": 3.9,
                        "bin_end": 4,
                        "count": 0
                      },
                      {
                        "bin_start": 4,
                        "bin_end": 4.1,
                        "count": 1
                      },
                      {
                        "bin_start": 4.1,
                        "bin_end": 4.2,
                        "count": 0
                      },
                      {
                        "bin_start": 4.2,
                        "bin_end": 4.3,
                        "count": 0
                      },
                      {
                        "bin_start": 4.3,
                        "bin_end": 4.4,
                        "count": 0
                      },
                      {
                        "bin_start": 4.4,
                        "bin_end": 4.5,
                        "count": 0
                      }
                    ]
                  }
                },
                {
                  "name": "wk30",
                  "dtype": "float64",
                  "stats": {
                    "unique_count": 1,
                    "nan_count": 4,
                    "min": "4.0",
                    "max": "4.0",
                    "histogram": [
                      {
                        "bin_start": 3.5,
                        "bin_end": 3.6,
                        "count": 0
                      },
                      {
                        "bin_start": 3.6,
                        "bin_end": 3.7,
                        "count": 0
                      },
                      {
                        "bin_start": 3.7,
                        "bin_end": 3.8,
                        "count": 0
                      },
                      {
                        "bin_start": 3.8,
                        "bin_end": 3.9,
                        "count": 0
                      },
                      {
                        "bin_start": 3.9,
                        "bin_end": 4,
                        "count": 0
                      },
                      {
                        "bin_start": 4,
                        "bin_end": 4.1,
                        "count": 1
                      },
                      {
                        "bin_start": 4.1,
                        "bin_end": 4.2,
                        "count": 0
                      },
                      {
                        "bin_start": 4.2,
                        "bin_end": 4.3,
                        "count": 0
                      },
                      {
                        "bin_start": 4.3,
                        "bin_end": 4.4,
                        "count": 0
                      },
                      {
                        "bin_start": 4.4,
                        "bin_end": 4.5,
                        "count": 0
                      }
                    ]
                  }
                },
                {
                  "name": "wk31",
                  "dtype": "float64",
                  "stats": {
                    "unique_count": 1,
                    "nan_count": 4,
                    "min": "4.0",
                    "max": "4.0",
                    "histogram": [
                      {
                        "bin_start": 3.5,
                        "bin_end": 3.6,
                        "count": 0
                      },
                      {
                        "bin_start": 3.6,
                        "bin_end": 3.7,
                        "count": 0
                      },
                      {
                        "bin_start": 3.7,
                        "bin_end": 3.8,
                        "count": 0
                      },
                      {
                        "bin_start": 3.8,
                        "bin_end": 3.9,
                        "count": 0
                      },
                      {
                        "bin_start": 3.9,
                        "bin_end": 4,
                        "count": 0
                      },
                      {
                        "bin_start": 4,
                        "bin_end": 4.1,
                        "count": 1
                      },
                      {
                        "bin_start": 4.1,
                        "bin_end": 4.2,
                        "count": 0
                      },
                      {
                        "bin_start": 4.2,
                        "bin_end": 4.3,
                        "count": 0
                      },
                      {
                        "bin_start": 4.3,
                        "bin_end": 4.4,
                        "count": 0
                      },
                      {
                        "bin_start": 4.4,
                        "bin_end": 4.5,
                        "count": 0
                      }
                    ]
                  }
                },
                {
                  "name": "wk32",
                  "dtype": "float64",
                  "stats": {
                    "unique_count": 1,
                    "nan_count": 4,
                    "min": "3.0",
                    "max": "3.0",
                    "histogram": [
                      {
                        "bin_start": 2.5,
                        "bin_end": 2.6,
                        "count": 0
                      },
                      {
                        "bin_start": 2.6,
                        "bin_end": 2.7,
                        "count": 0
                      },
                      {
                        "bin_start": 2.7,
                        "bin_end": 2.8,
                        "count": 0
                      },
                      {
                        "bin_start": 2.8,
                        "bin_end": 2.9,
                        "count": 0
                      },
                      {
                        "bin_start": 2.9,
                        "bin_end": 3,
                        "count": 0
                      },
                      {
                        "bin_start": 3,
                        "bin_end": 3.1,
                        "count": 1
                      },
                      {
                        "bin_start": 3.1,
                        "bin_end": 3.2,
                        "count": 0
                      },
                      {
                        "bin_start": 3.2,
                        "bin_end": 3.3,
                        "count": 0
                      },
                      {
                        "bin_start": 3.3,
                        "bin_end": 3.4,
                        "count": 0
                      },
                      {
                        "bin_start": 3.4,
                        "bin_end": 3.5,
                        "count": 0
                      }
                    ]
                  }
                },
                {
                  "name": "wk33",
                  "dtype": "float64",
                  "stats": {
                    "unique_count": 1,
                    "nan_count": 4,
                    "min": "3.0",
                    "max": "3.0",
                    "histogram": [
                      {
                        "bin_start": 2.5,
                        "bin_end": 2.6,
                        "count": 0
                      },
                      {
                        "bin_start": 2.6,
                        "bin_end": 2.7,
                        "count": 0
                      },
                      {
                        "bin_start": 2.7,
                        "bin_end": 2.8,
                        "count": 0
                      },
                      {
                        "bin_start": 2.8,
                        "bin_end": 2.9,
                        "count": 0
                      },
                      {
                        "bin_start": 2.9,
                        "bin_end": 3,
                        "count": 0
                      },
                      {
                        "bin_start": 3,
                        "bin_end": 3.1,
                        "count": 1
                      },
                      {
                        "bin_start": 3.1,
                        "bin_end": 3.2,
                        "count": 0
                      },
                      {
                        "bin_start": 3.2,
                        "bin_end": 3.3,
                        "count": 0
                      },
                      {
                        "bin_start": 3.3,
                        "bin_end": 3.4,
                        "count": 0
                      },
                      {
                        "bin_start": 3.4,
                        "bin_end": 3.5,
                        "count": 0
                      }
                    ]
                  }
                },
                {
                  "name": "wk34",
                  "dtype": "float64",
                  "stats": {
                    "unique_count": 1,
                    "nan_count": 4,
                    "min": "3.0",
                    "max": "3.0",
                    "histogram": [
                      {
                        "bin_start": 2.5,
                        "bin_end": 2.6,
                        "count": 0
                      },
                      {
                        "bin_start": 2.6,
                        "bin_end": 2.7,
                        "count": 0
                      },
                      {
                        "bin_start": 2.7,
                        "bin_end": 2.8,
                        "count": 0
                      },
                      {
                        "bin_start": 2.8,
                        "bin_end": 2.9,
                        "count": 0
                      },
                      {
                        "bin_start": 2.9,
                        "bin_end": 3,
                        "count": 0
                      },
                      {
                        "bin_start": 3,
                        "bin_end": 3.1,
                        "count": 1
                      },
                      {
                        "bin_start": 3.1,
                        "bin_end": 3.2,
                        "count": 0
                      },
                      {
                        "bin_start": 3.2,
                        "bin_end": 3.3,
                        "count": 0
                      },
                      {
                        "bin_start": 3.3,
                        "bin_end": 3.4,
                        "count": 0
                      },
                      {
                        "bin_start": 3.4,
                        "bin_end": 3.5,
                        "count": 0
                      }
                    ]
                  }
                },
                {
                  "name": "wk35",
                  "dtype": "float64",
                  "stats": {
                    "unique_count": 1,
                    "nan_count": 4,
                    "min": "4.0",
                    "max": "4.0",
                    "histogram": [
                      {
                        "bin_start": 3.5,
                        "bin_end": 3.6,
                        "count": 0
                      },
                      {
                        "bin_start": 3.6,
                        "bin_end": 3.7,
                        "count": 0
                      },
                      {
                        "bin_start": 3.7,
                        "bin_end": 3.8,
                        "count": 0
                      },
                      {
                        "bin_start": 3.8,
                        "bin_end": 3.9,
                        "count": 0
                      },
                      {
                        "bin_start": 3.9,
                        "bin_end": 4,
                        "count": 0
                      },
                      {
                        "bin_start": 4,
                        "bin_end": 4.1,
                        "count": 1
                      },
                      {
                        "bin_start": 4.1,
                        "bin_end": 4.2,
                        "count": 0
                      },
                      {
                        "bin_start": 4.2,
                        "bin_end": 4.3,
                        "count": 0
                      },
                      {
                        "bin_start": 4.3,
                        "bin_end": 4.4,
                        "count": 0
                      },
                      {
                        "bin_start": 4.4,
                        "bin_end": 4.5,
                        "count": 0
                      }
                    ]
                  }
                },
                {
                  "name": "wk36",
                  "dtype": "float64",
                  "stats": {
                    "unique_count": 1,
                    "nan_count": 4,
                    "min": "5.0",
                    "max": "5.0",
                    "histogram": [
                      {
                        "bin_start": 4.5,
                        "bin_end": 4.6,
                        "count": 0
                      },
                      {
                        "bin_start": 4.6,
                        "bin_end": 4.7,
                        "count": 0
                      },
                      {
                        "bin_start": 4.7,
                        "bin_end": 4.8,
                        "count": 0
                      },
                      {
                        "bin_start": 4.8,
                        "bin_end": 4.9,
                        "count": 0
                      },
                      {
                        "bin_start": 4.9,
                        "bin_end": 5,
                        "count": 0
                      },
                      {
                        "bin_start": 5,
                        "bin_end": 5.1,
                        "count": 1
                      },
                      {
                        "bin_start": 5.1,
                        "bin_end": 5.2,
                        "count": 0
                      },
                      {
                        "bin_start": 5.2,
                        "bin_end": 5.3,
                        "count": 0
                      },
                      {
                        "bin_start": 5.3,
                        "bin_end": 5.4,
                        "count": 0
                      },
                      {
                        "bin_start": 5.4,
                        "bin_end": 5.5,
                        "count": 0
                      }
                    ]
                  }
                },
                {
                  "name": "wk37",
                  "dtype": "float64",
                  "stats": {
                    "unique_count": 1,
                    "nan_count": 4,
                    "min": "5.0",
                    "max": "5.0",
                    "histogram": [
                      {
                        "bin_start": 4.5,
                        "bin_end": 4.6,
                        "count": 0
                      },
                      {
                        "bin_start": 4.6,
                        "bin_end": 4.7,
                        "count": 0
                      },
                      {
                        "bin_start": 4.7,
                        "bin_end": 4.8,
                        "count": 0
                      },
                      {
                        "bin_start": 4.8,
                        "bin_end": 4.9,
                        "count": 0
                      },
                      {
                        "bin_start": 4.9,
                        "bin_end": 5,
                        "count": 0
                      },
                      {
                        "bin_start": 5,
                        "bin_end": 5.1,
                        "count": 1
                      },
                      {
                        "bin_start": 5.1,
                        "bin_end": 5.2,
                        "count": 0
                      },
                      {
                        "bin_start": 5.2,
                        "bin_end": 5.3,
                        "count": 0
                      },
                      {
                        "bin_start": 5.3,
                        "bin_end": 5.4,
                        "count": 0
                      },
                      {
                        "bin_start": 5.4,
                        "bin_end": 5.5,
                        "count": 0
                      }
                    ]
                  }
                },
                {
                  "name": "wk38",
                  "dtype": "float64",
                  "stats": {
                    "unique_count": 1,
                    "nan_count": 4,
                    "min": "9.0",
                    "max": "9.0",
                    "histogram": [
                      {
                        "bin_start": 8.5,
                        "bin_end": 8.6,
                        "count": 0
                      },
                      {
                        "bin_start": 8.6,
                        "bin_end": 8.7,
                        "count": 0
                      },
                      {
                        "bin_start": 8.7,
                        "bin_end": 8.8,
                        "count": 0
                      },
                      {
                        "bin_start": 8.8,
                        "bin_end": 8.9,
                        "count": 0
                      },
                      {
                        "bin_start": 8.9,
                        "bin_end": 9,
                        "count": 0
                      },
                      {
                        "bin_start": 9,
                        "bin_end": 9.1,
                        "count": 1
                      },
                      {
                        "bin_start": 9.1,
                        "bin_end": 9.2,
                        "count": 0
                      },
                      {
                        "bin_start": 9.2,
                        "bin_end": 9.3,
                        "count": 0
                      },
                      {
                        "bin_start": 9.3,
                        "bin_end": 9.4,
                        "count": 0
                      },
                      {
                        "bin_start": 9.4,
                        "bin_end": 9.5,
                        "count": 0
                      }
                    ]
                  }
                },
                {
                  "name": "wk39",
                  "dtype": "float64",
                  "stats": {
                    "unique_count": 1,
                    "nan_count": 4,
                    "min": "9.0",
                    "max": "9.0",
                    "histogram": [
                      {
                        "bin_start": 8.5,
                        "bin_end": 8.6,
                        "count": 0
                      },
                      {
                        "bin_start": 8.6,
                        "bin_end": 8.7,
                        "count": 0
                      },
                      {
                        "bin_start": 8.7,
                        "bin_end": 8.8,
                        "count": 0
                      },
                      {
                        "bin_start": 8.8,
                        "bin_end": 8.9,
                        "count": 0
                      },
                      {
                        "bin_start": 8.9,
                        "bin_end": 9,
                        "count": 0
                      },
                      {
                        "bin_start": 9,
                        "bin_end": 9.1,
                        "count": 1
                      },
                      {
                        "bin_start": 9.1,
                        "bin_end": 9.2,
                        "count": 0
                      },
                      {
                        "bin_start": 9.2,
                        "bin_end": 9.3,
                        "count": 0
                      },
                      {
                        "bin_start": 9.3,
                        "bin_end": 9.4,
                        "count": 0
                      },
                      {
                        "bin_start": 9.4,
                        "bin_end": 9.5,
                        "count": 0
                      }
                    ]
                  }
                },
                {
                  "name": "wk40",
                  "dtype": "float64",
                  "stats": {
                    "unique_count": 1,
                    "nan_count": 4,
                    "min": "15.0",
                    "max": "15.0",
                    "histogram": [
                      {
                        "bin_start": 14.5,
                        "bin_end": 14.6,
                        "count": 0
                      },
                      {
                        "bin_start": 14.6,
                        "bin_end": 14.7,
                        "count": 0
                      },
                      {
                        "bin_start": 14.7,
                        "bin_end": 14.8,
                        "count": 0
                      },
                      {
                        "bin_start": 14.8,
                        "bin_end": 14.9,
                        "count": 0
                      },
                      {
                        "bin_start": 14.9,
                        "bin_end": 15,
                        "count": 0
                      },
                      {
                        "bin_start": 15,
                        "bin_end": 15.1,
                        "count": 1
                      },
                      {
                        "bin_start": 15.1,
                        "bin_end": 15.2,
                        "count": 0
                      },
                      {
                        "bin_start": 15.2,
                        "bin_end": 15.3,
                        "count": 0
                      },
                      {
                        "bin_start": 15.3,
                        "bin_end": 15.4,
                        "count": 0
                      },
                      {
                        "bin_start": 15.4,
                        "bin_end": 15.5,
                        "count": 0
                      }
                    ]
                  }
                },
                {
                  "name": "wk41",
                  "dtype": "float64",
                  "stats": {
                    "unique_count": 1,
                    "nan_count": 4,
                    "min": "14.0",
                    "max": "14.0",
                    "histogram": [
                      {
                        "bin_start": 13.5,
                        "bin_end": 13.6,
                        "count": 0
                      },
                      {
                        "bin_start": 13.6,
                        "bin_end": 13.7,
                        "count": 0
                      },
                      {
                        "bin_start": 13.7,
                        "bin_end": 13.8,
                        "count": 0
                      },
                      {
                        "bin_start": 13.8,
                        "bin_end": 13.9,
                        "count": 0
                      },
                      {
                        "bin_start": 13.9,
                        "bin_end": 14,
                        "count": 0
                      },
                      {
                        "bin_start": 14,
                        "bin_end": 14.1,
                        "count": 1
                      },
                      {
                        "bin_start": 14.1,
                        "bin_end": 14.2,
                        "count": 0
                      },
                      {
                        "bin_start": 14.2,
                        "bin_end": 14.3,
                        "count": 0
                      },
                      {
                        "bin_start": 14.3,
                        "bin_end": 14.4,
                        "count": 0
                      },
                      {
                        "bin_start": 14.4,
                        "bin_end": 14.5,
                        "count": 0
                      }
                    ]
                  }
                },
                {
                  "name": "wk42",
                  "dtype": "float64",
                  "stats": {
                    "unique_count": 1,
                    "nan_count": 4,
                    "min": "13.0",
                    "max": "13.0",
                    "histogram": [
                      {
                        "bin_start": 12.5,
                        "bin_end": 12.6,
                        "count": 0
                      },
                      {
                        "bin_start": 12.6,
                        "bin_end": 12.7,
                        "count": 0
                      },
                      {
                        "bin_start": 12.7,
                        "bin_end": 12.8,
                        "count": 0
                      },
                      {
                        "bin_start": 12.8,
                        "bin_end": 12.9,
                        "count": 0
                      },
                      {
                        "bin_start": 12.9,
                        "bin_end": 13,
                        "count": 0
                      },
                      {
                        "bin_start": 13,
                        "bin_end": 13.1,
                        "count": 1
                      },
                      {
                        "bin_start": 13.1,
                        "bin_end": 13.2,
                        "count": 0
                      },
                      {
                        "bin_start": 13.2,
                        "bin_end": 13.3,
                        "count": 0
                      },
                      {
                        "bin_start": 13.3,
                        "bin_end": 13.4,
                        "count": 0
                      },
                      {
                        "bin_start": 13.4,
                        "bin_end": 13.5,
                        "count": 0
                      }
                    ]
                  }
                },
                {
                  "name": "wk43",
                  "dtype": "float64",
                  "stats": {
                    "unique_count": 1,
                    "nan_count": 4,
                    "min": "14.0",
                    "max": "14.0",
                    "histogram": [
                      {
                        "bin_start": 13.5,
                        "bin_end": 13.6,
                        "count": 0
                      },
                      {
                        "bin_start": 13.6,
                        "bin_end": 13.7,
                        "count": 0
                      },
                      {
                        "bin_start": 13.7,
                        "bin_end": 13.8,
                        "count": 0
                      },
                      {
                        "bin_start": 13.8,
                        "bin_end": 13.9,
                        "count": 0
                      },
                      {
                        "bin_start": 13.9,
                        "bin_end": 14,
                        "count": 0
                      },
                      {
                        "bin_start": 14,
                        "bin_end": 14.1,
                        "count": 1
                      },
                      {
                        "bin_start": 14.1,
                        "bin_end": 14.2,
                        "count": 0
                      },
                      {
                        "bin_start": 14.2,
                        "bin_end": 14.3,
                        "count": 0
                      },
                      {
                        "bin_start": 14.3,
                        "bin_end": 14.4,
                        "count": 0
                      },
                      {
                        "bin_start": 14.4,
                        "bin_end": 14.5,
                        "count": 0
                      }
                    ]
                  }
                },
                {
                  "name": "wk44",
                  "dtype": "float64",
                  "stats": {
                    "unique_count": 1,
                    "nan_count": 4,
                    "min": "16.0",
                    "max": "16.0",
                    "histogram": [
                      {
                        "bin_start": 15.5,
                        "bin_end": 15.6,
                        "count": 0
                      },
                      {
                        "bin_start": 15.6,
                        "bin_end": 15.7,
                        "count": 0
                      },
                      {
                        "bin_start": 15.7,
                        "bin_end": 15.8,
                        "count": 0
                      },
                      {
                        "bin_start": 15.8,
                        "bin_end": 15.9,
                        "count": 0
                      },
                      {
                        "bin_start": 15.9,
                        "bin_end": 16,
                        "count": 0
                      },
                      {
                        "bin_start": 16,
                        "bin_end": 16.1,
                        "count": 1
                      },
                      {
                        "bin_start": 16.1,
                        "bin_end": 16.2,
                        "count": 0
                      },
                      {
                        "bin_start": 16.2,
                        "bin_end": 16.3,
                        "count": 0
                      },
                      {
                        "bin_start": 16.3,
                        "bin_end": 16.4,
                        "count": 0
                      },
                      {
                        "bin_start": 16.4,
                        "bin_end": 16.5,
                        "count": 0
                      }
                    ]
                  }
                },
                {
                  "name": "wk45",
                  "dtype": "float64",
                  "stats": {
                    "unique_count": 1,
                    "nan_count": 4,
                    "min": "17.0",
                    "max": "17.0",
                    "histogram": [
                      {
                        "bin_start": 16.5,
                        "bin_end": 16.6,
                        "count": 0
                      },
                      {
                        "bin_start": 16.6,
                        "bin_end": 16.7,
                        "count": 0
                      },
                      {
                        "bin_start": 16.7,
                        "bin_end": 16.8,
                        "count": 0
                      },
                      {
                        "bin_start": 16.8,
                        "bin_end": 16.9,
                        "count": 0
                      },
                      {
                        "bin_start": 16.9,
                        "bin_end": 17,
                        "count": 0
                      },
                      {
                        "bin_start": 17,
                        "bin_end": 17.1,
                        "count": 1
                      },
                      {
                        "bin_start": 17.1,
                        "bin_end": 17.2,
                        "count": 0
                      },
                      {
                        "bin_start": 17.2,
                        "bin_end": 17.3,
                        "count": 0
                      },
                      {
                        "bin_start": 17.3,
                        "bin_end": 17.4,
                        "count": 0
                      },
                      {
                        "bin_start": 17.4,
                        "bin_end": 17.5,
                        "count": 0
                      }
                    ]
                  }
                },
                {
                  "name": "wk46",
                  "dtype": "float64",
                  "stats": {
                    "unique_count": 1,
                    "nan_count": 4,
                    "min": "21.0",
                    "max": "21.0",
                    "histogram": [
                      {
                        "bin_start": 20.5,
                        "bin_end": 20.6,
                        "count": 0
                      },
                      {
                        "bin_start": 20.6,
                        "bin_end": 20.7,
                        "count": 0
                      },
                      {
                        "bin_start": 20.7,
                        "bin_end": 20.8,
                        "count": 0
                      },
                      {
                        "bin_start": 20.8,
                        "bin_end": 20.9,
                        "count": 0
                      },
                      {
                        "bin_start": 20.9,
                        "bin_end": 21,
                        "count": 0
                      },
                      {
                        "bin_start": 21,
                        "bin_end": 21.1,
                        "count": 1
                      },
                      {
                        "bin_start": 21.1,
                        "bin_end": 21.2,
                        "count": 0
                      },
                      {
                        "bin_start": 21.2,
                        "bin_end": 21.3,
                        "count": 0
                      },
                      {
                        "bin_start": 21.3,
                        "bin_end": 21.4,
                        "count": 0
                      },
                      {
                        "bin_start": 21.4,
                        "bin_end": 21.5,
                        "count": 0
                      }
                    ]
                  }
                },
                {
                  "name": "wk47",
                  "dtype": "float64",
                  "stats": {
                    "unique_count": 1,
                    "nan_count": 4,
                    "min": "22.0",
                    "max": "22.0",
                    "histogram": [
                      {
                        "bin_start": 21.5,
                        "bin_end": 21.6,
                        "count": 0
                      },
                      {
                        "bin_start": 21.6,
                        "bin_end": 21.7,
                        "count": 0
                      },
                      {
                        "bin_start": 21.7,
                        "bin_end": 21.8,
                        "count": 0
                      },
                      {
                        "bin_start": 21.8,
                        "bin_end": 21.9,
                        "count": 0
                      },
                      {
                        "bin_start": 21.9,
                        "bin_end": 22,
                        "count": 0
                      },
                      {
                        "bin_start": 22,
                        "bin_end": 22.1,
                        "count": 1
                      },
                      {
                        "bin_start": 22.1,
                        "bin_end": 22.2,
                        "count": 0
                      },
                      {
                        "bin_start": 22.2,
                        "bin_end": 22.3,
                        "count": 0
                      },
                      {
                        "bin_start": 22.3,
                        "bin_end": 22.4,
                        "count": 0
                      },
                      {
                        "bin_start": 22.4,
                        "bin_end": 22.5,
                        "count": 0
                      }
                    ]
                  }
                },
                {
                  "name": "wk48",
                  "dtype": "float64",
                  "stats": {
                    "unique_count": 1,
                    "nan_count": 4,
                    "min": "24.0",
                    "max": "24.0",
                    "histogram": [
                      {
                        "bin_start": 23.5,
                        "bin_end": 23.6,
                        "count": 0
                      },
                      {
                        "bin_start": 23.6,
                        "bin_end": 23.7,
                        "count": 0
                      },
                      {
                        "bin_start": 23.7,
                        "bin_end": 23.8,
                        "count": 0
                      },
                      {
                        "bin_start": 23.8,
                        "bin_end": 23.9,
                        "count": 0
                      },
                      {
                        "bin_start": 23.9,
                        "bin_end": 24,
                        "count": 0
                      },
                      {
                        "bin_start": 24,
                        "bin_end": 24.1,
                        "count": 1
                      },
                      {
                        "bin_start": 24.1,
                        "bin_end": 24.2,
                        "count": 0
                      },
                      {
                        "bin_start": 24.2,
                        "bin_end": 24.3,
                        "count": 0
                      },
                      {
                        "bin_start": 24.3,
                        "bin_end": 24.4,
                        "count": 0
                      },
                      {
                        "bin_start": 24.4,
                        "bin_end": 24.5,
                        "count": 0
                      }
                    ]
                  }
                },
                {
                  "name": "wk49",
                  "dtype": "float64",
                  "stats": {
                    "unique_count": 1,
                    "nan_count": 4,
                    "min": "28.0",
                    "max": "28.0",
                    "histogram": [
                      {
                        "bin_start": 27.5,
                        "bin_end": 27.6,
                        "count": 0
                      },
                      {
                        "bin_start": 27.6,
                        "bin_end": 27.7,
                        "count": 0
                      },
                      {
                        "bin_start": 27.7,
                        "bin_end": 27.8,
                        "count": 0
                      },
                      {
                        "bin_start": 27.8,
                        "bin_end": 27.9,
                        "count": 0
                      },
                      {
                        "bin_start": 27.9,
                        "bin_end": 28,
                        "count": 0
                      },
                      {
                        "bin_start": 28,
                        "bin_end": 28.1,
                        "count": 1
                      },
                      {
                        "bin_start": 28.1,
                        "bin_end": 28.2,
                        "count": 0
                      },
                      {
                        "bin_start": 28.2,
                        "bin_end": 28.3,
                        "count": 0
                      },
                      {
                        "bin_start": 28.3,
                        "bin_end": 28.4,
                        "count": 0
                      },
                      {
                        "bin_start": 28.4,
                        "bin_end": 28.5,
                        "count": 0
                      }
                    ]
                  }
                },
                {
                  "name": "wk50",
                  "dtype": "float64",
                  "stats": {
                    "unique_count": 1,
                    "nan_count": 4,
                    "min": "33.0",
                    "max": "33.0",
                    "histogram": [
                      {
                        "bin_start": 32.5,
                        "bin_end": 32.6,
                        "count": 0
                      },
                      {
                        "bin_start": 32.6,
                        "bin_end": 32.7,
                        "count": 0
                      },
                      {
                        "bin_start": 32.7,
                        "bin_end": 32.8,
                        "count": 0
                      },
                      {
                        "bin_start": 32.8,
                        "bin_end": 32.9,
                        "count": 0
                      },
                      {
                        "bin_start": 32.9,
                        "bin_end": 33,
                        "count": 0
                      },
                      {
                        "bin_start": 33,
                        "bin_end": 33.1,
                        "count": 1
                      },
                      {
                        "bin_start": 33.1,
                        "bin_end": 33.2,
                        "count": 0
                      },
                      {
                        "bin_start": 33.2,
                        "bin_end": 33.3,
                        "count": 0
                      },
                      {
                        "bin_start": 33.3,
                        "bin_end": 33.4,
                        "count": 0
                      },
                      {
                        "bin_start": 33.4,
                        "bin_end": 33.5,
                        "count": 0
                      }
                    ]
                  }
                },
                {
                  "name": "wk51",
                  "dtype": "float64",
                  "stats": {
                    "unique_count": 1,
                    "nan_count": 4,
                    "min": "42.0",
                    "max": "42.0",
                    "histogram": [
                      {
                        "bin_start": 41.5,
                        "bin_end": 41.6,
                        "count": 0
                      },
                      {
                        "bin_start": 41.6,
                        "bin_end": 41.7,
                        "count": 0
                      },
                      {
                        "bin_start": 41.7,
                        "bin_end": 41.8,
                        "count": 0
                      },
                      {
                        "bin_start": 41.8,
                        "bin_end": 41.9,
                        "count": 0
                      },
                      {
                        "bin_start": 41.9,
                        "bin_end": 42,
                        "count": 0
                      },
                      {
                        "bin_start": 42,
                        "bin_end": 42.1,
                        "count": 1
                      },
                      {
                        "bin_start": 42.1,
                        "bin_end": 42.2,
                        "count": 0
                      },
                      {
                        "bin_start": 42.2,
                        "bin_end": 42.3,
                        "count": 0
                      },
                      {
                        "bin_start": 42.3,
                        "bin_end": 42.4,
                        "count": 0
                      },
                      {
                        "bin_start": 42.4,
                        "bin_end": 42.5,
                        "count": 0
                      }
                    ]
                  }
                },
                {
                  "name": "wk52",
                  "dtype": "float64",
                  "stats": {
                    "unique_count": 1,
                    "nan_count": 4,
                    "min": "42.0",
                    "max": "42.0",
                    "histogram": [
                      {
                        "bin_start": 41.5,
                        "bin_end": 41.6,
                        "count": 0
                      },
                      {
                        "bin_start": 41.6,
                        "bin_end": 41.7,
                        "count": 0
                      },
                      {
                        "bin_start": 41.7,
                        "bin_end": 41.8,
                        "count": 0
                      },
                      {
                        "bin_start": 41.8,
                        "bin_end": 41.9,
                        "count": 0
                      },
                      {
                        "bin_start": 41.9,
                        "bin_end": 42,
                        "count": 0
                      },
                      {
                        "bin_start": 42,
                        "bin_end": 42.1,
                        "count": 1
                      },
                      {
                        "bin_start": 42.1,
                        "bin_end": 42.2,
                        "count": 0
                      },
                      {
                        "bin_start": 42.2,
                        "bin_end": 42.3,
                        "count": 0
                      },
                      {
                        "bin_start": 42.3,
                        "bin_end": 42.4,
                        "count": 0
                      },
                      {
                        "bin_start": 42.4,
                        "bin_end": 42.5,
                        "count": 0
                      }
                    ]
                  }
                },
                {
                  "name": "wk53",
                  "dtype": "float64",
                  "stats": {
                    "unique_count": 1,
                    "nan_count": 4,
                    "min": "49.0",
                    "max": "49.0",
                    "histogram": [
                      {
                        "bin_start": 48.5,
                        "bin_end": 48.6,
                        "count": 0
                      },
                      {
                        "bin_start": 48.6,
                        "bin_end": 48.7,
                        "count": 0
                      },
                      {
                        "bin_start": 48.7,
                        "bin_end": 48.8,
                        "count": 0
                      },
                      {
                        "bin_start": 48.8,
                        "bin_end": 48.9,
                        "count": 0
                      },
                      {
                        "bin_start": 48.9,
                        "bin_end": 49,
                        "count": 0
                      },
                      {
                        "bin_start": 49,
                        "bin_end": 49.1,
                        "count": 1
                      },
                      {
                        "bin_start": 49.1,
                        "bin_end": 49.2,
                        "count": 0
                      },
                      {
                        "bin_start": 49.2,
                        "bin_end": 49.3,
                        "count": 0
                      },
                      {
                        "bin_start": 49.3,
                        "bin_end": 49.4,
                        "count": 0
                      },
                      {
                        "bin_start": 49.4,
                        "bin_end": 49.5,
                        "count": 0
                      }
                    ]
                  }
                },
                {
                  "name": "wk54",
                  "dtype": "float64",
                  "stats": {
                    "unique_count": 0,
                    "nan_count": 5,
                    "min": null,
                    "max": null,
                    "histogram": [
                      {
                        "bin_start": 0,
                        "bin_end": 0.1,
                        "count": 0
                      },
                      {
                        "bin_start": 0.1,
                        "bin_end": 0.2,
                        "count": 0
                      },
                      {
                        "bin_start": 0.2,
                        "bin_end": 0.30000000000000004,
                        "count": 0
                      },
                      {
                        "bin_start": 0.30000000000000004,
                        "bin_end": 0.4,
                        "count": 0
                      },
                      {
                        "bin_start": 0.4,
                        "bin_end": 0.5,
                        "count": 0
                      },
                      {
                        "bin_start": 0.5,
                        "bin_end": 0.6000000000000001,
                        "count": 0
                      },
                      {
                        "bin_start": 0.6000000000000001,
                        "bin_end": 0.7000000000000001,
                        "count": 0
                      },
                      {
                        "bin_start": 0.7000000000000001,
                        "bin_end": 0.8,
                        "count": 0
                      },
                      {
                        "bin_start": 0.8,
                        "bin_end": 0.9,
                        "count": 0
                      },
                      {
                        "bin_start": 0.9,
                        "bin_end": 1,
                        "count": 0
                      }
                    ]
                  }
                },
                {
                  "name": "wk55",
                  "dtype": "float64",
                  "stats": {
                    "unique_count": 0,
                    "nan_count": 5,
                    "min": null,
                    "max": null,
                    "histogram": [
                      {
                        "bin_start": 0,
                        "bin_end": 0.1,
                        "count": 0
                      },
                      {
                        "bin_start": 0.1,
                        "bin_end": 0.2,
                        "count": 0
                      },
                      {
                        "bin_start": 0.2,
                        "bin_end": 0.30000000000000004,
                        "count": 0
                      },
                      {
                        "bin_start": 0.30000000000000004,
                        "bin_end": 0.4,
                        "count": 0
                      },
                      {
                        "bin_start": 0.4,
                        "bin_end": 0.5,
                        "count": 0
                      },
                      {
                        "bin_start": 0.5,
                        "bin_end": 0.6000000000000001,
                        "count": 0
                      },
                      {
                        "bin_start": 0.6000000000000001,
                        "bin_end": 0.7000000000000001,
                        "count": 0
                      },
                      {
                        "bin_start": 0.7000000000000001,
                        "bin_end": 0.8,
                        "count": 0
                      },
                      {
                        "bin_start": 0.8,
                        "bin_end": 0.9,
                        "count": 0
                      },
                      {
                        "bin_start": 0.9,
                        "bin_end": 1,
                        "count": 0
                      }
                    ]
                  }
                },
                {
                  "name": "wk56",
                  "dtype": "float64",
                  "stats": {
                    "unique_count": 0,
                    "nan_count": 5,
                    "min": null,
                    "max": null,
                    "histogram": [
                      {
                        "bin_start": 0,
                        "bin_end": 0.1,
                        "count": 0
                      },
                      {
                        "bin_start": 0.1,
                        "bin_end": 0.2,
                        "count": 0
                      },
                      {
                        "bin_start": 0.2,
                        "bin_end": 0.30000000000000004,
                        "count": 0
                      },
                      {
                        "bin_start": 0.30000000000000004,
                        "bin_end": 0.4,
                        "count": 0
                      },
                      {
                        "bin_start": 0.4,
                        "bin_end": 0.5,
                        "count": 0
                      },
                      {
                        "bin_start": 0.5,
                        "bin_end": 0.6000000000000001,
                        "count": 0
                      },
                      {
                        "bin_start": 0.6000000000000001,
                        "bin_end": 0.7000000000000001,
                        "count": 0
                      },
                      {
                        "bin_start": 0.7000000000000001,
                        "bin_end": 0.8,
                        "count": 0
                      },
                      {
                        "bin_start": 0.8,
                        "bin_end": 0.9,
                        "count": 0
                      },
                      {
                        "bin_start": 0.9,
                        "bin_end": 1,
                        "count": 0
                      }
                    ]
                  }
                },
                {
                  "name": "wk57",
                  "dtype": "float64",
                  "stats": {
                    "unique_count": 0,
                    "nan_count": 5,
                    "min": null,
                    "max": null,
                    "histogram": [
                      {
                        "bin_start": 0,
                        "bin_end": 0.1,
                        "count": 0
                      },
                      {
                        "bin_start": 0.1,
                        "bin_end": 0.2,
                        "count": 0
                      },
                      {
                        "bin_start": 0.2,
                        "bin_end": 0.30000000000000004,
                        "count": 0
                      },
                      {
                        "bin_start": 0.30000000000000004,
                        "bin_end": 0.4,
                        "count": 0
                      },
                      {
                        "bin_start": 0.4,
                        "bin_end": 0.5,
                        "count": 0
                      },
                      {
                        "bin_start": 0.5,
                        "bin_end": 0.6000000000000001,
                        "count": 0
                      },
                      {
                        "bin_start": 0.6000000000000001,
                        "bin_end": 0.7000000000000001,
                        "count": 0
                      },
                      {
                        "bin_start": 0.7000000000000001,
                        "bin_end": 0.8,
                        "count": 0
                      },
                      {
                        "bin_start": 0.8,
                        "bin_end": 0.9,
                        "count": 0
                      },
                      {
                        "bin_start": 0.9,
                        "bin_end": 1,
                        "count": 0
                      }
                    ]
                  }
                },
                {
                  "name": "wk58",
                  "dtype": "float64",
                  "stats": {
                    "unique_count": 0,
                    "nan_count": 5,
                    "min": null,
                    "max": null,
                    "histogram": [
                      {
                        "bin_start": 0,
                        "bin_end": 0.1,
                        "count": 0
                      },
                      {
                        "bin_start": 0.1,
                        "bin_end": 0.2,
                        "count": 0
                      },
                      {
                        "bin_start": 0.2,
                        "bin_end": 0.30000000000000004,
                        "count": 0
                      },
                      {
                        "bin_start": 0.30000000000000004,
                        "bin_end": 0.4,
                        "count": 0
                      },
                      {
                        "bin_start": 0.4,
                        "bin_end": 0.5,
                        "count": 0
                      },
                      {
                        "bin_start": 0.5,
                        "bin_end": 0.6000000000000001,
                        "count": 0
                      },
                      {
                        "bin_start": 0.6000000000000001,
                        "bin_end": 0.7000000000000001,
                        "count": 0
                      },
                      {
                        "bin_start": 0.7000000000000001,
                        "bin_end": 0.8,
                        "count": 0
                      },
                      {
                        "bin_start": 0.8,
                        "bin_end": 0.9,
                        "count": 0
                      },
                      {
                        "bin_start": 0.9,
                        "bin_end": 1,
                        "count": 0
                      }
                    ]
                  }
                },
                {
                  "name": "wk59",
                  "dtype": "float64",
                  "stats": {
                    "unique_count": 0,
                    "nan_count": 5,
                    "min": null,
                    "max": null,
                    "histogram": [
                      {
                        "bin_start": 0,
                        "bin_end": 0.1,
                        "count": 0
                      },
                      {
                        "bin_start": 0.1,
                        "bin_end": 0.2,
                        "count": 0
                      },
                      {
                        "bin_start": 0.2,
                        "bin_end": 0.30000000000000004,
                        "count": 0
                      },
                      {
                        "bin_start": 0.30000000000000004,
                        "bin_end": 0.4,
                        "count": 0
                      },
                      {
                        "bin_start": 0.4,
                        "bin_end": 0.5,
                        "count": 0
                      },
                      {
                        "bin_start": 0.5,
                        "bin_end": 0.6000000000000001,
                        "count": 0
                      },
                      {
                        "bin_start": 0.6000000000000001,
                        "bin_end": 0.7000000000000001,
                        "count": 0
                      },
                      {
                        "bin_start": 0.7000000000000001,
                        "bin_end": 0.8,
                        "count": 0
                      },
                      {
                        "bin_start": 0.8,
                        "bin_end": 0.9,
                        "count": 0
                      },
                      {
                        "bin_start": 0.9,
                        "bin_end": 1,
                        "count": 0
                      }
                    ]
                  }
                },
                {
                  "name": "wk60",
                  "dtype": "float64",
                  "stats": {
                    "unique_count": 0,
                    "nan_count": 5,
                    "min": null,
                    "max": null,
                    "histogram": [
                      {
                        "bin_start": 0,
                        "bin_end": 0.1,
                        "count": 0
                      },
                      {
                        "bin_start": 0.1,
                        "bin_end": 0.2,
                        "count": 0
                      },
                      {
                        "bin_start": 0.2,
                        "bin_end": 0.30000000000000004,
                        "count": 0
                      },
                      {
                        "bin_start": 0.30000000000000004,
                        "bin_end": 0.4,
                        "count": 0
                      },
                      {
                        "bin_start": 0.4,
                        "bin_end": 0.5,
                        "count": 0
                      },
                      {
                        "bin_start": 0.5,
                        "bin_end": 0.6000000000000001,
                        "count": 0
                      },
                      {
                        "bin_start": 0.6000000000000001,
                        "bin_end": 0.7000000000000001,
                        "count": 0
                      },
                      {
                        "bin_start": 0.7000000000000001,
                        "bin_end": 0.8,
                        "count": 0
                      },
                      {
                        "bin_start": 0.8,
                        "bin_end": 0.9,
                        "count": 0
                      },
                      {
                        "bin_start": 0.9,
                        "bin_end": 1,
                        "count": 0
                      }
                    ]
                  }
                },
                {
                  "name": "wk61",
                  "dtype": "float64",
                  "stats": {
                    "unique_count": 0,
                    "nan_count": 5,
                    "min": null,
                    "max": null,
                    "histogram": [
                      {
                        "bin_start": 0,
                        "bin_end": 0.1,
                        "count": 0
                      },
                      {
                        "bin_start": 0.1,
                        "bin_end": 0.2,
                        "count": 0
                      },
                      {
                        "bin_start": 0.2,
                        "bin_end": 0.30000000000000004,
                        "count": 0
                      },
                      {
                        "bin_start": 0.30000000000000004,
                        "bin_end": 0.4,
                        "count": 0
                      },
                      {
                        "bin_start": 0.4,
                        "bin_end": 0.5,
                        "count": 0
                      },
                      {
                        "bin_start": 0.5,
                        "bin_end": 0.6000000000000001,
                        "count": 0
                      },
                      {
                        "bin_start": 0.6000000000000001,
                        "bin_end": 0.7000000000000001,
                        "count": 0
                      },
                      {
                        "bin_start": 0.7000000000000001,
                        "bin_end": 0.8,
                        "count": 0
                      },
                      {
                        "bin_start": 0.8,
                        "bin_end": 0.9,
                        "count": 0
                      },
                      {
                        "bin_start": 0.9,
                        "bin_end": 1,
                        "count": 0
                      }
                    ]
                  }
                },
                {
                  "name": "wk62",
                  "dtype": "float64",
                  "stats": {
                    "unique_count": 0,
                    "nan_count": 5,
                    "min": null,
                    "max": null,
                    "histogram": [
                      {
                        "bin_start": 0,
                        "bin_end": 0.1,
                        "count": 0
                      },
                      {
                        "bin_start": 0.1,
                        "bin_end": 0.2,
                        "count": 0
                      },
                      {
                        "bin_start": 0.2,
                        "bin_end": 0.30000000000000004,
                        "count": 0
                      },
                      {
                        "bin_start": 0.30000000000000004,
                        "bin_end": 0.4,
                        "count": 0
                      },
                      {
                        "bin_start": 0.4,
                        "bin_end": 0.5,
                        "count": 0
                      },
                      {
                        "bin_start": 0.5,
                        "bin_end": 0.6000000000000001,
                        "count": 0
                      },
                      {
                        "bin_start": 0.6000000000000001,
                        "bin_end": 0.7000000000000001,
                        "count": 0
                      },
                      {
                        "bin_start": 0.7000000000000001,
                        "bin_end": 0.8,
                        "count": 0
                      },
                      {
                        "bin_start": 0.8,
                        "bin_end": 0.9,
                        "count": 0
                      },
                      {
                        "bin_start": 0.9,
                        "bin_end": 1,
                        "count": 0
                      }
                    ]
                  }
                },
                {
                  "name": "wk63",
                  "dtype": "float64",
                  "stats": {
                    "unique_count": 0,
                    "nan_count": 5,
                    "min": null,
                    "max": null,
                    "histogram": [
                      {
                        "bin_start": 0,
                        "bin_end": 0.1,
                        "count": 0
                      },
                      {
                        "bin_start": 0.1,
                        "bin_end": 0.2,
                        "count": 0
                      },
                      {
                        "bin_start": 0.2,
                        "bin_end": 0.30000000000000004,
                        "count": 0
                      },
                      {
                        "bin_start": 0.30000000000000004,
                        "bin_end": 0.4,
                        "count": 0
                      },
                      {
                        "bin_start": 0.4,
                        "bin_end": 0.5,
                        "count": 0
                      },
                      {
                        "bin_start": 0.5,
                        "bin_end": 0.6000000000000001,
                        "count": 0
                      },
                      {
                        "bin_start": 0.6000000000000001,
                        "bin_end": 0.7000000000000001,
                        "count": 0
                      },
                      {
                        "bin_start": 0.7000000000000001,
                        "bin_end": 0.8,
                        "count": 0
                      },
                      {
                        "bin_start": 0.8,
                        "bin_end": 0.9,
                        "count": 0
                      },
                      {
                        "bin_start": 0.9,
                        "bin_end": 1,
                        "count": 0
                      }
                    ]
                  }
                },
                {
                  "name": "wk64",
                  "dtype": "float64",
                  "stats": {
                    "unique_count": 0,
                    "nan_count": 5,
                    "min": null,
                    "max": null,
                    "histogram": [
                      {
                        "bin_start": 0,
                        "bin_end": 0.1,
                        "count": 0
                      },
                      {
                        "bin_start": 0.1,
                        "bin_end": 0.2,
                        "count": 0
                      },
                      {
                        "bin_start": 0.2,
                        "bin_end": 0.30000000000000004,
                        "count": 0
                      },
                      {
                        "bin_start": 0.30000000000000004,
                        "bin_end": 0.4,
                        "count": 0
                      },
                      {
                        "bin_start": 0.4,
                        "bin_end": 0.5,
                        "count": 0
                      },
                      {
                        "bin_start": 0.5,
                        "bin_end": 0.6000000000000001,
                        "count": 0
                      },
                      {
                        "bin_start": 0.6000000000000001,
                        "bin_end": 0.7000000000000001,
                        "count": 0
                      },
                      {
                        "bin_start": 0.7000000000000001,
                        "bin_end": 0.8,
                        "count": 0
                      },
                      {
                        "bin_start": 0.8,
                        "bin_end": 0.9,
                        "count": 0
                      },
                      {
                        "bin_start": 0.9,
                        "bin_end": 1,
                        "count": 0
                      }
                    ]
                  }
                },
                {
                  "name": "wk65",
                  "dtype": "float64",
                  "stats": {
                    "unique_count": 0,
                    "nan_count": 5,
                    "min": null,
                    "max": null,
                    "histogram": [
                      {
                        "bin_start": 0,
                        "bin_end": 0.1,
                        "count": 0
                      },
                      {
                        "bin_start": 0.1,
                        "bin_end": 0.2,
                        "count": 0
                      },
                      {
                        "bin_start": 0.2,
                        "bin_end": 0.30000000000000004,
                        "count": 0
                      },
                      {
                        "bin_start": 0.30000000000000004,
                        "bin_end": 0.4,
                        "count": 0
                      },
                      {
                        "bin_start": 0.4,
                        "bin_end": 0.5,
                        "count": 0
                      },
                      {
                        "bin_start": 0.5,
                        "bin_end": 0.6000000000000001,
                        "count": 0
                      },
                      {
                        "bin_start": 0.6000000000000001,
                        "bin_end": 0.7000000000000001,
                        "count": 0
                      },
                      {
                        "bin_start": 0.7000000000000001,
                        "bin_end": 0.8,
                        "count": 0
                      },
                      {
                        "bin_start": 0.8,
                        "bin_end": 0.9,
                        "count": 0
                      },
                      {
                        "bin_start": 0.9,
                        "bin_end": 1,
                        "count": 0
                      }
                    ]
                  }
                },
                {
                  "name": "wk66",
                  "dtype": "float64",
                  "stats": {
                    "unique_count": 0,
                    "nan_count": 5,
                    "min": null,
                    "max": null,
                    "histogram": [
                      {
                        "bin_start": 0,
                        "bin_end": 0.1,
                        "count": 0
                      },
                      {
                        "bin_start": 0.1,
                        "bin_end": 0.2,
                        "count": 0
                      },
                      {
                        "bin_start": 0.2,
                        "bin_end": 0.30000000000000004,
                        "count": 0
                      },
                      {
                        "bin_start": 0.30000000000000004,
                        "bin_end": 0.4,
                        "count": 0
                      },
                      {
                        "bin_start": 0.4,
                        "bin_end": 0.5,
                        "count": 0
                      },
                      {
                        "bin_start": 0.5,
                        "bin_end": 0.6000000000000001,
                        "count": 0
                      },
                      {
                        "bin_start": 0.6000000000000001,
                        "bin_end": 0.7000000000000001,
                        "count": 0
                      },
                      {
                        "bin_start": 0.7000000000000001,
                        "bin_end": 0.8,
                        "count": 0
                      },
                      {
                        "bin_start": 0.8,
                        "bin_end": 0.9,
                        "count": 0
                      },
                      {
                        "bin_start": 0.9,
                        "bin_end": 1,
                        "count": 0
                      }
                    ]
                  }
                },
                {
                  "name": "wk67",
                  "dtype": "float64",
                  "stats": {
                    "unique_count": 0,
                    "nan_count": 5,
                    "min": null,
                    "max": null,
                    "histogram": [
                      {
                        "bin_start": 0,
                        "bin_end": 0.1,
                        "count": 0
                      },
                      {
                        "bin_start": 0.1,
                        "bin_end": 0.2,
                        "count": 0
                      },
                      {
                        "bin_start": 0.2,
                        "bin_end": 0.30000000000000004,
                        "count": 0
                      },
                      {
                        "bin_start": 0.30000000000000004,
                        "bin_end": 0.4,
                        "count": 0
                      },
                      {
                        "bin_start": 0.4,
                        "bin_end": 0.5,
                        "count": 0
                      },
                      {
                        "bin_start": 0.5,
                        "bin_end": 0.6000000000000001,
                        "count": 0
                      },
                      {
                        "bin_start": 0.6000000000000001,
                        "bin_end": 0.7000000000000001,
                        "count": 0
                      },
                      {
                        "bin_start": 0.7000000000000001,
                        "bin_end": 0.8,
                        "count": 0
                      },
                      {
                        "bin_start": 0.8,
                        "bin_end": 0.9,
                        "count": 0
                      },
                      {
                        "bin_start": 0.9,
                        "bin_end": 1,
                        "count": 0
                      }
                    ]
                  }
                },
                {
                  "name": "wk68",
                  "dtype": "float64",
                  "stats": {
                    "unique_count": 0,
                    "nan_count": 5,
                    "min": null,
                    "max": null,
                    "histogram": [
                      {
                        "bin_start": 0,
                        "bin_end": 0.1,
                        "count": 0
                      },
                      {
                        "bin_start": 0.1,
                        "bin_end": 0.2,
                        "count": 0
                      },
                      {
                        "bin_start": 0.2,
                        "bin_end": 0.30000000000000004,
                        "count": 0
                      },
                      {
                        "bin_start": 0.30000000000000004,
                        "bin_end": 0.4,
                        "count": 0
                      },
                      {
                        "bin_start": 0.4,
                        "bin_end": 0.5,
                        "count": 0
                      },
                      {
                        "bin_start": 0.5,
                        "bin_end": 0.6000000000000001,
                        "count": 0
                      },
                      {
                        "bin_start": 0.6000000000000001,
                        "bin_end": 0.7000000000000001,
                        "count": 0
                      },
                      {
                        "bin_start": 0.7000000000000001,
                        "bin_end": 0.8,
                        "count": 0
                      },
                      {
                        "bin_start": 0.8,
                        "bin_end": 0.9,
                        "count": 0
                      },
                      {
                        "bin_start": 0.9,
                        "bin_end": 1,
                        "count": 0
                      }
                    ]
                  }
                },
                {
                  "name": "wk69",
                  "dtype": "float64",
                  "stats": {
                    "unique_count": 0,
                    "nan_count": 5,
                    "min": null,
                    "max": null,
                    "histogram": [
                      {
                        "bin_start": 0,
                        "bin_end": 0.1,
                        "count": 0
                      },
                      {
                        "bin_start": 0.1,
                        "bin_end": 0.2,
                        "count": 0
                      },
                      {
                        "bin_start": 0.2,
                        "bin_end": 0.30000000000000004,
                        "count": 0
                      },
                      {
                        "bin_start": 0.30000000000000004,
                        "bin_end": 0.4,
                        "count": 0
                      },
                      {
                        "bin_start": 0.4,
                        "bin_end": 0.5,
                        "count": 0
                      },
                      {
                        "bin_start": 0.5,
                        "bin_end": 0.6000000000000001,
                        "count": 0
                      },
                      {
                        "bin_start": 0.6000000000000001,
                        "bin_end": 0.7000000000000001,
                        "count": 0
                      },
                      {
                        "bin_start": 0.7000000000000001,
                        "bin_end": 0.8,
                        "count": 0
                      },
                      {
                        "bin_start": 0.8,
                        "bin_end": 0.9,
                        "count": 0
                      },
                      {
                        "bin_start": 0.9,
                        "bin_end": 1,
                        "count": 0
                      }
                    ]
                  }
                },
                {
                  "name": "wk70",
                  "dtype": "float64",
                  "stats": {
                    "unique_count": 0,
                    "nan_count": 5,
                    "min": null,
                    "max": null,
                    "histogram": [
                      {
                        "bin_start": 0,
                        "bin_end": 0.1,
                        "count": 0
                      },
                      {
                        "bin_start": 0.1,
                        "bin_end": 0.2,
                        "count": 0
                      },
                      {
                        "bin_start": 0.2,
                        "bin_end": 0.30000000000000004,
                        "count": 0
                      },
                      {
                        "bin_start": 0.30000000000000004,
                        "bin_end": 0.4,
                        "count": 0
                      },
                      {
                        "bin_start": 0.4,
                        "bin_end": 0.5,
                        "count": 0
                      },
                      {
                        "bin_start": 0.5,
                        "bin_end": 0.6000000000000001,
                        "count": 0
                      },
                      {
                        "bin_start": 0.6000000000000001,
                        "bin_end": 0.7000000000000001,
                        "count": 0
                      },
                      {
                        "bin_start": 0.7000000000000001,
                        "bin_end": 0.8,
                        "count": 0
                      },
                      {
                        "bin_start": 0.8,
                        "bin_end": 0.9,
                        "count": 0
                      },
                      {
                        "bin_start": 0.9,
                        "bin_end": 1,
                        "count": 0
                      }
                    ]
                  }
                },
                {
                  "name": "wk71",
                  "dtype": "float64",
                  "stats": {
                    "unique_count": 0,
                    "nan_count": 5,
                    "min": null,
                    "max": null,
                    "histogram": [
                      {
                        "bin_start": 0,
                        "bin_end": 0.1,
                        "count": 0
                      },
                      {
                        "bin_start": 0.1,
                        "bin_end": 0.2,
                        "count": 0
                      },
                      {
                        "bin_start": 0.2,
                        "bin_end": 0.30000000000000004,
                        "count": 0
                      },
                      {
                        "bin_start": 0.30000000000000004,
                        "bin_end": 0.4,
                        "count": 0
                      },
                      {
                        "bin_start": 0.4,
                        "bin_end": 0.5,
                        "count": 0
                      },
                      {
                        "bin_start": 0.5,
                        "bin_end": 0.6000000000000001,
                        "count": 0
                      },
                      {
                        "bin_start": 0.6000000000000001,
                        "bin_end": 0.7000000000000001,
                        "count": 0
                      },
                      {
                        "bin_start": 0.7000000000000001,
                        "bin_end": 0.8,
                        "count": 0
                      },
                      {
                        "bin_start": 0.8,
                        "bin_end": 0.9,
                        "count": 0
                      },
                      {
                        "bin_start": 0.9,
                        "bin_end": 1,
                        "count": 0
                      }
                    ]
                  }
                },
                {
                  "name": "wk72",
                  "dtype": "float64",
                  "stats": {
                    "unique_count": 0,
                    "nan_count": 5,
                    "min": null,
                    "max": null,
                    "histogram": [
                      {
                        "bin_start": 0,
                        "bin_end": 0.1,
                        "count": 0
                      },
                      {
                        "bin_start": 0.1,
                        "bin_end": 0.2,
                        "count": 0
                      },
                      {
                        "bin_start": 0.2,
                        "bin_end": 0.30000000000000004,
                        "count": 0
                      },
                      {
                        "bin_start": 0.30000000000000004,
                        "bin_end": 0.4,
                        "count": 0
                      },
                      {
                        "bin_start": 0.4,
                        "bin_end": 0.5,
                        "count": 0
                      },
                      {
                        "bin_start": 0.5,
                        "bin_end": 0.6000000000000001,
                        "count": 0
                      },
                      {
                        "bin_start": 0.6000000000000001,
                        "bin_end": 0.7000000000000001,
                        "count": 0
                      },
                      {
                        "bin_start": 0.7000000000000001,
                        "bin_end": 0.8,
                        "count": 0
                      },
                      {
                        "bin_start": 0.8,
                        "bin_end": 0.9,
                        "count": 0
                      },
                      {
                        "bin_start": 0.9,
                        "bin_end": 1,
                        "count": 0
                      }
                    ]
                  }
                },
                {
                  "name": "wk73",
                  "dtype": "float64",
                  "stats": {
                    "unique_count": 0,
                    "nan_count": 5,
                    "min": null,
                    "max": null,
                    "histogram": [
                      {
                        "bin_start": 0,
                        "bin_end": 0.1,
                        "count": 0
                      },
                      {
                        "bin_start": 0.1,
                        "bin_end": 0.2,
                        "count": 0
                      },
                      {
                        "bin_start": 0.2,
                        "bin_end": 0.30000000000000004,
                        "count": 0
                      },
                      {
                        "bin_start": 0.30000000000000004,
                        "bin_end": 0.4,
                        "count": 0
                      },
                      {
                        "bin_start": 0.4,
                        "bin_end": 0.5,
                        "count": 0
                      },
                      {
                        "bin_start": 0.5,
                        "bin_end": 0.6000000000000001,
                        "count": 0
                      },
                      {
                        "bin_start": 0.6000000000000001,
                        "bin_end": 0.7000000000000001,
                        "count": 0
                      },
                      {
                        "bin_start": 0.7000000000000001,
                        "bin_end": 0.8,
                        "count": 0
                      },
                      {
                        "bin_start": 0.8,
                        "bin_end": 0.9,
                        "count": 0
                      },
                      {
                        "bin_start": 0.9,
                        "bin_end": 1,
                        "count": 0
                      }
                    ]
                  }
                },
                {
                  "name": "wk74",
                  "dtype": "float64",
                  "stats": {
                    "unique_count": 0,
                    "nan_count": 5,
                    "min": null,
                    "max": null,
                    "histogram": [
                      {
                        "bin_start": 0,
                        "bin_end": 0.1,
                        "count": 0
                      },
                      {
                        "bin_start": 0.1,
                        "bin_end": 0.2,
                        "count": 0
                      },
                      {
                        "bin_start": 0.2,
                        "bin_end": 0.30000000000000004,
                        "count": 0
                      },
                      {
                        "bin_start": 0.30000000000000004,
                        "bin_end": 0.4,
                        "count": 0
                      },
                      {
                        "bin_start": 0.4,
                        "bin_end": 0.5,
                        "count": 0
                      },
                      {
                        "bin_start": 0.5,
                        "bin_end": 0.6000000000000001,
                        "count": 0
                      },
                      {
                        "bin_start": 0.6000000000000001,
                        "bin_end": 0.7000000000000001,
                        "count": 0
                      },
                      {
                        "bin_start": 0.7000000000000001,
                        "bin_end": 0.8,
                        "count": 0
                      },
                      {
                        "bin_start": 0.8,
                        "bin_end": 0.9,
                        "count": 0
                      },
                      {
                        "bin_start": 0.9,
                        "bin_end": 1,
                        "count": 0
                      }
                    ]
                  }
                },
                {
                  "name": "wk75",
                  "dtype": "float64",
                  "stats": {
                    "unique_count": 0,
                    "nan_count": 5,
                    "min": null,
                    "max": null,
                    "histogram": [
                      {
                        "bin_start": 0,
                        "bin_end": 0.1,
                        "count": 0
                      },
                      {
                        "bin_start": 0.1,
                        "bin_end": 0.2,
                        "count": 0
                      },
                      {
                        "bin_start": 0.2,
                        "bin_end": 0.30000000000000004,
                        "count": 0
                      },
                      {
                        "bin_start": 0.30000000000000004,
                        "bin_end": 0.4,
                        "count": 0
                      },
                      {
                        "bin_start": 0.4,
                        "bin_end": 0.5,
                        "count": 0
                      },
                      {
                        "bin_start": 0.5,
                        "bin_end": 0.6000000000000001,
                        "count": 0
                      },
                      {
                        "bin_start": 0.6000000000000001,
                        "bin_end": 0.7000000000000001,
                        "count": 0
                      },
                      {
                        "bin_start": 0.7000000000000001,
                        "bin_end": 0.8,
                        "count": 0
                      },
                      {
                        "bin_start": 0.8,
                        "bin_end": 0.9,
                        "count": 0
                      },
                      {
                        "bin_start": 0.9,
                        "bin_end": 1,
                        "count": 0
                      }
                    ]
                  }
                },
                {
                  "name": "wk76",
                  "dtype": "float64",
                  "stats": {
                    "unique_count": 0,
                    "nan_count": 5,
                    "min": null,
                    "max": null,
                    "histogram": [
                      {
                        "bin_start": 0,
                        "bin_end": 0.1,
                        "count": 0
                      },
                      {
                        "bin_start": 0.1,
                        "bin_end": 0.2,
                        "count": 0
                      },
                      {
                        "bin_start": 0.2,
                        "bin_end": 0.30000000000000004,
                        "count": 0
                      },
                      {
                        "bin_start": 0.30000000000000004,
                        "bin_end": 0.4,
                        "count": 0
                      },
                      {
                        "bin_start": 0.4,
                        "bin_end": 0.5,
                        "count": 0
                      },
                      {
                        "bin_start": 0.5,
                        "bin_end": 0.6000000000000001,
                        "count": 0
                      },
                      {
                        "bin_start": 0.6000000000000001,
                        "bin_end": 0.7000000000000001,
                        "count": 0
                      },
                      {
                        "bin_start": 0.7000000000000001,
                        "bin_end": 0.8,
                        "count": 0
                      },
                      {
                        "bin_start": 0.8,
                        "bin_end": 0.9,
                        "count": 0
                      },
                      {
                        "bin_start": 0.9,
                        "bin_end": 1,
                        "count": 0
                      }
                    ]
                  }
                },
                {
                  "name": "_deepnote_index_column",
                  "dtype": "int64"
                }
              ],
              "rows_top": [
                {
                  "year": 2000,
                  "artist": "2 Pac",
                  "track": "Baby Don't Cry (Keep...",
                  "time": "4:22",
                  "date.entered": "2000-02-26",
                  "wk1": 87,
                  "wk2": 82,
                  "wk3": 72,
                  "wk4": "77.0",
                  "wk5": "87.0",
                  "wk6": "94.0",
                  "wk7": "99.0",
                  "wk8": "nan",
                  "wk9": "nan",
                  "wk10": "nan",
                  "wk11": "nan",
                  "wk12": "nan",
                  "wk13": "nan",
                  "wk14": "nan",
                  "wk15": "nan",
                  "wk16": "nan",
                  "wk17": "nan",
                  "wk18": "nan",
                  "wk19": "nan",
                  "wk20": "nan",
                  "wk21": "nan",
                  "wk22": "nan",
                  "wk23": "nan",
                  "wk24": "nan",
                  "wk25": "nan",
                  "wk26": "nan",
                  "wk27": "nan",
                  "wk28": "nan",
                  "wk29": "nan",
                  "wk30": "nan",
                  "wk31": "nan",
                  "wk32": "nan",
                  "wk33": "nan",
                  "wk34": "nan",
                  "wk35": "nan",
                  "wk36": "nan",
                  "wk37": "nan",
                  "wk38": "nan",
                  "wk39": "nan",
                  "wk40": "nan",
                  "wk41": "nan",
                  "wk42": "nan",
                  "wk43": "nan",
                  "wk44": "nan",
                  "wk45": "nan",
                  "wk46": "nan",
                  "wk47": "nan",
                  "wk48": "nan",
                  "wk49": "nan",
                  "wk50": "nan",
                  "wk51": "nan",
                  "wk52": "nan",
                  "wk53": "nan",
                  "wk54": "nan",
                  "wk55": "nan",
                  "wk56": "nan",
                  "wk57": "nan",
                  "wk58": "nan",
                  "wk59": "nan",
                  "wk60": "nan",
                  "wk61": "nan",
                  "wk62": "nan",
                  "wk63": "nan",
                  "wk64": "nan",
                  "wk65": "nan",
                  "wk66": "nan",
                  "wk67": "nan",
                  "wk68": "nan",
                  "wk69": "nan",
                  "wk70": "nan",
                  "wk71": "nan",
                  "wk72": "nan",
                  "wk73": "nan",
                  "wk74": "nan",
                  "wk75": "nan",
                  "wk76": "nan",
                  "_deepnote_index_column": 0
                },
                {
                  "year": 2000,
                  "artist": "2Ge+her",
                  "track": "The Hardest Part Of ...",
                  "time": "3:15",
                  "date.entered": "2000-09-02",
                  "wk1": 91,
                  "wk2": 87,
                  "wk3": 92,
                  "wk4": "nan",
                  "wk5": "nan",
                  "wk6": "nan",
                  "wk7": "nan",
                  "wk8": "nan",
                  "wk9": "nan",
                  "wk10": "nan",
                  "wk11": "nan",
                  "wk12": "nan",
                  "wk13": "nan",
                  "wk14": "nan",
                  "wk15": "nan",
                  "wk16": "nan",
                  "wk17": "nan",
                  "wk18": "nan",
                  "wk19": "nan",
                  "wk20": "nan",
                  "wk21": "nan",
                  "wk22": "nan",
                  "wk23": "nan",
                  "wk24": "nan",
                  "wk25": "nan",
                  "wk26": "nan",
                  "wk27": "nan",
                  "wk28": "nan",
                  "wk29": "nan",
                  "wk30": "nan",
                  "wk31": "nan",
                  "wk32": "nan",
                  "wk33": "nan",
                  "wk34": "nan",
                  "wk35": "nan",
                  "wk36": "nan",
                  "wk37": "nan",
                  "wk38": "nan",
                  "wk39": "nan",
                  "wk40": "nan",
                  "wk41": "nan",
                  "wk42": "nan",
                  "wk43": "nan",
                  "wk44": "nan",
                  "wk45": "nan",
                  "wk46": "nan",
                  "wk47": "nan",
                  "wk48": "nan",
                  "wk49": "nan",
                  "wk50": "nan",
                  "wk51": "nan",
                  "wk52": "nan",
                  "wk53": "nan",
                  "wk54": "nan",
                  "wk55": "nan",
                  "wk56": "nan",
                  "wk57": "nan",
                  "wk58": "nan",
                  "wk59": "nan",
                  "wk60": "nan",
                  "wk61": "nan",
                  "wk62": "nan",
                  "wk63": "nan",
                  "wk64": "nan",
                  "wk65": "nan",
                  "wk66": "nan",
                  "wk67": "nan",
                  "wk68": "nan",
                  "wk69": "nan",
                  "wk70": "nan",
                  "wk71": "nan",
                  "wk72": "nan",
                  "wk73": "nan",
                  "wk74": "nan",
                  "wk75": "nan",
                  "wk76": "nan",
                  "_deepnote_index_column": 1
                },
                {
                  "year": 2000,
                  "artist": "3 Doors Down",
                  "track": "Kryptonite",
                  "time": "3:53",
                  "date.entered": "2000-04-08",
                  "wk1": 81,
                  "wk2": 70,
                  "wk3": 68,
                  "wk4": "67.0",
                  "wk5": "66.0",
                  "wk6": "57.0",
                  "wk7": "54.0",
                  "wk8": "53.0",
                  "wk9": "51.0",
                  "wk10": "51.0",
                  "wk11": "51.0",
                  "wk12": "51.0",
                  "wk13": "47.0",
                  "wk14": "44.0",
                  "wk15": "38.0",
                  "wk16": "28.0",
                  "wk17": "22.0",
                  "wk18": "18.0",
                  "wk19": "18.0",
                  "wk20": "14.0",
                  "wk21": "12.0",
                  "wk22": "7.0",
                  "wk23": "6.0",
                  "wk24": "6.0",
                  "wk25": "6.0",
                  "wk26": "5.0",
                  "wk27": "5.0",
                  "wk28": "4.0",
                  "wk29": "4.0",
                  "wk30": "4.0",
                  "wk31": "4.0",
                  "wk32": "3.0",
                  "wk33": "3.0",
                  "wk34": "3.0",
                  "wk35": "4.0",
                  "wk36": "5.0",
                  "wk37": "5.0",
                  "wk38": "9.0",
                  "wk39": "9.0",
                  "wk40": "15.0",
                  "wk41": "14.0",
                  "wk42": "13.0",
                  "wk43": "14.0",
                  "wk44": "16.0",
                  "wk45": "17.0",
                  "wk46": "21.0",
                  "wk47": "22.0",
                  "wk48": "24.0",
                  "wk49": "28.0",
                  "wk50": "33.0",
                  "wk51": "42.0",
                  "wk52": "42.0",
                  "wk53": "49.0",
                  "wk54": "nan",
                  "wk55": "nan",
                  "wk56": "nan",
                  "wk57": "nan",
                  "wk58": "nan",
                  "wk59": "nan",
                  "wk60": "nan",
                  "wk61": "nan",
                  "wk62": "nan",
                  "wk63": "nan",
                  "wk64": "nan",
                  "wk65": "nan",
                  "wk66": "nan",
                  "wk67": "nan",
                  "wk68": "nan",
                  "wk69": "nan",
                  "wk70": "nan",
                  "wk71": "nan",
                  "wk72": "nan",
                  "wk73": "nan",
                  "wk74": "nan",
                  "wk75": "nan",
                  "wk76": "nan",
                  "_deepnote_index_column": 2
                },
                {
                  "year": 2000,
                  "artist": "3 Doors Down",
                  "track": "Loser",
                  "time": "4:24",
                  "date.entered": "2000-10-21",
                  "wk1": 76,
                  "wk2": 76,
                  "wk3": 72,
                  "wk4": "69.0",
                  "wk5": "67.0",
                  "wk6": "65.0",
                  "wk7": "55.0",
                  "wk8": "59.0",
                  "wk9": "62.0",
                  "wk10": "61.0",
                  "wk11": "61.0",
                  "wk12": "59.0",
                  "wk13": "61.0",
                  "wk14": "66.0",
                  "wk15": "72.0",
                  "wk16": "76.0",
                  "wk17": "75.0",
                  "wk18": "67.0",
                  "wk19": "73.0",
                  "wk20": "70.0",
                  "wk21": "nan",
                  "wk22": "nan",
                  "wk23": "nan",
                  "wk24": "nan",
                  "wk25": "nan",
                  "wk26": "nan",
                  "wk27": "nan",
                  "wk28": "nan",
                  "wk29": "nan",
                  "wk30": "nan",
                  "wk31": "nan",
                  "wk32": "nan",
                  "wk33": "nan",
                  "wk34": "nan",
                  "wk35": "nan",
                  "wk36": "nan",
                  "wk37": "nan",
                  "wk38": "nan",
                  "wk39": "nan",
                  "wk40": "nan",
                  "wk41": "nan",
                  "wk42": "nan",
                  "wk43": "nan",
                  "wk44": "nan",
                  "wk45": "nan",
                  "wk46": "nan",
                  "wk47": "nan",
                  "wk48": "nan",
                  "wk49": "nan",
                  "wk50": "nan",
                  "wk51": "nan",
                  "wk52": "nan",
                  "wk53": "nan",
                  "wk54": "nan",
                  "wk55": "nan",
                  "wk56": "nan",
                  "wk57": "nan",
                  "wk58": "nan",
                  "wk59": "nan",
                  "wk60": "nan",
                  "wk61": "nan",
                  "wk62": "nan",
                  "wk63": "nan",
                  "wk64": "nan",
                  "wk65": "nan",
                  "wk66": "nan",
                  "wk67": "nan",
                  "wk68": "nan",
                  "wk69": "nan",
                  "wk70": "nan",
                  "wk71": "nan",
                  "wk72": "nan",
                  "wk73": "nan",
                  "wk74": "nan",
                  "wk75": "nan",
                  "wk76": "nan",
                  "_deepnote_index_column": 3
                },
                {
                  "year": 2000,
                  "artist": "504 Boyz",
                  "track": "Wobble Wobble",
                  "time": "3:35",
                  "date.entered": "2000-04-15",
                  "wk1": 57,
                  "wk2": 34,
                  "wk3": 25,
                  "wk4": "17.0",
                  "wk5": "17.0",
                  "wk6": "31.0",
                  "wk7": "36.0",
                  "wk8": "49.0",
                  "wk9": "53.0",
                  "wk10": "57.0",
                  "wk11": "64.0",
                  "wk12": "70.0",
                  "wk13": "75.0",
                  "wk14": "76.0",
                  "wk15": "78.0",
                  "wk16": "85.0",
                  "wk17": "92.0",
                  "wk18": "96.0",
                  "wk19": "nan",
                  "wk20": "nan",
                  "wk21": "nan",
                  "wk22": "nan",
                  "wk23": "nan",
                  "wk24": "nan",
                  "wk25": "nan",
                  "wk26": "nan",
                  "wk27": "nan",
                  "wk28": "nan",
                  "wk29": "nan",
                  "wk30": "nan",
                  "wk31": "nan",
                  "wk32": "nan",
                  "wk33": "nan",
                  "wk34": "nan",
                  "wk35": "nan",
                  "wk36": "nan",
                  "wk37": "nan",
                  "wk38": "nan",
                  "wk39": "nan",
                  "wk40": "nan",
                  "wk41": "nan",
                  "wk42": "nan",
                  "wk43": "nan",
                  "wk44": "nan",
                  "wk45": "nan",
                  "wk46": "nan",
                  "wk47": "nan",
                  "wk48": "nan",
                  "wk49": "nan",
                  "wk50": "nan",
                  "wk51": "nan",
                  "wk52": "nan",
                  "wk53": "nan",
                  "wk54": "nan",
                  "wk55": "nan",
                  "wk56": "nan",
                  "wk57": "nan",
                  "wk58": "nan",
                  "wk59": "nan",
                  "wk60": "nan",
                  "wk61": "nan",
                  "wk62": "nan",
                  "wk63": "nan",
                  "wk64": "nan",
                  "wk65": "nan",
                  "wk66": "nan",
                  "wk67": "nan",
                  "wk68": "nan",
                  "wk69": "nan",
                  "wk70": "nan",
                  "wk71": "nan",
                  "wk72": "nan",
                  "wk73": "nan",
                  "wk74": "nan",
                  "wk75": "nan",
                  "wk76": "nan",
                  "_deepnote_index_column": 4
                }
              ],
              "rows_bottom": null
            },
            "text/plain": "   year        artist                    track  time date.entered  wk1   wk2  \\\n0  2000         2 Pac  Baby Don't Cry (Keep...  4:22   2000-02-26   87  82.0   \n1  2000       2Ge+her  The Hardest Part Of ...  3:15   2000-09-02   91  87.0   \n2  2000  3 Doors Down               Kryptonite  3:53   2000-04-08   81  70.0   \n3  2000  3 Doors Down                    Loser  4:24   2000-10-21   76  76.0   \n4  2000      504 Boyz            Wobble Wobble  3:35   2000-04-15   57  34.0   \n\n    wk3   wk4   wk5  ...  wk67  wk68  wk69  wk70  wk71  wk72  wk73  wk74  \\\n0  72.0  77.0  87.0  ...   NaN   NaN   NaN   NaN   NaN   NaN   NaN   NaN   \n1  92.0   NaN   NaN  ...   NaN   NaN   NaN   NaN   NaN   NaN   NaN   NaN   \n2  68.0  67.0  66.0  ...   NaN   NaN   NaN   NaN   NaN   NaN   NaN   NaN   \n3  72.0  69.0  67.0  ...   NaN   NaN   NaN   NaN   NaN   NaN   NaN   NaN   \n4  25.0  17.0  17.0  ...   NaN   NaN   NaN   NaN   NaN   NaN   NaN   NaN   \n\n   wk75  wk76  \n0   NaN   NaN  \n1   NaN   NaN  \n2   NaN   NaN  \n3   NaN   NaN  \n4   NaN   NaN  \n\n[5 rows x 81 columns]",
            "text/html": "<div>\n<style scoped>\n    .dataframe tbody tr th:only-of-type {\n        vertical-align: middle;\n    }\n\n    .dataframe tbody tr th {\n        vertical-align: top;\n    }\n\n    .dataframe thead th {\n        text-align: right;\n    }\n</style>\n<table border=\"1\" class=\"dataframe\">\n  <thead>\n    <tr style=\"text-align: right;\">\n      <th></th>\n      <th>year</th>\n      <th>artist</th>\n      <th>track</th>\n      <th>time</th>\n      <th>date.entered</th>\n      <th>wk1</th>\n      <th>wk2</th>\n      <th>wk3</th>\n      <th>wk4</th>\n      <th>wk5</th>\n      <th>...</th>\n      <th>wk67</th>\n      <th>wk68</th>\n      <th>wk69</th>\n      <th>wk70</th>\n      <th>wk71</th>\n      <th>wk72</th>\n      <th>wk73</th>\n      <th>wk74</th>\n      <th>wk75</th>\n      <th>wk76</th>\n    </tr>\n  </thead>\n  <tbody>\n    <tr>\n      <th>0</th>\n      <td>2000</td>\n      <td>2 Pac</td>\n      <td>Baby Don't Cry (Keep...</td>\n      <td>4:22</td>\n      <td>2000-02-26</td>\n      <td>87</td>\n      <td>82.0</td>\n      <td>72.0</td>\n      <td>77.0</td>\n      <td>87.0</td>\n      <td>...</td>\n      <td>NaN</td>\n      <td>NaN</td>\n      <td>NaN</td>\n      <td>NaN</td>\n      <td>NaN</td>\n      <td>NaN</td>\n      <td>NaN</td>\n      <td>NaN</td>\n      <td>NaN</td>\n      <td>NaN</td>\n    </tr>\n    <tr>\n      <th>1</th>\n      <td>2000</td>\n      <td>2Ge+her</td>\n      <td>The Hardest Part Of ...</td>\n      <td>3:15</td>\n      <td>2000-09-02</td>\n      <td>91</td>\n      <td>87.0</td>\n      <td>92.0</td>\n      <td>NaN</td>\n      <td>NaN</td>\n      <td>...</td>\n      <td>NaN</td>\n      <td>NaN</td>\n      <td>NaN</td>\n      <td>NaN</td>\n      <td>NaN</td>\n      <td>NaN</td>\n      <td>NaN</td>\n      <td>NaN</td>\n      <td>NaN</td>\n      <td>NaN</td>\n    </tr>\n    <tr>\n      <th>2</th>\n      <td>2000</td>\n      <td>3 Doors Down</td>\n      <td>Kryptonite</td>\n      <td>3:53</td>\n      <td>2000-04-08</td>\n      <td>81</td>\n      <td>70.0</td>\n      <td>68.0</td>\n      <td>67.0</td>\n      <td>66.0</td>\n      <td>...</td>\n      <td>NaN</td>\n      <td>NaN</td>\n      <td>NaN</td>\n      <td>NaN</td>\n      <td>NaN</td>\n      <td>NaN</td>\n      <td>NaN</td>\n      <td>NaN</td>\n      <td>NaN</td>\n      <td>NaN</td>\n    </tr>\n    <tr>\n      <th>3</th>\n      <td>2000</td>\n      <td>3 Doors Down</td>\n      <td>Loser</td>\n      <td>4:24</td>\n      <td>2000-10-21</td>\n      <td>76</td>\n      <td>76.0</td>\n      <td>72.0</td>\n      <td>69.0</td>\n      <td>67.0</td>\n      <td>...</td>\n      <td>NaN</td>\n      <td>NaN</td>\n      <td>NaN</td>\n      <td>NaN</td>\n      <td>NaN</td>\n      <td>NaN</td>\n      <td>NaN</td>\n      <td>NaN</td>\n      <td>NaN</td>\n      <td>NaN</td>\n    </tr>\n    <tr>\n      <th>4</th>\n      <td>2000</td>\n      <td>504 Boyz</td>\n      <td>Wobble Wobble</td>\n      <td>3:35</td>\n      <td>2000-04-15</td>\n      <td>57</td>\n      <td>34.0</td>\n      <td>25.0</td>\n      <td>17.0</td>\n      <td>17.0</td>\n      <td>...</td>\n      <td>NaN</td>\n      <td>NaN</td>\n      <td>NaN</td>\n      <td>NaN</td>\n      <td>NaN</td>\n      <td>NaN</td>\n      <td>NaN</td>\n      <td>NaN</td>\n      <td>NaN</td>\n      <td>NaN</td>\n    </tr>\n  </tbody>\n</table>\n<p>5 rows × 81 columns</p>\n</div>"
          },
          "metadata": {}
        }
      ]
    },
    {
      "cell_type": "code",
      "metadata": {
        "tags": [],
        "cell_id": "00035-0be40844-b2d9-48f3-be14-34e81260e9d9",
        "deepnote_to_be_reexecuted": false,
        "source_hash": "bfde53b2",
        "execution_start": 1620248784016,
        "execution_millis": 5,
        "deepnote_cell_type": "code"
      },
      "source": "billboard_melt = pd.melt(billboard, id_vars=['year', 'artist', 'track', 'time', 'date.entered'],\n                        var_name='week',\n                        value_name='rating')",
      "execution_count": 33,
      "outputs": []
    },
    {
      "cell_type": "code",
      "metadata": {
        "tags": [],
        "cell_id": "00036-796f4391-25f3-4313-9cf8-a61f2c379731",
        "deepnote_to_be_reexecuted": false,
        "source_hash": "4da1956e",
        "execution_start": 1620248784046,
        "execution_millis": 27,
        "deepnote_cell_type": "code"
      },
      "source": "billboard_melt.head()",
      "execution_count": 34,
      "outputs": [
        {
          "output_type": "execute_result",
          "execution_count": 34,
          "data": {
            "application/vnd.deepnote.dataframe.v2+json": {
              "row_count": 5,
              "column_count": 7,
              "columns": [
                {
                  "name": "year",
                  "dtype": "int64",
                  "stats": {
                    "unique_count": 1,
                    "nan_count": 0,
                    "min": "2000",
                    "max": "2000",
                    "histogram": [
                      {
                        "bin_start": 1999.5,
                        "bin_end": 1999.6,
                        "count": 0
                      },
                      {
                        "bin_start": 1999.6,
                        "bin_end": 1999.7,
                        "count": 0
                      },
                      {
                        "bin_start": 1999.7,
                        "bin_end": 1999.8,
                        "count": 0
                      },
                      {
                        "bin_start": 1999.8,
                        "bin_end": 1999.9,
                        "count": 0
                      },
                      {
                        "bin_start": 1999.9,
                        "bin_end": 2000,
                        "count": 0
                      },
                      {
                        "bin_start": 2000,
                        "bin_end": 2000.1,
                        "count": 5
                      },
                      {
                        "bin_start": 2000.1,
                        "bin_end": 2000.2,
                        "count": 0
                      },
                      {
                        "bin_start": 2000.2,
                        "bin_end": 2000.3,
                        "count": 0
                      },
                      {
                        "bin_start": 2000.3,
                        "bin_end": 2000.4,
                        "count": 0
                      },
                      {
                        "bin_start": 2000.4,
                        "bin_end": 2000.5,
                        "count": 0
                      }
                    ]
                  }
                },
                {
                  "name": "artist",
                  "dtype": "object",
                  "stats": {
                    "unique_count": 4,
                    "nan_count": 0,
                    "categories": [
                      {
                        "name": "3 Doors Down",
                        "count": 2
                      },
                      {
                        "name": "2 Pac",
                        "count": 1
                      },
                      {
                        "name": "2 others",
                        "count": 2
                      }
                    ]
                  }
                },
                {
                  "name": "track",
                  "dtype": "object",
                  "stats": {
                    "unique_count": 5,
                    "nan_count": 0,
                    "categories": [
                      {
                        "name": "Baby Don't Cry (Keep...",
                        "count": 1
                      },
                      {
                        "name": "The Hardest Part Of ...",
                        "count": 1
                      },
                      {
                        "name": "3 others",
                        "count": 3
                      }
                    ]
                  }
                },
                {
                  "name": "time",
                  "dtype": "object",
                  "stats": {
                    "unique_count": 5,
                    "nan_count": 0,
                    "categories": [
                      {
                        "name": "4:22",
                        "count": 1
                      },
                      {
                        "name": "3:15",
                        "count": 1
                      },
                      {
                        "name": "3 others",
                        "count": 3
                      }
                    ]
                  }
                },
                {
                  "name": "date.entered",
                  "dtype": "object",
                  "stats": {
                    "unique_count": 5,
                    "nan_count": 0,
                    "categories": [
                      {
                        "name": "2000-02-26",
                        "count": 1
                      },
                      {
                        "name": "2000-09-02",
                        "count": 1
                      },
                      {
                        "name": "3 others",
                        "count": 3
                      }
                    ]
                  }
                },
                {
                  "name": "week",
                  "dtype": "object",
                  "stats": {
                    "unique_count": 1,
                    "nan_count": 0,
                    "categories": [
                      {
                        "name": "wk1",
                        "count": 5
                      }
                    ]
                  }
                },
                {
                  "name": "rating",
                  "dtype": "float64",
                  "stats": {
                    "unique_count": 5,
                    "nan_count": 0,
                    "min": "57.0",
                    "max": "91.0",
                    "histogram": [
                      {
                        "bin_start": 57,
                        "bin_end": 60.4,
                        "count": 1
                      },
                      {
                        "bin_start": 60.4,
                        "bin_end": 63.8,
                        "count": 0
                      },
                      {
                        "bin_start": 63.8,
                        "bin_end": 67.2,
                        "count": 0
                      },
                      {
                        "bin_start": 67.2,
                        "bin_end": 70.6,
                        "count": 0
                      },
                      {
                        "bin_start": 70.6,
                        "bin_end": 74,
                        "count": 0
                      },
                      {
                        "bin_start": 74,
                        "bin_end": 77.4,
                        "count": 1
                      },
                      {
                        "bin_start": 77.4,
                        "bin_end": 80.8,
                        "count": 0
                      },
                      {
                        "bin_start": 80.8,
                        "bin_end": 84.2,
                        "count": 1
                      },
                      {
                        "bin_start": 84.2,
                        "bin_end": 87.6,
                        "count": 1
                      },
                      {
                        "bin_start": 87.6,
                        "bin_end": 91,
                        "count": 1
                      }
                    ]
                  }
                },
                {
                  "name": "_deepnote_index_column",
                  "dtype": "int64"
                }
              ],
              "rows_top": [
                {
                  "year": 2000,
                  "artist": "2 Pac",
                  "track": "Baby Don't Cry (Keep...",
                  "time": "4:22",
                  "date.entered": "2000-02-26",
                  "week": "wk1",
                  "rating": 87,
                  "_deepnote_index_column": 0
                },
                {
                  "year": 2000,
                  "artist": "2Ge+her",
                  "track": "The Hardest Part Of ...",
                  "time": "3:15",
                  "date.entered": "2000-09-02",
                  "week": "wk1",
                  "rating": 91,
                  "_deepnote_index_column": 1
                },
                {
                  "year": 2000,
                  "artist": "3 Doors Down",
                  "track": "Kryptonite",
                  "time": "3:53",
                  "date.entered": "2000-04-08",
                  "week": "wk1",
                  "rating": 81,
                  "_deepnote_index_column": 2
                },
                {
                  "year": 2000,
                  "artist": "3 Doors Down",
                  "track": "Loser",
                  "time": "4:24",
                  "date.entered": "2000-10-21",
                  "week": "wk1",
                  "rating": 76,
                  "_deepnote_index_column": 3
                },
                {
                  "year": 2000,
                  "artist": "504 Boyz",
                  "track": "Wobble Wobble",
                  "time": "3:35",
                  "date.entered": "2000-04-15",
                  "week": "wk1",
                  "rating": 57,
                  "_deepnote_index_column": 4
                }
              ],
              "rows_bottom": null
            },
            "text/plain": "   year        artist                    track  time date.entered week  rating\n0  2000         2 Pac  Baby Don't Cry (Keep...  4:22   2000-02-26  wk1    87.0\n1  2000       2Ge+her  The Hardest Part Of ...  3:15   2000-09-02  wk1    91.0\n2  2000  3 Doors Down               Kryptonite  3:53   2000-04-08  wk1    81.0\n3  2000  3 Doors Down                    Loser  4:24   2000-10-21  wk1    76.0\n4  2000      504 Boyz            Wobble Wobble  3:35   2000-04-15  wk1    57.0",
            "text/html": "<div>\n<style scoped>\n    .dataframe tbody tr th:only-of-type {\n        vertical-align: middle;\n    }\n\n    .dataframe tbody tr th {\n        vertical-align: top;\n    }\n\n    .dataframe thead th {\n        text-align: right;\n    }\n</style>\n<table border=\"1\" class=\"dataframe\">\n  <thead>\n    <tr style=\"text-align: right;\">\n      <th></th>\n      <th>year</th>\n      <th>artist</th>\n      <th>track</th>\n      <th>time</th>\n      <th>date.entered</th>\n      <th>week</th>\n      <th>rating</th>\n    </tr>\n  </thead>\n  <tbody>\n    <tr>\n      <th>0</th>\n      <td>2000</td>\n      <td>2 Pac</td>\n      <td>Baby Don't Cry (Keep...</td>\n      <td>4:22</td>\n      <td>2000-02-26</td>\n      <td>wk1</td>\n      <td>87.0</td>\n    </tr>\n    <tr>\n      <th>1</th>\n      <td>2000</td>\n      <td>2Ge+her</td>\n      <td>The Hardest Part Of ...</td>\n      <td>3:15</td>\n      <td>2000-09-02</td>\n      <td>wk1</td>\n      <td>91.0</td>\n    </tr>\n    <tr>\n      <th>2</th>\n      <td>2000</td>\n      <td>3 Doors Down</td>\n      <td>Kryptonite</td>\n      <td>3:53</td>\n      <td>2000-04-08</td>\n      <td>wk1</td>\n      <td>81.0</td>\n    </tr>\n    <tr>\n      <th>3</th>\n      <td>2000</td>\n      <td>3 Doors Down</td>\n      <td>Loser</td>\n      <td>4:24</td>\n      <td>2000-10-21</td>\n      <td>wk1</td>\n      <td>76.0</td>\n    </tr>\n    <tr>\n      <th>4</th>\n      <td>2000</td>\n      <td>504 Boyz</td>\n      <td>Wobble Wobble</td>\n      <td>3:35</td>\n      <td>2000-04-15</td>\n      <td>wk1</td>\n      <td>57.0</td>\n    </tr>\n  </tbody>\n</table>\n</div>"
          },
          "metadata": {}
        }
      ]
    },
    {
      "cell_type": "code",
      "metadata": {
        "tags": [],
        "cell_id": "00037-2b79f184-ed6e-4b62-af10-d73ffc94bf41",
        "deepnote_to_be_reexecuted": false,
        "source_hash": "9bafa9e7",
        "execution_start": 1620248784056,
        "execution_millis": 17,
        "deepnote_cell_type": "code"
      },
      "source": "billboard.shape",
      "execution_count": 35,
      "outputs": [
        {
          "output_type": "execute_result",
          "execution_count": 35,
          "data": {
            "text/plain": "(317, 81)"
          },
          "metadata": {}
        }
      ]
    },
    {
      "cell_type": "code",
      "metadata": {
        "tags": [],
        "cell_id": "00038-34e12544-bd93-40c3-a6f1-42f1206b648c",
        "deepnote_to_be_reexecuted": false,
        "source_hash": "c992492",
        "execution_start": 1620248784107,
        "execution_millis": 9,
        "deepnote_cell_type": "code"
      },
      "source": "billboard_melt.shape",
      "execution_count": 36,
      "outputs": [
        {
          "output_type": "execute_result",
          "execution_count": 36,
          "data": {
            "text/plain": "(24092, 7)"
          },
          "metadata": {}
        }
      ]
    },
    {
      "cell_type": "code",
      "metadata": {
        "tags": [],
        "cell_id": "00039-5b33f8a2-518c-4b76-a64c-5b7f0df8b399",
        "deepnote_to_be_reexecuted": false,
        "source_hash": "f85b54b1",
        "execution_start": 1620248784108,
        "execution_millis": 0,
        "deepnote_cell_type": "code"
      },
      "source": "ebola = pd.read_csv('./tidy_data/country_timeseries.csv')",
      "execution_count": 37,
      "outputs": []
    },
    {
      "cell_type": "code",
      "source": "ebola.head()",
      "metadata": {
        "tags": [],
        "cell_id": "00040-7e58e053-a960-4b90-a375-a88505881840",
        "deepnote_to_be_reexecuted": false,
        "source_hash": "66bdeb92",
        "execution_start": 1620248784108,
        "execution_millis": 109,
        "deepnote_cell_type": "code"
      },
      "outputs": [
        {
          "output_type": "execute_result",
          "execution_count": 38,
          "data": {
            "application/vnd.deepnote.dataframe.v2+json": {
              "row_count": 5,
              "column_count": 18,
              "columns": [
                {
                  "name": "Date",
                  "dtype": "object",
                  "stats": {
                    "unique_count": 5,
                    "nan_count": 0,
                    "categories": [
                      {
                        "name": "1/5/2015",
                        "count": 1
                      },
                      {
                        "name": "1/4/2015",
                        "count": 1
                      },
                      {
                        "name": "3 others",
                        "count": 3
                      }
                    ]
                  }
                },
                {
                  "name": "Day",
                  "dtype": "int64",
                  "stats": {
                    "unique_count": 5,
                    "nan_count": 0,
                    "min": "284",
                    "max": "289",
                    "histogram": [
                      {
                        "bin_start": 284,
                        "bin_end": 284.5,
                        "count": 1
                      },
                      {
                        "bin_start": 284.5,
                        "bin_end": 285,
                        "count": 0
                      },
                      {
                        "bin_start": 285,
                        "bin_end": 285.5,
                        "count": 0
                      },
                      {
                        "bin_start": 285.5,
                        "bin_end": 286,
                        "count": 0
                      },
                      {
                        "bin_start": 286,
                        "bin_end": 286.5,
                        "count": 1
                      },
                      {
                        "bin_start": 286.5,
                        "bin_end": 287,
                        "count": 0
                      },
                      {
                        "bin_start": 287,
                        "bin_end": 287.5,
                        "count": 1
                      },
                      {
                        "bin_start": 287.5,
                        "bin_end": 288,
                        "count": 0
                      },
                      {
                        "bin_start": 288,
                        "bin_end": 288.5,
                        "count": 1
                      },
                      {
                        "bin_start": 288.5,
                        "bin_end": 289,
                        "count": 1
                      }
                    ]
                  }
                },
                {
                  "name": "Cases_Guinea",
                  "dtype": "float64",
                  "stats": {
                    "unique_count": 4,
                    "nan_count": 1,
                    "min": "2730.0",
                    "max": "2776.0",
                    "histogram": [
                      {
                        "bin_start": 2730,
                        "bin_end": 2734.6,
                        "count": 1
                      },
                      {
                        "bin_start": 2734.6,
                        "bin_end": 2739.2,
                        "count": 0
                      },
                      {
                        "bin_start": 2739.2,
                        "bin_end": 2743.8,
                        "count": 0
                      },
                      {
                        "bin_start": 2743.8,
                        "bin_end": 2748.4,
                        "count": 0
                      },
                      {
                        "bin_start": 2748.4,
                        "bin_end": 2753,
                        "count": 0
                      },
                      {
                        "bin_start": 2753,
                        "bin_end": 2757.6,
                        "count": 0
                      },
                      {
                        "bin_start": 2757.6,
                        "bin_end": 2762.2,
                        "count": 0
                      },
                      {
                        "bin_start": 2762.2,
                        "bin_end": 2766.8,
                        "count": 0
                      },
                      {
                        "bin_start": 2766.8,
                        "bin_end": 2771.4,
                        "count": 1
                      },
                      {
                        "bin_start": 2771.4,
                        "bin_end": 2776,
                        "count": 2
                      }
                    ]
                  }
                },
                {
                  "name": "Cases_Liberia",
                  "dtype": "float64",
                  "stats": {
                    "unique_count": 3,
                    "nan_count": 2,
                    "min": "8115.0",
                    "max": "8166.0",
                    "histogram": [
                      {
                        "bin_start": 8115,
                        "bin_end": 8120.1,
                        "count": 1
                      },
                      {
                        "bin_start": 8120.1,
                        "bin_end": 8125.2,
                        "count": 0
                      },
                      {
                        "bin_start": 8125.2,
                        "bin_end": 8130.3,
                        "count": 0
                      },
                      {
                        "bin_start": 8130.3,
                        "bin_end": 8135.4,
                        "count": 0
                      },
                      {
                        "bin_start": 8135.4,
                        "bin_end": 8140.5,
                        "count": 0
                      },
                      {
                        "bin_start": 8140.5,
                        "bin_end": 8145.6,
                        "count": 0
                      },
                      {
                        "bin_start": 8145.6,
                        "bin_end": 8150.7,
                        "count": 0
                      },
                      {
                        "bin_start": 8150.7,
                        "bin_end": 8155.8,
                        "count": 0
                      },
                      {
                        "bin_start": 8155.8,
                        "bin_end": 8160.9,
                        "count": 1
                      },
                      {
                        "bin_start": 8160.9,
                        "bin_end": 8166,
                        "count": 1
                      }
                    ]
                  }
                },
                {
                  "name": "Cases_SierraLeone",
                  "dtype": "float64",
                  "stats": {
                    "unique_count": 4,
                    "nan_count": 1,
                    "min": "9633.0",
                    "max": "10030.0",
                    "histogram": [
                      {
                        "bin_start": 9633,
                        "bin_end": 9672.7,
                        "count": 1
                      },
                      {
                        "bin_start": 9672.7,
                        "bin_end": 9712.4,
                        "count": 0
                      },
                      {
                        "bin_start": 9712.4,
                        "bin_end": 9752.1,
                        "count": 1
                      },
                      {
                        "bin_start": 9752.1,
                        "bin_end": 9791.8,
                        "count": 1
                      },
                      {
                        "bin_start": 9791.8,
                        "bin_end": 9831.5,
                        "count": 0
                      },
                      {
                        "bin_start": 9831.5,
                        "bin_end": 9871.2,
                        "count": 0
                      },
                      {
                        "bin_start": 9871.2,
                        "bin_end": 9910.9,
                        "count": 0
                      },
                      {
                        "bin_start": 9910.9,
                        "bin_end": 9950.6,
                        "count": 0
                      },
                      {
                        "bin_start": 9950.6,
                        "bin_end": 9990.3,
                        "count": 0
                      },
                      {
                        "bin_start": 9990.3,
                        "bin_end": 10030,
                        "count": 1
                      }
                    ]
                  }
                },
                {
                  "name": "Cases_Nigeria",
                  "dtype": "float64",
                  "stats": {
                    "unique_count": 0,
                    "nan_count": 5,
                    "min": null,
                    "max": null,
                    "histogram": [
                      {
                        "bin_start": 0,
                        "bin_end": 0.1,
                        "count": 0
                      },
                      {
                        "bin_start": 0.1,
                        "bin_end": 0.2,
                        "count": 0
                      },
                      {
                        "bin_start": 0.2,
                        "bin_end": 0.30000000000000004,
                        "count": 0
                      },
                      {
                        "bin_start": 0.30000000000000004,
                        "bin_end": 0.4,
                        "count": 0
                      },
                      {
                        "bin_start": 0.4,
                        "bin_end": 0.5,
                        "count": 0
                      },
                      {
                        "bin_start": 0.5,
                        "bin_end": 0.6000000000000001,
                        "count": 0
                      },
                      {
                        "bin_start": 0.6000000000000001,
                        "bin_end": 0.7000000000000001,
                        "count": 0
                      },
                      {
                        "bin_start": 0.7000000000000001,
                        "bin_end": 0.8,
                        "count": 0
                      },
                      {
                        "bin_start": 0.8,
                        "bin_end": 0.9,
                        "count": 0
                      },
                      {
                        "bin_start": 0.9,
                        "bin_end": 1,
                        "count": 0
                      }
                    ]
                  }
                },
                {
                  "name": "Cases_Senegal",
                  "dtype": "float64",
                  "stats": {
                    "unique_count": 0,
                    "nan_count": 5,
                    "min": null,
                    "max": null,
                    "histogram": [
                      {
                        "bin_start": 0,
                        "bin_end": 0.1,
                        "count": 0
                      },
                      {
                        "bin_start": 0.1,
                        "bin_end": 0.2,
                        "count": 0
                      },
                      {
                        "bin_start": 0.2,
                        "bin_end": 0.30000000000000004,
                        "count": 0
                      },
                      {
                        "bin_start": 0.30000000000000004,
                        "bin_end": 0.4,
                        "count": 0
                      },
                      {
                        "bin_start": 0.4,
                        "bin_end": 0.5,
                        "count": 0
                      },
                      {
                        "bin_start": 0.5,
                        "bin_end": 0.6000000000000001,
                        "count": 0
                      },
                      {
                        "bin_start": 0.6000000000000001,
                        "bin_end": 0.7000000000000001,
                        "count": 0
                      },
                      {
                        "bin_start": 0.7000000000000001,
                        "bin_end": 0.8,
                        "count": 0
                      },
                      {
                        "bin_start": 0.8,
                        "bin_end": 0.9,
                        "count": 0
                      },
                      {
                        "bin_start": 0.9,
                        "bin_end": 1,
                        "count": 0
                      }
                    ]
                  }
                },
                {
                  "name": "Cases_UnitedStates",
                  "dtype": "float64",
                  "stats": {
                    "unique_count": 0,
                    "nan_count": 5,
                    "min": null,
                    "max": null,
                    "histogram": [
                      {
                        "bin_start": 0,
                        "bin_end": 0.1,
                        "count": 0
                      },
                      {
                        "bin_start": 0.1,
                        "bin_end": 0.2,
                        "count": 0
                      },
                      {
                        "bin_start": 0.2,
                        "bin_end": 0.30000000000000004,
                        "count": 0
                      },
                      {
                        "bin_start": 0.30000000000000004,
                        "bin_end": 0.4,
                        "count": 0
                      },
                      {
                        "bin_start": 0.4,
                        "bin_end": 0.5,
                        "count": 0
                      },
                      {
                        "bin_start": 0.5,
                        "bin_end": 0.6000000000000001,
                        "count": 0
                      },
                      {
                        "bin_start": 0.6000000000000001,
                        "bin_end": 0.7000000000000001,
                        "count": 0
                      },
                      {
                        "bin_start": 0.7000000000000001,
                        "bin_end": 0.8,
                        "count": 0
                      },
                      {
                        "bin_start": 0.8,
                        "bin_end": 0.9,
                        "count": 0
                      },
                      {
                        "bin_start": 0.9,
                        "bin_end": 1,
                        "count": 0
                      }
                    ]
                  }
                },
                {
                  "name": "Cases_Spain",
                  "dtype": "float64",
                  "stats": {
                    "unique_count": 0,
                    "nan_count": 5,
                    "min": null,
                    "max": null,
                    "histogram": [
                      {
                        "bin_start": 0,
                        "bin_end": 0.1,
                        "count": 0
                      },
                      {
                        "bin_start": 0.1,
                        "bin_end": 0.2,
                        "count": 0
                      },
                      {
                        "bin_start": 0.2,
                        "bin_end": 0.30000000000000004,
                        "count": 0
                      },
                      {
                        "bin_start": 0.30000000000000004,
                        "bin_end": 0.4,
                        "count": 0
                      },
                      {
                        "bin_start": 0.4,
                        "bin_end": 0.5,
                        "count": 0
                      },
                      {
                        "bin_start": 0.5,
                        "bin_end": 0.6000000000000001,
                        "count": 0
                      },
                      {
                        "bin_start": 0.6000000000000001,
                        "bin_end": 0.7000000000000001,
                        "count": 0
                      },
                      {
                        "bin_start": 0.7000000000000001,
                        "bin_end": 0.8,
                        "count": 0
                      },
                      {
                        "bin_start": 0.8,
                        "bin_end": 0.9,
                        "count": 0
                      },
                      {
                        "bin_start": 0.9,
                        "bin_end": 1,
                        "count": 0
                      }
                    ]
                  }
                },
                {
                  "name": "Cases_Mali",
                  "dtype": "float64",
                  "stats": {
                    "unique_count": 0,
                    "nan_count": 5,
                    "min": null,
                    "max": null,
                    "histogram": [
                      {
                        "bin_start": 0,
                        "bin_end": 0.1,
                        "count": 0
                      },
                      {
                        "bin_start": 0.1,
                        "bin_end": 0.2,
                        "count": 0
                      },
                      {
                        "bin_start": 0.2,
                        "bin_end": 0.30000000000000004,
                        "count": 0
                      },
                      {
                        "bin_start": 0.30000000000000004,
                        "bin_end": 0.4,
                        "count": 0
                      },
                      {
                        "bin_start": 0.4,
                        "bin_end": 0.5,
                        "count": 0
                      },
                      {
                        "bin_start": 0.5,
                        "bin_end": 0.6000000000000001,
                        "count": 0
                      },
                      {
                        "bin_start": 0.6000000000000001,
                        "bin_end": 0.7000000000000001,
                        "count": 0
                      },
                      {
                        "bin_start": 0.7000000000000001,
                        "bin_end": 0.8,
                        "count": 0
                      },
                      {
                        "bin_start": 0.8,
                        "bin_end": 0.9,
                        "count": 0
                      },
                      {
                        "bin_start": 0.9,
                        "bin_end": 1,
                        "count": 0
                      }
                    ]
                  }
                },
                {
                  "name": "Deaths_Guinea",
                  "dtype": "float64",
                  "stats": {
                    "unique_count": 4,
                    "nan_count": 1,
                    "min": "1739.0",
                    "max": "1786.0",
                    "histogram": [
                      {
                        "bin_start": 1739,
                        "bin_end": 1743.7,
                        "count": 1
                      },
                      {
                        "bin_start": 1743.7,
                        "bin_end": 1748.4,
                        "count": 0
                      },
                      {
                        "bin_start": 1748.4,
                        "bin_end": 1753.1,
                        "count": 0
                      },
                      {
                        "bin_start": 1753.1,
                        "bin_end": 1757.8,
                        "count": 0
                      },
                      {
                        "bin_start": 1757.8,
                        "bin_end": 1762.5,
                        "count": 0
                      },
                      {
                        "bin_start": 1762.5,
                        "bin_end": 1767.2,
                        "count": 1
                      },
                      {
                        "bin_start": 1767.2,
                        "bin_end": 1771.9,
                        "count": 0
                      },
                      {
                        "bin_start": 1771.9,
                        "bin_end": 1776.6,
                        "count": 0
                      },
                      {
                        "bin_start": 1776.6,
                        "bin_end": 1781.3,
                        "count": 1
                      },
                      {
                        "bin_start": 1781.3,
                        "bin_end": 1786,
                        "count": 1
                      }
                    ]
                  }
                },
                {
                  "name": "Deaths_Liberia",
                  "dtype": "float64",
                  "stats": {
                    "unique_count": 2,
                    "nan_count": 2,
                    "min": "3471.0",
                    "max": "3496.0",
                    "histogram": [
                      {
                        "bin_start": 3471,
                        "bin_end": 3473.5,
                        "count": 1
                      },
                      {
                        "bin_start": 3473.5,
                        "bin_end": 3476,
                        "count": 0
                      },
                      {
                        "bin_start": 3476,
                        "bin_end": 3478.5,
                        "count": 0
                      },
                      {
                        "bin_start": 3478.5,
                        "bin_end": 3481,
                        "count": 0
                      },
                      {
                        "bin_start": 3481,
                        "bin_end": 3483.5,
                        "count": 0
                      },
                      {
                        "bin_start": 3483.5,
                        "bin_end": 3486,
                        "count": 0
                      },
                      {
                        "bin_start": 3486,
                        "bin_end": 3488.5,
                        "count": 0
                      },
                      {
                        "bin_start": 3488.5,
                        "bin_end": 3491,
                        "count": 0
                      },
                      {
                        "bin_start": 3491,
                        "bin_end": 3493.5,
                        "count": 0
                      },
                      {
                        "bin_start": 3493.5,
                        "bin_end": 3496,
                        "count": 2
                      }
                    ]
                  }
                },
                {
                  "name": "Deaths_SierraLeone",
                  "dtype": "float64",
                  "stats": {
                    "unique_count": 4,
                    "nan_count": 1,
                    "min": "2827.0",
                    "max": "2977.0",
                    "histogram": [
                      {
                        "bin_start": 2827,
                        "bin_end": 2842,
                        "count": 1
                      },
                      {
                        "bin_start": 2842,
                        "bin_end": 2857,
                        "count": 0
                      },
                      {
                        "bin_start": 2857,
                        "bin_end": 2872,
                        "count": 0
                      },
                      {
                        "bin_start": 2872,
                        "bin_end": 2887,
                        "count": 0
                      },
                      {
                        "bin_start": 2887,
                        "bin_end": 2902,
                        "count": 0
                      },
                      {
                        "bin_start": 2902,
                        "bin_end": 2917,
                        "count": 1
                      },
                      {
                        "bin_start": 2917,
                        "bin_end": 2932,
                        "count": 0
                      },
                      {
                        "bin_start": 2932,
                        "bin_end": 2947,
                        "count": 1
                      },
                      {
                        "bin_start": 2947,
                        "bin_end": 2962,
                        "count": 0
                      },
                      {
                        "bin_start": 2962,
                        "bin_end": 2977,
                        "count": 1
                      }
                    ]
                  }
                },
                {
                  "name": "Deaths_Nigeria",
                  "dtype": "float64",
                  "stats": {
                    "unique_count": 0,
                    "nan_count": 5,
                    "min": null,
                    "max": null,
                    "histogram": [
                      {
                        "bin_start": 0,
                        "bin_end": 0.1,
                        "count": 0
                      },
                      {
                        "bin_start": 0.1,
                        "bin_end": 0.2,
                        "count": 0
                      },
                      {
                        "bin_start": 0.2,
                        "bin_end": 0.30000000000000004,
                        "count": 0
                      },
                      {
                        "bin_start": 0.30000000000000004,
                        "bin_end": 0.4,
                        "count": 0
                      },
                      {
                        "bin_start": 0.4,
                        "bin_end": 0.5,
                        "count": 0
                      },
                      {
                        "bin_start": 0.5,
                        "bin_end": 0.6000000000000001,
                        "count": 0
                      },
                      {
                        "bin_start": 0.6000000000000001,
                        "bin_end": 0.7000000000000001,
                        "count": 0
                      },
                      {
                        "bin_start": 0.7000000000000001,
                        "bin_end": 0.8,
                        "count": 0
                      },
                      {
                        "bin_start": 0.8,
                        "bin_end": 0.9,
                        "count": 0
                      },
                      {
                        "bin_start": 0.9,
                        "bin_end": 1,
                        "count": 0
                      }
                    ]
                  }
                },
                {
                  "name": "Deaths_Senegal",
                  "dtype": "float64",
                  "stats": {
                    "unique_count": 0,
                    "nan_count": 5,
                    "min": null,
                    "max": null,
                    "histogram": [
                      {
                        "bin_start": 0,
                        "bin_end": 0.1,
                        "count": 0
                      },
                      {
                        "bin_start": 0.1,
                        "bin_end": 0.2,
                        "count": 0
                      },
                      {
                        "bin_start": 0.2,
                        "bin_end": 0.30000000000000004,
                        "count": 0
                      },
                      {
                        "bin_start": 0.30000000000000004,
                        "bin_end": 0.4,
                        "count": 0
                      },
                      {
                        "bin_start": 0.4,
                        "bin_end": 0.5,
                        "count": 0
                      },
                      {
                        "bin_start": 0.5,
                        "bin_end": 0.6000000000000001,
                        "count": 0
                      },
                      {
                        "bin_start": 0.6000000000000001,
                        "bin_end": 0.7000000000000001,
                        "count": 0
                      },
                      {
                        "bin_start": 0.7000000000000001,
                        "bin_end": 0.8,
                        "count": 0
                      },
                      {
                        "bin_start": 0.8,
                        "bin_end": 0.9,
                        "count": 0
                      },
                      {
                        "bin_start": 0.9,
                        "bin_end": 1,
                        "count": 0
                      }
                    ]
                  }
                },
                {
                  "name": "Deaths_UnitedStates",
                  "dtype": "float64",
                  "stats": {
                    "unique_count": 0,
                    "nan_count": 5,
                    "min": null,
                    "max": null,
                    "histogram": [
                      {
                        "bin_start": 0,
                        "bin_end": 0.1,
                        "count": 0
                      },
                      {
                        "bin_start": 0.1,
                        "bin_end": 0.2,
                        "count": 0
                      },
                      {
                        "bin_start": 0.2,
                        "bin_end": 0.30000000000000004,
                        "count": 0
                      },
                      {
                        "bin_start": 0.30000000000000004,
                        "bin_end": 0.4,
                        "count": 0
                      },
                      {
                        "bin_start": 0.4,
                        "bin_end": 0.5,
                        "count": 0
                      },
                      {
                        "bin_start": 0.5,
                        "bin_end": 0.6000000000000001,
                        "count": 0
                      },
                      {
                        "bin_start": 0.6000000000000001,
                        "bin_end": 0.7000000000000001,
                        "count": 0
                      },
                      {
                        "bin_start": 0.7000000000000001,
                        "bin_end": 0.8,
                        "count": 0
                      },
                      {
                        "bin_start": 0.8,
                        "bin_end": 0.9,
                        "count": 0
                      },
                      {
                        "bin_start": 0.9,
                        "bin_end": 1,
                        "count": 0
                      }
                    ]
                  }
                },
                {
                  "name": "Deaths_Spain",
                  "dtype": "float64",
                  "stats": {
                    "unique_count": 0,
                    "nan_count": 5,
                    "min": null,
                    "max": null,
                    "histogram": [
                      {
                        "bin_start": 0,
                        "bin_end": 0.1,
                        "count": 0
                      },
                      {
                        "bin_start": 0.1,
                        "bin_end": 0.2,
                        "count": 0
                      },
                      {
                        "bin_start": 0.2,
                        "bin_end": 0.30000000000000004,
                        "count": 0
                      },
                      {
                        "bin_start": 0.30000000000000004,
                        "bin_end": 0.4,
                        "count": 0
                      },
                      {
                        "bin_start": 0.4,
                        "bin_end": 0.5,
                        "count": 0
                      },
                      {
                        "bin_start": 0.5,
                        "bin_end": 0.6000000000000001,
                        "count": 0
                      },
                      {
                        "bin_start": 0.6000000000000001,
                        "bin_end": 0.7000000000000001,
                        "count": 0
                      },
                      {
                        "bin_start": 0.7000000000000001,
                        "bin_end": 0.8,
                        "count": 0
                      },
                      {
                        "bin_start": 0.8,
                        "bin_end": 0.9,
                        "count": 0
                      },
                      {
                        "bin_start": 0.9,
                        "bin_end": 1,
                        "count": 0
                      }
                    ]
                  }
                },
                {
                  "name": "Deaths_Mali",
                  "dtype": "float64",
                  "stats": {
                    "unique_count": 0,
                    "nan_count": 5,
                    "min": null,
                    "max": null,
                    "histogram": [
                      {
                        "bin_start": 0,
                        "bin_end": 0.1,
                        "count": 0
                      },
                      {
                        "bin_start": 0.1,
                        "bin_end": 0.2,
                        "count": 0
                      },
                      {
                        "bin_start": 0.2,
                        "bin_end": 0.30000000000000004,
                        "count": 0
                      },
                      {
                        "bin_start": 0.30000000000000004,
                        "bin_end": 0.4,
                        "count": 0
                      },
                      {
                        "bin_start": 0.4,
                        "bin_end": 0.5,
                        "count": 0
                      },
                      {
                        "bin_start": 0.5,
                        "bin_end": 0.6000000000000001,
                        "count": 0
                      },
                      {
                        "bin_start": 0.6000000000000001,
                        "bin_end": 0.7000000000000001,
                        "count": 0
                      },
                      {
                        "bin_start": 0.7000000000000001,
                        "bin_end": 0.8,
                        "count": 0
                      },
                      {
                        "bin_start": 0.8,
                        "bin_end": 0.9,
                        "count": 0
                      },
                      {
                        "bin_start": 0.9,
                        "bin_end": 1,
                        "count": 0
                      }
                    ]
                  }
                },
                {
                  "name": "_deepnote_index_column",
                  "dtype": "int64"
                }
              ],
              "rows_top": [
                {
                  "Date": "1/5/2015",
                  "Day": 289,
                  "Cases_Guinea": "2776.0",
                  "Cases_Liberia": "nan",
                  "Cases_SierraLeone": "10030.0",
                  "Cases_Nigeria": "nan",
                  "Cases_Senegal": "nan",
                  "Cases_UnitedStates": "nan",
                  "Cases_Spain": "nan",
                  "Cases_Mali": "nan",
                  "Deaths_Guinea": "1786.0",
                  "Deaths_Liberia": "nan",
                  "Deaths_SierraLeone": "2977.0",
                  "Deaths_Nigeria": "nan",
                  "Deaths_Senegal": "nan",
                  "Deaths_UnitedStates": "nan",
                  "Deaths_Spain": "nan",
                  "Deaths_Mali": "nan",
                  "_deepnote_index_column": 0
                },
                {
                  "Date": "1/4/2015",
                  "Day": 288,
                  "Cases_Guinea": "2775.0",
                  "Cases_Liberia": "nan",
                  "Cases_SierraLeone": "9780.0",
                  "Cases_Nigeria": "nan",
                  "Cases_Senegal": "nan",
                  "Cases_UnitedStates": "nan",
                  "Cases_Spain": "nan",
                  "Cases_Mali": "nan",
                  "Deaths_Guinea": "1781.0",
                  "Deaths_Liberia": "nan",
                  "Deaths_SierraLeone": "2943.0",
                  "Deaths_Nigeria": "nan",
                  "Deaths_Senegal": "nan",
                  "Deaths_UnitedStates": "nan",
                  "Deaths_Spain": "nan",
                  "Deaths_Mali": "nan",
                  "_deepnote_index_column": 1
                },
                {
                  "Date": "1/3/2015",
                  "Day": 287,
                  "Cases_Guinea": "2769.0",
                  "Cases_Liberia": "8166.0",
                  "Cases_SierraLeone": "9722.0",
                  "Cases_Nigeria": "nan",
                  "Cases_Senegal": "nan",
                  "Cases_UnitedStates": "nan",
                  "Cases_Spain": "nan",
                  "Cases_Mali": "nan",
                  "Deaths_Guinea": "1767.0",
                  "Deaths_Liberia": "3496.0",
                  "Deaths_SierraLeone": "2915.0",
                  "Deaths_Nigeria": "nan",
                  "Deaths_Senegal": "nan",
                  "Deaths_UnitedStates": "nan",
                  "Deaths_Spain": "nan",
                  "Deaths_Mali": "nan",
                  "_deepnote_index_column": 2
                },
                {
                  "Date": "1/2/2015",
                  "Day": 286,
                  "Cases_Guinea": "nan",
                  "Cases_Liberia": "8157.0",
                  "Cases_SierraLeone": "nan",
                  "Cases_Nigeria": "nan",
                  "Cases_Senegal": "nan",
                  "Cases_UnitedStates": "nan",
                  "Cases_Spain": "nan",
                  "Cases_Mali": "nan",
                  "Deaths_Guinea": "nan",
                  "Deaths_Liberia": "3496.0",
                  "Deaths_SierraLeone": "nan",
                  "Deaths_Nigeria": "nan",
                  "Deaths_Senegal": "nan",
                  "Deaths_UnitedStates": "nan",
                  "Deaths_Spain": "nan",
                  "Deaths_Mali": "nan",
                  "_deepnote_index_column": 3
                },
                {
                  "Date": "12/31/2014",
                  "Day": 284,
                  "Cases_Guinea": "2730.0",
                  "Cases_Liberia": "8115.0",
                  "Cases_SierraLeone": "9633.0",
                  "Cases_Nigeria": "nan",
                  "Cases_Senegal": "nan",
                  "Cases_UnitedStates": "nan",
                  "Cases_Spain": "nan",
                  "Cases_Mali": "nan",
                  "Deaths_Guinea": "1739.0",
                  "Deaths_Liberia": "3471.0",
                  "Deaths_SierraLeone": "2827.0",
                  "Deaths_Nigeria": "nan",
                  "Deaths_Senegal": "nan",
                  "Deaths_UnitedStates": "nan",
                  "Deaths_Spain": "nan",
                  "Deaths_Mali": "nan",
                  "_deepnote_index_column": 4
                }
              ],
              "rows_bottom": null
            },
            "text/plain": "         Date  Day  Cases_Guinea  Cases_Liberia  Cases_SierraLeone  \\\n0    1/5/2015  289        2776.0            NaN            10030.0   \n1    1/4/2015  288        2775.0            NaN             9780.0   \n2    1/3/2015  287        2769.0         8166.0             9722.0   \n3    1/2/2015  286           NaN         8157.0                NaN   \n4  12/31/2014  284        2730.0         8115.0             9633.0   \n\n   Cases_Nigeria  Cases_Senegal  Cases_UnitedStates  Cases_Spain  Cases_Mali  \\\n0            NaN            NaN                 NaN          NaN         NaN   \n1            NaN            NaN                 NaN          NaN         NaN   \n2            NaN            NaN                 NaN          NaN         NaN   \n3            NaN            NaN                 NaN          NaN         NaN   \n4            NaN            NaN                 NaN          NaN         NaN   \n\n   Deaths_Guinea  Deaths_Liberia  Deaths_SierraLeone  Deaths_Nigeria  \\\n0         1786.0             NaN              2977.0             NaN   \n1         1781.0             NaN              2943.0             NaN   \n2         1767.0          3496.0              2915.0             NaN   \n3            NaN          3496.0                 NaN             NaN   \n4         1739.0          3471.0              2827.0             NaN   \n\n   Deaths_Senegal  Deaths_UnitedStates  Deaths_Spain  Deaths_Mali  \n0             NaN                  NaN           NaN          NaN  \n1             NaN                  NaN           NaN          NaN  \n2             NaN                  NaN           NaN          NaN  \n3             NaN                  NaN           NaN          NaN  \n4             NaN                  NaN           NaN          NaN  ",
            "text/html": "<div>\n<style scoped>\n    .dataframe tbody tr th:only-of-type {\n        vertical-align: middle;\n    }\n\n    .dataframe tbody tr th {\n        vertical-align: top;\n    }\n\n    .dataframe thead th {\n        text-align: right;\n    }\n</style>\n<table border=\"1\" class=\"dataframe\">\n  <thead>\n    <tr style=\"text-align: right;\">\n      <th></th>\n      <th>Date</th>\n      <th>Day</th>\n      <th>Cases_Guinea</th>\n      <th>Cases_Liberia</th>\n      <th>Cases_SierraLeone</th>\n      <th>Cases_Nigeria</th>\n      <th>Cases_Senegal</th>\n      <th>Cases_UnitedStates</th>\n      <th>Cases_Spain</th>\n      <th>Cases_Mali</th>\n      <th>Deaths_Guinea</th>\n      <th>Deaths_Liberia</th>\n      <th>Deaths_SierraLeone</th>\n      <th>Deaths_Nigeria</th>\n      <th>Deaths_Senegal</th>\n      <th>Deaths_UnitedStates</th>\n      <th>Deaths_Spain</th>\n      <th>Deaths_Mali</th>\n    </tr>\n  </thead>\n  <tbody>\n    <tr>\n      <th>0</th>\n      <td>1/5/2015</td>\n      <td>289</td>\n      <td>2776.0</td>\n      <td>NaN</td>\n      <td>10030.0</td>\n      <td>NaN</td>\n      <td>NaN</td>\n      <td>NaN</td>\n      <td>NaN</td>\n      <td>NaN</td>\n      <td>1786.0</td>\n      <td>NaN</td>\n      <td>2977.0</td>\n      <td>NaN</td>\n      <td>NaN</td>\n      <td>NaN</td>\n      <td>NaN</td>\n      <td>NaN</td>\n    </tr>\n    <tr>\n      <th>1</th>\n      <td>1/4/2015</td>\n      <td>288</td>\n      <td>2775.0</td>\n      <td>NaN</td>\n      <td>9780.0</td>\n      <td>NaN</td>\n      <td>NaN</td>\n      <td>NaN</td>\n      <td>NaN</td>\n      <td>NaN</td>\n      <td>1781.0</td>\n      <td>NaN</td>\n      <td>2943.0</td>\n      <td>NaN</td>\n      <td>NaN</td>\n      <td>NaN</td>\n      <td>NaN</td>\n      <td>NaN</td>\n    </tr>\n    <tr>\n      <th>2</th>\n      <td>1/3/2015</td>\n      <td>287</td>\n      <td>2769.0</td>\n      <td>8166.0</td>\n      <td>9722.0</td>\n      <td>NaN</td>\n      <td>NaN</td>\n      <td>NaN</td>\n      <td>NaN</td>\n      <td>NaN</td>\n      <td>1767.0</td>\n      <td>3496.0</td>\n      <td>2915.0</td>\n      <td>NaN</td>\n      <td>NaN</td>\n      <td>NaN</td>\n      <td>NaN</td>\n      <td>NaN</td>\n    </tr>\n    <tr>\n      <th>3</th>\n      <td>1/2/2015</td>\n      <td>286</td>\n      <td>NaN</td>\n      <td>8157.0</td>\n      <td>NaN</td>\n      <td>NaN</td>\n      <td>NaN</td>\n      <td>NaN</td>\n      <td>NaN</td>\n      <td>NaN</td>\n      <td>NaN</td>\n      <td>3496.0</td>\n      <td>NaN</td>\n      <td>NaN</td>\n      <td>NaN</td>\n      <td>NaN</td>\n      <td>NaN</td>\n      <td>NaN</td>\n    </tr>\n    <tr>\n      <th>4</th>\n      <td>12/31/2014</td>\n      <td>284</td>\n      <td>2730.0</td>\n      <td>8115.0</td>\n      <td>9633.0</td>\n      <td>NaN</td>\n      <td>NaN</td>\n      <td>NaN</td>\n      <td>NaN</td>\n      <td>NaN</td>\n      <td>1739.0</td>\n      <td>3471.0</td>\n      <td>2827.0</td>\n      <td>NaN</td>\n      <td>NaN</td>\n      <td>NaN</td>\n      <td>NaN</td>\n      <td>NaN</td>\n    </tr>\n  </tbody>\n</table>\n</div>"
          },
          "metadata": {}
        }
      ],
      "execution_count": 38
    },
    {
      "cell_type": "code",
      "source": "ebola_long = pd.melt(ebola, id_vars=['Date','Day'])",
      "metadata": {
        "tags": [],
        "cell_id": "00041-07df1ad7-ef07-45a9-b2ee-a2a27aecbdd6",
        "deepnote_to_be_reexecuted": false,
        "source_hash": "dd078b1a",
        "execution_start": 1620248784207,
        "execution_millis": 1,
        "deepnote_cell_type": "code"
      },
      "outputs": [],
      "execution_count": 39
    },
    {
      "cell_type": "code",
      "source": "ebola_long.head()",
      "metadata": {
        "tags": [],
        "cell_id": "00042-5fd52ba2-801d-4d53-b983-c15590b7d7a6",
        "deepnote_to_be_reexecuted": false,
        "source_hash": "878edeaa",
        "execution_start": 1620248784234,
        "execution_millis": 15,
        "deepnote_cell_type": "code"
      },
      "outputs": [
        {
          "output_type": "execute_result",
          "execution_count": 40,
          "data": {
            "application/vnd.deepnote.dataframe.v2+json": {
              "row_count": 5,
              "column_count": 4,
              "columns": [
                {
                  "name": "Date",
                  "dtype": "object",
                  "stats": {
                    "unique_count": 5,
                    "nan_count": 0,
                    "categories": [
                      {
                        "name": "1/5/2015",
                        "count": 1
                      },
                      {
                        "name": "1/4/2015",
                        "count": 1
                      },
                      {
                        "name": "3 others",
                        "count": 3
                      }
                    ]
                  }
                },
                {
                  "name": "Day",
                  "dtype": "int64",
                  "stats": {
                    "unique_count": 5,
                    "nan_count": 0,
                    "min": "284",
                    "max": "289",
                    "histogram": [
                      {
                        "bin_start": 284,
                        "bin_end": 284.5,
                        "count": 1
                      },
                      {
                        "bin_start": 284.5,
                        "bin_end": 285,
                        "count": 0
                      },
                      {
                        "bin_start": 285,
                        "bin_end": 285.5,
                        "count": 0
                      },
                      {
                        "bin_start": 285.5,
                        "bin_end": 286,
                        "count": 0
                      },
                      {
                        "bin_start": 286,
                        "bin_end": 286.5,
                        "count": 1
                      },
                      {
                        "bin_start": 286.5,
                        "bin_end": 287,
                        "count": 0
                      },
                      {
                        "bin_start": 287,
                        "bin_end": 287.5,
                        "count": 1
                      },
                      {
                        "bin_start": 287.5,
                        "bin_end": 288,
                        "count": 0
                      },
                      {
                        "bin_start": 288,
                        "bin_end": 288.5,
                        "count": 1
                      },
                      {
                        "bin_start": 288.5,
                        "bin_end": 289,
                        "count": 1
                      }
                    ]
                  }
                },
                {
                  "name": "variable",
                  "dtype": "object",
                  "stats": {
                    "unique_count": 1,
                    "nan_count": 0,
                    "categories": [
                      {
                        "name": "Cases_Guinea",
                        "count": 5
                      }
                    ]
                  }
                },
                {
                  "name": "value",
                  "dtype": "float64",
                  "stats": {
                    "unique_count": 4,
                    "nan_count": 1,
                    "min": "2730.0",
                    "max": "2776.0",
                    "histogram": [
                      {
                        "bin_start": 2730,
                        "bin_end": 2734.6,
                        "count": 1
                      },
                      {
                        "bin_start": 2734.6,
                        "bin_end": 2739.2,
                        "count": 0
                      },
                      {
                        "bin_start": 2739.2,
                        "bin_end": 2743.8,
                        "count": 0
                      },
                      {
                        "bin_start": 2743.8,
                        "bin_end": 2748.4,
                        "count": 0
                      },
                      {
                        "bin_start": 2748.4,
                        "bin_end": 2753,
                        "count": 0
                      },
                      {
                        "bin_start": 2753,
                        "bin_end": 2757.6,
                        "count": 0
                      },
                      {
                        "bin_start": 2757.6,
                        "bin_end": 2762.2,
                        "count": 0
                      },
                      {
                        "bin_start": 2762.2,
                        "bin_end": 2766.8,
                        "count": 0
                      },
                      {
                        "bin_start": 2766.8,
                        "bin_end": 2771.4,
                        "count": 1
                      },
                      {
                        "bin_start": 2771.4,
                        "bin_end": 2776,
                        "count": 2
                      }
                    ]
                  }
                },
                {
                  "name": "_deepnote_index_column",
                  "dtype": "int64"
                }
              ],
              "rows_top": [
                {
                  "Date": "1/5/2015",
                  "Day": 289,
                  "variable": "Cases_Guinea",
                  "value": "2776.0",
                  "_deepnote_index_column": 0
                },
                {
                  "Date": "1/4/2015",
                  "Day": 288,
                  "variable": "Cases_Guinea",
                  "value": "2775.0",
                  "_deepnote_index_column": 1
                },
                {
                  "Date": "1/3/2015",
                  "Day": 287,
                  "variable": "Cases_Guinea",
                  "value": "2769.0",
                  "_deepnote_index_column": 2
                },
                {
                  "Date": "1/2/2015",
                  "Day": 286,
                  "variable": "Cases_Guinea",
                  "value": "nan",
                  "_deepnote_index_column": 3
                },
                {
                  "Date": "12/31/2014",
                  "Day": 284,
                  "variable": "Cases_Guinea",
                  "value": "2730.0",
                  "_deepnote_index_column": 4
                }
              ],
              "rows_bottom": null
            },
            "text/plain": "         Date  Day      variable   value\n0    1/5/2015  289  Cases_Guinea  2776.0\n1    1/4/2015  288  Cases_Guinea  2775.0\n2    1/3/2015  287  Cases_Guinea  2769.0\n3    1/2/2015  286  Cases_Guinea     NaN\n4  12/31/2014  284  Cases_Guinea  2730.0",
            "text/html": "<div>\n<style scoped>\n    .dataframe tbody tr th:only-of-type {\n        vertical-align: middle;\n    }\n\n    .dataframe tbody tr th {\n        vertical-align: top;\n    }\n\n    .dataframe thead th {\n        text-align: right;\n    }\n</style>\n<table border=\"1\" class=\"dataframe\">\n  <thead>\n    <tr style=\"text-align: right;\">\n      <th></th>\n      <th>Date</th>\n      <th>Day</th>\n      <th>variable</th>\n      <th>value</th>\n    </tr>\n  </thead>\n  <tbody>\n    <tr>\n      <th>0</th>\n      <td>1/5/2015</td>\n      <td>289</td>\n      <td>Cases_Guinea</td>\n      <td>2776.0</td>\n    </tr>\n    <tr>\n      <th>1</th>\n      <td>1/4/2015</td>\n      <td>288</td>\n      <td>Cases_Guinea</td>\n      <td>2775.0</td>\n    </tr>\n    <tr>\n      <th>2</th>\n      <td>1/3/2015</td>\n      <td>287</td>\n      <td>Cases_Guinea</td>\n      <td>2769.0</td>\n    </tr>\n    <tr>\n      <th>3</th>\n      <td>1/2/2015</td>\n      <td>286</td>\n      <td>Cases_Guinea</td>\n      <td>NaN</td>\n    </tr>\n    <tr>\n      <th>4</th>\n      <td>12/31/2014</td>\n      <td>284</td>\n      <td>Cases_Guinea</td>\n      <td>2730.0</td>\n    </tr>\n  </tbody>\n</table>\n</div>"
          },
          "metadata": {}
        }
      ],
      "execution_count": 40
    },
    {
      "cell_type": "code",
      "source": "'Cases_Guinea'.split('_')",
      "metadata": {
        "tags": [],
        "cell_id": "00043-9a3f542a-633d-41c6-806b-859a14c8dbba",
        "deepnote_to_be_reexecuted": false,
        "source_hash": "7679c64b",
        "execution_start": 1620248784235,
        "execution_millis": 14,
        "deepnote_cell_type": "code"
      },
      "outputs": [
        {
          "output_type": "execute_result",
          "execution_count": 41,
          "data": {
            "text/plain": "['Cases', 'Guinea']"
          },
          "metadata": {}
        }
      ],
      "execution_count": 41
    },
    {
      "cell_type": "code",
      "source": "variable_split = ebola_long['variable'].str.split('_') #treat as string",
      "metadata": {
        "tags": [],
        "cell_id": "00044-b84e2e33-0bc8-497d-af4d-b04bd3c5bf9c",
        "deepnote_to_be_reexecuted": false,
        "source_hash": "c9cc76ea",
        "execution_start": 1620248784239,
        "execution_millis": 3,
        "deepnote_cell_type": "code"
      },
      "outputs": [],
      "execution_count": 42
    },
    {
      "cell_type": "code",
      "source": "variable_split",
      "metadata": {
        "tags": [],
        "cell_id": "00045-74f3de9f-c88a-4f25-b2d4-6dffba04c416",
        "deepnote_to_be_reexecuted": false,
        "source_hash": "5b80e257",
        "execution_start": 1620248784244,
        "execution_millis": 27,
        "deepnote_cell_type": "code"
      },
      "outputs": [
        {
          "output_type": "execute_result",
          "execution_count": 43,
          "data": {
            "text/plain": "0       [Cases, Guinea]\n1       [Cases, Guinea]\n2       [Cases, Guinea]\n3       [Cases, Guinea]\n4       [Cases, Guinea]\n             ...       \n1947     [Deaths, Mali]\n1948     [Deaths, Mali]\n1949     [Deaths, Mali]\n1950     [Deaths, Mali]\n1951     [Deaths, Mali]\nName: variable, Length: 1952, dtype: object"
          },
          "metadata": {}
        }
      ],
      "execution_count": 43
    },
    {
      "cell_type": "code",
      "source": "type(variable_split)",
      "metadata": {
        "tags": [],
        "cell_id": "00046-0e5cb77d-62b0-43bc-aa8f-e9ddb6454a52",
        "deepnote_to_be_reexecuted": false,
        "source_hash": "6917a254",
        "execution_start": 1620248784291,
        "execution_millis": 27,
        "deepnote_cell_type": "code"
      },
      "outputs": [
        {
          "output_type": "execute_result",
          "execution_count": 44,
          "data": {
            "text/plain": "pandas.core.series.Series"
          },
          "metadata": {}
        }
      ],
      "execution_count": 44
    },
    {
      "cell_type": "code",
      "source": "variable_split[0]",
      "metadata": {
        "tags": [],
        "cell_id": "00047-ee04b1a3-0f29-4d80-a9c7-852a3b65bd7a",
        "deepnote_to_be_reexecuted": false,
        "source_hash": "a9bbdadc",
        "execution_start": 1620248784293,
        "execution_millis": 25,
        "deepnote_cell_type": "code"
      },
      "outputs": [
        {
          "output_type": "execute_result",
          "execution_count": 45,
          "data": {
            "text/plain": "['Cases', 'Guinea']"
          },
          "metadata": {}
        }
      ],
      "execution_count": 45
    },
    {
      "cell_type": "code",
      "source": "type(variable_split[0])",
      "metadata": {
        "tags": [],
        "cell_id": "00048-28d7ee22-21ac-4ab0-b9e4-a1d96dad86df",
        "deepnote_to_be_reexecuted": false,
        "source_hash": "51442d3b",
        "execution_start": 1620248784293,
        "execution_millis": 26,
        "deepnote_cell_type": "code"
      },
      "outputs": [
        {
          "output_type": "execute_result",
          "execution_count": 46,
          "data": {
            "text/plain": "list"
          },
          "metadata": {}
        }
      ],
      "execution_count": 46
    },
    {
      "cell_type": "code",
      "source": "variable_split[0][0]",
      "metadata": {
        "tags": [],
        "cell_id": "00049-4bb545b3-1cc3-496c-8440-557515605d3b",
        "deepnote_to_be_reexecuted": false,
        "source_hash": "692ffd8b",
        "execution_start": 1620248784296,
        "execution_millis": 23,
        "deepnote_cell_type": "code"
      },
      "outputs": [
        {
          "output_type": "execute_result",
          "execution_count": 47,
          "data": {
            "text/plain": "'Cases'"
          },
          "metadata": {}
        }
      ],
      "execution_count": 47
    },
    {
      "cell_type": "code",
      "source": "type(variable_split[0][0])",
      "metadata": {
        "tags": [],
        "cell_id": "00049-0fc430d5-0877-4d63-9bdd-3340b1e3e928",
        "deepnote_to_be_reexecuted": false,
        "source_hash": "9c954b71",
        "execution_start": 1620248784301,
        "execution_millis": 18,
        "deepnote_cell_type": "code"
      },
      "outputs": [
        {
          "output_type": "execute_result",
          "execution_count": 48,
          "data": {
            "text/plain": "str"
          },
          "metadata": {}
        }
      ],
      "execution_count": 48
    },
    {
      "cell_type": "code",
      "source": "variable_split.str.get(0) #str is an accessor",
      "metadata": {
        "tags": [],
        "cell_id": "00051-9809bd05-a91b-4c37-940f-32e6d98d22b4",
        "deepnote_to_be_reexecuted": false,
        "source_hash": "a7f138c9",
        "execution_start": 1620248784310,
        "execution_millis": 17,
        "deepnote_cell_type": "code"
      },
      "outputs": [
        {
          "output_type": "execute_result",
          "execution_count": 49,
          "data": {
            "text/plain": "0        Cases\n1        Cases\n2        Cases\n3        Cases\n4        Cases\n         ...  \n1947    Deaths\n1948    Deaths\n1949    Deaths\n1950    Deaths\n1951    Deaths\nName: variable, Length: 1952, dtype: object"
          },
          "metadata": {}
        }
      ],
      "execution_count": 49
    },
    {
      "cell_type": "code",
      "source": "variable_split.str.get(1)",
      "metadata": {
        "tags": [],
        "cell_id": "00052-7ba68e2a-030f-44ba-9715-deb170257b3f",
        "deepnote_to_be_reexecuted": false,
        "source_hash": "d523ba74",
        "execution_start": 1620248784320,
        "execution_millis": 22,
        "deepnote_cell_type": "code"
      },
      "outputs": [
        {
          "output_type": "execute_result",
          "execution_count": 50,
          "data": {
            "text/plain": "0       Guinea\n1       Guinea\n2       Guinea\n3       Guinea\n4       Guinea\n         ...  \n1947      Mali\n1948      Mali\n1949      Mali\n1950      Mali\n1951      Mali\nName: variable, Length: 1952, dtype: object"
          },
          "metadata": {}
        }
      ],
      "execution_count": 50
    },
    {
      "cell_type": "code",
      "source": "ebola_long['stats'] = variable_split.str.get(0)\nebola_long['country'] = variable_split.str.get(1)",
      "metadata": {
        "tags": [],
        "cell_id": "00053-395a8dfa-5c86-4dd2-807d-ede45425ed0e",
        "deepnote_to_be_reexecuted": false,
        "source_hash": "c1020b14",
        "execution_start": 1620248784328,
        "execution_millis": 2,
        "deepnote_cell_type": "code"
      },
      "outputs": [],
      "execution_count": 51
    },
    {
      "cell_type": "code",
      "source": "ebola_long.head()",
      "metadata": {
        "tags": [],
        "cell_id": "00054-e4d7a2f7-3cc7-41f5-90f1-b9e1dc577c04",
        "deepnote_to_be_reexecuted": false,
        "source_hash": "878edeaa",
        "execution_start": 1620248784337,
        "execution_millis": 41,
        "deepnote_cell_type": "code"
      },
      "outputs": [
        {
          "output_type": "execute_result",
          "execution_count": 52,
          "data": {
            "application/vnd.deepnote.dataframe.v2+json": {
              "row_count": 5,
              "column_count": 6,
              "columns": [
                {
                  "name": "Date",
                  "dtype": "object",
                  "stats": {
                    "unique_count": 5,
                    "nan_count": 0,
                    "categories": [
                      {
                        "name": "1/5/2015",
                        "count": 1
                      },
                      {
                        "name": "1/4/2015",
                        "count": 1
                      },
                      {
                        "name": "3 others",
                        "count": 3
                      }
                    ]
                  }
                },
                {
                  "name": "Day",
                  "dtype": "int64",
                  "stats": {
                    "unique_count": 5,
                    "nan_count": 0,
                    "min": "284",
                    "max": "289",
                    "histogram": [
                      {
                        "bin_start": 284,
                        "bin_end": 284.5,
                        "count": 1
                      },
                      {
                        "bin_start": 284.5,
                        "bin_end": 285,
                        "count": 0
                      },
                      {
                        "bin_start": 285,
                        "bin_end": 285.5,
                        "count": 0
                      },
                      {
                        "bin_start": 285.5,
                        "bin_end": 286,
                        "count": 0
                      },
                      {
                        "bin_start": 286,
                        "bin_end": 286.5,
                        "count": 1
                      },
                      {
                        "bin_start": 286.5,
                        "bin_end": 287,
                        "count": 0
                      },
                      {
                        "bin_start": 287,
                        "bin_end": 287.5,
                        "count": 1
                      },
                      {
                        "bin_start": 287.5,
                        "bin_end": 288,
                        "count": 0
                      },
                      {
                        "bin_start": 288,
                        "bin_end": 288.5,
                        "count": 1
                      },
                      {
                        "bin_start": 288.5,
                        "bin_end": 289,
                        "count": 1
                      }
                    ]
                  }
                },
                {
                  "name": "variable",
                  "dtype": "object",
                  "stats": {
                    "unique_count": 1,
                    "nan_count": 0,
                    "categories": [
                      {
                        "name": "Cases_Guinea",
                        "count": 5
                      }
                    ]
                  }
                },
                {
                  "name": "value",
                  "dtype": "float64",
                  "stats": {
                    "unique_count": 4,
                    "nan_count": 1,
                    "min": "2730.0",
                    "max": "2776.0",
                    "histogram": [
                      {
                        "bin_start": 2730,
                        "bin_end": 2734.6,
                        "count": 1
                      },
                      {
                        "bin_start": 2734.6,
                        "bin_end": 2739.2,
                        "count": 0
                      },
                      {
                        "bin_start": 2739.2,
                        "bin_end": 2743.8,
                        "count": 0
                      },
                      {
                        "bin_start": 2743.8,
                        "bin_end": 2748.4,
                        "count": 0
                      },
                      {
                        "bin_start": 2748.4,
                        "bin_end": 2753,
                        "count": 0
                      },
                      {
                        "bin_start": 2753,
                        "bin_end": 2757.6,
                        "count": 0
                      },
                      {
                        "bin_start": 2757.6,
                        "bin_end": 2762.2,
                        "count": 0
                      },
                      {
                        "bin_start": 2762.2,
                        "bin_end": 2766.8,
                        "count": 0
                      },
                      {
                        "bin_start": 2766.8,
                        "bin_end": 2771.4,
                        "count": 1
                      },
                      {
                        "bin_start": 2771.4,
                        "bin_end": 2776,
                        "count": 2
                      }
                    ]
                  }
                },
                {
                  "name": "stats",
                  "dtype": "object",
                  "stats": {
                    "unique_count": 1,
                    "nan_count": 0,
                    "categories": [
                      {
                        "name": "Cases",
                        "count": 5
                      }
                    ]
                  }
                },
                {
                  "name": "country",
                  "dtype": "object",
                  "stats": {
                    "unique_count": 1,
                    "nan_count": 0,
                    "categories": [
                      {
                        "name": "Guinea",
                        "count": 5
                      }
                    ]
                  }
                },
                {
                  "name": "_deepnote_index_column",
                  "dtype": "int64"
                }
              ],
              "rows_top": [
                {
                  "Date": "1/5/2015",
                  "Day": 289,
                  "variable": "Cases_Guinea",
                  "value": "2776.0",
                  "stats": "Cases",
                  "country": "Guinea",
                  "_deepnote_index_column": 0
                },
                {
                  "Date": "1/4/2015",
                  "Day": 288,
                  "variable": "Cases_Guinea",
                  "value": "2775.0",
                  "stats": "Cases",
                  "country": "Guinea",
                  "_deepnote_index_column": 1
                },
                {
                  "Date": "1/3/2015",
                  "Day": 287,
                  "variable": "Cases_Guinea",
                  "value": "2769.0",
                  "stats": "Cases",
                  "country": "Guinea",
                  "_deepnote_index_column": 2
                },
                {
                  "Date": "1/2/2015",
                  "Day": 286,
                  "variable": "Cases_Guinea",
                  "value": "nan",
                  "stats": "Cases",
                  "country": "Guinea",
                  "_deepnote_index_column": 3
                },
                {
                  "Date": "12/31/2014",
                  "Day": 284,
                  "variable": "Cases_Guinea",
                  "value": "2730.0",
                  "stats": "Cases",
                  "country": "Guinea",
                  "_deepnote_index_column": 4
                }
              ],
              "rows_bottom": null
            },
            "text/plain": "         Date  Day      variable   value  stats country\n0    1/5/2015  289  Cases_Guinea  2776.0  Cases  Guinea\n1    1/4/2015  288  Cases_Guinea  2775.0  Cases  Guinea\n2    1/3/2015  287  Cases_Guinea  2769.0  Cases  Guinea\n3    1/2/2015  286  Cases_Guinea     NaN  Cases  Guinea\n4  12/31/2014  284  Cases_Guinea  2730.0  Cases  Guinea",
            "text/html": "<div>\n<style scoped>\n    .dataframe tbody tr th:only-of-type {\n        vertical-align: middle;\n    }\n\n    .dataframe tbody tr th {\n        vertical-align: top;\n    }\n\n    .dataframe thead th {\n        text-align: right;\n    }\n</style>\n<table border=\"1\" class=\"dataframe\">\n  <thead>\n    <tr style=\"text-align: right;\">\n      <th></th>\n      <th>Date</th>\n      <th>Day</th>\n      <th>variable</th>\n      <th>value</th>\n      <th>stats</th>\n      <th>country</th>\n    </tr>\n  </thead>\n  <tbody>\n    <tr>\n      <th>0</th>\n      <td>1/5/2015</td>\n      <td>289</td>\n      <td>Cases_Guinea</td>\n      <td>2776.0</td>\n      <td>Cases</td>\n      <td>Guinea</td>\n    </tr>\n    <tr>\n      <th>1</th>\n      <td>1/4/2015</td>\n      <td>288</td>\n      <td>Cases_Guinea</td>\n      <td>2775.0</td>\n      <td>Cases</td>\n      <td>Guinea</td>\n    </tr>\n    <tr>\n      <th>2</th>\n      <td>1/3/2015</td>\n      <td>287</td>\n      <td>Cases_Guinea</td>\n      <td>2769.0</td>\n      <td>Cases</td>\n      <td>Guinea</td>\n    </tr>\n    <tr>\n      <th>3</th>\n      <td>1/2/2015</td>\n      <td>286</td>\n      <td>Cases_Guinea</td>\n      <td>NaN</td>\n      <td>Cases</td>\n      <td>Guinea</td>\n    </tr>\n    <tr>\n      <th>4</th>\n      <td>12/31/2014</td>\n      <td>284</td>\n      <td>Cases_Guinea</td>\n      <td>2730.0</td>\n      <td>Cases</td>\n      <td>Guinea</td>\n    </tr>\n  </tbody>\n</table>\n</div>"
          },
          "metadata": {}
        }
      ],
      "execution_count": 52
    },
    {
      "cell_type": "markdown",
      "source": "### Summary of what we did (this is the manual way to do it):\n### 1 - melted data set\n### 2 - used string manipulation to separate two bits of information inside 1 column (case and country)",
      "metadata": {
        "tags": [],
        "cell_id": "00055-f134b3ff-642e-4411-908c-67aff1c7cc54",
        "deepnote_cell_type": "markdown"
      }
    },
    {
      "cell_type": "markdown",
      "source": "### Alternative Method (doing it in one go):",
      "metadata": {
        "tags": [],
        "cell_id": "00056-95743052-eba0-4454-969f-ac538366e665",
        "deepnote_cell_type": "markdown"
      }
    },
    {
      "cell_type": "code",
      "source": "ebola_long[['stats_e', 'country_e']] = (ebola_long['variable']\n                                        .str\n                                        .split('_', expand=True))",
      "metadata": {
        "tags": [],
        "cell_id": "00056-f89d917c-e2f2-424b-b9e9-e13ce5a18ef4",
        "deepnote_to_be_reexecuted": false,
        "source_hash": "d7fa5d7e",
        "execution_start": 1620248784387,
        "execution_millis": 0,
        "deepnote_cell_type": "code"
      },
      "outputs": [],
      "execution_count": 53
    },
    {
      "cell_type": "code",
      "source": "ebola_long",
      "metadata": {
        "tags": [],
        "cell_id": "00058-9d9d450e-df8d-43c4-8137-7347d2a40b1b",
        "deepnote_to_be_reexecuted": false,
        "source_hash": "446ef541",
        "execution_start": 1620248784430,
        "execution_millis": 17,
        "deepnote_cell_type": "code"
      },
      "outputs": [
        {
          "output_type": "execute_result",
          "execution_count": 54,
          "data": {
            "application/vnd.deepnote.dataframe.v2+json": {
              "row_count": 1952,
              "column_count": 8,
              "columns": [
                {
                  "name": "Date",
                  "dtype": "object",
                  "stats": {
                    "unique_count": 122,
                    "nan_count": 0,
                    "categories": [
                      {
                        "name": "1/5/2015",
                        "count": 16
                      },
                      {
                        "name": "1/4/2015",
                        "count": 16
                      },
                      {
                        "name": "120 others",
                        "count": 1920
                      }
                    ]
                  }
                },
                {
                  "name": "Day",
                  "dtype": "int64",
                  "stats": {
                    "unique_count": 122,
                    "nan_count": 0,
                    "min": "0",
                    "max": "289",
                    "histogram": [
                      {
                        "bin_start": 0,
                        "bin_end": 28.9,
                        "count": 272
                      },
                      {
                        "bin_start": 28.9,
                        "bin_end": 57.8,
                        "count": 192
                      },
                      {
                        "bin_start": 57.8,
                        "bin_end": 86.69999999999999,
                        "count": 128
                      },
                      {
                        "bin_start": 86.69999999999999,
                        "bin_end": 115.6,
                        "count": 176
                      },
                      {
                        "bin_start": 115.6,
                        "bin_end": 144.5,
                        "count": 176
                      },
                      {
                        "bin_start": 144.5,
                        "bin_end": 173.39999999999998,
                        "count": 144
                      },
                      {
                        "bin_start": 173.39999999999998,
                        "bin_end": 202.29999999999998,
                        "count": 208
                      },
                      {
                        "bin_start": 202.29999999999998,
                        "bin_end": 231.2,
                        "count": 256
                      },
                      {
                        "bin_start": 231.2,
                        "bin_end": 260.09999999999997,
                        "count": 192
                      },
                      {
                        "bin_start": 260.09999999999997,
                        "bin_end": 289,
                        "count": 208
                      }
                    ]
                  }
                },
                {
                  "name": "variable",
                  "dtype": "object",
                  "stats": {
                    "unique_count": 16,
                    "nan_count": 0,
                    "categories": [
                      {
                        "name": "Cases_Guinea",
                        "count": 122
                      },
                      {
                        "name": "Cases_Liberia",
                        "count": 122
                      },
                      {
                        "name": "14 others",
                        "count": 1708
                      }
                    ]
                  }
                },
                {
                  "name": "value",
                  "dtype": "float64",
                  "stats": {
                    "unique_count": 415,
                    "nan_count": 1214,
                    "min": "0.0",
                    "max": "10030.0",
                    "histogram": [
                      {
                        "bin_start": 0,
                        "bin_end": 1003,
                        "count": 556
                      },
                      {
                        "bin_start": 1003,
                        "bin_end": 2006,
                        "count": 73
                      },
                      {
                        "bin_start": 2006,
                        "bin_end": 3009,
                        "count": 45
                      },
                      {
                        "bin_start": 3009,
                        "bin_end": 4012,
                        "count": 21
                      },
                      {
                        "bin_start": 4012,
                        "bin_end": 5015,
                        "count": 6
                      },
                      {
                        "bin_start": 5015,
                        "bin_end": 6018,
                        "count": 4
                      },
                      {
                        "bin_start": 6018,
                        "bin_end": 7021,
                        "count": 8
                      },
                      {
                        "bin_start": 7021,
                        "bin_end": 8024,
                        "count": 12
                      },
                      {
                        "bin_start": 8024,
                        "bin_end": 9027,
                        "count": 6
                      },
                      {
                        "bin_start": 9027,
                        "bin_end": 10030,
                        "count": 7
                      }
                    ]
                  }
                },
                {
                  "name": "stats",
                  "dtype": "object",
                  "stats": {
                    "unique_count": 2,
                    "nan_count": 0,
                    "categories": [
                      {
                        "name": "Cases",
                        "count": 976
                      },
                      {
                        "name": "Deaths",
                        "count": 976
                      }
                    ]
                  }
                },
                {
                  "name": "country",
                  "dtype": "object",
                  "stats": {
                    "unique_count": 8,
                    "nan_count": 0,
                    "categories": [
                      {
                        "name": "Guinea",
                        "count": 244
                      },
                      {
                        "name": "Liberia",
                        "count": 244
                      },
                      {
                        "name": "6 others",
                        "count": 1464
                      }
                    ]
                  }
                },
                {
                  "name": "stats_e",
                  "dtype": "object",
                  "stats": {
                    "unique_count": 2,
                    "nan_count": 0,
                    "categories": [
                      {
                        "name": "Cases",
                        "count": 976
                      },
                      {
                        "name": "Deaths",
                        "count": 976
                      }
                    ]
                  }
                },
                {
                  "name": "country_e",
                  "dtype": "object",
                  "stats": {
                    "unique_count": 8,
                    "nan_count": 0,
                    "categories": [
                      {
                        "name": "Guinea",
                        "count": 244
                      },
                      {
                        "name": "Liberia",
                        "count": 244
                      },
                      {
                        "name": "6 others",
                        "count": 1464
                      }
                    ]
                  }
                },
                {
                  "name": "_deepnote_index_column",
                  "dtype": "int64"
                }
              ],
              "rows_top": [
                {
                  "Date": "1/5/2015",
                  "Day": 289,
                  "variable": "Cases_Guinea",
                  "value": "2776.0",
                  "stats": "Cases",
                  "country": "Guinea",
                  "stats_e": "Cases",
                  "country_e": "Guinea",
                  "_deepnote_index_column": 0
                },
                {
                  "Date": "1/4/2015",
                  "Day": 288,
                  "variable": "Cases_Guinea",
                  "value": "2775.0",
                  "stats": "Cases",
                  "country": "Guinea",
                  "stats_e": "Cases",
                  "country_e": "Guinea",
                  "_deepnote_index_column": 1
                },
                {
                  "Date": "1/3/2015",
                  "Day": 287,
                  "variable": "Cases_Guinea",
                  "value": "2769.0",
                  "stats": "Cases",
                  "country": "Guinea",
                  "stats_e": "Cases",
                  "country_e": "Guinea",
                  "_deepnote_index_column": 2
                },
                {
                  "Date": "1/2/2015",
                  "Day": 286,
                  "variable": "Cases_Guinea",
                  "value": "nan",
                  "stats": "Cases",
                  "country": "Guinea",
                  "stats_e": "Cases",
                  "country_e": "Guinea",
                  "_deepnote_index_column": 3
                },
                {
                  "Date": "12/31/2014",
                  "Day": 284,
                  "variable": "Cases_Guinea",
                  "value": "2730.0",
                  "stats": "Cases",
                  "country": "Guinea",
                  "stats_e": "Cases",
                  "country_e": "Guinea",
                  "_deepnote_index_column": 4
                },
                {
                  "Date": "12/28/2014",
                  "Day": 281,
                  "variable": "Cases_Guinea",
                  "value": "2706.0",
                  "stats": "Cases",
                  "country": "Guinea",
                  "stats_e": "Cases",
                  "country_e": "Guinea",
                  "_deepnote_index_column": 5
                },
                {
                  "Date": "12/27/2014",
                  "Day": 280,
                  "variable": "Cases_Guinea",
                  "value": "2695.0",
                  "stats": "Cases",
                  "country": "Guinea",
                  "stats_e": "Cases",
                  "country_e": "Guinea",
                  "_deepnote_index_column": 6
                },
                {
                  "Date": "12/24/2014",
                  "Day": 277,
                  "variable": "Cases_Guinea",
                  "value": "2630.0",
                  "stats": "Cases",
                  "country": "Guinea",
                  "stats_e": "Cases",
                  "country_e": "Guinea",
                  "_deepnote_index_column": 7
                },
                {
                  "Date": "12/21/2014",
                  "Day": 273,
                  "variable": "Cases_Guinea",
                  "value": "2597.0",
                  "stats": "Cases",
                  "country": "Guinea",
                  "stats_e": "Cases",
                  "country_e": "Guinea",
                  "_deepnote_index_column": 8
                },
                {
                  "Date": "12/20/2014",
                  "Day": 272,
                  "variable": "Cases_Guinea",
                  "value": "2571.0",
                  "stats": "Cases",
                  "country": "Guinea",
                  "stats_e": "Cases",
                  "country_e": "Guinea",
                  "_deepnote_index_column": 9
                },
                {
                  "Date": "12/18/2014",
                  "Day": 271,
                  "variable": "Cases_Guinea",
                  "value": "nan",
                  "stats": "Cases",
                  "country": "Guinea",
                  "stats_e": "Cases",
                  "country_e": "Guinea",
                  "_deepnote_index_column": 10
                },
                {
                  "Date": "12/14/2014",
                  "Day": 267,
                  "variable": "Cases_Guinea",
                  "value": "2416.0",
                  "stats": "Cases",
                  "country": "Guinea",
                  "stats_e": "Cases",
                  "country_e": "Guinea",
                  "_deepnote_index_column": 11
                },
                {
                  "Date": "12/9/2014",
                  "Day": 262,
                  "variable": "Cases_Guinea",
                  "value": "nan",
                  "stats": "Cases",
                  "country": "Guinea",
                  "stats_e": "Cases",
                  "country_e": "Guinea",
                  "_deepnote_index_column": 12
                },
                {
                  "Date": "12/7/2014",
                  "Day": 260,
                  "variable": "Cases_Guinea",
                  "value": "2292.0",
                  "stats": "Cases",
                  "country": "Guinea",
                  "stats_e": "Cases",
                  "country_e": "Guinea",
                  "_deepnote_index_column": 13
                },
                {
                  "Date": "12/3/2014",
                  "Day": 256,
                  "variable": "Cases_Guinea",
                  "value": "nan",
                  "stats": "Cases",
                  "country": "Guinea",
                  "stats_e": "Cases",
                  "country_e": "Guinea",
                  "_deepnote_index_column": 14
                },
                {
                  "Date": "11/30/2014",
                  "Day": 253,
                  "variable": "Cases_Guinea",
                  "value": "2164.0",
                  "stats": "Cases",
                  "country": "Guinea",
                  "stats_e": "Cases",
                  "country_e": "Guinea",
                  "_deepnote_index_column": 15
                },
                {
                  "Date": "11/28/2014",
                  "Day": 251,
                  "variable": "Cases_Guinea",
                  "value": "nan",
                  "stats": "Cases",
                  "country": "Guinea",
                  "stats_e": "Cases",
                  "country_e": "Guinea",
                  "_deepnote_index_column": 16
                },
                {
                  "Date": "11/23/2014",
                  "Day": 246,
                  "variable": "Cases_Guinea",
                  "value": "2134.0",
                  "stats": "Cases",
                  "country": "Guinea",
                  "stats_e": "Cases",
                  "country_e": "Guinea",
                  "_deepnote_index_column": 17
                },
                {
                  "Date": "11/22/2014",
                  "Day": 245,
                  "variable": "Cases_Guinea",
                  "value": "nan",
                  "stats": "Cases",
                  "country": "Guinea",
                  "stats_e": "Cases",
                  "country_e": "Guinea",
                  "_deepnote_index_column": 18
                },
                {
                  "Date": "11/18/2014",
                  "Day": 241,
                  "variable": "Cases_Guinea",
                  "value": "2047.0",
                  "stats": "Cases",
                  "country": "Guinea",
                  "stats_e": "Cases",
                  "country_e": "Guinea",
                  "_deepnote_index_column": 19
                },
                {
                  "Date": "11/16/2014",
                  "Day": 239,
                  "variable": "Cases_Guinea",
                  "value": "1971.0",
                  "stats": "Cases",
                  "country": "Guinea",
                  "stats_e": "Cases",
                  "country_e": "Guinea",
                  "_deepnote_index_column": 20
                },
                {
                  "Date": "11/15/2014",
                  "Day": 238,
                  "variable": "Cases_Guinea",
                  "value": "nan",
                  "stats": "Cases",
                  "country": "Guinea",
                  "stats_e": "Cases",
                  "country_e": "Guinea",
                  "_deepnote_index_column": 21
                },
                {
                  "Date": "11/11/2014",
                  "Day": 234,
                  "variable": "Cases_Guinea",
                  "value": "1919.0",
                  "stats": "Cases",
                  "country": "Guinea",
                  "stats_e": "Cases",
                  "country_e": "Guinea",
                  "_deepnote_index_column": 22
                },
                {
                  "Date": "11/10/2014",
                  "Day": 233,
                  "variable": "Cases_Guinea",
                  "value": "nan",
                  "stats": "Cases",
                  "country": "Guinea",
                  "stats_e": "Cases",
                  "country_e": "Guinea",
                  "_deepnote_index_column": 23
                },
                {
                  "Date": "11/9/2014",
                  "Day": 232,
                  "variable": "Cases_Guinea",
                  "value": "1878.0",
                  "stats": "Cases",
                  "country": "Guinea",
                  "stats_e": "Cases",
                  "country_e": "Guinea",
                  "_deepnote_index_column": 24
                },
                {
                  "Date": "11/8/2014",
                  "Day": 231,
                  "variable": "Cases_Guinea",
                  "value": "nan",
                  "stats": "Cases",
                  "country": "Guinea",
                  "stats_e": "Cases",
                  "country_e": "Guinea",
                  "_deepnote_index_column": 25
                },
                {
                  "Date": "11/4/2014",
                  "Day": 227,
                  "variable": "Cases_Guinea",
                  "value": "nan",
                  "stats": "Cases",
                  "country": "Guinea",
                  "stats_e": "Cases",
                  "country_e": "Guinea",
                  "_deepnote_index_column": 26
                },
                {
                  "Date": "11/3/2014",
                  "Day": 226,
                  "variable": "Cases_Guinea",
                  "value": "1760.0",
                  "stats": "Cases",
                  "country": "Guinea",
                  "stats_e": "Cases",
                  "country_e": "Guinea",
                  "_deepnote_index_column": 27
                },
                {
                  "Date": "11/2/2014",
                  "Day": 225,
                  "variable": "Cases_Guinea",
                  "value": "1731.0",
                  "stats": "Cases",
                  "country": "Guinea",
                  "stats_e": "Cases",
                  "country_e": "Guinea",
                  "_deepnote_index_column": 28
                },
                {
                  "Date": "10/31/2014",
                  "Day": 222,
                  "variable": "Cases_Guinea",
                  "value": "nan",
                  "stats": "Cases",
                  "country": "Guinea",
                  "stats_e": "Cases",
                  "country_e": "Guinea",
                  "_deepnote_index_column": 29
                },
                {
                  "Date": "10/29/2014",
                  "Day": 220,
                  "variable": "Cases_Guinea",
                  "value": "1667.0",
                  "stats": "Cases",
                  "country": "Guinea",
                  "stats_e": "Cases",
                  "country_e": "Guinea",
                  "_deepnote_index_column": 30
                },
                {
                  "Date": "10/27/2014",
                  "Day": 218,
                  "variable": "Cases_Guinea",
                  "value": "1906.0",
                  "stats": "Cases",
                  "country": "Guinea",
                  "stats_e": "Cases",
                  "country_e": "Guinea",
                  "_deepnote_index_column": 31
                },
                {
                  "Date": "10/25/2014",
                  "Day": 216,
                  "variable": "Cases_Guinea",
                  "value": "nan",
                  "stats": "Cases",
                  "country": "Guinea",
                  "stats_e": "Cases",
                  "country_e": "Guinea",
                  "_deepnote_index_column": 32
                },
                {
                  "Date": "10/22/2014",
                  "Day": 214,
                  "variable": "Cases_Guinea",
                  "value": "nan",
                  "stats": "Cases",
                  "country": "Guinea",
                  "stats_e": "Cases",
                  "country_e": "Guinea",
                  "_deepnote_index_column": 33
                },
                {
                  "Date": "10/21/2014",
                  "Day": 213,
                  "variable": "Cases_Guinea",
                  "value": "1553.0",
                  "stats": "Cases",
                  "country": "Guinea",
                  "stats_e": "Cases",
                  "country_e": "Guinea",
                  "_deepnote_index_column": 34
                },
                {
                  "Date": "10/19/2014",
                  "Day": 211,
                  "variable": "Cases_Guinea",
                  "value": "1540.0",
                  "stats": "Cases",
                  "country": "Guinea",
                  "stats_e": "Cases",
                  "country_e": "Guinea",
                  "_deepnote_index_column": 35
                },
                {
                  "Date": "10/18/2014",
                  "Day": 210,
                  "variable": "Cases_Guinea",
                  "value": "nan",
                  "stats": "Cases",
                  "country": "Guinea",
                  "stats_e": "Cases",
                  "country_e": "Guinea",
                  "_deepnote_index_column": 36
                },
                {
                  "Date": "10/14/2014",
                  "Day": 206,
                  "variable": "Cases_Guinea",
                  "value": "1519.0",
                  "stats": "Cases",
                  "country": "Guinea",
                  "stats_e": "Cases",
                  "country_e": "Guinea",
                  "_deepnote_index_column": 37
                },
                {
                  "Date": "10/13/2014",
                  "Day": 205,
                  "variable": "Cases_Guinea",
                  "value": "nan",
                  "stats": "Cases",
                  "country": "Guinea",
                  "stats_e": "Cases",
                  "country_e": "Guinea",
                  "_deepnote_index_column": 38
                },
                {
                  "Date": "10/12/2014",
                  "Day": 204,
                  "variable": "Cases_Guinea",
                  "value": "1472.0",
                  "stats": "Cases",
                  "country": "Guinea",
                  "stats_e": "Cases",
                  "country_e": "Guinea",
                  "_deepnote_index_column": 39
                },
                {
                  "Date": "10/11/2014",
                  "Day": 203,
                  "variable": "Cases_Guinea",
                  "value": "nan",
                  "stats": "Cases",
                  "country": "Guinea",
                  "stats_e": "Cases",
                  "country_e": "Guinea",
                  "_deepnote_index_column": 40
                },
                {
                  "Date": "10/8/2014",
                  "Day": 200,
                  "variable": "Cases_Guinea",
                  "value": "nan",
                  "stats": "Cases",
                  "country": "Guinea",
                  "stats_e": "Cases",
                  "country_e": "Guinea",
                  "_deepnote_index_column": 41
                },
                {
                  "Date": "10/7/2014",
                  "Day": 199,
                  "variable": "Cases_Guinea",
                  "value": "1350.0",
                  "stats": "Cases",
                  "country": "Guinea",
                  "stats_e": "Cases",
                  "country_e": "Guinea",
                  "_deepnote_index_column": 42
                },
                {
                  "Date": "10/5/2014",
                  "Day": 197,
                  "variable": "Cases_Guinea",
                  "value": "1298.0",
                  "stats": "Cases",
                  "country": "Guinea",
                  "stats_e": "Cases",
                  "country_e": "Guinea",
                  "_deepnote_index_column": 43
                },
                {
                  "Date": "10/4/2014",
                  "Day": 196,
                  "variable": "Cases_Guinea",
                  "value": "nan",
                  "stats": "Cases",
                  "country": "Guinea",
                  "stats_e": "Cases",
                  "country_e": "Guinea",
                  "_deepnote_index_column": 44
                },
                {
                  "Date": "10/1/2014",
                  "Day": 193,
                  "variable": "Cases_Guinea",
                  "value": "1199.0",
                  "stats": "Cases",
                  "country": "Guinea",
                  "stats_e": "Cases",
                  "country_e": "Guinea",
                  "_deepnote_index_column": 45
                },
                {
                  "Date": "9/28/2014",
                  "Day": 190,
                  "variable": "Cases_Guinea",
                  "value": "1157.0",
                  "stats": "Cases",
                  "country": "Guinea",
                  "stats_e": "Cases",
                  "country_e": "Guinea",
                  "_deepnote_index_column": 46
                },
                {
                  "Date": "9/23/2014",
                  "Day": 185,
                  "variable": "Cases_Guinea",
                  "value": "1074.0",
                  "stats": "Cases",
                  "country": "Guinea",
                  "stats_e": "Cases",
                  "country_e": "Guinea",
                  "_deepnote_index_column": 47
                },
                {
                  "Date": "9/21/2014",
                  "Day": 183,
                  "variable": "Cases_Guinea",
                  "value": "1022.0",
                  "stats": "Cases",
                  "country": "Guinea",
                  "stats_e": "Cases",
                  "country_e": "Guinea",
                  "_deepnote_index_column": 48
                },
                {
                  "Date": "9/20/2014",
                  "Day": 182,
                  "variable": "Cases_Guinea",
                  "value": "nan",
                  "stats": "Cases",
                  "country": "Guinea",
                  "stats_e": "Cases",
                  "country_e": "Guinea",
                  "_deepnote_index_column": 49
                },
                {
                  "Date": "9/19/2014",
                  "Day": 181,
                  "variable": "Cases_Guinea",
                  "value": "1008.0",
                  "stats": "Cases",
                  "country": "Guinea",
                  "stats_e": "Cases",
                  "country_e": "Guinea",
                  "_deepnote_index_column": 50
                },
                {
                  "Date": "9/17/2014",
                  "Day": 179,
                  "variable": "Cases_Guinea",
                  "value": "nan",
                  "stats": "Cases",
                  "country": "Guinea",
                  "stats_e": "Cases",
                  "country_e": "Guinea",
                  "_deepnote_index_column": 51
                },
                {
                  "Date": "9/14/2014",
                  "Day": 176,
                  "variable": "Cases_Guinea",
                  "value": "942.0",
                  "stats": "Cases",
                  "country": "Guinea",
                  "stats_e": "Cases",
                  "country_e": "Guinea",
                  "_deepnote_index_column": 52
                },
                {
                  "Date": "9/13/2014",
                  "Day": 175,
                  "variable": "Cases_Guinea",
                  "value": "936.0",
                  "stats": "Cases",
                  "country": "Guinea",
                  "stats_e": "Cases",
                  "country_e": "Guinea",
                  "_deepnote_index_column": 53
                },
                {
                  "Date": "9/10/2014",
                  "Day": 172,
                  "variable": "Cases_Guinea",
                  "value": "899.0",
                  "stats": "Cases",
                  "country": "Guinea",
                  "stats_e": "Cases",
                  "country_e": "Guinea",
                  "_deepnote_index_column": 54
                },
                {
                  "Date": "9/9/2014",
                  "Day": 171,
                  "variable": "Cases_Guinea",
                  "value": "nan",
                  "stats": "Cases",
                  "country": "Guinea",
                  "stats_e": "Cases",
                  "country_e": "Guinea",
                  "_deepnote_index_column": 55
                },
                {
                  "Date": "9/7/2014",
                  "Day": 169,
                  "variable": "Cases_Guinea",
                  "value": "861.0",
                  "stats": "Cases",
                  "country": "Guinea",
                  "stats_e": "Cases",
                  "country_e": "Guinea",
                  "_deepnote_index_column": 56
                },
                {
                  "Date": "9/5/2014",
                  "Day": 167,
                  "variable": "Cases_Guinea",
                  "value": "812.0",
                  "stats": "Cases",
                  "country": "Guinea",
                  "stats_e": "Cases",
                  "country_e": "Guinea",
                  "_deepnote_index_column": 57
                },
                {
                  "Date": "8/31/2014",
                  "Day": 162,
                  "variable": "Cases_Guinea",
                  "value": "771.0",
                  "stats": "Cases",
                  "country": "Guinea",
                  "stats_e": "Cases",
                  "country_e": "Guinea",
                  "_deepnote_index_column": 58
                },
                {
                  "Date": "8/26/2014",
                  "Day": 157,
                  "variable": "Cases_Guinea",
                  "value": "648.0",
                  "stats": "Cases",
                  "country": "Guinea",
                  "stats_e": "Cases",
                  "country_e": "Guinea",
                  "_deepnote_index_column": 59
                },
                {
                  "Date": "8/20/2014",
                  "Day": 151,
                  "variable": "Cases_Guinea",
                  "value": "607.0",
                  "stats": "Cases",
                  "country": "Guinea",
                  "stats_e": "Cases",
                  "country_e": "Guinea",
                  "_deepnote_index_column": 60
                },
                {
                  "Date": "8/18/2014",
                  "Day": 149,
                  "variable": "Cases_Guinea",
                  "value": "579.0",
                  "stats": "Cases",
                  "country": "Guinea",
                  "stats_e": "Cases",
                  "country_e": "Guinea",
                  "_deepnote_index_column": 61
                }
              ],
              "rows_bottom": [
                {
                  "Date": "8/26/2014",
                  "Day": 157,
                  "variable": "Deaths_Mali",
                  "value": "nan",
                  "stats": "Deaths",
                  "country": "Mali",
                  "stats_e": "Deaths",
                  "country_e": "Mali",
                  "_deepnote_index_column": 1889
                },
                {
                  "Date": "8/20/2014",
                  "Day": 151,
                  "variable": "Deaths_Mali",
                  "value": "nan",
                  "stats": "Deaths",
                  "country": "Mali",
                  "stats_e": "Deaths",
                  "country_e": "Mali",
                  "_deepnote_index_column": 1890
                },
                {
                  "Date": "8/18/2014",
                  "Day": 149,
                  "variable": "Deaths_Mali",
                  "value": "nan",
                  "stats": "Deaths",
                  "country": "Mali",
                  "stats_e": "Deaths",
                  "country_e": "Mali",
                  "_deepnote_index_column": 1891
                },
                {
                  "Date": "8/16/2014",
                  "Day": 147,
                  "variable": "Deaths_Mali",
                  "value": "nan",
                  "stats": "Deaths",
                  "country": "Mali",
                  "stats_e": "Deaths",
                  "country_e": "Mali",
                  "_deepnote_index_column": 1892
                },
                {
                  "Date": "8/13/2014",
                  "Day": 144,
                  "variable": "Deaths_Mali",
                  "value": "nan",
                  "stats": "Deaths",
                  "country": "Mali",
                  "stats_e": "Deaths",
                  "country_e": "Mali",
                  "_deepnote_index_column": 1893
                },
                {
                  "Date": "8/11/2014",
                  "Day": 142,
                  "variable": "Deaths_Mali",
                  "value": "nan",
                  "stats": "Deaths",
                  "country": "Mali",
                  "stats_e": "Deaths",
                  "country_e": "Mali",
                  "_deepnote_index_column": 1894
                },
                {
                  "Date": "8/9/2014",
                  "Day": 140,
                  "variable": "Deaths_Mali",
                  "value": "nan",
                  "stats": "Deaths",
                  "country": "Mali",
                  "stats_e": "Deaths",
                  "country_e": "Mali",
                  "_deepnote_index_column": 1895
                },
                {
                  "Date": "8/6/2014",
                  "Day": 137,
                  "variable": "Deaths_Mali",
                  "value": "nan",
                  "stats": "Deaths",
                  "country": "Mali",
                  "stats_e": "Deaths",
                  "country_e": "Mali",
                  "_deepnote_index_column": 1896
                },
                {
                  "Date": "8/4/2014",
                  "Day": 135,
                  "variable": "Deaths_Mali",
                  "value": "nan",
                  "stats": "Deaths",
                  "country": "Mali",
                  "stats_e": "Deaths",
                  "country_e": "Mali",
                  "_deepnote_index_column": 1897
                },
                {
                  "Date": "8/1/2014",
                  "Day": 132,
                  "variable": "Deaths_Mali",
                  "value": "nan",
                  "stats": "Deaths",
                  "country": "Mali",
                  "stats_e": "Deaths",
                  "country_e": "Mali",
                  "_deepnote_index_column": 1898
                },
                {
                  "Date": "7/30/2014",
                  "Day": 129,
                  "variable": "Deaths_Mali",
                  "value": "nan",
                  "stats": "Deaths",
                  "country": "Mali",
                  "stats_e": "Deaths",
                  "country_e": "Mali",
                  "_deepnote_index_column": 1899
                },
                {
                  "Date": "7/27/2014",
                  "Day": 126,
                  "variable": "Deaths_Mali",
                  "value": "nan",
                  "stats": "Deaths",
                  "country": "Mali",
                  "stats_e": "Deaths",
                  "country_e": "Mali",
                  "_deepnote_index_column": 1900
                },
                {
                  "Date": "7/23/2014",
                  "Day": 123,
                  "variable": "Deaths_Mali",
                  "value": "nan",
                  "stats": "Deaths",
                  "country": "Mali",
                  "stats_e": "Deaths",
                  "country_e": "Mali",
                  "_deepnote_index_column": 1901
                },
                {
                  "Date": "7/20/2014",
                  "Day": 120,
                  "variable": "Deaths_Mali",
                  "value": "nan",
                  "stats": "Deaths",
                  "country": "Mali",
                  "stats_e": "Deaths",
                  "country_e": "Mali",
                  "_deepnote_index_column": 1902
                },
                {
                  "Date": "7/17/2014",
                  "Day": 117,
                  "variable": "Deaths_Mali",
                  "value": "nan",
                  "stats": "Deaths",
                  "country": "Mali",
                  "stats_e": "Deaths",
                  "country_e": "Mali",
                  "_deepnote_index_column": 1903
                },
                {
                  "Date": "7/14/2014",
                  "Day": 114,
                  "variable": "Deaths_Mali",
                  "value": "nan",
                  "stats": "Deaths",
                  "country": "Mali",
                  "stats_e": "Deaths",
                  "country_e": "Mali",
                  "_deepnote_index_column": 1904
                },
                {
                  "Date": "7/12/2014",
                  "Day": 112,
                  "variable": "Deaths_Mali",
                  "value": "nan",
                  "stats": "Deaths",
                  "country": "Mali",
                  "stats_e": "Deaths",
                  "country_e": "Mali",
                  "_deepnote_index_column": 1905
                },
                {
                  "Date": "7/8/2014",
                  "Day": 108,
                  "variable": "Deaths_Mali",
                  "value": "nan",
                  "stats": "Deaths",
                  "country": "Mali",
                  "stats_e": "Deaths",
                  "country_e": "Mali",
                  "_deepnote_index_column": 1906
                },
                {
                  "Date": "7/6/2014",
                  "Day": 106,
                  "variable": "Deaths_Mali",
                  "value": "nan",
                  "stats": "Deaths",
                  "country": "Mali",
                  "stats_e": "Deaths",
                  "country_e": "Mali",
                  "_deepnote_index_column": 1907
                },
                {
                  "Date": "7/2/2014",
                  "Day": 102,
                  "variable": "Deaths_Mali",
                  "value": "nan",
                  "stats": "Deaths",
                  "country": "Mali",
                  "stats_e": "Deaths",
                  "country_e": "Mali",
                  "_deepnote_index_column": 1908
                },
                {
                  "Date": "6/30/2014",
                  "Day": 100,
                  "variable": "Deaths_Mali",
                  "value": "nan",
                  "stats": "Deaths",
                  "country": "Mali",
                  "stats_e": "Deaths",
                  "country_e": "Mali",
                  "_deepnote_index_column": 1909
                },
                {
                  "Date": "6/22/2014",
                  "Day": 92,
                  "variable": "Deaths_Mali",
                  "value": "nan",
                  "stats": "Deaths",
                  "country": "Mali",
                  "stats_e": "Deaths",
                  "country_e": "Mali",
                  "_deepnote_index_column": 1910
                },
                {
                  "Date": "6/20/2014",
                  "Day": 90,
                  "variable": "Deaths_Mali",
                  "value": "nan",
                  "stats": "Deaths",
                  "country": "Mali",
                  "stats_e": "Deaths",
                  "country_e": "Mali",
                  "_deepnote_index_column": 1911
                },
                {
                  "Date": "6/19/2014",
                  "Day": 89,
                  "variable": "Deaths_Mali",
                  "value": "nan",
                  "stats": "Deaths",
                  "country": "Mali",
                  "stats_e": "Deaths",
                  "country_e": "Mali",
                  "_deepnote_index_column": 1912
                },
                {
                  "Date": "6/18/2014",
                  "Day": 88,
                  "variable": "Deaths_Mali",
                  "value": "nan",
                  "stats": "Deaths",
                  "country": "Mali",
                  "stats_e": "Deaths",
                  "country_e": "Mali",
                  "_deepnote_index_column": 1913
                },
                {
                  "Date": "6/17/2014",
                  "Day": 87,
                  "variable": "Deaths_Mali",
                  "value": "nan",
                  "stats": "Deaths",
                  "country": "Mali",
                  "stats_e": "Deaths",
                  "country_e": "Mali",
                  "_deepnote_index_column": 1914
                },
                {
                  "Date": "6/16/2014",
                  "Day": 86,
                  "variable": "Deaths_Mali",
                  "value": "nan",
                  "stats": "Deaths",
                  "country": "Mali",
                  "stats_e": "Deaths",
                  "country_e": "Mali",
                  "_deepnote_index_column": 1915
                },
                {
                  "Date": "6/10/2014",
                  "Day": 80,
                  "variable": "Deaths_Mali",
                  "value": "nan",
                  "stats": "Deaths",
                  "country": "Mali",
                  "stats_e": "Deaths",
                  "country_e": "Mali",
                  "_deepnote_index_column": 1916
                },
                {
                  "Date": "6/5/2014",
                  "Day": 75,
                  "variable": "Deaths_Mali",
                  "value": "nan",
                  "stats": "Deaths",
                  "country": "Mali",
                  "stats_e": "Deaths",
                  "country_e": "Mali",
                  "_deepnote_index_column": 1917
                },
                {
                  "Date": "6/3/2014",
                  "Day": 73,
                  "variable": "Deaths_Mali",
                  "value": "nan",
                  "stats": "Deaths",
                  "country": "Mali",
                  "stats_e": "Deaths",
                  "country_e": "Mali",
                  "_deepnote_index_column": 1918
                },
                {
                  "Date": "6/1/2014",
                  "Day": 71,
                  "variable": "Deaths_Mali",
                  "value": "nan",
                  "stats": "Deaths",
                  "country": "Mali",
                  "stats_e": "Deaths",
                  "country_e": "Mali",
                  "_deepnote_index_column": 1919
                },
                {
                  "Date": "5/28/2014",
                  "Day": 67,
                  "variable": "Deaths_Mali",
                  "value": "nan",
                  "stats": "Deaths",
                  "country": "Mali",
                  "stats_e": "Deaths",
                  "country_e": "Mali",
                  "_deepnote_index_column": 1920
                },
                {
                  "Date": "5/27/2014",
                  "Day": 66,
                  "variable": "Deaths_Mali",
                  "value": "nan",
                  "stats": "Deaths",
                  "country": "Mali",
                  "stats_e": "Deaths",
                  "country_e": "Mali",
                  "_deepnote_index_column": 1921
                },
                {
                  "Date": "5/23/2014",
                  "Day": 62,
                  "variable": "Deaths_Mali",
                  "value": "nan",
                  "stats": "Deaths",
                  "country": "Mali",
                  "stats_e": "Deaths",
                  "country_e": "Mali",
                  "_deepnote_index_column": 1922
                },
                {
                  "Date": "5/12/2014",
                  "Day": 51,
                  "variable": "Deaths_Mali",
                  "value": "nan",
                  "stats": "Deaths",
                  "country": "Mali",
                  "stats_e": "Deaths",
                  "country_e": "Mali",
                  "_deepnote_index_column": 1923
                },
                {
                  "Date": "5/10/2014",
                  "Day": 49,
                  "variable": "Deaths_Mali",
                  "value": "nan",
                  "stats": "Deaths",
                  "country": "Mali",
                  "stats_e": "Deaths",
                  "country_e": "Mali",
                  "_deepnote_index_column": 1924
                },
                {
                  "Date": "5/7/2014",
                  "Day": 46,
                  "variable": "Deaths_Mali",
                  "value": "nan",
                  "stats": "Deaths",
                  "country": "Mali",
                  "stats_e": "Deaths",
                  "country_e": "Mali",
                  "_deepnote_index_column": 1925
                },
                {
                  "Date": "5/5/2014",
                  "Day": 44,
                  "variable": "Deaths_Mali",
                  "value": "nan",
                  "stats": "Deaths",
                  "country": "Mali",
                  "stats_e": "Deaths",
                  "country_e": "Mali",
                  "_deepnote_index_column": 1926
                },
                {
                  "Date": "5/3/2014",
                  "Day": 42,
                  "variable": "Deaths_Mali",
                  "value": "nan",
                  "stats": "Deaths",
                  "country": "Mali",
                  "stats_e": "Deaths",
                  "country_e": "Mali",
                  "_deepnote_index_column": 1927
                },
                {
                  "Date": "5/1/2014",
                  "Day": 40,
                  "variable": "Deaths_Mali",
                  "value": "nan",
                  "stats": "Deaths",
                  "country": "Mali",
                  "stats_e": "Deaths",
                  "country_e": "Mali",
                  "_deepnote_index_column": 1928
                },
                {
                  "Date": "4/26/2014",
                  "Day": 35,
                  "variable": "Deaths_Mali",
                  "value": "nan",
                  "stats": "Deaths",
                  "country": "Mali",
                  "stats_e": "Deaths",
                  "country_e": "Mali",
                  "_deepnote_index_column": 1929
                },
                {
                  "Date": "4/24/2014",
                  "Day": 33,
                  "variable": "Deaths_Mali",
                  "value": "nan",
                  "stats": "Deaths",
                  "country": "Mali",
                  "stats_e": "Deaths",
                  "country_e": "Mali",
                  "_deepnote_index_column": 1930
                },
                {
                  "Date": "4/23/2014",
                  "Day": 32,
                  "variable": "Deaths_Mali",
                  "value": "nan",
                  "stats": "Deaths",
                  "country": "Mali",
                  "stats_e": "Deaths",
                  "country_e": "Mali",
                  "_deepnote_index_column": 1931
                },
                {
                  "Date": "4/22/2014",
                  "Day": 31,
                  "variable": "Deaths_Mali",
                  "value": "nan",
                  "stats": "Deaths",
                  "country": "Mali",
                  "stats_e": "Deaths",
                  "country_e": "Mali",
                  "_deepnote_index_column": 1932
                },
                {
                  "Date": "4/21/2014",
                  "Day": 30,
                  "variable": "Deaths_Mali",
                  "value": "nan",
                  "stats": "Deaths",
                  "country": "Mali",
                  "stats_e": "Deaths",
                  "country_e": "Mali",
                  "_deepnote_index_column": 1933
                },
                {
                  "Date": "4/20/2014",
                  "Day": 29,
                  "variable": "Deaths_Mali",
                  "value": "nan",
                  "stats": "Deaths",
                  "country": "Mali",
                  "stats_e": "Deaths",
                  "country_e": "Mali",
                  "_deepnote_index_column": 1934
                },
                {
                  "Date": "4/17/2014",
                  "Day": 26,
                  "variable": "Deaths_Mali",
                  "value": "nan",
                  "stats": "Deaths",
                  "country": "Mali",
                  "stats_e": "Deaths",
                  "country_e": "Mali",
                  "_deepnote_index_column": 1935
                },
                {
                  "Date": "4/16/2014",
                  "Day": 25,
                  "variable": "Deaths_Mali",
                  "value": "nan",
                  "stats": "Deaths",
                  "country": "Mali",
                  "stats_e": "Deaths",
                  "country_e": "Mali",
                  "_deepnote_index_column": 1936
                },
                {
                  "Date": "4/15/2014",
                  "Day": 24,
                  "variable": "Deaths_Mali",
                  "value": "nan",
                  "stats": "Deaths",
                  "country": "Mali",
                  "stats_e": "Deaths",
                  "country_e": "Mali",
                  "_deepnote_index_column": 1937
                },
                {
                  "Date": "4/14/2014",
                  "Day": 23,
                  "variable": "Deaths_Mali",
                  "value": "nan",
                  "stats": "Deaths",
                  "country": "Mali",
                  "stats_e": "Deaths",
                  "country_e": "Mali",
                  "_deepnote_index_column": 1938
                },
                {
                  "Date": "4/11/2014",
                  "Day": 20,
                  "variable": "Deaths_Mali",
                  "value": "nan",
                  "stats": "Deaths",
                  "country": "Mali",
                  "stats_e": "Deaths",
                  "country_e": "Mali",
                  "_deepnote_index_column": 1939
                },
                {
                  "Date": "4/9/2014",
                  "Day": 18,
                  "variable": "Deaths_Mali",
                  "value": "nan",
                  "stats": "Deaths",
                  "country": "Mali",
                  "stats_e": "Deaths",
                  "country_e": "Mali",
                  "_deepnote_index_column": 1940
                },
                {
                  "Date": "4/7/2014",
                  "Day": 16,
                  "variable": "Deaths_Mali",
                  "value": "nan",
                  "stats": "Deaths",
                  "country": "Mali",
                  "stats_e": "Deaths",
                  "country_e": "Mali",
                  "_deepnote_index_column": 1941
                },
                {
                  "Date": "4/4/2014",
                  "Day": 13,
                  "variable": "Deaths_Mali",
                  "value": "nan",
                  "stats": "Deaths",
                  "country": "Mali",
                  "stats_e": "Deaths",
                  "country_e": "Mali",
                  "_deepnote_index_column": 1942
                },
                {
                  "Date": "4/1/2014",
                  "Day": 10,
                  "variable": "Deaths_Mali",
                  "value": "nan",
                  "stats": "Deaths",
                  "country": "Mali",
                  "stats_e": "Deaths",
                  "country_e": "Mali",
                  "_deepnote_index_column": 1943
                },
                {
                  "Date": "3/31/2014",
                  "Day": 9,
                  "variable": "Deaths_Mali",
                  "value": "nan",
                  "stats": "Deaths",
                  "country": "Mali",
                  "stats_e": "Deaths",
                  "country_e": "Mali",
                  "_deepnote_index_column": 1944
                },
                {
                  "Date": "3/29/2014",
                  "Day": 7,
                  "variable": "Deaths_Mali",
                  "value": "nan",
                  "stats": "Deaths",
                  "country": "Mali",
                  "stats_e": "Deaths",
                  "country_e": "Mali",
                  "_deepnote_index_column": 1945
                },
                {
                  "Date": "3/28/2014",
                  "Day": 6,
                  "variable": "Deaths_Mali",
                  "value": "nan",
                  "stats": "Deaths",
                  "country": "Mali",
                  "stats_e": "Deaths",
                  "country_e": "Mali",
                  "_deepnote_index_column": 1946
                },
                {
                  "Date": "3/27/2014",
                  "Day": 5,
                  "variable": "Deaths_Mali",
                  "value": "nan",
                  "stats": "Deaths",
                  "country": "Mali",
                  "stats_e": "Deaths",
                  "country_e": "Mali",
                  "_deepnote_index_column": 1947
                },
                {
                  "Date": "3/26/2014",
                  "Day": 4,
                  "variable": "Deaths_Mali",
                  "value": "nan",
                  "stats": "Deaths",
                  "country": "Mali",
                  "stats_e": "Deaths",
                  "country_e": "Mali",
                  "_deepnote_index_column": 1948
                },
                {
                  "Date": "3/25/2014",
                  "Day": 3,
                  "variable": "Deaths_Mali",
                  "value": "nan",
                  "stats": "Deaths",
                  "country": "Mali",
                  "stats_e": "Deaths",
                  "country_e": "Mali",
                  "_deepnote_index_column": 1949
                },
                {
                  "Date": "3/24/2014",
                  "Day": 2,
                  "variable": "Deaths_Mali",
                  "value": "nan",
                  "stats": "Deaths",
                  "country": "Mali",
                  "stats_e": "Deaths",
                  "country_e": "Mali",
                  "_deepnote_index_column": 1950
                },
                {
                  "Date": "3/22/2014",
                  "Day": 0,
                  "variable": "Deaths_Mali",
                  "value": "nan",
                  "stats": "Deaths",
                  "country": "Mali",
                  "stats_e": "Deaths",
                  "country_e": "Mali",
                  "_deepnote_index_column": 1951
                }
              ]
            },
            "text/plain": "            Date  Day      variable   value   stats country stats_e country_e\n0       1/5/2015  289  Cases_Guinea  2776.0   Cases  Guinea   Cases    Guinea\n1       1/4/2015  288  Cases_Guinea  2775.0   Cases  Guinea   Cases    Guinea\n2       1/3/2015  287  Cases_Guinea  2769.0   Cases  Guinea   Cases    Guinea\n3       1/2/2015  286  Cases_Guinea     NaN   Cases  Guinea   Cases    Guinea\n4     12/31/2014  284  Cases_Guinea  2730.0   Cases  Guinea   Cases    Guinea\n...          ...  ...           ...     ...     ...     ...     ...       ...\n1947   3/27/2014    5   Deaths_Mali     NaN  Deaths    Mali  Deaths      Mali\n1948   3/26/2014    4   Deaths_Mali     NaN  Deaths    Mali  Deaths      Mali\n1949   3/25/2014    3   Deaths_Mali     NaN  Deaths    Mali  Deaths      Mali\n1950   3/24/2014    2   Deaths_Mali     NaN  Deaths    Mali  Deaths      Mali\n1951   3/22/2014    0   Deaths_Mali     NaN  Deaths    Mali  Deaths      Mali\n\n[1952 rows x 8 columns]",
            "text/html": "<div>\n<style scoped>\n    .dataframe tbody tr th:only-of-type {\n        vertical-align: middle;\n    }\n\n    .dataframe tbody tr th {\n        vertical-align: top;\n    }\n\n    .dataframe thead th {\n        text-align: right;\n    }\n</style>\n<table border=\"1\" class=\"dataframe\">\n  <thead>\n    <tr style=\"text-align: right;\">\n      <th></th>\n      <th>Date</th>\n      <th>Day</th>\n      <th>variable</th>\n      <th>value</th>\n      <th>stats</th>\n      <th>country</th>\n      <th>stats_e</th>\n      <th>country_e</th>\n    </tr>\n  </thead>\n  <tbody>\n    <tr>\n      <th>0</th>\n      <td>1/5/2015</td>\n      <td>289</td>\n      <td>Cases_Guinea</td>\n      <td>2776.0</td>\n      <td>Cases</td>\n      <td>Guinea</td>\n      <td>Cases</td>\n      <td>Guinea</td>\n    </tr>\n    <tr>\n      <th>1</th>\n      <td>1/4/2015</td>\n      <td>288</td>\n      <td>Cases_Guinea</td>\n      <td>2775.0</td>\n      <td>Cases</td>\n      <td>Guinea</td>\n      <td>Cases</td>\n      <td>Guinea</td>\n    </tr>\n    <tr>\n      <th>2</th>\n      <td>1/3/2015</td>\n      <td>287</td>\n      <td>Cases_Guinea</td>\n      <td>2769.0</td>\n      <td>Cases</td>\n      <td>Guinea</td>\n      <td>Cases</td>\n      <td>Guinea</td>\n    </tr>\n    <tr>\n      <th>3</th>\n      <td>1/2/2015</td>\n      <td>286</td>\n      <td>Cases_Guinea</td>\n      <td>NaN</td>\n      <td>Cases</td>\n      <td>Guinea</td>\n      <td>Cases</td>\n      <td>Guinea</td>\n    </tr>\n    <tr>\n      <th>4</th>\n      <td>12/31/2014</td>\n      <td>284</td>\n      <td>Cases_Guinea</td>\n      <td>2730.0</td>\n      <td>Cases</td>\n      <td>Guinea</td>\n      <td>Cases</td>\n      <td>Guinea</td>\n    </tr>\n    <tr>\n      <th>...</th>\n      <td>...</td>\n      <td>...</td>\n      <td>...</td>\n      <td>...</td>\n      <td>...</td>\n      <td>...</td>\n      <td>...</td>\n      <td>...</td>\n    </tr>\n    <tr>\n      <th>1947</th>\n      <td>3/27/2014</td>\n      <td>5</td>\n      <td>Deaths_Mali</td>\n      <td>NaN</td>\n      <td>Deaths</td>\n      <td>Mali</td>\n      <td>Deaths</td>\n      <td>Mali</td>\n    </tr>\n    <tr>\n      <th>1948</th>\n      <td>3/26/2014</td>\n      <td>4</td>\n      <td>Deaths_Mali</td>\n      <td>NaN</td>\n      <td>Deaths</td>\n      <td>Mali</td>\n      <td>Deaths</td>\n      <td>Mali</td>\n    </tr>\n    <tr>\n      <th>1949</th>\n      <td>3/25/2014</td>\n      <td>3</td>\n      <td>Deaths_Mali</td>\n      <td>NaN</td>\n      <td>Deaths</td>\n      <td>Mali</td>\n      <td>Deaths</td>\n      <td>Mali</td>\n    </tr>\n    <tr>\n      <th>1950</th>\n      <td>3/24/2014</td>\n      <td>2</td>\n      <td>Deaths_Mali</td>\n      <td>NaN</td>\n      <td>Deaths</td>\n      <td>Mali</td>\n      <td>Deaths</td>\n      <td>Mali</td>\n    </tr>\n    <tr>\n      <th>1951</th>\n      <td>3/22/2014</td>\n      <td>0</td>\n      <td>Deaths_Mali</td>\n      <td>NaN</td>\n      <td>Deaths</td>\n      <td>Mali</td>\n      <td>Deaths</td>\n      <td>Mali</td>\n    </tr>\n  </tbody>\n</table>\n<p>1952 rows × 8 columns</p>\n</div>"
          },
          "metadata": {}
        }
      ],
      "execution_count": 54
    },
    {
      "cell_type": "markdown",
      "source": "### Creating and assigning columns are syntaxically the same.\n### Just act like they always existed.",
      "metadata": {
        "tags": [],
        "cell_id": "00058-ac9b1e7d-4684-4514-b31a-52d769451fec",
        "deepnote_cell_type": "markdown"
      }
    },
    {
      "cell_type": "markdown",
      "source": "### Tidying data sets that have variables in both rows and columns",
      "metadata": {
        "tags": [],
        "cell_id": "00060-35bbfbec-d679-4fdd-a8b1-9141d2af663c",
        "deepnote_cell_type": "markdown"
      }
    },
    {
      "cell_type": "code",
      "source": "weather = pd.read_csv('./tidy_data/weather.csv')",
      "metadata": {
        "tags": [],
        "cell_id": "00060-7a1d84c4-6b0b-4810-a5fd-8dc4c44bb97d",
        "deepnote_to_be_reexecuted": false,
        "source_hash": "28a1214e",
        "execution_start": 1620248784443,
        "execution_millis": 23,
        "deepnote_cell_type": "code"
      },
      "outputs": [],
      "execution_count": 55
    },
    {
      "cell_type": "code",
      "source": "weather.head()",
      "metadata": {
        "tags": [],
        "cell_id": "00062-f14e58df-832c-4246-8166-42a5a5bfabb1",
        "deepnote_to_be_reexecuted": false,
        "source_hash": "97ab6578",
        "execution_start": 1620248784529,
        "execution_millis": 80,
        "deepnote_cell_type": "code"
      },
      "outputs": [
        {
          "output_type": "execute_result",
          "execution_count": 56,
          "data": {
            "application/vnd.deepnote.dataframe.v2+json": {
              "row_count": 5,
              "column_count": 35,
              "columns": [
                {
                  "name": "id",
                  "dtype": "object",
                  "stats": {
                    "unique_count": 1,
                    "nan_count": 0,
                    "categories": [
                      {
                        "name": "MX17004",
                        "count": 5
                      }
                    ]
                  }
                },
                {
                  "name": "year",
                  "dtype": "int64",
                  "stats": {
                    "unique_count": 1,
                    "nan_count": 0,
                    "min": "2010",
                    "max": "2010",
                    "histogram": [
                      {
                        "bin_start": 2009.5,
                        "bin_end": 2009.6,
                        "count": 0
                      },
                      {
                        "bin_start": 2009.6,
                        "bin_end": 2009.7,
                        "count": 0
                      },
                      {
                        "bin_start": 2009.7,
                        "bin_end": 2009.8,
                        "count": 0
                      },
                      {
                        "bin_start": 2009.8,
                        "bin_end": 2009.9,
                        "count": 0
                      },
                      {
                        "bin_start": 2009.9,
                        "bin_end": 2010,
                        "count": 0
                      },
                      {
                        "bin_start": 2010,
                        "bin_end": 2010.1,
                        "count": 5
                      },
                      {
                        "bin_start": 2010.1,
                        "bin_end": 2010.2,
                        "count": 0
                      },
                      {
                        "bin_start": 2010.2,
                        "bin_end": 2010.3,
                        "count": 0
                      },
                      {
                        "bin_start": 2010.3,
                        "bin_end": 2010.4,
                        "count": 0
                      },
                      {
                        "bin_start": 2010.4,
                        "bin_end": 2010.5,
                        "count": 0
                      }
                    ]
                  }
                },
                {
                  "name": "month",
                  "dtype": "int64",
                  "stats": {
                    "unique_count": 3,
                    "nan_count": 0,
                    "min": "1",
                    "max": "3",
                    "histogram": [
                      {
                        "bin_start": 1,
                        "bin_end": 1.2,
                        "count": 2
                      },
                      {
                        "bin_start": 1.2,
                        "bin_end": 1.4,
                        "count": 0
                      },
                      {
                        "bin_start": 1.4,
                        "bin_end": 1.6,
                        "count": 0
                      },
                      {
                        "bin_start": 1.6,
                        "bin_end": 1.8,
                        "count": 0
                      },
                      {
                        "bin_start": 1.8,
                        "bin_end": 2,
                        "count": 0
                      },
                      {
                        "bin_start": 2,
                        "bin_end": 2.2,
                        "count": 2
                      },
                      {
                        "bin_start": 2.2,
                        "bin_end": 2.4000000000000004,
                        "count": 0
                      },
                      {
                        "bin_start": 2.4000000000000004,
                        "bin_end": 2.6,
                        "count": 0
                      },
                      {
                        "bin_start": 2.6,
                        "bin_end": 2.8,
                        "count": 0
                      },
                      {
                        "bin_start": 2.8,
                        "bin_end": 3,
                        "count": 1
                      }
                    ]
                  }
                },
                {
                  "name": "element",
                  "dtype": "object",
                  "stats": {
                    "unique_count": 2,
                    "nan_count": 0,
                    "categories": [
                      {
                        "name": "tmax",
                        "count": 3
                      },
                      {
                        "name": "tmin",
                        "count": 2
                      }
                    ]
                  }
                },
                {
                  "name": "d1",
                  "dtype": "float64",
                  "stats": {
                    "unique_count": 0,
                    "nan_count": 5,
                    "min": null,
                    "max": null,
                    "histogram": [
                      {
                        "bin_start": 0,
                        "bin_end": 0.1,
                        "count": 0
                      },
                      {
                        "bin_start": 0.1,
                        "bin_end": 0.2,
                        "count": 0
                      },
                      {
                        "bin_start": 0.2,
                        "bin_end": 0.30000000000000004,
                        "count": 0
                      },
                      {
                        "bin_start": 0.30000000000000004,
                        "bin_end": 0.4,
                        "count": 0
                      },
                      {
                        "bin_start": 0.4,
                        "bin_end": 0.5,
                        "count": 0
                      },
                      {
                        "bin_start": 0.5,
                        "bin_end": 0.6000000000000001,
                        "count": 0
                      },
                      {
                        "bin_start": 0.6000000000000001,
                        "bin_end": 0.7000000000000001,
                        "count": 0
                      },
                      {
                        "bin_start": 0.7000000000000001,
                        "bin_end": 0.8,
                        "count": 0
                      },
                      {
                        "bin_start": 0.8,
                        "bin_end": 0.9,
                        "count": 0
                      },
                      {
                        "bin_start": 0.9,
                        "bin_end": 1,
                        "count": 0
                      }
                    ]
                  }
                },
                {
                  "name": "d2",
                  "dtype": "float64",
                  "stats": {
                    "unique_count": 2,
                    "nan_count": 3,
                    "min": "14.4",
                    "max": "27.3",
                    "histogram": [
                      {
                        "bin_start": 14.4,
                        "bin_end": 15.690000000000001,
                        "count": 1
                      },
                      {
                        "bin_start": 15.690000000000001,
                        "bin_end": 16.98,
                        "count": 0
                      },
                      {
                        "bin_start": 16.98,
                        "bin_end": 18.27,
                        "count": 0
                      },
                      {
                        "bin_start": 18.27,
                        "bin_end": 19.560000000000002,
                        "count": 0
                      },
                      {
                        "bin_start": 19.560000000000002,
                        "bin_end": 20.85,
                        "count": 0
                      },
                      {
                        "bin_start": 20.85,
                        "bin_end": 22.14,
                        "count": 0
                      },
                      {
                        "bin_start": 22.14,
                        "bin_end": 23.43,
                        "count": 0
                      },
                      {
                        "bin_start": 23.43,
                        "bin_end": 24.72,
                        "count": 0
                      },
                      {
                        "bin_start": 24.72,
                        "bin_end": 26.009999999999998,
                        "count": 0
                      },
                      {
                        "bin_start": 26.009999999999998,
                        "bin_end": 27.3,
                        "count": 1
                      }
                    ]
                  }
                },
                {
                  "name": "d3",
                  "dtype": "float64",
                  "stats": {
                    "unique_count": 2,
                    "nan_count": 3,
                    "min": "14.4",
                    "max": "24.1",
                    "histogram": [
                      {
                        "bin_start": 14.4,
                        "bin_end": 15.370000000000001,
                        "count": 1
                      },
                      {
                        "bin_start": 15.370000000000001,
                        "bin_end": 16.34,
                        "count": 0
                      },
                      {
                        "bin_start": 16.34,
                        "bin_end": 17.310000000000002,
                        "count": 0
                      },
                      {
                        "bin_start": 17.310000000000002,
                        "bin_end": 18.28,
                        "count": 0
                      },
                      {
                        "bin_start": 18.28,
                        "bin_end": 19.25,
                        "count": 0
                      },
                      {
                        "bin_start": 19.25,
                        "bin_end": 20.22,
                        "count": 0
                      },
                      {
                        "bin_start": 20.22,
                        "bin_end": 21.19,
                        "count": 0
                      },
                      {
                        "bin_start": 21.19,
                        "bin_end": 22.16,
                        "count": 0
                      },
                      {
                        "bin_start": 22.16,
                        "bin_end": 23.130000000000003,
                        "count": 0
                      },
                      {
                        "bin_start": 23.130000000000003,
                        "bin_end": 24.1,
                        "count": 1
                      }
                    ]
                  }
                },
                {
                  "name": "d4",
                  "dtype": "float64",
                  "stats": {
                    "unique_count": 0,
                    "nan_count": 5,
                    "min": null,
                    "max": null,
                    "histogram": [
                      {
                        "bin_start": 0,
                        "bin_end": 0.1,
                        "count": 0
                      },
                      {
                        "bin_start": 0.1,
                        "bin_end": 0.2,
                        "count": 0
                      },
                      {
                        "bin_start": 0.2,
                        "bin_end": 0.30000000000000004,
                        "count": 0
                      },
                      {
                        "bin_start": 0.30000000000000004,
                        "bin_end": 0.4,
                        "count": 0
                      },
                      {
                        "bin_start": 0.4,
                        "bin_end": 0.5,
                        "count": 0
                      },
                      {
                        "bin_start": 0.5,
                        "bin_end": 0.6000000000000001,
                        "count": 0
                      },
                      {
                        "bin_start": 0.6000000000000001,
                        "bin_end": 0.7000000000000001,
                        "count": 0
                      },
                      {
                        "bin_start": 0.7000000000000001,
                        "bin_end": 0.8,
                        "count": 0
                      },
                      {
                        "bin_start": 0.8,
                        "bin_end": 0.9,
                        "count": 0
                      },
                      {
                        "bin_start": 0.9,
                        "bin_end": 1,
                        "count": 0
                      }
                    ]
                  }
                },
                {
                  "name": "d5",
                  "dtype": "float64",
                  "stats": {
                    "unique_count": 1,
                    "nan_count": 4,
                    "min": "32.1",
                    "max": "32.1",
                    "histogram": [
                      {
                        "bin_start": 31.6,
                        "bin_end": 31.700000000000003,
                        "count": 0
                      },
                      {
                        "bin_start": 31.700000000000003,
                        "bin_end": 31.8,
                        "count": 0
                      },
                      {
                        "bin_start": 31.8,
                        "bin_end": 31.900000000000002,
                        "count": 0
                      },
                      {
                        "bin_start": 31.900000000000002,
                        "bin_end": 32,
                        "count": 0
                      },
                      {
                        "bin_start": 32,
                        "bin_end": 32.1,
                        "count": 0
                      },
                      {
                        "bin_start": 32.1,
                        "bin_end": 32.2,
                        "count": 1
                      },
                      {
                        "bin_start": 32.2,
                        "bin_end": 32.300000000000004,
                        "count": 0
                      },
                      {
                        "bin_start": 32.300000000000004,
                        "bin_end": 32.4,
                        "count": 0
                      },
                      {
                        "bin_start": 32.4,
                        "bin_end": 32.5,
                        "count": 0
                      },
                      {
                        "bin_start": 32.5,
                        "bin_end": 32.6,
                        "count": 0
                      }
                    ]
                  }
                },
                {
                  "name": "d6",
                  "dtype": "float64",
                  "stats": {
                    "unique_count": 0,
                    "nan_count": 5,
                    "min": null,
                    "max": null,
                    "histogram": [
                      {
                        "bin_start": 0,
                        "bin_end": 0.1,
                        "count": 0
                      },
                      {
                        "bin_start": 0.1,
                        "bin_end": 0.2,
                        "count": 0
                      },
                      {
                        "bin_start": 0.2,
                        "bin_end": 0.30000000000000004,
                        "count": 0
                      },
                      {
                        "bin_start": 0.30000000000000004,
                        "bin_end": 0.4,
                        "count": 0
                      },
                      {
                        "bin_start": 0.4,
                        "bin_end": 0.5,
                        "count": 0
                      },
                      {
                        "bin_start": 0.5,
                        "bin_end": 0.6000000000000001,
                        "count": 0
                      },
                      {
                        "bin_start": 0.6000000000000001,
                        "bin_end": 0.7000000000000001,
                        "count": 0
                      },
                      {
                        "bin_start": 0.7000000000000001,
                        "bin_end": 0.8,
                        "count": 0
                      },
                      {
                        "bin_start": 0.8,
                        "bin_end": 0.9,
                        "count": 0
                      },
                      {
                        "bin_start": 0.9,
                        "bin_end": 1,
                        "count": 0
                      }
                    ]
                  }
                },
                {
                  "name": "d7",
                  "dtype": "float64",
                  "stats": {
                    "unique_count": 0,
                    "nan_count": 5,
                    "min": null,
                    "max": null,
                    "histogram": [
                      {
                        "bin_start": 0,
                        "bin_end": 0.1,
                        "count": 0
                      },
                      {
                        "bin_start": 0.1,
                        "bin_end": 0.2,
                        "count": 0
                      },
                      {
                        "bin_start": 0.2,
                        "bin_end": 0.30000000000000004,
                        "count": 0
                      },
                      {
                        "bin_start": 0.30000000000000004,
                        "bin_end": 0.4,
                        "count": 0
                      },
                      {
                        "bin_start": 0.4,
                        "bin_end": 0.5,
                        "count": 0
                      },
                      {
                        "bin_start": 0.5,
                        "bin_end": 0.6000000000000001,
                        "count": 0
                      },
                      {
                        "bin_start": 0.6000000000000001,
                        "bin_end": 0.7000000000000001,
                        "count": 0
                      },
                      {
                        "bin_start": 0.7000000000000001,
                        "bin_end": 0.8,
                        "count": 0
                      },
                      {
                        "bin_start": 0.8,
                        "bin_end": 0.9,
                        "count": 0
                      },
                      {
                        "bin_start": 0.9,
                        "bin_end": 1,
                        "count": 0
                      }
                    ]
                  }
                },
                {
                  "name": "d8",
                  "dtype": "float64",
                  "stats": {
                    "unique_count": 0,
                    "nan_count": 5,
                    "min": null,
                    "max": null,
                    "histogram": [
                      {
                        "bin_start": 0,
                        "bin_end": 0.1,
                        "count": 0
                      },
                      {
                        "bin_start": 0.1,
                        "bin_end": 0.2,
                        "count": 0
                      },
                      {
                        "bin_start": 0.2,
                        "bin_end": 0.30000000000000004,
                        "count": 0
                      },
                      {
                        "bin_start": 0.30000000000000004,
                        "bin_end": 0.4,
                        "count": 0
                      },
                      {
                        "bin_start": 0.4,
                        "bin_end": 0.5,
                        "count": 0
                      },
                      {
                        "bin_start": 0.5,
                        "bin_end": 0.6000000000000001,
                        "count": 0
                      },
                      {
                        "bin_start": 0.6000000000000001,
                        "bin_end": 0.7000000000000001,
                        "count": 0
                      },
                      {
                        "bin_start": 0.7000000000000001,
                        "bin_end": 0.8,
                        "count": 0
                      },
                      {
                        "bin_start": 0.8,
                        "bin_end": 0.9,
                        "count": 0
                      },
                      {
                        "bin_start": 0.9,
                        "bin_end": 1,
                        "count": 0
                      }
                    ]
                  }
                },
                {
                  "name": "d9",
                  "dtype": "float64",
                  "stats": {
                    "unique_count": 0,
                    "nan_count": 5,
                    "min": null,
                    "max": null,
                    "histogram": [
                      {
                        "bin_start": 0,
                        "bin_end": 0.1,
                        "count": 0
                      },
                      {
                        "bin_start": 0.1,
                        "bin_end": 0.2,
                        "count": 0
                      },
                      {
                        "bin_start": 0.2,
                        "bin_end": 0.30000000000000004,
                        "count": 0
                      },
                      {
                        "bin_start": 0.30000000000000004,
                        "bin_end": 0.4,
                        "count": 0
                      },
                      {
                        "bin_start": 0.4,
                        "bin_end": 0.5,
                        "count": 0
                      },
                      {
                        "bin_start": 0.5,
                        "bin_end": 0.6000000000000001,
                        "count": 0
                      },
                      {
                        "bin_start": 0.6000000000000001,
                        "bin_end": 0.7000000000000001,
                        "count": 0
                      },
                      {
                        "bin_start": 0.7000000000000001,
                        "bin_end": 0.8,
                        "count": 0
                      },
                      {
                        "bin_start": 0.8,
                        "bin_end": 0.9,
                        "count": 0
                      },
                      {
                        "bin_start": 0.9,
                        "bin_end": 1,
                        "count": 0
                      }
                    ]
                  }
                },
                {
                  "name": "d10",
                  "dtype": "float64",
                  "stats": {
                    "unique_count": 1,
                    "nan_count": 4,
                    "min": "34.5",
                    "max": "34.5",
                    "histogram": [
                      {
                        "bin_start": 34,
                        "bin_end": 34.1,
                        "count": 0
                      },
                      {
                        "bin_start": 34.1,
                        "bin_end": 34.2,
                        "count": 0
                      },
                      {
                        "bin_start": 34.2,
                        "bin_end": 34.3,
                        "count": 0
                      },
                      {
                        "bin_start": 34.3,
                        "bin_end": 34.4,
                        "count": 0
                      },
                      {
                        "bin_start": 34.4,
                        "bin_end": 34.5,
                        "count": 0
                      },
                      {
                        "bin_start": 34.5,
                        "bin_end": 34.6,
                        "count": 1
                      },
                      {
                        "bin_start": 34.6,
                        "bin_end": 34.7,
                        "count": 0
                      },
                      {
                        "bin_start": 34.7,
                        "bin_end": 34.8,
                        "count": 0
                      },
                      {
                        "bin_start": 34.8,
                        "bin_end": 34.9,
                        "count": 0
                      },
                      {
                        "bin_start": 34.9,
                        "bin_end": 35,
                        "count": 0
                      }
                    ]
                  }
                },
                {
                  "name": "d11",
                  "dtype": "float64",
                  "stats": {
                    "unique_count": 2,
                    "nan_count": 3,
                    "min": "13.4",
                    "max": "29.7",
                    "histogram": [
                      {
                        "bin_start": 13.4,
                        "bin_end": 15.03,
                        "count": 1
                      },
                      {
                        "bin_start": 15.03,
                        "bin_end": 16.66,
                        "count": 0
                      },
                      {
                        "bin_start": 16.66,
                        "bin_end": 18.29,
                        "count": 0
                      },
                      {
                        "bin_start": 18.29,
                        "bin_end": 19.919999999999998,
                        "count": 0
                      },
                      {
                        "bin_start": 19.919999999999998,
                        "bin_end": 21.549999999999997,
                        "count": 0
                      },
                      {
                        "bin_start": 21.549999999999997,
                        "bin_end": 23.18,
                        "count": 0
                      },
                      {
                        "bin_start": 23.18,
                        "bin_end": 24.81,
                        "count": 0
                      },
                      {
                        "bin_start": 24.81,
                        "bin_end": 26.439999999999998,
                        "count": 0
                      },
                      {
                        "bin_start": 26.439999999999998,
                        "bin_end": 28.069999999999997,
                        "count": 0
                      },
                      {
                        "bin_start": 28.069999999999997,
                        "bin_end": 29.7,
                        "count": 1
                      }
                    ]
                  }
                },
                {
                  "name": "d12",
                  "dtype": "float64",
                  "stats": {
                    "unique_count": 0,
                    "nan_count": 5,
                    "min": null,
                    "max": null,
                    "histogram": [
                      {
                        "bin_start": 0,
                        "bin_end": 0.1,
                        "count": 0
                      },
                      {
                        "bin_start": 0.1,
                        "bin_end": 0.2,
                        "count": 0
                      },
                      {
                        "bin_start": 0.2,
                        "bin_end": 0.30000000000000004,
                        "count": 0
                      },
                      {
                        "bin_start": 0.30000000000000004,
                        "bin_end": 0.4,
                        "count": 0
                      },
                      {
                        "bin_start": 0.4,
                        "bin_end": 0.5,
                        "count": 0
                      },
                      {
                        "bin_start": 0.5,
                        "bin_end": 0.6000000000000001,
                        "count": 0
                      },
                      {
                        "bin_start": 0.6000000000000001,
                        "bin_end": 0.7000000000000001,
                        "count": 0
                      },
                      {
                        "bin_start": 0.7000000000000001,
                        "bin_end": 0.8,
                        "count": 0
                      },
                      {
                        "bin_start": 0.8,
                        "bin_end": 0.9,
                        "count": 0
                      },
                      {
                        "bin_start": 0.9,
                        "bin_end": 1,
                        "count": 0
                      }
                    ]
                  }
                },
                {
                  "name": "d13",
                  "dtype": "float64",
                  "stats": {
                    "unique_count": 0,
                    "nan_count": 5,
                    "min": null,
                    "max": null,
                    "histogram": [
                      {
                        "bin_start": 0,
                        "bin_end": 0.1,
                        "count": 0
                      },
                      {
                        "bin_start": 0.1,
                        "bin_end": 0.2,
                        "count": 0
                      },
                      {
                        "bin_start": 0.2,
                        "bin_end": 0.30000000000000004,
                        "count": 0
                      },
                      {
                        "bin_start": 0.30000000000000004,
                        "bin_end": 0.4,
                        "count": 0
                      },
                      {
                        "bin_start": 0.4,
                        "bin_end": 0.5,
                        "count": 0
                      },
                      {
                        "bin_start": 0.5,
                        "bin_end": 0.6000000000000001,
                        "count": 0
                      },
                      {
                        "bin_start": 0.6000000000000001,
                        "bin_end": 0.7000000000000001,
                        "count": 0
                      },
                      {
                        "bin_start": 0.7000000000000001,
                        "bin_end": 0.8,
                        "count": 0
                      },
                      {
                        "bin_start": 0.8,
                        "bin_end": 0.9,
                        "count": 0
                      },
                      {
                        "bin_start": 0.9,
                        "bin_end": 1,
                        "count": 0
                      }
                    ]
                  }
                },
                {
                  "name": "d14",
                  "dtype": "float64",
                  "stats": {
                    "unique_count": 0,
                    "nan_count": 5,
                    "min": null,
                    "max": null,
                    "histogram": [
                      {
                        "bin_start": 0,
                        "bin_end": 0.1,
                        "count": 0
                      },
                      {
                        "bin_start": 0.1,
                        "bin_end": 0.2,
                        "count": 0
                      },
                      {
                        "bin_start": 0.2,
                        "bin_end": 0.30000000000000004,
                        "count": 0
                      },
                      {
                        "bin_start": 0.30000000000000004,
                        "bin_end": 0.4,
                        "count": 0
                      },
                      {
                        "bin_start": 0.4,
                        "bin_end": 0.5,
                        "count": 0
                      },
                      {
                        "bin_start": 0.5,
                        "bin_end": 0.6000000000000001,
                        "count": 0
                      },
                      {
                        "bin_start": 0.6000000000000001,
                        "bin_end": 0.7000000000000001,
                        "count": 0
                      },
                      {
                        "bin_start": 0.7000000000000001,
                        "bin_end": 0.8,
                        "count": 0
                      },
                      {
                        "bin_start": 0.8,
                        "bin_end": 0.9,
                        "count": 0
                      },
                      {
                        "bin_start": 0.9,
                        "bin_end": 1,
                        "count": 0
                      }
                    ]
                  }
                },
                {
                  "name": "d15",
                  "dtype": "float64",
                  "stats": {
                    "unique_count": 0,
                    "nan_count": 5,
                    "min": null,
                    "max": null,
                    "histogram": [
                      {
                        "bin_start": 0,
                        "bin_end": 0.1,
                        "count": 0
                      },
                      {
                        "bin_start": 0.1,
                        "bin_end": 0.2,
                        "count": 0
                      },
                      {
                        "bin_start": 0.2,
                        "bin_end": 0.30000000000000004,
                        "count": 0
                      },
                      {
                        "bin_start": 0.30000000000000004,
                        "bin_end": 0.4,
                        "count": 0
                      },
                      {
                        "bin_start": 0.4,
                        "bin_end": 0.5,
                        "count": 0
                      },
                      {
                        "bin_start": 0.5,
                        "bin_end": 0.6000000000000001,
                        "count": 0
                      },
                      {
                        "bin_start": 0.6000000000000001,
                        "bin_end": 0.7000000000000001,
                        "count": 0
                      },
                      {
                        "bin_start": 0.7000000000000001,
                        "bin_end": 0.8,
                        "count": 0
                      },
                      {
                        "bin_start": 0.8,
                        "bin_end": 0.9,
                        "count": 0
                      },
                      {
                        "bin_start": 0.9,
                        "bin_end": 1,
                        "count": 0
                      }
                    ]
                  }
                },
                {
                  "name": "d16",
                  "dtype": "float64",
                  "stats": {
                    "unique_count": 1,
                    "nan_count": 4,
                    "min": "31.1",
                    "max": "31.1",
                    "histogram": [
                      {
                        "bin_start": 30.6,
                        "bin_end": 30.700000000000003,
                        "count": 0
                      },
                      {
                        "bin_start": 30.700000000000003,
                        "bin_end": 30.8,
                        "count": 0
                      },
                      {
                        "bin_start": 30.8,
                        "bin_end": 30.900000000000002,
                        "count": 0
                      },
                      {
                        "bin_start": 30.900000000000002,
                        "bin_end": 31,
                        "count": 0
                      },
                      {
                        "bin_start": 31,
                        "bin_end": 31.1,
                        "count": 0
                      },
                      {
                        "bin_start": 31.1,
                        "bin_end": 31.200000000000003,
                        "count": 1
                      },
                      {
                        "bin_start": 31.200000000000003,
                        "bin_end": 31.3,
                        "count": 0
                      },
                      {
                        "bin_start": 31.3,
                        "bin_end": 31.400000000000002,
                        "count": 0
                      },
                      {
                        "bin_start": 31.400000000000002,
                        "bin_end": 31.5,
                        "count": 0
                      },
                      {
                        "bin_start": 31.5,
                        "bin_end": 31.6,
                        "count": 0
                      }
                    ]
                  }
                },
                {
                  "name": "d17",
                  "dtype": "float64",
                  "stats": {
                    "unique_count": 0,
                    "nan_count": 5,
                    "min": null,
                    "max": null,
                    "histogram": [
                      {
                        "bin_start": 0,
                        "bin_end": 0.1,
                        "count": 0
                      },
                      {
                        "bin_start": 0.1,
                        "bin_end": 0.2,
                        "count": 0
                      },
                      {
                        "bin_start": 0.2,
                        "bin_end": 0.30000000000000004,
                        "count": 0
                      },
                      {
                        "bin_start": 0.30000000000000004,
                        "bin_end": 0.4,
                        "count": 0
                      },
                      {
                        "bin_start": 0.4,
                        "bin_end": 0.5,
                        "count": 0
                      },
                      {
                        "bin_start": 0.5,
                        "bin_end": 0.6000000000000001,
                        "count": 0
                      },
                      {
                        "bin_start": 0.6000000000000001,
                        "bin_end": 0.7000000000000001,
                        "count": 0
                      },
                      {
                        "bin_start": 0.7000000000000001,
                        "bin_end": 0.8,
                        "count": 0
                      },
                      {
                        "bin_start": 0.8,
                        "bin_end": 0.9,
                        "count": 0
                      },
                      {
                        "bin_start": 0.9,
                        "bin_end": 1,
                        "count": 0
                      }
                    ]
                  }
                },
                {
                  "name": "d18",
                  "dtype": "float64",
                  "stats": {
                    "unique_count": 0,
                    "nan_count": 5,
                    "min": null,
                    "max": null,
                    "histogram": [
                      {
                        "bin_start": 0,
                        "bin_end": 0.1,
                        "count": 0
                      },
                      {
                        "bin_start": 0.1,
                        "bin_end": 0.2,
                        "count": 0
                      },
                      {
                        "bin_start": 0.2,
                        "bin_end": 0.30000000000000004,
                        "count": 0
                      },
                      {
                        "bin_start": 0.30000000000000004,
                        "bin_end": 0.4,
                        "count": 0
                      },
                      {
                        "bin_start": 0.4,
                        "bin_end": 0.5,
                        "count": 0
                      },
                      {
                        "bin_start": 0.5,
                        "bin_end": 0.6000000000000001,
                        "count": 0
                      },
                      {
                        "bin_start": 0.6000000000000001,
                        "bin_end": 0.7000000000000001,
                        "count": 0
                      },
                      {
                        "bin_start": 0.7000000000000001,
                        "bin_end": 0.8,
                        "count": 0
                      },
                      {
                        "bin_start": 0.8,
                        "bin_end": 0.9,
                        "count": 0
                      },
                      {
                        "bin_start": 0.9,
                        "bin_end": 1,
                        "count": 0
                      }
                    ]
                  }
                },
                {
                  "name": "d19",
                  "dtype": "float64",
                  "stats": {
                    "unique_count": 0,
                    "nan_count": 5,
                    "min": null,
                    "max": null,
                    "histogram": [
                      {
                        "bin_start": 0,
                        "bin_end": 0.1,
                        "count": 0
                      },
                      {
                        "bin_start": 0.1,
                        "bin_end": 0.2,
                        "count": 0
                      },
                      {
                        "bin_start": 0.2,
                        "bin_end": 0.30000000000000004,
                        "count": 0
                      },
                      {
                        "bin_start": 0.30000000000000004,
                        "bin_end": 0.4,
                        "count": 0
                      },
                      {
                        "bin_start": 0.4,
                        "bin_end": 0.5,
                        "count": 0
                      },
                      {
                        "bin_start": 0.5,
                        "bin_end": 0.6000000000000001,
                        "count": 0
                      },
                      {
                        "bin_start": 0.6000000000000001,
                        "bin_end": 0.7000000000000001,
                        "count": 0
                      },
                      {
                        "bin_start": 0.7000000000000001,
                        "bin_end": 0.8,
                        "count": 0
                      },
                      {
                        "bin_start": 0.8,
                        "bin_end": 0.9,
                        "count": 0
                      },
                      {
                        "bin_start": 0.9,
                        "bin_end": 1,
                        "count": 0
                      }
                    ]
                  }
                },
                {
                  "name": "d20",
                  "dtype": "float64",
                  "stats": {
                    "unique_count": 0,
                    "nan_count": 5,
                    "min": null,
                    "max": null,
                    "histogram": [
                      {
                        "bin_start": 0,
                        "bin_end": 0.1,
                        "count": 0
                      },
                      {
                        "bin_start": 0.1,
                        "bin_end": 0.2,
                        "count": 0
                      },
                      {
                        "bin_start": 0.2,
                        "bin_end": 0.30000000000000004,
                        "count": 0
                      },
                      {
                        "bin_start": 0.30000000000000004,
                        "bin_end": 0.4,
                        "count": 0
                      },
                      {
                        "bin_start": 0.4,
                        "bin_end": 0.5,
                        "count": 0
                      },
                      {
                        "bin_start": 0.5,
                        "bin_end": 0.6000000000000001,
                        "count": 0
                      },
                      {
                        "bin_start": 0.6000000000000001,
                        "bin_end": 0.7000000000000001,
                        "count": 0
                      },
                      {
                        "bin_start": 0.7000000000000001,
                        "bin_end": 0.8,
                        "count": 0
                      },
                      {
                        "bin_start": 0.8,
                        "bin_end": 0.9,
                        "count": 0
                      },
                      {
                        "bin_start": 0.9,
                        "bin_end": 1,
                        "count": 0
                      }
                    ]
                  }
                },
                {
                  "name": "d21",
                  "dtype": "float64",
                  "stats": {
                    "unique_count": 0,
                    "nan_count": 5,
                    "min": null,
                    "max": null,
                    "histogram": [
                      {
                        "bin_start": 0,
                        "bin_end": 0.1,
                        "count": 0
                      },
                      {
                        "bin_start": 0.1,
                        "bin_end": 0.2,
                        "count": 0
                      },
                      {
                        "bin_start": 0.2,
                        "bin_end": 0.30000000000000004,
                        "count": 0
                      },
                      {
                        "bin_start": 0.30000000000000004,
                        "bin_end": 0.4,
                        "count": 0
                      },
                      {
                        "bin_start": 0.4,
                        "bin_end": 0.5,
                        "count": 0
                      },
                      {
                        "bin_start": 0.5,
                        "bin_end": 0.6000000000000001,
                        "count": 0
                      },
                      {
                        "bin_start": 0.6000000000000001,
                        "bin_end": 0.7000000000000001,
                        "count": 0
                      },
                      {
                        "bin_start": 0.7000000000000001,
                        "bin_end": 0.8,
                        "count": 0
                      },
                      {
                        "bin_start": 0.8,
                        "bin_end": 0.9,
                        "count": 0
                      },
                      {
                        "bin_start": 0.9,
                        "bin_end": 1,
                        "count": 0
                      }
                    ]
                  }
                },
                {
                  "name": "d22",
                  "dtype": "float64",
                  "stats": {
                    "unique_count": 0,
                    "nan_count": 5,
                    "min": null,
                    "max": null,
                    "histogram": [
                      {
                        "bin_start": 0,
                        "bin_end": 0.1,
                        "count": 0
                      },
                      {
                        "bin_start": 0.1,
                        "bin_end": 0.2,
                        "count": 0
                      },
                      {
                        "bin_start": 0.2,
                        "bin_end": 0.30000000000000004,
                        "count": 0
                      },
                      {
                        "bin_start": 0.30000000000000004,
                        "bin_end": 0.4,
                        "count": 0
                      },
                      {
                        "bin_start": 0.4,
                        "bin_end": 0.5,
                        "count": 0
                      },
                      {
                        "bin_start": 0.5,
                        "bin_end": 0.6000000000000001,
                        "count": 0
                      },
                      {
                        "bin_start": 0.6000000000000001,
                        "bin_end": 0.7000000000000001,
                        "count": 0
                      },
                      {
                        "bin_start": 0.7000000000000001,
                        "bin_end": 0.8,
                        "count": 0
                      },
                      {
                        "bin_start": 0.8,
                        "bin_end": 0.9,
                        "count": 0
                      },
                      {
                        "bin_start": 0.9,
                        "bin_end": 1,
                        "count": 0
                      }
                    ]
                  }
                },
                {
                  "name": "d23",
                  "dtype": "float64",
                  "stats": {
                    "unique_count": 2,
                    "nan_count": 3,
                    "min": "10.7",
                    "max": "29.9",
                    "histogram": [
                      {
                        "bin_start": 10.7,
                        "bin_end": 12.62,
                        "count": 1
                      },
                      {
                        "bin_start": 12.62,
                        "bin_end": 14.54,
                        "count": 0
                      },
                      {
                        "bin_start": 14.54,
                        "bin_end": 16.46,
                        "count": 0
                      },
                      {
                        "bin_start": 16.46,
                        "bin_end": 18.38,
                        "count": 0
                      },
                      {
                        "bin_start": 18.38,
                        "bin_end": 20.299999999999997,
                        "count": 0
                      },
                      {
                        "bin_start": 20.299999999999997,
                        "bin_end": 22.22,
                        "count": 0
                      },
                      {
                        "bin_start": 22.22,
                        "bin_end": 24.14,
                        "count": 0
                      },
                      {
                        "bin_start": 24.14,
                        "bin_end": 26.06,
                        "count": 0
                      },
                      {
                        "bin_start": 26.06,
                        "bin_end": 27.98,
                        "count": 0
                      },
                      {
                        "bin_start": 27.98,
                        "bin_end": 29.9,
                        "count": 1
                      }
                    ]
                  }
                },
                {
                  "name": "d24",
                  "dtype": "float64",
                  "stats": {
                    "unique_count": 0,
                    "nan_count": 5,
                    "min": null,
                    "max": null,
                    "histogram": [
                      {
                        "bin_start": 0,
                        "bin_end": 0.1,
                        "count": 0
                      },
                      {
                        "bin_start": 0.1,
                        "bin_end": 0.2,
                        "count": 0
                      },
                      {
                        "bin_start": 0.2,
                        "bin_end": 0.30000000000000004,
                        "count": 0
                      },
                      {
                        "bin_start": 0.30000000000000004,
                        "bin_end": 0.4,
                        "count": 0
                      },
                      {
                        "bin_start": 0.4,
                        "bin_end": 0.5,
                        "count": 0
                      },
                      {
                        "bin_start": 0.5,
                        "bin_end": 0.6000000000000001,
                        "count": 0
                      },
                      {
                        "bin_start": 0.6000000000000001,
                        "bin_end": 0.7000000000000001,
                        "count": 0
                      },
                      {
                        "bin_start": 0.7000000000000001,
                        "bin_end": 0.8,
                        "count": 0
                      },
                      {
                        "bin_start": 0.8,
                        "bin_end": 0.9,
                        "count": 0
                      },
                      {
                        "bin_start": 0.9,
                        "bin_end": 1,
                        "count": 0
                      }
                    ]
                  }
                },
                {
                  "name": "d25",
                  "dtype": "float64",
                  "stats": {
                    "unique_count": 0,
                    "nan_count": 5,
                    "min": null,
                    "max": null,
                    "histogram": [
                      {
                        "bin_start": 0,
                        "bin_end": 0.1,
                        "count": 0
                      },
                      {
                        "bin_start": 0.1,
                        "bin_end": 0.2,
                        "count": 0
                      },
                      {
                        "bin_start": 0.2,
                        "bin_end": 0.30000000000000004,
                        "count": 0
                      },
                      {
                        "bin_start": 0.30000000000000004,
                        "bin_end": 0.4,
                        "count": 0
                      },
                      {
                        "bin_start": 0.4,
                        "bin_end": 0.5,
                        "count": 0
                      },
                      {
                        "bin_start": 0.5,
                        "bin_end": 0.6000000000000001,
                        "count": 0
                      },
                      {
                        "bin_start": 0.6000000000000001,
                        "bin_end": 0.7000000000000001,
                        "count": 0
                      },
                      {
                        "bin_start": 0.7000000000000001,
                        "bin_end": 0.8,
                        "count": 0
                      },
                      {
                        "bin_start": 0.8,
                        "bin_end": 0.9,
                        "count": 0
                      },
                      {
                        "bin_start": 0.9,
                        "bin_end": 1,
                        "count": 0
                      }
                    ]
                  }
                },
                {
                  "name": "d26",
                  "dtype": "float64",
                  "stats": {
                    "unique_count": 0,
                    "nan_count": 5,
                    "min": null,
                    "max": null,
                    "histogram": [
                      {
                        "bin_start": 0,
                        "bin_end": 0.1,
                        "count": 0
                      },
                      {
                        "bin_start": 0.1,
                        "bin_end": 0.2,
                        "count": 0
                      },
                      {
                        "bin_start": 0.2,
                        "bin_end": 0.30000000000000004,
                        "count": 0
                      },
                      {
                        "bin_start": 0.30000000000000004,
                        "bin_end": 0.4,
                        "count": 0
                      },
                      {
                        "bin_start": 0.4,
                        "bin_end": 0.5,
                        "count": 0
                      },
                      {
                        "bin_start": 0.5,
                        "bin_end": 0.6000000000000001,
                        "count": 0
                      },
                      {
                        "bin_start": 0.6000000000000001,
                        "bin_end": 0.7000000000000001,
                        "count": 0
                      },
                      {
                        "bin_start": 0.7000000000000001,
                        "bin_end": 0.8,
                        "count": 0
                      },
                      {
                        "bin_start": 0.8,
                        "bin_end": 0.9,
                        "count": 0
                      },
                      {
                        "bin_start": 0.9,
                        "bin_end": 1,
                        "count": 0
                      }
                    ]
                  }
                },
                {
                  "name": "d27",
                  "dtype": "float64",
                  "stats": {
                    "unique_count": 0,
                    "nan_count": 5,
                    "min": null,
                    "max": null,
                    "histogram": [
                      {
                        "bin_start": 0,
                        "bin_end": 0.1,
                        "count": 0
                      },
                      {
                        "bin_start": 0.1,
                        "bin_end": 0.2,
                        "count": 0
                      },
                      {
                        "bin_start": 0.2,
                        "bin_end": 0.30000000000000004,
                        "count": 0
                      },
                      {
                        "bin_start": 0.30000000000000004,
                        "bin_end": 0.4,
                        "count": 0
                      },
                      {
                        "bin_start": 0.4,
                        "bin_end": 0.5,
                        "count": 0
                      },
                      {
                        "bin_start": 0.5,
                        "bin_end": 0.6000000000000001,
                        "count": 0
                      },
                      {
                        "bin_start": 0.6000000000000001,
                        "bin_end": 0.7000000000000001,
                        "count": 0
                      },
                      {
                        "bin_start": 0.7000000000000001,
                        "bin_end": 0.8,
                        "count": 0
                      },
                      {
                        "bin_start": 0.8,
                        "bin_end": 0.9,
                        "count": 0
                      },
                      {
                        "bin_start": 0.9,
                        "bin_end": 1,
                        "count": 0
                      }
                    ]
                  }
                },
                {
                  "name": "d28",
                  "dtype": "float64",
                  "stats": {
                    "unique_count": 0,
                    "nan_count": 5,
                    "min": null,
                    "max": null,
                    "histogram": [
                      {
                        "bin_start": 0,
                        "bin_end": 0.1,
                        "count": 0
                      },
                      {
                        "bin_start": 0.1,
                        "bin_end": 0.2,
                        "count": 0
                      },
                      {
                        "bin_start": 0.2,
                        "bin_end": 0.30000000000000004,
                        "count": 0
                      },
                      {
                        "bin_start": 0.30000000000000004,
                        "bin_end": 0.4,
                        "count": 0
                      },
                      {
                        "bin_start": 0.4,
                        "bin_end": 0.5,
                        "count": 0
                      },
                      {
                        "bin_start": 0.5,
                        "bin_end": 0.6000000000000001,
                        "count": 0
                      },
                      {
                        "bin_start": 0.6000000000000001,
                        "bin_end": 0.7000000000000001,
                        "count": 0
                      },
                      {
                        "bin_start": 0.7000000000000001,
                        "bin_end": 0.8,
                        "count": 0
                      },
                      {
                        "bin_start": 0.8,
                        "bin_end": 0.9,
                        "count": 0
                      },
                      {
                        "bin_start": 0.9,
                        "bin_end": 1,
                        "count": 0
                      }
                    ]
                  }
                },
                {
                  "name": "d29",
                  "dtype": "float64",
                  "stats": {
                    "unique_count": 0,
                    "nan_count": 5,
                    "min": null,
                    "max": null,
                    "histogram": [
                      {
                        "bin_start": 0,
                        "bin_end": 0.1,
                        "count": 0
                      },
                      {
                        "bin_start": 0.1,
                        "bin_end": 0.2,
                        "count": 0
                      },
                      {
                        "bin_start": 0.2,
                        "bin_end": 0.30000000000000004,
                        "count": 0
                      },
                      {
                        "bin_start": 0.30000000000000004,
                        "bin_end": 0.4,
                        "count": 0
                      },
                      {
                        "bin_start": 0.4,
                        "bin_end": 0.5,
                        "count": 0
                      },
                      {
                        "bin_start": 0.5,
                        "bin_end": 0.6000000000000001,
                        "count": 0
                      },
                      {
                        "bin_start": 0.6000000000000001,
                        "bin_end": 0.7000000000000001,
                        "count": 0
                      },
                      {
                        "bin_start": 0.7000000000000001,
                        "bin_end": 0.8,
                        "count": 0
                      },
                      {
                        "bin_start": 0.8,
                        "bin_end": 0.9,
                        "count": 0
                      },
                      {
                        "bin_start": 0.9,
                        "bin_end": 1,
                        "count": 0
                      }
                    ]
                  }
                },
                {
                  "name": "d30",
                  "dtype": "float64",
                  "stats": {
                    "unique_count": 2,
                    "nan_count": 3,
                    "min": "14.5",
                    "max": "27.8",
                    "histogram": [
                      {
                        "bin_start": 14.5,
                        "bin_end": 15.83,
                        "count": 1
                      },
                      {
                        "bin_start": 15.83,
                        "bin_end": 17.16,
                        "count": 0
                      },
                      {
                        "bin_start": 17.16,
                        "bin_end": 18.490000000000002,
                        "count": 0
                      },
                      {
                        "bin_start": 18.490000000000002,
                        "bin_end": 19.82,
                        "count": 0
                      },
                      {
                        "bin_start": 19.82,
                        "bin_end": 21.15,
                        "count": 0
                      },
                      {
                        "bin_start": 21.15,
                        "bin_end": 22.48,
                        "count": 0
                      },
                      {
                        "bin_start": 22.48,
                        "bin_end": 23.810000000000002,
                        "count": 0
                      },
                      {
                        "bin_start": 23.810000000000002,
                        "bin_end": 25.14,
                        "count": 0
                      },
                      {
                        "bin_start": 25.14,
                        "bin_end": 26.47,
                        "count": 0
                      },
                      {
                        "bin_start": 26.47,
                        "bin_end": 27.8,
                        "count": 1
                      }
                    ]
                  }
                },
                {
                  "name": "d31",
                  "dtype": "float64",
                  "stats": {
                    "unique_count": 0,
                    "nan_count": 5,
                    "min": null,
                    "max": null,
                    "histogram": [
                      {
                        "bin_start": 0,
                        "bin_end": 0.1,
                        "count": 0
                      },
                      {
                        "bin_start": 0.1,
                        "bin_end": 0.2,
                        "count": 0
                      },
                      {
                        "bin_start": 0.2,
                        "bin_end": 0.30000000000000004,
                        "count": 0
                      },
                      {
                        "bin_start": 0.30000000000000004,
                        "bin_end": 0.4,
                        "count": 0
                      },
                      {
                        "bin_start": 0.4,
                        "bin_end": 0.5,
                        "count": 0
                      },
                      {
                        "bin_start": 0.5,
                        "bin_end": 0.6000000000000001,
                        "count": 0
                      },
                      {
                        "bin_start": 0.6000000000000001,
                        "bin_end": 0.7000000000000001,
                        "count": 0
                      },
                      {
                        "bin_start": 0.7000000000000001,
                        "bin_end": 0.8,
                        "count": 0
                      },
                      {
                        "bin_start": 0.8,
                        "bin_end": 0.9,
                        "count": 0
                      },
                      {
                        "bin_start": 0.9,
                        "bin_end": 1,
                        "count": 0
                      }
                    ]
                  }
                },
                {
                  "name": "_deepnote_index_column",
                  "dtype": "int64"
                }
              ],
              "rows_top": [
                {
                  "id": "MX17004",
                  "year": 2010,
                  "month": 1,
                  "element": "tmax",
                  "d1": "nan",
                  "d2": "nan",
                  "d3": "nan",
                  "d4": "nan",
                  "d5": "nan",
                  "d6": "nan",
                  "d7": "nan",
                  "d8": "nan",
                  "d9": "nan",
                  "d10": "nan",
                  "d11": "nan",
                  "d12": "nan",
                  "d13": "nan",
                  "d14": "nan",
                  "d15": "nan",
                  "d16": "nan",
                  "d17": "nan",
                  "d18": "nan",
                  "d19": "nan",
                  "d20": "nan",
                  "d21": "nan",
                  "d22": "nan",
                  "d23": "nan",
                  "d24": "nan",
                  "d25": "nan",
                  "d26": "nan",
                  "d27": "nan",
                  "d28": "nan",
                  "d29": "nan",
                  "d30": "27.8",
                  "d31": "nan",
                  "_deepnote_index_column": 0
                },
                {
                  "id": "MX17004",
                  "year": 2010,
                  "month": 1,
                  "element": "tmin",
                  "d1": "nan",
                  "d2": "nan",
                  "d3": "nan",
                  "d4": "nan",
                  "d5": "nan",
                  "d6": "nan",
                  "d7": "nan",
                  "d8": "nan",
                  "d9": "nan",
                  "d10": "nan",
                  "d11": "nan",
                  "d12": "nan",
                  "d13": "nan",
                  "d14": "nan",
                  "d15": "nan",
                  "d16": "nan",
                  "d17": "nan",
                  "d18": "nan",
                  "d19": "nan",
                  "d20": "nan",
                  "d21": "nan",
                  "d22": "nan",
                  "d23": "nan",
                  "d24": "nan",
                  "d25": "nan",
                  "d26": "nan",
                  "d27": "nan",
                  "d28": "nan",
                  "d29": "nan",
                  "d30": "14.5",
                  "d31": "nan",
                  "_deepnote_index_column": 1
                },
                {
                  "id": "MX17004",
                  "year": 2010,
                  "month": 2,
                  "element": "tmax",
                  "d1": "nan",
                  "d2": "27.3",
                  "d3": "24.1",
                  "d4": "nan",
                  "d5": "nan",
                  "d6": "nan",
                  "d7": "nan",
                  "d8": "nan",
                  "d9": "nan",
                  "d10": "nan",
                  "d11": "29.7",
                  "d12": "nan",
                  "d13": "nan",
                  "d14": "nan",
                  "d15": "nan",
                  "d16": "nan",
                  "d17": "nan",
                  "d18": "nan",
                  "d19": "nan",
                  "d20": "nan",
                  "d21": "nan",
                  "d22": "nan",
                  "d23": "29.9",
                  "d24": "nan",
                  "d25": "nan",
                  "d26": "nan",
                  "d27": "nan",
                  "d28": "nan",
                  "d29": "nan",
                  "d30": "nan",
                  "d31": "nan",
                  "_deepnote_index_column": 2
                },
                {
                  "id": "MX17004",
                  "year": 2010,
                  "month": 2,
                  "element": "tmin",
                  "d1": "nan",
                  "d2": "14.4",
                  "d3": "14.4",
                  "d4": "nan",
                  "d5": "nan",
                  "d6": "nan",
                  "d7": "nan",
                  "d8": "nan",
                  "d9": "nan",
                  "d10": "nan",
                  "d11": "13.4",
                  "d12": "nan",
                  "d13": "nan",
                  "d14": "nan",
                  "d15": "nan",
                  "d16": "nan",
                  "d17": "nan",
                  "d18": "nan",
                  "d19": "nan",
                  "d20": "nan",
                  "d21": "nan",
                  "d22": "nan",
                  "d23": "10.7",
                  "d24": "nan",
                  "d25": "nan",
                  "d26": "nan",
                  "d27": "nan",
                  "d28": "nan",
                  "d29": "nan",
                  "d30": "nan",
                  "d31": "nan",
                  "_deepnote_index_column": 3
                },
                {
                  "id": "MX17004",
                  "year": 2010,
                  "month": 3,
                  "element": "tmax",
                  "d1": "nan",
                  "d2": "nan",
                  "d3": "nan",
                  "d4": "nan",
                  "d5": "32.1",
                  "d6": "nan",
                  "d7": "nan",
                  "d8": "nan",
                  "d9": "nan",
                  "d10": "34.5",
                  "d11": "nan",
                  "d12": "nan",
                  "d13": "nan",
                  "d14": "nan",
                  "d15": "nan",
                  "d16": "31.1",
                  "d17": "nan",
                  "d18": "nan",
                  "d19": "nan",
                  "d20": "nan",
                  "d21": "nan",
                  "d22": "nan",
                  "d23": "nan",
                  "d24": "nan",
                  "d25": "nan",
                  "d26": "nan",
                  "d27": "nan",
                  "d28": "nan",
                  "d29": "nan",
                  "d30": "nan",
                  "d31": "nan",
                  "_deepnote_index_column": 4
                }
              ],
              "rows_bottom": null
            },
            "text/plain": "        id  year  month element  d1    d2    d3  d4    d5  d6  ...  d22   d23  \\\n0  MX17004  2010      1    tmax NaN   NaN   NaN NaN   NaN NaN  ...  NaN   NaN   \n1  MX17004  2010      1    tmin NaN   NaN   NaN NaN   NaN NaN  ...  NaN   NaN   \n2  MX17004  2010      2    tmax NaN  27.3  24.1 NaN   NaN NaN  ...  NaN  29.9   \n3  MX17004  2010      2    tmin NaN  14.4  14.4 NaN   NaN NaN  ...  NaN  10.7   \n4  MX17004  2010      3    tmax NaN   NaN   NaN NaN  32.1 NaN  ...  NaN   NaN   \n\n   d24  d25  d26  d27  d28  d29   d30  d31  \n0  NaN  NaN  NaN  NaN  NaN  NaN  27.8  NaN  \n1  NaN  NaN  NaN  NaN  NaN  NaN  14.5  NaN  \n2  NaN  NaN  NaN  NaN  NaN  NaN   NaN  NaN  \n3  NaN  NaN  NaN  NaN  NaN  NaN   NaN  NaN  \n4  NaN  NaN  NaN  NaN  NaN  NaN   NaN  NaN  \n\n[5 rows x 35 columns]",
            "text/html": "<div>\n<style scoped>\n    .dataframe tbody tr th:only-of-type {\n        vertical-align: middle;\n    }\n\n    .dataframe tbody tr th {\n        vertical-align: top;\n    }\n\n    .dataframe thead th {\n        text-align: right;\n    }\n</style>\n<table border=\"1\" class=\"dataframe\">\n  <thead>\n    <tr style=\"text-align: right;\">\n      <th></th>\n      <th>id</th>\n      <th>year</th>\n      <th>month</th>\n      <th>element</th>\n      <th>d1</th>\n      <th>d2</th>\n      <th>d3</th>\n      <th>d4</th>\n      <th>d5</th>\n      <th>d6</th>\n      <th>...</th>\n      <th>d22</th>\n      <th>d23</th>\n      <th>d24</th>\n      <th>d25</th>\n      <th>d26</th>\n      <th>d27</th>\n      <th>d28</th>\n      <th>d29</th>\n      <th>d30</th>\n      <th>d31</th>\n    </tr>\n  </thead>\n  <tbody>\n    <tr>\n      <th>0</th>\n      <td>MX17004</td>\n      <td>2010</td>\n      <td>1</td>\n      <td>tmax</td>\n      <td>NaN</td>\n      <td>NaN</td>\n      <td>NaN</td>\n      <td>NaN</td>\n      <td>NaN</td>\n      <td>NaN</td>\n      <td>...</td>\n      <td>NaN</td>\n      <td>NaN</td>\n      <td>NaN</td>\n      <td>NaN</td>\n      <td>NaN</td>\n      <td>NaN</td>\n      <td>NaN</td>\n      <td>NaN</td>\n      <td>27.8</td>\n      <td>NaN</td>\n    </tr>\n    <tr>\n      <th>1</th>\n      <td>MX17004</td>\n      <td>2010</td>\n      <td>1</td>\n      <td>tmin</td>\n      <td>NaN</td>\n      <td>NaN</td>\n      <td>NaN</td>\n      <td>NaN</td>\n      <td>NaN</td>\n      <td>NaN</td>\n      <td>...</td>\n      <td>NaN</td>\n      <td>NaN</td>\n      <td>NaN</td>\n      <td>NaN</td>\n      <td>NaN</td>\n      <td>NaN</td>\n      <td>NaN</td>\n      <td>NaN</td>\n      <td>14.5</td>\n      <td>NaN</td>\n    </tr>\n    <tr>\n      <th>2</th>\n      <td>MX17004</td>\n      <td>2010</td>\n      <td>2</td>\n      <td>tmax</td>\n      <td>NaN</td>\n      <td>27.3</td>\n      <td>24.1</td>\n      <td>NaN</td>\n      <td>NaN</td>\n      <td>NaN</td>\n      <td>...</td>\n      <td>NaN</td>\n      <td>29.9</td>\n      <td>NaN</td>\n      <td>NaN</td>\n      <td>NaN</td>\n      <td>NaN</td>\n      <td>NaN</td>\n      <td>NaN</td>\n      <td>NaN</td>\n      <td>NaN</td>\n    </tr>\n    <tr>\n      <th>3</th>\n      <td>MX17004</td>\n      <td>2010</td>\n      <td>2</td>\n      <td>tmin</td>\n      <td>NaN</td>\n      <td>14.4</td>\n      <td>14.4</td>\n      <td>NaN</td>\n      <td>NaN</td>\n      <td>NaN</td>\n      <td>...</td>\n      <td>NaN</td>\n      <td>10.7</td>\n      <td>NaN</td>\n      <td>NaN</td>\n      <td>NaN</td>\n      <td>NaN</td>\n      <td>NaN</td>\n      <td>NaN</td>\n      <td>NaN</td>\n      <td>NaN</td>\n    </tr>\n    <tr>\n      <th>4</th>\n      <td>MX17004</td>\n      <td>2010</td>\n      <td>3</td>\n      <td>tmax</td>\n      <td>NaN</td>\n      <td>NaN</td>\n      <td>NaN</td>\n      <td>NaN</td>\n      <td>32.1</td>\n      <td>NaN</td>\n      <td>...</td>\n      <td>NaN</td>\n      <td>NaN</td>\n      <td>NaN</td>\n      <td>NaN</td>\n      <td>NaN</td>\n      <td>NaN</td>\n      <td>NaN</td>\n      <td>NaN</td>\n      <td>NaN</td>\n      <td>NaN</td>\n    </tr>\n  </tbody>\n</table>\n<p>5 rows × 35 columns</p>\n</div>"
          },
          "metadata": {}
        }
      ],
      "execution_count": 56
    },
    {
      "cell_type": "code",
      "source": "#could have also used weather.melt (new change in pandas)\nwealther_melt = pd.melt(weather, id_vars=['id','year','month','element'],\n                                           var_name = 'day',\n                                           value_name = 'temp')",
      "metadata": {
        "tags": [],
        "cell_id": "00063-bd8dd35b-172e-4d7e-a9bc-8458a3976380",
        "deepnote_to_be_reexecuted": false,
        "source_hash": "8a553361",
        "execution_start": 1620248784611,
        "execution_millis": 2,
        "deepnote_cell_type": "code"
      },
      "outputs": [],
      "execution_count": 57
    },
    {
      "cell_type": "code",
      "source": "wealther_melt.head()",
      "metadata": {
        "tags": [],
        "cell_id": "00064-b842a31b-dc32-4de8-bfd4-5e5cc09b1e8a",
        "deepnote_to_be_reexecuted": false,
        "source_hash": "3c3f1307",
        "execution_start": 1620248784645,
        "execution_millis": 15,
        "deepnote_cell_type": "code"
      },
      "outputs": [
        {
          "output_type": "execute_result",
          "execution_count": 58,
          "data": {
            "application/vnd.deepnote.dataframe.v2+json": {
              "row_count": 5,
              "column_count": 6,
              "columns": [
                {
                  "name": "id",
                  "dtype": "object",
                  "stats": {
                    "unique_count": 1,
                    "nan_count": 0,
                    "categories": [
                      {
                        "name": "MX17004",
                        "count": 5
                      }
                    ]
                  }
                },
                {
                  "name": "year",
                  "dtype": "int64",
                  "stats": {
                    "unique_count": 1,
                    "nan_count": 0,
                    "min": "2010",
                    "max": "2010",
                    "histogram": [
                      {
                        "bin_start": 2009.5,
                        "bin_end": 2009.6,
                        "count": 0
                      },
                      {
                        "bin_start": 2009.6,
                        "bin_end": 2009.7,
                        "count": 0
                      },
                      {
                        "bin_start": 2009.7,
                        "bin_end": 2009.8,
                        "count": 0
                      },
                      {
                        "bin_start": 2009.8,
                        "bin_end": 2009.9,
                        "count": 0
                      },
                      {
                        "bin_start": 2009.9,
                        "bin_end": 2010,
                        "count": 0
                      },
                      {
                        "bin_start": 2010,
                        "bin_end": 2010.1,
                        "count": 5
                      },
                      {
                        "bin_start": 2010.1,
                        "bin_end": 2010.2,
                        "count": 0
                      },
                      {
                        "bin_start": 2010.2,
                        "bin_end": 2010.3,
                        "count": 0
                      },
                      {
                        "bin_start": 2010.3,
                        "bin_end": 2010.4,
                        "count": 0
                      },
                      {
                        "bin_start": 2010.4,
                        "bin_end": 2010.5,
                        "count": 0
                      }
                    ]
                  }
                },
                {
                  "name": "month",
                  "dtype": "int64",
                  "stats": {
                    "unique_count": 3,
                    "nan_count": 0,
                    "min": "1",
                    "max": "3",
                    "histogram": [
                      {
                        "bin_start": 1,
                        "bin_end": 1.2,
                        "count": 2
                      },
                      {
                        "bin_start": 1.2,
                        "bin_end": 1.4,
                        "count": 0
                      },
                      {
                        "bin_start": 1.4,
                        "bin_end": 1.6,
                        "count": 0
                      },
                      {
                        "bin_start": 1.6,
                        "bin_end": 1.8,
                        "count": 0
                      },
                      {
                        "bin_start": 1.8,
                        "bin_end": 2,
                        "count": 0
                      },
                      {
                        "bin_start": 2,
                        "bin_end": 2.2,
                        "count": 2
                      },
                      {
                        "bin_start": 2.2,
                        "bin_end": 2.4000000000000004,
                        "count": 0
                      },
                      {
                        "bin_start": 2.4000000000000004,
                        "bin_end": 2.6,
                        "count": 0
                      },
                      {
                        "bin_start": 2.6,
                        "bin_end": 2.8,
                        "count": 0
                      },
                      {
                        "bin_start": 2.8,
                        "bin_end": 3,
                        "count": 1
                      }
                    ]
                  }
                },
                {
                  "name": "element",
                  "dtype": "object",
                  "stats": {
                    "unique_count": 2,
                    "nan_count": 0,
                    "categories": [
                      {
                        "name": "tmax",
                        "count": 3
                      },
                      {
                        "name": "tmin",
                        "count": 2
                      }
                    ]
                  }
                },
                {
                  "name": "day",
                  "dtype": "object",
                  "stats": {
                    "unique_count": 1,
                    "nan_count": 0,
                    "categories": [
                      {
                        "name": "d1",
                        "count": 5
                      }
                    ]
                  }
                },
                {
                  "name": "temp",
                  "dtype": "float64",
                  "stats": {
                    "unique_count": 0,
                    "nan_count": 5,
                    "min": null,
                    "max": null,
                    "histogram": [
                      {
                        "bin_start": 0,
                        "bin_end": 0.1,
                        "count": 0
                      },
                      {
                        "bin_start": 0.1,
                        "bin_end": 0.2,
                        "count": 0
                      },
                      {
                        "bin_start": 0.2,
                        "bin_end": 0.30000000000000004,
                        "count": 0
                      },
                      {
                        "bin_start": 0.30000000000000004,
                        "bin_end": 0.4,
                        "count": 0
                      },
                      {
                        "bin_start": 0.4,
                        "bin_end": 0.5,
                        "count": 0
                      },
                      {
                        "bin_start": 0.5,
                        "bin_end": 0.6000000000000001,
                        "count": 0
                      },
                      {
                        "bin_start": 0.6000000000000001,
                        "bin_end": 0.7000000000000001,
                        "count": 0
                      },
                      {
                        "bin_start": 0.7000000000000001,
                        "bin_end": 0.8,
                        "count": 0
                      },
                      {
                        "bin_start": 0.8,
                        "bin_end": 0.9,
                        "count": 0
                      },
                      {
                        "bin_start": 0.9,
                        "bin_end": 1,
                        "count": 0
                      }
                    ]
                  }
                },
                {
                  "name": "_deepnote_index_column",
                  "dtype": "int64"
                }
              ],
              "rows_top": [
                {
                  "id": "MX17004",
                  "year": 2010,
                  "month": 1,
                  "element": "tmax",
                  "day": "d1",
                  "temp": "nan",
                  "_deepnote_index_column": 0
                },
                {
                  "id": "MX17004",
                  "year": 2010,
                  "month": 1,
                  "element": "tmin",
                  "day": "d1",
                  "temp": "nan",
                  "_deepnote_index_column": 1
                },
                {
                  "id": "MX17004",
                  "year": 2010,
                  "month": 2,
                  "element": "tmax",
                  "day": "d1",
                  "temp": "nan",
                  "_deepnote_index_column": 2
                },
                {
                  "id": "MX17004",
                  "year": 2010,
                  "month": 2,
                  "element": "tmin",
                  "day": "d1",
                  "temp": "nan",
                  "_deepnote_index_column": 3
                },
                {
                  "id": "MX17004",
                  "year": 2010,
                  "month": 3,
                  "element": "tmax",
                  "day": "d1",
                  "temp": "nan",
                  "_deepnote_index_column": 4
                }
              ],
              "rows_bottom": null
            },
            "text/plain": "        id  year  month element day  temp\n0  MX17004  2010      1    tmax  d1   NaN\n1  MX17004  2010      1    tmin  d1   NaN\n2  MX17004  2010      2    tmax  d1   NaN\n3  MX17004  2010      2    tmin  d1   NaN\n4  MX17004  2010      3    tmax  d1   NaN",
            "text/html": "<div>\n<style scoped>\n    .dataframe tbody tr th:only-of-type {\n        vertical-align: middle;\n    }\n\n    .dataframe tbody tr th {\n        vertical-align: top;\n    }\n\n    .dataframe thead th {\n        text-align: right;\n    }\n</style>\n<table border=\"1\" class=\"dataframe\">\n  <thead>\n    <tr style=\"text-align: right;\">\n      <th></th>\n      <th>id</th>\n      <th>year</th>\n      <th>month</th>\n      <th>element</th>\n      <th>day</th>\n      <th>temp</th>\n    </tr>\n  </thead>\n  <tbody>\n    <tr>\n      <th>0</th>\n      <td>MX17004</td>\n      <td>2010</td>\n      <td>1</td>\n      <td>tmax</td>\n      <td>d1</td>\n      <td>NaN</td>\n    </tr>\n    <tr>\n      <th>1</th>\n      <td>MX17004</td>\n      <td>2010</td>\n      <td>1</td>\n      <td>tmin</td>\n      <td>d1</td>\n      <td>NaN</td>\n    </tr>\n    <tr>\n      <th>2</th>\n      <td>MX17004</td>\n      <td>2010</td>\n      <td>2</td>\n      <td>tmax</td>\n      <td>d1</td>\n      <td>NaN</td>\n    </tr>\n    <tr>\n      <th>3</th>\n      <td>MX17004</td>\n      <td>2010</td>\n      <td>2</td>\n      <td>tmin</td>\n      <td>d1</td>\n      <td>NaN</td>\n    </tr>\n    <tr>\n      <th>4</th>\n      <td>MX17004</td>\n      <td>2010</td>\n      <td>3</td>\n      <td>tmax</td>\n      <td>d1</td>\n      <td>NaN</td>\n    </tr>\n  </tbody>\n</table>\n</div>"
          },
          "metadata": {}
        }
      ],
      "execution_count": 58
    },
    {
      "cell_type": "markdown",
      "source": "### Pandas' pivot can't handle duplicate values. \n### Pandas' pivot table lets you specify aggregate functions.",
      "metadata": {
        "tags": [],
        "cell_id": "00065-ea22eeec-1cda-4814-8f38-d3a8de79ee01",
        "deepnote_cell_type": "markdown"
      }
    },
    {
      "cell_type": "code",
      "source": "weather_tidy = wealther_melt.pivot_table(\n    index=['id','year','month','day'], #columns you want to leave alone\n    columns='element', #look at element column and create new column \n    values='temp'\n)",
      "metadata": {
        "tags": [],
        "cell_id": "00065-09b4ebc9-3ff1-4d20-8116-c5d26657a1bb",
        "deepnote_to_be_reexecuted": false,
        "source_hash": "cc103d0c",
        "execution_start": 1620248784648,
        "execution_millis": 30,
        "deepnote_cell_type": "code"
      },
      "outputs": [],
      "execution_count": 59
    },
    {
      "cell_type": "code",
      "source": "weather_tidy",
      "metadata": {
        "tags": [],
        "cell_id": "00067-5bcf43c5-b60a-4fd5-9390-b7009314b381",
        "deepnote_to_be_reexecuted": false,
        "source_hash": "bee3509c",
        "execution_start": 1620248784700,
        "execution_millis": 20,
        "deepnote_cell_type": "code"
      },
      "outputs": [
        {
          "output_type": "execute_result",
          "execution_count": 60,
          "data": {
            "application/vnd.deepnote.dataframe.v2+json": {
              "row_count": 33,
              "column_count": 2,
              "columns": [
                {
                  "name": "tmax",
                  "dtype": "float64",
                  "stats": {
                    "unique_count": 27,
                    "nan_count": 0,
                    "min": "24.1",
                    "max": "36.3",
                    "histogram": [
                      {
                        "bin_start": 24.1,
                        "bin_end": 25.32,
                        "count": 1
                      },
                      {
                        "bin_start": 25.32,
                        "bin_end": 26.54,
                        "count": 3
                      },
                      {
                        "bin_start": 26.54,
                        "bin_end": 27.759999999999998,
                        "count": 4
                      },
                      {
                        "bin_start": 27.759999999999998,
                        "bin_end": 28.98,
                        "count": 8
                      },
                      {
                        "bin_start": 28.98,
                        "bin_end": 30.2,
                        "count": 10
                      },
                      {
                        "bin_start": 30.2,
                        "bin_end": 31.419999999999998,
                        "count": 3
                      },
                      {
                        "bin_start": 31.419999999999998,
                        "bin_end": 32.64,
                        "count": 1
                      },
                      {
                        "bin_start": 32.64,
                        "bin_end": 33.86,
                        "count": 1
                      },
                      {
                        "bin_start": 33.86,
                        "bin_end": 35.08,
                        "count": 1
                      },
                      {
                        "bin_start": 35.08,
                        "bin_end": 36.3,
                        "count": 1
                      }
                    ]
                  }
                },
                {
                  "name": "tmin",
                  "dtype": "float64",
                  "stats": {
                    "unique_count": 27,
                    "nan_count": 0,
                    "min": "7.9",
                    "max": "18.2",
                    "histogram": [
                      {
                        "bin_start": 7.9,
                        "bin_end": 8.93,
                        "count": 1
                      },
                      {
                        "bin_start": 8.93,
                        "bin_end": 9.96,
                        "count": 0
                      },
                      {
                        "bin_start": 9.96,
                        "bin_end": 10.99,
                        "count": 3
                      },
                      {
                        "bin_start": 10.99,
                        "bin_end": 12.02,
                        "count": 1
                      },
                      {
                        "bin_start": 12.02,
                        "bin_end": 13.049999999999999,
                        "count": 3
                      },
                      {
                        "bin_start": 13.049999999999999,
                        "bin_end": 14.079999999999998,
                        "count": 3
                      },
                      {
                        "bin_start": 14.079999999999998,
                        "bin_end": 15.11,
                        "count": 7
                      },
                      {
                        "bin_start": 15.11,
                        "bin_end": 16.14,
                        "count": 4
                      },
                      {
                        "bin_start": 16.14,
                        "bin_end": 17.169999999999998,
                        "count": 5
                      },
                      {
                        "bin_start": 17.169999999999998,
                        "bin_end": 18.2,
                        "count": 6
                      }
                    ]
                  }
                },
                {
                  "name": "_deepnote_index_column",
                  "dtype": "object"
                }
              ],
              "rows_top": [
                {
                  "tmax": 27.8,
                  "tmin": 14.5,
                  "_deepnote_index_column": "('MX17004', 2010, 1, 'd30')"
                },
                {
                  "tmax": 29.7,
                  "tmin": 13.4,
                  "_deepnote_index_column": "('MX17004', 2010, 2, 'd11')"
                },
                {
                  "tmax": 27.3,
                  "tmin": 14.4,
                  "_deepnote_index_column": "('MX17004', 2010, 2, 'd2')"
                },
                {
                  "tmax": 29.9,
                  "tmin": 10.7,
                  "_deepnote_index_column": "('MX17004', 2010, 2, 'd23')"
                },
                {
                  "tmax": 24.1,
                  "tmin": 14.4,
                  "_deepnote_index_column": "('MX17004', 2010, 2, 'd3')"
                },
                {
                  "tmax": 34.5,
                  "tmin": 16.8,
                  "_deepnote_index_column": "('MX17004', 2010, 3, 'd10')"
                },
                {
                  "tmax": 31.1,
                  "tmin": 17.6,
                  "_deepnote_index_column": "('MX17004', 2010, 3, 'd16')"
                },
                {
                  "tmax": 32.1,
                  "tmin": 14.2,
                  "_deepnote_index_column": "('MX17004', 2010, 3, 'd5')"
                },
                {
                  "tmax": 36.3,
                  "tmin": 16.7,
                  "_deepnote_index_column": "('MX17004', 2010, 4, 'd27')"
                },
                {
                  "tmax": 33.2,
                  "tmin": 18.2,
                  "_deepnote_index_column": "('MX17004', 2010, 5, 'd27')"
                },
                {
                  "tmax": 28,
                  "tmin": 17.5,
                  "_deepnote_index_column": "('MX17004', 2010, 6, 'd17')"
                },
                {
                  "tmax": 30.1,
                  "tmin": 18,
                  "_deepnote_index_column": "('MX17004', 2010, 6, 'd29')"
                },
                {
                  "tmax": 28.6,
                  "tmin": 17.5,
                  "_deepnote_index_column": "('MX17004', 2010, 7, 'd3')"
                },
                {
                  "tmax": 29.9,
                  "tmin": 16.5,
                  "_deepnote_index_column": "('MX17004', 2010, 7, 'd14')"
                },
                {
                  "tmax": 26.4,
                  "tmin": 15,
                  "_deepnote_index_column": "('MX17004', 2010, 8, 'd23')"
                },
                {
                  "tmax": 29.6,
                  "tmin": 15.8,
                  "_deepnote_index_column": "('MX17004', 2010, 8, 'd5')"
                },
                {
                  "tmax": 28,
                  "tmin": 15.3,
                  "_deepnote_index_column": "('MX17004', 2010, 8, 'd29')"
                },
                {
                  "tmax": 29.8,
                  "tmin": 16.5,
                  "_deepnote_index_column": "('MX17004', 2010, 8, 'd13')"
                },
                {
                  "tmax": 29.7,
                  "tmin": 15.6,
                  "_deepnote_index_column": "('MX17004', 2010, 8, 'd25')"
                },
                {
                  "tmax": 25.4,
                  "tmin": 15.4,
                  "_deepnote_index_column": "('MX17004', 2010, 8, 'd31')"
                },
                {
                  "tmax": 29,
                  "tmin": 17.3,
                  "_deepnote_index_column": "('MX17004', 2010, 8, 'd8')"
                },
                {
                  "tmax": 27,
                  "tmin": 14,
                  "_deepnote_index_column": "('MX17004', 2010, 10, 'd5')"
                },
                {
                  "tmax": 29.5,
                  "tmin": 13,
                  "_deepnote_index_column": "('MX17004', 2010, 10, 'd14')"
                },
                {
                  "tmax": 28.7,
                  "tmin": 10.5,
                  "_deepnote_index_column": "('MX17004', 2010, 10, 'd15')"
                },
                {
                  "tmax": 31.2,
                  "tmin": 15,
                  "_deepnote_index_column": "('MX17004', 2010, 10, 'd28')"
                },
                {
                  "tmax": 28.1,
                  "tmin": 12.9,
                  "_deepnote_index_column": "('MX17004', 2010, 10, 'd7')"
                },
                {
                  "tmax": 31.3,
                  "tmin": 16.3,
                  "_deepnote_index_column": "('MX17004', 2010, 11, 'd2')"
                },
                {
                  "tmax": 26.3,
                  "tmin": 7.9,
                  "_deepnote_index_column": "('MX17004', 2010, 11, 'd5')"
                },
                {
                  "tmax": 27.7,
                  "tmin": 14.2,
                  "_deepnote_index_column": "('MX17004', 2010, 11, 'd27')"
                },
                {
                  "tmax": 28.1,
                  "tmin": 12.1,
                  "_deepnote_index_column": "('MX17004', 2010, 11, 'd26')"
                },
                {
                  "tmax": 27.2,
                  "tmin": 12,
                  "_deepnote_index_column": "('MX17004', 2010, 11, 'd4')"
                },
                {
                  "tmax": 29.9,
                  "tmin": 13.8,
                  "_deepnote_index_column": "('MX17004', 2010, 12, 'd1')"
                },
                {
                  "tmax": 27.8,
                  "tmin": 10.5,
                  "_deepnote_index_column": "('MX17004', 2010, 12, 'd6')"
                }
              ],
              "rows_bottom": null
            },
            "text/plain": "element                 tmax  tmin\nid      year month day            \nMX17004 2010 1     d30  27.8  14.5\n             2     d11  29.7  13.4\n                   d2   27.3  14.4\n                   d23  29.9  10.7\n                   d3   24.1  14.4\n             3     d10  34.5  16.8\n                   d16  31.1  17.6\n                   d5   32.1  14.2\n             4     d27  36.3  16.7\n             5     d27  33.2  18.2\n             6     d17  28.0  17.5\n                   d29  30.1  18.0\n             7     d3   28.6  17.5\n                   d14  29.9  16.5\n             8     d23  26.4  15.0\n                   d5   29.6  15.8\n                   d29  28.0  15.3\n                   d13  29.8  16.5\n                   d25  29.7  15.6\n                   d31  25.4  15.4\n                   d8   29.0  17.3\n             10    d5   27.0  14.0\n                   d14  29.5  13.0\n                   d15  28.7  10.5\n                   d28  31.2  15.0\n                   d7   28.1  12.9\n             11    d2   31.3  16.3\n                   d5   26.3   7.9\n                   d27  27.7  14.2\n                   d26  28.1  12.1\n                   d4   27.2  12.0\n             12    d1   29.9  13.8\n                   d6   27.8  10.5",
            "text/html": "<div>\n<style scoped>\n    .dataframe tbody tr th:only-of-type {\n        vertical-align: middle;\n    }\n\n    .dataframe tbody tr th {\n        vertical-align: top;\n    }\n\n    .dataframe thead th {\n        text-align: right;\n    }\n</style>\n<table border=\"1\" class=\"dataframe\">\n  <thead>\n    <tr style=\"text-align: right;\">\n      <th></th>\n      <th></th>\n      <th></th>\n      <th>element</th>\n      <th>tmax</th>\n      <th>tmin</th>\n    </tr>\n    <tr>\n      <th>id</th>\n      <th>year</th>\n      <th>month</th>\n      <th>day</th>\n      <th></th>\n      <th></th>\n    </tr>\n  </thead>\n  <tbody>\n    <tr>\n      <th rowspan=\"33\" valign=\"top\">MX17004</th>\n      <th rowspan=\"33\" valign=\"top\">2010</th>\n      <th>1</th>\n      <th>d30</th>\n      <td>27.8</td>\n      <td>14.5</td>\n    </tr>\n    <tr>\n      <th rowspan=\"4\" valign=\"top\">2</th>\n      <th>d11</th>\n      <td>29.7</td>\n      <td>13.4</td>\n    </tr>\n    <tr>\n      <th>d2</th>\n      <td>27.3</td>\n      <td>14.4</td>\n    </tr>\n    <tr>\n      <th>d23</th>\n      <td>29.9</td>\n      <td>10.7</td>\n    </tr>\n    <tr>\n      <th>d3</th>\n      <td>24.1</td>\n      <td>14.4</td>\n    </tr>\n    <tr>\n      <th rowspan=\"3\" valign=\"top\">3</th>\n      <th>d10</th>\n      <td>34.5</td>\n      <td>16.8</td>\n    </tr>\n    <tr>\n      <th>d16</th>\n      <td>31.1</td>\n      <td>17.6</td>\n    </tr>\n    <tr>\n      <th>d5</th>\n      <td>32.1</td>\n      <td>14.2</td>\n    </tr>\n    <tr>\n      <th>4</th>\n      <th>d27</th>\n      <td>36.3</td>\n      <td>16.7</td>\n    </tr>\n    <tr>\n      <th>5</th>\n      <th>d27</th>\n      <td>33.2</td>\n      <td>18.2</td>\n    </tr>\n    <tr>\n      <th rowspan=\"2\" valign=\"top\">6</th>\n      <th>d17</th>\n      <td>28.0</td>\n      <td>17.5</td>\n    </tr>\n    <tr>\n      <th>d29</th>\n      <td>30.1</td>\n      <td>18.0</td>\n    </tr>\n    <tr>\n      <th rowspan=\"2\" valign=\"top\">7</th>\n      <th>d3</th>\n      <td>28.6</td>\n      <td>17.5</td>\n    </tr>\n    <tr>\n      <th>d14</th>\n      <td>29.9</td>\n      <td>16.5</td>\n    </tr>\n    <tr>\n      <th rowspan=\"7\" valign=\"top\">8</th>\n      <th>d23</th>\n      <td>26.4</td>\n      <td>15.0</td>\n    </tr>\n    <tr>\n      <th>d5</th>\n      <td>29.6</td>\n      <td>15.8</td>\n    </tr>\n    <tr>\n      <th>d29</th>\n      <td>28.0</td>\n      <td>15.3</td>\n    </tr>\n    <tr>\n      <th>d13</th>\n      <td>29.8</td>\n      <td>16.5</td>\n    </tr>\n    <tr>\n      <th>d25</th>\n      <td>29.7</td>\n      <td>15.6</td>\n    </tr>\n    <tr>\n      <th>d31</th>\n      <td>25.4</td>\n      <td>15.4</td>\n    </tr>\n    <tr>\n      <th>d8</th>\n      <td>29.0</td>\n      <td>17.3</td>\n    </tr>\n    <tr>\n      <th rowspan=\"5\" valign=\"top\">10</th>\n      <th>d5</th>\n      <td>27.0</td>\n      <td>14.0</td>\n    </tr>\n    <tr>\n      <th>d14</th>\n      <td>29.5</td>\n      <td>13.0</td>\n    </tr>\n    <tr>\n      <th>d15</th>\n      <td>28.7</td>\n      <td>10.5</td>\n    </tr>\n    <tr>\n      <th>d28</th>\n      <td>31.2</td>\n      <td>15.0</td>\n    </tr>\n    <tr>\n      <th>d7</th>\n      <td>28.1</td>\n      <td>12.9</td>\n    </tr>\n    <tr>\n      <th rowspan=\"5\" valign=\"top\">11</th>\n      <th>d2</th>\n      <td>31.3</td>\n      <td>16.3</td>\n    </tr>\n    <tr>\n      <th>d5</th>\n      <td>26.3</td>\n      <td>7.9</td>\n    </tr>\n    <tr>\n      <th>d27</th>\n      <td>27.7</td>\n      <td>14.2</td>\n    </tr>\n    <tr>\n      <th>d26</th>\n      <td>28.1</td>\n      <td>12.1</td>\n    </tr>\n    <tr>\n      <th>d4</th>\n      <td>27.2</td>\n      <td>12.0</td>\n    </tr>\n    <tr>\n      <th rowspan=\"2\" valign=\"top\">12</th>\n      <th>d1</th>\n      <td>29.9</td>\n      <td>13.8</td>\n    </tr>\n    <tr>\n      <th>d6</th>\n      <td>27.8</td>\n      <td>10.5</td>\n    </tr>\n  </tbody>\n</table>\n</div>"
          },
          "metadata": {}
        }
      ],
      "execution_count": 60
    },
    {
      "cell_type": "code",
      "source": "weather_tidy.reset_index() #flattens dataframe so it looks better",
      "metadata": {
        "tags": [],
        "cell_id": "00068-961dd6a9-57ce-4821-8451-63ccb3124cdd",
        "deepnote_to_be_reexecuted": false,
        "source_hash": "c3f8d01",
        "execution_start": 1620248784753,
        "execution_millis": 17,
        "deepnote_cell_type": "code"
      },
      "outputs": [
        {
          "output_type": "execute_result",
          "execution_count": 61,
          "data": {
            "application/vnd.deepnote.dataframe.v2+json": {
              "row_count": 33,
              "column_count": 6,
              "columns": [
                {
                  "name": "id",
                  "dtype": "object",
                  "stats": {
                    "unique_count": 1,
                    "nan_count": 0,
                    "categories": [
                      {
                        "name": "MX17004",
                        "count": 33
                      }
                    ]
                  }
                },
                {
                  "name": "year",
                  "dtype": "int64",
                  "stats": {
                    "unique_count": 1,
                    "nan_count": 0,
                    "min": "2010",
                    "max": "2010",
                    "histogram": [
                      {
                        "bin_start": 2009.5,
                        "bin_end": 2009.6,
                        "count": 0
                      },
                      {
                        "bin_start": 2009.6,
                        "bin_end": 2009.7,
                        "count": 0
                      },
                      {
                        "bin_start": 2009.7,
                        "bin_end": 2009.8,
                        "count": 0
                      },
                      {
                        "bin_start": 2009.8,
                        "bin_end": 2009.9,
                        "count": 0
                      },
                      {
                        "bin_start": 2009.9,
                        "bin_end": 2010,
                        "count": 0
                      },
                      {
                        "bin_start": 2010,
                        "bin_end": 2010.1,
                        "count": 33
                      },
                      {
                        "bin_start": 2010.1,
                        "bin_end": 2010.2,
                        "count": 0
                      },
                      {
                        "bin_start": 2010.2,
                        "bin_end": 2010.3,
                        "count": 0
                      },
                      {
                        "bin_start": 2010.3,
                        "bin_end": 2010.4,
                        "count": 0
                      },
                      {
                        "bin_start": 2010.4,
                        "bin_end": 2010.5,
                        "count": 0
                      }
                    ]
                  }
                },
                {
                  "name": "month",
                  "dtype": "int64",
                  "stats": {
                    "unique_count": 11,
                    "nan_count": 0,
                    "min": "1",
                    "max": "12",
                    "histogram": [
                      {
                        "bin_start": 1,
                        "bin_end": 2.1,
                        "count": 5
                      },
                      {
                        "bin_start": 2.1,
                        "bin_end": 3.2,
                        "count": 3
                      },
                      {
                        "bin_start": 3.2,
                        "bin_end": 4.300000000000001,
                        "count": 1
                      },
                      {
                        "bin_start": 4.300000000000001,
                        "bin_end": 5.4,
                        "count": 1
                      },
                      {
                        "bin_start": 5.4,
                        "bin_end": 6.5,
                        "count": 2
                      },
                      {
                        "bin_start": 6.5,
                        "bin_end": 7.6000000000000005,
                        "count": 2
                      },
                      {
                        "bin_start": 7.6000000000000005,
                        "bin_end": 8.700000000000001,
                        "count": 7
                      },
                      {
                        "bin_start": 8.700000000000001,
                        "bin_end": 9.8,
                        "count": 0
                      },
                      {
                        "bin_start": 9.8,
                        "bin_end": 10.9,
                        "count": 5
                      },
                      {
                        "bin_start": 10.9,
                        "bin_end": 12,
                        "count": 7
                      }
                    ]
                  }
                },
                {
                  "name": "day",
                  "dtype": "object",
                  "stats": {
                    "unique_count": 23,
                    "nan_count": 0,
                    "categories": [
                      {
                        "name": "d5",
                        "count": 4
                      },
                      {
                        "name": "d27",
                        "count": 3
                      },
                      {
                        "name": "21 others",
                        "count": 26
                      }
                    ]
                  }
                },
                {
                  "name": "tmax",
                  "dtype": "float64",
                  "stats": {
                    "unique_count": 27,
                    "nan_count": 0,
                    "min": "24.1",
                    "max": "36.3",
                    "histogram": [
                      {
                        "bin_start": 24.1,
                        "bin_end": 25.32,
                        "count": 1
                      },
                      {
                        "bin_start": 25.32,
                        "bin_end": 26.54,
                        "count": 3
                      },
                      {
                        "bin_start": 26.54,
                        "bin_end": 27.759999999999998,
                        "count": 4
                      },
                      {
                        "bin_start": 27.759999999999998,
                        "bin_end": 28.98,
                        "count": 8
                      },
                      {
                        "bin_start": 28.98,
                        "bin_end": 30.2,
                        "count": 10
                      },
                      {
                        "bin_start": 30.2,
                        "bin_end": 31.419999999999998,
                        "count": 3
                      },
                      {
                        "bin_start": 31.419999999999998,
                        "bin_end": 32.64,
                        "count": 1
                      },
                      {
                        "bin_start": 32.64,
                        "bin_end": 33.86,
                        "count": 1
                      },
                      {
                        "bin_start": 33.86,
                        "bin_end": 35.08,
                        "count": 1
                      },
                      {
                        "bin_start": 35.08,
                        "bin_end": 36.3,
                        "count": 1
                      }
                    ]
                  }
                },
                {
                  "name": "tmin",
                  "dtype": "float64",
                  "stats": {
                    "unique_count": 27,
                    "nan_count": 0,
                    "min": "7.9",
                    "max": "18.2",
                    "histogram": [
                      {
                        "bin_start": 7.9,
                        "bin_end": 8.93,
                        "count": 1
                      },
                      {
                        "bin_start": 8.93,
                        "bin_end": 9.96,
                        "count": 0
                      },
                      {
                        "bin_start": 9.96,
                        "bin_end": 10.99,
                        "count": 3
                      },
                      {
                        "bin_start": 10.99,
                        "bin_end": 12.02,
                        "count": 1
                      },
                      {
                        "bin_start": 12.02,
                        "bin_end": 13.049999999999999,
                        "count": 3
                      },
                      {
                        "bin_start": 13.049999999999999,
                        "bin_end": 14.079999999999998,
                        "count": 3
                      },
                      {
                        "bin_start": 14.079999999999998,
                        "bin_end": 15.11,
                        "count": 7
                      },
                      {
                        "bin_start": 15.11,
                        "bin_end": 16.14,
                        "count": 4
                      },
                      {
                        "bin_start": 16.14,
                        "bin_end": 17.169999999999998,
                        "count": 5
                      },
                      {
                        "bin_start": 17.169999999999998,
                        "bin_end": 18.2,
                        "count": 6
                      }
                    ]
                  }
                },
                {
                  "name": "_deepnote_index_column",
                  "dtype": "int64"
                }
              ],
              "rows_top": [
                {
                  "id": "MX17004",
                  "year": 2010,
                  "month": 1,
                  "day": "d30",
                  "tmax": 27.8,
                  "tmin": 14.5,
                  "_deepnote_index_column": 0
                },
                {
                  "id": "MX17004",
                  "year": 2010,
                  "month": 2,
                  "day": "d11",
                  "tmax": 29.7,
                  "tmin": 13.4,
                  "_deepnote_index_column": 1
                },
                {
                  "id": "MX17004",
                  "year": 2010,
                  "month": 2,
                  "day": "d2",
                  "tmax": 27.3,
                  "tmin": 14.4,
                  "_deepnote_index_column": 2
                },
                {
                  "id": "MX17004",
                  "year": 2010,
                  "month": 2,
                  "day": "d23",
                  "tmax": 29.9,
                  "tmin": 10.7,
                  "_deepnote_index_column": 3
                },
                {
                  "id": "MX17004",
                  "year": 2010,
                  "month": 2,
                  "day": "d3",
                  "tmax": 24.1,
                  "tmin": 14.4,
                  "_deepnote_index_column": 4
                },
                {
                  "id": "MX17004",
                  "year": 2010,
                  "month": 3,
                  "day": "d10",
                  "tmax": 34.5,
                  "tmin": 16.8,
                  "_deepnote_index_column": 5
                },
                {
                  "id": "MX17004",
                  "year": 2010,
                  "month": 3,
                  "day": "d16",
                  "tmax": 31.1,
                  "tmin": 17.6,
                  "_deepnote_index_column": 6
                },
                {
                  "id": "MX17004",
                  "year": 2010,
                  "month": 3,
                  "day": "d5",
                  "tmax": 32.1,
                  "tmin": 14.2,
                  "_deepnote_index_column": 7
                },
                {
                  "id": "MX17004",
                  "year": 2010,
                  "month": 4,
                  "day": "d27",
                  "tmax": 36.3,
                  "tmin": 16.7,
                  "_deepnote_index_column": 8
                },
                {
                  "id": "MX17004",
                  "year": 2010,
                  "month": 5,
                  "day": "d27",
                  "tmax": 33.2,
                  "tmin": 18.2,
                  "_deepnote_index_column": 9
                },
                {
                  "id": "MX17004",
                  "year": 2010,
                  "month": 6,
                  "day": "d17",
                  "tmax": 28,
                  "tmin": 17.5,
                  "_deepnote_index_column": 10
                },
                {
                  "id": "MX17004",
                  "year": 2010,
                  "month": 6,
                  "day": "d29",
                  "tmax": 30.1,
                  "tmin": 18,
                  "_deepnote_index_column": 11
                },
                {
                  "id": "MX17004",
                  "year": 2010,
                  "month": 7,
                  "day": "d3",
                  "tmax": 28.6,
                  "tmin": 17.5,
                  "_deepnote_index_column": 12
                },
                {
                  "id": "MX17004",
                  "year": 2010,
                  "month": 7,
                  "day": "d14",
                  "tmax": 29.9,
                  "tmin": 16.5,
                  "_deepnote_index_column": 13
                },
                {
                  "id": "MX17004",
                  "year": 2010,
                  "month": 8,
                  "day": "d23",
                  "tmax": 26.4,
                  "tmin": 15,
                  "_deepnote_index_column": 14
                },
                {
                  "id": "MX17004",
                  "year": 2010,
                  "month": 8,
                  "day": "d5",
                  "tmax": 29.6,
                  "tmin": 15.8,
                  "_deepnote_index_column": 15
                },
                {
                  "id": "MX17004",
                  "year": 2010,
                  "month": 8,
                  "day": "d29",
                  "tmax": 28,
                  "tmin": 15.3,
                  "_deepnote_index_column": 16
                },
                {
                  "id": "MX17004",
                  "year": 2010,
                  "month": 8,
                  "day": "d13",
                  "tmax": 29.8,
                  "tmin": 16.5,
                  "_deepnote_index_column": 17
                },
                {
                  "id": "MX17004",
                  "year": 2010,
                  "month": 8,
                  "day": "d25",
                  "tmax": 29.7,
                  "tmin": 15.6,
                  "_deepnote_index_column": 18
                },
                {
                  "id": "MX17004",
                  "year": 2010,
                  "month": 8,
                  "day": "d31",
                  "tmax": 25.4,
                  "tmin": 15.4,
                  "_deepnote_index_column": 19
                },
                {
                  "id": "MX17004",
                  "year": 2010,
                  "month": 8,
                  "day": "d8",
                  "tmax": 29,
                  "tmin": 17.3,
                  "_deepnote_index_column": 20
                },
                {
                  "id": "MX17004",
                  "year": 2010,
                  "month": 10,
                  "day": "d5",
                  "tmax": 27,
                  "tmin": 14,
                  "_deepnote_index_column": 21
                },
                {
                  "id": "MX17004",
                  "year": 2010,
                  "month": 10,
                  "day": "d14",
                  "tmax": 29.5,
                  "tmin": 13,
                  "_deepnote_index_column": 22
                },
                {
                  "id": "MX17004",
                  "year": 2010,
                  "month": 10,
                  "day": "d15",
                  "tmax": 28.7,
                  "tmin": 10.5,
                  "_deepnote_index_column": 23
                },
                {
                  "id": "MX17004",
                  "year": 2010,
                  "month": 10,
                  "day": "d28",
                  "tmax": 31.2,
                  "tmin": 15,
                  "_deepnote_index_column": 24
                },
                {
                  "id": "MX17004",
                  "year": 2010,
                  "month": 10,
                  "day": "d7",
                  "tmax": 28.1,
                  "tmin": 12.9,
                  "_deepnote_index_column": 25
                },
                {
                  "id": "MX17004",
                  "year": 2010,
                  "month": 11,
                  "day": "d2",
                  "tmax": 31.3,
                  "tmin": 16.3,
                  "_deepnote_index_column": 26
                },
                {
                  "id": "MX17004",
                  "year": 2010,
                  "month": 11,
                  "day": "d5",
                  "tmax": 26.3,
                  "tmin": 7.9,
                  "_deepnote_index_column": 27
                },
                {
                  "id": "MX17004",
                  "year": 2010,
                  "month": 11,
                  "day": "d27",
                  "tmax": 27.7,
                  "tmin": 14.2,
                  "_deepnote_index_column": 28
                },
                {
                  "id": "MX17004",
                  "year": 2010,
                  "month": 11,
                  "day": "d26",
                  "tmax": 28.1,
                  "tmin": 12.1,
                  "_deepnote_index_column": 29
                },
                {
                  "id": "MX17004",
                  "year": 2010,
                  "month": 11,
                  "day": "d4",
                  "tmax": 27.2,
                  "tmin": 12,
                  "_deepnote_index_column": 30
                },
                {
                  "id": "MX17004",
                  "year": 2010,
                  "month": 12,
                  "day": "d1",
                  "tmax": 29.9,
                  "tmin": 13.8,
                  "_deepnote_index_column": 31
                },
                {
                  "id": "MX17004",
                  "year": 2010,
                  "month": 12,
                  "day": "d6",
                  "tmax": 27.8,
                  "tmin": 10.5,
                  "_deepnote_index_column": 32
                }
              ],
              "rows_bottom": null
            },
            "text/plain": "element       id  year  month  day  tmax  tmin\n0        MX17004  2010      1  d30  27.8  14.5\n1        MX17004  2010      2  d11  29.7  13.4\n2        MX17004  2010      2   d2  27.3  14.4\n3        MX17004  2010      2  d23  29.9  10.7\n4        MX17004  2010      2   d3  24.1  14.4\n5        MX17004  2010      3  d10  34.5  16.8\n6        MX17004  2010      3  d16  31.1  17.6\n7        MX17004  2010      3   d5  32.1  14.2\n8        MX17004  2010      4  d27  36.3  16.7\n9        MX17004  2010      5  d27  33.2  18.2\n10       MX17004  2010      6  d17  28.0  17.5\n11       MX17004  2010      6  d29  30.1  18.0\n12       MX17004  2010      7   d3  28.6  17.5\n13       MX17004  2010      7  d14  29.9  16.5\n14       MX17004  2010      8  d23  26.4  15.0\n15       MX17004  2010      8   d5  29.6  15.8\n16       MX17004  2010      8  d29  28.0  15.3\n17       MX17004  2010      8  d13  29.8  16.5\n18       MX17004  2010      8  d25  29.7  15.6\n19       MX17004  2010      8  d31  25.4  15.4\n20       MX17004  2010      8   d8  29.0  17.3\n21       MX17004  2010     10   d5  27.0  14.0\n22       MX17004  2010     10  d14  29.5  13.0\n23       MX17004  2010     10  d15  28.7  10.5\n24       MX17004  2010     10  d28  31.2  15.0\n25       MX17004  2010     10   d7  28.1  12.9\n26       MX17004  2010     11   d2  31.3  16.3\n27       MX17004  2010     11   d5  26.3   7.9\n28       MX17004  2010     11  d27  27.7  14.2\n29       MX17004  2010     11  d26  28.1  12.1\n30       MX17004  2010     11   d4  27.2  12.0\n31       MX17004  2010     12   d1  29.9  13.8\n32       MX17004  2010     12   d6  27.8  10.5",
            "text/html": "<div>\n<style scoped>\n    .dataframe tbody tr th:only-of-type {\n        vertical-align: middle;\n    }\n\n    .dataframe tbody tr th {\n        vertical-align: top;\n    }\n\n    .dataframe thead th {\n        text-align: right;\n    }\n</style>\n<table border=\"1\" class=\"dataframe\">\n  <thead>\n    <tr style=\"text-align: right;\">\n      <th>element</th>\n      <th>id</th>\n      <th>year</th>\n      <th>month</th>\n      <th>day</th>\n      <th>tmax</th>\n      <th>tmin</th>\n    </tr>\n  </thead>\n  <tbody>\n    <tr>\n      <th>0</th>\n      <td>MX17004</td>\n      <td>2010</td>\n      <td>1</td>\n      <td>d30</td>\n      <td>27.8</td>\n      <td>14.5</td>\n    </tr>\n    <tr>\n      <th>1</th>\n      <td>MX17004</td>\n      <td>2010</td>\n      <td>2</td>\n      <td>d11</td>\n      <td>29.7</td>\n      <td>13.4</td>\n    </tr>\n    <tr>\n      <th>2</th>\n      <td>MX17004</td>\n      <td>2010</td>\n      <td>2</td>\n      <td>d2</td>\n      <td>27.3</td>\n      <td>14.4</td>\n    </tr>\n    <tr>\n      <th>3</th>\n      <td>MX17004</td>\n      <td>2010</td>\n      <td>2</td>\n      <td>d23</td>\n      <td>29.9</td>\n      <td>10.7</td>\n    </tr>\n    <tr>\n      <th>4</th>\n      <td>MX17004</td>\n      <td>2010</td>\n      <td>2</td>\n      <td>d3</td>\n      <td>24.1</td>\n      <td>14.4</td>\n    </tr>\n    <tr>\n      <th>5</th>\n      <td>MX17004</td>\n      <td>2010</td>\n      <td>3</td>\n      <td>d10</td>\n      <td>34.5</td>\n      <td>16.8</td>\n    </tr>\n    <tr>\n      <th>6</th>\n      <td>MX17004</td>\n      <td>2010</td>\n      <td>3</td>\n      <td>d16</td>\n      <td>31.1</td>\n      <td>17.6</td>\n    </tr>\n    <tr>\n      <th>7</th>\n      <td>MX17004</td>\n      <td>2010</td>\n      <td>3</td>\n      <td>d5</td>\n      <td>32.1</td>\n      <td>14.2</td>\n    </tr>\n    <tr>\n      <th>8</th>\n      <td>MX17004</td>\n      <td>2010</td>\n      <td>4</td>\n      <td>d27</td>\n      <td>36.3</td>\n      <td>16.7</td>\n    </tr>\n    <tr>\n      <th>9</th>\n      <td>MX17004</td>\n      <td>2010</td>\n      <td>5</td>\n      <td>d27</td>\n      <td>33.2</td>\n      <td>18.2</td>\n    </tr>\n    <tr>\n      <th>10</th>\n      <td>MX17004</td>\n      <td>2010</td>\n      <td>6</td>\n      <td>d17</td>\n      <td>28.0</td>\n      <td>17.5</td>\n    </tr>\n    <tr>\n      <th>11</th>\n      <td>MX17004</td>\n      <td>2010</td>\n      <td>6</td>\n      <td>d29</td>\n      <td>30.1</td>\n      <td>18.0</td>\n    </tr>\n    <tr>\n      <th>12</th>\n      <td>MX17004</td>\n      <td>2010</td>\n      <td>7</td>\n      <td>d3</td>\n      <td>28.6</td>\n      <td>17.5</td>\n    </tr>\n    <tr>\n      <th>13</th>\n      <td>MX17004</td>\n      <td>2010</td>\n      <td>7</td>\n      <td>d14</td>\n      <td>29.9</td>\n      <td>16.5</td>\n    </tr>\n    <tr>\n      <th>14</th>\n      <td>MX17004</td>\n      <td>2010</td>\n      <td>8</td>\n      <td>d23</td>\n      <td>26.4</td>\n      <td>15.0</td>\n    </tr>\n    <tr>\n      <th>15</th>\n      <td>MX17004</td>\n      <td>2010</td>\n      <td>8</td>\n      <td>d5</td>\n      <td>29.6</td>\n      <td>15.8</td>\n    </tr>\n    <tr>\n      <th>16</th>\n      <td>MX17004</td>\n      <td>2010</td>\n      <td>8</td>\n      <td>d29</td>\n      <td>28.0</td>\n      <td>15.3</td>\n    </tr>\n    <tr>\n      <th>17</th>\n      <td>MX17004</td>\n      <td>2010</td>\n      <td>8</td>\n      <td>d13</td>\n      <td>29.8</td>\n      <td>16.5</td>\n    </tr>\n    <tr>\n      <th>18</th>\n      <td>MX17004</td>\n      <td>2010</td>\n      <td>8</td>\n      <td>d25</td>\n      <td>29.7</td>\n      <td>15.6</td>\n    </tr>\n    <tr>\n      <th>19</th>\n      <td>MX17004</td>\n      <td>2010</td>\n      <td>8</td>\n      <td>d31</td>\n      <td>25.4</td>\n      <td>15.4</td>\n    </tr>\n    <tr>\n      <th>20</th>\n      <td>MX17004</td>\n      <td>2010</td>\n      <td>8</td>\n      <td>d8</td>\n      <td>29.0</td>\n      <td>17.3</td>\n    </tr>\n    <tr>\n      <th>21</th>\n      <td>MX17004</td>\n      <td>2010</td>\n      <td>10</td>\n      <td>d5</td>\n      <td>27.0</td>\n      <td>14.0</td>\n    </tr>\n    <tr>\n      <th>22</th>\n      <td>MX17004</td>\n      <td>2010</td>\n      <td>10</td>\n      <td>d14</td>\n      <td>29.5</td>\n      <td>13.0</td>\n    </tr>\n    <tr>\n      <th>23</th>\n      <td>MX17004</td>\n      <td>2010</td>\n      <td>10</td>\n      <td>d15</td>\n      <td>28.7</td>\n      <td>10.5</td>\n    </tr>\n    <tr>\n      <th>24</th>\n      <td>MX17004</td>\n      <td>2010</td>\n      <td>10</td>\n      <td>d28</td>\n      <td>31.2</td>\n      <td>15.0</td>\n    </tr>\n    <tr>\n      <th>25</th>\n      <td>MX17004</td>\n      <td>2010</td>\n      <td>10</td>\n      <td>d7</td>\n      <td>28.1</td>\n      <td>12.9</td>\n    </tr>\n    <tr>\n      <th>26</th>\n      <td>MX17004</td>\n      <td>2010</td>\n      <td>11</td>\n      <td>d2</td>\n      <td>31.3</td>\n      <td>16.3</td>\n    </tr>\n    <tr>\n      <th>27</th>\n      <td>MX17004</td>\n      <td>2010</td>\n      <td>11</td>\n      <td>d5</td>\n      <td>26.3</td>\n      <td>7.9</td>\n    </tr>\n    <tr>\n      <th>28</th>\n      <td>MX17004</td>\n      <td>2010</td>\n      <td>11</td>\n      <td>d27</td>\n      <td>27.7</td>\n      <td>14.2</td>\n    </tr>\n    <tr>\n      <th>29</th>\n      <td>MX17004</td>\n      <td>2010</td>\n      <td>11</td>\n      <td>d26</td>\n      <td>28.1</td>\n      <td>12.1</td>\n    </tr>\n    <tr>\n      <th>30</th>\n      <td>MX17004</td>\n      <td>2010</td>\n      <td>11</td>\n      <td>d4</td>\n      <td>27.2</td>\n      <td>12.0</td>\n    </tr>\n    <tr>\n      <th>31</th>\n      <td>MX17004</td>\n      <td>2010</td>\n      <td>12</td>\n      <td>d1</td>\n      <td>29.9</td>\n      <td>13.8</td>\n    </tr>\n    <tr>\n      <th>32</th>\n      <td>MX17004</td>\n      <td>2010</td>\n      <td>12</td>\n      <td>d6</td>\n      <td>27.8</td>\n      <td>10.5</td>\n    </tr>\n  </tbody>\n</table>\n</div>"
          },
          "metadata": {}
        }
      ],
      "execution_count": 61
    },
    {
      "cell_type": "markdown",
      "source": "### What to do when multiple types of observational units are stored in the same table ",
      "metadata": {
        "tags": [],
        "cell_id": "00069-b0b4a0c3-0248-4e99-a816-58ad800e79ab",
        "deepnote_cell_type": "markdown"
      }
    },
    {
      "cell_type": "code",
      "source": "billboard_melt.loc[billboard_melt['track'] == 'Loser']",
      "metadata": {
        "tags": [],
        "cell_id": "00069-18fd36cb-6b03-4f02-88da-fd988a9dca19",
        "deepnote_to_be_reexecuted": false,
        "source_hash": "5b66ba1",
        "execution_start": 1620248784765,
        "execution_millis": 59,
        "deepnote_cell_type": "code"
      },
      "outputs": [
        {
          "output_type": "execute_result",
          "execution_count": 62,
          "data": {
            "application/vnd.deepnote.dataframe.v2+json": {
              "row_count": 76,
              "column_count": 7,
              "columns": [
                {
                  "name": "year",
                  "dtype": "int64",
                  "stats": {
                    "unique_count": 1,
                    "nan_count": 0,
                    "min": "2000",
                    "max": "2000",
                    "histogram": [
                      {
                        "bin_start": 1999.5,
                        "bin_end": 1999.6,
                        "count": 0
                      },
                      {
                        "bin_start": 1999.6,
                        "bin_end": 1999.7,
                        "count": 0
                      },
                      {
                        "bin_start": 1999.7,
                        "bin_end": 1999.8,
                        "count": 0
                      },
                      {
                        "bin_start": 1999.8,
                        "bin_end": 1999.9,
                        "count": 0
                      },
                      {
                        "bin_start": 1999.9,
                        "bin_end": 2000,
                        "count": 0
                      },
                      {
                        "bin_start": 2000,
                        "bin_end": 2000.1,
                        "count": 76
                      },
                      {
                        "bin_start": 2000.1,
                        "bin_end": 2000.2,
                        "count": 0
                      },
                      {
                        "bin_start": 2000.2,
                        "bin_end": 2000.3,
                        "count": 0
                      },
                      {
                        "bin_start": 2000.3,
                        "bin_end": 2000.4,
                        "count": 0
                      },
                      {
                        "bin_start": 2000.4,
                        "bin_end": 2000.5,
                        "count": 0
                      }
                    ]
                  }
                },
                {
                  "name": "artist",
                  "dtype": "object",
                  "stats": {
                    "unique_count": 1,
                    "nan_count": 0,
                    "categories": [
                      {
                        "name": "3 Doors Down",
                        "count": 76
                      }
                    ]
                  }
                },
                {
                  "name": "track",
                  "dtype": "object",
                  "stats": {
                    "unique_count": 1,
                    "nan_count": 0,
                    "categories": [
                      {
                        "name": "Loser",
                        "count": 76
                      }
                    ]
                  }
                },
                {
                  "name": "time",
                  "dtype": "object",
                  "stats": {
                    "unique_count": 1,
                    "nan_count": 0,
                    "categories": [
                      {
                        "name": "4:24",
                        "count": 76
                      }
                    ]
                  }
                },
                {
                  "name": "date.entered",
                  "dtype": "object",
                  "stats": {
                    "unique_count": 1,
                    "nan_count": 0,
                    "categories": [
                      {
                        "name": "2000-10-21",
                        "count": 76
                      }
                    ]
                  }
                },
                {
                  "name": "week",
                  "dtype": "object",
                  "stats": {
                    "unique_count": 76,
                    "nan_count": 0,
                    "categories": [
                      {
                        "name": "wk1",
                        "count": 1
                      },
                      {
                        "name": "wk2",
                        "count": 1
                      },
                      {
                        "name": "74 others",
                        "count": 74
                      }
                    ]
                  }
                },
                {
                  "name": "rating",
                  "dtype": "float64",
                  "stats": {
                    "unique_count": 13,
                    "nan_count": 56,
                    "min": "55.0",
                    "max": "76.0",
                    "histogram": [
                      {
                        "bin_start": 55,
                        "bin_end": 57.1,
                        "count": 1
                      },
                      {
                        "bin_start": 57.1,
                        "bin_end": 59.2,
                        "count": 2
                      },
                      {
                        "bin_start": 59.2,
                        "bin_end": 61.3,
                        "count": 3
                      },
                      {
                        "bin_start": 61.3,
                        "bin_end": 63.4,
                        "count": 1
                      },
                      {
                        "bin_start": 63.4,
                        "bin_end": 65.5,
                        "count": 1
                      },
                      {
                        "bin_start": 65.5,
                        "bin_end": 67.6,
                        "count": 3
                      },
                      {
                        "bin_start": 67.6,
                        "bin_end": 69.7,
                        "count": 1
                      },
                      {
                        "bin_start": 69.7,
                        "bin_end": 71.8,
                        "count": 1
                      },
                      {
                        "bin_start": 71.8,
                        "bin_end": 73.9,
                        "count": 3
                      },
                      {
                        "bin_start": 73.9,
                        "bin_end": 76,
                        "count": 4
                      }
                    ]
                  }
                },
                {
                  "name": "_deepnote_index_column",
                  "dtype": "int64"
                }
              ],
              "rows_top": [
                {
                  "year": 2000,
                  "artist": "3 Doors Down",
                  "track": "Loser",
                  "time": "4:24",
                  "date.entered": "2000-10-21",
                  "week": "wk1",
                  "rating": "76.0",
                  "_deepnote_index_column": 3
                },
                {
                  "year": 2000,
                  "artist": "3 Doors Down",
                  "track": "Loser",
                  "time": "4:24",
                  "date.entered": "2000-10-21",
                  "week": "wk2",
                  "rating": "76.0",
                  "_deepnote_index_column": 320
                },
                {
                  "year": 2000,
                  "artist": "3 Doors Down",
                  "track": "Loser",
                  "time": "4:24",
                  "date.entered": "2000-10-21",
                  "week": "wk3",
                  "rating": "72.0",
                  "_deepnote_index_column": 637
                },
                {
                  "year": 2000,
                  "artist": "3 Doors Down",
                  "track": "Loser",
                  "time": "4:24",
                  "date.entered": "2000-10-21",
                  "week": "wk4",
                  "rating": "69.0",
                  "_deepnote_index_column": 954
                },
                {
                  "year": 2000,
                  "artist": "3 Doors Down",
                  "track": "Loser",
                  "time": "4:24",
                  "date.entered": "2000-10-21",
                  "week": "wk5",
                  "rating": "67.0",
                  "_deepnote_index_column": 1271
                },
                {
                  "year": 2000,
                  "artist": "3 Doors Down",
                  "track": "Loser",
                  "time": "4:24",
                  "date.entered": "2000-10-21",
                  "week": "wk6",
                  "rating": "65.0",
                  "_deepnote_index_column": 1588
                },
                {
                  "year": 2000,
                  "artist": "3 Doors Down",
                  "track": "Loser",
                  "time": "4:24",
                  "date.entered": "2000-10-21",
                  "week": "wk7",
                  "rating": "55.0",
                  "_deepnote_index_column": 1905
                },
                {
                  "year": 2000,
                  "artist": "3 Doors Down",
                  "track": "Loser",
                  "time": "4:24",
                  "date.entered": "2000-10-21",
                  "week": "wk8",
                  "rating": "59.0",
                  "_deepnote_index_column": 2222
                },
                {
                  "year": 2000,
                  "artist": "3 Doors Down",
                  "track": "Loser",
                  "time": "4:24",
                  "date.entered": "2000-10-21",
                  "week": "wk9",
                  "rating": "62.0",
                  "_deepnote_index_column": 2539
                },
                {
                  "year": 2000,
                  "artist": "3 Doors Down",
                  "track": "Loser",
                  "time": "4:24",
                  "date.entered": "2000-10-21",
                  "week": "wk10",
                  "rating": "61.0",
                  "_deepnote_index_column": 2856
                },
                {
                  "year": 2000,
                  "artist": "3 Doors Down",
                  "track": "Loser",
                  "time": "4:24",
                  "date.entered": "2000-10-21",
                  "week": "wk11",
                  "rating": "61.0",
                  "_deepnote_index_column": 3173
                },
                {
                  "year": 2000,
                  "artist": "3 Doors Down",
                  "track": "Loser",
                  "time": "4:24",
                  "date.entered": "2000-10-21",
                  "week": "wk12",
                  "rating": "59.0",
                  "_deepnote_index_column": 3490
                },
                {
                  "year": 2000,
                  "artist": "3 Doors Down",
                  "track": "Loser",
                  "time": "4:24",
                  "date.entered": "2000-10-21",
                  "week": "wk13",
                  "rating": "61.0",
                  "_deepnote_index_column": 3807
                },
                {
                  "year": 2000,
                  "artist": "3 Doors Down",
                  "track": "Loser",
                  "time": "4:24",
                  "date.entered": "2000-10-21",
                  "week": "wk14",
                  "rating": "66.0",
                  "_deepnote_index_column": 4124
                },
                {
                  "year": 2000,
                  "artist": "3 Doors Down",
                  "track": "Loser",
                  "time": "4:24",
                  "date.entered": "2000-10-21",
                  "week": "wk15",
                  "rating": "72.0",
                  "_deepnote_index_column": 4441
                },
                {
                  "year": 2000,
                  "artist": "3 Doors Down",
                  "track": "Loser",
                  "time": "4:24",
                  "date.entered": "2000-10-21",
                  "week": "wk16",
                  "rating": "76.0",
                  "_deepnote_index_column": 4758
                },
                {
                  "year": 2000,
                  "artist": "3 Doors Down",
                  "track": "Loser",
                  "time": "4:24",
                  "date.entered": "2000-10-21",
                  "week": "wk17",
                  "rating": "75.0",
                  "_deepnote_index_column": 5075
                },
                {
                  "year": 2000,
                  "artist": "3 Doors Down",
                  "track": "Loser",
                  "time": "4:24",
                  "date.entered": "2000-10-21",
                  "week": "wk18",
                  "rating": "67.0",
                  "_deepnote_index_column": 5392
                },
                {
                  "year": 2000,
                  "artist": "3 Doors Down",
                  "track": "Loser",
                  "time": "4:24",
                  "date.entered": "2000-10-21",
                  "week": "wk19",
                  "rating": "73.0",
                  "_deepnote_index_column": 5709
                },
                {
                  "year": 2000,
                  "artist": "3 Doors Down",
                  "track": "Loser",
                  "time": "4:24",
                  "date.entered": "2000-10-21",
                  "week": "wk20",
                  "rating": "70.0",
                  "_deepnote_index_column": 6026
                },
                {
                  "year": 2000,
                  "artist": "3 Doors Down",
                  "track": "Loser",
                  "time": "4:24",
                  "date.entered": "2000-10-21",
                  "week": "wk21",
                  "rating": "nan",
                  "_deepnote_index_column": 6343
                },
                {
                  "year": 2000,
                  "artist": "3 Doors Down",
                  "track": "Loser",
                  "time": "4:24",
                  "date.entered": "2000-10-21",
                  "week": "wk22",
                  "rating": "nan",
                  "_deepnote_index_column": 6660
                },
                {
                  "year": 2000,
                  "artist": "3 Doors Down",
                  "track": "Loser",
                  "time": "4:24",
                  "date.entered": "2000-10-21",
                  "week": "wk23",
                  "rating": "nan",
                  "_deepnote_index_column": 6977
                },
                {
                  "year": 2000,
                  "artist": "3 Doors Down",
                  "track": "Loser",
                  "time": "4:24",
                  "date.entered": "2000-10-21",
                  "week": "wk24",
                  "rating": "nan",
                  "_deepnote_index_column": 7294
                },
                {
                  "year": 2000,
                  "artist": "3 Doors Down",
                  "track": "Loser",
                  "time": "4:24",
                  "date.entered": "2000-10-21",
                  "week": "wk25",
                  "rating": "nan",
                  "_deepnote_index_column": 7611
                },
                {
                  "year": 2000,
                  "artist": "3 Doors Down",
                  "track": "Loser",
                  "time": "4:24",
                  "date.entered": "2000-10-21",
                  "week": "wk26",
                  "rating": "nan",
                  "_deepnote_index_column": 7928
                },
                {
                  "year": 2000,
                  "artist": "3 Doors Down",
                  "track": "Loser",
                  "time": "4:24",
                  "date.entered": "2000-10-21",
                  "week": "wk27",
                  "rating": "nan",
                  "_deepnote_index_column": 8245
                },
                {
                  "year": 2000,
                  "artist": "3 Doors Down",
                  "track": "Loser",
                  "time": "4:24",
                  "date.entered": "2000-10-21",
                  "week": "wk28",
                  "rating": "nan",
                  "_deepnote_index_column": 8562
                },
                {
                  "year": 2000,
                  "artist": "3 Doors Down",
                  "track": "Loser",
                  "time": "4:24",
                  "date.entered": "2000-10-21",
                  "week": "wk29",
                  "rating": "nan",
                  "_deepnote_index_column": 8879
                },
                {
                  "year": 2000,
                  "artist": "3 Doors Down",
                  "track": "Loser",
                  "time": "4:24",
                  "date.entered": "2000-10-21",
                  "week": "wk30",
                  "rating": "nan",
                  "_deepnote_index_column": 9196
                },
                {
                  "year": 2000,
                  "artist": "3 Doors Down",
                  "track": "Loser",
                  "time": "4:24",
                  "date.entered": "2000-10-21",
                  "week": "wk31",
                  "rating": "nan",
                  "_deepnote_index_column": 9513
                },
                {
                  "year": 2000,
                  "artist": "3 Doors Down",
                  "track": "Loser",
                  "time": "4:24",
                  "date.entered": "2000-10-21",
                  "week": "wk32",
                  "rating": "nan",
                  "_deepnote_index_column": 9830
                },
                {
                  "year": 2000,
                  "artist": "3 Doors Down",
                  "track": "Loser",
                  "time": "4:24",
                  "date.entered": "2000-10-21",
                  "week": "wk33",
                  "rating": "nan",
                  "_deepnote_index_column": 10147
                },
                {
                  "year": 2000,
                  "artist": "3 Doors Down",
                  "track": "Loser",
                  "time": "4:24",
                  "date.entered": "2000-10-21",
                  "week": "wk34",
                  "rating": "nan",
                  "_deepnote_index_column": 10464
                },
                {
                  "year": 2000,
                  "artist": "3 Doors Down",
                  "track": "Loser",
                  "time": "4:24",
                  "date.entered": "2000-10-21",
                  "week": "wk35",
                  "rating": "nan",
                  "_deepnote_index_column": 10781
                },
                {
                  "year": 2000,
                  "artist": "3 Doors Down",
                  "track": "Loser",
                  "time": "4:24",
                  "date.entered": "2000-10-21",
                  "week": "wk36",
                  "rating": "nan",
                  "_deepnote_index_column": 11098
                },
                {
                  "year": 2000,
                  "artist": "3 Doors Down",
                  "track": "Loser",
                  "time": "4:24",
                  "date.entered": "2000-10-21",
                  "week": "wk37",
                  "rating": "nan",
                  "_deepnote_index_column": 11415
                },
                {
                  "year": 2000,
                  "artist": "3 Doors Down",
                  "track": "Loser",
                  "time": "4:24",
                  "date.entered": "2000-10-21",
                  "week": "wk38",
                  "rating": "nan",
                  "_deepnote_index_column": 11732
                },
                {
                  "year": 2000,
                  "artist": "3 Doors Down",
                  "track": "Loser",
                  "time": "4:24",
                  "date.entered": "2000-10-21",
                  "week": "wk39",
                  "rating": "nan",
                  "_deepnote_index_column": 12049
                },
                {
                  "year": 2000,
                  "artist": "3 Doors Down",
                  "track": "Loser",
                  "time": "4:24",
                  "date.entered": "2000-10-21",
                  "week": "wk40",
                  "rating": "nan",
                  "_deepnote_index_column": 12366
                },
                {
                  "year": 2000,
                  "artist": "3 Doors Down",
                  "track": "Loser",
                  "time": "4:24",
                  "date.entered": "2000-10-21",
                  "week": "wk41",
                  "rating": "nan",
                  "_deepnote_index_column": 12683
                },
                {
                  "year": 2000,
                  "artist": "3 Doors Down",
                  "track": "Loser",
                  "time": "4:24",
                  "date.entered": "2000-10-21",
                  "week": "wk42",
                  "rating": "nan",
                  "_deepnote_index_column": 13000
                },
                {
                  "year": 2000,
                  "artist": "3 Doors Down",
                  "track": "Loser",
                  "time": "4:24",
                  "date.entered": "2000-10-21",
                  "week": "wk43",
                  "rating": "nan",
                  "_deepnote_index_column": 13317
                },
                {
                  "year": 2000,
                  "artist": "3 Doors Down",
                  "track": "Loser",
                  "time": "4:24",
                  "date.entered": "2000-10-21",
                  "week": "wk44",
                  "rating": "nan",
                  "_deepnote_index_column": 13634
                },
                {
                  "year": 2000,
                  "artist": "3 Doors Down",
                  "track": "Loser",
                  "time": "4:24",
                  "date.entered": "2000-10-21",
                  "week": "wk45",
                  "rating": "nan",
                  "_deepnote_index_column": 13951
                },
                {
                  "year": 2000,
                  "artist": "3 Doors Down",
                  "track": "Loser",
                  "time": "4:24",
                  "date.entered": "2000-10-21",
                  "week": "wk46",
                  "rating": "nan",
                  "_deepnote_index_column": 14268
                },
                {
                  "year": 2000,
                  "artist": "3 Doors Down",
                  "track": "Loser",
                  "time": "4:24",
                  "date.entered": "2000-10-21",
                  "week": "wk47",
                  "rating": "nan",
                  "_deepnote_index_column": 14585
                },
                {
                  "year": 2000,
                  "artist": "3 Doors Down",
                  "track": "Loser",
                  "time": "4:24",
                  "date.entered": "2000-10-21",
                  "week": "wk48",
                  "rating": "nan",
                  "_deepnote_index_column": 14902
                },
                {
                  "year": 2000,
                  "artist": "3 Doors Down",
                  "track": "Loser",
                  "time": "4:24",
                  "date.entered": "2000-10-21",
                  "week": "wk49",
                  "rating": "nan",
                  "_deepnote_index_column": 15219
                },
                {
                  "year": 2000,
                  "artist": "3 Doors Down",
                  "track": "Loser",
                  "time": "4:24",
                  "date.entered": "2000-10-21",
                  "week": "wk50",
                  "rating": "nan",
                  "_deepnote_index_column": 15536
                },
                {
                  "year": 2000,
                  "artist": "3 Doors Down",
                  "track": "Loser",
                  "time": "4:24",
                  "date.entered": "2000-10-21",
                  "week": "wk51",
                  "rating": "nan",
                  "_deepnote_index_column": 15853
                },
                {
                  "year": 2000,
                  "artist": "3 Doors Down",
                  "track": "Loser",
                  "time": "4:24",
                  "date.entered": "2000-10-21",
                  "week": "wk52",
                  "rating": "nan",
                  "_deepnote_index_column": 16170
                },
                {
                  "year": 2000,
                  "artist": "3 Doors Down",
                  "track": "Loser",
                  "time": "4:24",
                  "date.entered": "2000-10-21",
                  "week": "wk53",
                  "rating": "nan",
                  "_deepnote_index_column": 16487
                },
                {
                  "year": 2000,
                  "artist": "3 Doors Down",
                  "track": "Loser",
                  "time": "4:24",
                  "date.entered": "2000-10-21",
                  "week": "wk54",
                  "rating": "nan",
                  "_deepnote_index_column": 16804
                },
                {
                  "year": 2000,
                  "artist": "3 Doors Down",
                  "track": "Loser",
                  "time": "4:24",
                  "date.entered": "2000-10-21",
                  "week": "wk55",
                  "rating": "nan",
                  "_deepnote_index_column": 17121
                },
                {
                  "year": 2000,
                  "artist": "3 Doors Down",
                  "track": "Loser",
                  "time": "4:24",
                  "date.entered": "2000-10-21",
                  "week": "wk56",
                  "rating": "nan",
                  "_deepnote_index_column": 17438
                },
                {
                  "year": 2000,
                  "artist": "3 Doors Down",
                  "track": "Loser",
                  "time": "4:24",
                  "date.entered": "2000-10-21",
                  "week": "wk57",
                  "rating": "nan",
                  "_deepnote_index_column": 17755
                },
                {
                  "year": 2000,
                  "artist": "3 Doors Down",
                  "track": "Loser",
                  "time": "4:24",
                  "date.entered": "2000-10-21",
                  "week": "wk58",
                  "rating": "nan",
                  "_deepnote_index_column": 18072
                },
                {
                  "year": 2000,
                  "artist": "3 Doors Down",
                  "track": "Loser",
                  "time": "4:24",
                  "date.entered": "2000-10-21",
                  "week": "wk59",
                  "rating": "nan",
                  "_deepnote_index_column": 18389
                },
                {
                  "year": 2000,
                  "artist": "3 Doors Down",
                  "track": "Loser",
                  "time": "4:24",
                  "date.entered": "2000-10-21",
                  "week": "wk60",
                  "rating": "nan",
                  "_deepnote_index_column": 18706
                },
                {
                  "year": 2000,
                  "artist": "3 Doors Down",
                  "track": "Loser",
                  "time": "4:24",
                  "date.entered": "2000-10-21",
                  "week": "wk61",
                  "rating": "nan",
                  "_deepnote_index_column": 19023
                },
                {
                  "year": 2000,
                  "artist": "3 Doors Down",
                  "track": "Loser",
                  "time": "4:24",
                  "date.entered": "2000-10-21",
                  "week": "wk62",
                  "rating": "nan",
                  "_deepnote_index_column": 19340
                },
                {
                  "year": 2000,
                  "artist": "3 Doors Down",
                  "track": "Loser",
                  "time": "4:24",
                  "date.entered": "2000-10-21",
                  "week": "wk63",
                  "rating": "nan",
                  "_deepnote_index_column": 19657
                },
                {
                  "year": 2000,
                  "artist": "3 Doors Down",
                  "track": "Loser",
                  "time": "4:24",
                  "date.entered": "2000-10-21",
                  "week": "wk64",
                  "rating": "nan",
                  "_deepnote_index_column": 19974
                },
                {
                  "year": 2000,
                  "artist": "3 Doors Down",
                  "track": "Loser",
                  "time": "4:24",
                  "date.entered": "2000-10-21",
                  "week": "wk65",
                  "rating": "nan",
                  "_deepnote_index_column": 20291
                },
                {
                  "year": 2000,
                  "artist": "3 Doors Down",
                  "track": "Loser",
                  "time": "4:24",
                  "date.entered": "2000-10-21",
                  "week": "wk66",
                  "rating": "nan",
                  "_deepnote_index_column": 20608
                },
                {
                  "year": 2000,
                  "artist": "3 Doors Down",
                  "track": "Loser",
                  "time": "4:24",
                  "date.entered": "2000-10-21",
                  "week": "wk67",
                  "rating": "nan",
                  "_deepnote_index_column": 20925
                },
                {
                  "year": 2000,
                  "artist": "3 Doors Down",
                  "track": "Loser",
                  "time": "4:24",
                  "date.entered": "2000-10-21",
                  "week": "wk68",
                  "rating": "nan",
                  "_deepnote_index_column": 21242
                },
                {
                  "year": 2000,
                  "artist": "3 Doors Down",
                  "track": "Loser",
                  "time": "4:24",
                  "date.entered": "2000-10-21",
                  "week": "wk69",
                  "rating": "nan",
                  "_deepnote_index_column": 21559
                },
                {
                  "year": 2000,
                  "artist": "3 Doors Down",
                  "track": "Loser",
                  "time": "4:24",
                  "date.entered": "2000-10-21",
                  "week": "wk70",
                  "rating": "nan",
                  "_deepnote_index_column": 21876
                },
                {
                  "year": 2000,
                  "artist": "3 Doors Down",
                  "track": "Loser",
                  "time": "4:24",
                  "date.entered": "2000-10-21",
                  "week": "wk71",
                  "rating": "nan",
                  "_deepnote_index_column": 22193
                },
                {
                  "year": 2000,
                  "artist": "3 Doors Down",
                  "track": "Loser",
                  "time": "4:24",
                  "date.entered": "2000-10-21",
                  "week": "wk72",
                  "rating": "nan",
                  "_deepnote_index_column": 22510
                },
                {
                  "year": 2000,
                  "artist": "3 Doors Down",
                  "track": "Loser",
                  "time": "4:24",
                  "date.entered": "2000-10-21",
                  "week": "wk73",
                  "rating": "nan",
                  "_deepnote_index_column": 22827
                },
                {
                  "year": 2000,
                  "artist": "3 Doors Down",
                  "track": "Loser",
                  "time": "4:24",
                  "date.entered": "2000-10-21",
                  "week": "wk74",
                  "rating": "nan",
                  "_deepnote_index_column": 23144
                },
                {
                  "year": 2000,
                  "artist": "3 Doors Down",
                  "track": "Loser",
                  "time": "4:24",
                  "date.entered": "2000-10-21",
                  "week": "wk75",
                  "rating": "nan",
                  "_deepnote_index_column": 23461
                },
                {
                  "year": 2000,
                  "artist": "3 Doors Down",
                  "track": "Loser",
                  "time": "4:24",
                  "date.entered": "2000-10-21",
                  "week": "wk76",
                  "rating": "nan",
                  "_deepnote_index_column": 23778
                }
              ],
              "rows_bottom": null
            },
            "text/plain": "       year        artist  track  time date.entered  week  rating\n3      2000  3 Doors Down  Loser  4:24   2000-10-21   wk1    76.0\n320    2000  3 Doors Down  Loser  4:24   2000-10-21   wk2    76.0\n637    2000  3 Doors Down  Loser  4:24   2000-10-21   wk3    72.0\n954    2000  3 Doors Down  Loser  4:24   2000-10-21   wk4    69.0\n1271   2000  3 Doors Down  Loser  4:24   2000-10-21   wk5    67.0\n...     ...           ...    ...   ...          ...   ...     ...\n22510  2000  3 Doors Down  Loser  4:24   2000-10-21  wk72     NaN\n22827  2000  3 Doors Down  Loser  4:24   2000-10-21  wk73     NaN\n23144  2000  3 Doors Down  Loser  4:24   2000-10-21  wk74     NaN\n23461  2000  3 Doors Down  Loser  4:24   2000-10-21  wk75     NaN\n23778  2000  3 Doors Down  Loser  4:24   2000-10-21  wk76     NaN\n\n[76 rows x 7 columns]",
            "text/html": "<div>\n<style scoped>\n    .dataframe tbody tr th:only-of-type {\n        vertical-align: middle;\n    }\n\n    .dataframe tbody tr th {\n        vertical-align: top;\n    }\n\n    .dataframe thead th {\n        text-align: right;\n    }\n</style>\n<table border=\"1\" class=\"dataframe\">\n  <thead>\n    <tr style=\"text-align: right;\">\n      <th></th>\n      <th>year</th>\n      <th>artist</th>\n      <th>track</th>\n      <th>time</th>\n      <th>date.entered</th>\n      <th>week</th>\n      <th>rating</th>\n    </tr>\n  </thead>\n  <tbody>\n    <tr>\n      <th>3</th>\n      <td>2000</td>\n      <td>3 Doors Down</td>\n      <td>Loser</td>\n      <td>4:24</td>\n      <td>2000-10-21</td>\n      <td>wk1</td>\n      <td>76.0</td>\n    </tr>\n    <tr>\n      <th>320</th>\n      <td>2000</td>\n      <td>3 Doors Down</td>\n      <td>Loser</td>\n      <td>4:24</td>\n      <td>2000-10-21</td>\n      <td>wk2</td>\n      <td>76.0</td>\n    </tr>\n    <tr>\n      <th>637</th>\n      <td>2000</td>\n      <td>3 Doors Down</td>\n      <td>Loser</td>\n      <td>4:24</td>\n      <td>2000-10-21</td>\n      <td>wk3</td>\n      <td>72.0</td>\n    </tr>\n    <tr>\n      <th>954</th>\n      <td>2000</td>\n      <td>3 Doors Down</td>\n      <td>Loser</td>\n      <td>4:24</td>\n      <td>2000-10-21</td>\n      <td>wk4</td>\n      <td>69.0</td>\n    </tr>\n    <tr>\n      <th>1271</th>\n      <td>2000</td>\n      <td>3 Doors Down</td>\n      <td>Loser</td>\n      <td>4:24</td>\n      <td>2000-10-21</td>\n      <td>wk5</td>\n      <td>67.0</td>\n    </tr>\n    <tr>\n      <th>...</th>\n      <td>...</td>\n      <td>...</td>\n      <td>...</td>\n      <td>...</td>\n      <td>...</td>\n      <td>...</td>\n      <td>...</td>\n    </tr>\n    <tr>\n      <th>22510</th>\n      <td>2000</td>\n      <td>3 Doors Down</td>\n      <td>Loser</td>\n      <td>4:24</td>\n      <td>2000-10-21</td>\n      <td>wk72</td>\n      <td>NaN</td>\n    </tr>\n    <tr>\n      <th>22827</th>\n      <td>2000</td>\n      <td>3 Doors Down</td>\n      <td>Loser</td>\n      <td>4:24</td>\n      <td>2000-10-21</td>\n      <td>wk73</td>\n      <td>NaN</td>\n    </tr>\n    <tr>\n      <th>23144</th>\n      <td>2000</td>\n      <td>3 Doors Down</td>\n      <td>Loser</td>\n      <td>4:24</td>\n      <td>2000-10-21</td>\n      <td>wk74</td>\n      <td>NaN</td>\n    </tr>\n    <tr>\n      <th>23461</th>\n      <td>2000</td>\n      <td>3 Doors Down</td>\n      <td>Loser</td>\n      <td>4:24</td>\n      <td>2000-10-21</td>\n      <td>wk75</td>\n      <td>NaN</td>\n    </tr>\n    <tr>\n      <th>23778</th>\n      <td>2000</td>\n      <td>3 Doors Down</td>\n      <td>Loser</td>\n      <td>4:24</td>\n      <td>2000-10-21</td>\n      <td>wk76</td>\n      <td>NaN</td>\n    </tr>\n  </tbody>\n</table>\n<p>76 rows × 7 columns</p>\n</div>"
          },
          "metadata": {}
        }
      ],
      "execution_count": 62
    },
    {
      "cell_type": "code",
      "source": "billboard_songs = billboard_melt[['year','artist','track','time']]",
      "metadata": {
        "tags": [],
        "cell_id": "00071-6e9c03b3-db3e-402a-89b2-8a8b8a9cacf3",
        "deepnote_to_be_reexecuted": false,
        "source_hash": "b0c29495",
        "execution_start": 1620248784818,
        "execution_millis": 1,
        "deepnote_cell_type": "code"
      },
      "outputs": [],
      "execution_count": 63
    },
    {
      "cell_type": "code",
      "source": "billboard_songs.head()",
      "metadata": {
        "tags": [],
        "cell_id": "00072-c2b4a858-1681-4b28-85d6-5bad068c5ddf",
        "deepnote_to_be_reexecuted": false,
        "source_hash": "7bab62a9",
        "execution_start": 1620248784845,
        "execution_millis": 7,
        "deepnote_cell_type": "code"
      },
      "outputs": [
        {
          "output_type": "execute_result",
          "execution_count": 64,
          "data": {
            "application/vnd.deepnote.dataframe.v2+json": {
              "row_count": 5,
              "column_count": 4,
              "columns": [
                {
                  "name": "year",
                  "dtype": "int64",
                  "stats": {
                    "unique_count": 1,
                    "nan_count": 0,
                    "min": "2000",
                    "max": "2000",
                    "histogram": [
                      {
                        "bin_start": 1999.5,
                        "bin_end": 1999.6,
                        "count": 0
                      },
                      {
                        "bin_start": 1999.6,
                        "bin_end": 1999.7,
                        "count": 0
                      },
                      {
                        "bin_start": 1999.7,
                        "bin_end": 1999.8,
                        "count": 0
                      },
                      {
                        "bin_start": 1999.8,
                        "bin_end": 1999.9,
                        "count": 0
                      },
                      {
                        "bin_start": 1999.9,
                        "bin_end": 2000,
                        "count": 0
                      },
                      {
                        "bin_start": 2000,
                        "bin_end": 2000.1,
                        "count": 5
                      },
                      {
                        "bin_start": 2000.1,
                        "bin_end": 2000.2,
                        "count": 0
                      },
                      {
                        "bin_start": 2000.2,
                        "bin_end": 2000.3,
                        "count": 0
                      },
                      {
                        "bin_start": 2000.3,
                        "bin_end": 2000.4,
                        "count": 0
                      },
                      {
                        "bin_start": 2000.4,
                        "bin_end": 2000.5,
                        "count": 0
                      }
                    ]
                  }
                },
                {
                  "name": "artist",
                  "dtype": "object",
                  "stats": {
                    "unique_count": 4,
                    "nan_count": 0,
                    "categories": [
                      {
                        "name": "3 Doors Down",
                        "count": 2
                      },
                      {
                        "name": "2 Pac",
                        "count": 1
                      },
                      {
                        "name": "2 others",
                        "count": 2
                      }
                    ]
                  }
                },
                {
                  "name": "track",
                  "dtype": "object",
                  "stats": {
                    "unique_count": 5,
                    "nan_count": 0,
                    "categories": [
                      {
                        "name": "Baby Don't Cry (Keep...",
                        "count": 1
                      },
                      {
                        "name": "The Hardest Part Of ...",
                        "count": 1
                      },
                      {
                        "name": "3 others",
                        "count": 3
                      }
                    ]
                  }
                },
                {
                  "name": "time",
                  "dtype": "object",
                  "stats": {
                    "unique_count": 5,
                    "nan_count": 0,
                    "categories": [
                      {
                        "name": "4:22",
                        "count": 1
                      },
                      {
                        "name": "3:15",
                        "count": 1
                      },
                      {
                        "name": "3 others",
                        "count": 3
                      }
                    ]
                  }
                },
                {
                  "name": "_deepnote_index_column",
                  "dtype": "int64"
                }
              ],
              "rows_top": [
                {
                  "year": 2000,
                  "artist": "2 Pac",
                  "track": "Baby Don't Cry (Keep...",
                  "time": "4:22",
                  "_deepnote_index_column": 0
                },
                {
                  "year": 2000,
                  "artist": "2Ge+her",
                  "track": "The Hardest Part Of ...",
                  "time": "3:15",
                  "_deepnote_index_column": 1
                },
                {
                  "year": 2000,
                  "artist": "3 Doors Down",
                  "track": "Kryptonite",
                  "time": "3:53",
                  "_deepnote_index_column": 2
                },
                {
                  "year": 2000,
                  "artist": "3 Doors Down",
                  "track": "Loser",
                  "time": "4:24",
                  "_deepnote_index_column": 3
                },
                {
                  "year": 2000,
                  "artist": "504 Boyz",
                  "track": "Wobble Wobble",
                  "time": "3:35",
                  "_deepnote_index_column": 4
                }
              ],
              "rows_bottom": null
            },
            "text/plain": "   year        artist                    track  time\n0  2000         2 Pac  Baby Don't Cry (Keep...  4:22\n1  2000       2Ge+her  The Hardest Part Of ...  3:15\n2  2000  3 Doors Down               Kryptonite  3:53\n3  2000  3 Doors Down                    Loser  4:24\n4  2000      504 Boyz            Wobble Wobble  3:35",
            "text/html": "<div>\n<style scoped>\n    .dataframe tbody tr th:only-of-type {\n        vertical-align: middle;\n    }\n\n    .dataframe tbody tr th {\n        vertical-align: top;\n    }\n\n    .dataframe thead th {\n        text-align: right;\n    }\n</style>\n<table border=\"1\" class=\"dataframe\">\n  <thead>\n    <tr style=\"text-align: right;\">\n      <th></th>\n      <th>year</th>\n      <th>artist</th>\n      <th>track</th>\n      <th>time</th>\n    </tr>\n  </thead>\n  <tbody>\n    <tr>\n      <th>0</th>\n      <td>2000</td>\n      <td>2 Pac</td>\n      <td>Baby Don't Cry (Keep...</td>\n      <td>4:22</td>\n    </tr>\n    <tr>\n      <th>1</th>\n      <td>2000</td>\n      <td>2Ge+her</td>\n      <td>The Hardest Part Of ...</td>\n      <td>3:15</td>\n    </tr>\n    <tr>\n      <th>2</th>\n      <td>2000</td>\n      <td>3 Doors Down</td>\n      <td>Kryptonite</td>\n      <td>3:53</td>\n    </tr>\n    <tr>\n      <th>3</th>\n      <td>2000</td>\n      <td>3 Doors Down</td>\n      <td>Loser</td>\n      <td>4:24</td>\n    </tr>\n    <tr>\n      <th>4</th>\n      <td>2000</td>\n      <td>504 Boyz</td>\n      <td>Wobble Wobble</td>\n      <td>3:35</td>\n    </tr>\n  </tbody>\n</table>\n</div>"
          },
          "metadata": {}
        }
      ],
      "execution_count": 64
    },
    {
      "cell_type": "code",
      "source": "billboard_songs.shape",
      "metadata": {
        "tags": [],
        "cell_id": "00073-6b707240-5d2e-42af-a86a-7badb10444eb",
        "deepnote_to_be_reexecuted": false,
        "source_hash": "b6deeca",
        "execution_start": 1620248784846,
        "execution_millis": 6,
        "deepnote_cell_type": "code"
      },
      "outputs": [
        {
          "output_type": "execute_result",
          "execution_count": 65,
          "data": {
            "text/plain": "(24092, 4)"
          },
          "metadata": {}
        }
      ],
      "execution_count": 65
    },
    {
      "cell_type": "code",
      "source": "billboard_songs = billboard_songs.drop_duplicates()",
      "metadata": {
        "tags": [],
        "cell_id": "00074-57114854-9a1d-466d-9350-c6c2f5181fec",
        "deepnote_to_be_reexecuted": false,
        "source_hash": "a32539f1",
        "execution_start": 1620248784856,
        "execution_millis": 33,
        "deepnote_cell_type": "code"
      },
      "outputs": [],
      "execution_count": 66
    },
    {
      "cell_type": "code",
      "source": "billboard_songs.shape",
      "metadata": {
        "tags": [],
        "cell_id": "00075-1d44d097-b01a-4380-910e-37e175972639",
        "deepnote_to_be_reexecuted": false,
        "source_hash": "b6deeca",
        "execution_start": 1620248784895,
        "execution_millis": 13,
        "deepnote_cell_type": "code"
      },
      "outputs": [
        {
          "output_type": "execute_result",
          "execution_count": 67,
          "data": {
            "text/plain": "(317, 4)"
          },
          "metadata": {}
        }
      ],
      "execution_count": 67
    },
    {
      "cell_type": "markdown",
      "source": "### Merging data sets \n#### You need a key.",
      "metadata": {
        "tags": [],
        "cell_id": "00076-b0f88f93-3b2c-410b-b1c0-598e38674055",
        "deepnote_cell_type": "markdown"
      }
    },
    {
      "cell_type": "code",
      "source": "billboard_songs['id'] = range(len(billboard_songs))",
      "metadata": {
        "tags": [],
        "cell_id": "00076-02a33561-89f4-4245-b801-4de12db2b5f2",
        "deepnote_to_be_reexecuted": false,
        "source_hash": "cde7a9c8",
        "execution_start": 1620248784922,
        "execution_millis": 0,
        "deepnote_cell_type": "code"
      },
      "outputs": [],
      "execution_count": 68
    },
    {
      "cell_type": "code",
      "source": "billboard_songs.head()",
      "metadata": {
        "tags": [],
        "cell_id": "00078-5ebfb24f-6094-4b4c-9007-692084ce3fa7",
        "deepnote_to_be_reexecuted": false,
        "source_hash": "7bab62a9",
        "execution_start": 1620248784923,
        "execution_millis": 23,
        "deepnote_cell_type": "code"
      },
      "outputs": [
        {
          "output_type": "execute_result",
          "execution_count": 69,
          "data": {
            "application/vnd.deepnote.dataframe.v2+json": {
              "row_count": 5,
              "column_count": 5,
              "columns": [
                {
                  "name": "year",
                  "dtype": "int64",
                  "stats": {
                    "unique_count": 1,
                    "nan_count": 0,
                    "min": "2000",
                    "max": "2000",
                    "histogram": [
                      {
                        "bin_start": 1999.5,
                        "bin_end": 1999.6,
                        "count": 0
                      },
                      {
                        "bin_start": 1999.6,
                        "bin_end": 1999.7,
                        "count": 0
                      },
                      {
                        "bin_start": 1999.7,
                        "bin_end": 1999.8,
                        "count": 0
                      },
                      {
                        "bin_start": 1999.8,
                        "bin_end": 1999.9,
                        "count": 0
                      },
                      {
                        "bin_start": 1999.9,
                        "bin_end": 2000,
                        "count": 0
                      },
                      {
                        "bin_start": 2000,
                        "bin_end": 2000.1,
                        "count": 5
                      },
                      {
                        "bin_start": 2000.1,
                        "bin_end": 2000.2,
                        "count": 0
                      },
                      {
                        "bin_start": 2000.2,
                        "bin_end": 2000.3,
                        "count": 0
                      },
                      {
                        "bin_start": 2000.3,
                        "bin_end": 2000.4,
                        "count": 0
                      },
                      {
                        "bin_start": 2000.4,
                        "bin_end": 2000.5,
                        "count": 0
                      }
                    ]
                  }
                },
                {
                  "name": "artist",
                  "dtype": "object",
                  "stats": {
                    "unique_count": 4,
                    "nan_count": 0,
                    "categories": [
                      {
                        "name": "3 Doors Down",
                        "count": 2
                      },
                      {
                        "name": "2 Pac",
                        "count": 1
                      },
                      {
                        "name": "2 others",
                        "count": 2
                      }
                    ]
                  }
                },
                {
                  "name": "track",
                  "dtype": "object",
                  "stats": {
                    "unique_count": 5,
                    "nan_count": 0,
                    "categories": [
                      {
                        "name": "Baby Don't Cry (Keep...",
                        "count": 1
                      },
                      {
                        "name": "The Hardest Part Of ...",
                        "count": 1
                      },
                      {
                        "name": "3 others",
                        "count": 3
                      }
                    ]
                  }
                },
                {
                  "name": "time",
                  "dtype": "object",
                  "stats": {
                    "unique_count": 5,
                    "nan_count": 0,
                    "categories": [
                      {
                        "name": "4:22",
                        "count": 1
                      },
                      {
                        "name": "3:15",
                        "count": 1
                      },
                      {
                        "name": "3 others",
                        "count": 3
                      }
                    ]
                  }
                },
                {
                  "name": "id",
                  "dtype": "int64",
                  "stats": {
                    "unique_count": 5,
                    "nan_count": 0,
                    "min": "0",
                    "max": "4",
                    "histogram": [
                      {
                        "bin_start": 0,
                        "bin_end": 0.4,
                        "count": 1
                      },
                      {
                        "bin_start": 0.4,
                        "bin_end": 0.8,
                        "count": 0
                      },
                      {
                        "bin_start": 0.8,
                        "bin_end": 1.2000000000000002,
                        "count": 1
                      },
                      {
                        "bin_start": 1.2000000000000002,
                        "bin_end": 1.6,
                        "count": 0
                      },
                      {
                        "bin_start": 1.6,
                        "bin_end": 2,
                        "count": 0
                      },
                      {
                        "bin_start": 2,
                        "bin_end": 2.4000000000000004,
                        "count": 1
                      },
                      {
                        "bin_start": 2.4000000000000004,
                        "bin_end": 2.8000000000000003,
                        "count": 0
                      },
                      {
                        "bin_start": 2.8000000000000003,
                        "bin_end": 3.2,
                        "count": 1
                      },
                      {
                        "bin_start": 3.2,
                        "bin_end": 3.6,
                        "count": 0
                      },
                      {
                        "bin_start": 3.6,
                        "bin_end": 4,
                        "count": 1
                      }
                    ]
                  }
                },
                {
                  "name": "_deepnote_index_column",
                  "dtype": "int64"
                }
              ],
              "rows_top": [
                {
                  "year": 2000,
                  "artist": "2 Pac",
                  "track": "Baby Don't Cry (Keep...",
                  "time": "4:22",
                  "id": 0,
                  "_deepnote_index_column": 0
                },
                {
                  "year": 2000,
                  "artist": "2Ge+her",
                  "track": "The Hardest Part Of ...",
                  "time": "3:15",
                  "id": 1,
                  "_deepnote_index_column": 1
                },
                {
                  "year": 2000,
                  "artist": "3 Doors Down",
                  "track": "Kryptonite",
                  "time": "3:53",
                  "id": 2,
                  "_deepnote_index_column": 2
                },
                {
                  "year": 2000,
                  "artist": "3 Doors Down",
                  "track": "Loser",
                  "time": "4:24",
                  "id": 3,
                  "_deepnote_index_column": 3
                },
                {
                  "year": 2000,
                  "artist": "504 Boyz",
                  "track": "Wobble Wobble",
                  "time": "3:35",
                  "id": 4,
                  "_deepnote_index_column": 4
                }
              ],
              "rows_bottom": null
            },
            "text/plain": "   year        artist                    track  time  id\n0  2000         2 Pac  Baby Don't Cry (Keep...  4:22   0\n1  2000       2Ge+her  The Hardest Part Of ...  3:15   1\n2  2000  3 Doors Down               Kryptonite  3:53   2\n3  2000  3 Doors Down                    Loser  4:24   3\n4  2000      504 Boyz            Wobble Wobble  3:35   4",
            "text/html": "<div>\n<style scoped>\n    .dataframe tbody tr th:only-of-type {\n        vertical-align: middle;\n    }\n\n    .dataframe tbody tr th {\n        vertical-align: top;\n    }\n\n    .dataframe thead th {\n        text-align: right;\n    }\n</style>\n<table border=\"1\" class=\"dataframe\">\n  <thead>\n    <tr style=\"text-align: right;\">\n      <th></th>\n      <th>year</th>\n      <th>artist</th>\n      <th>track</th>\n      <th>time</th>\n      <th>id</th>\n    </tr>\n  </thead>\n  <tbody>\n    <tr>\n      <th>0</th>\n      <td>2000</td>\n      <td>2 Pac</td>\n      <td>Baby Don't Cry (Keep...</td>\n      <td>4:22</td>\n      <td>0</td>\n    </tr>\n    <tr>\n      <th>1</th>\n      <td>2000</td>\n      <td>2Ge+her</td>\n      <td>The Hardest Part Of ...</td>\n      <td>3:15</td>\n      <td>1</td>\n    </tr>\n    <tr>\n      <th>2</th>\n      <td>2000</td>\n      <td>3 Doors Down</td>\n      <td>Kryptonite</td>\n      <td>3:53</td>\n      <td>2</td>\n    </tr>\n    <tr>\n      <th>3</th>\n      <td>2000</td>\n      <td>3 Doors Down</td>\n      <td>Loser</td>\n      <td>4:24</td>\n      <td>3</td>\n    </tr>\n    <tr>\n      <th>4</th>\n      <td>2000</td>\n      <td>504 Boyz</td>\n      <td>Wobble Wobble</td>\n      <td>3:35</td>\n      <td>4</td>\n    </tr>\n  </tbody>\n</table>\n</div>"
          },
          "metadata": {}
        }
      ],
      "execution_count": 69
    },
    {
      "cell_type": "code",
      "source": "billboard_songs.to_csv('billboard_songs.csv', index=False)",
      "metadata": {
        "tags": [],
        "cell_id": "00079-323a851d-d401-4b22-8c00-5d8e069f69fb",
        "deepnote_to_be_reexecuted": false,
        "source_hash": "6ed35393",
        "execution_start": 1620248784929,
        "execution_millis": 6,
        "deepnote_cell_type": "code"
      },
      "outputs": [],
      "execution_count": 70
    },
    {
      "cell_type": "code",
      "source": "billboard_ratings = billboard_melt.merge(\n    billboard_songs, on=['year','artist','track','time']\n)",
      "metadata": {
        "tags": [],
        "cell_id": "00080-eb2f8e22-63ec-48f3-b6bc-b7b7bb2e08c7",
        "deepnote_to_be_reexecuted": false,
        "source_hash": "c0c166d9",
        "execution_start": 1620248784938,
        "execution_millis": 21,
        "deepnote_cell_type": "code"
      },
      "outputs": [],
      "execution_count": 71
    },
    {
      "cell_type": "code",
      "source": "billboard_ratings.head()",
      "metadata": {
        "tags": [],
        "cell_id": "00081-91c91757-cd15-4553-a4db-bc6d54f74260",
        "deepnote_to_be_reexecuted": false,
        "source_hash": "1d92aece",
        "execution_start": 1620248785012,
        "execution_millis": 6,
        "deepnote_cell_type": "code"
      },
      "outputs": [
        {
          "output_type": "execute_result",
          "execution_count": 72,
          "data": {
            "application/vnd.deepnote.dataframe.v2+json": {
              "row_count": 5,
              "column_count": 8,
              "columns": [
                {
                  "name": "year",
                  "dtype": "int64",
                  "stats": {
                    "unique_count": 1,
                    "nan_count": 0,
                    "min": "2000",
                    "max": "2000",
                    "histogram": [
                      {
                        "bin_start": 1999.5,
                        "bin_end": 1999.6,
                        "count": 0
                      },
                      {
                        "bin_start": 1999.6,
                        "bin_end": 1999.7,
                        "count": 0
                      },
                      {
                        "bin_start": 1999.7,
                        "bin_end": 1999.8,
                        "count": 0
                      },
                      {
                        "bin_start": 1999.8,
                        "bin_end": 1999.9,
                        "count": 0
                      },
                      {
                        "bin_start": 1999.9,
                        "bin_end": 2000,
                        "count": 0
                      },
                      {
                        "bin_start": 2000,
                        "bin_end": 2000.1,
                        "count": 5
                      },
                      {
                        "bin_start": 2000.1,
                        "bin_end": 2000.2,
                        "count": 0
                      },
                      {
                        "bin_start": 2000.2,
                        "bin_end": 2000.3,
                        "count": 0
                      },
                      {
                        "bin_start": 2000.3,
                        "bin_end": 2000.4,
                        "count": 0
                      },
                      {
                        "bin_start": 2000.4,
                        "bin_end": 2000.5,
                        "count": 0
                      }
                    ]
                  }
                },
                {
                  "name": "artist",
                  "dtype": "object",
                  "stats": {
                    "unique_count": 1,
                    "nan_count": 0,
                    "categories": [
                      {
                        "name": "2 Pac",
                        "count": 5
                      }
                    ]
                  }
                },
                {
                  "name": "track",
                  "dtype": "object",
                  "stats": {
                    "unique_count": 1,
                    "nan_count": 0,
                    "categories": [
                      {
                        "name": "Baby Don't Cry (Keep...",
                        "count": 5
                      }
                    ]
                  }
                },
                {
                  "name": "time",
                  "dtype": "object",
                  "stats": {
                    "unique_count": 1,
                    "nan_count": 0,
                    "categories": [
                      {
                        "name": "4:22",
                        "count": 5
                      }
                    ]
                  }
                },
                {
                  "name": "date.entered",
                  "dtype": "object",
                  "stats": {
                    "unique_count": 1,
                    "nan_count": 0,
                    "categories": [
                      {
                        "name": "2000-02-26",
                        "count": 5
                      }
                    ]
                  }
                },
                {
                  "name": "week",
                  "dtype": "object",
                  "stats": {
                    "unique_count": 5,
                    "nan_count": 0,
                    "categories": [
                      {
                        "name": "wk1",
                        "count": 1
                      },
                      {
                        "name": "wk2",
                        "count": 1
                      },
                      {
                        "name": "3 others",
                        "count": 3
                      }
                    ]
                  }
                },
                {
                  "name": "rating",
                  "dtype": "float64",
                  "stats": {
                    "unique_count": 4,
                    "nan_count": 0,
                    "min": "72.0",
                    "max": "87.0",
                    "histogram": [
                      {
                        "bin_start": 72,
                        "bin_end": 73.5,
                        "count": 1
                      },
                      {
                        "bin_start": 73.5,
                        "bin_end": 75,
                        "count": 0
                      },
                      {
                        "bin_start": 75,
                        "bin_end": 76.5,
                        "count": 0
                      },
                      {
                        "bin_start": 76.5,
                        "bin_end": 78,
                        "count": 1
                      },
                      {
                        "bin_start": 78,
                        "bin_end": 79.5,
                        "count": 0
                      },
                      {
                        "bin_start": 79.5,
                        "bin_end": 81,
                        "count": 0
                      },
                      {
                        "bin_start": 81,
                        "bin_end": 82.5,
                        "count": 1
                      },
                      {
                        "bin_start": 82.5,
                        "bin_end": 84,
                        "count": 0
                      },
                      {
                        "bin_start": 84,
                        "bin_end": 85.5,
                        "count": 0
                      },
                      {
                        "bin_start": 85.5,
                        "bin_end": 87,
                        "count": 2
                      }
                    ]
                  }
                },
                {
                  "name": "id",
                  "dtype": "int64",
                  "stats": {
                    "unique_count": 1,
                    "nan_count": 0,
                    "min": "0",
                    "max": "0",
                    "histogram": [
                      {
                        "bin_start": -0.5,
                        "bin_end": -0.4,
                        "count": 0
                      },
                      {
                        "bin_start": -0.4,
                        "bin_end": -0.3,
                        "count": 0
                      },
                      {
                        "bin_start": -0.3,
                        "bin_end": -0.19999999999999996,
                        "count": 0
                      },
                      {
                        "bin_start": -0.19999999999999996,
                        "bin_end": -0.09999999999999998,
                        "count": 0
                      },
                      {
                        "bin_start": -0.09999999999999998,
                        "bin_end": 0,
                        "count": 0
                      },
                      {
                        "bin_start": 0,
                        "bin_end": 0.10000000000000009,
                        "count": 5
                      },
                      {
                        "bin_start": 0.10000000000000009,
                        "bin_end": 0.20000000000000007,
                        "count": 0
                      },
                      {
                        "bin_start": 0.20000000000000007,
                        "bin_end": 0.30000000000000004,
                        "count": 0
                      },
                      {
                        "bin_start": 0.30000000000000004,
                        "bin_end": 0.4,
                        "count": 0
                      },
                      {
                        "bin_start": 0.4,
                        "bin_end": 0.5,
                        "count": 0
                      }
                    ]
                  }
                },
                {
                  "name": "_deepnote_index_column",
                  "dtype": "int64"
                }
              ],
              "rows_top": [
                {
                  "year": 2000,
                  "artist": "2 Pac",
                  "track": "Baby Don't Cry (Keep...",
                  "time": "4:22",
                  "date.entered": "2000-02-26",
                  "week": "wk1",
                  "rating": 87,
                  "id": 0,
                  "_deepnote_index_column": 0
                },
                {
                  "year": 2000,
                  "artist": "2 Pac",
                  "track": "Baby Don't Cry (Keep...",
                  "time": "4:22",
                  "date.entered": "2000-02-26",
                  "week": "wk2",
                  "rating": 82,
                  "id": 0,
                  "_deepnote_index_column": 1
                },
                {
                  "year": 2000,
                  "artist": "2 Pac",
                  "track": "Baby Don't Cry (Keep...",
                  "time": "4:22",
                  "date.entered": "2000-02-26",
                  "week": "wk3",
                  "rating": 72,
                  "id": 0,
                  "_deepnote_index_column": 2
                },
                {
                  "year": 2000,
                  "artist": "2 Pac",
                  "track": "Baby Don't Cry (Keep...",
                  "time": "4:22",
                  "date.entered": "2000-02-26",
                  "week": "wk4",
                  "rating": 77,
                  "id": 0,
                  "_deepnote_index_column": 3
                },
                {
                  "year": 2000,
                  "artist": "2 Pac",
                  "track": "Baby Don't Cry (Keep...",
                  "time": "4:22",
                  "date.entered": "2000-02-26",
                  "week": "wk5",
                  "rating": 87,
                  "id": 0,
                  "_deepnote_index_column": 4
                }
              ],
              "rows_bottom": null
            },
            "text/plain": "   year artist                    track  time date.entered week  rating  id\n0  2000  2 Pac  Baby Don't Cry (Keep...  4:22   2000-02-26  wk1    87.0   0\n1  2000  2 Pac  Baby Don't Cry (Keep...  4:22   2000-02-26  wk2    82.0   0\n2  2000  2 Pac  Baby Don't Cry (Keep...  4:22   2000-02-26  wk3    72.0   0\n3  2000  2 Pac  Baby Don't Cry (Keep...  4:22   2000-02-26  wk4    77.0   0\n4  2000  2 Pac  Baby Don't Cry (Keep...  4:22   2000-02-26  wk5    87.0   0",
            "text/html": "<div>\n<style scoped>\n    .dataframe tbody tr th:only-of-type {\n        vertical-align: middle;\n    }\n\n    .dataframe tbody tr th {\n        vertical-align: top;\n    }\n\n    .dataframe thead th {\n        text-align: right;\n    }\n</style>\n<table border=\"1\" class=\"dataframe\">\n  <thead>\n    <tr style=\"text-align: right;\">\n      <th></th>\n      <th>year</th>\n      <th>artist</th>\n      <th>track</th>\n      <th>time</th>\n      <th>date.entered</th>\n      <th>week</th>\n      <th>rating</th>\n      <th>id</th>\n    </tr>\n  </thead>\n  <tbody>\n    <tr>\n      <th>0</th>\n      <td>2000</td>\n      <td>2 Pac</td>\n      <td>Baby Don't Cry (Keep...</td>\n      <td>4:22</td>\n      <td>2000-02-26</td>\n      <td>wk1</td>\n      <td>87.0</td>\n      <td>0</td>\n    </tr>\n    <tr>\n      <th>1</th>\n      <td>2000</td>\n      <td>2 Pac</td>\n      <td>Baby Don't Cry (Keep...</td>\n      <td>4:22</td>\n      <td>2000-02-26</td>\n      <td>wk2</td>\n      <td>82.0</td>\n      <td>0</td>\n    </tr>\n    <tr>\n      <th>2</th>\n      <td>2000</td>\n      <td>2 Pac</td>\n      <td>Baby Don't Cry (Keep...</td>\n      <td>4:22</td>\n      <td>2000-02-26</td>\n      <td>wk3</td>\n      <td>72.0</td>\n      <td>0</td>\n    </tr>\n    <tr>\n      <th>3</th>\n      <td>2000</td>\n      <td>2 Pac</td>\n      <td>Baby Don't Cry (Keep...</td>\n      <td>4:22</td>\n      <td>2000-02-26</td>\n      <td>wk4</td>\n      <td>77.0</td>\n      <td>0</td>\n    </tr>\n    <tr>\n      <th>4</th>\n      <td>2000</td>\n      <td>2 Pac</td>\n      <td>Baby Don't Cry (Keep...</td>\n      <td>4:22</td>\n      <td>2000-02-26</td>\n      <td>wk5</td>\n      <td>87.0</td>\n      <td>0</td>\n    </tr>\n  </tbody>\n</table>\n</div>"
          },
          "metadata": {}
        }
      ],
      "execution_count": 72
    },
    {
      "cell_type": "code",
      "source": "billboard_ratings = billboard_ratings[['id','date.entered','week','rating']]",
      "metadata": {
        "tags": [],
        "cell_id": "00082-34a4a06a-0eea-48f9-8289-bc6e2ab28316",
        "deepnote_to_be_reexecuted": false,
        "source_hash": "ae805b9e",
        "execution_start": 1620248785013,
        "execution_millis": 23,
        "deepnote_cell_type": "code"
      },
      "outputs": [],
      "execution_count": 73
    },
    {
      "cell_type": "code",
      "source": "billboard_ratings.head()",
      "metadata": {
        "tags": [],
        "cell_id": "00083-791d5202-eab9-436c-8358-4d9e2af27775",
        "deepnote_to_be_reexecuted": false,
        "source_hash": "1d92aece",
        "execution_start": 1620248785093,
        "execution_millis": 10,
        "deepnote_cell_type": "code"
      },
      "outputs": [
        {
          "output_type": "execute_result",
          "execution_count": 74,
          "data": {
            "application/vnd.deepnote.dataframe.v2+json": {
              "row_count": 5,
              "column_count": 4,
              "columns": [
                {
                  "name": "id",
                  "dtype": "int64",
                  "stats": {
                    "unique_count": 1,
                    "nan_count": 0,
                    "min": "0",
                    "max": "0",
                    "histogram": [
                      {
                        "bin_start": -0.5,
                        "bin_end": -0.4,
                        "count": 0
                      },
                      {
                        "bin_start": -0.4,
                        "bin_end": -0.3,
                        "count": 0
                      },
                      {
                        "bin_start": -0.3,
                        "bin_end": -0.19999999999999996,
                        "count": 0
                      },
                      {
                        "bin_start": -0.19999999999999996,
                        "bin_end": -0.09999999999999998,
                        "count": 0
                      },
                      {
                        "bin_start": -0.09999999999999998,
                        "bin_end": 0,
                        "count": 0
                      },
                      {
                        "bin_start": 0,
                        "bin_end": 0.10000000000000009,
                        "count": 5
                      },
                      {
                        "bin_start": 0.10000000000000009,
                        "bin_end": 0.20000000000000007,
                        "count": 0
                      },
                      {
                        "bin_start": 0.20000000000000007,
                        "bin_end": 0.30000000000000004,
                        "count": 0
                      },
                      {
                        "bin_start": 0.30000000000000004,
                        "bin_end": 0.4,
                        "count": 0
                      },
                      {
                        "bin_start": 0.4,
                        "bin_end": 0.5,
                        "count": 0
                      }
                    ]
                  }
                },
                {
                  "name": "date.entered",
                  "dtype": "object",
                  "stats": {
                    "unique_count": 1,
                    "nan_count": 0,
                    "categories": [
                      {
                        "name": "2000-02-26",
                        "count": 5
                      }
                    ]
                  }
                },
                {
                  "name": "week",
                  "dtype": "object",
                  "stats": {
                    "unique_count": 5,
                    "nan_count": 0,
                    "categories": [
                      {
                        "name": "wk1",
                        "count": 1
                      },
                      {
                        "name": "wk2",
                        "count": 1
                      },
                      {
                        "name": "3 others",
                        "count": 3
                      }
                    ]
                  }
                },
                {
                  "name": "rating",
                  "dtype": "float64",
                  "stats": {
                    "unique_count": 4,
                    "nan_count": 0,
                    "min": "72.0",
                    "max": "87.0",
                    "histogram": [
                      {
                        "bin_start": 72,
                        "bin_end": 73.5,
                        "count": 1
                      },
                      {
                        "bin_start": 73.5,
                        "bin_end": 75,
                        "count": 0
                      },
                      {
                        "bin_start": 75,
                        "bin_end": 76.5,
                        "count": 0
                      },
                      {
                        "bin_start": 76.5,
                        "bin_end": 78,
                        "count": 1
                      },
                      {
                        "bin_start": 78,
                        "bin_end": 79.5,
                        "count": 0
                      },
                      {
                        "bin_start": 79.5,
                        "bin_end": 81,
                        "count": 0
                      },
                      {
                        "bin_start": 81,
                        "bin_end": 82.5,
                        "count": 1
                      },
                      {
                        "bin_start": 82.5,
                        "bin_end": 84,
                        "count": 0
                      },
                      {
                        "bin_start": 84,
                        "bin_end": 85.5,
                        "count": 0
                      },
                      {
                        "bin_start": 85.5,
                        "bin_end": 87,
                        "count": 2
                      }
                    ]
                  }
                },
                {
                  "name": "_deepnote_index_column",
                  "dtype": "int64"
                }
              ],
              "rows_top": [
                {
                  "id": 0,
                  "date.entered": "2000-02-26",
                  "week": "wk1",
                  "rating": 87,
                  "_deepnote_index_column": 0
                },
                {
                  "id": 0,
                  "date.entered": "2000-02-26",
                  "week": "wk2",
                  "rating": 82,
                  "_deepnote_index_column": 1
                },
                {
                  "id": 0,
                  "date.entered": "2000-02-26",
                  "week": "wk3",
                  "rating": 72,
                  "_deepnote_index_column": 2
                },
                {
                  "id": 0,
                  "date.entered": "2000-02-26",
                  "week": "wk4",
                  "rating": 77,
                  "_deepnote_index_column": 3
                },
                {
                  "id": 0,
                  "date.entered": "2000-02-26",
                  "week": "wk5",
                  "rating": 87,
                  "_deepnote_index_column": 4
                }
              ],
              "rows_bottom": null
            },
            "text/plain": "   id date.entered week  rating\n0   0   2000-02-26  wk1    87.0\n1   0   2000-02-26  wk2    82.0\n2   0   2000-02-26  wk3    72.0\n3   0   2000-02-26  wk4    77.0\n4   0   2000-02-26  wk5    87.0",
            "text/html": "<div>\n<style scoped>\n    .dataframe tbody tr th:only-of-type {\n        vertical-align: middle;\n    }\n\n    .dataframe tbody tr th {\n        vertical-align: top;\n    }\n\n    .dataframe thead th {\n        text-align: right;\n    }\n</style>\n<table border=\"1\" class=\"dataframe\">\n  <thead>\n    <tr style=\"text-align: right;\">\n      <th></th>\n      <th>id</th>\n      <th>date.entered</th>\n      <th>week</th>\n      <th>rating</th>\n    </tr>\n  </thead>\n  <tbody>\n    <tr>\n      <th>0</th>\n      <td>0</td>\n      <td>2000-02-26</td>\n      <td>wk1</td>\n      <td>87.0</td>\n    </tr>\n    <tr>\n      <th>1</th>\n      <td>0</td>\n      <td>2000-02-26</td>\n      <td>wk2</td>\n      <td>82.0</td>\n    </tr>\n    <tr>\n      <th>2</th>\n      <td>0</td>\n      <td>2000-02-26</td>\n      <td>wk3</td>\n      <td>72.0</td>\n    </tr>\n    <tr>\n      <th>3</th>\n      <td>0</td>\n      <td>2000-02-26</td>\n      <td>wk4</td>\n      <td>77.0</td>\n    </tr>\n    <tr>\n      <th>4</th>\n      <td>0</td>\n      <td>2000-02-26</td>\n      <td>wk5</td>\n      <td>87.0</td>\n    </tr>\n  </tbody>\n</table>\n</div>"
          },
          "metadata": {}
        }
      ],
      "execution_count": 74
    },
    {
      "cell_type": "code",
      "source": "billboard_ratings.to_csv('billboard_ratings.csv', index=False)",
      "metadata": {
        "tags": [],
        "cell_id": "00084-756fe23f-9d6a-4b8a-88f1-90533000565e",
        "deepnote_to_be_reexecuted": false,
        "source_hash": "461578f1",
        "execution_start": 1620248785138,
        "execution_millis": 13,
        "deepnote_cell_type": "code"
      },
      "outputs": [],
      "execution_count": 75
    },
    {
      "cell_type": "markdown",
      "source": "### The cleaned dataframes billboard_ratings and billboard_songs are smaller than the original dataframe billboard_melt.\n### This is better for storage.",
      "metadata": {
        "tags": [],
        "cell_id": "00085-f83f0d4d-bea8-4716-8784-22e6cd7c4e06",
        "deepnote_cell_type": "markdown"
      }
    },
    {
      "cell_type": "code",
      "source": "billboard_ratings.info()",
      "metadata": {
        "tags": [],
        "cell_id": "00085-df236410-0ff5-4904-a2a8-192fdb97cb98",
        "deepnote_to_be_reexecuted": false,
        "source_hash": "5ebdbb98",
        "execution_start": 1620248785206,
        "execution_millis": 6,
        "deepnote_cell_type": "code"
      },
      "outputs": [
        {
          "name": "stdout",
          "text": "<class 'pandas.core.frame.DataFrame'>\nInt64Index: 24092 entries, 0 to 24091\nData columns (total 4 columns):\n #   Column        Non-Null Count  Dtype  \n---  ------        --------------  -----  \n 0   id            24092 non-null  int64  \n 1   date.entered  24092 non-null  object \n 2   week          24092 non-null  object \n 3   rating        5307 non-null   float64\ndtypes: float64(1), int64(1), object(2)\nmemory usage: 941.1+ KB\n",
          "output_type": "stream"
        }
      ],
      "execution_count": 76
    },
    {
      "cell_type": "markdown",
      "source": "## Summary\n### 1. Column headers are values, not variable names:\n### - Melt the dataset \n### 2. Multiple variables are stored in one column:\n### - Melt the dataset, and use some string manipulation/processing\n### 3. Variables are stored in both rows and columns:\n### - Melt, then pivot back up\n### 4. Multiple types of observational units are stored in the same table:\n### - Break information up in multiple datasets\n### 5. A single observational unit is stored in multiple tables:\n### - Merge smaller datasets for analysis",
      "metadata": {
        "tags": [],
        "cell_id": "00087-5e7947f8-c2bd-4f42-b34c-e15b3d61d296",
        "deepnote_cell_type": "markdown"
      }
    },
    {
      "cell_type": "markdown",
      "source": "<a style='text-decoration:none;line-height:16px;display:flex;color:#5B5B62;padding:10px;justify-content:end;' href='https://deepnote.com?utm_source=created-in-deepnote-cell&projectId=e724fedd-4d55-4022-982f-31bf2f312f26' target=\"_blank\">\n<img alt='Created in deepnote.com' style='display:inline;max-height:16px;margin:0px;margin-right:7.5px;' src='data:image/svg+xml;base64,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' > </img>\nCreated in <span style='font-weight:600;margin-left:4px;'>Deepnote</span></a>",
      "metadata": {
        "tags": [],
        "created_in_deepnote_cell": true,
        "deepnote_cell_type": "markdown"
      }
    }
  ],
  "nbformat": 4,
  "nbformat_minor": 2,
  "metadata": {
    "orig_nbformat": 2,
    "deepnote": {
      "is_reactive": false
    },
    "deepnote_notebook_id": "8ba6d492-3bc1-49c0-bf41-0e51d7117a7b",
    "deepnote_execution_queue": []
  }
}