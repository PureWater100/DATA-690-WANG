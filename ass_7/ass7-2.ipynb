{
 "cells": [
  {
   "cell_type": "markdown",
   "source": "# Assignment 07",
   "metadata": {
    "tags": [],
    "cell_id": "00000-cea310bc-cfe9-4d2d-a0d7-e8aabab14f74",
    "deepnote_cell_type": "markdown"
   }
  },
  {
   "cell_type": "markdown",
   "source": "## 1 - Import libraries",
   "metadata": {
    "tags": [],
    "cell_id": "00001-249d77a9-80e0-411d-a684-6adad4272820",
    "deepnote_cell_type": "markdown"
   }
  },
  {
   "cell_type": "code",
   "metadata": {
    "tags": [],
    "cell_id": "00000-8a45ef15-12e6-49d6-bba0-2184ed6a3356",
    "deepnote_to_be_reexecuted": false,
    "source_hash": "d6d26880",
    "execution_millis": 1531,
    "execution_start": 1620441943194,
    "deepnote_cell_type": "code"
   },
   "source": "#import os and pandas\nimport os\nimport pandas as pd\n#import plotly express:\nimport plotly.express as px\nimport plotly.io as pio\npio.templates.default = \"plotly_dark\"",
   "execution_count": 1,
   "outputs": []
  },
  {
   "cell_type": "markdown",
   "source": "## 2 - Display the current working directory using os.getcwd()",
   "metadata": {
    "tags": [],
    "cell_id": "00003-0bfb6a6b-ebc6-4a54-ab86-5df885896ab5",
    "deepnote_cell_type": "markdown"
   }
  },
  {
   "cell_type": "code",
   "metadata": {
    "tags": [],
    "cell_id": "00003-ff44cb0c-e0cb-4fbe-9768-448e48444474",
    "deepnote_to_be_reexecuted": false,
    "source_hash": "56342e36",
    "execution_millis": 15,
    "execution_start": 1620441944729,
    "deepnote_cell_type": "code"
   },
   "source": "#get name of current folder\ncurrent_folder = os.getcwd()\nprint(current_folder)",
   "execution_count": 2,
   "outputs": [
    {
     "name": "stdout",
     "text": "/work\n",
     "output_type": "stream"
    }
   ]
  },
  {
   "cell_type": "markdown",
   "source": "## 3 - Use listdir to assign the contents (list of file names) of the data folder to a variable and display it",
   "metadata": {
    "tags": [],
    "cell_id": "00005-0cfdcbb5-cb2a-48c0-9a0a-6370b1951c9e",
    "deepnote_cell_type": "markdown"
   }
  },
  {
   "cell_type": "code",
   "metadata": {
    "tags": [],
    "cell_id": "00006-0a555c8e-d652-4f5f-abe4-938943c3e3ec",
    "deepnote_to_be_reexecuted": false,
    "source_hash": "374625c1",
    "execution_millis": 143,
    "execution_start": 1620441944740,
    "deepnote_cell_type": "code"
   },
   "source": "file_list = os.listdir(\"./data/input/\")\nfile_list",
   "execution_count": 3,
   "outputs": [
    {
     "output_type": "execute_result",
     "execution_count": 3,
     "data": {
      "text/plain": "['Most-Recent-Cohorts-All-Data-Elements.csv',\n 'data.yaml',\n 'MERGED2002_03_PP.csv',\n 'MERGED1997_98_PP.csv',\n 'MERGED2015_16_PP.csv',\n 'MERGED2013_14_PP.csv',\n 'MERGED1996_97_PP.csv',\n 'MERGED2000_01_PP.csv',\n 'MERGED2011_12_PP.csv',\n 'MERGED2007_08_PP.csv',\n 'MERGED2004_05_PP.csv',\n 'MERGED2006_07_PP.csv',\n 'MERGED2018_19_PP.csv',\n 'Crosswalks.zip',\n 'MERGED2012_13_PP.csv',\n 'Most-Recent-Cohorts-Field-of-Study.csv',\n 'MERGED1999_00_PP.csv',\n 'MERGED2005_06_PP.csv',\n 'MERGED2003_04_PP.csv',\n 'MERGED1998_99_PP.csv',\n 'MERGED2010_11_PP.csv',\n 'MERGED2009_10_PP.csv',\n 'MERGED2001_02_PP.csv',\n 'MERGED2017_18_PP.csv',\n 'FieldOfStudyData1415_1516_PP.csv',\n 'FieldOfStudyData1617_1718_PP.csv',\n 'MERGED2014_15_PP.csv',\n 'MERGED2016_17_PP.csv',\n 'MERGED2008_09_PP.csv',\n 'FieldOfStudyData1516_1617_PP.csv']"
     },
     "metadata": {}
    }
   ]
  },
  {
   "cell_type": "markdown",
   "source": "## 4 - Remove unwanted files from the list",
   "metadata": {
    "tags": [],
    "cell_id": "00007-68a80e8f-b89b-4d83-b27c-332a0c5c8e11",
    "deepnote_cell_type": "markdown"
   }
  },
  {
   "cell_type": "code",
   "metadata": {
    "tags": [],
    "cell_id": "00008-c90bd845-239f-4286-81f6-38cfaf454f19",
    "deepnote_to_be_reexecuted": false,
    "source_hash": "7b73ea80",
    "execution_millis": 77,
    "execution_start": 1620441944806,
    "deepnote_cell_type": "code"
   },
   "source": "clean_list = []\n\nfor x in file_list:\n    if \"MERGED\" in x:\n        clean_list.append(x)\n\nclean_list",
   "execution_count": 4,
   "outputs": [
    {
     "output_type": "execute_result",
     "execution_count": 4,
     "data": {
      "text/plain": "['MERGED2002_03_PP.csv',\n 'MERGED1997_98_PP.csv',\n 'MERGED2015_16_PP.csv',\n 'MERGED2013_14_PP.csv',\n 'MERGED1996_97_PP.csv',\n 'MERGED2000_01_PP.csv',\n 'MERGED2011_12_PP.csv',\n 'MERGED2007_08_PP.csv',\n 'MERGED2004_05_PP.csv',\n 'MERGED2006_07_PP.csv',\n 'MERGED2018_19_PP.csv',\n 'MERGED2012_13_PP.csv',\n 'MERGED1999_00_PP.csv',\n 'MERGED2005_06_PP.csv',\n 'MERGED2003_04_PP.csv',\n 'MERGED1998_99_PP.csv',\n 'MERGED2010_11_PP.csv',\n 'MERGED2009_10_PP.csv',\n 'MERGED2001_02_PP.csv',\n 'MERGED2017_18_PP.csv',\n 'MERGED2014_15_PP.csv',\n 'MERGED2016_17_PP.csv',\n 'MERGED2008_09_PP.csv']"
     },
     "metadata": {}
    }
   ]
  },
  {
   "cell_type": "markdown",
   "source": "## 5 - Read the yearly files into one dataframe\n### This dataframe only has six columns from each file:\n### [\"UNITID\", \"INSTNM\", \"STABBR\", \"REGION\", \"ADM_RATE\", \"TUITIONFEE_IN\"]\n### Plus an additional column named YEAR, to differentiate the data frames from each other.\n### Note: Adding this YEAR column is especially tricky, as described in the following code comments. ",
   "metadata": {
    "tags": [],
    "cell_id": "00009-7aa9ebda-051e-4f13-93ec-4d870a6722f2",
    "deepnote_cell_type": "markdown"
   }
  },
  {
   "cell_type": "code",
   "metadata": {
    "tags": [],
    "cell_id": "00016-bc912c4c-85bc-42e7-8992-9d0909f8b421",
    "deepnote_to_be_reexecuted": false,
    "source_hash": "14289f70",
    "execution_millis": 30334,
    "execution_start": 1620441944807,
    "deepnote_cell_type": "code"
   },
   "source": "lisa = [] #list that will store each data frame\n\n#lisa will be concatenated into a new, single data frame called frame\n\nfor x in clean_list:\n    filename = \"./data/input/\" + x\n    df = pd.read_csv(filename,usecols=[\"UNITID\", \"INSTNM\", \"STABBR\", \"REGION\", \"ADM_RATE\", \"TUITIONFEE_IN\"]) #read in each data frame inside clean_list\n    lisa.append(df) #append the individual data frame to lisa\n\n    #SUPER IMPORTANT: create a year column for each INDIVIDUAL data frame\n    #EACH ROW INSIDE EACH INDIVIDUAL data frame must have a value \n    #this must be done prior to concatenating the individual data frames together\n    #FYI: if you put this line of code before \"lisa.append(df)\", that's an error \n    df = df.insert(0, \"YEAR\", x[6:10], True)\n    \nframe = pd.concat(lisa, axis=0, ignore_index=True)",
   "execution_count": 5,
   "outputs": []
  },
  {
   "cell_type": "code",
   "metadata": {
    "tags": [],
    "cell_id": "00019-b36ecb84-5b6e-493e-8db8-209fa55615d9",
    "deepnote_to_be_reexecuted": false,
    "source_hash": "286265fc",
    "execution_millis": 74,
    "execution_start": 1620441975142,
    "deepnote_cell_type": "code"
   },
   "source": "frame",
   "execution_count": 6,
   "outputs": [
    {
     "output_type": "execute_result",
     "execution_count": 6,
     "data": {
      "application/vnd.deepnote.dataframe.v2+json": {
       "row_count": 163331,
       "column_count": 7,
       "columns": [
        {
         "name": "YEAR",
         "dtype": "object"
        },
        {
         "name": "UNITID",
         "dtype": "int64"
        },
        {
         "name": "INSTNM",
         "dtype": "object"
        },
        {
         "name": "STABBR",
         "dtype": "object"
        },
        {
         "name": "REGION",
         "dtype": "float64"
        },
        {
         "name": "ADM_RATE",
         "dtype": "float64"
        },
        {
         "name": "TUITIONFEE_IN",
         "dtype": "float64"
        },
        {
         "name": "_deepnote_index_column",
         "dtype": "int64"
        }
       ],
       "rows_top": [
        {
         "YEAR": "2002",
         "UNITID": 100636,
         "INSTNM": "Community College of the Air Force",
         "STABBR": "AL",
         "REGION": 0,
         "ADM_RATE": "nan",
         "TUITIONFEE_IN": "nan",
         "_deepnote_index_column": 0
        },
        {
         "YEAR": "2002",
         "UNITID": 100654,
         "INSTNM": "Alabama A & M University",
         "STABBR": "AL",
         "REGION": 5,
         "ADM_RATE": "0.5575",
         "TUITIONFEE_IN": "3040.0",
         "_deepnote_index_column": 1
        },
        {
         "YEAR": "2002",
         "UNITID": 100663,
         "INSTNM": "University of Alabama at Birmingham",
         "STABBR": "AL",
         "REGION": 5,
         "ADM_RATE": "0.9117",
         "TUITIONFEE_IN": "3880.0",
         "_deepnote_index_column": 2
        },
        {
         "YEAR": "2002",
         "UNITID": 100690,
         "INSTNM": "Amridge University",
         "STABBR": "AL",
         "REGION": 5,
         "ADM_RATE": "nan",
         "TUITIONFEE_IN": "8960.0",
         "_deepnote_index_column": 3
        },
        {
         "YEAR": "2002",
         "UNITID": 100706,
         "INSTNM": "University of Alabama in Huntsville",
         "STABBR": "AL",
         "REGION": 5,
         "ADM_RATE": "0.905",
         "TUITIONFEE_IN": "3764.0",
         "_deepnote_index_column": 4
        },
        {
         "YEAR": "2002",
         "UNITID": 100724,
         "INSTNM": "Alabama State University",
         "STABBR": "AL",
         "REGION": 5,
         "ADM_RATE": "0.6931",
         "TUITIONFEE_IN": "2904.0",
         "_deepnote_index_column": 5
        },
        {
         "YEAR": "2002",
         "UNITID": 100751,
         "INSTNM": "The University of Alabama",
         "STABBR": "AL",
         "REGION": 5,
         "ADM_RATE": "0.8462",
         "TUITIONFEE_IN": "3556.0",
         "_deepnote_index_column": 6
        },
        {
         "YEAR": "2002",
         "UNITID": 100760,
         "INSTNM": "Central Alabama Community College",
         "STABBR": "AL",
         "REGION": 5,
         "ADM_RATE": "nan",
         "TUITIONFEE_IN": "2040.0",
         "_deepnote_index_column": 7
        },
        {
         "YEAR": "2002",
         "UNITID": 100812,
         "INSTNM": "Athens State University",
         "STABBR": "AL",
         "REGION": 5,
         "ADM_RATE": "nan",
         "TUITIONFEE_IN": "nan",
         "_deepnote_index_column": 8
        },
        {
         "YEAR": "2002",
         "UNITID": 100830,
         "INSTNM": "Auburn University at Montgomery",
         "STABBR": "AL",
         "REGION": 5,
         "ADM_RATE": "0.9925",
         "TUITIONFEE_IN": "3620.0",
         "_deepnote_index_column": 9
        },
        {
         "YEAR": "2002",
         "UNITID": 100858,
         "INSTNM": "Auburn University",
         "STABBR": "AL",
         "REGION": 5,
         "ADM_RATE": "0.8289",
         "TUITIONFEE_IN": "3784.0",
         "_deepnote_index_column": 10
        },
        {
         "YEAR": "2002",
         "UNITID": 100919,
         "INSTNM": "Lawson State Community College-Bessemer Campus",
         "STABBR": "AL",
         "REGION": 5,
         "ADM_RATE": "nan",
         "TUITIONFEE_IN": "1743.0",
         "_deepnote_index_column": 11
        },
        {
         "YEAR": "2002",
         "UNITID": 100937,
         "INSTNM": "Birmingham-Southern College",
         "STABBR": "AL",
         "REGION": 5,
         "ADM_RATE": "0.8948",
         "TUITIONFEE_IN": "17650.0",
         "_deepnote_index_column": 12
        },
        {
         "YEAR": "2002",
         "UNITID": 100973,
         "INSTNM": "Shelton State Community College-C A Fredd Campus",
         "STABBR": "AL",
         "REGION": 5,
         "ADM_RATE": "nan",
         "TUITIONFEE_IN": "2280.0",
         "_deepnote_index_column": 13
        },
        {
         "YEAR": "2002",
         "UNITID": 101028,
         "INSTNM": "Chattahoochee Valley Community College",
         "STABBR": "AL",
         "REGION": 5,
         "ADM_RATE": "nan",
         "TUITIONFEE_IN": "2100.0",
         "_deepnote_index_column": 14
        },
        {
         "YEAR": "2002",
         "UNITID": 101073,
         "INSTNM": "Concordia College Alabama",
         "STABBR": "AL",
         "REGION": 5,
         "ADM_RATE": "nan",
         "TUITIONFEE_IN": "6104.0",
         "_deepnote_index_column": 15
        },
        {
         "YEAR": "2002",
         "UNITID": 101107,
         "INSTNM": "LURLEEN B WALLACE COMMUNITY COLLEGE-MACARTHUR CAMP",
         "STABBR": "AL",
         "REGION": 5,
         "ADM_RATE": "nan",
         "TUITIONFEE_IN": "1920.0",
         "_deepnote_index_column": 16
        },
        {
         "YEAR": "2002",
         "UNITID": 101116,
         "INSTNM": "South University-Montgomery",
         "STABBR": "AL",
         "REGION": 5,
         "ADM_RATE": "1.0",
         "TUITIONFEE_IN": "9585.0",
         "_deepnote_index_column": 17
        },
        {
         "YEAR": "2002",
         "UNITID": 101143,
         "INSTNM": "Enterprise State Community College",
         "STABBR": "AL",
         "REGION": 5,
         "ADM_RATE": "nan",
         "TUITIONFEE_IN": "2040.0",
         "_deepnote_index_column": 18
        },
        {
         "YEAR": "2002",
         "UNITID": 101161,
         "INSTNM": "Coastal Alabama Community College",
         "STABBR": "AL",
         "REGION": 5,
         "ADM_RATE": "nan",
         "TUITIONFEE_IN": "1896.0",
         "_deepnote_index_column": 19
        },
        {
         "YEAR": "2002",
         "UNITID": 101189,
         "INSTNM": "Faulkner University",
         "STABBR": "AL",
         "REGION": 5,
         "ADM_RATE": "0.7342",
         "TUITIONFEE_IN": "9300.0",
         "_deepnote_index_column": 20
        },
        {
         "YEAR": "2002",
         "UNITID": 101198,
         "INSTNM": "FAULKNER UNIVERSITY-BIRMINGHAM",
         "STABBR": "AL",
         "REGION": 5,
         "ADM_RATE": "1.0",
         "TUITIONFEE_IN": "4570.0",
         "_deepnote_index_column": 21
        },
        {
         "YEAR": "2002",
         "UNITID": 101213,
         "INSTNM": "FAULKNER UNIVERSITY",
         "STABBR": "AL",
         "REGION": 5,
         "ADM_RATE": "0.9444",
         "TUITIONFEE_IN": "4080.0",
         "_deepnote_index_column": 22
        },
        {
         "YEAR": "2002",
         "UNITID": 101231,
         "INSTNM": "Gadsden Business College",
         "STABBR": "AL",
         "REGION": 5,
         "ADM_RATE": "0.8",
         "TUITIONFEE_IN": "6830.0",
         "_deepnote_index_column": 23
        },
        {
         "YEAR": "2002",
         "UNITID": 101240,
         "INSTNM": "Gadsden State Community College",
         "STABBR": "AL",
         "REGION": 5,
         "ADM_RATE": "nan",
         "TUITIONFEE_IN": "1824.0",
         "_deepnote_index_column": 24
        },
        {
         "YEAR": "2002",
         "UNITID": 101268,
         "INSTNM": "GADSDEN BUSINESS COLLEGE-ANNISTON",
         "STABBR": "AL",
         "REGION": 5,
         "ADM_RATE": "0.7989",
         "TUITIONFEE_IN": "6795.0",
         "_deepnote_index_column": 25
        },
        {
         "YEAR": "2002",
         "UNITID": 101286,
         "INSTNM": "George C Wallace Community College-Dothan",
         "STABBR": "AL",
         "REGION": 5,
         "ADM_RATE": "nan",
         "TUITIONFEE_IN": "2040.0",
         "_deepnote_index_column": 26
        },
        {
         "YEAR": "2002",
         "UNITID": 101295,
         "INSTNM": "George C Wallace State Community College-Hanceville",
         "STABBR": "AL",
         "REGION": 5,
         "ADM_RATE": "nan",
         "TUITIONFEE_IN": "2108.0",
         "_deepnote_index_column": 27
        },
        {
         "YEAR": "2002",
         "UNITID": 101301,
         "INSTNM": "George C Wallace State Community College-Selma",
         "STABBR": "AL",
         "REGION": 5,
         "ADM_RATE": "nan",
         "TUITIONFEE_IN": "2040.0",
         "_deepnote_index_column": 28
        },
        {
         "YEAR": "2002",
         "UNITID": 101347,
         "INSTNM": "GADSDEN STATE COMMUNITY COLLEGE-AYERS CAMPUS",
         "STABBR": "AL",
         "REGION": 5,
         "ADM_RATE": "nan",
         "TUITIONFEE_IN": "2448.0",
         "_deepnote_index_column": 29
        },
        {
         "YEAR": "2002",
         "UNITID": 101365,
         "INSTNM": "Herzing University-Birmingham",
         "STABBR": "AL",
         "REGION": 5,
         "ADM_RATE": "0.5421",
         "TUITIONFEE_IN": "7950.0",
         "_deepnote_index_column": 30
        },
        {
         "YEAR": "2002",
         "UNITID": 101435,
         "INSTNM": "Huntingdon College",
         "STABBR": "AL",
         "REGION": 5,
         "ADM_RATE": "0.771",
         "TUITIONFEE_IN": "13800.0",
         "_deepnote_index_column": 31
        },
        {
         "YEAR": "2002",
         "UNITID": 101453,
         "INSTNM": "Heritage Christian University",
         "STABBR": "AL",
         "REGION": 5,
         "ADM_RATE": "nan",
         "TUITIONFEE_IN": "5496.0",
         "_deepnote_index_column": 32
        },
        {
         "YEAR": "2002",
         "UNITID": 101462,
         "INSTNM": "J. F. Drake State Community and Technical College",
         "STABBR": "AL",
         "REGION": 5,
         "ADM_RATE": "nan",
         "TUITIONFEE_IN": "1824.0",
         "_deepnote_index_column": 33
        },
        {
         "YEAR": "2002",
         "UNITID": 101471,
         "INSTNM": "J F Ingram State Technical College",
         "STABBR": "AL",
         "REGION": 5,
         "ADM_RATE": "nan",
         "TUITIONFEE_IN": "1800.0",
         "_deepnote_index_column": 34
        },
        {
         "YEAR": "2002",
         "UNITID": 101480,
         "INSTNM": "Jacksonville State University",
         "STABBR": "AL",
         "REGION": 5,
         "ADM_RATE": "0.7727",
         "TUITIONFEE_IN": "3240.0",
         "_deepnote_index_column": 35
        },
        {
         "YEAR": "2002",
         "UNITID": 101499,
         "INSTNM": "Jefferson Davis Community College",
         "STABBR": "AL",
         "REGION": 5,
         "ADM_RATE": "nan",
         "TUITIONFEE_IN": "2048.0",
         "_deepnote_index_column": 36
        },
        {
         "YEAR": "2002",
         "UNITID": 101505,
         "INSTNM": "Jefferson State Community College",
         "STABBR": "AL",
         "REGION": 5,
         "ADM_RATE": "nan",
         "TUITIONFEE_IN": "1824.0",
         "_deepnote_index_column": 37
        },
        {
         "YEAR": "2002",
         "UNITID": 101514,
         "INSTNM": "John C Calhoun State Community College",
         "STABBR": "AL",
         "REGION": 5,
         "ADM_RATE": "nan",
         "TUITIONFEE_IN": "1950.0",
         "_deepnote_index_column": 38
        },
        {
         "YEAR": "2002",
         "UNITID": 101523,
         "INSTNM": "H COUNCILL TRENHOLM STATE TECHNICAL COLLEGE-PATTER",
         "STABBR": "AL",
         "REGION": 5,
         "ADM_RATE": "nan",
         "TUITIONFEE_IN": "2736.0",
         "_deepnote_index_column": 39
        },
        {
         "YEAR": "2002",
         "UNITID": 101541,
         "INSTNM": "Judson College",
         "STABBR": "AL",
         "REGION": 5,
         "ADM_RATE": "0.8069",
         "TUITIONFEE_IN": "8150.0",
         "_deepnote_index_column": 40
        },
        {
         "YEAR": "2002",
         "UNITID": 101569,
         "INSTNM": "Lawson State Community College",
         "STABBR": "AL",
         "REGION": 5,
         "ADM_RATE": "nan",
         "TUITIONFEE_IN": "3060.0",
         "_deepnote_index_column": 41
        },
        {
         "YEAR": "2002",
         "UNITID": 101587,
         "INSTNM": "University of West Alabama",
         "STABBR": "AL",
         "REGION": 5,
         "ADM_RATE": "0.3986",
         "TUITIONFEE_IN": "3498.0",
         "_deepnote_index_column": 42
        },
        {
         "YEAR": "2002",
         "UNITID": 101602,
         "INSTNM": "Lurleen B Wallace Community College",
         "STABBR": "AL",
         "REGION": 5,
         "ADM_RATE": "nan",
         "TUITIONFEE_IN": "1800.0",
         "_deepnote_index_column": 43
        },
        {
         "YEAR": "2002",
         "UNITID": 101648,
         "INSTNM": "Marion Military Institute",
         "STABBR": "AL",
         "REGION": 5,
         "ADM_RATE": "nan",
         "TUITIONFEE_IN": "10430.0",
         "_deepnote_index_column": 44
        },
        {
         "YEAR": "2002",
         "UNITID": 101675,
         "INSTNM": "Miles College",
         "STABBR": "AL",
         "REGION": 5,
         "ADM_RATE": "nan",
         "TUITIONFEE_IN": "5008.0",
         "_deepnote_index_column": 45
        },
        {
         "YEAR": "2002",
         "UNITID": 101693,
         "INSTNM": "University of Mobile",
         "STABBR": "AL",
         "REGION": 5,
         "ADM_RATE": "0.9958",
         "TUITIONFEE_IN": "8940.0",
         "_deepnote_index_column": 46
        },
        {
         "YEAR": "2002",
         "UNITID": 101709,
         "INSTNM": "University of Montevallo",
         "STABBR": "AL",
         "REGION": 5,
         "ADM_RATE": "0.7261",
         "TUITIONFEE_IN": "3506.0",
         "_deepnote_index_column": 47
        },
        {
         "YEAR": "2002",
         "UNITID": 101736,
         "INSTNM": "Northwest-Shoals Community College",
         "STABBR": "AL",
         "REGION": 5,
         "ADM_RATE": "nan",
         "TUITIONFEE_IN": "2040.0",
         "_deepnote_index_column": 48
        },
        {
         "YEAR": "2002",
         "UNITID": 101879,
         "INSTNM": "University of North Alabama",
         "STABBR": "AL",
         "REGION": 5,
         "ADM_RATE": "0.8413",
         "TUITIONFEE_IN": "3140.0",
         "_deepnote_index_column": 49
        },
        {
         "YEAR": "2002",
         "UNITID": 101897,
         "INSTNM": "Northeast Alabama Community College",
         "STABBR": "AL",
         "REGION": 5,
         "ADM_RATE": "nan",
         "TUITIONFEE_IN": "1632.0",
         "_deepnote_index_column": 50
        },
        {
         "YEAR": "2002",
         "UNITID": 101912,
         "INSTNM": "Oakwood University",
         "STABBR": "AL",
         "REGION": 5,
         "ADM_RATE": "0.5478",
         "TUITIONFEE_IN": "10194.0",
         "_deepnote_index_column": 51
        },
        {
         "YEAR": "2002",
         "UNITID": 101949,
         "INSTNM": "Alabama Southern Community College",
         "STABBR": "AL",
         "REGION": 5,
         "ADM_RATE": "nan",
         "TUITIONFEE_IN": "2460.0",
         "_deepnote_index_column": 52
        },
        {
         "YEAR": "2002",
         "UNITID": 101958,
         "INSTNM": "Prince Institute-Southeast",
         "STABBR": "IL",
         "REGION": 3,
         "ADM_RATE": "nan",
         "TUITIONFEE_IN": "5520.0",
         "_deepnote_index_column": 53
        },
        {
         "YEAR": "2002",
         "UNITID": 101994,
         "INSTNM": "Reid State Technical College",
         "STABBR": "AL",
         "REGION": 5,
         "ADM_RATE": "nan",
         "TUITIONFEE_IN": "2040.0",
         "_deepnote_index_column": 54
        },
        {
         "YEAR": "2002",
         "UNITID": 102030,
         "INSTNM": "Bishop State Community College",
         "STABBR": "AL",
         "REGION": 5,
         "ADM_RATE": "nan",
         "TUITIONFEE_IN": "1824.0",
         "_deepnote_index_column": 55
        },
        {
         "YEAR": "2002",
         "UNITID": 102049,
         "INSTNM": "Samford University",
         "STABBR": "AL",
         "REGION": 5,
         "ADM_RATE": "0.8859",
         "TUITIONFEE_IN": "12294.0",
         "_deepnote_index_column": 56
        },
        {
         "YEAR": "2002",
         "UNITID": 102067,
         "INSTNM": "Shelton State Community College",
         "STABBR": "AL",
         "REGION": 5,
         "ADM_RATE": "nan",
         "TUITIONFEE_IN": "2280.0",
         "_deepnote_index_column": 57
        },
        {
         "YEAR": "2002",
         "UNITID": 102076,
         "INSTNM": "Snead State Community College",
         "STABBR": "AL",
         "REGION": 5,
         "ADM_RATE": "nan",
         "TUITIONFEE_IN": "2176.0",
         "_deepnote_index_column": 58
        },
        {
         "YEAR": "2002",
         "UNITID": 102094,
         "INSTNM": "University of South Alabama",
         "STABBR": "AL",
         "REGION": 5,
         "ADM_RATE": "0.9279",
         "TUITIONFEE_IN": "3410.0",
         "_deepnote_index_column": 59
        },
        {
         "YEAR": "2002",
         "UNITID": 102100,
         "INSTNM": "UNIVERSITY OF SOUTH ALABAMA-BALDWIN",
         "STABBR": "AL",
         "REGION": 5,
         "ADM_RATE": "nan",
         "TUITIONFEE_IN": "nan",
         "_deepnote_index_column": 60
        },
        {
         "YEAR": "2002",
         "UNITID": 102216,
         "INSTNM": "Southern Community College",
         "STABBR": "AL",
         "REGION": 5,
         "ADM_RATE": "nan",
         "TUITIONFEE_IN": "4500.0",
         "_deepnote_index_column": 61
        },
        {
         "YEAR": "2002",
         "UNITID": 102234,
         "INSTNM": "Spring Hill College",
         "STABBR": "AL",
         "REGION": 5,
         "ADM_RATE": "0.8057",
         "TUITIONFEE_IN": "18092.0",
         "_deepnote_index_column": 62
        },
        {
         "YEAR": "2002",
         "UNITID": 102261,
         "INSTNM": "Southeastern Bible College",
         "STABBR": "AL",
         "REGION": 5,
         "ADM_RATE": "0.6934",
         "TUITIONFEE_IN": "6575.0",
         "_deepnote_index_column": 63
        },
        {
         "YEAR": "2002",
         "UNITID": 102270,
         "INSTNM": "Stillman College",
         "STABBR": "AL",
         "REGION": 5,
         "ADM_RATE": "0.4644",
         "TUITIONFEE_IN": "7848.0",
         "_deepnote_index_column": 64
        },
        {
         "YEAR": "2002",
         "UNITID": 102298,
         "INSTNM": "Talladega College",
         "STABBR": "AL",
         "REGION": 5,
         "ADM_RATE": "0.4209",
         "TUITIONFEE_IN": "6727.0",
         "_deepnote_index_column": 65
        },
        {
         "YEAR": "2002",
         "UNITID": 102313,
         "INSTNM": "H Councill Trenholm State Community College",
         "STABBR": "AL",
         "REGION": 5,
         "ADM_RATE": "nan",
         "TUITIONFEE_IN": "2736.0",
         "_deepnote_index_column": 66
        },
        {
         "YEAR": "2002",
         "UNITID": 102322,
         "INSTNM": "Troy State University-Dothan Campus",
         "STABBR": "AL",
         "REGION": 5,
         "ADM_RATE": "0.6875",
         "TUITIONFEE_IN": "3220.0",
         "_deepnote_index_column": 67
        },
        {
         "YEAR": "2002",
         "UNITID": 102331,
         "INSTNM": "TROY STATE UNIVERSITY-PHENIX CITY",
         "STABBR": "AL",
         "REGION": 5,
         "ADM_RATE": "nan",
         "TUITIONFEE_IN": "nan",
         "_deepnote_index_column": 68
        },
        {
         "YEAR": "2002",
         "UNITID": 102359,
         "INSTNM": "Troy State University-Montgomery",
         "STABBR": "AL",
         "REGION": 5,
         "ADM_RATE": "nan",
         "TUITIONFEE_IN": "3142.0",
         "_deepnote_index_column": 69
        },
        {
         "YEAR": "2002",
         "UNITID": 102368,
         "INSTNM": "Troy University",
         "STABBR": "AL",
         "REGION": 5,
         "ADM_RATE": "0.7244",
         "TUITIONFEE_IN": "3532.0",
         "_deepnote_index_column": 70
        }
       ],
       "rows_bottom": [
        {
         "YEAR": "2008",
         "UNITID": 16947904,
         "INSTNM": "Davenport University-Kalamazoo Location",
         "STABBR": "MI",
         "REGION": 3,
         "ADM_RATE": "nan",
         "TUITIONFEE_IN": "10640.0",
         "_deepnote_index_column": 163260
        },
        {
         "YEAR": "2008",
         "UNITID": 16947905,
         "INSTNM": "Davenport University-Lansing Location",
         "STABBR": "MI",
         "REGION": 3,
         "ADM_RATE": "nan",
         "TUITIONFEE_IN": "10640.0",
         "_deepnote_index_column": 163261
        },
        {
         "YEAR": "2008",
         "UNITID": 16947907,
         "INSTNM": "Davenport University-Midland Location",
         "STABBR": "MI",
         "REGION": 3,
         "ADM_RATE": "nan",
         "TUITIONFEE_IN": "9296.0",
         "_deepnote_index_column": 163262
        },
        {
         "YEAR": "2008",
         "UNITID": 16947908,
         "INSTNM": "Davenport University-Fulton Street Location",
         "STABBR": "MI",
         "REGION": 3,
         "ADM_RATE": "nan",
         "TUITIONFEE_IN": "9296.0",
         "_deepnote_index_column": 163263
        },
        {
         "YEAR": "2008",
         "UNITID": 16947909,
         "INSTNM": "Davenport University-Holland Location",
         "STABBR": "MI",
         "REGION": 3,
         "ADM_RATE": "nan",
         "TUITIONFEE_IN": "10640.0",
         "_deepnote_index_column": 163264
        },
        {
         "YEAR": "2008",
         "UNITID": 16947910,
         "INSTNM": "Davenport University-Flint Location",
         "STABBR": "MI",
         "REGION": 3,
         "ADM_RATE": "nan",
         "TUITIONFEE_IN": "9296.0",
         "_deepnote_index_column": 163265
        },
        {
         "YEAR": "2008",
         "UNITID": 16947911,
         "INSTNM": "Davenport University-Caro Location",
         "STABBR": "MI",
         "REGION": 3,
         "ADM_RATE": "nan",
         "TUITIONFEE_IN": "9296.0",
         "_deepnote_index_column": 163266
        },
        {
         "YEAR": "2008",
         "UNITID": 16947912,
         "INSTNM": "Davenport University-Traverse City Location",
         "STABBR": "MI",
         "REGION": 3,
         "ADM_RATE": "nan",
         "TUITIONFEE_IN": "nan",
         "_deepnote_index_column": 163267
        },
        {
         "YEAR": "2008",
         "UNITID": 16947913,
         "INSTNM": "Davenport University-Alma Location",
         "STABBR": "MI",
         "REGION": 3,
         "ADM_RATE": "nan",
         "TUITIONFEE_IN": "9296.0",
         "_deepnote_index_column": 163268
        },
        {
         "YEAR": "2008",
         "UNITID": 16947915,
         "INSTNM": "Davenport University-Saginaw Location",
         "STABBR": "MI",
         "REGION": 3,
         "ADM_RATE": "nan",
         "TUITIONFEE_IN": "9296.0",
         "_deepnote_index_column": 163269
        },
        {
         "YEAR": "2008",
         "UNITID": 17296301,
         "INSTNM": "Anoka-Ramsey Community College-Cambridge Campus",
         "STABBR": "MN",
         "REGION": 4,
         "ADM_RATE": "nan",
         "TUITIONFEE_IN": "4100.0",
         "_deepnote_index_column": 163270
        },
        {
         "YEAR": "2008",
         "UNITID": 17320301,
         "INSTNM": "Central Lakes College-Staples Campus",
         "STABBR": "MN",
         "REGION": 4,
         "ADM_RATE": "nan",
         "TUITIONFEE_IN": "4843.0",
         "_deepnote_index_column": 163271
        },
        {
         "YEAR": "2008",
         "UNITID": 17355901,
         "INSTNM": "M State - Detroit Lakes Campus",
         "STABBR": "MN",
         "REGION": 4,
         "ADM_RATE": "nan",
         "TUITIONFEE_IN": "4993.0",
         "_deepnote_index_column": 163272
        },
        {
         "YEAR": "2008",
         "UNITID": 17355902,
         "INSTNM": "M State - Moorhead Campus",
         "STABBR": "MN",
         "REGION": 4,
         "ADM_RATE": "nan",
         "TUITIONFEE_IN": "5073.0",
         "_deepnote_index_column": 163273
        },
        {
         "YEAR": "2008",
         "UNITID": 17355903,
         "INSTNM": "M State - Wadena Campus",
         "STABBR": "MN",
         "REGION": 4,
         "ADM_RATE": "nan",
         "TUITIONFEE_IN": "4961.0",
         "_deepnote_index_column": 163274
        },
        {
         "YEAR": "2008",
         "UNITID": 17391101,
         "INSTNM": "South Central College-Faribault",
         "STABBR": "MN",
         "REGION": 4,
         "ADM_RATE": "nan",
         "TUITIONFEE_IN": "4515.0",
         "_deepnote_index_column": 163275
        },
        {
         "YEAR": "2008",
         "UNITID": 17399301,
         "INSTNM": "Mesabi Range College",
         "STABBR": "MN",
         "REGION": 4,
         "ADM_RATE": "nan",
         "TUITIONFEE_IN": "4481.0",
         "_deepnote_index_column": 163276
        },
        {
         "YEAR": "2008",
         "UNITID": 17447301,
         "INSTNM": "Northland Community and Technical College - East Grand Forks",
         "STABBR": "MN",
         "REGION": 4,
         "ADM_RATE": "nan",
         "TUITIONFEE_IN": "4866.0",
         "_deepnote_index_column": 163277
        },
        {
         "YEAR": "2008",
         "UNITID": 17523601,
         "INSTNM": "Ridgewater College",
         "STABBR": "MN",
         "REGION": 4,
         "ADM_RATE": "nan",
         "TUITIONFEE_IN": "4913.0",
         "_deepnote_index_column": 163278
        },
        {
         "YEAR": "2008",
         "UNITID": 17526301,
         "INSTNM": "Minnesota State CollegeSoutheast-Red Wing Campus",
         "STABBR": "MN",
         "REGION": 4,
         "ADM_RATE": "nan",
         "TUITIONFEE_IN": "4889.0",
         "_deepnote_index_column": 163279
        },
        {
         "YEAR": "2008",
         "UNITID": 17557301,
         "INSTNM": "Copiah-Lincoln Community College Simpson County Center",
         "STABBR": "MS",
         "REGION": 5,
         "ADM_RATE": "nan",
         "TUITIONFEE_IN": "1820.0",
         "_deepnote_index_column": 163280
        },
        {
         "YEAR": "2008",
         "UNITID": 17557302,
         "INSTNM": "Copiah-Lincoln Community College-Natchez Campus",
         "STABBR": "MS",
         "REGION": 5,
         "ADM_RATE": "nan",
         "TUITIONFEE_IN": "1820.0",
         "_deepnote_index_column": 163281
        },
        {
         "YEAR": "2008",
         "UNITID": 17623901,
         "INSTNM": "Pearl River Community College-Forrest County Center",
         "STABBR": "MS",
         "REGION": 5,
         "ADM_RATE": "nan",
         "TUITIONFEE_IN": "1720.0",
         "_deepnote_index_column": 163282
        },
        {
         "YEAR": "2008",
         "UNITID": 17811001,
         "INSTNM": "Metro Business College",
         "STABBR": "MO",
         "REGION": 4,
         "ADM_RATE": "nan",
         "TUITIONFEE_IN": "8985.0",
         "_deepnote_index_column": 163283
        },
        {
         "YEAR": "2008",
         "UNITID": 17811002,
         "INSTNM": "Metro Business College",
         "STABBR": "MO",
         "REGION": 4,
         "ADM_RATE": "nan",
         "TUITIONFEE_IN": "8985.0",
         "_deepnote_index_column": 163284
        },
        {
         "YEAR": "2008",
         "UNITID": 18303501,
         "INSTNM": "New Hampshire Institute for Therapeutic Arts",
         "STABBR": "ME",
         "REGION": 1,
         "ADM_RATE": "nan",
         "TUITIONFEE_IN": "nan",
         "_deepnote_index_column": 163285
        },
        {
         "YEAR": "2008",
         "UNITID": 18922801,
         "INSTNM": "Berkeley College - Westchester Campus",
         "STABBR": "NY",
         "REGION": 2,
         "ADM_RATE": "nan",
         "TUITIONFEE_IN": "19050.0",
         "_deepnote_index_column": 163286
        },
        {
         "YEAR": "2008",
         "UNITID": 19050301,
         "INSTNM": "Culinary Institute of America at Greystone",
         "STABBR": "CA",
         "REGION": 8,
         "ADM_RATE": "nan",
         "TUITIONFEE_IN": "23080.0",
         "_deepnote_index_column": 163287
        },
        {
         "YEAR": "2008",
         "UNITID": 19457801,
         "INSTNM": "Pratt Manhattan-A Division of Pratt Institute",
         "STABBR": "NY",
         "REGION": 2,
         "ADM_RATE": "nan",
         "TUITIONFEE_IN": "33190.0",
         "_deepnote_index_column": 163288
        },
        {
         "YEAR": "2008",
         "UNITID": 20627901,
         "INSTNM": "Los Angeles Center",
         "STABBR": "CA",
         "REGION": 8,
         "ADM_RATE": "nan",
         "TUITIONFEE_IN": "10528.0",
         "_deepnote_index_column": 163289
        },
        {
         "YEAR": "2008",
         "UNITID": 20627902,
         "INSTNM": "Florida Center",
         "STABBR": "FL",
         "REGION": 5,
         "ADM_RATE": "nan",
         "TUITIONFEE_IN": "10528.0",
         "_deepnote_index_column": 163290
        },
        {
         "YEAR": "2008",
         "UNITID": 20627903,
         "INSTNM": "Sacramento Center",
         "STABBR": "CA",
         "REGION": 8,
         "ADM_RATE": "nan",
         "TUITIONFEE_IN": "10528.0",
         "_deepnote_index_column": 163291
        },
        {
         "YEAR": "2008",
         "UNITID": 20627904,
         "INSTNM": "Montpelier Center - Closed July 2013",
         "STABBR": "VT",
         "REGION": 1,
         "ADM_RATE": "nan",
         "TUITIONFEE_IN": "12574.0",
         "_deepnote_index_column": 163292
        },
        {
         "YEAR": "2008",
         "UNITID": 20627905,
         "INSTNM": "Brattleboro Center - Closed July 2013",
         "STABBR": "VT",
         "REGION": 1,
         "ADM_RATE": "nan",
         "TUITIONFEE_IN": "12742.0",
         "_deepnote_index_column": 163293
        },
        {
         "YEAR": "2008",
         "UNITID": 21036801,
         "INSTNM": "Western Seminary-San Jose",
         "STABBR": "CA",
         "REGION": 8,
         "ADM_RATE": "nan",
         "TUITIONFEE_IN": "nan",
         "_deepnote_index_column": 163294
        },
        {
         "YEAR": "2008",
         "UNITID": 21036802,
         "INSTNM": "Western Seminary-Sacramento",
         "STABBR": "CA",
         "REGION": 8,
         "ADM_RATE": "nan",
         "TUITIONFEE_IN": "nan",
         "_deepnote_index_column": 163295
        },
        {
         "YEAR": "2008",
         "UNITID": 21078401,
         "INSTNM": "The Beauty Institute",
         "STABBR": "PA",
         "REGION": 2,
         "ADM_RATE": "nan",
         "TUITIONFEE_IN": "nan",
         "_deepnote_index_column": 163296
        },
        {
         "YEAR": "2008",
         "UNITID": 21130701,
         "INSTNM": "Bucks County Community College-Upper Bucks Campus",
         "STABBR": "PA",
         "REGION": 2,
         "ADM_RATE": "nan",
         "TUITIONFEE_IN": "3350.0",
         "_deepnote_index_column": 163297
        },
        {
         "YEAR": "2008",
         "UNITID": 21437901,
         "INSTNM": "Northampton County Area Community College-Monroe",
         "STABBR": "PA",
         "REGION": 2,
         "ADM_RATE": "nan",
         "TUITIONFEE_IN": "3090.0",
         "_deepnote_index_column": 163298
        },
        {
         "YEAR": "2008",
         "UNITID": 21599201,
         "INSTNM": "Laurel Technical Institute Meadville",
         "STABBR": "PA",
         "REGION": 2,
         "ADM_RATE": "nan",
         "TUITIONFEE_IN": "7600.0",
         "_deepnote_index_column": 163299
        },
        {
         "YEAR": "2008",
         "UNITID": 21608301,
         "INSTNM": "South Hills School of Business and Technology-Altoona",
         "STABBR": "PA",
         "REGION": 2,
         "ADM_RATE": "nan",
         "TUITIONFEE_IN": "12906.0",
         "_deepnote_index_column": 163300
        },
        {
         "YEAR": "2008",
         "UNITID": 22797901,
         "INSTNM": "San Jacinto College-North Campus",
         "STABBR": "TX",
         "REGION": 6,
         "ADM_RATE": "nan",
         "TUITIONFEE_IN": "1376.0",
         "_deepnote_index_column": 163301
        },
        {
         "YEAR": "2008",
         "UNITID": 22797902,
         "INSTNM": "San Jacinto College-South Campus",
         "STABBR": "TX",
         "REGION": 6,
         "ADM_RATE": "nan",
         "TUITIONFEE_IN": "1376.0",
         "_deepnote_index_column": 163302
        },
        {
         "YEAR": "2008",
         "UNITID": 23059701,
         "INSTNM": "Snow College-Richfield Campus",
         "STABBR": "UT",
         "REGION": 7,
         "ADM_RATE": "nan",
         "TUITIONFEE_IN": "2346.0",
         "_deepnote_index_column": 163303
        },
        {
         "YEAR": "2008",
         "UNITID": 23384201,
         "INSTNM": "Union Presbyterian Seminary-Charlotte",
         "STABBR": "NC",
         "REGION": 5,
         "ADM_RATE": "nan",
         "TUITIONFEE_IN": "nan",
         "_deepnote_index_column": 163304
        },
        {
         "YEAR": "2008",
         "UNITID": 23693901,
         "INSTNM": "Washington State University-Vancouver",
         "STABBR": "WA",
         "REGION": 8,
         "ADM_RATE": "nan",
         "TUITIONFEE_IN": "6720.0",
         "_deepnote_index_column": 163305
        },
        {
         "YEAR": "2008",
         "UNITID": 23693902,
         "INSTNM": "Washington State University-Spokane",
         "STABBR": "WA",
         "REGION": 8,
         "ADM_RATE": "nan",
         "TUITIONFEE_IN": "nan",
         "_deepnote_index_column": 163306
        },
        {
         "YEAR": "2008",
         "UNITID": 23693903,
         "INSTNM": "Washington State University-Tri Cities",
         "STABBR": "WA",
         "REGION": 8,
         "ADM_RATE": "nan",
         "TUITIONFEE_IN": "6720.0",
         "_deepnote_index_column": 163307
        },
        {
         "YEAR": "2008",
         "UNITID": 23797801,
         "INSTNM": "West Virginia Business College-Nutter Fort",
         "STABBR": "WV",
         "REGION": 5,
         "ADM_RATE": "nan",
         "TUITIONFEE_IN": "9000.0",
         "_deepnote_index_column": 163308
        },
        {
         "YEAR": "2008",
         "UNITID": 24366501,
         "INSTNM": "University of the Virgin Islands-Albert A. Sheen",
         "STABBR": "VI",
         "REGION": 9,
         "ADM_RATE": "nan",
         "TUITIONFEE_IN": "3965.0",
         "_deepnote_index_column": 163309
        },
        {
         "YEAR": "2008",
         "UNITID": 24603501,
         "INSTNM": "Apollo College-Spokane",
         "STABBR": "WA",
         "REGION": 8,
         "ADM_RATE": "nan",
         "TUITIONFEE_IN": "nan",
         "_deepnote_index_column": 163310
        },
        {
         "YEAR": "2008",
         "UNITID": 37564701,
         "INSTNM": "CC's Cosmetology College",
         "STABBR": "OK",
         "REGION": 6,
         "ADM_RATE": "nan",
         "TUITIONFEE_IN": "nan",
         "_deepnote_index_column": 163311
        },
        {
         "YEAR": "2008",
         "UNITID": 37728101,
         "INSTNM": "Nuvani Institute-Del Rio",
         "STABBR": "TX",
         "REGION": 6,
         "ADM_RATE": "nan",
         "TUITIONFEE_IN": "nan",
         "_deepnote_index_column": 163312
        },
        {
         "YEAR": "2008",
         "UNITID": 38561901,
         "INSTNM": "Everglades University-Orlando",
         "STABBR": "FL",
         "REGION": 5,
         "ADM_RATE": "nan",
         "TUITIONFEE_IN": "12272.0",
         "_deepnote_index_column": 163313
        },
        {
         "YEAR": "2008",
         "UNITID": 38561902,
         "INSTNM": "Everglades University-Sarasota",
         "STABBR": "FL",
         "REGION": 5,
         "ADM_RATE": "nan",
         "TUITIONFEE_IN": "12272.0",
         "_deepnote_index_column": 163314
        },
        {
         "YEAR": "2008",
         "UNITID": 40280001,
         "INSTNM": "Tri-State Cosmetology Institute 2",
         "STABBR": "TX",
         "REGION": 6,
         "ADM_RATE": "nan",
         "TUITIONFEE_IN": "nan",
         "_deepnote_index_column": 163315
        },
        {
         "YEAR": "2008",
         "UNITID": 40620001,
         "INSTNM": "Wright Career College - Oklahoma City OK",
         "STABBR": "OK",
         "REGION": 6,
         "ADM_RATE": "nan",
         "TUITIONFEE_IN": "8600.0",
         "_deepnote_index_column": 163316
        },
        {
         "YEAR": "2008",
         "UNITID": 40620002,
         "INSTNM": "Wright Career College - Tulsa OK",
         "STABBR": "OK",
         "REGION": 6,
         "ADM_RATE": "nan",
         "TUITIONFEE_IN": "8600.0",
         "_deepnote_index_column": 163317
        },
        {
         "YEAR": "2008",
         "UNITID": 40884401,
         "INSTNM": "Florida National University-South Campus",
         "STABBR": "FL",
         "REGION": 5,
         "ADM_RATE": "nan",
         "TUITIONFEE_IN": "10170.0",
         "_deepnote_index_column": 163318
        },
        {
         "YEAR": "2008",
         "UNITID": 40884402,
         "INSTNM": "Florida National University Training Center",
         "STABBR": "FL",
         "REGION": 5,
         "ADM_RATE": "nan",
         "TUITIONFEE_IN": "11170.0",
         "_deepnote_index_column": 163319
        },
        {
         "YEAR": "2008",
         "UNITID": 42312001,
         "INSTNM": "Compu-Med Vocational Careers Corp",
         "STABBR": "FL",
         "REGION": 5,
         "ADM_RATE": "nan",
         "TUITIONFEE_IN": "nan",
         "_deepnote_index_column": 163320
        },
        {
         "YEAR": "2008",
         "UNITID": 42817001,
         "INSTNM": "Southeastern College-Miami Lakes",
         "STABBR": "FL",
         "REGION": 5,
         "ADM_RATE": "nan",
         "TUITIONFEE_IN": "14312.0",
         "_deepnote_index_column": 163321
        },
        {
         "YEAR": "2008",
         "UNITID": 42817002,
         "INSTNM": "Southeastern College-St. Petersburg",
         "STABBR": "FL",
         "REGION": 5,
         "ADM_RATE": "nan",
         "TUITIONFEE_IN": "14312.0",
         "_deepnote_index_column": 163322
        },
        {
         "YEAR": "2008",
         "UNITID": 43821201,
         "INSTNM": "McCann School of Business & Technology",
         "STABBR": "PA",
         "REGION": 2,
         "ADM_RATE": "nan",
         "TUITIONFEE_IN": "11204.0",
         "_deepnote_index_column": 163323
        },
        {
         "YEAR": "2008",
         "UNITID": 43821202,
         "INSTNM": "McCann School of Business & Technology",
         "STABBR": "PA",
         "REGION": 2,
         "ADM_RATE": "nan",
         "TUITIONFEE_IN": "11204.0",
         "_deepnote_index_column": 163324
        },
        {
         "YEAR": "2008",
         "UNITID": 43821203,
         "INSTNM": "McCann School of Business & Technology",
         "STABBR": "PA",
         "REGION": 2,
         "ADM_RATE": "nan",
         "TUITIONFEE_IN": "11204.0",
         "_deepnote_index_column": 163325
        },
        {
         "YEAR": "2008",
         "UNITID": 44098901,
         "INSTNM": "Texas Barber College - Branch Campus #1",
         "STABBR": "TX",
         "REGION": 6,
         "ADM_RATE": "nan",
         "TUITIONFEE_IN": "nan",
         "_deepnote_index_column": 163326
        },
        {
         "YEAR": "2008",
         "UNITID": 44098902,
         "INSTNM": "Texas Barber College - Branch Campus #2",
         "STABBR": "TX",
         "REGION": 6,
         "ADM_RATE": "nan",
         "TUITIONFEE_IN": "nan",
         "_deepnote_index_column": 163327
        },
        {
         "YEAR": "2008",
         "UNITID": 44098903,
         "INSTNM": "Texas Barber Colleges and Hairstyling Schools Branch Campus #6",
         "STABBR": "TX",
         "REGION": 6,
         "ADM_RATE": "nan",
         "TUITIONFEE_IN": "nan",
         "_deepnote_index_column": 163328
        },
        {
         "YEAR": "2008",
         "UNITID": 44098904,
         "INSTNM": "Texas Barber College - Branch Campus #5",
         "STABBR": "TX",
         "REGION": 6,
         "ADM_RATE": "nan",
         "TUITIONFEE_IN": "nan",
         "_deepnote_index_column": 163329
        },
        {
         "YEAR": "2008",
         "UNITID": 44098905,
         "INSTNM": "Texas Barber Colleges and Hairstyling Schools Branch Campus #7",
         "STABBR": "TX",
         "REGION": 6,
         "ADM_RATE": "nan",
         "TUITIONFEE_IN": "nan",
         "_deepnote_index_column": 163330
        }
       ]
      },
      "text/plain": "        YEAR    UNITID                                             INSTNM  \\\n0       2002    100636                 Community College of the Air Force   \n1       2002    100654                           Alabama A & M University   \n2       2002    100663                University of Alabama at Birmingham   \n3       2002    100690                                 Amridge University   \n4       2002    100706                University of Alabama in Huntsville   \n...      ...       ...                                                ...   \n163326  2008  44098901            Texas Barber College - Branch Campus #1   \n163327  2008  44098902            Texas Barber College - Branch Campus #2   \n163328  2008  44098903  Texas Barber Colleges and Hairstyling Schools ...   \n163329  2008  44098904            Texas Barber College - Branch Campus #5   \n163330  2008  44098905  Texas Barber Colleges and Hairstyling Schools ...   \n\n       STABBR  REGION  ADM_RATE  TUITIONFEE_IN  \n0          AL     0.0       NaN            NaN  \n1          AL     5.0    0.5575         3040.0  \n2          AL     5.0    0.9117         3880.0  \n3          AL     5.0       NaN         8960.0  \n4          AL     5.0    0.9050         3764.0  \n...       ...     ...       ...            ...  \n163326     TX     6.0       NaN            NaN  \n163327     TX     6.0       NaN            NaN  \n163328     TX     6.0       NaN            NaN  \n163329     TX     6.0       NaN            NaN  \n163330     TX     6.0       NaN            NaN  \n\n[163331 rows x 7 columns]",
      "text/html": "<div>\n<style scoped>\n    .dataframe tbody tr th:only-of-type {\n        vertical-align: middle;\n    }\n\n    .dataframe tbody tr th {\n        vertical-align: top;\n    }\n\n    .dataframe thead th {\n        text-align: right;\n    }\n</style>\n<table border=\"1\" class=\"dataframe\">\n  <thead>\n    <tr style=\"text-align: right;\">\n      <th></th>\n      <th>YEAR</th>\n      <th>UNITID</th>\n      <th>INSTNM</th>\n      <th>STABBR</th>\n      <th>REGION</th>\n      <th>ADM_RATE</th>\n      <th>TUITIONFEE_IN</th>\n    </tr>\n  </thead>\n  <tbody>\n    <tr>\n      <th>0</th>\n      <td>2002</td>\n      <td>100636</td>\n      <td>Community College of the Air Force</td>\n      <td>AL</td>\n      <td>0.0</td>\n      <td>NaN</td>\n      <td>NaN</td>\n    </tr>\n    <tr>\n      <th>1</th>\n      <td>2002</td>\n      <td>100654</td>\n      <td>Alabama A &amp; M University</td>\n      <td>AL</td>\n      <td>5.0</td>\n      <td>0.5575</td>\n      <td>3040.0</td>\n    </tr>\n    <tr>\n      <th>2</th>\n      <td>2002</td>\n      <td>100663</td>\n      <td>University of Alabama at Birmingham</td>\n      <td>AL</td>\n      <td>5.0</td>\n      <td>0.9117</td>\n      <td>3880.0</td>\n    </tr>\n    <tr>\n      <th>3</th>\n      <td>2002</td>\n      <td>100690</td>\n      <td>Amridge University</td>\n      <td>AL</td>\n      <td>5.0</td>\n      <td>NaN</td>\n      <td>8960.0</td>\n    </tr>\n    <tr>\n      <th>4</th>\n      <td>2002</td>\n      <td>100706</td>\n      <td>University of Alabama in Huntsville</td>\n      <td>AL</td>\n      <td>5.0</td>\n      <td>0.9050</td>\n      <td>3764.0</td>\n    </tr>\n    <tr>\n      <th>...</th>\n      <td>...</td>\n      <td>...</td>\n      <td>...</td>\n      <td>...</td>\n      <td>...</td>\n      <td>...</td>\n      <td>...</td>\n    </tr>\n    <tr>\n      <th>163326</th>\n      <td>2008</td>\n      <td>44098901</td>\n      <td>Texas Barber College - Branch Campus #1</td>\n      <td>TX</td>\n      <td>6.0</td>\n      <td>NaN</td>\n      <td>NaN</td>\n    </tr>\n    <tr>\n      <th>163327</th>\n      <td>2008</td>\n      <td>44098902</td>\n      <td>Texas Barber College - Branch Campus #2</td>\n      <td>TX</td>\n      <td>6.0</td>\n      <td>NaN</td>\n      <td>NaN</td>\n    </tr>\n    <tr>\n      <th>163328</th>\n      <td>2008</td>\n      <td>44098903</td>\n      <td>Texas Barber Colleges and Hairstyling Schools ...</td>\n      <td>TX</td>\n      <td>6.0</td>\n      <td>NaN</td>\n      <td>NaN</td>\n    </tr>\n    <tr>\n      <th>163329</th>\n      <td>2008</td>\n      <td>44098904</td>\n      <td>Texas Barber College - Branch Campus #5</td>\n      <td>TX</td>\n      <td>6.0</td>\n      <td>NaN</td>\n      <td>NaN</td>\n    </tr>\n    <tr>\n      <th>163330</th>\n      <td>2008</td>\n      <td>44098905</td>\n      <td>Texas Barber Colleges and Hairstyling Schools ...</td>\n      <td>TX</td>\n      <td>6.0</td>\n      <td>NaN</td>\n      <td>NaN</td>\n    </tr>\n  </tbody>\n</table>\n<p>163331 rows × 7 columns</p>\n</div>"
     },
     "metadata": {}
    }
   ]
  },
  {
   "cell_type": "markdown",
   "source": "## 6 - Explore the new dataframe \n### (# of observations, variables, head, tail, sample, missing values, statistics,etc.)",
   "metadata": {
    "tags": [],
    "cell_id": "00012-6840aec8-231f-4b2d-8a3f-2e3073dd3bea",
    "deepnote_cell_type": "markdown"
   }
  },
  {
   "cell_type": "code",
   "metadata": {
    "tags": [],
    "cell_id": "00013-f62814c6-f636-416a-957b-a5aaa0cc4c06",
    "deepnote_to_be_reexecuted": false,
    "source_hash": "cafcf604",
    "execution_start": 1620441975225,
    "execution_millis": 2,
    "deepnote_cell_type": "code"
   },
   "source": "print(\"Number of observations is\", len(frame))",
   "execution_count": 7,
   "outputs": [
    {
     "name": "stdout",
     "text": "Number of observations is 163331\n",
     "output_type": "stream"
    }
   ]
  },
  {
   "cell_type": "code",
   "metadata": {
    "tags": [],
    "cell_id": "00013-0bf581c7-931d-4794-8433-3949e2731a9c",
    "deepnote_to_be_reexecuted": false,
    "source_hash": "e4e6625d",
    "execution_millis": 50,
    "execution_start": 1620441975294,
    "deepnote_cell_type": "code"
   },
   "source": "#display variables\nframe.info()",
   "execution_count": 8,
   "outputs": [
    {
     "name": "stdout",
     "text": "<class 'pandas.core.frame.DataFrame'>\nRangeIndex: 163331 entries, 0 to 163330\nData columns (total 7 columns):\n #   Column         Non-Null Count   Dtype  \n---  ------         --------------   -----  \n 0   YEAR           163331 non-null  object \n 1   UNITID         163331 non-null  int64  \n 2   INSTNM         163331 non-null  object \n 3   STABBR         163331 non-null  object \n 4   REGION         163330 non-null  float64\n 5   ADM_RATE       44912 non-null   float64\n 6   TUITIONFEE_IN  79195 non-null   float64\ndtypes: float64(3), int64(1), object(3)\nmemory usage: 8.7+ MB\n",
     "output_type": "stream"
    }
   ]
  },
  {
   "cell_type": "code",
   "metadata": {
    "tags": [],
    "cell_id": "00015-070f9a3a-5c3b-42ef-b9c7-e808bfb8ad2e",
    "deepnote_to_be_reexecuted": false,
    "source_hash": "22e06cfc",
    "execution_millis": 348,
    "execution_start": 1620441975339,
    "deepnote_cell_type": "code"
   },
   "source": "#display statistics\nframe.describe(include=\"all\")",
   "execution_count": 9,
   "outputs": [
    {
     "output_type": "execute_result",
     "execution_count": 9,
     "data": {
      "application/vnd.deepnote.dataframe.v2+json": {
       "row_count": 11,
       "column_count": 7,
       "columns": [
        {
         "name": "YEAR",
         "dtype": "object",
         "stats": {
          "unique_count": 4,
          "nan_count": 7,
          "categories": [
           {
            "name": "163331",
            "count": 1
           },
           {
            "name": "3 others",
            "count": 3
           },
           {
            "name": "Missing",
            "count": 7
           }
          ]
         }
        },
        {
         "name": "UNITID",
         "dtype": "float64",
         "stats": {
          "unique_count": 8,
          "nan_count": 3,
          "min": "100636.0",
          "max": "49146401.0",
          "histogram": [
           {
            "bin_start": 100636,
            "bin_end": 5005212.5,
            "count": 7
           },
           {
            "bin_start": 5005212.5,
            "bin_end": 9909789,
            "count": 0
           },
           {
            "bin_start": 9909789,
            "bin_end": 14814365.5,
            "count": 0
           },
           {
            "bin_start": 14814365.5,
            "bin_end": 19718942,
            "count": 0
           },
           {
            "bin_start": 19718942,
            "bin_end": 24623518.5,
            "count": 0
           },
           {
            "bin_start": 24623518.5,
            "bin_end": 29528095,
            "count": 0
           },
           {
            "bin_start": 29528095,
            "bin_end": 34432671.5,
            "count": 0
           },
           {
            "bin_start": 34432671.5,
            "bin_end": 39337248,
            "count": 0
           },
           {
            "bin_start": 39337248,
            "bin_end": 44241824.5,
            "count": 0
           },
           {
            "bin_start": 44241824.5,
            "bin_end": 49146401,
            "count": 1
           }
          ]
         }
        },
        {
         "name": "INSTNM",
         "dtype": "object",
         "stats": {
          "unique_count": 4,
          "nan_count": 7,
          "categories": [
           {
            "name": "163331",
            "count": 1
           },
           {
            "name": "3 others",
            "count": 3
           },
           {
            "name": "Missing",
            "count": 7
           }
          ]
         }
        },
        {
         "name": "STABBR",
         "dtype": "object",
         "stats": {
          "unique_count": 4,
          "nan_count": 7,
          "categories": [
           {
            "name": "163331",
            "count": 1
           },
           {
            "name": "3 others",
            "count": 3
           },
           {
            "name": "Missing",
            "count": 7
           }
          ]
         }
        },
        {
         "name": "REGION",
         "dtype": "float64",
         "stats": {
          "unique_count": 8,
          "nan_count": 3,
          "min": "0.0",
          "max": "163330.0",
          "histogram": [
           {
            "bin_start": 0,
            "bin_end": 16333,
            "count": 7
           },
           {
            "bin_start": 16333,
            "bin_end": 32666,
            "count": 0
           },
           {
            "bin_start": 32666,
            "bin_end": 48999,
            "count": 0
           },
           {
            "bin_start": 48999,
            "bin_end": 65332,
            "count": 0
           },
           {
            "bin_start": 65332,
            "bin_end": 81665,
            "count": 0
           },
           {
            "bin_start": 81665,
            "bin_end": 97998,
            "count": 0
           },
           {
            "bin_start": 97998,
            "bin_end": 114331,
            "count": 0
           },
           {
            "bin_start": 114331,
            "bin_end": 130664,
            "count": 0
           },
           {
            "bin_start": 130664,
            "bin_end": 146997,
            "count": 0
           },
           {
            "bin_start": 146997,
            "bin_end": 163330,
            "count": 1
           }
          ]
         }
        },
        {
         "name": "ADM_RATE",
         "dtype": "float64",
         "stats": {
          "unique_count": 8,
          "nan_count": 3,
          "min": "0.0",
          "max": "44912.0",
          "histogram": [
           {
            "bin_start": 0,
            "bin_end": 4491.2,
            "count": 7
           },
           {
            "bin_start": 4491.2,
            "bin_end": 8982.4,
            "count": 0
           },
           {
            "bin_start": 8982.4,
            "bin_end": 13473.599999999999,
            "count": 0
           },
           {
            "bin_start": 13473.599999999999,
            "bin_end": 17964.8,
            "count": 0
           },
           {
            "bin_start": 17964.8,
            "bin_end": 22456,
            "count": 0
           },
           {
            "bin_start": 22456,
            "bin_end": 26947.199999999997,
            "count": 0
           },
           {
            "bin_start": 26947.199999999997,
            "bin_end": 31438.399999999998,
            "count": 0
           },
           {
            "bin_start": 31438.399999999998,
            "bin_end": 35929.6,
            "count": 0
           },
           {
            "bin_start": 35929.6,
            "bin_end": 40420.799999999996,
            "count": 0
           },
           {
            "bin_start": 40420.799999999996,
            "bin_end": 44912,
            "count": 1
           }
          ]
         }
        },
        {
         "name": "TUITIONFEE_IN",
         "dtype": "float64",
         "stats": {
          "unique_count": 8,
          "nan_count": 3,
          "min": "0.0",
          "max": "79195.0",
          "histogram": [
           {
            "bin_start": 0,
            "bin_end": 7919.5,
            "count": 2
           },
           {
            "bin_start": 7919.5,
            "bin_end": 15839,
            "count": 3
           },
           {
            "bin_start": 15839,
            "bin_end": 23758.5,
            "count": 1
           },
           {
            "bin_start": 23758.5,
            "bin_end": 31678,
            "count": 0
           },
           {
            "bin_start": 31678,
            "bin_end": 39597.5,
            "count": 0
           },
           {
            "bin_start": 39597.5,
            "bin_end": 47517,
            "count": 0
           },
           {
            "bin_start": 47517,
            "bin_end": 55436.5,
            "count": 0
           },
           {
            "bin_start": 55436.5,
            "bin_end": 63356,
            "count": 0
           },
           {
            "bin_start": 63356,
            "bin_end": 71275.5,
            "count": 0
           },
           {
            "bin_start": 71275.5,
            "bin_end": 79195,
            "count": 2
           }
          ]
         }
        },
        {
         "name": "_deepnote_index_column",
         "dtype": "object"
        }
       ],
       "rows_top": [
        {
         "YEAR": "163331",
         "UNITID": "163331.0",
         "INSTNM": "163331",
         "STABBR": "163331",
         "REGION": "163330.0",
         "ADM_RATE": "44912.0",
         "TUITIONFEE_IN": "79195.0",
         "_deepnote_index_column": "count"
        },
        {
         "YEAR": "23",
         "UNITID": "nan",
         "INSTNM": "11095",
         "STABBR": "59",
         "REGION": "nan",
         "ADM_RATE": "nan",
         "TUITIONFEE_IN": "nan",
         "_deepnote_index_column": "unique"
        },
        {
         "YEAR": "2013",
         "UNITID": "nan",
         "INSTNM": "Marinello School of Beauty",
         "STABBR": "CA",
         "REGION": "nan",
         "ADM_RATE": "nan",
         "TUITIONFEE_IN": "nan",
         "_deepnote_index_column": "top"
        },
        {
         "YEAR": "7869",
         "UNITID": "nan",
         "INSTNM": "133",
         "STABBR": "16193",
         "REGION": "nan",
         "ADM_RATE": "nan",
         "TUITIONFEE_IN": "nan",
         "_deepnote_index_column": "freq"
        },
        {
         "YEAR": "nan",
         "UNITID": "943239.4596371785",
         "INSTNM": "nan",
         "STABBR": "nan",
         "REGION": "4.5546929529174065",
         "ADM_RATE": "0.692950765942287",
         "TUITIONFEE_IN": "11665.636871014583",
         "_deepnote_index_column": "mean"
        },
        {
         "YEAR": "nan",
         "UNITID": "4571721.476707599",
         "INSTNM": "nan",
         "STABBR": "nan",
         "REGION": "2.1892166562210815",
         "ADM_RATE": "0.21705825783994495",
         "TUITIONFEE_IN": "9986.003541993252",
         "_deepnote_index_column": "std"
        },
        {
         "YEAR": "nan",
         "UNITID": "100636.0",
         "INSTNM": "nan",
         "STABBR": "nan",
         "REGION": "0.0",
         "ADM_RATE": "0.0",
         "TUITIONFEE_IN": "0.0",
         "_deepnote_index_column": "min"
        },
        {
         "YEAR": "nan",
         "UNITID": "163338.0",
         "INSTNM": "nan",
         "STABBR": "nan",
         "REGION": "3.0",
         "ADM_RATE": "0.5550750000000001",
         "TUITIONFEE_IN": "3776.0",
         "_deepnote_index_column": "25%"
        },
        {
         "YEAR": "nan",
         "UNITID": "212780.0",
         "INSTNM": "nan",
         "STABBR": "nan",
         "REGION": "5.0",
         "ADM_RATE": "0.7175",
         "TUITIONFEE_IN": "9285.0",
         "_deepnote_index_column": "50%"
        },
        {
         "YEAR": "nan",
         "UNITID": "407568.0",
         "INSTNM": "nan",
         "STABBR": "nan",
         "REGION": "6.0",
         "ADM_RATE": "0.8571",
         "TUITIONFEE_IN": "16148.0",
         "_deepnote_index_column": "75%"
        },
        {
         "YEAR": "nan",
         "UNITID": "49146401.0",
         "INSTNM": "nan",
         "STABBR": "nan",
         "REGION": "9.0",
         "ADM_RATE": "1.0",
         "TUITIONFEE_IN": "74787.0",
         "_deepnote_index_column": "max"
        }
       ],
       "rows_bottom": null
      },
      "text/plain": "          YEAR        UNITID                      INSTNM  STABBR  \\\ncount   163331  1.633310e+05                      163331  163331   \nunique      23           NaN                       11095      59   \ntop       2013           NaN  Marinello School of Beauty      CA   \nfreq      7869           NaN                         133   16193   \nmean       NaN  9.432395e+05                         NaN     NaN   \nstd        NaN  4.571721e+06                         NaN     NaN   \nmin        NaN  1.006360e+05                         NaN     NaN   \n25%        NaN  1.633380e+05                         NaN     NaN   \n50%        NaN  2.127800e+05                         NaN     NaN   \n75%        NaN  4.075680e+05                         NaN     NaN   \nmax        NaN  4.914640e+07                         NaN     NaN   \n\n               REGION      ADM_RATE  TUITIONFEE_IN  \ncount   163330.000000  44912.000000   79195.000000  \nunique            NaN           NaN            NaN  \ntop               NaN           NaN            NaN  \nfreq              NaN           NaN            NaN  \nmean         4.554693      0.692951   11665.636871  \nstd          2.189217      0.217058    9986.003542  \nmin          0.000000      0.000000       0.000000  \n25%          3.000000      0.555075    3776.000000  \n50%          5.000000      0.717500    9285.000000  \n75%          6.000000      0.857100   16148.000000  \nmax          9.000000      1.000000   74787.000000  ",
      "text/html": "<div>\n<style scoped>\n    .dataframe tbody tr th:only-of-type {\n        vertical-align: middle;\n    }\n\n    .dataframe tbody tr th {\n        vertical-align: top;\n    }\n\n    .dataframe thead th {\n        text-align: right;\n    }\n</style>\n<table border=\"1\" class=\"dataframe\">\n  <thead>\n    <tr style=\"text-align: right;\">\n      <th></th>\n      <th>YEAR</th>\n      <th>UNITID</th>\n      <th>INSTNM</th>\n      <th>STABBR</th>\n      <th>REGION</th>\n      <th>ADM_RATE</th>\n      <th>TUITIONFEE_IN</th>\n    </tr>\n  </thead>\n  <tbody>\n    <tr>\n      <th>count</th>\n      <td>163331</td>\n      <td>1.633310e+05</td>\n      <td>163331</td>\n      <td>163331</td>\n      <td>163330.000000</td>\n      <td>44912.000000</td>\n      <td>79195.000000</td>\n    </tr>\n    <tr>\n      <th>unique</th>\n      <td>23</td>\n      <td>NaN</td>\n      <td>11095</td>\n      <td>59</td>\n      <td>NaN</td>\n      <td>NaN</td>\n      <td>NaN</td>\n    </tr>\n    <tr>\n      <th>top</th>\n      <td>2013</td>\n      <td>NaN</td>\n      <td>Marinello School of Beauty</td>\n      <td>CA</td>\n      <td>NaN</td>\n      <td>NaN</td>\n      <td>NaN</td>\n    </tr>\n    <tr>\n      <th>freq</th>\n      <td>7869</td>\n      <td>NaN</td>\n      <td>133</td>\n      <td>16193</td>\n      <td>NaN</td>\n      <td>NaN</td>\n      <td>NaN</td>\n    </tr>\n    <tr>\n      <th>mean</th>\n      <td>NaN</td>\n      <td>9.432395e+05</td>\n      <td>NaN</td>\n      <td>NaN</td>\n      <td>4.554693</td>\n      <td>0.692951</td>\n      <td>11665.636871</td>\n    </tr>\n    <tr>\n      <th>std</th>\n      <td>NaN</td>\n      <td>4.571721e+06</td>\n      <td>NaN</td>\n      <td>NaN</td>\n      <td>2.189217</td>\n      <td>0.217058</td>\n      <td>9986.003542</td>\n    </tr>\n    <tr>\n      <th>min</th>\n      <td>NaN</td>\n      <td>1.006360e+05</td>\n      <td>NaN</td>\n      <td>NaN</td>\n      <td>0.000000</td>\n      <td>0.000000</td>\n      <td>0.000000</td>\n    </tr>\n    <tr>\n      <th>25%</th>\n      <td>NaN</td>\n      <td>1.633380e+05</td>\n      <td>NaN</td>\n      <td>NaN</td>\n      <td>3.000000</td>\n      <td>0.555075</td>\n      <td>3776.000000</td>\n    </tr>\n    <tr>\n      <th>50%</th>\n      <td>NaN</td>\n      <td>2.127800e+05</td>\n      <td>NaN</td>\n      <td>NaN</td>\n      <td>5.000000</td>\n      <td>0.717500</td>\n      <td>9285.000000</td>\n    </tr>\n    <tr>\n      <th>75%</th>\n      <td>NaN</td>\n      <td>4.075680e+05</td>\n      <td>NaN</td>\n      <td>NaN</td>\n      <td>6.000000</td>\n      <td>0.857100</td>\n      <td>16148.000000</td>\n    </tr>\n    <tr>\n      <th>max</th>\n      <td>NaN</td>\n      <td>4.914640e+07</td>\n      <td>NaN</td>\n      <td>NaN</td>\n      <td>9.000000</td>\n      <td>1.000000</td>\n      <td>74787.000000</td>\n    </tr>\n  </tbody>\n</table>\n</div>"
     },
     "metadata": {}
    }
   ]
  },
  {
   "cell_type": "code",
   "metadata": {
    "tags": [],
    "cell_id": "00016-e660dd12-7398-43c4-ab5c-7a253980c569",
    "deepnote_to_be_reexecuted": false,
    "source_hash": "136ae0b0",
    "execution_millis": 47,
    "execution_start": 1620441975699,
    "deepnote_cell_type": "code"
   },
   "source": "#display first five observations\nframe.head()",
   "execution_count": 10,
   "outputs": [
    {
     "output_type": "execute_result",
     "execution_count": 10,
     "data": {
      "application/vnd.deepnote.dataframe.v2+json": {
       "row_count": 5,
       "column_count": 7,
       "columns": [
        {
         "name": "YEAR",
         "dtype": "object",
         "stats": {
          "unique_count": 1,
          "nan_count": 0,
          "categories": [
           {
            "name": "2002",
            "count": 5
           }
          ]
         }
        },
        {
         "name": "UNITID",
         "dtype": "int64",
         "stats": {
          "unique_count": 5,
          "nan_count": 0,
          "min": "100636",
          "max": "100706",
          "histogram": [
           {
            "bin_start": 100636,
            "bin_end": 100643,
            "count": 1
           },
           {
            "bin_start": 100643,
            "bin_end": 100650,
            "count": 0
           },
           {
            "bin_start": 100650,
            "bin_end": 100657,
            "count": 1
           },
           {
            "bin_start": 100657,
            "bin_end": 100664,
            "count": 1
           },
           {
            "bin_start": 100664,
            "bin_end": 100671,
            "count": 0
           },
           {
            "bin_start": 100671,
            "bin_end": 100678,
            "count": 0
           },
           {
            "bin_start": 100678,
            "bin_end": 100685,
            "count": 0
           },
           {
            "bin_start": 100685,
            "bin_end": 100692,
            "count": 1
           },
           {
            "bin_start": 100692,
            "bin_end": 100699,
            "count": 0
           },
           {
            "bin_start": 100699,
            "bin_end": 100706,
            "count": 1
           }
          ]
         }
        },
        {
         "name": "INSTNM",
         "dtype": "object",
         "stats": {
          "unique_count": 5,
          "nan_count": 0,
          "categories": [
           {
            "name": "Community College of the Air Force",
            "count": 1
           },
           {
            "name": "Alabama A & M University",
            "count": 1
           },
           {
            "name": "3 others",
            "count": 3
           }
          ]
         }
        },
        {
         "name": "STABBR",
         "dtype": "object",
         "stats": {
          "unique_count": 1,
          "nan_count": 0,
          "categories": [
           {
            "name": "AL",
            "count": 5
           }
          ]
         }
        },
        {
         "name": "REGION",
         "dtype": "float64",
         "stats": {
          "unique_count": 2,
          "nan_count": 0,
          "min": "0.0",
          "max": "5.0",
          "histogram": [
           {
            "bin_start": 0,
            "bin_end": 0.5,
            "count": 1
           },
           {
            "bin_start": 0.5,
            "bin_end": 1,
            "count": 0
           },
           {
            "bin_start": 1,
            "bin_end": 1.5,
            "count": 0
           },
           {
            "bin_start": 1.5,
            "bin_end": 2,
            "count": 0
           },
           {
            "bin_start": 2,
            "bin_end": 2.5,
            "count": 0
           },
           {
            "bin_start": 2.5,
            "bin_end": 3,
            "count": 0
           },
           {
            "bin_start": 3,
            "bin_end": 3.5,
            "count": 0
           },
           {
            "bin_start": 3.5,
            "bin_end": 4,
            "count": 0
           },
           {
            "bin_start": 4,
            "bin_end": 4.5,
            "count": 0
           },
           {
            "bin_start": 4.5,
            "bin_end": 5,
            "count": 4
           }
          ]
         }
        },
        {
         "name": "ADM_RATE",
         "dtype": "float64",
         "stats": {
          "unique_count": 3,
          "nan_count": 2,
          "min": "0.5575",
          "max": "0.9117",
          "histogram": [
           {
            "bin_start": 0.5575,
            "bin_end": 0.59292,
            "count": 1
           },
           {
            "bin_start": 0.59292,
            "bin_end": 0.62834,
            "count": 0
           },
           {
            "bin_start": 0.62834,
            "bin_end": 0.66376,
            "count": 0
           },
           {
            "bin_start": 0.66376,
            "bin_end": 0.6991799999999999,
            "count": 0
           },
           {
            "bin_start": 0.6991799999999999,
            "bin_end": 0.7345999999999999,
            "count": 0
           },
           {
            "bin_start": 0.7345999999999999,
            "bin_end": 0.7700199999999999,
            "count": 0
           },
           {
            "bin_start": 0.7700199999999999,
            "bin_end": 0.8054399999999999,
            "count": 0
           },
           {
            "bin_start": 0.8054399999999999,
            "bin_end": 0.8408599999999999,
            "count": 0
           },
           {
            "bin_start": 0.8408599999999999,
            "bin_end": 0.87628,
            "count": 0
           },
           {
            "bin_start": 0.87628,
            "bin_end": 0.9117,
            "count": 2
           }
          ]
         }
        },
        {
         "name": "TUITIONFEE_IN",
         "dtype": "float64",
         "stats": {
          "unique_count": 4,
          "nan_count": 1,
          "min": "3040.0",
          "max": "8960.0",
          "histogram": [
           {
            "bin_start": 3040,
            "bin_end": 3632,
            "count": 1
           },
           {
            "bin_start": 3632,
            "bin_end": 4224,
            "count": 2
           },
           {
            "bin_start": 4224,
            "bin_end": 4816,
            "count": 0
           },
           {
            "bin_start": 4816,
            "bin_end": 5408,
            "count": 0
           },
           {
            "bin_start": 5408,
            "bin_end": 6000,
            "count": 0
           },
           {
            "bin_start": 6000,
            "bin_end": 6592,
            "count": 0
           },
           {
            "bin_start": 6592,
            "bin_end": 7184,
            "count": 0
           },
           {
            "bin_start": 7184,
            "bin_end": 7776,
            "count": 0
           },
           {
            "bin_start": 7776,
            "bin_end": 8368,
            "count": 0
           },
           {
            "bin_start": 8368,
            "bin_end": 8960,
            "count": 1
           }
          ]
         }
        },
        {
         "name": "_deepnote_index_column",
         "dtype": "int64"
        }
       ],
       "rows_top": [
        {
         "YEAR": "2002",
         "UNITID": 100636,
         "INSTNM": "Community College of the Air Force",
         "STABBR": "AL",
         "REGION": 0,
         "ADM_RATE": "nan",
         "TUITIONFEE_IN": "nan",
         "_deepnote_index_column": 0
        },
        {
         "YEAR": "2002",
         "UNITID": 100654,
         "INSTNM": "Alabama A & M University",
         "STABBR": "AL",
         "REGION": 5,
         "ADM_RATE": "0.5575",
         "TUITIONFEE_IN": "3040.0",
         "_deepnote_index_column": 1
        },
        {
         "YEAR": "2002",
         "UNITID": 100663,
         "INSTNM": "University of Alabama at Birmingham",
         "STABBR": "AL",
         "REGION": 5,
         "ADM_RATE": "0.9117",
         "TUITIONFEE_IN": "3880.0",
         "_deepnote_index_column": 2
        },
        {
         "YEAR": "2002",
         "UNITID": 100690,
         "INSTNM": "Amridge University",
         "STABBR": "AL",
         "REGION": 5,
         "ADM_RATE": "nan",
         "TUITIONFEE_IN": "8960.0",
         "_deepnote_index_column": 3
        },
        {
         "YEAR": "2002",
         "UNITID": 100706,
         "INSTNM": "University of Alabama in Huntsville",
         "STABBR": "AL",
         "REGION": 5,
         "ADM_RATE": "0.905",
         "TUITIONFEE_IN": "3764.0",
         "_deepnote_index_column": 4
        }
       ],
       "rows_bottom": null
      },
      "text/plain": "   YEAR  UNITID                               INSTNM STABBR  REGION  ADM_RATE  \\\n0  2002  100636   Community College of the Air Force     AL     0.0       NaN   \n1  2002  100654             Alabama A & M University     AL     5.0    0.5575   \n2  2002  100663  University of Alabama at Birmingham     AL     5.0    0.9117   \n3  2002  100690                   Amridge University     AL     5.0       NaN   \n4  2002  100706  University of Alabama in Huntsville     AL     5.0    0.9050   \n\n   TUITIONFEE_IN  \n0            NaN  \n1         3040.0  \n2         3880.0  \n3         8960.0  \n4         3764.0  ",
      "text/html": "<div>\n<style scoped>\n    .dataframe tbody tr th:only-of-type {\n        vertical-align: middle;\n    }\n\n    .dataframe tbody tr th {\n        vertical-align: top;\n    }\n\n    .dataframe thead th {\n        text-align: right;\n    }\n</style>\n<table border=\"1\" class=\"dataframe\">\n  <thead>\n    <tr style=\"text-align: right;\">\n      <th></th>\n      <th>YEAR</th>\n      <th>UNITID</th>\n      <th>INSTNM</th>\n      <th>STABBR</th>\n      <th>REGION</th>\n      <th>ADM_RATE</th>\n      <th>TUITIONFEE_IN</th>\n    </tr>\n  </thead>\n  <tbody>\n    <tr>\n      <th>0</th>\n      <td>2002</td>\n      <td>100636</td>\n      <td>Community College of the Air Force</td>\n      <td>AL</td>\n      <td>0.0</td>\n      <td>NaN</td>\n      <td>NaN</td>\n    </tr>\n    <tr>\n      <th>1</th>\n      <td>2002</td>\n      <td>100654</td>\n      <td>Alabama A &amp; M University</td>\n      <td>AL</td>\n      <td>5.0</td>\n      <td>0.5575</td>\n      <td>3040.0</td>\n    </tr>\n    <tr>\n      <th>2</th>\n      <td>2002</td>\n      <td>100663</td>\n      <td>University of Alabama at Birmingham</td>\n      <td>AL</td>\n      <td>5.0</td>\n      <td>0.9117</td>\n      <td>3880.0</td>\n    </tr>\n    <tr>\n      <th>3</th>\n      <td>2002</td>\n      <td>100690</td>\n      <td>Amridge University</td>\n      <td>AL</td>\n      <td>5.0</td>\n      <td>NaN</td>\n      <td>8960.0</td>\n    </tr>\n    <tr>\n      <th>4</th>\n      <td>2002</td>\n      <td>100706</td>\n      <td>University of Alabama in Huntsville</td>\n      <td>AL</td>\n      <td>5.0</td>\n      <td>0.9050</td>\n      <td>3764.0</td>\n    </tr>\n  </tbody>\n</table>\n</div>"
     },
     "metadata": {}
    }
   ]
  },
  {
   "cell_type": "code",
   "metadata": {
    "tags": [],
    "cell_id": "00017-08bd786e-311c-4d2f-8802-f851640e4c6b",
    "deepnote_to_be_reexecuted": false,
    "source_hash": "27f57469",
    "execution_millis": 65,
    "execution_start": 1620441975740,
    "deepnote_cell_type": "code"
   },
   "source": "#display last five observations\nframe.tail()",
   "execution_count": 11,
   "outputs": [
    {
     "output_type": "execute_result",
     "execution_count": 11,
     "data": {
      "application/vnd.deepnote.dataframe.v2+json": {
       "row_count": 5,
       "column_count": 7,
       "columns": [
        {
         "name": "YEAR",
         "dtype": "object",
         "stats": {
          "unique_count": 1,
          "nan_count": 0,
          "categories": [
           {
            "name": "2008",
            "count": 5
           }
          ]
         }
        },
        {
         "name": "UNITID",
         "dtype": "int64",
         "stats": {
          "unique_count": 5,
          "nan_count": 0,
          "min": "44098901",
          "max": "44098905",
          "histogram": [
           {
            "bin_start": 44098901,
            "bin_end": 44098901.4,
            "count": 1
           },
           {
            "bin_start": 44098901.4,
            "bin_end": 44098901.8,
            "count": 0
           },
           {
            "bin_start": 44098901.8,
            "bin_end": 44098902.2,
            "count": 1
           },
           {
            "bin_start": 44098902.2,
            "bin_end": 44098902.6,
            "count": 0
           },
           {
            "bin_start": 44098902.6,
            "bin_end": 44098903,
            "count": 0
           },
           {
            "bin_start": 44098903,
            "bin_end": 44098903.4,
            "count": 1
           },
           {
            "bin_start": 44098903.4,
            "bin_end": 44098903.8,
            "count": 0
           },
           {
            "bin_start": 44098903.8,
            "bin_end": 44098904.2,
            "count": 1
           },
           {
            "bin_start": 44098904.2,
            "bin_end": 44098904.6,
            "count": 0
           },
           {
            "bin_start": 44098904.6,
            "bin_end": 44098905,
            "count": 1
           }
          ]
         }
        },
        {
         "name": "INSTNM",
         "dtype": "object",
         "stats": {
          "unique_count": 5,
          "nan_count": 0,
          "categories": [
           {
            "name": "Texas Barber College - Branch Campus #1",
            "count": 1
           },
           {
            "name": "Texas Barber College - Branch Campus #2",
            "count": 1
           },
           {
            "name": "3 others",
            "count": 3
           }
          ]
         }
        },
        {
         "name": "STABBR",
         "dtype": "object",
         "stats": {
          "unique_count": 1,
          "nan_count": 0,
          "categories": [
           {
            "name": "TX",
            "count": 5
           }
          ]
         }
        },
        {
         "name": "REGION",
         "dtype": "float64",
         "stats": {
          "unique_count": 1,
          "nan_count": 0,
          "min": "6.0",
          "max": "6.0",
          "histogram": [
           {
            "bin_start": 5.5,
            "bin_end": 5.6,
            "count": 0
           },
           {
            "bin_start": 5.6,
            "bin_end": 5.7,
            "count": 0
           },
           {
            "bin_start": 5.7,
            "bin_end": 5.8,
            "count": 0
           },
           {
            "bin_start": 5.8,
            "bin_end": 5.9,
            "count": 0
           },
           {
            "bin_start": 5.9,
            "bin_end": 6,
            "count": 0
           },
           {
            "bin_start": 6,
            "bin_end": 6.1,
            "count": 5
           },
           {
            "bin_start": 6.1,
            "bin_end": 6.2,
            "count": 0
           },
           {
            "bin_start": 6.2,
            "bin_end": 6.3,
            "count": 0
           },
           {
            "bin_start": 6.3,
            "bin_end": 6.4,
            "count": 0
           },
           {
            "bin_start": 6.4,
            "bin_end": 6.5,
            "count": 0
           }
          ]
         }
        },
        {
         "name": "ADM_RATE",
         "dtype": "float64",
         "stats": {
          "unique_count": 0,
          "nan_count": 5,
          "min": null,
          "max": null,
          "histogram": [
           {
            "bin_start": 0,
            "bin_end": 0.1,
            "count": 0
           },
           {
            "bin_start": 0.1,
            "bin_end": 0.2,
            "count": 0
           },
           {
            "bin_start": 0.2,
            "bin_end": 0.30000000000000004,
            "count": 0
           },
           {
            "bin_start": 0.30000000000000004,
            "bin_end": 0.4,
            "count": 0
           },
           {
            "bin_start": 0.4,
            "bin_end": 0.5,
            "count": 0
           },
           {
            "bin_start": 0.5,
            "bin_end": 0.6000000000000001,
            "count": 0
           },
           {
            "bin_start": 0.6000000000000001,
            "bin_end": 0.7000000000000001,
            "count": 0
           },
           {
            "bin_start": 0.7000000000000001,
            "bin_end": 0.8,
            "count": 0
           },
           {
            "bin_start": 0.8,
            "bin_end": 0.9,
            "count": 0
           },
           {
            "bin_start": 0.9,
            "bin_end": 1,
            "count": 0
           }
          ]
         }
        },
        {
         "name": "TUITIONFEE_IN",
         "dtype": "float64",
         "stats": {
          "unique_count": 0,
          "nan_count": 5,
          "min": null,
          "max": null,
          "histogram": [
           {
            "bin_start": 0,
            "bin_end": 0.1,
            "count": 0
           },
           {
            "bin_start": 0.1,
            "bin_end": 0.2,
            "count": 0
           },
           {
            "bin_start": 0.2,
            "bin_end": 0.30000000000000004,
            "count": 0
           },
           {
            "bin_start": 0.30000000000000004,
            "bin_end": 0.4,
            "count": 0
           },
           {
            "bin_start": 0.4,
            "bin_end": 0.5,
            "count": 0
           },
           {
            "bin_start": 0.5,
            "bin_end": 0.6000000000000001,
            "count": 0
           },
           {
            "bin_start": 0.6000000000000001,
            "bin_end": 0.7000000000000001,
            "count": 0
           },
           {
            "bin_start": 0.7000000000000001,
            "bin_end": 0.8,
            "count": 0
           },
           {
            "bin_start": 0.8,
            "bin_end": 0.9,
            "count": 0
           },
           {
            "bin_start": 0.9,
            "bin_end": 1,
            "count": 0
           }
          ]
         }
        },
        {
         "name": "_deepnote_index_column",
         "dtype": "int64"
        }
       ],
       "rows_top": [
        {
         "YEAR": "2008",
         "UNITID": 44098901,
         "INSTNM": "Texas Barber College - Branch Campus #1",
         "STABBR": "TX",
         "REGION": 6,
         "ADM_RATE": "nan",
         "TUITIONFEE_IN": "nan",
         "_deepnote_index_column": 163326
        },
        {
         "YEAR": "2008",
         "UNITID": 44098902,
         "INSTNM": "Texas Barber College - Branch Campus #2",
         "STABBR": "TX",
         "REGION": 6,
         "ADM_RATE": "nan",
         "TUITIONFEE_IN": "nan",
         "_deepnote_index_column": 163327
        },
        {
         "YEAR": "2008",
         "UNITID": 44098903,
         "INSTNM": "Texas Barber Colleges and Hairstyling Schools Branch Campus #6",
         "STABBR": "TX",
         "REGION": 6,
         "ADM_RATE": "nan",
         "TUITIONFEE_IN": "nan",
         "_deepnote_index_column": 163328
        },
        {
         "YEAR": "2008",
         "UNITID": 44098904,
         "INSTNM": "Texas Barber College - Branch Campus #5",
         "STABBR": "TX",
         "REGION": 6,
         "ADM_RATE": "nan",
         "TUITIONFEE_IN": "nan",
         "_deepnote_index_column": 163329
        },
        {
         "YEAR": "2008",
         "UNITID": 44098905,
         "INSTNM": "Texas Barber Colleges and Hairstyling Schools Branch Campus #7",
         "STABBR": "TX",
         "REGION": 6,
         "ADM_RATE": "nan",
         "TUITIONFEE_IN": "nan",
         "_deepnote_index_column": 163330
        }
       ],
       "rows_bottom": null
      },
      "text/plain": "        YEAR    UNITID                                             INSTNM  \\\n163326  2008  44098901            Texas Barber College - Branch Campus #1   \n163327  2008  44098902            Texas Barber College - Branch Campus #2   \n163328  2008  44098903  Texas Barber Colleges and Hairstyling Schools ...   \n163329  2008  44098904            Texas Barber College - Branch Campus #5   \n163330  2008  44098905  Texas Barber Colleges and Hairstyling Schools ...   \n\n       STABBR  REGION  ADM_RATE  TUITIONFEE_IN  \n163326     TX     6.0       NaN            NaN  \n163327     TX     6.0       NaN            NaN  \n163328     TX     6.0       NaN            NaN  \n163329     TX     6.0       NaN            NaN  \n163330     TX     6.0       NaN            NaN  ",
      "text/html": "<div>\n<style scoped>\n    .dataframe tbody tr th:only-of-type {\n        vertical-align: middle;\n    }\n\n    .dataframe tbody tr th {\n        vertical-align: top;\n    }\n\n    .dataframe thead th {\n        text-align: right;\n    }\n</style>\n<table border=\"1\" class=\"dataframe\">\n  <thead>\n    <tr style=\"text-align: right;\">\n      <th></th>\n      <th>YEAR</th>\n      <th>UNITID</th>\n      <th>INSTNM</th>\n      <th>STABBR</th>\n      <th>REGION</th>\n      <th>ADM_RATE</th>\n      <th>TUITIONFEE_IN</th>\n    </tr>\n  </thead>\n  <tbody>\n    <tr>\n      <th>163326</th>\n      <td>2008</td>\n      <td>44098901</td>\n      <td>Texas Barber College - Branch Campus #1</td>\n      <td>TX</td>\n      <td>6.0</td>\n      <td>NaN</td>\n      <td>NaN</td>\n    </tr>\n    <tr>\n      <th>163327</th>\n      <td>2008</td>\n      <td>44098902</td>\n      <td>Texas Barber College - Branch Campus #2</td>\n      <td>TX</td>\n      <td>6.0</td>\n      <td>NaN</td>\n      <td>NaN</td>\n    </tr>\n    <tr>\n      <th>163328</th>\n      <td>2008</td>\n      <td>44098903</td>\n      <td>Texas Barber Colleges and Hairstyling Schools ...</td>\n      <td>TX</td>\n      <td>6.0</td>\n      <td>NaN</td>\n      <td>NaN</td>\n    </tr>\n    <tr>\n      <th>163329</th>\n      <td>2008</td>\n      <td>44098904</td>\n      <td>Texas Barber College - Branch Campus #5</td>\n      <td>TX</td>\n      <td>6.0</td>\n      <td>NaN</td>\n      <td>NaN</td>\n    </tr>\n    <tr>\n      <th>163330</th>\n      <td>2008</td>\n      <td>44098905</td>\n      <td>Texas Barber Colleges and Hairstyling Schools ...</td>\n      <td>TX</td>\n      <td>6.0</td>\n      <td>NaN</td>\n      <td>NaN</td>\n    </tr>\n  </tbody>\n</table>\n</div>"
     },
     "metadata": {}
    }
   ]
  },
  {
   "cell_type": "code",
   "metadata": {
    "tags": [],
    "cell_id": "00018-fd6e9843-20ae-4601-bdb3-7dd0986575ba",
    "deepnote_to_be_reexecuted": false,
    "source_hash": "e42c763a",
    "execution_millis": 88,
    "execution_start": 1620441975793,
    "deepnote_cell_type": "code"
   },
   "source": "#display a random sample of five observations\nframe.sample(5)",
   "execution_count": 12,
   "outputs": [
    {
     "output_type": "execute_result",
     "execution_count": 12,
     "data": {
      "application/vnd.deepnote.dataframe.v2+json": {
       "row_count": 5,
       "column_count": 7,
       "columns": [
        {
         "name": "YEAR",
         "dtype": "object",
         "stats": {
          "unique_count": 5,
          "nan_count": 0,
          "categories": [
           {
            "name": "2001",
            "count": 1
           },
           {
            "name": "2016",
            "count": 1
           },
           {
            "name": "3 others",
            "count": 3
           }
          ]
         }
        },
        {
         "name": "UNITID",
         "dtype": "int64",
         "stats": {
          "unique_count": 5,
          "nan_count": 0,
          "min": "117894",
          "max": "415525",
          "histogram": [
           {
            "bin_start": 117894,
            "bin_end": 147657.1,
            "count": 1
           },
           {
            "bin_start": 147657.1,
            "bin_end": 177420.2,
            "count": 0
           },
           {
            "bin_start": 177420.2,
            "bin_end": 207183.3,
            "count": 0
           },
           {
            "bin_start": 207183.3,
            "bin_end": 236946.4,
            "count": 1
           },
           {
            "bin_start": 236946.4,
            "bin_end": 266709.5,
            "count": 0
           },
           {
            "bin_start": 266709.5,
            "bin_end": 296472.6,
            "count": 0
           },
           {
            "bin_start": 296472.6,
            "bin_end": 326235.69999999995,
            "count": 0
           },
           {
            "bin_start": 326235.69999999995,
            "bin_end": 355998.8,
            "count": 0
           },
           {
            "bin_start": 355998.8,
            "bin_end": 385761.89999999997,
            "count": 2
           },
           {
            "bin_start": 385761.89999999997,
            "bin_end": 415525,
            "count": 1
           }
          ]
         }
        },
        {
         "name": "INSTNM",
         "dtype": "object",
         "stats": {
          "unique_count": 5,
          "nan_count": 0,
          "categories": [
           {
            "name": "CREST COMPUTER INSTITUTE",
            "count": 1
           },
           {
            "name": "Houston Training School-Gulfgate",
            "count": 1
           },
           {
            "name": "3 others",
            "count": 3
           }
          ]
         }
        },
        {
         "name": "STABBR",
         "dtype": "object",
         "stats": {
          "unique_count": 4,
          "nan_count": 0,
          "categories": [
           {
            "name": "CA",
            "count": 2
           },
           {
            "name": "TX",
            "count": 1
           },
           {
            "name": "2 others",
            "count": 2
           }
          ]
         }
        },
        {
         "name": "REGION",
         "dtype": "float64",
         "stats": {
          "unique_count": 3,
          "nan_count": 0,
          "min": "3.0",
          "max": "8.0",
          "histogram": [
           {
            "bin_start": 3,
            "bin_end": 3.5,
            "count": 1
           },
           {
            "bin_start": 3.5,
            "bin_end": 4,
            "count": 0
           },
           {
            "bin_start": 4,
            "bin_end": 4.5,
            "count": 0
           },
           {
            "bin_start": 4.5,
            "bin_end": 5,
            "count": 0
           },
           {
            "bin_start": 5,
            "bin_end": 5.5,
            "count": 0
           },
           {
            "bin_start": 5.5,
            "bin_end": 6,
            "count": 0
           },
           {
            "bin_start": 6,
            "bin_end": 6.5,
            "count": 1
           },
           {
            "bin_start": 6.5,
            "bin_end": 7,
            "count": 0
           },
           {
            "bin_start": 7,
            "bin_end": 7.5,
            "count": 0
           },
           {
            "bin_start": 7.5,
            "bin_end": 8,
            "count": 3
           }
          ]
         }
        },
        {
         "name": "ADM_RATE",
         "dtype": "float64",
         "stats": {
          "unique_count": 1,
          "nan_count": 4,
          "min": "1.0",
          "max": "1.0",
          "histogram": [
           {
            "bin_start": 0.5,
            "bin_end": 0.6,
            "count": 0
           },
           {
            "bin_start": 0.6,
            "bin_end": 0.7,
            "count": 0
           },
           {
            "bin_start": 0.7,
            "bin_end": 0.8,
            "count": 0
           },
           {
            "bin_start": 0.8,
            "bin_end": 0.9,
            "count": 0
           },
           {
            "bin_start": 0.9,
            "bin_end": 1,
            "count": 0
           },
           {
            "bin_start": 1,
            "bin_end": 1.1,
            "count": 1
           },
           {
            "bin_start": 1.1,
            "bin_end": 1.2000000000000002,
            "count": 0
           },
           {
            "bin_start": 1.2000000000000002,
            "bin_end": 1.3,
            "count": 0
           },
           {
            "bin_start": 1.3,
            "bin_end": 1.4,
            "count": 0
           },
           {
            "bin_start": 1.4,
            "bin_end": 1.5,
            "count": 0
           }
          ]
         }
        },
        {
         "name": "TUITIONFEE_IN",
         "dtype": "float64",
         "stats": {
          "unique_count": 1,
          "nan_count": 4,
          "min": "1298.0",
          "max": "1298.0",
          "histogram": [
           {
            "bin_start": 1297.5,
            "bin_end": 1297.6,
            "count": 0
           },
           {
            "bin_start": 1297.6,
            "bin_end": 1297.7,
            "count": 0
           },
           {
            "bin_start": 1297.7,
            "bin_end": 1297.8,
            "count": 0
           },
           {
            "bin_start": 1297.8,
            "bin_end": 1297.9,
            "count": 0
           },
           {
            "bin_start": 1297.9,
            "bin_end": 1298,
            "count": 0
           },
           {
            "bin_start": 1298,
            "bin_end": 1298.1,
            "count": 1
           },
           {
            "bin_start": 1298.1,
            "bin_end": 1298.2,
            "count": 0
           },
           {
            "bin_start": 1298.2,
            "bin_end": 1298.3,
            "count": 0
           },
           {
            "bin_start": 1298.3,
            "bin_end": 1298.4,
            "count": 0
           },
           {
            "bin_start": 1298.4,
            "bin_end": 1298.5,
            "count": 0
           }
          ]
         }
        },
        {
         "name": "_deepnote_index_column",
         "dtype": "int64"
        }
       ],
       "rows_top": [
        {
         "YEAR": "2001",
         "UNITID": 415525,
         "INSTNM": "CREST COMPUTER INSTITUTE",
         "STABBR": "CA",
         "REGION": 8,
         "ADM_RATE": "nan",
         "TUITIONFEE_IN": "nan",
         "_deepnote_index_column": 133343
        },
        {
         "YEAR": "2016",
         "UNITID": 383792,
         "INSTNM": "Houston Training School-Gulfgate",
         "STABBR": "TX",
         "REGION": 6,
         "ADM_RATE": "nan",
         "TUITIONFEE_IN": "nan",
         "_deepnote_index_column": 153466
        },
        {
         "YEAR": "2012",
         "UNITID": 117894,
         "INSTNM": "Los Medanos College",
         "STABBR": "CA",
         "REGION": 8,
         "ADM_RATE": "nan",
         "TUITIONFEE_IN": "1298.0",
         "_deepnote_index_column": 78411
        },
        {
         "YEAR": "2007",
         "UNITID": 383330,
         "INSTNM": "Sandusky Career Center",
         "STABBR": "OH",
         "REGION": 3,
         "ADM_RATE": "nan",
         "TUITIONFEE_IN": "nan",
         "_deepnote_index_column": 55657
        },
        {
         "YEAR": "2005",
         "UNITID": 209986,
         "INSTNM": "Roseburg Beauty College",
         "STABBR": "OR",
         "REGION": 8,
         "ADM_RATE": "1.0",
         "TUITIONFEE_IN": "nan",
         "_deepnote_index_column": 95975
        }
       ],
       "rows_bottom": null
      },
      "text/plain": "        YEAR  UNITID                            INSTNM STABBR  REGION  \\\n133343  2001  415525          CREST COMPUTER INSTITUTE     CA     8.0   \n153466  2016  383792  Houston Training School-Gulfgate     TX     6.0   \n78411   2012  117894               Los Medanos College     CA     8.0   \n55657   2007  383330            Sandusky Career Center     OH     3.0   \n95975   2005  209986           Roseburg Beauty College     OR     8.0   \n\n        ADM_RATE  TUITIONFEE_IN  \n133343       NaN            NaN  \n153466       NaN            NaN  \n78411        NaN         1298.0  \n55657        NaN            NaN  \n95975        1.0            NaN  ",
      "text/html": "<div>\n<style scoped>\n    .dataframe tbody tr th:only-of-type {\n        vertical-align: middle;\n    }\n\n    .dataframe tbody tr th {\n        vertical-align: top;\n    }\n\n    .dataframe thead th {\n        text-align: right;\n    }\n</style>\n<table border=\"1\" class=\"dataframe\">\n  <thead>\n    <tr style=\"text-align: right;\">\n      <th></th>\n      <th>YEAR</th>\n      <th>UNITID</th>\n      <th>INSTNM</th>\n      <th>STABBR</th>\n      <th>REGION</th>\n      <th>ADM_RATE</th>\n      <th>TUITIONFEE_IN</th>\n    </tr>\n  </thead>\n  <tbody>\n    <tr>\n      <th>133343</th>\n      <td>2001</td>\n      <td>415525</td>\n      <td>CREST COMPUTER INSTITUTE</td>\n      <td>CA</td>\n      <td>8.0</td>\n      <td>NaN</td>\n      <td>NaN</td>\n    </tr>\n    <tr>\n      <th>153466</th>\n      <td>2016</td>\n      <td>383792</td>\n      <td>Houston Training School-Gulfgate</td>\n      <td>TX</td>\n      <td>6.0</td>\n      <td>NaN</td>\n      <td>NaN</td>\n    </tr>\n    <tr>\n      <th>78411</th>\n      <td>2012</td>\n      <td>117894</td>\n      <td>Los Medanos College</td>\n      <td>CA</td>\n      <td>8.0</td>\n      <td>NaN</td>\n      <td>1298.0</td>\n    </tr>\n    <tr>\n      <th>55657</th>\n      <td>2007</td>\n      <td>383330</td>\n      <td>Sandusky Career Center</td>\n      <td>OH</td>\n      <td>3.0</td>\n      <td>NaN</td>\n      <td>NaN</td>\n    </tr>\n    <tr>\n      <th>95975</th>\n      <td>2005</td>\n      <td>209986</td>\n      <td>Roseburg Beauty College</td>\n      <td>OR</td>\n      <td>8.0</td>\n      <td>1.0</td>\n      <td>NaN</td>\n    </tr>\n  </tbody>\n</table>\n</div>"
     },
     "metadata": {}
    }
   ]
  },
  {
   "cell_type": "code",
   "metadata": {
    "tags": [],
    "cell_id": "00019-29193897-a06c-4bf0-8aa4-3ad004fb4ffb",
    "deepnote_to_be_reexecuted": false,
    "source_hash": "dc770c62",
    "execution_millis": 71,
    "execution_start": 1620441975876,
    "deepnote_cell_type": "code"
   },
   "source": "#display how many missing values are in this data frame  \nframe.isnull().sum() #counts the number of missing values in each column ",
   "execution_count": 13,
   "outputs": [
    {
     "output_type": "execute_result",
     "execution_count": 13,
     "data": {
      "text/plain": "YEAR                  0\nUNITID                0\nINSTNM                0\nSTABBR                0\nREGION                1\nADM_RATE         118419\nTUITIONFEE_IN     84136\ndtype: int64"
     },
     "metadata": {}
    }
   ]
  },
  {
   "cell_type": "markdown",
   "source": "## 7 - Filter/query the dataframe to retrieve only rows that belong to UMBC",
   "metadata": {
    "tags": [],
    "cell_id": "00020-1660edbe-77a5-408d-92a1-7247a9cc3219",
    "deepnote_cell_type": "markdown"
   }
  },
  {
   "cell_type": "code",
   "metadata": {
    "tags": [],
    "cell_id": "00021-3c752bb6-171d-4845-907d-ac75db8c8d27",
    "deepnote_to_be_reexecuted": false,
    "source_hash": "908b2347",
    "execution_start": 1620441975950,
    "execution_millis": 74,
    "deepnote_cell_type": "code"
   },
   "source": "# Save the UMBC data to a new data frame, using a new variable.\n# This is so the original data frame is still available for later use.\numbc = [\"University of Maryland-Baltimore County\"] #isin() function will only take list arguments \nframe2 = frame[frame.INSTNM.isin(umbc)] \nframe2",
   "execution_count": 14,
   "outputs": [
    {
     "output_type": "execute_result",
     "execution_count": 14,
     "data": {
      "application/vnd.deepnote.dataframe.v2+json": {
       "row_count": 23,
       "column_count": 7,
       "columns": [
        {
         "name": "YEAR",
         "dtype": "object",
         "stats": {
          "unique_count": 23,
          "nan_count": 0,
          "categories": [
           {
            "name": "2002",
            "count": 1
           },
           {
            "name": "1997",
            "count": 1
           },
           {
            "name": "21 others",
            "count": 21
           }
          ]
         }
        },
        {
         "name": "UNITID",
         "dtype": "int64",
         "stats": {
          "unique_count": 1,
          "nan_count": 0,
          "min": "163268",
          "max": "163268",
          "histogram": [
           {
            "bin_start": 163267.5,
            "bin_end": 163267.6,
            "count": 0
           },
           {
            "bin_start": 163267.6,
            "bin_end": 163267.7,
            "count": 0
           },
           {
            "bin_start": 163267.7,
            "bin_end": 163267.8,
            "count": 0
           },
           {
            "bin_start": 163267.8,
            "bin_end": 163267.9,
            "count": 0
           },
           {
            "bin_start": 163267.9,
            "bin_end": 163268,
            "count": 0
           },
           {
            "bin_start": 163268,
            "bin_end": 163268.1,
            "count": 23
           },
           {
            "bin_start": 163268.1,
            "bin_end": 163268.2,
            "count": 0
           },
           {
            "bin_start": 163268.2,
            "bin_end": 163268.3,
            "count": 0
           },
           {
            "bin_start": 163268.3,
            "bin_end": 163268.4,
            "count": 0
           },
           {
            "bin_start": 163268.4,
            "bin_end": 163268.5,
            "count": 0
           }
          ]
         }
        },
        {
         "name": "INSTNM",
         "dtype": "object",
         "stats": {
          "unique_count": 1,
          "nan_count": 0,
          "categories": [
           {
            "name": "University of Maryland-Baltimore County",
            "count": 23
           }
          ]
         }
        },
        {
         "name": "STABBR",
         "dtype": "object",
         "stats": {
          "unique_count": 1,
          "nan_count": 0,
          "categories": [
           {
            "name": "MD",
            "count": 23
           }
          ]
         }
        },
        {
         "name": "REGION",
         "dtype": "float64",
         "stats": {
          "unique_count": 1,
          "nan_count": 0,
          "min": "2.0",
          "max": "2.0",
          "histogram": [
           {
            "bin_start": 1.5,
            "bin_end": 1.6,
            "count": 0
           },
           {
            "bin_start": 1.6,
            "bin_end": 1.7,
            "count": 0
           },
           {
            "bin_start": 1.7,
            "bin_end": 1.8,
            "count": 0
           },
           {
            "bin_start": 1.8,
            "bin_end": 1.9,
            "count": 0
           },
           {
            "bin_start": 1.9,
            "bin_end": 2,
            "count": 0
           },
           {
            "bin_start": 2,
            "bin_end": 2.1,
            "count": 23
           },
           {
            "bin_start": 2.1,
            "bin_end": 2.2,
            "count": 0
           },
           {
            "bin_start": 2.2,
            "bin_end": 2.3,
            "count": 0
           },
           {
            "bin_start": 2.3,
            "bin_end": 2.4,
            "count": 0
           },
           {
            "bin_start": 2.4,
            "bin_end": 2.5,
            "count": 0
           }
          ]
         }
        },
        {
         "name": "ADM_RATE",
         "dtype": "float64",
         "stats": {
          "unique_count": 18,
          "nan_count": 5,
          "min": "0.5683",
          "max": "0.7174",
          "histogram": [
           {
            "bin_start": 0.5683,
            "bin_end": 0.58321,
            "count": 3
           },
           {
            "bin_start": 0.58321,
            "bin_end": 0.59812,
            "count": 2
           },
           {
            "bin_start": 0.59812,
            "bin_end": 0.6130300000000001,
            "count": 3
           },
           {
            "bin_start": 0.6130300000000001,
            "bin_end": 0.62794,
            "count": 0
           },
           {
            "bin_start": 0.62794,
            "bin_end": 0.64285,
            "count": 2
           },
           {
            "bin_start": 0.64285,
            "bin_end": 0.65776,
            "count": 1
           },
           {
            "bin_start": 0.65776,
            "bin_end": 0.67267,
            "count": 1
           },
           {
            "bin_start": 0.67267,
            "bin_end": 0.6875800000000001,
            "count": 0
           },
           {
            "bin_start": 0.6875800000000001,
            "bin_end": 0.7024900000000001,
            "count": 3
           },
           {
            "bin_start": 0.7024900000000001,
            "bin_end": 0.7174,
            "count": 3
           }
          ]
         }
        },
        {
         "name": "TUITIONFEE_IN",
         "dtype": "float64",
         "stats": {
          "unique_count": 19,
          "nan_count": 4,
          "min": "5490.0",
          "max": "11778.0",
          "histogram": [
           {
            "bin_start": 5490,
            "bin_end": 6118.8,
            "count": 2
           },
           {
            "bin_start": 6118.8,
            "bin_end": 6747.6,
            "count": 1
           },
           {
            "bin_start": 6747.6,
            "bin_end": 7376.4,
            "count": 0
           },
           {
            "bin_start": 7376.4,
            "bin_end": 8005.2,
            "count": 1
           },
           {
            "bin_start": 8005.2,
            "bin_end": 8634,
            "count": 3
           },
           {
            "bin_start": 8634,
            "bin_end": 9262.8,
            "count": 4
           },
           {
            "bin_start": 9262.8,
            "bin_end": 9891.599999999999,
            "count": 2
           },
           {
            "bin_start": 9891.599999999999,
            "bin_end": 10520.4,
            "count": 2
           },
           {
            "bin_start": 10520.4,
            "bin_end": 11149.2,
            "count": 1
           },
           {
            "bin_start": 11149.2,
            "bin_end": 11778,
            "count": 3
           }
          ]
         }
        },
        {
         "name": "_deepnote_index_column",
         "dtype": "int64"
        }
       ],
       "rows_top": [
        {
         "YEAR": "2002",
         "UNITID": 163268,
         "INSTNM": "University of Maryland-Baltimore County",
         "STABBR": "MD",
         "REGION": 2,
         "ADM_RATE": "0.6327",
         "TUITIONFEE_IN": "6362.0",
         "_deepnote_index_column": 1893
        },
        {
         "YEAR": "1997",
         "UNITID": 163268,
         "INSTNM": "University of Maryland-Baltimore County",
         "STABBR": "MD",
         "REGION": 2,
         "ADM_RATE": "nan",
         "TUITIONFEE_IN": "nan",
         "_deepnote_index_column": 8701
        },
        {
         "YEAR": "2015",
         "UNITID": 163268,
         "INSTNM": "University of Maryland-Baltimore County",
         "STABBR": "MD",
         "REGION": 2,
         "ADM_RATE": "0.5942",
         "TUITIONFEE_IN": "11006.0",
         "_deepnote_index_column": 15141
        },
        {
         "YEAR": "2013",
         "UNITID": 163268,
         "INSTNM": "University of Maryland-Baltimore County",
         "STABBR": "MD",
         "REGION": 2,
         "ADM_RATE": "0.6315",
         "TUITIONFEE_IN": "10068.0",
         "_deepnote_index_column": 22881
        },
        {
         "YEAR": "1996",
         "UNITID": 163268,
         "INSTNM": "University of Maryland-Baltimore County",
         "STABBR": "MD",
         "REGION": 2,
         "ADM_RATE": "nan",
         "TUITIONFEE_IN": "nan",
         "_deepnote_index_column": 31272
        },
        {
         "YEAR": "2000",
         "UNITID": 163268,
         "INSTNM": "University of Maryland-Baltimore County",
         "STABBR": "MD",
         "REGION": 2,
         "ADM_RATE": "nan",
         "TUITIONFEE_IN": "5490.0",
         "_deepnote_index_column": 38054
        },
        {
         "YEAR": "2011",
         "UNITID": 163268,
         "INSTNM": "University of Maryland-Baltimore County",
         "STABBR": "MD",
         "REGION": 2,
         "ADM_RATE": "0.6081",
         "TUITIONFEE_IN": "9467.0",
         "_deepnote_index_column": 44476
        },
        {
         "YEAR": "2007",
         "UNITID": 163268,
         "INSTNM": "University of Maryland-Baltimore County",
         "STABBR": "MD",
         "REGION": 2,
         "ADM_RATE": "0.6895",
         "TUITIONFEE_IN": "8708.0",
         "_deepnote_index_column": 52307
        },
        {
         "YEAR": "2004",
         "UNITID": 163268,
         "INSTNM": "University of Maryland-Baltimore County",
         "STABBR": "MD",
         "REGION": 2,
         "ADM_RATE": "0.7014",
         "TUITIONFEE_IN": "8020.0",
         "_deepnote_index_column": 59329
        },
        {
         "YEAR": "2006",
         "UNITID": 163268,
         "INSTNM": "University of Maryland-Baltimore County",
         "STABBR": "MD",
         "REGION": 2,
         "ADM_RATE": "0.7153",
         "TUITIONFEE_IN": "8622.0",
         "_deepnote_index_column": 66045
        },
        {
         "YEAR": "2018",
         "UNITID": 163268,
         "INSTNM": "University of Maryland-Baltimore County",
         "STABBR": "MD",
         "REGION": 2,
         "ADM_RATE": "0.5794",
         "TUITIONFEE_IN": "11778.0",
         "_deepnote_index_column": 72612
        },
        {
         "YEAR": "2012",
         "UNITID": 163268,
         "INSTNM": "University of Maryland-Baltimore County",
         "STABBR": "MD",
         "REGION": 2,
         "ADM_RATE": "0.6035",
         "TUITIONFEE_IN": "9764.0",
         "_deepnote_index_column": 79663
        },
        {
         "YEAR": "1999",
         "UNITID": 163268,
         "INSTNM": "University of Maryland-Baltimore County",
         "STABBR": "MD",
         "REGION": 2,
         "ADM_RATE": "nan",
         "TUITIONFEE_IN": "nan",
         "_deepnote_index_column": 87820
        },
        {
         "YEAR": "2005",
         "UNITID": 163268,
         "INSTNM": "University of Maryland-Baltimore County",
         "STABBR": "MD",
         "REGION": 2,
         "ADM_RATE": "0.7143",
         "TUITIONFEE_IN": "8520.0",
         "_deepnote_index_column": 94293
        },
        {
         "YEAR": "2003",
         "UNITID": 163268,
         "INSTNM": "University of Maryland-Baltimore County",
         "STABBR": "MD",
         "REGION": 2,
         "ADM_RATE": "0.5757",
         "TUITIONFEE_IN": "7388.0",
         "_deepnote_index_column": 101246
        },
        {
         "YEAR": "1998",
         "UNITID": 163268,
         "INSTNM": "University of Maryland-Baltimore County",
         "STABBR": "MD",
         "REGION": 2,
         "ADM_RATE": "nan",
         "TUITIONFEE_IN": "nan",
         "_deepnote_index_column": 108028
        },
        {
         "YEAR": "2010",
         "UNITID": 163268,
         "INSTNM": "University of Maryland-Baltimore County",
         "STABBR": "MD",
         "REGION": 2,
         "ADM_RATE": "0.6589",
         "TUITIONFEE_IN": "9171.0",
         "_deepnote_index_column": 114458
        },
        {
         "YEAR": "2009",
         "UNITID": 163268,
         "INSTNM": "University of Maryland-Baltimore County",
         "STABBR": "MD",
         "REGION": 2,
         "ADM_RATE": "0.689",
         "TUITIONFEE_IN": "8872.0",
         "_deepnote_index_column": 121963
        },
        {
         "YEAR": "2001",
         "UNITID": 163268,
         "INSTNM": "University of Maryland-Baltimore County",
         "STABBR": "MD",
         "REGION": 2,
         "ADM_RATE": "0.6551",
         "TUITIONFEE_IN": "5910.0",
         "_deepnote_index_column": 129350
        },
        {
         "YEAR": "2017",
         "UNITID": 163268,
         "INSTNM": "University of Maryland-Baltimore County",
         "STABBR": "MD",
         "REGION": 2,
         "ADM_RATE": "0.6021",
         "TUITIONFEE_IN": "11518.0",
         "_deepnote_index_column": 135638
        },
        {
         "YEAR": "2014",
         "UNITID": 163268,
         "INSTNM": "University of Maryland-Baltimore County",
         "STABBR": "MD",
         "REGION": 2,
         "ADM_RATE": "0.5961",
         "TUITIONFEE_IN": "10384.0",
         "_deepnote_index_column": 142882
        },
        {
         "YEAR": "2016",
         "UNITID": 163268,
         "INSTNM": "University of Maryland-Baltimore County",
         "STABBR": "MD",
         "REGION": 2,
         "ADM_RATE": "0.5683",
         "TUITIONFEE_IN": "11264.0",
         "_deepnote_index_column": 150548
        },
        {
         "YEAR": "2008",
         "UNITID": 163268,
         "INSTNM": "University of Maryland-Baltimore County",
         "STABBR": "MD",
         "REGION": 2,
         "ADM_RATE": "0.7174",
         "TUITIONFEE_IN": "8780.0",
         "_deepnote_index_column": 158043
        }
       ],
       "rows_bottom": null
      },
      "text/plain": "        YEAR  UNITID                                   INSTNM STABBR  REGION  \\\n1893    2002  163268  University of Maryland-Baltimore County     MD     2.0   \n8701    1997  163268  University of Maryland-Baltimore County     MD     2.0   \n15141   2015  163268  University of Maryland-Baltimore County     MD     2.0   \n22881   2013  163268  University of Maryland-Baltimore County     MD     2.0   \n31272   1996  163268  University of Maryland-Baltimore County     MD     2.0   \n38054   2000  163268  University of Maryland-Baltimore County     MD     2.0   \n44476   2011  163268  University of Maryland-Baltimore County     MD     2.0   \n52307   2007  163268  University of Maryland-Baltimore County     MD     2.0   \n59329   2004  163268  University of Maryland-Baltimore County     MD     2.0   \n66045   2006  163268  University of Maryland-Baltimore County     MD     2.0   \n72612   2018  163268  University of Maryland-Baltimore County     MD     2.0   \n79663   2012  163268  University of Maryland-Baltimore County     MD     2.0   \n87820   1999  163268  University of Maryland-Baltimore County     MD     2.0   \n94293   2005  163268  University of Maryland-Baltimore County     MD     2.0   \n101246  2003  163268  University of Maryland-Baltimore County     MD     2.0   \n108028  1998  163268  University of Maryland-Baltimore County     MD     2.0   \n114458  2010  163268  University of Maryland-Baltimore County     MD     2.0   \n121963  2009  163268  University of Maryland-Baltimore County     MD     2.0   \n129350  2001  163268  University of Maryland-Baltimore County     MD     2.0   \n135638  2017  163268  University of Maryland-Baltimore County     MD     2.0   \n142882  2014  163268  University of Maryland-Baltimore County     MD     2.0   \n150548  2016  163268  University of Maryland-Baltimore County     MD     2.0   \n158043  2008  163268  University of Maryland-Baltimore County     MD     2.0   \n\n        ADM_RATE  TUITIONFEE_IN  \n1893      0.6327         6362.0  \n8701         NaN            NaN  \n15141     0.5942        11006.0  \n22881     0.6315        10068.0  \n31272        NaN            NaN  \n38054        NaN         5490.0  \n44476     0.6081         9467.0  \n52307     0.6895         8708.0  \n59329     0.7014         8020.0  \n66045     0.7153         8622.0  \n72612     0.5794        11778.0  \n79663     0.6035         9764.0  \n87820        NaN            NaN  \n94293     0.7143         8520.0  \n101246    0.5757         7388.0  \n108028       NaN            NaN  \n114458    0.6589         9171.0  \n121963    0.6890         8872.0  \n129350    0.6551         5910.0  \n135638    0.6021        11518.0  \n142882    0.5961        10384.0  \n150548    0.5683        11264.0  \n158043    0.7174         8780.0  ",
      "text/html": "<div>\n<style scoped>\n    .dataframe tbody tr th:only-of-type {\n        vertical-align: middle;\n    }\n\n    .dataframe tbody tr th {\n        vertical-align: top;\n    }\n\n    .dataframe thead th {\n        text-align: right;\n    }\n</style>\n<table border=\"1\" class=\"dataframe\">\n  <thead>\n    <tr style=\"text-align: right;\">\n      <th></th>\n      <th>YEAR</th>\n      <th>UNITID</th>\n      <th>INSTNM</th>\n      <th>STABBR</th>\n      <th>REGION</th>\n      <th>ADM_RATE</th>\n      <th>TUITIONFEE_IN</th>\n    </tr>\n  </thead>\n  <tbody>\n    <tr>\n      <th>1893</th>\n      <td>2002</td>\n      <td>163268</td>\n      <td>University of Maryland-Baltimore County</td>\n      <td>MD</td>\n      <td>2.0</td>\n      <td>0.6327</td>\n      <td>6362.0</td>\n    </tr>\n    <tr>\n      <th>8701</th>\n      <td>1997</td>\n      <td>163268</td>\n      <td>University of Maryland-Baltimore County</td>\n      <td>MD</td>\n      <td>2.0</td>\n      <td>NaN</td>\n      <td>NaN</td>\n    </tr>\n    <tr>\n      <th>15141</th>\n      <td>2015</td>\n      <td>163268</td>\n      <td>University of Maryland-Baltimore County</td>\n      <td>MD</td>\n      <td>2.0</td>\n      <td>0.5942</td>\n      <td>11006.0</td>\n    </tr>\n    <tr>\n      <th>22881</th>\n      <td>2013</td>\n      <td>163268</td>\n      <td>University of Maryland-Baltimore County</td>\n      <td>MD</td>\n      <td>2.0</td>\n      <td>0.6315</td>\n      <td>10068.0</td>\n    </tr>\n    <tr>\n      <th>31272</th>\n      <td>1996</td>\n      <td>163268</td>\n      <td>University of Maryland-Baltimore County</td>\n      <td>MD</td>\n      <td>2.0</td>\n      <td>NaN</td>\n      <td>NaN</td>\n    </tr>\n    <tr>\n      <th>38054</th>\n      <td>2000</td>\n      <td>163268</td>\n      <td>University of Maryland-Baltimore County</td>\n      <td>MD</td>\n      <td>2.0</td>\n      <td>NaN</td>\n      <td>5490.0</td>\n    </tr>\n    <tr>\n      <th>44476</th>\n      <td>2011</td>\n      <td>163268</td>\n      <td>University of Maryland-Baltimore County</td>\n      <td>MD</td>\n      <td>2.0</td>\n      <td>0.6081</td>\n      <td>9467.0</td>\n    </tr>\n    <tr>\n      <th>52307</th>\n      <td>2007</td>\n      <td>163268</td>\n      <td>University of Maryland-Baltimore County</td>\n      <td>MD</td>\n      <td>2.0</td>\n      <td>0.6895</td>\n      <td>8708.0</td>\n    </tr>\n    <tr>\n      <th>59329</th>\n      <td>2004</td>\n      <td>163268</td>\n      <td>University of Maryland-Baltimore County</td>\n      <td>MD</td>\n      <td>2.0</td>\n      <td>0.7014</td>\n      <td>8020.0</td>\n    </tr>\n    <tr>\n      <th>66045</th>\n      <td>2006</td>\n      <td>163268</td>\n      <td>University of Maryland-Baltimore County</td>\n      <td>MD</td>\n      <td>2.0</td>\n      <td>0.7153</td>\n      <td>8622.0</td>\n    </tr>\n    <tr>\n      <th>72612</th>\n      <td>2018</td>\n      <td>163268</td>\n      <td>University of Maryland-Baltimore County</td>\n      <td>MD</td>\n      <td>2.0</td>\n      <td>0.5794</td>\n      <td>11778.0</td>\n    </tr>\n    <tr>\n      <th>79663</th>\n      <td>2012</td>\n      <td>163268</td>\n      <td>University of Maryland-Baltimore County</td>\n      <td>MD</td>\n      <td>2.0</td>\n      <td>0.6035</td>\n      <td>9764.0</td>\n    </tr>\n    <tr>\n      <th>87820</th>\n      <td>1999</td>\n      <td>163268</td>\n      <td>University of Maryland-Baltimore County</td>\n      <td>MD</td>\n      <td>2.0</td>\n      <td>NaN</td>\n      <td>NaN</td>\n    </tr>\n    <tr>\n      <th>94293</th>\n      <td>2005</td>\n      <td>163268</td>\n      <td>University of Maryland-Baltimore County</td>\n      <td>MD</td>\n      <td>2.0</td>\n      <td>0.7143</td>\n      <td>8520.0</td>\n    </tr>\n    <tr>\n      <th>101246</th>\n      <td>2003</td>\n      <td>163268</td>\n      <td>University of Maryland-Baltimore County</td>\n      <td>MD</td>\n      <td>2.0</td>\n      <td>0.5757</td>\n      <td>7388.0</td>\n    </tr>\n    <tr>\n      <th>108028</th>\n      <td>1998</td>\n      <td>163268</td>\n      <td>University of Maryland-Baltimore County</td>\n      <td>MD</td>\n      <td>2.0</td>\n      <td>NaN</td>\n      <td>NaN</td>\n    </tr>\n    <tr>\n      <th>114458</th>\n      <td>2010</td>\n      <td>163268</td>\n      <td>University of Maryland-Baltimore County</td>\n      <td>MD</td>\n      <td>2.0</td>\n      <td>0.6589</td>\n      <td>9171.0</td>\n    </tr>\n    <tr>\n      <th>121963</th>\n      <td>2009</td>\n      <td>163268</td>\n      <td>University of Maryland-Baltimore County</td>\n      <td>MD</td>\n      <td>2.0</td>\n      <td>0.6890</td>\n      <td>8872.0</td>\n    </tr>\n    <tr>\n      <th>129350</th>\n      <td>2001</td>\n      <td>163268</td>\n      <td>University of Maryland-Baltimore County</td>\n      <td>MD</td>\n      <td>2.0</td>\n      <td>0.6551</td>\n      <td>5910.0</td>\n    </tr>\n    <tr>\n      <th>135638</th>\n      <td>2017</td>\n      <td>163268</td>\n      <td>University of Maryland-Baltimore County</td>\n      <td>MD</td>\n      <td>2.0</td>\n      <td>0.6021</td>\n      <td>11518.0</td>\n    </tr>\n    <tr>\n      <th>142882</th>\n      <td>2014</td>\n      <td>163268</td>\n      <td>University of Maryland-Baltimore County</td>\n      <td>MD</td>\n      <td>2.0</td>\n      <td>0.5961</td>\n      <td>10384.0</td>\n    </tr>\n    <tr>\n      <th>150548</th>\n      <td>2016</td>\n      <td>163268</td>\n      <td>University of Maryland-Baltimore County</td>\n      <td>MD</td>\n      <td>2.0</td>\n      <td>0.5683</td>\n      <td>11264.0</td>\n    </tr>\n    <tr>\n      <th>158043</th>\n      <td>2008</td>\n      <td>163268</td>\n      <td>University of Maryland-Baltimore County</td>\n      <td>MD</td>\n      <td>2.0</td>\n      <td>0.7174</td>\n      <td>8780.0</td>\n    </tr>\n  </tbody>\n</table>\n</div>"
     },
     "metadata": {}
    }
   ]
  },
  {
   "cell_type": "markdown",
   "source": "### Alternatively, you can just use the query method to obtain the same result:",
   "metadata": {
    "tags": [],
    "cell_id": "00022-871ce8d8-e1c9-4a7a-81d4-e4b0d6e7599b",
    "deepnote_cell_type": "markdown"
   }
  },
  {
   "cell_type": "code",
   "metadata": {
    "tags": [],
    "cell_id": "00023-960b1c08-04b5-453b-bc18-291742197726",
    "deepnote_to_be_reexecuted": false,
    "source_hash": "2bb94dee",
    "execution_start": 1620441976018,
    "execution_millis": 15,
    "deepnote_cell_type": "code"
   },
   "source": "query_method = frame2.query(\"INSTNM == 'University of Maryland-Baltimore County'\")",
   "execution_count": 15,
   "outputs": []
  },
  {
   "cell_type": "markdown",
   "source": "## 8 - Explore this UMBC dataframe (# of observations, varibles, head, tail, sample, missing values, statistics,etc.)\n",
   "metadata": {
    "tags": [],
    "cell_id": "00022-94479c2f-6701-4cad-93c1-643705eecdea",
    "deepnote_cell_type": "markdown"
   }
  },
  {
   "cell_type": "code",
   "metadata": {
    "tags": [],
    "cell_id": "00023-51966372-b56f-479b-aed8-cc456df0ece6",
    "deepnote_to_be_reexecuted": false,
    "source_hash": "533a3106",
    "execution_start": 1620441976036,
    "execution_millis": 16,
    "deepnote_cell_type": "code"
   },
   "source": "print(\"Number of observations is\", len(frame2))",
   "execution_count": 16,
   "outputs": [
    {
     "name": "stdout",
     "text": "Number of observations is 23\n",
     "output_type": "stream"
    }
   ]
  },
  {
   "cell_type": "code",
   "metadata": {
    "tags": [],
    "cell_id": "00024-37f59d02-917d-4f92-90cd-69e1c70e9bbb",
    "deepnote_to_be_reexecuted": false,
    "source_hash": "85b28e8b",
    "execution_start": 1620441976090,
    "execution_millis": 6,
    "deepnote_cell_type": "code"
   },
   "source": "#display variables\nframe2.info()",
   "execution_count": 17,
   "outputs": [
    {
     "name": "stdout",
     "text": "<class 'pandas.core.frame.DataFrame'>\nInt64Index: 23 entries, 1893 to 158043\nData columns (total 7 columns):\n #   Column         Non-Null Count  Dtype  \n---  ------         --------------  -----  \n 0   YEAR           23 non-null     object \n 1   UNITID         23 non-null     int64  \n 2   INSTNM         23 non-null     object \n 3   STABBR         23 non-null     object \n 4   REGION         23 non-null     float64\n 5   ADM_RATE       18 non-null     float64\n 6   TUITIONFEE_IN  19 non-null     float64\ndtypes: float64(3), int64(1), object(3)\nmemory usage: 1.4+ KB\n",
     "output_type": "stream"
    }
   ]
  },
  {
   "cell_type": "code",
   "metadata": {
    "tags": [],
    "cell_id": "00025-daf516d9-4acd-4451-a176-364ff65f41f3",
    "deepnote_to_be_reexecuted": false,
    "source_hash": "456ba83c",
    "execution_start": 1620441976090,
    "execution_millis": 73,
    "deepnote_cell_type": "code"
   },
   "source": "#display statistics\nframe2.describe(include=\"all\")",
   "execution_count": 18,
   "outputs": [
    {
     "output_type": "execute_result",
     "execution_count": 18,
     "data": {
      "application/vnd.deepnote.dataframe.v2+json": {
       "row_count": 11,
       "column_count": 7,
       "columns": [
        {
         "name": "YEAR",
         "dtype": "object",
         "stats": {
          "unique_count": 3,
          "nan_count": 7,
          "categories": [
           {
            "name": "23",
            "count": 2
           },
           {
            "name": "2 others",
            "count": 2
           },
           {
            "name": "Missing",
            "count": 7
           }
          ]
         }
        },
        {
         "name": "UNITID",
         "dtype": "float64",
         "stats": {
          "unique_count": 3,
          "nan_count": 3,
          "min": "0.0",
          "max": "163268.0",
          "histogram": [
           {
            "bin_start": 0,
            "bin_end": 16326.8,
            "count": 2
           },
           {
            "bin_start": 16326.8,
            "bin_end": 32653.6,
            "count": 0
           },
           {
            "bin_start": 32653.6,
            "bin_end": 48980.399999999994,
            "count": 0
           },
           {
            "bin_start": 48980.399999999994,
            "bin_end": 65307.2,
            "count": 0
           },
           {
            "bin_start": 65307.2,
            "bin_end": 81634,
            "count": 0
           },
           {
            "bin_start": 81634,
            "bin_end": 97960.79999999999,
            "count": 0
           },
           {
            "bin_start": 97960.79999999999,
            "bin_end": 114287.59999999999,
            "count": 0
           },
           {
            "bin_start": 114287.59999999999,
            "bin_end": 130614.4,
            "count": 0
           },
           {
            "bin_start": 130614.4,
            "bin_end": 146941.19999999998,
            "count": 0
           },
           {
            "bin_start": 146941.19999999998,
            "bin_end": 163268,
            "count": 6
           }
          ]
         }
        },
        {
         "name": "INSTNM",
         "dtype": "object",
         "stats": {
          "unique_count": 3,
          "nan_count": 7,
          "categories": [
           {
            "name": "23",
            "count": 2
           },
           {
            "name": "2 others",
            "count": 2
           },
           {
            "name": "Missing",
            "count": 7
           }
          ]
         }
        },
        {
         "name": "STABBR",
         "dtype": "object",
         "stats": {
          "unique_count": 3,
          "nan_count": 7,
          "categories": [
           {
            "name": "23",
            "count": 2
           },
           {
            "name": "2 others",
            "count": 2
           },
           {
            "name": "Missing",
            "count": 7
           }
          ]
         }
        },
        {
         "name": "REGION",
         "dtype": "float64",
         "stats": {
          "unique_count": 3,
          "nan_count": 3,
          "min": "0.0",
          "max": "23.0",
          "histogram": [
           {
            "bin_start": 0,
            "bin_end": 2.3,
            "count": 7
           },
           {
            "bin_start": 2.3,
            "bin_end": 4.6,
            "count": 0
           },
           {
            "bin_start": 4.6,
            "bin_end": 6.8999999999999995,
            "count": 0
           },
           {
            "bin_start": 6.8999999999999995,
            "bin_end": 9.2,
            "count": 0
           },
           {
            "bin_start": 9.2,
            "bin_end": 11.5,
            "count": 0
           },
           {
            "bin_start": 11.5,
            "bin_end": 13.799999999999999,
            "count": 0
           },
           {
            "bin_start": 13.799999999999999,
            "bin_end": 16.099999999999998,
            "count": 0
           },
           {
            "bin_start": 16.099999999999998,
            "bin_end": 18.4,
            "count": 0
           },
           {
            "bin_start": 18.4,
            "bin_end": 20.7,
            "count": 0
           },
           {
            "bin_start": 20.7,
            "bin_end": 23,
            "count": 1
           }
          ]
         }
        },
        {
         "name": "ADM_RATE",
         "dtype": "float64",
         "stats": {
          "unique_count": 8,
          "nan_count": 3,
          "min": "0.052727651772461005",
          "max": "18.0",
          "histogram": [
           {
            "bin_start": 0.052727651772461005,
            "bin_end": 1.847454886595215,
            "count": 7
           },
           {
            "bin_start": 1.847454886595215,
            "bin_end": 3.6421821214179686,
            "count": 0
           },
           {
            "bin_start": 3.6421821214179686,
            "bin_end": 5.436909356240722,
            "count": 0
           },
           {
            "bin_start": 5.436909356240722,
            "bin_end": 7.231636591063476,
            "count": 0
           },
           {
            "bin_start": 7.231636591063476,
            "bin_end": 9.02636382588623,
            "count": 0
           },
           {
            "bin_start": 9.02636382588623,
            "bin_end": 10.821091060708984,
            "count": 0
           },
           {
            "bin_start": 10.821091060708984,
            "bin_end": 12.615818295531739,
            "count": 0
           },
           {
            "bin_start": 12.615818295531739,
            "bin_end": 14.410545530354492,
            "count": 0
           },
           {
            "bin_start": 14.410545530354492,
            "bin_end": 16.205272765177245,
            "count": 0
           },
           {
            "bin_start": 16.205272765177245,
            "bin_end": 18,
            "count": 1
           }
          ]
         }
        },
        {
         "name": "TUITIONFEE_IN",
         "dtype": "float64",
         "stats": {
          "unique_count": 8,
          "nan_count": 3,
          "min": "19.0",
          "max": "11778.0",
          "histogram": [
           {
            "bin_start": 19,
            "bin_end": 1194.9,
            "count": 1
           },
           {
            "bin_start": 1194.9,
            "bin_end": 2370.8,
            "count": 1
           },
           {
            "bin_start": 2370.8,
            "bin_end": 3546.7000000000003,
            "count": 0
           },
           {
            "bin_start": 3546.7000000000003,
            "bin_end": 4722.6,
            "count": 0
           },
           {
            "bin_start": 4722.6,
            "bin_end": 5898.5,
            "count": 1
           },
           {
            "bin_start": 5898.5,
            "bin_end": 7074.400000000001,
            "count": 0
           },
           {
            "bin_start": 7074.400000000001,
            "bin_end": 8250.300000000001,
            "count": 0
           },
           {
            "bin_start": 8250.300000000001,
            "bin_end": 9426.2,
            "count": 3
           },
           {
            "bin_start": 9426.2,
            "bin_end": 10602.1,
            "count": 1
           },
           {
            "bin_start": 10602.1,
            "bin_end": 11778,
            "count": 1
           }
          ]
         }
        },
        {
         "name": "_deepnote_index_column",
         "dtype": "object"
        }
       ],
       "rows_top": [
        {
         "YEAR": "23",
         "UNITID": "23.0",
         "INSTNM": "23",
         "STABBR": "23",
         "REGION": "23.0",
         "ADM_RATE": "18.0",
         "TUITIONFEE_IN": "19.0",
         "_deepnote_index_column": "count"
        },
        {
         "YEAR": "23",
         "UNITID": "nan",
         "INSTNM": "1",
         "STABBR": "1",
         "REGION": "nan",
         "ADM_RATE": "nan",
         "TUITIONFEE_IN": "nan",
         "_deepnote_index_column": "unique"
        },
        {
         "YEAR": "2002",
         "UNITID": "nan",
         "INSTNM": "University of Maryland-Baltimore County",
         "STABBR": "MD",
         "REGION": "nan",
         "ADM_RATE": "nan",
         "TUITIONFEE_IN": "nan",
         "_deepnote_index_column": "top"
        },
        {
         "YEAR": "1",
         "UNITID": "nan",
         "INSTNM": "23",
         "STABBR": "23",
         "REGION": "nan",
         "ADM_RATE": "nan",
         "TUITIONFEE_IN": "nan",
         "_deepnote_index_column": "freq"
        },
        {
         "YEAR": "nan",
         "UNITID": "163268.0",
         "INSTNM": "nan",
         "STABBR": "nan",
         "REGION": "2.0",
         "ADM_RATE": "0.6406944444444445",
         "TUITIONFEE_IN": "9004.842105263158",
         "_deepnote_index_column": "mean"
        },
        {
         "YEAR": "nan",
         "UNITID": "0.0",
         "INSTNM": "nan",
         "STABBR": "nan",
         "REGION": "0.0",
         "ADM_RATE": "0.052727651772461005",
         "TUITIONFEE_IN": "1825.7954206670183",
         "_deepnote_index_column": "std"
        },
        {
         "YEAR": "nan",
         "UNITID": "163268.0",
         "INSTNM": "nan",
         "STABBR": "nan",
         "REGION": "2.0",
         "ADM_RATE": "0.5683",
         "TUITIONFEE_IN": "5490.0",
         "_deepnote_index_column": "min"
        },
        {
         "YEAR": "nan",
         "UNITID": "163268.0",
         "INSTNM": "nan",
         "STABBR": "nan",
         "REGION": "2.0",
         "ADM_RATE": "0.5976",
         "TUITIONFEE_IN": "8270.0",
         "_deepnote_index_column": "25%"
        },
        {
         "YEAR": "nan",
         "UNITID": "163268.0",
         "INSTNM": "nan",
         "STABBR": "nan",
         "REGION": "2.0",
         "ADM_RATE": "0.6321",
         "TUITIONFEE_IN": "8872.0",
         "_deepnote_index_column": "50%"
        },
        {
         "YEAR": "nan",
         "UNITID": "163268.0",
         "INSTNM": "nan",
         "STABBR": "nan",
         "REGION": "2.0",
         "ADM_RATE": "0.6893750000000001",
         "TUITIONFEE_IN": "10226.0",
         "_deepnote_index_column": "75%"
        },
        {
         "YEAR": "nan",
         "UNITID": "163268.0",
         "INSTNM": "nan",
         "STABBR": "nan",
         "REGION": "2.0",
         "ADM_RATE": "0.7174",
         "TUITIONFEE_IN": "11778.0",
         "_deepnote_index_column": "max"
        }
       ],
       "rows_bottom": null
      },
      "text/plain": "        YEAR    UNITID                                   INSTNM STABBR  \\\ncount     23      23.0                                       23     23   \nunique    23       NaN                                        1      1   \ntop     2002       NaN  University of Maryland-Baltimore County     MD   \nfreq       1       NaN                                       23     23   \nmean     NaN  163268.0                                      NaN    NaN   \nstd      NaN       0.0                                      NaN    NaN   \nmin      NaN  163268.0                                      NaN    NaN   \n25%      NaN  163268.0                                      NaN    NaN   \n50%      NaN  163268.0                                      NaN    NaN   \n75%      NaN  163268.0                                      NaN    NaN   \nmax      NaN  163268.0                                      NaN    NaN   \n\n        REGION   ADM_RATE  TUITIONFEE_IN  \ncount     23.0  18.000000      19.000000  \nunique     NaN        NaN            NaN  \ntop        NaN        NaN            NaN  \nfreq       NaN        NaN            NaN  \nmean       2.0   0.640694    9004.842105  \nstd        0.0   0.052728    1825.795421  \nmin        2.0   0.568300    5490.000000  \n25%        2.0   0.597600    8270.000000  \n50%        2.0   0.632100    8872.000000  \n75%        2.0   0.689375   10226.000000  \nmax        2.0   0.717400   11778.000000  ",
      "text/html": "<div>\n<style scoped>\n    .dataframe tbody tr th:only-of-type {\n        vertical-align: middle;\n    }\n\n    .dataframe tbody tr th {\n        vertical-align: top;\n    }\n\n    .dataframe thead th {\n        text-align: right;\n    }\n</style>\n<table border=\"1\" class=\"dataframe\">\n  <thead>\n    <tr style=\"text-align: right;\">\n      <th></th>\n      <th>YEAR</th>\n      <th>UNITID</th>\n      <th>INSTNM</th>\n      <th>STABBR</th>\n      <th>REGION</th>\n      <th>ADM_RATE</th>\n      <th>TUITIONFEE_IN</th>\n    </tr>\n  </thead>\n  <tbody>\n    <tr>\n      <th>count</th>\n      <td>23</td>\n      <td>23.0</td>\n      <td>23</td>\n      <td>23</td>\n      <td>23.0</td>\n      <td>18.000000</td>\n      <td>19.000000</td>\n    </tr>\n    <tr>\n      <th>unique</th>\n      <td>23</td>\n      <td>NaN</td>\n      <td>1</td>\n      <td>1</td>\n      <td>NaN</td>\n      <td>NaN</td>\n      <td>NaN</td>\n    </tr>\n    <tr>\n      <th>top</th>\n      <td>2002</td>\n      <td>NaN</td>\n      <td>University of Maryland-Baltimore County</td>\n      <td>MD</td>\n      <td>NaN</td>\n      <td>NaN</td>\n      <td>NaN</td>\n    </tr>\n    <tr>\n      <th>freq</th>\n      <td>1</td>\n      <td>NaN</td>\n      <td>23</td>\n      <td>23</td>\n      <td>NaN</td>\n      <td>NaN</td>\n      <td>NaN</td>\n    </tr>\n    <tr>\n      <th>mean</th>\n      <td>NaN</td>\n      <td>163268.0</td>\n      <td>NaN</td>\n      <td>NaN</td>\n      <td>2.0</td>\n      <td>0.640694</td>\n      <td>9004.842105</td>\n    </tr>\n    <tr>\n      <th>std</th>\n      <td>NaN</td>\n      <td>0.0</td>\n      <td>NaN</td>\n      <td>NaN</td>\n      <td>0.0</td>\n      <td>0.052728</td>\n      <td>1825.795421</td>\n    </tr>\n    <tr>\n      <th>min</th>\n      <td>NaN</td>\n      <td>163268.0</td>\n      <td>NaN</td>\n      <td>NaN</td>\n      <td>2.0</td>\n      <td>0.568300</td>\n      <td>5490.000000</td>\n    </tr>\n    <tr>\n      <th>25%</th>\n      <td>NaN</td>\n      <td>163268.0</td>\n      <td>NaN</td>\n      <td>NaN</td>\n      <td>2.0</td>\n      <td>0.597600</td>\n      <td>8270.000000</td>\n    </tr>\n    <tr>\n      <th>50%</th>\n      <td>NaN</td>\n      <td>163268.0</td>\n      <td>NaN</td>\n      <td>NaN</td>\n      <td>2.0</td>\n      <td>0.632100</td>\n      <td>8872.000000</td>\n    </tr>\n    <tr>\n      <th>75%</th>\n      <td>NaN</td>\n      <td>163268.0</td>\n      <td>NaN</td>\n      <td>NaN</td>\n      <td>2.0</td>\n      <td>0.689375</td>\n      <td>10226.000000</td>\n    </tr>\n    <tr>\n      <th>max</th>\n      <td>NaN</td>\n      <td>163268.0</td>\n      <td>NaN</td>\n      <td>NaN</td>\n      <td>2.0</td>\n      <td>0.717400</td>\n      <td>11778.000000</td>\n    </tr>\n  </tbody>\n</table>\n</div>"
     },
     "metadata": {}
    }
   ]
  },
  {
   "cell_type": "code",
   "metadata": {
    "tags": [],
    "cell_id": "00026-333b178d-776f-4acf-ae67-4f4e74a73a15",
    "deepnote_to_be_reexecuted": false,
    "source_hash": "abd2539e",
    "execution_start": 1620441976161,
    "execution_millis": 66,
    "deepnote_cell_type": "code"
   },
   "source": "#display first five observations\nframe2.head()",
   "execution_count": 19,
   "outputs": [
    {
     "output_type": "execute_result",
     "execution_count": 19,
     "data": {
      "application/vnd.deepnote.dataframe.v2+json": {
       "row_count": 5,
       "column_count": 7,
       "columns": [
        {
         "name": "YEAR",
         "dtype": "object",
         "stats": {
          "unique_count": 5,
          "nan_count": 0,
          "categories": [
           {
            "name": "2002",
            "count": 1
           },
           {
            "name": "1997",
            "count": 1
           },
           {
            "name": "3 others",
            "count": 3
           }
          ]
         }
        },
        {
         "name": "UNITID",
         "dtype": "int64",
         "stats": {
          "unique_count": 1,
          "nan_count": 0,
          "min": "163268",
          "max": "163268",
          "histogram": [
           {
            "bin_start": 163267.5,
            "bin_end": 163267.6,
            "count": 0
           },
           {
            "bin_start": 163267.6,
            "bin_end": 163267.7,
            "count": 0
           },
           {
            "bin_start": 163267.7,
            "bin_end": 163267.8,
            "count": 0
           },
           {
            "bin_start": 163267.8,
            "bin_end": 163267.9,
            "count": 0
           },
           {
            "bin_start": 163267.9,
            "bin_end": 163268,
            "count": 0
           },
           {
            "bin_start": 163268,
            "bin_end": 163268.1,
            "count": 5
           },
           {
            "bin_start": 163268.1,
            "bin_end": 163268.2,
            "count": 0
           },
           {
            "bin_start": 163268.2,
            "bin_end": 163268.3,
            "count": 0
           },
           {
            "bin_start": 163268.3,
            "bin_end": 163268.4,
            "count": 0
           },
           {
            "bin_start": 163268.4,
            "bin_end": 163268.5,
            "count": 0
           }
          ]
         }
        },
        {
         "name": "INSTNM",
         "dtype": "object",
         "stats": {
          "unique_count": 1,
          "nan_count": 0,
          "categories": [
           {
            "name": "University of Maryland-Baltimore County",
            "count": 5
           }
          ]
         }
        },
        {
         "name": "STABBR",
         "dtype": "object",
         "stats": {
          "unique_count": 1,
          "nan_count": 0,
          "categories": [
           {
            "name": "MD",
            "count": 5
           }
          ]
         }
        },
        {
         "name": "REGION",
         "dtype": "float64",
         "stats": {
          "unique_count": 1,
          "nan_count": 0,
          "min": "2.0",
          "max": "2.0",
          "histogram": [
           {
            "bin_start": 1.5,
            "bin_end": 1.6,
            "count": 0
           },
           {
            "bin_start": 1.6,
            "bin_end": 1.7,
            "count": 0
           },
           {
            "bin_start": 1.7,
            "bin_end": 1.8,
            "count": 0
           },
           {
            "bin_start": 1.8,
            "bin_end": 1.9,
            "count": 0
           },
           {
            "bin_start": 1.9,
            "bin_end": 2,
            "count": 0
           },
           {
            "bin_start": 2,
            "bin_end": 2.1,
            "count": 5
           },
           {
            "bin_start": 2.1,
            "bin_end": 2.2,
            "count": 0
           },
           {
            "bin_start": 2.2,
            "bin_end": 2.3,
            "count": 0
           },
           {
            "bin_start": 2.3,
            "bin_end": 2.4,
            "count": 0
           },
           {
            "bin_start": 2.4,
            "bin_end": 2.5,
            "count": 0
           }
          ]
         }
        },
        {
         "name": "ADM_RATE",
         "dtype": "float64",
         "stats": {
          "unique_count": 3,
          "nan_count": 2,
          "min": "0.5942",
          "max": "0.6327",
          "histogram": [
           {
            "bin_start": 0.5942,
            "bin_end": 0.59805,
            "count": 1
           },
           {
            "bin_start": 0.59805,
            "bin_end": 0.6019,
            "count": 0
           },
           {
            "bin_start": 0.6019,
            "bin_end": 0.60575,
            "count": 0
           },
           {
            "bin_start": 0.60575,
            "bin_end": 0.6096,
            "count": 0
           },
           {
            "bin_start": 0.6096,
            "bin_end": 0.61345,
            "count": 0
           },
           {
            "bin_start": 0.61345,
            "bin_end": 0.6173,
            "count": 0
           },
           {
            "bin_start": 0.6173,
            "bin_end": 0.62115,
            "count": 0
           },
           {
            "bin_start": 0.62115,
            "bin_end": 0.625,
            "count": 0
           },
           {
            "bin_start": 0.625,
            "bin_end": 0.62885,
            "count": 0
           },
           {
            "bin_start": 0.62885,
            "bin_end": 0.6327,
            "count": 2
           }
          ]
         }
        },
        {
         "name": "TUITIONFEE_IN",
         "dtype": "float64",
         "stats": {
          "unique_count": 3,
          "nan_count": 2,
          "min": "6362.0",
          "max": "11006.0",
          "histogram": [
           {
            "bin_start": 6362,
            "bin_end": 6826.4,
            "count": 1
           },
           {
            "bin_start": 6826.4,
            "bin_end": 7290.8,
            "count": 0
           },
           {
            "bin_start": 7290.8,
            "bin_end": 7755.2,
            "count": 0
           },
           {
            "bin_start": 7755.2,
            "bin_end": 8219.6,
            "count": 0
           },
           {
            "bin_start": 8219.6,
            "bin_end": 8684,
            "count": 0
           },
           {
            "bin_start": 8684,
            "bin_end": 9148.4,
            "count": 0
           },
           {
            "bin_start": 9148.4,
            "bin_end": 9612.8,
            "count": 0
           },
           {
            "bin_start": 9612.8,
            "bin_end": 10077.2,
            "count": 1
           },
           {
            "bin_start": 10077.2,
            "bin_end": 10541.599999999999,
            "count": 0
           },
           {
            "bin_start": 10541.599999999999,
            "bin_end": 11006,
            "count": 1
           }
          ]
         }
        },
        {
         "name": "_deepnote_index_column",
         "dtype": "int64"
        }
       ],
       "rows_top": [
        {
         "YEAR": "2002",
         "UNITID": 163268,
         "INSTNM": "University of Maryland-Baltimore County",
         "STABBR": "MD",
         "REGION": 2,
         "ADM_RATE": "0.6327",
         "TUITIONFEE_IN": "6362.0",
         "_deepnote_index_column": 1893
        },
        {
         "YEAR": "1997",
         "UNITID": 163268,
         "INSTNM": "University of Maryland-Baltimore County",
         "STABBR": "MD",
         "REGION": 2,
         "ADM_RATE": "nan",
         "TUITIONFEE_IN": "nan",
         "_deepnote_index_column": 8701
        },
        {
         "YEAR": "2015",
         "UNITID": 163268,
         "INSTNM": "University of Maryland-Baltimore County",
         "STABBR": "MD",
         "REGION": 2,
         "ADM_RATE": "0.5942",
         "TUITIONFEE_IN": "11006.0",
         "_deepnote_index_column": 15141
        },
        {
         "YEAR": "2013",
         "UNITID": 163268,
         "INSTNM": "University of Maryland-Baltimore County",
         "STABBR": "MD",
         "REGION": 2,
         "ADM_RATE": "0.6315",
         "TUITIONFEE_IN": "10068.0",
         "_deepnote_index_column": 22881
        },
        {
         "YEAR": "1996",
         "UNITID": 163268,
         "INSTNM": "University of Maryland-Baltimore County",
         "STABBR": "MD",
         "REGION": 2,
         "ADM_RATE": "nan",
         "TUITIONFEE_IN": "nan",
         "_deepnote_index_column": 31272
        }
       ],
       "rows_bottom": null
      },
      "text/plain": "       YEAR  UNITID                                   INSTNM STABBR  REGION  \\\n1893   2002  163268  University of Maryland-Baltimore County     MD     2.0   \n8701   1997  163268  University of Maryland-Baltimore County     MD     2.0   \n15141  2015  163268  University of Maryland-Baltimore County     MD     2.0   \n22881  2013  163268  University of Maryland-Baltimore County     MD     2.0   \n31272  1996  163268  University of Maryland-Baltimore County     MD     2.0   \n\n       ADM_RATE  TUITIONFEE_IN  \n1893     0.6327         6362.0  \n8701        NaN            NaN  \n15141    0.5942        11006.0  \n22881    0.6315        10068.0  \n31272       NaN            NaN  ",
      "text/html": "<div>\n<style scoped>\n    .dataframe tbody tr th:only-of-type {\n        vertical-align: middle;\n    }\n\n    .dataframe tbody tr th {\n        vertical-align: top;\n    }\n\n    .dataframe thead th {\n        text-align: right;\n    }\n</style>\n<table border=\"1\" class=\"dataframe\">\n  <thead>\n    <tr style=\"text-align: right;\">\n      <th></th>\n      <th>YEAR</th>\n      <th>UNITID</th>\n      <th>INSTNM</th>\n      <th>STABBR</th>\n      <th>REGION</th>\n      <th>ADM_RATE</th>\n      <th>TUITIONFEE_IN</th>\n    </tr>\n  </thead>\n  <tbody>\n    <tr>\n      <th>1893</th>\n      <td>2002</td>\n      <td>163268</td>\n      <td>University of Maryland-Baltimore County</td>\n      <td>MD</td>\n      <td>2.0</td>\n      <td>0.6327</td>\n      <td>6362.0</td>\n    </tr>\n    <tr>\n      <th>8701</th>\n      <td>1997</td>\n      <td>163268</td>\n      <td>University of Maryland-Baltimore County</td>\n      <td>MD</td>\n      <td>2.0</td>\n      <td>NaN</td>\n      <td>NaN</td>\n    </tr>\n    <tr>\n      <th>15141</th>\n      <td>2015</td>\n      <td>163268</td>\n      <td>University of Maryland-Baltimore County</td>\n      <td>MD</td>\n      <td>2.0</td>\n      <td>0.5942</td>\n      <td>11006.0</td>\n    </tr>\n    <tr>\n      <th>22881</th>\n      <td>2013</td>\n      <td>163268</td>\n      <td>University of Maryland-Baltimore County</td>\n      <td>MD</td>\n      <td>2.0</td>\n      <td>0.6315</td>\n      <td>10068.0</td>\n    </tr>\n    <tr>\n      <th>31272</th>\n      <td>1996</td>\n      <td>163268</td>\n      <td>University of Maryland-Baltimore County</td>\n      <td>MD</td>\n      <td>2.0</td>\n      <td>NaN</td>\n      <td>NaN</td>\n    </tr>\n  </tbody>\n</table>\n</div>"
     },
     "metadata": {}
    }
   ]
  },
  {
   "cell_type": "code",
   "metadata": {
    "tags": [],
    "cell_id": "00027-3b205bfa-e9e8-4561-ad41-03b6010db6f0",
    "deepnote_to_be_reexecuted": false,
    "source_hash": "9fac893e",
    "execution_start": 1620441976234,
    "execution_millis": 67,
    "deepnote_cell_type": "code"
   },
   "source": "#display last five observations\nframe2.tail()",
   "execution_count": 20,
   "outputs": [
    {
     "output_type": "execute_result",
     "execution_count": 20,
     "data": {
      "application/vnd.deepnote.dataframe.v2+json": {
       "row_count": 5,
       "column_count": 7,
       "columns": [
        {
         "name": "YEAR",
         "dtype": "object",
         "stats": {
          "unique_count": 5,
          "nan_count": 0,
          "categories": [
           {
            "name": "2001",
            "count": 1
           },
           {
            "name": "2017",
            "count": 1
           },
           {
            "name": "3 others",
            "count": 3
           }
          ]
         }
        },
        {
         "name": "UNITID",
         "dtype": "int64",
         "stats": {
          "unique_count": 1,
          "nan_count": 0,
          "min": "163268",
          "max": "163268",
          "histogram": [
           {
            "bin_start": 163267.5,
            "bin_end": 163267.6,
            "count": 0
           },
           {
            "bin_start": 163267.6,
            "bin_end": 163267.7,
            "count": 0
           },
           {
            "bin_start": 163267.7,
            "bin_end": 163267.8,
            "count": 0
           },
           {
            "bin_start": 163267.8,
            "bin_end": 163267.9,
            "count": 0
           },
           {
            "bin_start": 163267.9,
            "bin_end": 163268,
            "count": 0
           },
           {
            "bin_start": 163268,
            "bin_end": 163268.1,
            "count": 5
           },
           {
            "bin_start": 163268.1,
            "bin_end": 163268.2,
            "count": 0
           },
           {
            "bin_start": 163268.2,
            "bin_end": 163268.3,
            "count": 0
           },
           {
            "bin_start": 163268.3,
            "bin_end": 163268.4,
            "count": 0
           },
           {
            "bin_start": 163268.4,
            "bin_end": 163268.5,
            "count": 0
           }
          ]
         }
        },
        {
         "name": "INSTNM",
         "dtype": "object",
         "stats": {
          "unique_count": 1,
          "nan_count": 0,
          "categories": [
           {
            "name": "University of Maryland-Baltimore County",
            "count": 5
           }
          ]
         }
        },
        {
         "name": "STABBR",
         "dtype": "object",
         "stats": {
          "unique_count": 1,
          "nan_count": 0,
          "categories": [
           {
            "name": "MD",
            "count": 5
           }
          ]
         }
        },
        {
         "name": "REGION",
         "dtype": "float64",
         "stats": {
          "unique_count": 1,
          "nan_count": 0,
          "min": "2.0",
          "max": "2.0",
          "histogram": [
           {
            "bin_start": 1.5,
            "bin_end": 1.6,
            "count": 0
           },
           {
            "bin_start": 1.6,
            "bin_end": 1.7,
            "count": 0
           },
           {
            "bin_start": 1.7,
            "bin_end": 1.8,
            "count": 0
           },
           {
            "bin_start": 1.8,
            "bin_end": 1.9,
            "count": 0
           },
           {
            "bin_start": 1.9,
            "bin_end": 2,
            "count": 0
           },
           {
            "bin_start": 2,
            "bin_end": 2.1,
            "count": 5
           },
           {
            "bin_start": 2.1,
            "bin_end": 2.2,
            "count": 0
           },
           {
            "bin_start": 2.2,
            "bin_end": 2.3,
            "count": 0
           },
           {
            "bin_start": 2.3,
            "bin_end": 2.4,
            "count": 0
           },
           {
            "bin_start": 2.4,
            "bin_end": 2.5,
            "count": 0
           }
          ]
         }
        },
        {
         "name": "ADM_RATE",
         "dtype": "float64",
         "stats": {
          "unique_count": 5,
          "nan_count": 0,
          "min": "0.5683",
          "max": "0.7174",
          "histogram": [
           {
            "bin_start": 0.5683,
            "bin_end": 0.58321,
            "count": 1
           },
           {
            "bin_start": 0.58321,
            "bin_end": 0.59812,
            "count": 1
           },
           {
            "bin_start": 0.59812,
            "bin_end": 0.6130300000000001,
            "count": 1
           },
           {
            "bin_start": 0.6130300000000001,
            "bin_end": 0.62794,
            "count": 0
           },
           {
            "bin_start": 0.62794,
            "bin_end": 0.64285,
            "count": 0
           },
           {
            "bin_start": 0.64285,
            "bin_end": 0.65776,
            "count": 1
           },
           {
            "bin_start": 0.65776,
            "bin_end": 0.67267,
            "count": 0
           },
           {
            "bin_start": 0.67267,
            "bin_end": 0.6875800000000001,
            "count": 0
           },
           {
            "bin_start": 0.6875800000000001,
            "bin_end": 0.7024900000000001,
            "count": 0
           },
           {
            "bin_start": 0.7024900000000001,
            "bin_end": 0.7174,
            "count": 1
           }
          ]
         }
        },
        {
         "name": "TUITIONFEE_IN",
         "dtype": "float64",
         "stats": {
          "unique_count": 5,
          "nan_count": 0,
          "min": "5910.0",
          "max": "11518.0",
          "histogram": [
           {
            "bin_start": 5910,
            "bin_end": 6470.8,
            "count": 1
           },
           {
            "bin_start": 6470.8,
            "bin_end": 7031.6,
            "count": 0
           },
           {
            "bin_start": 7031.6,
            "bin_end": 7592.4,
            "count": 0
           },
           {
            "bin_start": 7592.4,
            "bin_end": 8153.2,
            "count": 0
           },
           {
            "bin_start": 8153.2,
            "bin_end": 8714,
            "count": 0
           },
           {
            "bin_start": 8714,
            "bin_end": 9274.8,
            "count": 1
           },
           {
            "bin_start": 9274.8,
            "bin_end": 9835.599999999999,
            "count": 0
           },
           {
            "bin_start": 9835.599999999999,
            "bin_end": 10396.4,
            "count": 1
           },
           {
            "bin_start": 10396.4,
            "bin_end": 10957.2,
            "count": 0
           },
           {
            "bin_start": 10957.2,
            "bin_end": 11518,
            "count": 2
           }
          ]
         }
        },
        {
         "name": "_deepnote_index_column",
         "dtype": "int64"
        }
       ],
       "rows_top": [
        {
         "YEAR": "2001",
         "UNITID": 163268,
         "INSTNM": "University of Maryland-Baltimore County",
         "STABBR": "MD",
         "REGION": 2,
         "ADM_RATE": 0.6551,
         "TUITIONFEE_IN": 5910,
         "_deepnote_index_column": 129350
        },
        {
         "YEAR": "2017",
         "UNITID": 163268,
         "INSTNM": "University of Maryland-Baltimore County",
         "STABBR": "MD",
         "REGION": 2,
         "ADM_RATE": 0.6021,
         "TUITIONFEE_IN": 11518,
         "_deepnote_index_column": 135638
        },
        {
         "YEAR": "2014",
         "UNITID": 163268,
         "INSTNM": "University of Maryland-Baltimore County",
         "STABBR": "MD",
         "REGION": 2,
         "ADM_RATE": 0.5961,
         "TUITIONFEE_IN": 10384,
         "_deepnote_index_column": 142882
        },
        {
         "YEAR": "2016",
         "UNITID": 163268,
         "INSTNM": "University of Maryland-Baltimore County",
         "STABBR": "MD",
         "REGION": 2,
         "ADM_RATE": 0.5683,
         "TUITIONFEE_IN": 11264,
         "_deepnote_index_column": 150548
        },
        {
         "YEAR": "2008",
         "UNITID": 163268,
         "INSTNM": "University of Maryland-Baltimore County",
         "STABBR": "MD",
         "REGION": 2,
         "ADM_RATE": 0.7174,
         "TUITIONFEE_IN": 8780,
         "_deepnote_index_column": 158043
        }
       ],
       "rows_bottom": null
      },
      "text/plain": "        YEAR  UNITID                                   INSTNM STABBR  REGION  \\\n129350  2001  163268  University of Maryland-Baltimore County     MD     2.0   \n135638  2017  163268  University of Maryland-Baltimore County     MD     2.0   \n142882  2014  163268  University of Maryland-Baltimore County     MD     2.0   \n150548  2016  163268  University of Maryland-Baltimore County     MD     2.0   \n158043  2008  163268  University of Maryland-Baltimore County     MD     2.0   \n\n        ADM_RATE  TUITIONFEE_IN  \n129350    0.6551         5910.0  \n135638    0.6021        11518.0  \n142882    0.5961        10384.0  \n150548    0.5683        11264.0  \n158043    0.7174         8780.0  ",
      "text/html": "<div>\n<style scoped>\n    .dataframe tbody tr th:only-of-type {\n        vertical-align: middle;\n    }\n\n    .dataframe tbody tr th {\n        vertical-align: top;\n    }\n\n    .dataframe thead th {\n        text-align: right;\n    }\n</style>\n<table border=\"1\" class=\"dataframe\">\n  <thead>\n    <tr style=\"text-align: right;\">\n      <th></th>\n      <th>YEAR</th>\n      <th>UNITID</th>\n      <th>INSTNM</th>\n      <th>STABBR</th>\n      <th>REGION</th>\n      <th>ADM_RATE</th>\n      <th>TUITIONFEE_IN</th>\n    </tr>\n  </thead>\n  <tbody>\n    <tr>\n      <th>129350</th>\n      <td>2001</td>\n      <td>163268</td>\n      <td>University of Maryland-Baltimore County</td>\n      <td>MD</td>\n      <td>2.0</td>\n      <td>0.6551</td>\n      <td>5910.0</td>\n    </tr>\n    <tr>\n      <th>135638</th>\n      <td>2017</td>\n      <td>163268</td>\n      <td>University of Maryland-Baltimore County</td>\n      <td>MD</td>\n      <td>2.0</td>\n      <td>0.6021</td>\n      <td>11518.0</td>\n    </tr>\n    <tr>\n      <th>142882</th>\n      <td>2014</td>\n      <td>163268</td>\n      <td>University of Maryland-Baltimore County</td>\n      <td>MD</td>\n      <td>2.0</td>\n      <td>0.5961</td>\n      <td>10384.0</td>\n    </tr>\n    <tr>\n      <th>150548</th>\n      <td>2016</td>\n      <td>163268</td>\n      <td>University of Maryland-Baltimore County</td>\n      <td>MD</td>\n      <td>2.0</td>\n      <td>0.5683</td>\n      <td>11264.0</td>\n    </tr>\n    <tr>\n      <th>158043</th>\n      <td>2008</td>\n      <td>163268</td>\n      <td>University of Maryland-Baltimore County</td>\n      <td>MD</td>\n      <td>2.0</td>\n      <td>0.7174</td>\n      <td>8780.0</td>\n    </tr>\n  </tbody>\n</table>\n</div>"
     },
     "metadata": {}
    }
   ]
  },
  {
   "cell_type": "code",
   "metadata": {
    "tags": [],
    "cell_id": "00028-1296702e-201a-4728-81e5-a69576a5e471",
    "deepnote_to_be_reexecuted": false,
    "source_hash": "a136023d",
    "execution_start": 1620441976296,
    "execution_millis": 64,
    "deepnote_cell_type": "code"
   },
   "source": "#display a random sample of five observations\nframe2.sample(5)",
   "execution_count": 21,
   "outputs": [
    {
     "output_type": "execute_result",
     "execution_count": 21,
     "data": {
      "application/vnd.deepnote.dataframe.v2+json": {
       "row_count": 5,
       "column_count": 7,
       "columns": [
        {
         "name": "YEAR",
         "dtype": "object",
         "stats": {
          "unique_count": 5,
          "nan_count": 0,
          "categories": [
           {
            "name": "2010",
            "count": 1
           },
           {
            "name": "2011",
            "count": 1
           },
           {
            "name": "3 others",
            "count": 3
           }
          ]
         }
        },
        {
         "name": "UNITID",
         "dtype": "int64",
         "stats": {
          "unique_count": 1,
          "nan_count": 0,
          "min": "163268",
          "max": "163268",
          "histogram": [
           {
            "bin_start": 163267.5,
            "bin_end": 163267.6,
            "count": 0
           },
           {
            "bin_start": 163267.6,
            "bin_end": 163267.7,
            "count": 0
           },
           {
            "bin_start": 163267.7,
            "bin_end": 163267.8,
            "count": 0
           },
           {
            "bin_start": 163267.8,
            "bin_end": 163267.9,
            "count": 0
           },
           {
            "bin_start": 163267.9,
            "bin_end": 163268,
            "count": 0
           },
           {
            "bin_start": 163268,
            "bin_end": 163268.1,
            "count": 5
           },
           {
            "bin_start": 163268.1,
            "bin_end": 163268.2,
            "count": 0
           },
           {
            "bin_start": 163268.2,
            "bin_end": 163268.3,
            "count": 0
           },
           {
            "bin_start": 163268.3,
            "bin_end": 163268.4,
            "count": 0
           },
           {
            "bin_start": 163268.4,
            "bin_end": 163268.5,
            "count": 0
           }
          ]
         }
        },
        {
         "name": "INSTNM",
         "dtype": "object",
         "stats": {
          "unique_count": 1,
          "nan_count": 0,
          "categories": [
           {
            "name": "University of Maryland-Baltimore County",
            "count": 5
           }
          ]
         }
        },
        {
         "name": "STABBR",
         "dtype": "object",
         "stats": {
          "unique_count": 1,
          "nan_count": 0,
          "categories": [
           {
            "name": "MD",
            "count": 5
           }
          ]
         }
        },
        {
         "name": "REGION",
         "dtype": "float64",
         "stats": {
          "unique_count": 1,
          "nan_count": 0,
          "min": "2.0",
          "max": "2.0",
          "histogram": [
           {
            "bin_start": 1.5,
            "bin_end": 1.6,
            "count": 0
           },
           {
            "bin_start": 1.6,
            "bin_end": 1.7,
            "count": 0
           },
           {
            "bin_start": 1.7,
            "bin_end": 1.8,
            "count": 0
           },
           {
            "bin_start": 1.8,
            "bin_end": 1.9,
            "count": 0
           },
           {
            "bin_start": 1.9,
            "bin_end": 2,
            "count": 0
           },
           {
            "bin_start": 2,
            "bin_end": 2.1,
            "count": 5
           },
           {
            "bin_start": 2.1,
            "bin_end": 2.2,
            "count": 0
           },
           {
            "bin_start": 2.2,
            "bin_end": 2.3,
            "count": 0
           },
           {
            "bin_start": 2.3,
            "bin_end": 2.4,
            "count": 0
           },
           {
            "bin_start": 2.4,
            "bin_end": 2.5,
            "count": 0
           }
          ]
         }
        },
        {
         "name": "ADM_RATE",
         "dtype": "float64",
         "stats": {
          "unique_count": 4,
          "nan_count": 1,
          "min": "0.5757",
          "max": "0.6589",
          "histogram": [
           {
            "bin_start": 0.5757,
            "bin_end": 0.58402,
            "count": 2
           },
           {
            "bin_start": 0.58402,
            "bin_end": 0.59234,
            "count": 0
           },
           {
            "bin_start": 0.59234,
            "bin_end": 0.60066,
            "count": 0
           },
           {
            "bin_start": 0.60066,
            "bin_end": 0.60898,
            "count": 1
           },
           {
            "bin_start": 0.60898,
            "bin_end": 0.6173,
            "count": 0
           },
           {
            "bin_start": 0.6173,
            "bin_end": 0.6256200000000001,
            "count": 0
           },
           {
            "bin_start": 0.6256200000000001,
            "bin_end": 0.6339400000000001,
            "count": 0
           },
           {
            "bin_start": 0.6339400000000001,
            "bin_end": 0.64226,
            "count": 0
           },
           {
            "bin_start": 0.64226,
            "bin_end": 0.65058,
            "count": 0
           },
           {
            "bin_start": 0.65058,
            "bin_end": 0.6589,
            "count": 1
           }
          ]
         }
        },
        {
         "name": "TUITIONFEE_IN",
         "dtype": "float64",
         "stats": {
          "unique_count": 4,
          "nan_count": 1,
          "min": "7388.0",
          "max": "11778.0",
          "histogram": [
           {
            "bin_start": 7388,
            "bin_end": 7827,
            "count": 1
           },
           {
            "bin_start": 7827,
            "bin_end": 8266,
            "count": 0
           },
           {
            "bin_start": 8266,
            "bin_end": 8705,
            "count": 0
           },
           {
            "bin_start": 8705,
            "bin_end": 9144,
            "count": 0
           },
           {
            "bin_start": 9144,
            "bin_end": 9583,
            "count": 2
           },
           {
            "bin_start": 9583,
            "bin_end": 10022,
            "count": 0
           },
           {
            "bin_start": 10022,
            "bin_end": 10461,
            "count": 0
           },
           {
            "bin_start": 10461,
            "bin_end": 10900,
            "count": 0
           },
           {
            "bin_start": 10900,
            "bin_end": 11339,
            "count": 0
           },
           {
            "bin_start": 11339,
            "bin_end": 11778,
            "count": 1
           }
          ]
         }
        },
        {
         "name": "_deepnote_index_column",
         "dtype": "int64"
        }
       ],
       "rows_top": [
        {
         "YEAR": "2010",
         "UNITID": 163268,
         "INSTNM": "University of Maryland-Baltimore County",
         "STABBR": "MD",
         "REGION": 2,
         "ADM_RATE": "0.6589",
         "TUITIONFEE_IN": "9171.0",
         "_deepnote_index_column": 114458
        },
        {
         "YEAR": "2011",
         "UNITID": 163268,
         "INSTNM": "University of Maryland-Baltimore County",
         "STABBR": "MD",
         "REGION": 2,
         "ADM_RATE": "0.6081",
         "TUITIONFEE_IN": "9467.0",
         "_deepnote_index_column": 44476
        },
        {
         "YEAR": "1999",
         "UNITID": 163268,
         "INSTNM": "University of Maryland-Baltimore County",
         "STABBR": "MD",
         "REGION": 2,
         "ADM_RATE": "nan",
         "TUITIONFEE_IN": "nan",
         "_deepnote_index_column": 87820
        },
        {
         "YEAR": "2003",
         "UNITID": 163268,
         "INSTNM": "University of Maryland-Baltimore County",
         "STABBR": "MD",
         "REGION": 2,
         "ADM_RATE": "0.5757",
         "TUITIONFEE_IN": "7388.0",
         "_deepnote_index_column": 101246
        },
        {
         "YEAR": "2018",
         "UNITID": 163268,
         "INSTNM": "University of Maryland-Baltimore County",
         "STABBR": "MD",
         "REGION": 2,
         "ADM_RATE": "0.5794",
         "TUITIONFEE_IN": "11778.0",
         "_deepnote_index_column": 72612
        }
       ],
       "rows_bottom": null
      },
      "text/plain": "        YEAR  UNITID                                   INSTNM STABBR  REGION  \\\n114458  2010  163268  University of Maryland-Baltimore County     MD     2.0   \n44476   2011  163268  University of Maryland-Baltimore County     MD     2.0   \n87820   1999  163268  University of Maryland-Baltimore County     MD     2.0   \n101246  2003  163268  University of Maryland-Baltimore County     MD     2.0   \n72612   2018  163268  University of Maryland-Baltimore County     MD     2.0   \n\n        ADM_RATE  TUITIONFEE_IN  \n114458    0.6589         9171.0  \n44476     0.6081         9467.0  \n87820        NaN            NaN  \n101246    0.5757         7388.0  \n72612     0.5794        11778.0  ",
      "text/html": "<div>\n<style scoped>\n    .dataframe tbody tr th:only-of-type {\n        vertical-align: middle;\n    }\n\n    .dataframe tbody tr th {\n        vertical-align: top;\n    }\n\n    .dataframe thead th {\n        text-align: right;\n    }\n</style>\n<table border=\"1\" class=\"dataframe\">\n  <thead>\n    <tr style=\"text-align: right;\">\n      <th></th>\n      <th>YEAR</th>\n      <th>UNITID</th>\n      <th>INSTNM</th>\n      <th>STABBR</th>\n      <th>REGION</th>\n      <th>ADM_RATE</th>\n      <th>TUITIONFEE_IN</th>\n    </tr>\n  </thead>\n  <tbody>\n    <tr>\n      <th>114458</th>\n      <td>2010</td>\n      <td>163268</td>\n      <td>University of Maryland-Baltimore County</td>\n      <td>MD</td>\n      <td>2.0</td>\n      <td>0.6589</td>\n      <td>9171.0</td>\n    </tr>\n    <tr>\n      <th>44476</th>\n      <td>2011</td>\n      <td>163268</td>\n      <td>University of Maryland-Baltimore County</td>\n      <td>MD</td>\n      <td>2.0</td>\n      <td>0.6081</td>\n      <td>9467.0</td>\n    </tr>\n    <tr>\n      <th>87820</th>\n      <td>1999</td>\n      <td>163268</td>\n      <td>University of Maryland-Baltimore County</td>\n      <td>MD</td>\n      <td>2.0</td>\n      <td>NaN</td>\n      <td>NaN</td>\n    </tr>\n    <tr>\n      <th>101246</th>\n      <td>2003</td>\n      <td>163268</td>\n      <td>University of Maryland-Baltimore County</td>\n      <td>MD</td>\n      <td>2.0</td>\n      <td>0.5757</td>\n      <td>7388.0</td>\n    </tr>\n    <tr>\n      <th>72612</th>\n      <td>2018</td>\n      <td>163268</td>\n      <td>University of Maryland-Baltimore County</td>\n      <td>MD</td>\n      <td>2.0</td>\n      <td>0.5794</td>\n      <td>11778.0</td>\n    </tr>\n  </tbody>\n</table>\n</div>"
     },
     "metadata": {}
    }
   ]
  },
  {
   "cell_type": "code",
   "metadata": {
    "tags": [],
    "cell_id": "00029-8cbae57f-a958-4ed5-8802-f5b6e3b2f364",
    "deepnote_to_be_reexecuted": false,
    "source_hash": "e4a34447",
    "execution_start": 1620441976356,
    "execution_millis": 26,
    "deepnote_cell_type": "code"
   },
   "source": "#display how many missing values are in this data frame  \nframe2.isnull().sum() #counts the number of missing values in each column ",
   "execution_count": 22,
   "outputs": [
    {
     "output_type": "execute_result",
     "execution_count": 22,
     "data": {
      "text/plain": "YEAR             0\nUNITID           0\nINSTNM           0\nSTABBR           0\nREGION           0\nADM_RATE         5\nTUITIONFEE_IN    4\ndtype: int64"
     },
     "metadata": {}
    }
   ]
  },
  {
   "cell_type": "markdown",
   "source": "## 9 - Plot UMBC's in-state tution over time from 1996 to 2019 using a Bar Chart",
   "metadata": {
    "tags": [],
    "cell_id": "00030-a5418964-c581-48c2-9032-54421b57546e",
    "deepnote_cell_type": "markdown"
   }
  },
  {
   "cell_type": "code",
   "metadata": {
    "tags": [],
    "cell_id": "00033-21e9817b-7210-45c8-845d-ae020e996558",
    "deepnote_to_be_reexecuted": false,
    "source_hash": "6386f17f",
    "execution_start": 1620441976378,
    "execution_millis": 707,
    "deepnote_cell_type": "code"
   },
   "source": "#Use plotly express to visualize a bar chart:\nfig = px.bar(frame2, x='YEAR', y='TUITIONFEE_IN')\nfig.update_layout(\n    title=\"UMBC's in-state tution over time from 1996 to 2019\",\n    xaxis_title=\"Year\",\n    yaxis_title=\"In State Tuition\"\n    )\nfig.update_xaxes(categoryorder=\"total ascending\")\nfig.show()",
   "execution_count": 23,
   "outputs": [
    {
     "data": {
      "text/html": "<html>\n<head><meta charset=\"utf-8\" /></head>\n<body>\n    <div>            <script src=\"https://cdnjs.cloudflare.com/ajax/libs/mathjax/2.7.5/MathJax.js?config=TeX-AMS-MML_SVG\"></script><script type=\"text/javascript\">if (window.MathJax) {MathJax.Hub.Config({SVG: {font: \"STIX-Web\"}});}</script>                <script type=\"text/javascript\">window.PlotlyConfig = {MathJaxConfig: 'local'};</script>\n        <script src=\"https://cdn.plot.ly/plotly-latest.min.js\"></script>                <div id=\"ec4ebf50-21e0-4d9d-87a0-5df82d1cb874\" class=\"plotly-graph-div\" style=\"height:525px; width:100%;\"></div>            <script type=\"text/javascript\">                                    window.PLOTLYENV=window.PLOTLYENV || {};                                    if (document.getElementById(\"ec4ebf50-21e0-4d9d-87a0-5df82d1cb874\")) {                    Plotly.newPlot(                        \"ec4ebf50-21e0-4d9d-87a0-5df82d1cb874\",                        [{\"alignmentgroup\": \"True\", \"hovertemplate\": \"YEAR=%{x}<br>TUITIONFEE_IN=%{y}<extra></extra>\", \"legendgroup\": \"\", \"marker\": {\"color\": \"#636efa\"}, \"name\": \"\", \"offsetgroup\": \"\", \"orientation\": \"v\", \"showlegend\": false, \"textposition\": \"auto\", \"type\": \"bar\", \"x\": [\"2002\", \"1997\", \"2015\", \"2013\", \"1996\", \"2000\", \"2011\", \"2007\", \"2004\", \"2006\", \"2018\", \"2012\", \"1999\", \"2005\", \"2003\", \"1998\", \"2010\", \"2009\", \"2001\", \"2017\", \"2014\", \"2016\", \"2008\"], \"xaxis\": \"x\", \"y\": [6362.0, null, 11006.0, 10068.0, null, 5490.0, 9467.0, 8708.0, 8020.0, 8622.0, 11778.0, 9764.0, null, 8520.0, 7388.0, null, 9171.0, 8872.0, 5910.0, 11518.0, 10384.0, 11264.0, 8780.0], \"yaxis\": \"y\"}],                        {\"barmode\": \"relative\", \"legend\": {\"tracegroupgap\": 0}, \"margin\": {\"t\": 60}, \"template\": {\"data\": {\"bar\": [{\"error_x\": {\"color\": \"#f2f5fa\"}, \"error_y\": {\"color\": \"#f2f5fa\"}, \"marker\": {\"line\": {\"color\": \"rgb(17,17,17)\", \"width\": 0.5}}, \"type\": \"bar\"}], \"barpolar\": [{\"marker\": {\"line\": {\"color\": \"rgb(17,17,17)\", \"width\": 0.5}}, \"type\": \"barpolar\"}], \"carpet\": [{\"aaxis\": {\"endlinecolor\": \"#A2B1C6\", \"gridcolor\": \"#506784\", \"linecolor\": \"#506784\", \"minorgridcolor\": \"#506784\", \"startlinecolor\": \"#A2B1C6\"}, \"baxis\": {\"endlinecolor\": \"#A2B1C6\", \"gridcolor\": \"#506784\", \"linecolor\": \"#506784\", \"minorgridcolor\": \"#506784\", \"startlinecolor\": \"#A2B1C6\"}, \"type\": \"carpet\"}], \"choropleth\": [{\"colorbar\": {\"outlinewidth\": 0, \"ticks\": \"\"}, \"type\": \"choropleth\"}], \"contour\": [{\"colorbar\": {\"outlinewidth\": 0, \"ticks\": \"\"}, \"colorscale\": [[0.0, \"#0d0887\"], [0.1111111111111111, \"#46039f\"], [0.2222222222222222, \"#7201a8\"], [0.3333333333333333, \"#9c179e\"], [0.4444444444444444, \"#bd3786\"], [0.5555555555555556, \"#d8576b\"], [0.6666666666666666, \"#ed7953\"], [0.7777777777777778, \"#fb9f3a\"], [0.8888888888888888, \"#fdca26\"], [1.0, \"#f0f921\"]], \"type\": \"contour\"}], \"contourcarpet\": [{\"colorbar\": {\"outlinewidth\": 0, \"ticks\": \"\"}, \"type\": \"contourcarpet\"}], \"heatmap\": [{\"colorbar\": {\"outlinewidth\": 0, \"ticks\": \"\"}, \"colorscale\": [[0.0, \"#0d0887\"], [0.1111111111111111, \"#46039f\"], [0.2222222222222222, \"#7201a8\"], [0.3333333333333333, \"#9c179e\"], [0.4444444444444444, \"#bd3786\"], [0.5555555555555556, \"#d8576b\"], [0.6666666666666666, \"#ed7953\"], [0.7777777777777778, \"#fb9f3a\"], [0.8888888888888888, \"#fdca26\"], [1.0, \"#f0f921\"]], \"type\": \"heatmap\"}], \"heatmapgl\": [{\"colorbar\": {\"outlinewidth\": 0, \"ticks\": \"\"}, \"colorscale\": [[0.0, \"#0d0887\"], [0.1111111111111111, \"#46039f\"], [0.2222222222222222, \"#7201a8\"], [0.3333333333333333, \"#9c179e\"], [0.4444444444444444, \"#bd3786\"], [0.5555555555555556, \"#d8576b\"], [0.6666666666666666, \"#ed7953\"], [0.7777777777777778, \"#fb9f3a\"], [0.8888888888888888, \"#fdca26\"], [1.0, \"#f0f921\"]], \"type\": \"heatmapgl\"}], \"histogram\": [{\"marker\": {\"colorbar\": {\"outlinewidth\": 0, \"ticks\": \"\"}}, \"type\": \"histogram\"}], \"histogram2d\": [{\"colorbar\": {\"outlinewidth\": 0, \"ticks\": \"\"}, \"colorscale\": [[0.0, \"#0d0887\"], [0.1111111111111111, \"#46039f\"], [0.2222222222222222, \"#7201a8\"], [0.3333333333333333, \"#9c179e\"], [0.4444444444444444, \"#bd3786\"], [0.5555555555555556, \"#d8576b\"], [0.6666666666666666, \"#ed7953\"], [0.7777777777777778, \"#fb9f3a\"], [0.8888888888888888, \"#fdca26\"], [1.0, \"#f0f921\"]], \"type\": \"histogram2d\"}], \"histogram2dcontour\": [{\"colorbar\": {\"outlinewidth\": 0, \"ticks\": \"\"}, \"colorscale\": [[0.0, \"#0d0887\"], [0.1111111111111111, \"#46039f\"], [0.2222222222222222, \"#7201a8\"], [0.3333333333333333, \"#9c179e\"], [0.4444444444444444, \"#bd3786\"], [0.5555555555555556, \"#d8576b\"], [0.6666666666666666, \"#ed7953\"], [0.7777777777777778, \"#fb9f3a\"], [0.8888888888888888, \"#fdca26\"], [1.0, \"#f0f921\"]], \"type\": \"histogram2dcontour\"}], \"mesh3d\": [{\"colorbar\": {\"outlinewidth\": 0, \"ticks\": \"\"}, \"type\": \"mesh3d\"}], \"parcoords\": [{\"line\": {\"colorbar\": {\"outlinewidth\": 0, \"ticks\": \"\"}}, \"type\": \"parcoords\"}], \"pie\": [{\"automargin\": true, \"type\": \"pie\"}], \"scatter\": [{\"marker\": {\"line\": {\"color\": \"#283442\"}}, \"type\": \"scatter\"}], \"scatter3d\": [{\"line\": {\"colorbar\": {\"outlinewidth\": 0, \"ticks\": \"\"}}, \"marker\": {\"colorbar\": {\"outlinewidth\": 0, \"ticks\": \"\"}}, \"type\": \"scatter3d\"}], \"scattercarpet\": [{\"marker\": {\"colorbar\": {\"outlinewidth\": 0, \"ticks\": \"\"}}, \"type\": \"scattercarpet\"}], \"scattergeo\": [{\"marker\": {\"colorbar\": {\"outlinewidth\": 0, \"ticks\": \"\"}}, \"type\": \"scattergeo\"}], \"scattergl\": [{\"marker\": {\"line\": {\"color\": \"#283442\"}}, \"type\": \"scattergl\"}], \"scattermapbox\": [{\"marker\": {\"colorbar\": {\"outlinewidth\": 0, \"ticks\": \"\"}}, \"type\": \"scattermapbox\"}], \"scatterpolar\": [{\"marker\": {\"colorbar\": {\"outlinewidth\": 0, \"ticks\": \"\"}}, \"type\": \"scatterpolar\"}], \"scatterpolargl\": [{\"marker\": {\"colorbar\": {\"outlinewidth\": 0, \"ticks\": \"\"}}, \"type\": \"scatterpolargl\"}], \"scatterternary\": [{\"marker\": {\"colorbar\": {\"outlinewidth\": 0, \"ticks\": \"\"}}, \"type\": \"scatterternary\"}], \"surface\": [{\"colorbar\": {\"outlinewidth\": 0, \"ticks\": \"\"}, \"colorscale\": [[0.0, \"#0d0887\"], [0.1111111111111111, \"#46039f\"], [0.2222222222222222, \"#7201a8\"], [0.3333333333333333, \"#9c179e\"], [0.4444444444444444, \"#bd3786\"], [0.5555555555555556, \"#d8576b\"], [0.6666666666666666, \"#ed7953\"], [0.7777777777777778, \"#fb9f3a\"], [0.8888888888888888, \"#fdca26\"], [1.0, \"#f0f921\"]], \"type\": \"surface\"}], \"table\": [{\"cells\": {\"fill\": {\"color\": \"#506784\"}, \"line\": {\"color\": \"rgb(17,17,17)\"}}, \"header\": {\"fill\": {\"color\": \"#2a3f5f\"}, \"line\": {\"color\": \"rgb(17,17,17)\"}}, \"type\": \"table\"}]}, \"layout\": {\"annotationdefaults\": {\"arrowcolor\": \"#f2f5fa\", \"arrowhead\": 0, \"arrowwidth\": 1}, \"autotypenumbers\": \"strict\", \"coloraxis\": {\"colorbar\": {\"outlinewidth\": 0, \"ticks\": \"\"}}, \"colorscale\": {\"diverging\": [[0, \"#8e0152\"], [0.1, \"#c51b7d\"], [0.2, \"#de77ae\"], [0.3, \"#f1b6da\"], [0.4, \"#fde0ef\"], [0.5, \"#f7f7f7\"], [0.6, \"#e6f5d0\"], [0.7, \"#b8e186\"], [0.8, \"#7fbc41\"], [0.9, \"#4d9221\"], [1, \"#276419\"]], \"sequential\": [[0.0, \"#0d0887\"], [0.1111111111111111, \"#46039f\"], [0.2222222222222222, \"#7201a8\"], [0.3333333333333333, \"#9c179e\"], [0.4444444444444444, \"#bd3786\"], [0.5555555555555556, \"#d8576b\"], [0.6666666666666666, \"#ed7953\"], [0.7777777777777778, \"#fb9f3a\"], [0.8888888888888888, \"#fdca26\"], [1.0, \"#f0f921\"]], \"sequentialminus\": [[0.0, \"#0d0887\"], [0.1111111111111111, \"#46039f\"], [0.2222222222222222, \"#7201a8\"], [0.3333333333333333, \"#9c179e\"], [0.4444444444444444, \"#bd3786\"], [0.5555555555555556, \"#d8576b\"], [0.6666666666666666, \"#ed7953\"], [0.7777777777777778, \"#fb9f3a\"], [0.8888888888888888, \"#fdca26\"], [1.0, \"#f0f921\"]]}, \"colorway\": [\"#636efa\", \"#EF553B\", \"#00cc96\", \"#ab63fa\", \"#FFA15A\", \"#19d3f3\", \"#FF6692\", \"#B6E880\", \"#FF97FF\", \"#FECB52\"], \"font\": {\"color\": \"#f2f5fa\"}, \"geo\": {\"bgcolor\": \"rgb(17,17,17)\", \"lakecolor\": \"rgb(17,17,17)\", \"landcolor\": \"rgb(17,17,17)\", \"showlakes\": true, \"showland\": true, \"subunitcolor\": \"#506784\"}, \"hoverlabel\": {\"align\": \"left\"}, \"hovermode\": \"closest\", \"mapbox\": {\"style\": \"dark\"}, \"paper_bgcolor\": \"rgb(17,17,17)\", \"plot_bgcolor\": \"rgb(17,17,17)\", \"polar\": {\"angularaxis\": {\"gridcolor\": \"#506784\", \"linecolor\": \"#506784\", \"ticks\": \"\"}, \"bgcolor\": \"rgb(17,17,17)\", \"radialaxis\": {\"gridcolor\": \"#506784\", \"linecolor\": \"#506784\", \"ticks\": \"\"}}, \"scene\": {\"xaxis\": {\"backgroundcolor\": \"rgb(17,17,17)\", \"gridcolor\": \"#506784\", \"gridwidth\": 2, \"linecolor\": \"#506784\", \"showbackground\": true, \"ticks\": \"\", \"zerolinecolor\": \"#C8D4E3\"}, \"yaxis\": {\"backgroundcolor\": \"rgb(17,17,17)\", \"gridcolor\": \"#506784\", \"gridwidth\": 2, \"linecolor\": \"#506784\", \"showbackground\": true, \"ticks\": \"\", \"zerolinecolor\": \"#C8D4E3\"}, \"zaxis\": {\"backgroundcolor\": \"rgb(17,17,17)\", \"gridcolor\": \"#506784\", \"gridwidth\": 2, \"linecolor\": \"#506784\", \"showbackground\": true, \"ticks\": \"\", \"zerolinecolor\": \"#C8D4E3\"}}, \"shapedefaults\": {\"line\": {\"color\": \"#f2f5fa\"}}, \"sliderdefaults\": {\"bgcolor\": \"#C8D4E3\", \"bordercolor\": \"rgb(17,17,17)\", \"borderwidth\": 1, \"tickwidth\": 0}, \"ternary\": {\"aaxis\": {\"gridcolor\": \"#506784\", \"linecolor\": \"#506784\", \"ticks\": \"\"}, \"baxis\": {\"gridcolor\": \"#506784\", \"linecolor\": \"#506784\", \"ticks\": \"\"}, \"bgcolor\": \"rgb(17,17,17)\", \"caxis\": {\"gridcolor\": \"#506784\", \"linecolor\": \"#506784\", \"ticks\": \"\"}}, \"title\": {\"x\": 0.05}, \"updatemenudefaults\": {\"bgcolor\": \"#506784\", \"borderwidth\": 0}, \"xaxis\": {\"automargin\": true, \"gridcolor\": \"#283442\", \"linecolor\": \"#506784\", \"ticks\": \"\", \"title\": {\"standoff\": 15}, \"zerolinecolor\": \"#283442\", \"zerolinewidth\": 2}, \"yaxis\": {\"automargin\": true, \"gridcolor\": \"#283442\", \"linecolor\": \"#506784\", \"ticks\": \"\", \"title\": {\"standoff\": 15}, \"zerolinecolor\": \"#283442\", \"zerolinewidth\": 2}}}, \"title\": {\"text\": \"UMBC's in-state tution over time from 1996 to 2019\"}, \"xaxis\": {\"anchor\": \"y\", \"categoryorder\": \"total ascending\", \"domain\": [0.0, 1.0], \"title\": {\"text\": \"Year\"}}, \"yaxis\": {\"anchor\": \"x\", \"domain\": [0.0, 1.0], \"title\": {\"text\": \"In State Tuition\"}}},                        {\"responsive\": true}                    ).then(function(){\n                            \nvar gd = document.getElementById('ec4ebf50-21e0-4d9d-87a0-5df82d1cb874');\nvar x = new MutationObserver(function (mutations, observer) {{\n        var display = window.getComputedStyle(gd).display;\n        if (!display || display === 'none') {{\n            console.log([gd, 'removed!']);\n            Plotly.purge(gd);\n            observer.disconnect();\n        }}\n}});\n\n// Listen for the removal of the full notebook cells\nvar notebookContainer = gd.closest('#notebook-container');\nif (notebookContainer) {{\n    x.observe(notebookContainer, {childList: true});\n}}\n\n// Listen for the clearing of the current output cell\nvar outputEl = gd.closest('.output');\nif (outputEl) {{\n    x.observe(outputEl, {childList: true});\n}}\n\n                        })                };                            </script>        </div>\n</body>\n</html>"
     },
     "metadata": {},
     "output_type": "display_data"
    }
   ]
  },
  {
   "cell_type": "markdown",
   "source": "## 10 - Plot UMBC's in-state tution overtime from 1996 to 2019 using a Line Chart\n### Note: There is no data from 1996 to 1999. Thus, in calculating percent change we will not include this time interval. ",
   "metadata": {
    "tags": [],
    "cell_id": "00034-38114421-37f0-46ec-b452-a534c7bc05cc",
    "deepnote_cell_type": "markdown"
   }
  },
  {
   "cell_type": "code",
   "metadata": {
    "tags": [],
    "cell_id": "00035-9729d58f-b8f5-451c-b263-123399232569",
    "deepnote_to_be_reexecuted": false,
    "source_hash": "afbf813a",
    "execution_start": 1620441977092,
    "execution_millis": 160,
    "deepnote_cell_type": "code"
   },
   "source": "#Use plotly express to visualize a line chart:\nfig = px.line(frame2, x='YEAR', y='TUITIONFEE_IN')\nfig.update_layout(\n    title=\"UMBC's in-state tution over time from 1996 to 2019\",\n    xaxis_title=\"Year\",\n    yaxis_title=\"In State Tuition\"\n    )\nfig.update_xaxes(categoryorder=\"total ascending\")\nfig.show()",
   "execution_count": 24,
   "outputs": [
    {
     "data": {
      "text/html": "<html>\n<head><meta charset=\"utf-8\" /></head>\n<body>\n    <div>            <script src=\"https://cdnjs.cloudflare.com/ajax/libs/mathjax/2.7.5/MathJax.js?config=TeX-AMS-MML_SVG\"></script><script type=\"text/javascript\">if (window.MathJax) {MathJax.Hub.Config({SVG: {font: \"STIX-Web\"}});}</script>                <script type=\"text/javascript\">window.PlotlyConfig = {MathJaxConfig: 'local'};</script>\n        <script src=\"https://cdn.plot.ly/plotly-latest.min.js\"></script>                <div id=\"d4d16d0e-22ad-4f7f-9c31-419575d3275e\" class=\"plotly-graph-div\" style=\"height:525px; width:100%;\"></div>            <script type=\"text/javascript\">                                    window.PLOTLYENV=window.PLOTLYENV || {};                                    if (document.getElementById(\"d4d16d0e-22ad-4f7f-9c31-419575d3275e\")) {                    Plotly.newPlot(                        \"d4d16d0e-22ad-4f7f-9c31-419575d3275e\",                        [{\"hovertemplate\": \"YEAR=%{x}<br>TUITIONFEE_IN=%{y}<extra></extra>\", \"legendgroup\": \"\", \"line\": {\"color\": \"#636efa\", \"dash\": \"solid\"}, \"mode\": \"lines\", \"name\": \"\", \"orientation\": \"v\", \"showlegend\": false, \"type\": \"scatter\", \"x\": [\"2002\", \"1997\", \"2015\", \"2013\", \"1996\", \"2000\", \"2011\", \"2007\", \"2004\", \"2006\", \"2018\", \"2012\", \"1999\", \"2005\", \"2003\", \"1998\", \"2010\", \"2009\", \"2001\", \"2017\", \"2014\", \"2016\", \"2008\"], \"xaxis\": \"x\", \"y\": [6362.0, null, 11006.0, 10068.0, null, 5490.0, 9467.0, 8708.0, 8020.0, 8622.0, 11778.0, 9764.0, null, 8520.0, 7388.0, null, 9171.0, 8872.0, 5910.0, 11518.0, 10384.0, 11264.0, 8780.0], \"yaxis\": \"y\"}],                        {\"legend\": {\"tracegroupgap\": 0}, \"margin\": {\"t\": 60}, \"template\": {\"data\": {\"bar\": [{\"error_x\": {\"color\": \"#f2f5fa\"}, \"error_y\": {\"color\": \"#f2f5fa\"}, \"marker\": {\"line\": {\"color\": \"rgb(17,17,17)\", \"width\": 0.5}}, \"type\": \"bar\"}], \"barpolar\": [{\"marker\": {\"line\": {\"color\": \"rgb(17,17,17)\", \"width\": 0.5}}, \"type\": \"barpolar\"}], \"carpet\": [{\"aaxis\": {\"endlinecolor\": \"#A2B1C6\", \"gridcolor\": \"#506784\", \"linecolor\": \"#506784\", \"minorgridcolor\": \"#506784\", \"startlinecolor\": \"#A2B1C6\"}, \"baxis\": {\"endlinecolor\": \"#A2B1C6\", \"gridcolor\": \"#506784\", \"linecolor\": \"#506784\", \"minorgridcolor\": \"#506784\", \"startlinecolor\": \"#A2B1C6\"}, \"type\": \"carpet\"}], \"choropleth\": [{\"colorbar\": {\"outlinewidth\": 0, \"ticks\": \"\"}, \"type\": \"choropleth\"}], \"contour\": [{\"colorbar\": {\"outlinewidth\": 0, \"ticks\": \"\"}, \"colorscale\": [[0.0, \"#0d0887\"], [0.1111111111111111, \"#46039f\"], [0.2222222222222222, \"#7201a8\"], [0.3333333333333333, \"#9c179e\"], [0.4444444444444444, \"#bd3786\"], [0.5555555555555556, \"#d8576b\"], [0.6666666666666666, \"#ed7953\"], [0.7777777777777778, \"#fb9f3a\"], [0.8888888888888888, \"#fdca26\"], [1.0, \"#f0f921\"]], \"type\": \"contour\"}], \"contourcarpet\": [{\"colorbar\": {\"outlinewidth\": 0, \"ticks\": \"\"}, \"type\": \"contourcarpet\"}], \"heatmap\": [{\"colorbar\": {\"outlinewidth\": 0, \"ticks\": \"\"}, \"colorscale\": [[0.0, \"#0d0887\"], [0.1111111111111111, \"#46039f\"], [0.2222222222222222, \"#7201a8\"], [0.3333333333333333, \"#9c179e\"], [0.4444444444444444, \"#bd3786\"], [0.5555555555555556, \"#d8576b\"], [0.6666666666666666, \"#ed7953\"], [0.7777777777777778, \"#fb9f3a\"], [0.8888888888888888, \"#fdca26\"], [1.0, \"#f0f921\"]], \"type\": \"heatmap\"}], \"heatmapgl\": [{\"colorbar\": {\"outlinewidth\": 0, \"ticks\": \"\"}, \"colorscale\": [[0.0, \"#0d0887\"], [0.1111111111111111, \"#46039f\"], [0.2222222222222222, \"#7201a8\"], [0.3333333333333333, \"#9c179e\"], [0.4444444444444444, \"#bd3786\"], [0.5555555555555556, \"#d8576b\"], [0.6666666666666666, \"#ed7953\"], [0.7777777777777778, \"#fb9f3a\"], [0.8888888888888888, \"#fdca26\"], [1.0, \"#f0f921\"]], \"type\": \"heatmapgl\"}], \"histogram\": [{\"marker\": {\"colorbar\": {\"outlinewidth\": 0, \"ticks\": \"\"}}, \"type\": \"histogram\"}], \"histogram2d\": [{\"colorbar\": {\"outlinewidth\": 0, \"ticks\": \"\"}, \"colorscale\": [[0.0, \"#0d0887\"], [0.1111111111111111, \"#46039f\"], [0.2222222222222222, \"#7201a8\"], [0.3333333333333333, \"#9c179e\"], [0.4444444444444444, \"#bd3786\"], [0.5555555555555556, \"#d8576b\"], [0.6666666666666666, \"#ed7953\"], [0.7777777777777778, \"#fb9f3a\"], [0.8888888888888888, \"#fdca26\"], [1.0, \"#f0f921\"]], \"type\": \"histogram2d\"}], \"histogram2dcontour\": [{\"colorbar\": {\"outlinewidth\": 0, \"ticks\": \"\"}, \"colorscale\": [[0.0, \"#0d0887\"], [0.1111111111111111, \"#46039f\"], [0.2222222222222222, \"#7201a8\"], [0.3333333333333333, \"#9c179e\"], [0.4444444444444444, \"#bd3786\"], [0.5555555555555556, \"#d8576b\"], [0.6666666666666666, \"#ed7953\"], [0.7777777777777778, \"#fb9f3a\"], [0.8888888888888888, \"#fdca26\"], [1.0, \"#f0f921\"]], \"type\": \"histogram2dcontour\"}], \"mesh3d\": [{\"colorbar\": {\"outlinewidth\": 0, \"ticks\": \"\"}, \"type\": \"mesh3d\"}], \"parcoords\": [{\"line\": {\"colorbar\": {\"outlinewidth\": 0, \"ticks\": \"\"}}, \"type\": \"parcoords\"}], \"pie\": [{\"automargin\": true, \"type\": \"pie\"}], \"scatter\": [{\"marker\": {\"line\": {\"color\": \"#283442\"}}, \"type\": \"scatter\"}], \"scatter3d\": [{\"line\": {\"colorbar\": {\"outlinewidth\": 0, \"ticks\": \"\"}}, \"marker\": {\"colorbar\": {\"outlinewidth\": 0, \"ticks\": \"\"}}, \"type\": \"scatter3d\"}], \"scattercarpet\": [{\"marker\": {\"colorbar\": {\"outlinewidth\": 0, \"ticks\": \"\"}}, \"type\": \"scattercarpet\"}], \"scattergeo\": [{\"marker\": {\"colorbar\": {\"outlinewidth\": 0, \"ticks\": \"\"}}, \"type\": \"scattergeo\"}], \"scattergl\": [{\"marker\": {\"line\": {\"color\": \"#283442\"}}, \"type\": \"scattergl\"}], \"scattermapbox\": [{\"marker\": {\"colorbar\": {\"outlinewidth\": 0, \"ticks\": \"\"}}, \"type\": \"scattermapbox\"}], \"scatterpolar\": [{\"marker\": {\"colorbar\": {\"outlinewidth\": 0, \"ticks\": \"\"}}, \"type\": \"scatterpolar\"}], \"scatterpolargl\": [{\"marker\": {\"colorbar\": {\"outlinewidth\": 0, \"ticks\": \"\"}}, \"type\": \"scatterpolargl\"}], \"scatterternary\": [{\"marker\": {\"colorbar\": {\"outlinewidth\": 0, \"ticks\": \"\"}}, \"type\": \"scatterternary\"}], \"surface\": [{\"colorbar\": {\"outlinewidth\": 0, \"ticks\": \"\"}, \"colorscale\": [[0.0, \"#0d0887\"], [0.1111111111111111, \"#46039f\"], [0.2222222222222222, \"#7201a8\"], [0.3333333333333333, \"#9c179e\"], [0.4444444444444444, \"#bd3786\"], [0.5555555555555556, \"#d8576b\"], [0.6666666666666666, \"#ed7953\"], [0.7777777777777778, \"#fb9f3a\"], [0.8888888888888888, \"#fdca26\"], [1.0, \"#f0f921\"]], \"type\": \"surface\"}], \"table\": [{\"cells\": {\"fill\": {\"color\": \"#506784\"}, \"line\": {\"color\": \"rgb(17,17,17)\"}}, \"header\": {\"fill\": {\"color\": \"#2a3f5f\"}, \"line\": {\"color\": \"rgb(17,17,17)\"}}, \"type\": \"table\"}]}, \"layout\": {\"annotationdefaults\": {\"arrowcolor\": \"#f2f5fa\", \"arrowhead\": 0, \"arrowwidth\": 1}, \"autotypenumbers\": \"strict\", \"coloraxis\": {\"colorbar\": {\"outlinewidth\": 0, \"ticks\": \"\"}}, \"colorscale\": {\"diverging\": [[0, \"#8e0152\"], [0.1, \"#c51b7d\"], [0.2, \"#de77ae\"], [0.3, \"#f1b6da\"], [0.4, \"#fde0ef\"], [0.5, \"#f7f7f7\"], [0.6, \"#e6f5d0\"], [0.7, \"#b8e186\"], [0.8, \"#7fbc41\"], [0.9, \"#4d9221\"], [1, \"#276419\"]], \"sequential\": [[0.0, \"#0d0887\"], [0.1111111111111111, \"#46039f\"], [0.2222222222222222, \"#7201a8\"], [0.3333333333333333, \"#9c179e\"], [0.4444444444444444, \"#bd3786\"], [0.5555555555555556, \"#d8576b\"], [0.6666666666666666, \"#ed7953\"], [0.7777777777777778, \"#fb9f3a\"], [0.8888888888888888, \"#fdca26\"], [1.0, \"#f0f921\"]], \"sequentialminus\": [[0.0, \"#0d0887\"], [0.1111111111111111, \"#46039f\"], [0.2222222222222222, \"#7201a8\"], [0.3333333333333333, \"#9c179e\"], [0.4444444444444444, \"#bd3786\"], [0.5555555555555556, \"#d8576b\"], [0.6666666666666666, \"#ed7953\"], [0.7777777777777778, \"#fb9f3a\"], [0.8888888888888888, \"#fdca26\"], [1.0, \"#f0f921\"]]}, \"colorway\": [\"#636efa\", \"#EF553B\", \"#00cc96\", \"#ab63fa\", \"#FFA15A\", \"#19d3f3\", \"#FF6692\", \"#B6E880\", \"#FF97FF\", \"#FECB52\"], \"font\": {\"color\": \"#f2f5fa\"}, \"geo\": {\"bgcolor\": \"rgb(17,17,17)\", \"lakecolor\": \"rgb(17,17,17)\", \"landcolor\": \"rgb(17,17,17)\", \"showlakes\": true, \"showland\": true, \"subunitcolor\": \"#506784\"}, \"hoverlabel\": {\"align\": \"left\"}, \"hovermode\": \"closest\", \"mapbox\": {\"style\": \"dark\"}, \"paper_bgcolor\": \"rgb(17,17,17)\", \"plot_bgcolor\": \"rgb(17,17,17)\", \"polar\": {\"angularaxis\": {\"gridcolor\": \"#506784\", \"linecolor\": \"#506784\", \"ticks\": \"\"}, \"bgcolor\": \"rgb(17,17,17)\", \"radialaxis\": {\"gridcolor\": \"#506784\", \"linecolor\": \"#506784\", \"ticks\": \"\"}}, \"scene\": {\"xaxis\": {\"backgroundcolor\": \"rgb(17,17,17)\", \"gridcolor\": \"#506784\", \"gridwidth\": 2, \"linecolor\": \"#506784\", \"showbackground\": true, \"ticks\": \"\", \"zerolinecolor\": \"#C8D4E3\"}, \"yaxis\": {\"backgroundcolor\": \"rgb(17,17,17)\", \"gridcolor\": \"#506784\", \"gridwidth\": 2, \"linecolor\": \"#506784\", \"showbackground\": true, \"ticks\": \"\", \"zerolinecolor\": \"#C8D4E3\"}, \"zaxis\": {\"backgroundcolor\": \"rgb(17,17,17)\", \"gridcolor\": \"#506784\", \"gridwidth\": 2, \"linecolor\": \"#506784\", \"showbackground\": true, \"ticks\": \"\", \"zerolinecolor\": \"#C8D4E3\"}}, \"shapedefaults\": {\"line\": {\"color\": \"#f2f5fa\"}}, \"sliderdefaults\": {\"bgcolor\": \"#C8D4E3\", \"bordercolor\": \"rgb(17,17,17)\", \"borderwidth\": 1, \"tickwidth\": 0}, \"ternary\": {\"aaxis\": {\"gridcolor\": \"#506784\", \"linecolor\": \"#506784\", \"ticks\": \"\"}, \"baxis\": {\"gridcolor\": \"#506784\", \"linecolor\": \"#506784\", \"ticks\": \"\"}, \"bgcolor\": \"rgb(17,17,17)\", \"caxis\": {\"gridcolor\": \"#506784\", \"linecolor\": \"#506784\", \"ticks\": \"\"}}, \"title\": {\"x\": 0.05}, \"updatemenudefaults\": {\"bgcolor\": \"#506784\", \"borderwidth\": 0}, \"xaxis\": {\"automargin\": true, \"gridcolor\": \"#283442\", \"linecolor\": \"#506784\", \"ticks\": \"\", \"title\": {\"standoff\": 15}, \"zerolinecolor\": \"#283442\", \"zerolinewidth\": 2}, \"yaxis\": {\"automargin\": true, \"gridcolor\": \"#283442\", \"linecolor\": \"#506784\", \"ticks\": \"\", \"title\": {\"standoff\": 15}, \"zerolinecolor\": \"#283442\", \"zerolinewidth\": 2}}}, \"title\": {\"text\": \"UMBC's in-state tution over time from 1996 to 2019\"}, \"xaxis\": {\"anchor\": \"y\", \"categoryorder\": \"total ascending\", \"domain\": [0.0, 1.0], \"title\": {\"text\": \"Year\"}}, \"yaxis\": {\"anchor\": \"x\", \"domain\": [0.0, 1.0], \"title\": {\"text\": \"In State Tuition\"}}},                        {\"responsive\": true}                    ).then(function(){\n                            \nvar gd = document.getElementById('d4d16d0e-22ad-4f7f-9c31-419575d3275e');\nvar x = new MutationObserver(function (mutations, observer) {{\n        var display = window.getComputedStyle(gd).display;\n        if (!display || display === 'none') {{\n            console.log([gd, 'removed!']);\n            Plotly.purge(gd);\n            observer.disconnect();\n        }}\n}});\n\n// Listen for the removal of the full notebook cells\nvar notebookContainer = gd.closest('#notebook-container');\nif (notebookContainer) {{\n    x.observe(notebookContainer, {childList: true});\n}}\n\n// Listen for the clearing of the current output cell\nvar outputEl = gd.closest('.output');\nif (outputEl) {{\n    x.observe(outputEl, {childList: true});\n}}\n\n                        })                };                            </script>        </div>\n</body>\n</html>"
     },
     "metadata": {},
     "output_type": "display_data"
    }
   ]
  },
  {
   "cell_type": "markdown",
   "source": "## 11 - Look at the tuition growth rate year over year",
   "metadata": {
    "tags": [],
    "cell_id": "00036-51ae85f5-b7f2-4842-8eb9-1b784e491479",
    "deepnote_cell_type": "markdown"
   }
  },
  {
   "cell_type": "markdown",
   "source": "### We need to calculate UMBC tuition change percentage each year.\n### Convert the TUITIONFEE_IN column into a Python List.\n### Important: the YEAR column must be converted along with TUITIONFEE_IN!\n\n### Note: Alternatively, there is a faster and more efficient way to go about this. \n###      We could have first sorted the years in frame2, instead of copying both the year and tuition columns.\n###      Then we could have directly ended up with the sorted tuition values: \n###      frame2 = frame2.sort_values(by=['YEAR']) <---This is neccessary, and will show up soon.\n###      more_efficient_way = frame2.reset_index()[['TUITIONFEE_IN']].values.tolist() <---Doing the above code will allow you to directly end up with a list of sorted tuition values. ",
   "metadata": {
    "tags": [],
    "cell_id": "00037-f3b38bfc-8be1-435b-adc6-3812ba0a194a",
    "deepnote_cell_type": "markdown"
   }
  },
  {
   "cell_type": "code",
   "metadata": {
    "tags": [],
    "cell_id": "00039-52218c24-5f6f-4c6a-a93a-2168b8801f84",
    "deepnote_to_be_reexecuted": false,
    "source_hash": "a5f40ab4",
    "execution_start": 1620441977257,
    "execution_millis": 27,
    "deepnote_cell_type": "code"
   },
   "source": "#use pandas to create a nested list \n#Important: we need to make sure the year values match up with the tuition values\npercent_change = frame2.reset_index()[['YEAR', 'TUITIONFEE_IN']].values.tolist()\npercent_change",
   "execution_count": 25,
   "outputs": [
    {
     "output_type": "execute_result",
     "execution_count": 25,
     "data": {
      "text/plain": "[['2002', 6362.0],\n ['1997', nan],\n ['2015', 11006.0],\n ['2013', 10068.0],\n ['1996', nan],\n ['2000', 5490.0],\n ['2011', 9467.0],\n ['2007', 8708.0],\n ['2004', 8020.0],\n ['2006', 8622.0],\n ['2018', 11778.0],\n ['2012', 9764.0],\n ['1999', nan],\n ['2005', 8520.0],\n ['2003', 7388.0],\n ['1998', nan],\n ['2010', 9171.0],\n ['2009', 8872.0],\n ['2001', 5910.0],\n ['2017', 11518.0],\n ['2014', 10384.0],\n ['2016', 11264.0],\n ['2008', 8780.0]]"
     },
     "metadata": {}
    }
   ]
  },
  {
   "cell_type": "markdown",
   "source": "### Loop through the list and calculate the % change each year over the prior year.",
   "metadata": {
    "tags": [],
    "cell_id": "00039-3a418f76-95bc-4d8e-98f8-4ef3c1edecc2",
    "deepnote_cell_type": "markdown"
   }
  },
  {
   "cell_type": "markdown",
   "source": "### Before we can do any operations, we need to convert these list objects' types into integer types. \n### We will also drop the NaN values in 1996 - 1999.",
   "metadata": {
    "tags": [],
    "cell_id": "00040-ef66f999-6d57-48d8-b90a-a3cb696bf472",
    "deepnote_cell_type": "markdown"
   }
  },
  {
   "cell_type": "code",
   "metadata": {
    "tags": [],
    "cell_id": "00041-4d8ee367-9dd1-4de9-a298-6715ac702597",
    "deepnote_to_be_reexecuted": false,
    "source_hash": "9d7bd9bb",
    "execution_start": 1620441977282,
    "execution_millis": 26,
    "deepnote_cell_type": "code"
   },
   "source": "import math #need math package to check for NaN values\nfor x in percent_change:\n    x[0] = int(x[0]) #turns YEAR from str to integer type\n    if math.isnan(x[1]):\n        percent_change.remove(x) #removes NaN values\n    else:\n        int(x[1]) #turns TUITIONFEE_IN into integer type \npercent_change",
   "execution_count": 26,
   "outputs": [
    {
     "output_type": "execute_result",
     "execution_count": 26,
     "data": {
      "text/plain": "[[2002, 6362.0],\n ['2015', 11006.0],\n [2013, 10068.0],\n ['2000', 5490.0],\n [2011, 9467.0],\n [2007, 8708.0],\n [2004, 8020.0],\n [2006, 8622.0],\n [2018, 11778.0],\n [2012, 9764.0],\n ['2005', 8520.0],\n [2003, 7388.0],\n ['2010', 9171.0],\n [2009, 8872.0],\n [2001, 5910.0],\n [2017, 11518.0],\n [2014, 10384.0],\n [2016, 11264.0],\n [2008, 8780.0]]"
     },
     "metadata": {}
    }
   ]
  },
  {
   "cell_type": "markdown",
   "source": "### Alternatively, we can use map/list comprehension to convert the values into integer types. ",
   "metadata": {
    "tags": [],
    "cell_id": "00042-75bbfefc-b072-48ae-9c3b-050473a3c7de",
    "deepnote_cell_type": "markdown"
   }
  },
  {
   "cell_type": "code",
   "metadata": {
    "tags": [],
    "cell_id": "00042-ebb04b5f-7566-4262-90e9-7541aeb4e473",
    "deepnote_to_be_reexecuted": false,
    "source_hash": "536acd1e",
    "execution_start": 1620441977304,
    "execution_millis": 8,
    "deepnote_cell_type": "code"
   },
   "source": "#Call int for each item in each nested list:\ncall_ints_method = [[int(x) for x in lst] for lst in percent_change]\n#Using map:\nmap_method = [list(map(int, lst)) for lst in percent_change]",
   "execution_count": 27,
   "outputs": []
  },
  {
   "cell_type": "markdown",
   "source": "### Now we need to order this list, so that the YEAR values are in order.",
   "metadata": {
    "tags": [],
    "cell_id": "00045-0a29b239-2511-4f93-a593-f535a6da2eb4",
    "deepnote_cell_type": "markdown"
   }
  },
  {
   "cell_type": "code",
   "metadata": {
    "tags": [],
    "cell_id": "00046-a5d704cc-1e1f-482d-9445-960ce3ebf8b7",
    "deepnote_to_be_reexecuted": false,
    "source_hash": "2d8bcf98",
    "execution_start": 1620441977316,
    "execution_millis": 23,
    "deepnote_cell_type": "code"
   },
   "source": "#sort this nested list:\npercent_change = sorted(percent_change, key=lambda x: int(x[0]))\npercent_change",
   "execution_count": 28,
   "outputs": [
    {
     "output_type": "execute_result",
     "execution_count": 28,
     "data": {
      "text/plain": "[['2000', 5490.0],\n [2001, 5910.0],\n [2002, 6362.0],\n [2003, 7388.0],\n [2004, 8020.0],\n ['2005', 8520.0],\n [2006, 8622.0],\n [2007, 8708.0],\n [2008, 8780.0],\n [2009, 8872.0],\n ['2010', 9171.0],\n [2011, 9467.0],\n [2012, 9764.0],\n [2013, 10068.0],\n [2014, 10384.0],\n ['2015', 11006.0],\n [2016, 11264.0],\n [2017, 11518.0],\n [2018, 11778.0]]"
     },
     "metadata": {}
    }
   ]
  },
  {
   "cell_type": "markdown",
   "source": "### Finally, we are ready to loop through this list and calculate the % change each year over the prior year.",
   "metadata": {
    "tags": [],
    "cell_id": "00046-38ecd46d-fea5-4302-953d-9bc8c8fcad0b",
    "deepnote_cell_type": "markdown"
   }
  },
  {
   "cell_type": "code",
   "metadata": {
    "tags": [],
    "cell_id": "00054-920c0481-8238-4c0d-9c91-b74386b2af5b",
    "deepnote_to_be_reexecuted": false,
    "source_hash": "abf6dbea",
    "execution_start": 1620441977335,
    "execution_millis": 21,
    "deepnote_cell_type": "code"
   },
   "source": "#tuition is a placeholder list, it only holds tuition values\ntuition = [] \nfor x in percent_change:\n    tuition.append(x[1])\ntuition",
   "execution_count": 29,
   "outputs": [
    {
     "output_type": "execute_result",
     "execution_count": 29,
     "data": {
      "text/plain": "[5490.0,\n 5910.0,\n 6362.0,\n 7388.0,\n 8020.0,\n 8520.0,\n 8622.0,\n 8708.0,\n 8780.0,\n 8872.0,\n 9171.0,\n 9467.0,\n 9764.0,\n 10068.0,\n 10384.0,\n 11006.0,\n 11264.0,\n 11518.0,\n 11778.0]"
     },
     "metadata": {}
    }
   ]
  },
  {
   "cell_type": "code",
   "metadata": {
    "tags": [],
    "cell_id": "00054-40c2d43b-7083-475b-9a1e-8c25df87c7ba",
    "deepnote_to_be_reexecuted": false,
    "source_hash": "b48ad1f1",
    "execution_start": 1620441977354,
    "execution_millis": 20,
    "deepnote_cell_type": "code"
   },
   "source": "#now we calculate percentage change based on the placeholder list \npct_change = [100.0 * a1 / a2 - 100 for a1, a2 in zip(tuition[1:], tuition)]\npct_change",
   "execution_count": 30,
   "outputs": [
    {
     "output_type": "execute_result",
     "execution_count": 30,
     "data": {
      "text/plain": "[7.6502732240437155,\n 7.64805414551607,\n 16.12700408676517,\n 8.554412560909583,\n 6.234413965087285,\n 1.1971830985915517,\n 0.9974483878450542,\n 0.8268259072117559,\n 1.0478359908883874,\n 3.370153291253388,\n 3.227565151019519,\n 3.1372134783986496,\n 3.1134780827529767,\n 3.1386571315057665,\n 5.989984591679502,\n 2.344175904052335,\n 2.2549715909090935,\n 2.257336343115128]"
     },
     "metadata": {}
    }
   ]
  },
  {
   "cell_type": "code",
   "metadata": {
    "tags": [],
    "cell_id": "00049-3a67c110-ba84-4686-9ded-a6d1450de6ba",
    "deepnote_to_be_reexecuted": false,
    "source_hash": "9a3d01f6",
    "execution_start": 1620441977372,
    "execution_millis": 23,
    "deepnote_cell_type": "code"
   },
   "source": "# The resulting number has a lot of decimal points, which are unnecessary and not visually appealing.\n# Round up the percentage to two decimal points\n\n# Using list comprehension for simplicity/brevity:\npct_change = [round(num, 2) for num in pct_change]\npct_change",
   "execution_count": 31,
   "outputs": [
    {
     "output_type": "execute_result",
     "execution_count": 31,
     "data": {
      "text/plain": "[7.65,\n 7.65,\n 16.13,\n 8.55,\n 6.23,\n 1.2,\n 1.0,\n 0.83,\n 1.05,\n 3.37,\n 3.23,\n 3.14,\n 3.11,\n 3.14,\n 5.99,\n 2.34,\n 2.25,\n 2.26]"
     },
     "metadata": {}
    }
   ]
  },
  {
   "cell_type": "markdown",
   "source": "### Add the list of percentages to the dataframe as a new column (\"PCT_CHANGE\")",
   "metadata": {
    "tags": [],
    "cell_id": "00050-aab835a8-368b-43cb-a379-892969f028f5",
    "deepnote_cell_type": "markdown"
   }
  },
  {
   "cell_type": "markdown",
   "source": "### We need to sort the dataframe, so that the year values are in ascending order. ",
   "metadata": {
    "tags": [],
    "cell_id": "00051-854f22d2-f54f-4cdb-b9ac-dbc5dbf1c840",
    "deepnote_cell_type": "markdown"
   }
  },
  {
   "cell_type": "code",
   "metadata": {
    "tags": [],
    "cell_id": "00054-92598ec5-b48e-498c-ae8b-77881de9d089",
    "deepnote_to_be_reexecuted": false,
    "source_hash": "b791a71e",
    "execution_start": 1620441977392,
    "execution_millis": 114,
    "deepnote_cell_type": "code"
   },
   "source": "frame2 = frame2.sort_values(by=['YEAR'])\nframe2\n\n#Note: As mentioned earlier, we could have first sorted the years in frame2, instead of copying both the year and tuition columns\n#      Then we could have directly ended up with the sorted tuition values: \n#      more_efficient_way = frame2.reset_index()[['TUITIONFEE_IN']].values.tolist()",
   "execution_count": 32,
   "outputs": [
    {
     "output_type": "execute_result",
     "execution_count": 32,
     "data": {
      "application/vnd.deepnote.dataframe.v2+json": {
       "row_count": 23,
       "column_count": 7,
       "columns": [
        {
         "name": "YEAR",
         "dtype": "object",
         "stats": {
          "unique_count": 23,
          "nan_count": 0,
          "categories": [
           {
            "name": "1996",
            "count": 1
           },
           {
            "name": "1997",
            "count": 1
           },
           {
            "name": "21 others",
            "count": 21
           }
          ]
         }
        },
        {
         "name": "UNITID",
         "dtype": "int64",
         "stats": {
          "unique_count": 1,
          "nan_count": 0,
          "min": "163268",
          "max": "163268",
          "histogram": [
           {
            "bin_start": 163267.5,
            "bin_end": 163267.6,
            "count": 0
           },
           {
            "bin_start": 163267.6,
            "bin_end": 163267.7,
            "count": 0
           },
           {
            "bin_start": 163267.7,
            "bin_end": 163267.8,
            "count": 0
           },
           {
            "bin_start": 163267.8,
            "bin_end": 163267.9,
            "count": 0
           },
           {
            "bin_start": 163267.9,
            "bin_end": 163268,
            "count": 0
           },
           {
            "bin_start": 163268,
            "bin_end": 163268.1,
            "count": 23
           },
           {
            "bin_start": 163268.1,
            "bin_end": 163268.2,
            "count": 0
           },
           {
            "bin_start": 163268.2,
            "bin_end": 163268.3,
            "count": 0
           },
           {
            "bin_start": 163268.3,
            "bin_end": 163268.4,
            "count": 0
           },
           {
            "bin_start": 163268.4,
            "bin_end": 163268.5,
            "count": 0
           }
          ]
         }
        },
        {
         "name": "INSTNM",
         "dtype": "object",
         "stats": {
          "unique_count": 1,
          "nan_count": 0,
          "categories": [
           {
            "name": "University of Maryland-Baltimore County",
            "count": 23
           }
          ]
         }
        },
        {
         "name": "STABBR",
         "dtype": "object",
         "stats": {
          "unique_count": 1,
          "nan_count": 0,
          "categories": [
           {
            "name": "MD",
            "count": 23
           }
          ]
         }
        },
        {
         "name": "REGION",
         "dtype": "float64",
         "stats": {
          "unique_count": 1,
          "nan_count": 0,
          "min": "2.0",
          "max": "2.0",
          "histogram": [
           {
            "bin_start": 1.5,
            "bin_end": 1.6,
            "count": 0
           },
           {
            "bin_start": 1.6,
            "bin_end": 1.7,
            "count": 0
           },
           {
            "bin_start": 1.7,
            "bin_end": 1.8,
            "count": 0
           },
           {
            "bin_start": 1.8,
            "bin_end": 1.9,
            "count": 0
           },
           {
            "bin_start": 1.9,
            "bin_end": 2,
            "count": 0
           },
           {
            "bin_start": 2,
            "bin_end": 2.1,
            "count": 23
           },
           {
            "bin_start": 2.1,
            "bin_end": 2.2,
            "count": 0
           },
           {
            "bin_start": 2.2,
            "bin_end": 2.3,
            "count": 0
           },
           {
            "bin_start": 2.3,
            "bin_end": 2.4,
            "count": 0
           },
           {
            "bin_start": 2.4,
            "bin_end": 2.5,
            "count": 0
           }
          ]
         }
        },
        {
         "name": "ADM_RATE",
         "dtype": "float64",
         "stats": {
          "unique_count": 18,
          "nan_count": 5,
          "min": "0.5683",
          "max": "0.7174",
          "histogram": [
           {
            "bin_start": 0.5683,
            "bin_end": 0.58321,
            "count": 3
           },
           {
            "bin_start": 0.58321,
            "bin_end": 0.59812,
            "count": 2
           },
           {
            "bin_start": 0.59812,
            "bin_end": 0.6130300000000001,
            "count": 3
           },
           {
            "bin_start": 0.6130300000000001,
            "bin_end": 0.62794,
            "count": 0
           },
           {
            "bin_start": 0.62794,
            "bin_end": 0.64285,
            "count": 2
           },
           {
            "bin_start": 0.64285,
            "bin_end": 0.65776,
            "count": 1
           },
           {
            "bin_start": 0.65776,
            "bin_end": 0.67267,
            "count": 1
           },
           {
            "bin_start": 0.67267,
            "bin_end": 0.6875800000000001,
            "count": 0
           },
           {
            "bin_start": 0.6875800000000001,
            "bin_end": 0.7024900000000001,
            "count": 3
           },
           {
            "bin_start": 0.7024900000000001,
            "bin_end": 0.7174,
            "count": 3
           }
          ]
         }
        },
        {
         "name": "TUITIONFEE_IN",
         "dtype": "float64",
         "stats": {
          "unique_count": 19,
          "nan_count": 4,
          "min": "5490.0",
          "max": "11778.0",
          "histogram": [
           {
            "bin_start": 5490,
            "bin_end": 6118.8,
            "count": 2
           },
           {
            "bin_start": 6118.8,
            "bin_end": 6747.6,
            "count": 1
           },
           {
            "bin_start": 6747.6,
            "bin_end": 7376.4,
            "count": 0
           },
           {
            "bin_start": 7376.4,
            "bin_end": 8005.2,
            "count": 1
           },
           {
            "bin_start": 8005.2,
            "bin_end": 8634,
            "count": 3
           },
           {
            "bin_start": 8634,
            "bin_end": 9262.8,
            "count": 4
           },
           {
            "bin_start": 9262.8,
            "bin_end": 9891.599999999999,
            "count": 2
           },
           {
            "bin_start": 9891.599999999999,
            "bin_end": 10520.4,
            "count": 2
           },
           {
            "bin_start": 10520.4,
            "bin_end": 11149.2,
            "count": 1
           },
           {
            "bin_start": 11149.2,
            "bin_end": 11778,
            "count": 3
           }
          ]
         }
        },
        {
         "name": "_deepnote_index_column",
         "dtype": "int64"
        }
       ],
       "rows_top": [
        {
         "YEAR": "1996",
         "UNITID": 163268,
         "INSTNM": "University of Maryland-Baltimore County",
         "STABBR": "MD",
         "REGION": 2,
         "ADM_RATE": "nan",
         "TUITIONFEE_IN": "nan",
         "_deepnote_index_column": 31272
        },
        {
         "YEAR": "1997",
         "UNITID": 163268,
         "INSTNM": "University of Maryland-Baltimore County",
         "STABBR": "MD",
         "REGION": 2,
         "ADM_RATE": "nan",
         "TUITIONFEE_IN": "nan",
         "_deepnote_index_column": 8701
        },
        {
         "YEAR": "1998",
         "UNITID": 163268,
         "INSTNM": "University of Maryland-Baltimore County",
         "STABBR": "MD",
         "REGION": 2,
         "ADM_RATE": "nan",
         "TUITIONFEE_IN": "nan",
         "_deepnote_index_column": 108028
        },
        {
         "YEAR": "1999",
         "UNITID": 163268,
         "INSTNM": "University of Maryland-Baltimore County",
         "STABBR": "MD",
         "REGION": 2,
         "ADM_RATE": "nan",
         "TUITIONFEE_IN": "nan",
         "_deepnote_index_column": 87820
        },
        {
         "YEAR": "2000",
         "UNITID": 163268,
         "INSTNM": "University of Maryland-Baltimore County",
         "STABBR": "MD",
         "REGION": 2,
         "ADM_RATE": "nan",
         "TUITIONFEE_IN": "5490.0",
         "_deepnote_index_column": 38054
        },
        {
         "YEAR": "2001",
         "UNITID": 163268,
         "INSTNM": "University of Maryland-Baltimore County",
         "STABBR": "MD",
         "REGION": 2,
         "ADM_RATE": "0.6551",
         "TUITIONFEE_IN": "5910.0",
         "_deepnote_index_column": 129350
        },
        {
         "YEAR": "2002",
         "UNITID": 163268,
         "INSTNM": "University of Maryland-Baltimore County",
         "STABBR": "MD",
         "REGION": 2,
         "ADM_RATE": "0.6327",
         "TUITIONFEE_IN": "6362.0",
         "_deepnote_index_column": 1893
        },
        {
         "YEAR": "2003",
         "UNITID": 163268,
         "INSTNM": "University of Maryland-Baltimore County",
         "STABBR": "MD",
         "REGION": 2,
         "ADM_RATE": "0.5757",
         "TUITIONFEE_IN": "7388.0",
         "_deepnote_index_column": 101246
        },
        {
         "YEAR": "2004",
         "UNITID": 163268,
         "INSTNM": "University of Maryland-Baltimore County",
         "STABBR": "MD",
         "REGION": 2,
         "ADM_RATE": "0.7014",
         "TUITIONFEE_IN": "8020.0",
         "_deepnote_index_column": 59329
        },
        {
         "YEAR": "2005",
         "UNITID": 163268,
         "INSTNM": "University of Maryland-Baltimore County",
         "STABBR": "MD",
         "REGION": 2,
         "ADM_RATE": "0.7143",
         "TUITIONFEE_IN": "8520.0",
         "_deepnote_index_column": 94293
        },
        {
         "YEAR": "2006",
         "UNITID": 163268,
         "INSTNM": "University of Maryland-Baltimore County",
         "STABBR": "MD",
         "REGION": 2,
         "ADM_RATE": "0.7153",
         "TUITIONFEE_IN": "8622.0",
         "_deepnote_index_column": 66045
        },
        {
         "YEAR": "2007",
         "UNITID": 163268,
         "INSTNM": "University of Maryland-Baltimore County",
         "STABBR": "MD",
         "REGION": 2,
         "ADM_RATE": "0.6895",
         "TUITIONFEE_IN": "8708.0",
         "_deepnote_index_column": 52307
        },
        {
         "YEAR": "2008",
         "UNITID": 163268,
         "INSTNM": "University of Maryland-Baltimore County",
         "STABBR": "MD",
         "REGION": 2,
         "ADM_RATE": "0.7174",
         "TUITIONFEE_IN": "8780.0",
         "_deepnote_index_column": 158043
        },
        {
         "YEAR": "2009",
         "UNITID": 163268,
         "INSTNM": "University of Maryland-Baltimore County",
         "STABBR": "MD",
         "REGION": 2,
         "ADM_RATE": "0.689",
         "TUITIONFEE_IN": "8872.0",
         "_deepnote_index_column": 121963
        },
        {
         "YEAR": "2010",
         "UNITID": 163268,
         "INSTNM": "University of Maryland-Baltimore County",
         "STABBR": "MD",
         "REGION": 2,
         "ADM_RATE": "0.6589",
         "TUITIONFEE_IN": "9171.0",
         "_deepnote_index_column": 114458
        },
        {
         "YEAR": "2011",
         "UNITID": 163268,
         "INSTNM": "University of Maryland-Baltimore County",
         "STABBR": "MD",
         "REGION": 2,
         "ADM_RATE": "0.6081",
         "TUITIONFEE_IN": "9467.0",
         "_deepnote_index_column": 44476
        },
        {
         "YEAR": "2012",
         "UNITID": 163268,
         "INSTNM": "University of Maryland-Baltimore County",
         "STABBR": "MD",
         "REGION": 2,
         "ADM_RATE": "0.6035",
         "TUITIONFEE_IN": "9764.0",
         "_deepnote_index_column": 79663
        },
        {
         "YEAR": "2013",
         "UNITID": 163268,
         "INSTNM": "University of Maryland-Baltimore County",
         "STABBR": "MD",
         "REGION": 2,
         "ADM_RATE": "0.6315",
         "TUITIONFEE_IN": "10068.0",
         "_deepnote_index_column": 22881
        },
        {
         "YEAR": "2014",
         "UNITID": 163268,
         "INSTNM": "University of Maryland-Baltimore County",
         "STABBR": "MD",
         "REGION": 2,
         "ADM_RATE": "0.5961",
         "TUITIONFEE_IN": "10384.0",
         "_deepnote_index_column": 142882
        },
        {
         "YEAR": "2015",
         "UNITID": 163268,
         "INSTNM": "University of Maryland-Baltimore County",
         "STABBR": "MD",
         "REGION": 2,
         "ADM_RATE": "0.5942",
         "TUITIONFEE_IN": "11006.0",
         "_deepnote_index_column": 15141
        },
        {
         "YEAR": "2016",
         "UNITID": 163268,
         "INSTNM": "University of Maryland-Baltimore County",
         "STABBR": "MD",
         "REGION": 2,
         "ADM_RATE": "0.5683",
         "TUITIONFEE_IN": "11264.0",
         "_deepnote_index_column": 150548
        },
        {
         "YEAR": "2017",
         "UNITID": 163268,
         "INSTNM": "University of Maryland-Baltimore County",
         "STABBR": "MD",
         "REGION": 2,
         "ADM_RATE": "0.6021",
         "TUITIONFEE_IN": "11518.0",
         "_deepnote_index_column": 135638
        },
        {
         "YEAR": "2018",
         "UNITID": 163268,
         "INSTNM": "University of Maryland-Baltimore County",
         "STABBR": "MD",
         "REGION": 2,
         "ADM_RATE": "0.5794",
         "TUITIONFEE_IN": "11778.0",
         "_deepnote_index_column": 72612
        }
       ],
       "rows_bottom": null
      },
      "text/plain": "        YEAR  UNITID                                   INSTNM STABBR  REGION  \\\n31272   1996  163268  University of Maryland-Baltimore County     MD     2.0   \n8701    1997  163268  University of Maryland-Baltimore County     MD     2.0   \n108028  1998  163268  University of Maryland-Baltimore County     MD     2.0   \n87820   1999  163268  University of Maryland-Baltimore County     MD     2.0   \n38054   2000  163268  University of Maryland-Baltimore County     MD     2.0   \n129350  2001  163268  University of Maryland-Baltimore County     MD     2.0   \n1893    2002  163268  University of Maryland-Baltimore County     MD     2.0   \n101246  2003  163268  University of Maryland-Baltimore County     MD     2.0   \n59329   2004  163268  University of Maryland-Baltimore County     MD     2.0   \n94293   2005  163268  University of Maryland-Baltimore County     MD     2.0   \n66045   2006  163268  University of Maryland-Baltimore County     MD     2.0   \n52307   2007  163268  University of Maryland-Baltimore County     MD     2.0   \n158043  2008  163268  University of Maryland-Baltimore County     MD     2.0   \n121963  2009  163268  University of Maryland-Baltimore County     MD     2.0   \n114458  2010  163268  University of Maryland-Baltimore County     MD     2.0   \n44476   2011  163268  University of Maryland-Baltimore County     MD     2.0   \n79663   2012  163268  University of Maryland-Baltimore County     MD     2.0   \n22881   2013  163268  University of Maryland-Baltimore County     MD     2.0   \n142882  2014  163268  University of Maryland-Baltimore County     MD     2.0   \n15141   2015  163268  University of Maryland-Baltimore County     MD     2.0   \n150548  2016  163268  University of Maryland-Baltimore County     MD     2.0   \n135638  2017  163268  University of Maryland-Baltimore County     MD     2.0   \n72612   2018  163268  University of Maryland-Baltimore County     MD     2.0   \n\n        ADM_RATE  TUITIONFEE_IN  \n31272        NaN            NaN  \n8701         NaN            NaN  \n108028       NaN            NaN  \n87820        NaN            NaN  \n38054        NaN         5490.0  \n129350    0.6551         5910.0  \n1893      0.6327         6362.0  \n101246    0.5757         7388.0  \n59329     0.7014         8020.0  \n94293     0.7143         8520.0  \n66045     0.7153         8622.0  \n52307     0.6895         8708.0  \n158043    0.7174         8780.0  \n121963    0.6890         8872.0  \n114458    0.6589         9171.0  \n44476     0.6081         9467.0  \n79663     0.6035         9764.0  \n22881     0.6315        10068.0  \n142882    0.5961        10384.0  \n15141     0.5942        11006.0  \n150548    0.5683        11264.0  \n135638    0.6021        11518.0  \n72612     0.5794        11778.0  ",
      "text/html": "<div>\n<style scoped>\n    .dataframe tbody tr th:only-of-type {\n        vertical-align: middle;\n    }\n\n    .dataframe tbody tr th {\n        vertical-align: top;\n    }\n\n    .dataframe thead th {\n        text-align: right;\n    }\n</style>\n<table border=\"1\" class=\"dataframe\">\n  <thead>\n    <tr style=\"text-align: right;\">\n      <th></th>\n      <th>YEAR</th>\n      <th>UNITID</th>\n      <th>INSTNM</th>\n      <th>STABBR</th>\n      <th>REGION</th>\n      <th>ADM_RATE</th>\n      <th>TUITIONFEE_IN</th>\n    </tr>\n  </thead>\n  <tbody>\n    <tr>\n      <th>31272</th>\n      <td>1996</td>\n      <td>163268</td>\n      <td>University of Maryland-Baltimore County</td>\n      <td>MD</td>\n      <td>2.0</td>\n      <td>NaN</td>\n      <td>NaN</td>\n    </tr>\n    <tr>\n      <th>8701</th>\n      <td>1997</td>\n      <td>163268</td>\n      <td>University of Maryland-Baltimore County</td>\n      <td>MD</td>\n      <td>2.0</td>\n      <td>NaN</td>\n      <td>NaN</td>\n    </tr>\n    <tr>\n      <th>108028</th>\n      <td>1998</td>\n      <td>163268</td>\n      <td>University of Maryland-Baltimore County</td>\n      <td>MD</td>\n      <td>2.0</td>\n      <td>NaN</td>\n      <td>NaN</td>\n    </tr>\n    <tr>\n      <th>87820</th>\n      <td>1999</td>\n      <td>163268</td>\n      <td>University of Maryland-Baltimore County</td>\n      <td>MD</td>\n      <td>2.0</td>\n      <td>NaN</td>\n      <td>NaN</td>\n    </tr>\n    <tr>\n      <th>38054</th>\n      <td>2000</td>\n      <td>163268</td>\n      <td>University of Maryland-Baltimore County</td>\n      <td>MD</td>\n      <td>2.0</td>\n      <td>NaN</td>\n      <td>5490.0</td>\n    </tr>\n    <tr>\n      <th>129350</th>\n      <td>2001</td>\n      <td>163268</td>\n      <td>University of Maryland-Baltimore County</td>\n      <td>MD</td>\n      <td>2.0</td>\n      <td>0.6551</td>\n      <td>5910.0</td>\n    </tr>\n    <tr>\n      <th>1893</th>\n      <td>2002</td>\n      <td>163268</td>\n      <td>University of Maryland-Baltimore County</td>\n      <td>MD</td>\n      <td>2.0</td>\n      <td>0.6327</td>\n      <td>6362.0</td>\n    </tr>\n    <tr>\n      <th>101246</th>\n      <td>2003</td>\n      <td>163268</td>\n      <td>University of Maryland-Baltimore County</td>\n      <td>MD</td>\n      <td>2.0</td>\n      <td>0.5757</td>\n      <td>7388.0</td>\n    </tr>\n    <tr>\n      <th>59329</th>\n      <td>2004</td>\n      <td>163268</td>\n      <td>University of Maryland-Baltimore County</td>\n      <td>MD</td>\n      <td>2.0</td>\n      <td>0.7014</td>\n      <td>8020.0</td>\n    </tr>\n    <tr>\n      <th>94293</th>\n      <td>2005</td>\n      <td>163268</td>\n      <td>University of Maryland-Baltimore County</td>\n      <td>MD</td>\n      <td>2.0</td>\n      <td>0.7143</td>\n      <td>8520.0</td>\n    </tr>\n    <tr>\n      <th>66045</th>\n      <td>2006</td>\n      <td>163268</td>\n      <td>University of Maryland-Baltimore County</td>\n      <td>MD</td>\n      <td>2.0</td>\n      <td>0.7153</td>\n      <td>8622.0</td>\n    </tr>\n    <tr>\n      <th>52307</th>\n      <td>2007</td>\n      <td>163268</td>\n      <td>University of Maryland-Baltimore County</td>\n      <td>MD</td>\n      <td>2.0</td>\n      <td>0.6895</td>\n      <td>8708.0</td>\n    </tr>\n    <tr>\n      <th>158043</th>\n      <td>2008</td>\n      <td>163268</td>\n      <td>University of Maryland-Baltimore County</td>\n      <td>MD</td>\n      <td>2.0</td>\n      <td>0.7174</td>\n      <td>8780.0</td>\n    </tr>\n    <tr>\n      <th>121963</th>\n      <td>2009</td>\n      <td>163268</td>\n      <td>University of Maryland-Baltimore County</td>\n      <td>MD</td>\n      <td>2.0</td>\n      <td>0.6890</td>\n      <td>8872.0</td>\n    </tr>\n    <tr>\n      <th>114458</th>\n      <td>2010</td>\n      <td>163268</td>\n      <td>University of Maryland-Baltimore County</td>\n      <td>MD</td>\n      <td>2.0</td>\n      <td>0.6589</td>\n      <td>9171.0</td>\n    </tr>\n    <tr>\n      <th>44476</th>\n      <td>2011</td>\n      <td>163268</td>\n      <td>University of Maryland-Baltimore County</td>\n      <td>MD</td>\n      <td>2.0</td>\n      <td>0.6081</td>\n      <td>9467.0</td>\n    </tr>\n    <tr>\n      <th>79663</th>\n      <td>2012</td>\n      <td>163268</td>\n      <td>University of Maryland-Baltimore County</td>\n      <td>MD</td>\n      <td>2.0</td>\n      <td>0.6035</td>\n      <td>9764.0</td>\n    </tr>\n    <tr>\n      <th>22881</th>\n      <td>2013</td>\n      <td>163268</td>\n      <td>University of Maryland-Baltimore County</td>\n      <td>MD</td>\n      <td>2.0</td>\n      <td>0.6315</td>\n      <td>10068.0</td>\n    </tr>\n    <tr>\n      <th>142882</th>\n      <td>2014</td>\n      <td>163268</td>\n      <td>University of Maryland-Baltimore County</td>\n      <td>MD</td>\n      <td>2.0</td>\n      <td>0.5961</td>\n      <td>10384.0</td>\n    </tr>\n    <tr>\n      <th>15141</th>\n      <td>2015</td>\n      <td>163268</td>\n      <td>University of Maryland-Baltimore County</td>\n      <td>MD</td>\n      <td>2.0</td>\n      <td>0.5942</td>\n      <td>11006.0</td>\n    </tr>\n    <tr>\n      <th>150548</th>\n      <td>2016</td>\n      <td>163268</td>\n      <td>University of Maryland-Baltimore County</td>\n      <td>MD</td>\n      <td>2.0</td>\n      <td>0.5683</td>\n      <td>11264.0</td>\n    </tr>\n    <tr>\n      <th>135638</th>\n      <td>2017</td>\n      <td>163268</td>\n      <td>University of Maryland-Baltimore County</td>\n      <td>MD</td>\n      <td>2.0</td>\n      <td>0.6021</td>\n      <td>11518.0</td>\n    </tr>\n    <tr>\n      <th>72612</th>\n      <td>2018</td>\n      <td>163268</td>\n      <td>University of Maryland-Baltimore County</td>\n      <td>MD</td>\n      <td>2.0</td>\n      <td>0.5794</td>\n      <td>11778.0</td>\n    </tr>\n  </tbody>\n</table>\n</div>"
     },
     "metadata": {}
    }
   ]
  },
  {
   "cell_type": "markdown",
   "source": "### We need to add the four NaN values back in, because the data frame has observations for 1996 -1999. \n### Important: Python's version of a null value is None.",
   "metadata": {
    "tags": [],
    "cell_id": "00053-fe25909d-2a88-4033-a41c-68144780324f",
    "deepnote_cell_type": "markdown"
   }
  },
  {
   "cell_type": "code",
   "metadata": {
    "tags": [],
    "cell_id": "00052-c26c0a25-3e9b-4a8b-bcbb-4b6e03d6199b",
    "deepnote_to_be_reexecuted": false,
    "source_hash": "b333b754",
    "execution_start": 1620441977472,
    "execution_millis": 34,
    "output_cleared": false,
    "deepnote_cell_type": "code"
   },
   "source": "for x in range(0,4):\n    pct_change.insert(0, None) #REALLY IMPORTANT: None is python's version of a null value \npct_change.append(None) #This is for the last year (because we cannot calculate this year unless we have a following year)\npct_change",
   "execution_count": 33,
   "outputs": [
    {
     "output_type": "execute_result",
     "execution_count": 33,
     "data": {
      "text/plain": "[None,\n None,\n None,\n None,\n 7.65,\n 7.65,\n 16.13,\n 8.55,\n 6.23,\n 1.2,\n 1.0,\n 0.83,\n 1.05,\n 3.37,\n 3.23,\n 3.14,\n 3.11,\n 3.14,\n 5.99,\n 2.34,\n 2.25,\n 2.26,\n None]"
     },
     "metadata": {}
    }
   ]
  },
  {
   "cell_type": "markdown",
   "source": "### Note: Do NOT convert this list into a dataframe, in an attempt to add two dataframes together.\n###       The code becomes very messy and complicated. \n###       The better method is to convert this list directly into a column. ",
   "metadata": {
    "tags": [],
    "cell_id": "00055-5ff7e098-b9bd-44d9-b0c9-1cd15d9db1b3",
    "deepnote_cell_type": "markdown"
   }
  },
  {
   "cell_type": "code",
   "metadata": {
    "tags": [],
    "cell_id": "00059-f1561036-faa4-4049-98fb-fdced66548b6",
    "deepnote_to_be_reexecuted": false,
    "source_hash": "7de2c2bf",
    "execution_start": 1620441977498,
    "execution_millis": 101,
    "deepnote_cell_type": "code"
   },
   "source": "frame2[\"PCT_CHANGE\"] = pct_change\nframe2\n\n#We can also use DataFrame.insert() below:\n#frame2.insert(8, \"PCT_CHANGE\", pct_change, True)",
   "execution_count": 34,
   "outputs": [
    {
     "output_type": "execute_result",
     "execution_count": 34,
     "data": {
      "application/vnd.deepnote.dataframe.v2+json": {
       "row_count": 23,
       "column_count": 8,
       "columns": [
        {
         "name": "YEAR",
         "dtype": "object",
         "stats": {
          "unique_count": 23,
          "nan_count": 0,
          "categories": [
           {
            "name": "1996",
            "count": 1
           },
           {
            "name": "1997",
            "count": 1
           },
           {
            "name": "21 others",
            "count": 21
           }
          ]
         }
        },
        {
         "name": "UNITID",
         "dtype": "int64",
         "stats": {
          "unique_count": 1,
          "nan_count": 0,
          "min": "163268",
          "max": "163268",
          "histogram": [
           {
            "bin_start": 163267.5,
            "bin_end": 163267.6,
            "count": 0
           },
           {
            "bin_start": 163267.6,
            "bin_end": 163267.7,
            "count": 0
           },
           {
            "bin_start": 163267.7,
            "bin_end": 163267.8,
            "count": 0
           },
           {
            "bin_start": 163267.8,
            "bin_end": 163267.9,
            "count": 0
           },
           {
            "bin_start": 163267.9,
            "bin_end": 163268,
            "count": 0
           },
           {
            "bin_start": 163268,
            "bin_end": 163268.1,
            "count": 23
           },
           {
            "bin_start": 163268.1,
            "bin_end": 163268.2,
            "count": 0
           },
           {
            "bin_start": 163268.2,
            "bin_end": 163268.3,
            "count": 0
           },
           {
            "bin_start": 163268.3,
            "bin_end": 163268.4,
            "count": 0
           },
           {
            "bin_start": 163268.4,
            "bin_end": 163268.5,
            "count": 0
           }
          ]
         }
        },
        {
         "name": "INSTNM",
         "dtype": "object",
         "stats": {
          "unique_count": 1,
          "nan_count": 0,
          "categories": [
           {
            "name": "University of Maryland-Baltimore County",
            "count": 23
           }
          ]
         }
        },
        {
         "name": "STABBR",
         "dtype": "object",
         "stats": {
          "unique_count": 1,
          "nan_count": 0,
          "categories": [
           {
            "name": "MD",
            "count": 23
           }
          ]
         }
        },
        {
         "name": "REGION",
         "dtype": "float64",
         "stats": {
          "unique_count": 1,
          "nan_count": 0,
          "min": "2.0",
          "max": "2.0",
          "histogram": [
           {
            "bin_start": 1.5,
            "bin_end": 1.6,
            "count": 0
           },
           {
            "bin_start": 1.6,
            "bin_end": 1.7,
            "count": 0
           },
           {
            "bin_start": 1.7,
            "bin_end": 1.8,
            "count": 0
           },
           {
            "bin_start": 1.8,
            "bin_end": 1.9,
            "count": 0
           },
           {
            "bin_start": 1.9,
            "bin_end": 2,
            "count": 0
           },
           {
            "bin_start": 2,
            "bin_end": 2.1,
            "count": 23
           },
           {
            "bin_start": 2.1,
            "bin_end": 2.2,
            "count": 0
           },
           {
            "bin_start": 2.2,
            "bin_end": 2.3,
            "count": 0
           },
           {
            "bin_start": 2.3,
            "bin_end": 2.4,
            "count": 0
           },
           {
            "bin_start": 2.4,
            "bin_end": 2.5,
            "count": 0
           }
          ]
         }
        },
        {
         "name": "ADM_RATE",
         "dtype": "float64",
         "stats": {
          "unique_count": 18,
          "nan_count": 5,
          "min": "0.5683",
          "max": "0.7174",
          "histogram": [
           {
            "bin_start": 0.5683,
            "bin_end": 0.58321,
            "count": 3
           },
           {
            "bin_start": 0.58321,
            "bin_end": 0.59812,
            "count": 2
           },
           {
            "bin_start": 0.59812,
            "bin_end": 0.6130300000000001,
            "count": 3
           },
           {
            "bin_start": 0.6130300000000001,
            "bin_end": 0.62794,
            "count": 0
           },
           {
            "bin_start": 0.62794,
            "bin_end": 0.64285,
            "count": 2
           },
           {
            "bin_start": 0.64285,
            "bin_end": 0.65776,
            "count": 1
           },
           {
            "bin_start": 0.65776,
            "bin_end": 0.67267,
            "count": 1
           },
           {
            "bin_start": 0.67267,
            "bin_end": 0.6875800000000001,
            "count": 0
           },
           {
            "bin_start": 0.6875800000000001,
            "bin_end": 0.7024900000000001,
            "count": 3
           },
           {
            "bin_start": 0.7024900000000001,
            "bin_end": 0.7174,
            "count": 3
           }
          ]
         }
        },
        {
         "name": "TUITIONFEE_IN",
         "dtype": "float64",
         "stats": {
          "unique_count": 19,
          "nan_count": 4,
          "min": "5490.0",
          "max": "11778.0",
          "histogram": [
           {
            "bin_start": 5490,
            "bin_end": 6118.8,
            "count": 2
           },
           {
            "bin_start": 6118.8,
            "bin_end": 6747.6,
            "count": 1
           },
           {
            "bin_start": 6747.6,
            "bin_end": 7376.4,
            "count": 0
           },
           {
            "bin_start": 7376.4,
            "bin_end": 8005.2,
            "count": 1
           },
           {
            "bin_start": 8005.2,
            "bin_end": 8634,
            "count": 3
           },
           {
            "bin_start": 8634,
            "bin_end": 9262.8,
            "count": 4
           },
           {
            "bin_start": 9262.8,
            "bin_end": 9891.599999999999,
            "count": 2
           },
           {
            "bin_start": 9891.599999999999,
            "bin_end": 10520.4,
            "count": 2
           },
           {
            "bin_start": 10520.4,
            "bin_end": 11149.2,
            "count": 1
           },
           {
            "bin_start": 11149.2,
            "bin_end": 11778,
            "count": 3
           }
          ]
         }
        },
        {
         "name": "PCT_CHANGE",
         "dtype": "float64",
         "stats": {
          "unique_count": 16,
          "nan_count": 5,
          "min": "0.83",
          "max": "16.13",
          "histogram": [
           {
            "bin_start": 0.83,
            "bin_end": 2.36,
            "count": 7
           },
           {
            "bin_start": 2.36,
            "bin_end": 3.8899999999999997,
            "count": 5
           },
           {
            "bin_start": 3.8899999999999997,
            "bin_end": 5.42,
            "count": 0
           },
           {
            "bin_start": 5.42,
            "bin_end": 6.949999999999999,
            "count": 2
           },
           {
            "bin_start": 6.949999999999999,
            "bin_end": 8.479999999999999,
            "count": 2
           },
           {
            "bin_start": 8.479999999999999,
            "bin_end": 10.01,
            "count": 1
           },
           {
            "bin_start": 10.01,
            "bin_end": 11.54,
            "count": 0
           },
           {
            "bin_start": 11.54,
            "bin_end": 13.069999999999999,
            "count": 0
           },
           {
            "bin_start": 13.069999999999999,
            "bin_end": 14.599999999999998,
            "count": 0
           },
           {
            "bin_start": 14.599999999999998,
            "bin_end": 16.13,
            "count": 1
           }
          ]
         }
        },
        {
         "name": "_deepnote_index_column",
         "dtype": "int64"
        }
       ],
       "rows_top": [
        {
         "YEAR": "1996",
         "UNITID": 163268,
         "INSTNM": "University of Maryland-Baltimore County",
         "STABBR": "MD",
         "REGION": 2,
         "ADM_RATE": "nan",
         "TUITIONFEE_IN": "nan",
         "PCT_CHANGE": "nan",
         "_deepnote_index_column": 31272
        },
        {
         "YEAR": "1997",
         "UNITID": 163268,
         "INSTNM": "University of Maryland-Baltimore County",
         "STABBR": "MD",
         "REGION": 2,
         "ADM_RATE": "nan",
         "TUITIONFEE_IN": "nan",
         "PCT_CHANGE": "nan",
         "_deepnote_index_column": 8701
        },
        {
         "YEAR": "1998",
         "UNITID": 163268,
         "INSTNM": "University of Maryland-Baltimore County",
         "STABBR": "MD",
         "REGION": 2,
         "ADM_RATE": "nan",
         "TUITIONFEE_IN": "nan",
         "PCT_CHANGE": "nan",
         "_deepnote_index_column": 108028
        },
        {
         "YEAR": "1999",
         "UNITID": 163268,
         "INSTNM": "University of Maryland-Baltimore County",
         "STABBR": "MD",
         "REGION": 2,
         "ADM_RATE": "nan",
         "TUITIONFEE_IN": "nan",
         "PCT_CHANGE": "nan",
         "_deepnote_index_column": 87820
        },
        {
         "YEAR": "2000",
         "UNITID": 163268,
         "INSTNM": "University of Maryland-Baltimore County",
         "STABBR": "MD",
         "REGION": 2,
         "ADM_RATE": "nan",
         "TUITIONFEE_IN": "5490.0",
         "PCT_CHANGE": "7.65",
         "_deepnote_index_column": 38054
        },
        {
         "YEAR": "2001",
         "UNITID": 163268,
         "INSTNM": "University of Maryland-Baltimore County",
         "STABBR": "MD",
         "REGION": 2,
         "ADM_RATE": "0.6551",
         "TUITIONFEE_IN": "5910.0",
         "PCT_CHANGE": "7.65",
         "_deepnote_index_column": 129350
        },
        {
         "YEAR": "2002",
         "UNITID": 163268,
         "INSTNM": "University of Maryland-Baltimore County",
         "STABBR": "MD",
         "REGION": 2,
         "ADM_RATE": "0.6327",
         "TUITIONFEE_IN": "6362.0",
         "PCT_CHANGE": "16.13",
         "_deepnote_index_column": 1893
        },
        {
         "YEAR": "2003",
         "UNITID": 163268,
         "INSTNM": "University of Maryland-Baltimore County",
         "STABBR": "MD",
         "REGION": 2,
         "ADM_RATE": "0.5757",
         "TUITIONFEE_IN": "7388.0",
         "PCT_CHANGE": "8.55",
         "_deepnote_index_column": 101246
        },
        {
         "YEAR": "2004",
         "UNITID": 163268,
         "INSTNM": "University of Maryland-Baltimore County",
         "STABBR": "MD",
         "REGION": 2,
         "ADM_RATE": "0.7014",
         "TUITIONFEE_IN": "8020.0",
         "PCT_CHANGE": "6.23",
         "_deepnote_index_column": 59329
        },
        {
         "YEAR": "2005",
         "UNITID": 163268,
         "INSTNM": "University of Maryland-Baltimore County",
         "STABBR": "MD",
         "REGION": 2,
         "ADM_RATE": "0.7143",
         "TUITIONFEE_IN": "8520.0",
         "PCT_CHANGE": "1.2",
         "_deepnote_index_column": 94293
        },
        {
         "YEAR": "2006",
         "UNITID": 163268,
         "INSTNM": "University of Maryland-Baltimore County",
         "STABBR": "MD",
         "REGION": 2,
         "ADM_RATE": "0.7153",
         "TUITIONFEE_IN": "8622.0",
         "PCT_CHANGE": "1.0",
         "_deepnote_index_column": 66045
        },
        {
         "YEAR": "2007",
         "UNITID": 163268,
         "INSTNM": "University of Maryland-Baltimore County",
         "STABBR": "MD",
         "REGION": 2,
         "ADM_RATE": "0.6895",
         "TUITIONFEE_IN": "8708.0",
         "PCT_CHANGE": "0.83",
         "_deepnote_index_column": 52307
        },
        {
         "YEAR": "2008",
         "UNITID": 163268,
         "INSTNM": "University of Maryland-Baltimore County",
         "STABBR": "MD",
         "REGION": 2,
         "ADM_RATE": "0.7174",
         "TUITIONFEE_IN": "8780.0",
         "PCT_CHANGE": "1.05",
         "_deepnote_index_column": 158043
        },
        {
         "YEAR": "2009",
         "UNITID": 163268,
         "INSTNM": "University of Maryland-Baltimore County",
         "STABBR": "MD",
         "REGION": 2,
         "ADM_RATE": "0.689",
         "TUITIONFEE_IN": "8872.0",
         "PCT_CHANGE": "3.37",
         "_deepnote_index_column": 121963
        },
        {
         "YEAR": "2010",
         "UNITID": 163268,
         "INSTNM": "University of Maryland-Baltimore County",
         "STABBR": "MD",
         "REGION": 2,
         "ADM_RATE": "0.6589",
         "TUITIONFEE_IN": "9171.0",
         "PCT_CHANGE": "3.23",
         "_deepnote_index_column": 114458
        },
        {
         "YEAR": "2011",
         "UNITID": 163268,
         "INSTNM": "University of Maryland-Baltimore County",
         "STABBR": "MD",
         "REGION": 2,
         "ADM_RATE": "0.6081",
         "TUITIONFEE_IN": "9467.0",
         "PCT_CHANGE": "3.14",
         "_deepnote_index_column": 44476
        },
        {
         "YEAR": "2012",
         "UNITID": 163268,
         "INSTNM": "University of Maryland-Baltimore County",
         "STABBR": "MD",
         "REGION": 2,
         "ADM_RATE": "0.6035",
         "TUITIONFEE_IN": "9764.0",
         "PCT_CHANGE": "3.11",
         "_deepnote_index_column": 79663
        },
        {
         "YEAR": "2013",
         "UNITID": 163268,
         "INSTNM": "University of Maryland-Baltimore County",
         "STABBR": "MD",
         "REGION": 2,
         "ADM_RATE": "0.6315",
         "TUITIONFEE_IN": "10068.0",
         "PCT_CHANGE": "3.14",
         "_deepnote_index_column": 22881
        },
        {
         "YEAR": "2014",
         "UNITID": 163268,
         "INSTNM": "University of Maryland-Baltimore County",
         "STABBR": "MD",
         "REGION": 2,
         "ADM_RATE": "0.5961",
         "TUITIONFEE_IN": "10384.0",
         "PCT_CHANGE": "5.99",
         "_deepnote_index_column": 142882
        },
        {
         "YEAR": "2015",
         "UNITID": 163268,
         "INSTNM": "University of Maryland-Baltimore County",
         "STABBR": "MD",
         "REGION": 2,
         "ADM_RATE": "0.5942",
         "TUITIONFEE_IN": "11006.0",
         "PCT_CHANGE": "2.34",
         "_deepnote_index_column": 15141
        },
        {
         "YEAR": "2016",
         "UNITID": 163268,
         "INSTNM": "University of Maryland-Baltimore County",
         "STABBR": "MD",
         "REGION": 2,
         "ADM_RATE": "0.5683",
         "TUITIONFEE_IN": "11264.0",
         "PCT_CHANGE": "2.25",
         "_deepnote_index_column": 150548
        },
        {
         "YEAR": "2017",
         "UNITID": 163268,
         "INSTNM": "University of Maryland-Baltimore County",
         "STABBR": "MD",
         "REGION": 2,
         "ADM_RATE": "0.6021",
         "TUITIONFEE_IN": "11518.0",
         "PCT_CHANGE": "2.26",
         "_deepnote_index_column": 135638
        },
        {
         "YEAR": "2018",
         "UNITID": 163268,
         "INSTNM": "University of Maryland-Baltimore County",
         "STABBR": "MD",
         "REGION": 2,
         "ADM_RATE": "0.5794",
         "TUITIONFEE_IN": "11778.0",
         "PCT_CHANGE": "nan",
         "_deepnote_index_column": 72612
        }
       ],
       "rows_bottom": null
      },
      "text/plain": "        YEAR  UNITID                                   INSTNM STABBR  REGION  \\\n31272   1996  163268  University of Maryland-Baltimore County     MD     2.0   \n8701    1997  163268  University of Maryland-Baltimore County     MD     2.0   \n108028  1998  163268  University of Maryland-Baltimore County     MD     2.0   \n87820   1999  163268  University of Maryland-Baltimore County     MD     2.0   \n38054   2000  163268  University of Maryland-Baltimore County     MD     2.0   \n129350  2001  163268  University of Maryland-Baltimore County     MD     2.0   \n1893    2002  163268  University of Maryland-Baltimore County     MD     2.0   \n101246  2003  163268  University of Maryland-Baltimore County     MD     2.0   \n59329   2004  163268  University of Maryland-Baltimore County     MD     2.0   \n94293   2005  163268  University of Maryland-Baltimore County     MD     2.0   \n66045   2006  163268  University of Maryland-Baltimore County     MD     2.0   \n52307   2007  163268  University of Maryland-Baltimore County     MD     2.0   \n158043  2008  163268  University of Maryland-Baltimore County     MD     2.0   \n121963  2009  163268  University of Maryland-Baltimore County     MD     2.0   \n114458  2010  163268  University of Maryland-Baltimore County     MD     2.0   \n44476   2011  163268  University of Maryland-Baltimore County     MD     2.0   \n79663   2012  163268  University of Maryland-Baltimore County     MD     2.0   \n22881   2013  163268  University of Maryland-Baltimore County     MD     2.0   \n142882  2014  163268  University of Maryland-Baltimore County     MD     2.0   \n15141   2015  163268  University of Maryland-Baltimore County     MD     2.0   \n150548  2016  163268  University of Maryland-Baltimore County     MD     2.0   \n135638  2017  163268  University of Maryland-Baltimore County     MD     2.0   \n72612   2018  163268  University of Maryland-Baltimore County     MD     2.0   \n\n        ADM_RATE  TUITIONFEE_IN  PCT_CHANGE  \n31272        NaN            NaN         NaN  \n8701         NaN            NaN         NaN  \n108028       NaN            NaN         NaN  \n87820        NaN            NaN         NaN  \n38054        NaN         5490.0        7.65  \n129350    0.6551         5910.0        7.65  \n1893      0.6327         6362.0       16.13  \n101246    0.5757         7388.0        8.55  \n59329     0.7014         8020.0        6.23  \n94293     0.7143         8520.0        1.20  \n66045     0.7153         8622.0        1.00  \n52307     0.6895         8708.0        0.83  \n158043    0.7174         8780.0        1.05  \n121963    0.6890         8872.0        3.37  \n114458    0.6589         9171.0        3.23  \n44476     0.6081         9467.0        3.14  \n79663     0.6035         9764.0        3.11  \n22881     0.6315        10068.0        3.14  \n142882    0.5961        10384.0        5.99  \n15141     0.5942        11006.0        2.34  \n150548    0.5683        11264.0        2.25  \n135638    0.6021        11518.0        2.26  \n72612     0.5794        11778.0         NaN  ",
      "text/html": "<div>\n<style scoped>\n    .dataframe tbody tr th:only-of-type {\n        vertical-align: middle;\n    }\n\n    .dataframe tbody tr th {\n        vertical-align: top;\n    }\n\n    .dataframe thead th {\n        text-align: right;\n    }\n</style>\n<table border=\"1\" class=\"dataframe\">\n  <thead>\n    <tr style=\"text-align: right;\">\n      <th></th>\n      <th>YEAR</th>\n      <th>UNITID</th>\n      <th>INSTNM</th>\n      <th>STABBR</th>\n      <th>REGION</th>\n      <th>ADM_RATE</th>\n      <th>TUITIONFEE_IN</th>\n      <th>PCT_CHANGE</th>\n    </tr>\n  </thead>\n  <tbody>\n    <tr>\n      <th>31272</th>\n      <td>1996</td>\n      <td>163268</td>\n      <td>University of Maryland-Baltimore County</td>\n      <td>MD</td>\n      <td>2.0</td>\n      <td>NaN</td>\n      <td>NaN</td>\n      <td>NaN</td>\n    </tr>\n    <tr>\n      <th>8701</th>\n      <td>1997</td>\n      <td>163268</td>\n      <td>University of Maryland-Baltimore County</td>\n      <td>MD</td>\n      <td>2.0</td>\n      <td>NaN</td>\n      <td>NaN</td>\n      <td>NaN</td>\n    </tr>\n    <tr>\n      <th>108028</th>\n      <td>1998</td>\n      <td>163268</td>\n      <td>University of Maryland-Baltimore County</td>\n      <td>MD</td>\n      <td>2.0</td>\n      <td>NaN</td>\n      <td>NaN</td>\n      <td>NaN</td>\n    </tr>\n    <tr>\n      <th>87820</th>\n      <td>1999</td>\n      <td>163268</td>\n      <td>University of Maryland-Baltimore County</td>\n      <td>MD</td>\n      <td>2.0</td>\n      <td>NaN</td>\n      <td>NaN</td>\n      <td>NaN</td>\n    </tr>\n    <tr>\n      <th>38054</th>\n      <td>2000</td>\n      <td>163268</td>\n      <td>University of Maryland-Baltimore County</td>\n      <td>MD</td>\n      <td>2.0</td>\n      <td>NaN</td>\n      <td>5490.0</td>\n      <td>7.65</td>\n    </tr>\n    <tr>\n      <th>129350</th>\n      <td>2001</td>\n      <td>163268</td>\n      <td>University of Maryland-Baltimore County</td>\n      <td>MD</td>\n      <td>2.0</td>\n      <td>0.6551</td>\n      <td>5910.0</td>\n      <td>7.65</td>\n    </tr>\n    <tr>\n      <th>1893</th>\n      <td>2002</td>\n      <td>163268</td>\n      <td>University of Maryland-Baltimore County</td>\n      <td>MD</td>\n      <td>2.0</td>\n      <td>0.6327</td>\n      <td>6362.0</td>\n      <td>16.13</td>\n    </tr>\n    <tr>\n      <th>101246</th>\n      <td>2003</td>\n      <td>163268</td>\n      <td>University of Maryland-Baltimore County</td>\n      <td>MD</td>\n      <td>2.0</td>\n      <td>0.5757</td>\n      <td>7388.0</td>\n      <td>8.55</td>\n    </tr>\n    <tr>\n      <th>59329</th>\n      <td>2004</td>\n      <td>163268</td>\n      <td>University of Maryland-Baltimore County</td>\n      <td>MD</td>\n      <td>2.0</td>\n      <td>0.7014</td>\n      <td>8020.0</td>\n      <td>6.23</td>\n    </tr>\n    <tr>\n      <th>94293</th>\n      <td>2005</td>\n      <td>163268</td>\n      <td>University of Maryland-Baltimore County</td>\n      <td>MD</td>\n      <td>2.0</td>\n      <td>0.7143</td>\n      <td>8520.0</td>\n      <td>1.20</td>\n    </tr>\n    <tr>\n      <th>66045</th>\n      <td>2006</td>\n      <td>163268</td>\n      <td>University of Maryland-Baltimore County</td>\n      <td>MD</td>\n      <td>2.0</td>\n      <td>0.7153</td>\n      <td>8622.0</td>\n      <td>1.00</td>\n    </tr>\n    <tr>\n      <th>52307</th>\n      <td>2007</td>\n      <td>163268</td>\n      <td>University of Maryland-Baltimore County</td>\n      <td>MD</td>\n      <td>2.0</td>\n      <td>0.6895</td>\n      <td>8708.0</td>\n      <td>0.83</td>\n    </tr>\n    <tr>\n      <th>158043</th>\n      <td>2008</td>\n      <td>163268</td>\n      <td>University of Maryland-Baltimore County</td>\n      <td>MD</td>\n      <td>2.0</td>\n      <td>0.7174</td>\n      <td>8780.0</td>\n      <td>1.05</td>\n    </tr>\n    <tr>\n      <th>121963</th>\n      <td>2009</td>\n      <td>163268</td>\n      <td>University of Maryland-Baltimore County</td>\n      <td>MD</td>\n      <td>2.0</td>\n      <td>0.6890</td>\n      <td>8872.0</td>\n      <td>3.37</td>\n    </tr>\n    <tr>\n      <th>114458</th>\n      <td>2010</td>\n      <td>163268</td>\n      <td>University of Maryland-Baltimore County</td>\n      <td>MD</td>\n      <td>2.0</td>\n      <td>0.6589</td>\n      <td>9171.0</td>\n      <td>3.23</td>\n    </tr>\n    <tr>\n      <th>44476</th>\n      <td>2011</td>\n      <td>163268</td>\n      <td>University of Maryland-Baltimore County</td>\n      <td>MD</td>\n      <td>2.0</td>\n      <td>0.6081</td>\n      <td>9467.0</td>\n      <td>3.14</td>\n    </tr>\n    <tr>\n      <th>79663</th>\n      <td>2012</td>\n      <td>163268</td>\n      <td>University of Maryland-Baltimore County</td>\n      <td>MD</td>\n      <td>2.0</td>\n      <td>0.6035</td>\n      <td>9764.0</td>\n      <td>3.11</td>\n    </tr>\n    <tr>\n      <th>22881</th>\n      <td>2013</td>\n      <td>163268</td>\n      <td>University of Maryland-Baltimore County</td>\n      <td>MD</td>\n      <td>2.0</td>\n      <td>0.6315</td>\n      <td>10068.0</td>\n      <td>3.14</td>\n    </tr>\n    <tr>\n      <th>142882</th>\n      <td>2014</td>\n      <td>163268</td>\n      <td>University of Maryland-Baltimore County</td>\n      <td>MD</td>\n      <td>2.0</td>\n      <td>0.5961</td>\n      <td>10384.0</td>\n      <td>5.99</td>\n    </tr>\n    <tr>\n      <th>15141</th>\n      <td>2015</td>\n      <td>163268</td>\n      <td>University of Maryland-Baltimore County</td>\n      <td>MD</td>\n      <td>2.0</td>\n      <td>0.5942</td>\n      <td>11006.0</td>\n      <td>2.34</td>\n    </tr>\n    <tr>\n      <th>150548</th>\n      <td>2016</td>\n      <td>163268</td>\n      <td>University of Maryland-Baltimore County</td>\n      <td>MD</td>\n      <td>2.0</td>\n      <td>0.5683</td>\n      <td>11264.0</td>\n      <td>2.25</td>\n    </tr>\n    <tr>\n      <th>135638</th>\n      <td>2017</td>\n      <td>163268</td>\n      <td>University of Maryland-Baltimore County</td>\n      <td>MD</td>\n      <td>2.0</td>\n      <td>0.6021</td>\n      <td>11518.0</td>\n      <td>2.26</td>\n    </tr>\n    <tr>\n      <th>72612</th>\n      <td>2018</td>\n      <td>163268</td>\n      <td>University of Maryland-Baltimore County</td>\n      <td>MD</td>\n      <td>2.0</td>\n      <td>0.5794</td>\n      <td>11778.0</td>\n      <td>NaN</td>\n    </tr>\n  </tbody>\n</table>\n</div>"
     },
     "metadata": {}
    }
   ]
  },
  {
   "cell_type": "markdown",
   "source": "### Plot tuition growth rate year over year - bar first, then line chart.\n",
   "metadata": {
    "tags": [],
    "cell_id": "00058-5fdc54a2-5b71-4898-b3b0-e4ea9d7cc606",
    "deepnote_cell_type": "markdown"
   }
  },
  {
   "cell_type": "code",
   "metadata": {
    "tags": [],
    "cell_id": "00058-e0627f1a-0a0d-42d2-a73d-7ad47d657e6f",
    "deepnote_to_be_reexecuted": false,
    "source_hash": "884049f5",
    "execution_start": 1620441977614,
    "execution_millis": 86,
    "deepnote_cell_type": "code"
   },
   "source": "#Use plotly express to visualize a bar chart:\nfig = px.bar(frame2, x='YEAR', y='PCT_CHANGE')\nfig.update_layout(\n    title=\"UMBC's in-state tuition growth rate over time from 1996 to 2019\",\n    xaxis_title=\"Year\",\n    yaxis_title=\"Percentage Change\"\n    )\n#fig.update_xaxes(categoryorder=\"total ascending\") don't use this, because we have just sorted the years\nfig.show()",
   "execution_count": 35,
   "outputs": [
    {
     "data": {
      "text/html": "<html>\n<head><meta charset=\"utf-8\" /></head>\n<body>\n    <div>            <script src=\"https://cdnjs.cloudflare.com/ajax/libs/mathjax/2.7.5/MathJax.js?config=TeX-AMS-MML_SVG\"></script><script type=\"text/javascript\">if (window.MathJax) {MathJax.Hub.Config({SVG: {font: \"STIX-Web\"}});}</script>                <script type=\"text/javascript\">window.PlotlyConfig = {MathJaxConfig: 'local'};</script>\n        <script src=\"https://cdn.plot.ly/plotly-latest.min.js\"></script>                <div id=\"cadaeece-7973-48fb-a9db-3d4b9da42890\" class=\"plotly-graph-div\" style=\"height:525px; width:100%;\"></div>            <script type=\"text/javascript\">                                    window.PLOTLYENV=window.PLOTLYENV || {};                                    if (document.getElementById(\"cadaeece-7973-48fb-a9db-3d4b9da42890\")) {                    Plotly.newPlot(                        \"cadaeece-7973-48fb-a9db-3d4b9da42890\",                        [{\"alignmentgroup\": \"True\", \"hovertemplate\": \"YEAR=%{x}<br>PCT_CHANGE=%{y}<extra></extra>\", \"legendgroup\": \"\", \"marker\": {\"color\": \"#636efa\"}, \"name\": \"\", \"offsetgroup\": \"\", \"orientation\": \"v\", \"showlegend\": false, \"textposition\": \"auto\", \"type\": \"bar\", \"x\": [\"1996\", \"1997\", \"1998\", \"1999\", \"2000\", \"2001\", \"2002\", \"2003\", \"2004\", \"2005\", \"2006\", \"2007\", \"2008\", \"2009\", \"2010\", \"2011\", \"2012\", \"2013\", \"2014\", \"2015\", \"2016\", \"2017\", \"2018\"], \"xaxis\": \"x\", \"y\": [null, null, null, null, 7.65, 7.65, 16.13, 8.55, 6.23, 1.2, 1.0, 0.83, 1.05, 3.37, 3.23, 3.14, 3.11, 3.14, 5.99, 2.34, 2.25, 2.26, null], \"yaxis\": \"y\"}],                        {\"barmode\": \"relative\", \"legend\": {\"tracegroupgap\": 0}, \"margin\": {\"t\": 60}, \"template\": {\"data\": {\"bar\": [{\"error_x\": {\"color\": \"#f2f5fa\"}, \"error_y\": {\"color\": \"#f2f5fa\"}, \"marker\": {\"line\": {\"color\": \"rgb(17,17,17)\", \"width\": 0.5}}, \"type\": \"bar\"}], \"barpolar\": [{\"marker\": {\"line\": {\"color\": \"rgb(17,17,17)\", \"width\": 0.5}}, \"type\": \"barpolar\"}], \"carpet\": [{\"aaxis\": {\"endlinecolor\": \"#A2B1C6\", \"gridcolor\": \"#506784\", \"linecolor\": \"#506784\", \"minorgridcolor\": \"#506784\", \"startlinecolor\": \"#A2B1C6\"}, \"baxis\": {\"endlinecolor\": \"#A2B1C6\", \"gridcolor\": \"#506784\", \"linecolor\": \"#506784\", \"minorgridcolor\": \"#506784\", \"startlinecolor\": \"#A2B1C6\"}, \"type\": \"carpet\"}], \"choropleth\": [{\"colorbar\": {\"outlinewidth\": 0, \"ticks\": \"\"}, \"type\": \"choropleth\"}], \"contour\": [{\"colorbar\": {\"outlinewidth\": 0, \"ticks\": \"\"}, \"colorscale\": [[0.0, \"#0d0887\"], [0.1111111111111111, \"#46039f\"], [0.2222222222222222, \"#7201a8\"], [0.3333333333333333, \"#9c179e\"], [0.4444444444444444, \"#bd3786\"], [0.5555555555555556, \"#d8576b\"], [0.6666666666666666, \"#ed7953\"], [0.7777777777777778, \"#fb9f3a\"], [0.8888888888888888, \"#fdca26\"], [1.0, \"#f0f921\"]], \"type\": \"contour\"}], \"contourcarpet\": [{\"colorbar\": {\"outlinewidth\": 0, \"ticks\": \"\"}, \"type\": \"contourcarpet\"}], \"heatmap\": [{\"colorbar\": {\"outlinewidth\": 0, \"ticks\": \"\"}, \"colorscale\": [[0.0, \"#0d0887\"], [0.1111111111111111, \"#46039f\"], [0.2222222222222222, \"#7201a8\"], [0.3333333333333333, \"#9c179e\"], [0.4444444444444444, \"#bd3786\"], [0.5555555555555556, \"#d8576b\"], [0.6666666666666666, \"#ed7953\"], [0.7777777777777778, \"#fb9f3a\"], [0.8888888888888888, \"#fdca26\"], [1.0, \"#f0f921\"]], \"type\": \"heatmap\"}], \"heatmapgl\": [{\"colorbar\": {\"outlinewidth\": 0, \"ticks\": \"\"}, \"colorscale\": [[0.0, \"#0d0887\"], [0.1111111111111111, \"#46039f\"], [0.2222222222222222, \"#7201a8\"], [0.3333333333333333, \"#9c179e\"], [0.4444444444444444, \"#bd3786\"], [0.5555555555555556, \"#d8576b\"], [0.6666666666666666, \"#ed7953\"], [0.7777777777777778, \"#fb9f3a\"], [0.8888888888888888, \"#fdca26\"], [1.0, \"#f0f921\"]], \"type\": \"heatmapgl\"}], \"histogram\": [{\"marker\": {\"colorbar\": {\"outlinewidth\": 0, \"ticks\": \"\"}}, \"type\": \"histogram\"}], \"histogram2d\": [{\"colorbar\": {\"outlinewidth\": 0, \"ticks\": \"\"}, \"colorscale\": [[0.0, \"#0d0887\"], [0.1111111111111111, \"#46039f\"], [0.2222222222222222, \"#7201a8\"], [0.3333333333333333, \"#9c179e\"], [0.4444444444444444, \"#bd3786\"], [0.5555555555555556, \"#d8576b\"], [0.6666666666666666, \"#ed7953\"], [0.7777777777777778, \"#fb9f3a\"], [0.8888888888888888, \"#fdca26\"], [1.0, \"#f0f921\"]], \"type\": \"histogram2d\"}], \"histogram2dcontour\": [{\"colorbar\": {\"outlinewidth\": 0, \"ticks\": \"\"}, \"colorscale\": [[0.0, \"#0d0887\"], [0.1111111111111111, \"#46039f\"], [0.2222222222222222, \"#7201a8\"], [0.3333333333333333, \"#9c179e\"], [0.4444444444444444, \"#bd3786\"], [0.5555555555555556, \"#d8576b\"], [0.6666666666666666, \"#ed7953\"], [0.7777777777777778, \"#fb9f3a\"], [0.8888888888888888, \"#fdca26\"], [1.0, \"#f0f921\"]], \"type\": \"histogram2dcontour\"}], \"mesh3d\": [{\"colorbar\": {\"outlinewidth\": 0, \"ticks\": \"\"}, \"type\": \"mesh3d\"}], \"parcoords\": [{\"line\": {\"colorbar\": {\"outlinewidth\": 0, \"ticks\": \"\"}}, \"type\": \"parcoords\"}], \"pie\": [{\"automargin\": true, \"type\": \"pie\"}], \"scatter\": [{\"marker\": {\"line\": {\"color\": \"#283442\"}}, \"type\": \"scatter\"}], \"scatter3d\": [{\"line\": {\"colorbar\": {\"outlinewidth\": 0, \"ticks\": \"\"}}, \"marker\": {\"colorbar\": {\"outlinewidth\": 0, \"ticks\": \"\"}}, \"type\": \"scatter3d\"}], \"scattercarpet\": [{\"marker\": {\"colorbar\": {\"outlinewidth\": 0, \"ticks\": \"\"}}, \"type\": \"scattercarpet\"}], \"scattergeo\": [{\"marker\": {\"colorbar\": {\"outlinewidth\": 0, \"ticks\": \"\"}}, \"type\": \"scattergeo\"}], \"scattergl\": [{\"marker\": {\"line\": {\"color\": \"#283442\"}}, \"type\": \"scattergl\"}], \"scattermapbox\": [{\"marker\": {\"colorbar\": {\"outlinewidth\": 0, \"ticks\": \"\"}}, \"type\": \"scattermapbox\"}], \"scatterpolar\": [{\"marker\": {\"colorbar\": {\"outlinewidth\": 0, \"ticks\": \"\"}}, \"type\": \"scatterpolar\"}], \"scatterpolargl\": [{\"marker\": {\"colorbar\": {\"outlinewidth\": 0, \"ticks\": \"\"}}, \"type\": \"scatterpolargl\"}], \"scatterternary\": [{\"marker\": {\"colorbar\": {\"outlinewidth\": 0, \"ticks\": \"\"}}, \"type\": \"scatterternary\"}], \"surface\": [{\"colorbar\": {\"outlinewidth\": 0, \"ticks\": \"\"}, \"colorscale\": [[0.0, \"#0d0887\"], [0.1111111111111111, \"#46039f\"], [0.2222222222222222, \"#7201a8\"], [0.3333333333333333, \"#9c179e\"], [0.4444444444444444, \"#bd3786\"], [0.5555555555555556, \"#d8576b\"], [0.6666666666666666, \"#ed7953\"], [0.7777777777777778, \"#fb9f3a\"], [0.8888888888888888, \"#fdca26\"], [1.0, \"#f0f921\"]], \"type\": \"surface\"}], \"table\": [{\"cells\": {\"fill\": {\"color\": \"#506784\"}, \"line\": {\"color\": \"rgb(17,17,17)\"}}, \"header\": {\"fill\": {\"color\": \"#2a3f5f\"}, \"line\": {\"color\": \"rgb(17,17,17)\"}}, \"type\": \"table\"}]}, \"layout\": {\"annotationdefaults\": {\"arrowcolor\": \"#f2f5fa\", \"arrowhead\": 0, \"arrowwidth\": 1}, \"autotypenumbers\": \"strict\", \"coloraxis\": {\"colorbar\": {\"outlinewidth\": 0, \"ticks\": \"\"}}, \"colorscale\": {\"diverging\": [[0, \"#8e0152\"], [0.1, \"#c51b7d\"], [0.2, \"#de77ae\"], [0.3, \"#f1b6da\"], [0.4, \"#fde0ef\"], [0.5, \"#f7f7f7\"], [0.6, \"#e6f5d0\"], [0.7, \"#b8e186\"], [0.8, \"#7fbc41\"], [0.9, \"#4d9221\"], [1, \"#276419\"]], \"sequential\": [[0.0, \"#0d0887\"], [0.1111111111111111, \"#46039f\"], [0.2222222222222222, \"#7201a8\"], [0.3333333333333333, \"#9c179e\"], [0.4444444444444444, \"#bd3786\"], [0.5555555555555556, \"#d8576b\"], [0.6666666666666666, \"#ed7953\"], [0.7777777777777778, \"#fb9f3a\"], [0.8888888888888888, \"#fdca26\"], [1.0, \"#f0f921\"]], \"sequentialminus\": [[0.0, \"#0d0887\"], [0.1111111111111111, \"#46039f\"], [0.2222222222222222, \"#7201a8\"], [0.3333333333333333, \"#9c179e\"], [0.4444444444444444, \"#bd3786\"], [0.5555555555555556, \"#d8576b\"], [0.6666666666666666, \"#ed7953\"], [0.7777777777777778, \"#fb9f3a\"], [0.8888888888888888, \"#fdca26\"], [1.0, \"#f0f921\"]]}, \"colorway\": [\"#636efa\", \"#EF553B\", \"#00cc96\", \"#ab63fa\", \"#FFA15A\", \"#19d3f3\", \"#FF6692\", \"#B6E880\", \"#FF97FF\", \"#FECB52\"], \"font\": {\"color\": \"#f2f5fa\"}, \"geo\": {\"bgcolor\": \"rgb(17,17,17)\", \"lakecolor\": \"rgb(17,17,17)\", \"landcolor\": \"rgb(17,17,17)\", \"showlakes\": true, \"showland\": true, \"subunitcolor\": \"#506784\"}, \"hoverlabel\": {\"align\": \"left\"}, \"hovermode\": \"closest\", \"mapbox\": {\"style\": \"dark\"}, \"paper_bgcolor\": \"rgb(17,17,17)\", \"plot_bgcolor\": \"rgb(17,17,17)\", \"polar\": {\"angularaxis\": {\"gridcolor\": \"#506784\", \"linecolor\": \"#506784\", \"ticks\": \"\"}, \"bgcolor\": \"rgb(17,17,17)\", \"radialaxis\": {\"gridcolor\": \"#506784\", \"linecolor\": \"#506784\", \"ticks\": \"\"}}, \"scene\": {\"xaxis\": {\"backgroundcolor\": \"rgb(17,17,17)\", \"gridcolor\": \"#506784\", \"gridwidth\": 2, \"linecolor\": \"#506784\", \"showbackground\": true, \"ticks\": \"\", \"zerolinecolor\": \"#C8D4E3\"}, \"yaxis\": {\"backgroundcolor\": \"rgb(17,17,17)\", \"gridcolor\": \"#506784\", \"gridwidth\": 2, \"linecolor\": \"#506784\", \"showbackground\": true, \"ticks\": \"\", \"zerolinecolor\": \"#C8D4E3\"}, \"zaxis\": {\"backgroundcolor\": \"rgb(17,17,17)\", \"gridcolor\": \"#506784\", \"gridwidth\": 2, \"linecolor\": \"#506784\", \"showbackground\": true, \"ticks\": \"\", \"zerolinecolor\": \"#C8D4E3\"}}, \"shapedefaults\": {\"line\": {\"color\": \"#f2f5fa\"}}, \"sliderdefaults\": {\"bgcolor\": \"#C8D4E3\", \"bordercolor\": \"rgb(17,17,17)\", \"borderwidth\": 1, \"tickwidth\": 0}, \"ternary\": {\"aaxis\": {\"gridcolor\": \"#506784\", \"linecolor\": \"#506784\", \"ticks\": \"\"}, \"baxis\": {\"gridcolor\": \"#506784\", \"linecolor\": \"#506784\", \"ticks\": \"\"}, \"bgcolor\": \"rgb(17,17,17)\", \"caxis\": {\"gridcolor\": \"#506784\", \"linecolor\": \"#506784\", \"ticks\": \"\"}}, \"title\": {\"x\": 0.05}, \"updatemenudefaults\": {\"bgcolor\": \"#506784\", \"borderwidth\": 0}, \"xaxis\": {\"automargin\": true, \"gridcolor\": \"#283442\", \"linecolor\": \"#506784\", \"ticks\": \"\", \"title\": {\"standoff\": 15}, \"zerolinecolor\": \"#283442\", \"zerolinewidth\": 2}, \"yaxis\": {\"automargin\": true, \"gridcolor\": \"#283442\", \"linecolor\": \"#506784\", \"ticks\": \"\", \"title\": {\"standoff\": 15}, \"zerolinecolor\": \"#283442\", \"zerolinewidth\": 2}}}, \"title\": {\"text\": \"UMBC's in-state tuition growth rate over time from 1996 to 2019\"}, \"xaxis\": {\"anchor\": \"y\", \"domain\": [0.0, 1.0], \"title\": {\"text\": \"Year\"}}, \"yaxis\": {\"anchor\": \"x\", \"domain\": [0.0, 1.0], \"title\": {\"text\": \"Percentage Change\"}}},                        {\"responsive\": true}                    ).then(function(){\n                            \nvar gd = document.getElementById('cadaeece-7973-48fb-a9db-3d4b9da42890');\nvar x = new MutationObserver(function (mutations, observer) {{\n        var display = window.getComputedStyle(gd).display;\n        if (!display || display === 'none') {{\n            console.log([gd, 'removed!']);\n            Plotly.purge(gd);\n            observer.disconnect();\n        }}\n}});\n\n// Listen for the removal of the full notebook cells\nvar notebookContainer = gd.closest('#notebook-container');\nif (notebookContainer) {{\n    x.observe(notebookContainer, {childList: true});\n}}\n\n// Listen for the clearing of the current output cell\nvar outputEl = gd.closest('.output');\nif (outputEl) {{\n    x.observe(outputEl, {childList: true});\n}}\n\n                        })                };                            </script>        </div>\n</body>\n</html>"
     },
     "metadata": {},
     "output_type": "display_data"
    }
   ]
  },
  {
   "cell_type": "code",
   "metadata": {
    "tags": [],
    "cell_id": "00059-4ce5ce55-70d7-4500-9eba-33490268ada2",
    "deepnote_to_be_reexecuted": false,
    "source_hash": "3ad18a47",
    "execution_start": 1620441977697,
    "execution_millis": 132,
    "deepnote_cell_type": "code"
   },
   "source": "#Use plotly express to visualize a line chart:\nfig = px.line(frame2, x='YEAR', y='PCT_CHANGE')\nfig.update_layout(\n    title=\"UMBC's in-state tuition growth rate over time from 1996 to 2019\",\n    xaxis_title=\"Year\",\n    yaxis_title=\"Percentage Change\"\n    )\n#fig.update_xaxes(categoryorder=\"total ascending\") don't use this, because we have just sorted the years\nfig.show()",
   "execution_count": 36,
   "outputs": [
    {
     "data": {
      "text/html": "<html>\n<head><meta charset=\"utf-8\" /></head>\n<body>\n    <div>            <script src=\"https://cdnjs.cloudflare.com/ajax/libs/mathjax/2.7.5/MathJax.js?config=TeX-AMS-MML_SVG\"></script><script type=\"text/javascript\">if (window.MathJax) {MathJax.Hub.Config({SVG: {font: \"STIX-Web\"}});}</script>                <script type=\"text/javascript\">window.PlotlyConfig = {MathJaxConfig: 'local'};</script>\n        <script src=\"https://cdn.plot.ly/plotly-latest.min.js\"></script>                <div id=\"6abce2d8-18ef-4e2b-ae6e-ab89f1cf05af\" class=\"plotly-graph-div\" style=\"height:525px; width:100%;\"></div>            <script type=\"text/javascript\">                                    window.PLOTLYENV=window.PLOTLYENV || {};                                    if (document.getElementById(\"6abce2d8-18ef-4e2b-ae6e-ab89f1cf05af\")) {                    Plotly.newPlot(                        \"6abce2d8-18ef-4e2b-ae6e-ab89f1cf05af\",                        [{\"hovertemplate\": \"YEAR=%{x}<br>PCT_CHANGE=%{y}<extra></extra>\", \"legendgroup\": \"\", \"line\": {\"color\": \"#636efa\", \"dash\": \"solid\"}, \"mode\": \"lines\", \"name\": \"\", \"orientation\": \"v\", \"showlegend\": false, \"type\": \"scatter\", \"x\": [\"1996\", \"1997\", \"1998\", \"1999\", \"2000\", \"2001\", \"2002\", \"2003\", \"2004\", \"2005\", \"2006\", \"2007\", \"2008\", \"2009\", \"2010\", \"2011\", \"2012\", \"2013\", \"2014\", \"2015\", \"2016\", \"2017\", \"2018\"], \"xaxis\": \"x\", \"y\": [null, null, null, null, 7.65, 7.65, 16.13, 8.55, 6.23, 1.2, 1.0, 0.83, 1.05, 3.37, 3.23, 3.14, 3.11, 3.14, 5.99, 2.34, 2.25, 2.26, null], \"yaxis\": \"y\"}],                        {\"legend\": {\"tracegroupgap\": 0}, \"margin\": {\"t\": 60}, \"template\": {\"data\": {\"bar\": [{\"error_x\": {\"color\": \"#f2f5fa\"}, \"error_y\": {\"color\": \"#f2f5fa\"}, \"marker\": {\"line\": {\"color\": \"rgb(17,17,17)\", \"width\": 0.5}}, \"type\": \"bar\"}], \"barpolar\": [{\"marker\": {\"line\": {\"color\": \"rgb(17,17,17)\", \"width\": 0.5}}, \"type\": \"barpolar\"}], \"carpet\": [{\"aaxis\": {\"endlinecolor\": \"#A2B1C6\", \"gridcolor\": \"#506784\", \"linecolor\": \"#506784\", \"minorgridcolor\": \"#506784\", \"startlinecolor\": \"#A2B1C6\"}, \"baxis\": {\"endlinecolor\": \"#A2B1C6\", \"gridcolor\": \"#506784\", \"linecolor\": \"#506784\", \"minorgridcolor\": \"#506784\", \"startlinecolor\": \"#A2B1C6\"}, \"type\": \"carpet\"}], \"choropleth\": [{\"colorbar\": {\"outlinewidth\": 0, \"ticks\": \"\"}, \"type\": \"choropleth\"}], \"contour\": [{\"colorbar\": {\"outlinewidth\": 0, \"ticks\": \"\"}, \"colorscale\": [[0.0, \"#0d0887\"], [0.1111111111111111, \"#46039f\"], [0.2222222222222222, \"#7201a8\"], [0.3333333333333333, \"#9c179e\"], [0.4444444444444444, \"#bd3786\"], [0.5555555555555556, \"#d8576b\"], [0.6666666666666666, \"#ed7953\"], [0.7777777777777778, \"#fb9f3a\"], [0.8888888888888888, \"#fdca26\"], [1.0, \"#f0f921\"]], \"type\": \"contour\"}], \"contourcarpet\": [{\"colorbar\": {\"outlinewidth\": 0, \"ticks\": \"\"}, \"type\": \"contourcarpet\"}], \"heatmap\": [{\"colorbar\": {\"outlinewidth\": 0, \"ticks\": \"\"}, \"colorscale\": [[0.0, \"#0d0887\"], [0.1111111111111111, \"#46039f\"], [0.2222222222222222, \"#7201a8\"], [0.3333333333333333, \"#9c179e\"], [0.4444444444444444, \"#bd3786\"], [0.5555555555555556, \"#d8576b\"], [0.6666666666666666, \"#ed7953\"], [0.7777777777777778, \"#fb9f3a\"], [0.8888888888888888, \"#fdca26\"], [1.0, \"#f0f921\"]], \"type\": \"heatmap\"}], \"heatmapgl\": [{\"colorbar\": {\"outlinewidth\": 0, \"ticks\": \"\"}, \"colorscale\": [[0.0, \"#0d0887\"], [0.1111111111111111, \"#46039f\"], [0.2222222222222222, \"#7201a8\"], [0.3333333333333333, \"#9c179e\"], [0.4444444444444444, \"#bd3786\"], [0.5555555555555556, \"#d8576b\"], [0.6666666666666666, \"#ed7953\"], [0.7777777777777778, \"#fb9f3a\"], [0.8888888888888888, \"#fdca26\"], [1.0, \"#f0f921\"]], \"type\": \"heatmapgl\"}], \"histogram\": [{\"marker\": {\"colorbar\": {\"outlinewidth\": 0, \"ticks\": \"\"}}, \"type\": \"histogram\"}], \"histogram2d\": [{\"colorbar\": {\"outlinewidth\": 0, \"ticks\": \"\"}, \"colorscale\": [[0.0, \"#0d0887\"], [0.1111111111111111, \"#46039f\"], [0.2222222222222222, \"#7201a8\"], [0.3333333333333333, \"#9c179e\"], [0.4444444444444444, \"#bd3786\"], [0.5555555555555556, \"#d8576b\"], [0.6666666666666666, \"#ed7953\"], [0.7777777777777778, \"#fb9f3a\"], [0.8888888888888888, \"#fdca26\"], [1.0, \"#f0f921\"]], \"type\": \"histogram2d\"}], \"histogram2dcontour\": [{\"colorbar\": {\"outlinewidth\": 0, \"ticks\": \"\"}, \"colorscale\": [[0.0, \"#0d0887\"], [0.1111111111111111, \"#46039f\"], [0.2222222222222222, \"#7201a8\"], [0.3333333333333333, \"#9c179e\"], [0.4444444444444444, \"#bd3786\"], [0.5555555555555556, \"#d8576b\"], [0.6666666666666666, \"#ed7953\"], [0.7777777777777778, \"#fb9f3a\"], [0.8888888888888888, \"#fdca26\"], [1.0, \"#f0f921\"]], \"type\": \"histogram2dcontour\"}], \"mesh3d\": [{\"colorbar\": {\"outlinewidth\": 0, \"ticks\": \"\"}, \"type\": \"mesh3d\"}], \"parcoords\": [{\"line\": {\"colorbar\": {\"outlinewidth\": 0, \"ticks\": \"\"}}, \"type\": \"parcoords\"}], \"pie\": [{\"automargin\": true, \"type\": \"pie\"}], \"scatter\": [{\"marker\": {\"line\": {\"color\": \"#283442\"}}, \"type\": \"scatter\"}], \"scatter3d\": [{\"line\": {\"colorbar\": {\"outlinewidth\": 0, \"ticks\": \"\"}}, \"marker\": {\"colorbar\": {\"outlinewidth\": 0, \"ticks\": \"\"}}, \"type\": \"scatter3d\"}], \"scattercarpet\": [{\"marker\": {\"colorbar\": {\"outlinewidth\": 0, \"ticks\": \"\"}}, \"type\": \"scattercarpet\"}], \"scattergeo\": [{\"marker\": {\"colorbar\": {\"outlinewidth\": 0, \"ticks\": \"\"}}, \"type\": \"scattergeo\"}], \"scattergl\": [{\"marker\": {\"line\": {\"color\": \"#283442\"}}, \"type\": \"scattergl\"}], \"scattermapbox\": [{\"marker\": {\"colorbar\": {\"outlinewidth\": 0, \"ticks\": \"\"}}, \"type\": \"scattermapbox\"}], \"scatterpolar\": [{\"marker\": {\"colorbar\": {\"outlinewidth\": 0, \"ticks\": \"\"}}, \"type\": \"scatterpolar\"}], \"scatterpolargl\": [{\"marker\": {\"colorbar\": {\"outlinewidth\": 0, \"ticks\": \"\"}}, \"type\": \"scatterpolargl\"}], \"scatterternary\": [{\"marker\": {\"colorbar\": {\"outlinewidth\": 0, \"ticks\": \"\"}}, \"type\": \"scatterternary\"}], \"surface\": [{\"colorbar\": {\"outlinewidth\": 0, \"ticks\": \"\"}, \"colorscale\": [[0.0, \"#0d0887\"], [0.1111111111111111, \"#46039f\"], [0.2222222222222222, \"#7201a8\"], [0.3333333333333333, \"#9c179e\"], [0.4444444444444444, \"#bd3786\"], [0.5555555555555556, \"#d8576b\"], [0.6666666666666666, \"#ed7953\"], [0.7777777777777778, \"#fb9f3a\"], [0.8888888888888888, \"#fdca26\"], [1.0, \"#f0f921\"]], \"type\": \"surface\"}], \"table\": [{\"cells\": {\"fill\": {\"color\": \"#506784\"}, \"line\": {\"color\": \"rgb(17,17,17)\"}}, \"header\": {\"fill\": {\"color\": \"#2a3f5f\"}, \"line\": {\"color\": \"rgb(17,17,17)\"}}, \"type\": \"table\"}]}, \"layout\": {\"annotationdefaults\": {\"arrowcolor\": \"#f2f5fa\", \"arrowhead\": 0, \"arrowwidth\": 1}, \"autotypenumbers\": \"strict\", \"coloraxis\": {\"colorbar\": {\"outlinewidth\": 0, \"ticks\": \"\"}}, \"colorscale\": {\"diverging\": [[0, \"#8e0152\"], [0.1, \"#c51b7d\"], [0.2, \"#de77ae\"], [0.3, \"#f1b6da\"], [0.4, \"#fde0ef\"], [0.5, \"#f7f7f7\"], [0.6, \"#e6f5d0\"], [0.7, \"#b8e186\"], [0.8, \"#7fbc41\"], [0.9, \"#4d9221\"], [1, \"#276419\"]], \"sequential\": [[0.0, \"#0d0887\"], [0.1111111111111111, \"#46039f\"], [0.2222222222222222, \"#7201a8\"], [0.3333333333333333, \"#9c179e\"], [0.4444444444444444, \"#bd3786\"], [0.5555555555555556, \"#d8576b\"], [0.6666666666666666, \"#ed7953\"], [0.7777777777777778, \"#fb9f3a\"], [0.8888888888888888, \"#fdca26\"], [1.0, \"#f0f921\"]], \"sequentialminus\": [[0.0, \"#0d0887\"], [0.1111111111111111, \"#46039f\"], [0.2222222222222222, \"#7201a8\"], [0.3333333333333333, \"#9c179e\"], [0.4444444444444444, \"#bd3786\"], [0.5555555555555556, \"#d8576b\"], [0.6666666666666666, \"#ed7953\"], [0.7777777777777778, \"#fb9f3a\"], [0.8888888888888888, \"#fdca26\"], [1.0, \"#f0f921\"]]}, \"colorway\": [\"#636efa\", \"#EF553B\", \"#00cc96\", \"#ab63fa\", \"#FFA15A\", \"#19d3f3\", \"#FF6692\", \"#B6E880\", \"#FF97FF\", \"#FECB52\"], \"font\": {\"color\": \"#f2f5fa\"}, \"geo\": {\"bgcolor\": \"rgb(17,17,17)\", \"lakecolor\": \"rgb(17,17,17)\", \"landcolor\": \"rgb(17,17,17)\", \"showlakes\": true, \"showland\": true, \"subunitcolor\": \"#506784\"}, \"hoverlabel\": {\"align\": \"left\"}, \"hovermode\": \"closest\", \"mapbox\": {\"style\": \"dark\"}, \"paper_bgcolor\": \"rgb(17,17,17)\", \"plot_bgcolor\": \"rgb(17,17,17)\", \"polar\": {\"angularaxis\": {\"gridcolor\": \"#506784\", \"linecolor\": \"#506784\", \"ticks\": \"\"}, \"bgcolor\": \"rgb(17,17,17)\", \"radialaxis\": {\"gridcolor\": \"#506784\", \"linecolor\": \"#506784\", \"ticks\": \"\"}}, \"scene\": {\"xaxis\": {\"backgroundcolor\": \"rgb(17,17,17)\", \"gridcolor\": \"#506784\", \"gridwidth\": 2, \"linecolor\": \"#506784\", \"showbackground\": true, \"ticks\": \"\", \"zerolinecolor\": \"#C8D4E3\"}, \"yaxis\": {\"backgroundcolor\": \"rgb(17,17,17)\", \"gridcolor\": \"#506784\", \"gridwidth\": 2, \"linecolor\": \"#506784\", \"showbackground\": true, \"ticks\": \"\", \"zerolinecolor\": \"#C8D4E3\"}, \"zaxis\": {\"backgroundcolor\": \"rgb(17,17,17)\", \"gridcolor\": \"#506784\", \"gridwidth\": 2, \"linecolor\": \"#506784\", \"showbackground\": true, \"ticks\": \"\", \"zerolinecolor\": \"#C8D4E3\"}}, \"shapedefaults\": {\"line\": {\"color\": \"#f2f5fa\"}}, \"sliderdefaults\": {\"bgcolor\": \"#C8D4E3\", \"bordercolor\": \"rgb(17,17,17)\", \"borderwidth\": 1, \"tickwidth\": 0}, \"ternary\": {\"aaxis\": {\"gridcolor\": \"#506784\", \"linecolor\": \"#506784\", \"ticks\": \"\"}, \"baxis\": {\"gridcolor\": \"#506784\", \"linecolor\": \"#506784\", \"ticks\": \"\"}, \"bgcolor\": \"rgb(17,17,17)\", \"caxis\": {\"gridcolor\": \"#506784\", \"linecolor\": \"#506784\", \"ticks\": \"\"}}, \"title\": {\"x\": 0.05}, \"updatemenudefaults\": {\"bgcolor\": \"#506784\", \"borderwidth\": 0}, \"xaxis\": {\"automargin\": true, \"gridcolor\": \"#283442\", \"linecolor\": \"#506784\", \"ticks\": \"\", \"title\": {\"standoff\": 15}, \"zerolinecolor\": \"#283442\", \"zerolinewidth\": 2}, \"yaxis\": {\"automargin\": true, \"gridcolor\": \"#283442\", \"linecolor\": \"#506784\", \"ticks\": \"\", \"title\": {\"standoff\": 15}, \"zerolinecolor\": \"#283442\", \"zerolinewidth\": 2}}}, \"title\": {\"text\": \"UMBC's in-state tuition growth rate over time from 1996 to 2019\"}, \"xaxis\": {\"anchor\": \"y\", \"domain\": [0.0, 1.0], \"title\": {\"text\": \"Year\"}}, \"yaxis\": {\"anchor\": \"x\", \"domain\": [0.0, 1.0], \"title\": {\"text\": \"Percentage Change\"}}},                        {\"responsive\": true}                    ).then(function(){\n                            \nvar gd = document.getElementById('6abce2d8-18ef-4e2b-ae6e-ab89f1cf05af');\nvar x = new MutationObserver(function (mutations, observer) {{\n        var display = window.getComputedStyle(gd).display;\n        if (!display || display === 'none') {{\n            console.log([gd, 'removed!']);\n            Plotly.purge(gd);\n            observer.disconnect();\n        }}\n}});\n\n// Listen for the removal of the full notebook cells\nvar notebookContainer = gd.closest('#notebook-container');\nif (notebookContainer) {{\n    x.observe(notebookContainer, {childList: true});\n}}\n\n// Listen for the clearing of the current output cell\nvar outputEl = gd.closest('.output');\nif (outputEl) {{\n    x.observe(outputEl, {childList: true});\n}}\n\n                        })                };                            </script>        </div>\n</body>\n</html>"
     },
     "metadata": {},
     "output_type": "display_data"
    }
   ]
  },
  {
   "cell_type": "markdown",
   "source": "## 12 - Create a function that can be reused for any college.\n### This function takes a list of tuitions and returns a list of percentage changes year over year.\n### This function assumes that the list being passed is already in ascending order.\n### Methodology:\n### - This is actually 3 separate functions, and a 4th function that calls on these 3 other functions. ",
   "metadata": {
    "tags": [],
    "cell_id": "00060-60038cdb-befe-4d00-8c33-82db104057af",
    "deepnote_cell_type": "markdown"
   }
  },
  {
   "cell_type": "code",
   "metadata": {
    "tags": [],
    "cell_id": "00062-52695b8a-bc4e-47c6-a3ab-9e892878aa54",
    "deepnote_to_be_reexecuted": false,
    "source_hash": "8a62f478",
    "execution_start": 1620441977826,
    "execution_millis": 14,
    "deepnote_cell_type": "code"
   },
   "source": "#import math <--- already imported in step 11\n\n#there are nan values for the period 1996 - 1999\n#cannot perform operations on nan values, so we temporarily remove them\ndef remove_nan(nan_list):\n    for x in nan_list:\n        if math.isnan(x):\n            nan_list.remove(x) #removes NaN values\n        else:\n            int(x) #turns TUITIONFEE_IN into integer type\n    return nan_list\n\n#calc percent change from the valid years\ndef calc_pct_change(valid_list):\n    #pct_change = [100.0 * a1 / a2 - 100 for a1, a2 in zip(tuition[1:], valid_list)] <--- will also work \n    pct_change = [(a1 - a2) / a2 * 100 for a1, a2 in zip(valid_list[1:], valid_list)]\n    pct_change = [round(num, 2) for num in pct_change]\n    return pct_change\n\n#after our calculations, we need to add the nan values back in\ndef insert_nan(calc_list):\n    for x in range(0,4):\n        calc_list.insert(0, None) #REALLY IMPORTANT: None is python's version of a null value \n    calc_list.append(None) #This is for the last year (because we cannot calculate this year unless we have a following year)\n    return calc_list\n\n#define another function that will call on all three of these functions\ndef calc_pct_list(tuition):\n    tuition = remove_nan(tuition) #remove nan values \n    tuition = calc_pct_change(tuition) #calculate pct change\n    tuition = insert_nan(tuition) #add nan values back in\n    return tuition   ",
   "execution_count": 37,
   "outputs": []
  },
  {
   "cell_type": "code",
   "metadata": {
    "tags": [],
    "cell_id": "00062-31b107f8-ab6e-4e88-88b0-f6e6ccab626c",
    "deepnote_to_be_reexecuted": false,
    "source_hash": "3c3c0ce8",
    "execution_start": 1620441977842,
    "execution_millis": 9,
    "deepnote_cell_type": "code"
   },
   "source": "print(calc_pct_list(tuition)) #this is the same as the final cleansed pct change list of umbc: pct_change\nprint(pct_change) #this is the list we achieved with piecemeal methods",
   "execution_count": 38,
   "outputs": [
    {
     "name": "stdout",
     "text": "[None, None, None, None, 7.65, 7.65, 16.13, 8.55, 6.23, 1.2, 1.0, 0.83, 1.05, 3.37, 3.23, 3.14, 3.11, 3.14, 5.99, 2.34, 2.25, 2.26, None]\n[None, None, None, None, 7.65, 7.65, 16.13, 8.55, 6.23, 1.2, 1.0, 0.83, 1.05, 3.37, 3.23, 3.14, 3.11, 3.14, 5.99, 2.34, 2.25, 2.26, None]\n",
     "output_type": "stream"
    }
   ]
  },
  {
   "cell_type": "markdown",
   "source": "## 13 - Filter/query the dataframe to retrieve only rows that belong to JHU.\n### Save the JHU data to a new data frame. \n### Use a new variable, so that the original data frame is still available for later use.",
   "metadata": {
    "tags": [],
    "cell_id": "00062-e9e4e6b2-6427-4701-81aa-87e2ddcc06b3",
    "deepnote_cell_type": "markdown"
   }
  },
  {
   "cell_type": "code",
   "metadata": {
    "tags": [],
    "cell_id": "00063-9c24ad70-0962-4a68-8507-3ba4f1671967",
    "deepnote_to_be_reexecuted": false,
    "source_hash": "252996ba",
    "execution_start": 1620441977902,
    "execution_millis": 207,
    "output_cleared": false,
    "deepnote_cell_type": "code"
   },
   "source": "# We know we're looking for jhu, but we do not know exactly how this data set named jhu\n# So we must figure out the precise name\n# Here we search for a substring \"Johns Hopkins\" in the column INSTNM to find the precise name:\nframe[frame['INSTNM'].str.contains(\"Johns Hopkins\")]\n\n# Then, we can use the precise name to create another data frame:\njhu = [\"Johns Hopkins University\"] #isin() function will only take list arguments \nframe3 = frame[frame.INSTNM.isin(jhu)] \nframe3",
   "execution_count": 39,
   "outputs": [
    {
     "output_type": "execute_result",
     "execution_count": 39,
     "data": {
      "application/vnd.deepnote.dataframe.v2+json": {
       "row_count": 23,
       "column_count": 7,
       "columns": [
        {
         "name": "YEAR",
         "dtype": "object",
         "stats": {
          "unique_count": 23,
          "nan_count": 0,
          "categories": [
           {
            "name": "2002",
            "count": 1
           },
           {
            "name": "1997",
            "count": 1
           },
           {
            "name": "21 others",
            "count": 21
           }
          ]
         }
        },
        {
         "name": "UNITID",
         "dtype": "int64",
         "stats": {
          "unique_count": 1,
          "nan_count": 0,
          "min": "162928",
          "max": "162928",
          "histogram": [
           {
            "bin_start": 162927.5,
            "bin_end": 162927.6,
            "count": 0
           },
           {
            "bin_start": 162927.6,
            "bin_end": 162927.7,
            "count": 0
           },
           {
            "bin_start": 162927.7,
            "bin_end": 162927.8,
            "count": 0
           },
           {
            "bin_start": 162927.8,
            "bin_end": 162927.9,
            "count": 0
           },
           {
            "bin_start": 162927.9,
            "bin_end": 162928,
            "count": 0
           },
           {
            "bin_start": 162928,
            "bin_end": 162928.1,
            "count": 23
           },
           {
            "bin_start": 162928.1,
            "bin_end": 162928.2,
            "count": 0
           },
           {
            "bin_start": 162928.2,
            "bin_end": 162928.3,
            "count": 0
           },
           {
            "bin_start": 162928.3,
            "bin_end": 162928.4,
            "count": 0
           },
           {
            "bin_start": 162928.4,
            "bin_end": 162928.5,
            "count": 0
           }
          ]
         }
        },
        {
         "name": "INSTNM",
         "dtype": "object",
         "stats": {
          "unique_count": 1,
          "nan_count": 0,
          "categories": [
           {
            "name": "Johns Hopkins University",
            "count": 23
           }
          ]
         }
        },
        {
         "name": "STABBR",
         "dtype": "object",
         "stats": {
          "unique_count": 1,
          "nan_count": 0,
          "categories": [
           {
            "name": "MD",
            "count": 23
           }
          ]
         }
        },
        {
         "name": "REGION",
         "dtype": "float64",
         "stats": {
          "unique_count": 1,
          "nan_count": 0,
          "min": "2.0",
          "max": "2.0",
          "histogram": [
           {
            "bin_start": 1.5,
            "bin_end": 1.6,
            "count": 0
           },
           {
            "bin_start": 1.6,
            "bin_end": 1.7,
            "count": 0
           },
           {
            "bin_start": 1.7,
            "bin_end": 1.8,
            "count": 0
           },
           {
            "bin_start": 1.8,
            "bin_end": 1.9,
            "count": 0
           },
           {
            "bin_start": 1.9,
            "bin_end": 2,
            "count": 0
           },
           {
            "bin_start": 2,
            "bin_end": 2.1,
            "count": 23
           },
           {
            "bin_start": 2.1,
            "bin_end": 2.2,
            "count": 0
           },
           {
            "bin_start": 2.2,
            "bin_end": 2.3,
            "count": 0
           },
           {
            "bin_start": 2.3,
            "bin_end": 2.4,
            "count": 0
           },
           {
            "bin_start": 2.4,
            "bin_end": 2.5,
            "count": 0
           }
          ]
         }
        },
        {
         "name": "ADM_RATE",
         "dtype": "float64",
         "stats": {
          "unique_count": 18,
          "nan_count": 5,
          "min": "0.1148",
          "max": "0.3509",
          "histogram": [
           {
            "bin_start": 0.1148,
            "bin_end": 0.13841,
            "count": 3
           },
           {
            "bin_start": 0.13841,
            "bin_end": 0.16202,
            "count": 2
           },
           {
            "bin_start": 0.16202,
            "bin_end": 0.18563000000000002,
            "count": 2
           },
           {
            "bin_start": 0.18563000000000002,
            "bin_end": 0.20923999999999998,
            "count": 1
           },
           {
            "bin_start": 0.20923999999999998,
            "bin_end": 0.23285,
            "count": 1
           },
           {
            "bin_start": 0.23285,
            "bin_end": 0.25646,
            "count": 0
           },
           {
            "bin_start": 0.25646,
            "bin_end": 0.28007,
            "count": 4
           },
           {
            "bin_start": 0.28007,
            "bin_end": 0.30368,
            "count": 0
           },
           {
            "bin_start": 0.30368,
            "bin_end": 0.32728999999999997,
            "count": 2
           },
           {
            "bin_start": 0.32728999999999997,
            "bin_end": 0.3509,
            "count": 3
           }
          ]
         }
        },
        {
         "name": "TUITIONFEE_IN",
         "dtype": "float64",
         "stats": {
          "unique_count": 19,
          "nan_count": 4,
          "min": "24930.0",
          "max": "53740.0",
          "histogram": [
           {
            "bin_start": 24930,
            "bin_end": 27811,
            "count": 3
           },
           {
            "bin_start": 27811,
            "bin_end": 30692,
            "count": 2
           },
           {
            "bin_start": 30692,
            "bin_end": 33573,
            "count": 1
           },
           {
            "bin_start": 33573,
            "bin_end": 36454,
            "count": 2
           },
           {
            "bin_start": 36454,
            "bin_end": 39335,
            "count": 2
           },
           {
            "bin_start": 39335,
            "bin_end": 42216,
            "count": 1
           },
           {
            "bin_start": 42216,
            "bin_end": 45097,
            "count": 2
           },
           {
            "bin_start": 45097,
            "bin_end": 47978,
            "count": 2
           },
           {
            "bin_start": 47978,
            "bin_end": 50859,
            "count": 2
           },
           {
            "bin_start": 50859,
            "bin_end": 53740,
            "count": 2
           }
          ]
         }
        },
        {
         "name": "_deepnote_index_column",
         "dtype": "int64"
        }
       ],
       "rows_top": [
        {
         "YEAR": "2002",
         "UNITID": 162928,
         "INSTNM": "Johns Hopkins University",
         "STABBR": "MD",
         "REGION": 2,
         "ADM_RATE": "0.3506",
         "TUITIONFEE_IN": "27390.0",
         "_deepnote_index_column": 1884
        },
        {
         "YEAR": "1997",
         "UNITID": 162928,
         "INSTNM": "Johns Hopkins University",
         "STABBR": "MD",
         "REGION": 2,
         "ADM_RATE": "nan",
         "TUITIONFEE_IN": "nan",
         "_deepnote_index_column": 8691
        },
        {
         "YEAR": "2015",
         "UNITID": 162928,
         "INSTNM": "Johns Hopkins University",
         "STABBR": "MD",
         "REGION": 2,
         "ADM_RATE": "0.1412",
         "TUITIONFEE_IN": "48710.0",
         "_deepnote_index_column": 15134
        },
        {
         "YEAR": "2013",
         "UNITID": 162928,
         "INSTNM": "Johns Hopkins University",
         "STABBR": "MD",
         "REGION": 2,
         "ADM_RATE": "0.1813",
         "TUITIONFEE_IN": "45470.0",
         "_deepnote_index_column": 22874
        },
        {
         "YEAR": "1996",
         "UNITID": 162928,
         "INSTNM": "Johns Hopkins University",
         "STABBR": "MD",
         "REGION": 2,
         "ADM_RATE": "nan",
         "TUITIONFEE_IN": "nan",
         "_deepnote_index_column": 31260
        },
        {
         "YEAR": "2000",
         "UNITID": 162928,
         "INSTNM": "Johns Hopkins University",
         "STABBR": "MD",
         "REGION": 2,
         "ADM_RATE": "nan",
         "TUITIONFEE_IN": "24930.0",
         "_deepnote_index_column": 38045
        },
        {
         "YEAR": "2011",
         "UNITID": 162928,
         "INSTNM": "Johns Hopkins University",
         "STABBR": "MD",
         "REGION": 2,
         "ADM_RATE": "0.194",
         "TUITIONFEE_IN": "42280.0",
         "_deepnote_index_column": 44469
        },
        {
         "YEAR": "2007",
         "UNITID": 162928,
         "INSTNM": "Johns Hopkins University",
         "STABBR": "MD",
         "REGION": 2,
         "ADM_RATE": "0.2571",
         "TUITIONFEE_IN": "35900.0",
         "_deepnote_index_column": 52300
        },
        {
         "YEAR": "2004",
         "UNITID": 162928,
         "INSTNM": "Johns Hopkins University",
         "STABBR": "MD",
         "REGION": 2,
         "ADM_RATE": "0.3071",
         "TUITIONFEE_IN": "30140.0",
         "_deepnote_index_column": 59322
        },
        {
         "YEAR": "2006",
         "UNITID": 162928,
         "INSTNM": "Johns Hopkins University",
         "STABBR": "MD",
         "REGION": 2,
         "ADM_RATE": "0.2792",
         "TUITIONFEE_IN": "33900.0",
         "_deepnote_index_column": 66038
        },
        {
         "YEAR": "2018",
         "UNITID": 162928,
         "INSTNM": "Johns Hopkins University",
         "STABBR": "MD",
         "REGION": 2,
         "ADM_RATE": "0.1148",
         "TUITIONFEE_IN": "53740.0",
         "_deepnote_index_column": 72607
        },
        {
         "YEAR": "2012",
         "UNITID": 162928,
         "INSTNM": "Johns Hopkins University",
         "STABBR": "MD",
         "REGION": 2,
         "ADM_RATE": "0.1843",
         "TUITIONFEE_IN": "43390.0",
         "_deepnote_index_column": 79656
        },
        {
         "YEAR": "1999",
         "UNITID": 162928,
         "INSTNM": "Johns Hopkins University",
         "STABBR": "MD",
         "REGION": 2,
         "ADM_RATE": "nan",
         "TUITIONFEE_IN": "nan",
         "_deepnote_index_column": 87811
        },
        {
         "YEAR": "2005",
         "UNITID": 162928,
         "INSTNM": "Johns Hopkins University",
         "STABBR": "MD",
         "REGION": 2,
         "ADM_RATE": "0.3509",
         "TUITIONFEE_IN": "31620.0",
         "_deepnote_index_column": 94286
        },
        {
         "YEAR": "2003",
         "UNITID": 162928,
         "INSTNM": "Johns Hopkins University",
         "STABBR": "MD",
         "REGION": 2,
         "ADM_RATE": "0.306",
         "TUITIONFEE_IN": "28730.0",
         "_deepnote_index_column": 101238
        },
        {
         "YEAR": "1998",
         "UNITID": 162928,
         "INSTNM": "Johns Hopkins University",
         "STABBR": "MD",
         "REGION": 2,
         "ADM_RATE": "nan",
         "TUITIONFEE_IN": "nan",
         "_deepnote_index_column": 108019
        },
        {
         "YEAR": "2010",
         "UNITID": 162928,
         "INSTNM": "Johns Hopkins University",
         "STABBR": "MD",
         "REGION": 2,
         "ADM_RATE": "0.2225",
         "TUITIONFEE_IN": "40680.0",
         "_deepnote_index_column": 114451
        },
        {
         "YEAR": "2009",
         "UNITID": 162928,
         "INSTNM": "Johns Hopkins University",
         "STABBR": "MD",
         "REGION": 2,
         "ADM_RATE": "0.2782",
         "TUITIONFEE_IN": "39150.0",
         "_deepnote_index_column": 121956
        },
        {
         "YEAR": "2001",
         "UNITID": 162928,
         "INSTNM": "Johns Hopkins University",
         "STABBR": "MD",
         "REGION": 2,
         "ADM_RATE": "0.3431",
         "TUITIONFEE_IN": "26210.0",
         "_deepnote_index_column": 129341
        },
        {
         "YEAR": "2017",
         "UNITID": 162928,
         "INSTNM": "Johns Hopkins University",
         "STABBR": "MD",
         "REGION": 2,
         "ADM_RATE": "0.1254",
         "TUITIONFEE_IN": "52170.0",
         "_deepnote_index_column": 135633
        },
        {
         "YEAR": "2014",
         "UNITID": 162928,
         "INSTNM": "Johns Hopkins University",
         "STABBR": "MD",
         "REGION": 2,
         "ADM_RATE": "0.1608",
         "TUITIONFEE_IN": "47060.0",
         "_deepnote_index_column": 142875
        },
        {
         "YEAR": "2016",
         "UNITID": 162928,
         "INSTNM": "Johns Hopkins University",
         "STABBR": "MD",
         "REGION": 2,
         "ADM_RATE": "0.1284",
         "TUITIONFEE_IN": "50410.0",
         "_deepnote_index_column": 150541
        },
        {
         "YEAR": "2008",
         "UNITID": 162928,
         "INSTNM": "Johns Hopkins University",
         "STABBR": "MD",
         "REGION": 2,
         "ADM_RATE": "0.2609",
         "TUITIONFEE_IN": "37700.0",
         "_deepnote_index_column": 158036
        }
       ],
       "rows_bottom": null
      },
      "text/plain": "        YEAR  UNITID                    INSTNM STABBR  REGION  ADM_RATE  \\\n1884    2002  162928  Johns Hopkins University     MD     2.0    0.3506   \n8691    1997  162928  Johns Hopkins University     MD     2.0       NaN   \n15134   2015  162928  Johns Hopkins University     MD     2.0    0.1412   \n22874   2013  162928  Johns Hopkins University     MD     2.0    0.1813   \n31260   1996  162928  Johns Hopkins University     MD     2.0       NaN   \n38045   2000  162928  Johns Hopkins University     MD     2.0       NaN   \n44469   2011  162928  Johns Hopkins University     MD     2.0    0.1940   \n52300   2007  162928  Johns Hopkins University     MD     2.0    0.2571   \n59322   2004  162928  Johns Hopkins University     MD     2.0    0.3071   \n66038   2006  162928  Johns Hopkins University     MD     2.0    0.2792   \n72607   2018  162928  Johns Hopkins University     MD     2.0    0.1148   \n79656   2012  162928  Johns Hopkins University     MD     2.0    0.1843   \n87811   1999  162928  Johns Hopkins University     MD     2.0       NaN   \n94286   2005  162928  Johns Hopkins University     MD     2.0    0.3509   \n101238  2003  162928  Johns Hopkins University     MD     2.0    0.3060   \n108019  1998  162928  Johns Hopkins University     MD     2.0       NaN   \n114451  2010  162928  Johns Hopkins University     MD     2.0    0.2225   \n121956  2009  162928  Johns Hopkins University     MD     2.0    0.2782   \n129341  2001  162928  Johns Hopkins University     MD     2.0    0.3431   \n135633  2017  162928  Johns Hopkins University     MD     2.0    0.1254   \n142875  2014  162928  Johns Hopkins University     MD     2.0    0.1608   \n150541  2016  162928  Johns Hopkins University     MD     2.0    0.1284   \n158036  2008  162928  Johns Hopkins University     MD     2.0    0.2609   \n\n        TUITIONFEE_IN  \n1884          27390.0  \n8691              NaN  \n15134         48710.0  \n22874         45470.0  \n31260             NaN  \n38045         24930.0  \n44469         42280.0  \n52300         35900.0  \n59322         30140.0  \n66038         33900.0  \n72607         53740.0  \n79656         43390.0  \n87811             NaN  \n94286         31620.0  \n101238        28730.0  \n108019            NaN  \n114451        40680.0  \n121956        39150.0  \n129341        26210.0  \n135633        52170.0  \n142875        47060.0  \n150541        50410.0  \n158036        37700.0  ",
      "text/html": "<div>\n<style scoped>\n    .dataframe tbody tr th:only-of-type {\n        vertical-align: middle;\n    }\n\n    .dataframe tbody tr th {\n        vertical-align: top;\n    }\n\n    .dataframe thead th {\n        text-align: right;\n    }\n</style>\n<table border=\"1\" class=\"dataframe\">\n  <thead>\n    <tr style=\"text-align: right;\">\n      <th></th>\n      <th>YEAR</th>\n      <th>UNITID</th>\n      <th>INSTNM</th>\n      <th>STABBR</th>\n      <th>REGION</th>\n      <th>ADM_RATE</th>\n      <th>TUITIONFEE_IN</th>\n    </tr>\n  </thead>\n  <tbody>\n    <tr>\n      <th>1884</th>\n      <td>2002</td>\n      <td>162928</td>\n      <td>Johns Hopkins University</td>\n      <td>MD</td>\n      <td>2.0</td>\n      <td>0.3506</td>\n      <td>27390.0</td>\n    </tr>\n    <tr>\n      <th>8691</th>\n      <td>1997</td>\n      <td>162928</td>\n      <td>Johns Hopkins University</td>\n      <td>MD</td>\n      <td>2.0</td>\n      <td>NaN</td>\n      <td>NaN</td>\n    </tr>\n    <tr>\n      <th>15134</th>\n      <td>2015</td>\n      <td>162928</td>\n      <td>Johns Hopkins University</td>\n      <td>MD</td>\n      <td>2.0</td>\n      <td>0.1412</td>\n      <td>48710.0</td>\n    </tr>\n    <tr>\n      <th>22874</th>\n      <td>2013</td>\n      <td>162928</td>\n      <td>Johns Hopkins University</td>\n      <td>MD</td>\n      <td>2.0</td>\n      <td>0.1813</td>\n      <td>45470.0</td>\n    </tr>\n    <tr>\n      <th>31260</th>\n      <td>1996</td>\n      <td>162928</td>\n      <td>Johns Hopkins University</td>\n      <td>MD</td>\n      <td>2.0</td>\n      <td>NaN</td>\n      <td>NaN</td>\n    </tr>\n    <tr>\n      <th>38045</th>\n      <td>2000</td>\n      <td>162928</td>\n      <td>Johns Hopkins University</td>\n      <td>MD</td>\n      <td>2.0</td>\n      <td>NaN</td>\n      <td>24930.0</td>\n    </tr>\n    <tr>\n      <th>44469</th>\n      <td>2011</td>\n      <td>162928</td>\n      <td>Johns Hopkins University</td>\n      <td>MD</td>\n      <td>2.0</td>\n      <td>0.1940</td>\n      <td>42280.0</td>\n    </tr>\n    <tr>\n      <th>52300</th>\n      <td>2007</td>\n      <td>162928</td>\n      <td>Johns Hopkins University</td>\n      <td>MD</td>\n      <td>2.0</td>\n      <td>0.2571</td>\n      <td>35900.0</td>\n    </tr>\n    <tr>\n      <th>59322</th>\n      <td>2004</td>\n      <td>162928</td>\n      <td>Johns Hopkins University</td>\n      <td>MD</td>\n      <td>2.0</td>\n      <td>0.3071</td>\n      <td>30140.0</td>\n    </tr>\n    <tr>\n      <th>66038</th>\n      <td>2006</td>\n      <td>162928</td>\n      <td>Johns Hopkins University</td>\n      <td>MD</td>\n      <td>2.0</td>\n      <td>0.2792</td>\n      <td>33900.0</td>\n    </tr>\n    <tr>\n      <th>72607</th>\n      <td>2018</td>\n      <td>162928</td>\n      <td>Johns Hopkins University</td>\n      <td>MD</td>\n      <td>2.0</td>\n      <td>0.1148</td>\n      <td>53740.0</td>\n    </tr>\n    <tr>\n      <th>79656</th>\n      <td>2012</td>\n      <td>162928</td>\n      <td>Johns Hopkins University</td>\n      <td>MD</td>\n      <td>2.0</td>\n      <td>0.1843</td>\n      <td>43390.0</td>\n    </tr>\n    <tr>\n      <th>87811</th>\n      <td>1999</td>\n      <td>162928</td>\n      <td>Johns Hopkins University</td>\n      <td>MD</td>\n      <td>2.0</td>\n      <td>NaN</td>\n      <td>NaN</td>\n    </tr>\n    <tr>\n      <th>94286</th>\n      <td>2005</td>\n      <td>162928</td>\n      <td>Johns Hopkins University</td>\n      <td>MD</td>\n      <td>2.0</td>\n      <td>0.3509</td>\n      <td>31620.0</td>\n    </tr>\n    <tr>\n      <th>101238</th>\n      <td>2003</td>\n      <td>162928</td>\n      <td>Johns Hopkins University</td>\n      <td>MD</td>\n      <td>2.0</td>\n      <td>0.3060</td>\n      <td>28730.0</td>\n    </tr>\n    <tr>\n      <th>108019</th>\n      <td>1998</td>\n      <td>162928</td>\n      <td>Johns Hopkins University</td>\n      <td>MD</td>\n      <td>2.0</td>\n      <td>NaN</td>\n      <td>NaN</td>\n    </tr>\n    <tr>\n      <th>114451</th>\n      <td>2010</td>\n      <td>162928</td>\n      <td>Johns Hopkins University</td>\n      <td>MD</td>\n      <td>2.0</td>\n      <td>0.2225</td>\n      <td>40680.0</td>\n    </tr>\n    <tr>\n      <th>121956</th>\n      <td>2009</td>\n      <td>162928</td>\n      <td>Johns Hopkins University</td>\n      <td>MD</td>\n      <td>2.0</td>\n      <td>0.2782</td>\n      <td>39150.0</td>\n    </tr>\n    <tr>\n      <th>129341</th>\n      <td>2001</td>\n      <td>162928</td>\n      <td>Johns Hopkins University</td>\n      <td>MD</td>\n      <td>2.0</td>\n      <td>0.3431</td>\n      <td>26210.0</td>\n    </tr>\n    <tr>\n      <th>135633</th>\n      <td>2017</td>\n      <td>162928</td>\n      <td>Johns Hopkins University</td>\n      <td>MD</td>\n      <td>2.0</td>\n      <td>0.1254</td>\n      <td>52170.0</td>\n    </tr>\n    <tr>\n      <th>142875</th>\n      <td>2014</td>\n      <td>162928</td>\n      <td>Johns Hopkins University</td>\n      <td>MD</td>\n      <td>2.0</td>\n      <td>0.1608</td>\n      <td>47060.0</td>\n    </tr>\n    <tr>\n      <th>150541</th>\n      <td>2016</td>\n      <td>162928</td>\n      <td>Johns Hopkins University</td>\n      <td>MD</td>\n      <td>2.0</td>\n      <td>0.1284</td>\n      <td>50410.0</td>\n    </tr>\n    <tr>\n      <th>158036</th>\n      <td>2008</td>\n      <td>162928</td>\n      <td>Johns Hopkins University</td>\n      <td>MD</td>\n      <td>2.0</td>\n      <td>0.2609</td>\n      <td>37700.0</td>\n    </tr>\n  </tbody>\n</table>\n</div>"
     },
     "metadata": {}
    }
   ]
  },
  {
   "cell_type": "code",
   "metadata": {
    "tags": [],
    "cell_id": "00064-6b59c974-c306-4506-b298-d65444b8fc2d",
    "deepnote_to_be_reexecuted": false,
    "source_hash": "ce83c912",
    "execution_start": 1620441978107,
    "execution_millis": 101,
    "deepnote_cell_type": "code"
   },
   "source": "#now we need to sort the year values in ascending order, so we can graph it easier\nframe3 = frame3.sort_values(by=['YEAR'])\nframe3",
   "execution_count": 40,
   "outputs": [
    {
     "output_type": "execute_result",
     "execution_count": 40,
     "data": {
      "application/vnd.deepnote.dataframe.v2+json": {
       "row_count": 23,
       "column_count": 7,
       "columns": [
        {
         "name": "YEAR",
         "dtype": "object",
         "stats": {
          "unique_count": 23,
          "nan_count": 0,
          "categories": [
           {
            "name": "1996",
            "count": 1
           },
           {
            "name": "1997",
            "count": 1
           },
           {
            "name": "21 others",
            "count": 21
           }
          ]
         }
        },
        {
         "name": "UNITID",
         "dtype": "int64",
         "stats": {
          "unique_count": 1,
          "nan_count": 0,
          "min": "162928",
          "max": "162928",
          "histogram": [
           {
            "bin_start": 162927.5,
            "bin_end": 162927.6,
            "count": 0
           },
           {
            "bin_start": 162927.6,
            "bin_end": 162927.7,
            "count": 0
           },
           {
            "bin_start": 162927.7,
            "bin_end": 162927.8,
            "count": 0
           },
           {
            "bin_start": 162927.8,
            "bin_end": 162927.9,
            "count": 0
           },
           {
            "bin_start": 162927.9,
            "bin_end": 162928,
            "count": 0
           },
           {
            "bin_start": 162928,
            "bin_end": 162928.1,
            "count": 23
           },
           {
            "bin_start": 162928.1,
            "bin_end": 162928.2,
            "count": 0
           },
           {
            "bin_start": 162928.2,
            "bin_end": 162928.3,
            "count": 0
           },
           {
            "bin_start": 162928.3,
            "bin_end": 162928.4,
            "count": 0
           },
           {
            "bin_start": 162928.4,
            "bin_end": 162928.5,
            "count": 0
           }
          ]
         }
        },
        {
         "name": "INSTNM",
         "dtype": "object",
         "stats": {
          "unique_count": 1,
          "nan_count": 0,
          "categories": [
           {
            "name": "Johns Hopkins University",
            "count": 23
           }
          ]
         }
        },
        {
         "name": "STABBR",
         "dtype": "object",
         "stats": {
          "unique_count": 1,
          "nan_count": 0,
          "categories": [
           {
            "name": "MD",
            "count": 23
           }
          ]
         }
        },
        {
         "name": "REGION",
         "dtype": "float64",
         "stats": {
          "unique_count": 1,
          "nan_count": 0,
          "min": "2.0",
          "max": "2.0",
          "histogram": [
           {
            "bin_start": 1.5,
            "bin_end": 1.6,
            "count": 0
           },
           {
            "bin_start": 1.6,
            "bin_end": 1.7,
            "count": 0
           },
           {
            "bin_start": 1.7,
            "bin_end": 1.8,
            "count": 0
           },
           {
            "bin_start": 1.8,
            "bin_end": 1.9,
            "count": 0
           },
           {
            "bin_start": 1.9,
            "bin_end": 2,
            "count": 0
           },
           {
            "bin_start": 2,
            "bin_end": 2.1,
            "count": 23
           },
           {
            "bin_start": 2.1,
            "bin_end": 2.2,
            "count": 0
           },
           {
            "bin_start": 2.2,
            "bin_end": 2.3,
            "count": 0
           },
           {
            "bin_start": 2.3,
            "bin_end": 2.4,
            "count": 0
           },
           {
            "bin_start": 2.4,
            "bin_end": 2.5,
            "count": 0
           }
          ]
         }
        },
        {
         "name": "ADM_RATE",
         "dtype": "float64",
         "stats": {
          "unique_count": 18,
          "nan_count": 5,
          "min": "0.1148",
          "max": "0.3509",
          "histogram": [
           {
            "bin_start": 0.1148,
            "bin_end": 0.13841,
            "count": 3
           },
           {
            "bin_start": 0.13841,
            "bin_end": 0.16202,
            "count": 2
           },
           {
            "bin_start": 0.16202,
            "bin_end": 0.18563000000000002,
            "count": 2
           },
           {
            "bin_start": 0.18563000000000002,
            "bin_end": 0.20923999999999998,
            "count": 1
           },
           {
            "bin_start": 0.20923999999999998,
            "bin_end": 0.23285,
            "count": 1
           },
           {
            "bin_start": 0.23285,
            "bin_end": 0.25646,
            "count": 0
           },
           {
            "bin_start": 0.25646,
            "bin_end": 0.28007,
            "count": 4
           },
           {
            "bin_start": 0.28007,
            "bin_end": 0.30368,
            "count": 0
           },
           {
            "bin_start": 0.30368,
            "bin_end": 0.32728999999999997,
            "count": 2
           },
           {
            "bin_start": 0.32728999999999997,
            "bin_end": 0.3509,
            "count": 3
           }
          ]
         }
        },
        {
         "name": "TUITIONFEE_IN",
         "dtype": "float64",
         "stats": {
          "unique_count": 19,
          "nan_count": 4,
          "min": "24930.0",
          "max": "53740.0",
          "histogram": [
           {
            "bin_start": 24930,
            "bin_end": 27811,
            "count": 3
           },
           {
            "bin_start": 27811,
            "bin_end": 30692,
            "count": 2
           },
           {
            "bin_start": 30692,
            "bin_end": 33573,
            "count": 1
           },
           {
            "bin_start": 33573,
            "bin_end": 36454,
            "count": 2
           },
           {
            "bin_start": 36454,
            "bin_end": 39335,
            "count": 2
           },
           {
            "bin_start": 39335,
            "bin_end": 42216,
            "count": 1
           },
           {
            "bin_start": 42216,
            "bin_end": 45097,
            "count": 2
           },
           {
            "bin_start": 45097,
            "bin_end": 47978,
            "count": 2
           },
           {
            "bin_start": 47978,
            "bin_end": 50859,
            "count": 2
           },
           {
            "bin_start": 50859,
            "bin_end": 53740,
            "count": 2
           }
          ]
         }
        },
        {
         "name": "_deepnote_index_column",
         "dtype": "int64"
        }
       ],
       "rows_top": [
        {
         "YEAR": "1996",
         "UNITID": 162928,
         "INSTNM": "Johns Hopkins University",
         "STABBR": "MD",
         "REGION": 2,
         "ADM_RATE": "nan",
         "TUITIONFEE_IN": "nan",
         "_deepnote_index_column": 31260
        },
        {
         "YEAR": "1997",
         "UNITID": 162928,
         "INSTNM": "Johns Hopkins University",
         "STABBR": "MD",
         "REGION": 2,
         "ADM_RATE": "nan",
         "TUITIONFEE_IN": "nan",
         "_deepnote_index_column": 8691
        },
        {
         "YEAR": "1998",
         "UNITID": 162928,
         "INSTNM": "Johns Hopkins University",
         "STABBR": "MD",
         "REGION": 2,
         "ADM_RATE": "nan",
         "TUITIONFEE_IN": "nan",
         "_deepnote_index_column": 108019
        },
        {
         "YEAR": "1999",
         "UNITID": 162928,
         "INSTNM": "Johns Hopkins University",
         "STABBR": "MD",
         "REGION": 2,
         "ADM_RATE": "nan",
         "TUITIONFEE_IN": "nan",
         "_deepnote_index_column": 87811
        },
        {
         "YEAR": "2000",
         "UNITID": 162928,
         "INSTNM": "Johns Hopkins University",
         "STABBR": "MD",
         "REGION": 2,
         "ADM_RATE": "nan",
         "TUITIONFEE_IN": "24930.0",
         "_deepnote_index_column": 38045
        },
        {
         "YEAR": "2001",
         "UNITID": 162928,
         "INSTNM": "Johns Hopkins University",
         "STABBR": "MD",
         "REGION": 2,
         "ADM_RATE": "0.3431",
         "TUITIONFEE_IN": "26210.0",
         "_deepnote_index_column": 129341
        },
        {
         "YEAR": "2002",
         "UNITID": 162928,
         "INSTNM": "Johns Hopkins University",
         "STABBR": "MD",
         "REGION": 2,
         "ADM_RATE": "0.3506",
         "TUITIONFEE_IN": "27390.0",
         "_deepnote_index_column": 1884
        },
        {
         "YEAR": "2003",
         "UNITID": 162928,
         "INSTNM": "Johns Hopkins University",
         "STABBR": "MD",
         "REGION": 2,
         "ADM_RATE": "0.306",
         "TUITIONFEE_IN": "28730.0",
         "_deepnote_index_column": 101238
        },
        {
         "YEAR": "2004",
         "UNITID": 162928,
         "INSTNM": "Johns Hopkins University",
         "STABBR": "MD",
         "REGION": 2,
         "ADM_RATE": "0.3071",
         "TUITIONFEE_IN": "30140.0",
         "_deepnote_index_column": 59322
        },
        {
         "YEAR": "2005",
         "UNITID": 162928,
         "INSTNM": "Johns Hopkins University",
         "STABBR": "MD",
         "REGION": 2,
         "ADM_RATE": "0.3509",
         "TUITIONFEE_IN": "31620.0",
         "_deepnote_index_column": 94286
        },
        {
         "YEAR": "2006",
         "UNITID": 162928,
         "INSTNM": "Johns Hopkins University",
         "STABBR": "MD",
         "REGION": 2,
         "ADM_RATE": "0.2792",
         "TUITIONFEE_IN": "33900.0",
         "_deepnote_index_column": 66038
        },
        {
         "YEAR": "2007",
         "UNITID": 162928,
         "INSTNM": "Johns Hopkins University",
         "STABBR": "MD",
         "REGION": 2,
         "ADM_RATE": "0.2571",
         "TUITIONFEE_IN": "35900.0",
         "_deepnote_index_column": 52300
        },
        {
         "YEAR": "2008",
         "UNITID": 162928,
         "INSTNM": "Johns Hopkins University",
         "STABBR": "MD",
         "REGION": 2,
         "ADM_RATE": "0.2609",
         "TUITIONFEE_IN": "37700.0",
         "_deepnote_index_column": 158036
        },
        {
         "YEAR": "2009",
         "UNITID": 162928,
         "INSTNM": "Johns Hopkins University",
         "STABBR": "MD",
         "REGION": 2,
         "ADM_RATE": "0.2782",
         "TUITIONFEE_IN": "39150.0",
         "_deepnote_index_column": 121956
        },
        {
         "YEAR": "2010",
         "UNITID": 162928,
         "INSTNM": "Johns Hopkins University",
         "STABBR": "MD",
         "REGION": 2,
         "ADM_RATE": "0.2225",
         "TUITIONFEE_IN": "40680.0",
         "_deepnote_index_column": 114451
        },
        {
         "YEAR": "2011",
         "UNITID": 162928,
         "INSTNM": "Johns Hopkins University",
         "STABBR": "MD",
         "REGION": 2,
         "ADM_RATE": "0.194",
         "TUITIONFEE_IN": "42280.0",
         "_deepnote_index_column": 44469
        },
        {
         "YEAR": "2012",
         "UNITID": 162928,
         "INSTNM": "Johns Hopkins University",
         "STABBR": "MD",
         "REGION": 2,
         "ADM_RATE": "0.1843",
         "TUITIONFEE_IN": "43390.0",
         "_deepnote_index_column": 79656
        },
        {
         "YEAR": "2013",
         "UNITID": 162928,
         "INSTNM": "Johns Hopkins University",
         "STABBR": "MD",
         "REGION": 2,
         "ADM_RATE": "0.1813",
         "TUITIONFEE_IN": "45470.0",
         "_deepnote_index_column": 22874
        },
        {
         "YEAR": "2014",
         "UNITID": 162928,
         "INSTNM": "Johns Hopkins University",
         "STABBR": "MD",
         "REGION": 2,
         "ADM_RATE": "0.1608",
         "TUITIONFEE_IN": "47060.0",
         "_deepnote_index_column": 142875
        },
        {
         "YEAR": "2015",
         "UNITID": 162928,
         "INSTNM": "Johns Hopkins University",
         "STABBR": "MD",
         "REGION": 2,
         "ADM_RATE": "0.1412",
         "TUITIONFEE_IN": "48710.0",
         "_deepnote_index_column": 15134
        },
        {
         "YEAR": "2016",
         "UNITID": 162928,
         "INSTNM": "Johns Hopkins University",
         "STABBR": "MD",
         "REGION": 2,
         "ADM_RATE": "0.1284",
         "TUITIONFEE_IN": "50410.0",
         "_deepnote_index_column": 150541
        },
        {
         "YEAR": "2017",
         "UNITID": 162928,
         "INSTNM": "Johns Hopkins University",
         "STABBR": "MD",
         "REGION": 2,
         "ADM_RATE": "0.1254",
         "TUITIONFEE_IN": "52170.0",
         "_deepnote_index_column": 135633
        },
        {
         "YEAR": "2018",
         "UNITID": 162928,
         "INSTNM": "Johns Hopkins University",
         "STABBR": "MD",
         "REGION": 2,
         "ADM_RATE": "0.1148",
         "TUITIONFEE_IN": "53740.0",
         "_deepnote_index_column": 72607
        }
       ],
       "rows_bottom": null
      },
      "text/plain": "        YEAR  UNITID                    INSTNM STABBR  REGION  ADM_RATE  \\\n31260   1996  162928  Johns Hopkins University     MD     2.0       NaN   \n8691    1997  162928  Johns Hopkins University     MD     2.0       NaN   \n108019  1998  162928  Johns Hopkins University     MD     2.0       NaN   \n87811   1999  162928  Johns Hopkins University     MD     2.0       NaN   \n38045   2000  162928  Johns Hopkins University     MD     2.0       NaN   \n129341  2001  162928  Johns Hopkins University     MD     2.0    0.3431   \n1884    2002  162928  Johns Hopkins University     MD     2.0    0.3506   \n101238  2003  162928  Johns Hopkins University     MD     2.0    0.3060   \n59322   2004  162928  Johns Hopkins University     MD     2.0    0.3071   \n94286   2005  162928  Johns Hopkins University     MD     2.0    0.3509   \n66038   2006  162928  Johns Hopkins University     MD     2.0    0.2792   \n52300   2007  162928  Johns Hopkins University     MD     2.0    0.2571   \n158036  2008  162928  Johns Hopkins University     MD     2.0    0.2609   \n121956  2009  162928  Johns Hopkins University     MD     2.0    0.2782   \n114451  2010  162928  Johns Hopkins University     MD     2.0    0.2225   \n44469   2011  162928  Johns Hopkins University     MD     2.0    0.1940   \n79656   2012  162928  Johns Hopkins University     MD     2.0    0.1843   \n22874   2013  162928  Johns Hopkins University     MD     2.0    0.1813   \n142875  2014  162928  Johns Hopkins University     MD     2.0    0.1608   \n15134   2015  162928  Johns Hopkins University     MD     2.0    0.1412   \n150541  2016  162928  Johns Hopkins University     MD     2.0    0.1284   \n135633  2017  162928  Johns Hopkins University     MD     2.0    0.1254   \n72607   2018  162928  Johns Hopkins University     MD     2.0    0.1148   \n\n        TUITIONFEE_IN  \n31260             NaN  \n8691              NaN  \n108019            NaN  \n87811             NaN  \n38045         24930.0  \n129341        26210.0  \n1884          27390.0  \n101238        28730.0  \n59322         30140.0  \n94286         31620.0  \n66038         33900.0  \n52300         35900.0  \n158036        37700.0  \n121956        39150.0  \n114451        40680.0  \n44469         42280.0  \n79656         43390.0  \n22874         45470.0  \n142875        47060.0  \n15134         48710.0  \n150541        50410.0  \n135633        52170.0  \n72607         53740.0  ",
      "text/html": "<div>\n<style scoped>\n    .dataframe tbody tr th:only-of-type {\n        vertical-align: middle;\n    }\n\n    .dataframe tbody tr th {\n        vertical-align: top;\n    }\n\n    .dataframe thead th {\n        text-align: right;\n    }\n</style>\n<table border=\"1\" class=\"dataframe\">\n  <thead>\n    <tr style=\"text-align: right;\">\n      <th></th>\n      <th>YEAR</th>\n      <th>UNITID</th>\n      <th>INSTNM</th>\n      <th>STABBR</th>\n      <th>REGION</th>\n      <th>ADM_RATE</th>\n      <th>TUITIONFEE_IN</th>\n    </tr>\n  </thead>\n  <tbody>\n    <tr>\n      <th>31260</th>\n      <td>1996</td>\n      <td>162928</td>\n      <td>Johns Hopkins University</td>\n      <td>MD</td>\n      <td>2.0</td>\n      <td>NaN</td>\n      <td>NaN</td>\n    </tr>\n    <tr>\n      <th>8691</th>\n      <td>1997</td>\n      <td>162928</td>\n      <td>Johns Hopkins University</td>\n      <td>MD</td>\n      <td>2.0</td>\n      <td>NaN</td>\n      <td>NaN</td>\n    </tr>\n    <tr>\n      <th>108019</th>\n      <td>1998</td>\n      <td>162928</td>\n      <td>Johns Hopkins University</td>\n      <td>MD</td>\n      <td>2.0</td>\n      <td>NaN</td>\n      <td>NaN</td>\n    </tr>\n    <tr>\n      <th>87811</th>\n      <td>1999</td>\n      <td>162928</td>\n      <td>Johns Hopkins University</td>\n      <td>MD</td>\n      <td>2.0</td>\n      <td>NaN</td>\n      <td>NaN</td>\n    </tr>\n    <tr>\n      <th>38045</th>\n      <td>2000</td>\n      <td>162928</td>\n      <td>Johns Hopkins University</td>\n      <td>MD</td>\n      <td>2.0</td>\n      <td>NaN</td>\n      <td>24930.0</td>\n    </tr>\n    <tr>\n      <th>129341</th>\n      <td>2001</td>\n      <td>162928</td>\n      <td>Johns Hopkins University</td>\n      <td>MD</td>\n      <td>2.0</td>\n      <td>0.3431</td>\n      <td>26210.0</td>\n    </tr>\n    <tr>\n      <th>1884</th>\n      <td>2002</td>\n      <td>162928</td>\n      <td>Johns Hopkins University</td>\n      <td>MD</td>\n      <td>2.0</td>\n      <td>0.3506</td>\n      <td>27390.0</td>\n    </tr>\n    <tr>\n      <th>101238</th>\n      <td>2003</td>\n      <td>162928</td>\n      <td>Johns Hopkins University</td>\n      <td>MD</td>\n      <td>2.0</td>\n      <td>0.3060</td>\n      <td>28730.0</td>\n    </tr>\n    <tr>\n      <th>59322</th>\n      <td>2004</td>\n      <td>162928</td>\n      <td>Johns Hopkins University</td>\n      <td>MD</td>\n      <td>2.0</td>\n      <td>0.3071</td>\n      <td>30140.0</td>\n    </tr>\n    <tr>\n      <th>94286</th>\n      <td>2005</td>\n      <td>162928</td>\n      <td>Johns Hopkins University</td>\n      <td>MD</td>\n      <td>2.0</td>\n      <td>0.3509</td>\n      <td>31620.0</td>\n    </tr>\n    <tr>\n      <th>66038</th>\n      <td>2006</td>\n      <td>162928</td>\n      <td>Johns Hopkins University</td>\n      <td>MD</td>\n      <td>2.0</td>\n      <td>0.2792</td>\n      <td>33900.0</td>\n    </tr>\n    <tr>\n      <th>52300</th>\n      <td>2007</td>\n      <td>162928</td>\n      <td>Johns Hopkins University</td>\n      <td>MD</td>\n      <td>2.0</td>\n      <td>0.2571</td>\n      <td>35900.0</td>\n    </tr>\n    <tr>\n      <th>158036</th>\n      <td>2008</td>\n      <td>162928</td>\n      <td>Johns Hopkins University</td>\n      <td>MD</td>\n      <td>2.0</td>\n      <td>0.2609</td>\n      <td>37700.0</td>\n    </tr>\n    <tr>\n      <th>121956</th>\n      <td>2009</td>\n      <td>162928</td>\n      <td>Johns Hopkins University</td>\n      <td>MD</td>\n      <td>2.0</td>\n      <td>0.2782</td>\n      <td>39150.0</td>\n    </tr>\n    <tr>\n      <th>114451</th>\n      <td>2010</td>\n      <td>162928</td>\n      <td>Johns Hopkins University</td>\n      <td>MD</td>\n      <td>2.0</td>\n      <td>0.2225</td>\n      <td>40680.0</td>\n    </tr>\n    <tr>\n      <th>44469</th>\n      <td>2011</td>\n      <td>162928</td>\n      <td>Johns Hopkins University</td>\n      <td>MD</td>\n      <td>2.0</td>\n      <td>0.1940</td>\n      <td>42280.0</td>\n    </tr>\n    <tr>\n      <th>79656</th>\n      <td>2012</td>\n      <td>162928</td>\n      <td>Johns Hopkins University</td>\n      <td>MD</td>\n      <td>2.0</td>\n      <td>0.1843</td>\n      <td>43390.0</td>\n    </tr>\n    <tr>\n      <th>22874</th>\n      <td>2013</td>\n      <td>162928</td>\n      <td>Johns Hopkins University</td>\n      <td>MD</td>\n      <td>2.0</td>\n      <td>0.1813</td>\n      <td>45470.0</td>\n    </tr>\n    <tr>\n      <th>142875</th>\n      <td>2014</td>\n      <td>162928</td>\n      <td>Johns Hopkins University</td>\n      <td>MD</td>\n      <td>2.0</td>\n      <td>0.1608</td>\n      <td>47060.0</td>\n    </tr>\n    <tr>\n      <th>15134</th>\n      <td>2015</td>\n      <td>162928</td>\n      <td>Johns Hopkins University</td>\n      <td>MD</td>\n      <td>2.0</td>\n      <td>0.1412</td>\n      <td>48710.0</td>\n    </tr>\n    <tr>\n      <th>150541</th>\n      <td>2016</td>\n      <td>162928</td>\n      <td>Johns Hopkins University</td>\n      <td>MD</td>\n      <td>2.0</td>\n      <td>0.1284</td>\n      <td>50410.0</td>\n    </tr>\n    <tr>\n      <th>135633</th>\n      <td>2017</td>\n      <td>162928</td>\n      <td>Johns Hopkins University</td>\n      <td>MD</td>\n      <td>2.0</td>\n      <td>0.1254</td>\n      <td>52170.0</td>\n    </tr>\n    <tr>\n      <th>72607</th>\n      <td>2018</td>\n      <td>162928</td>\n      <td>Johns Hopkins University</td>\n      <td>MD</td>\n      <td>2.0</td>\n      <td>0.1148</td>\n      <td>53740.0</td>\n    </tr>\n  </tbody>\n</table>\n</div>"
     },
     "metadata": {}
    }
   ]
  },
  {
   "cell_type": "markdown",
   "source": "## Plot JHU's in-state tuition overtime from 1996 to 2019. \n### Plot a bar and line chart together.",
   "metadata": {
    "tags": [],
    "cell_id": "00064-6d5440fb-1bb2-4f00-9acf-4880990362ac",
    "deepnote_cell_type": "markdown"
   }
  },
  {
   "cell_type": "code",
   "metadata": {
    "tags": [],
    "cell_id": "00067-229c7758-ea1b-40f4-af7b-7e46a9a41e34",
    "deepnote_to_be_reexecuted": false,
    "source_hash": "f0689f7c",
    "execution_start": 1620441978249,
    "execution_millis": 103,
    "deepnote_cell_type": "code"
   },
   "source": "import plotly.graph_objects as go\n\nfig = go.Figure()\nfig.add_trace(\n    go.Scatter(\n        x=frame3['YEAR'],\n        y=frame3['TUITIONFEE_IN'],\n        line = dict(color='firebrick', width=6),\n    ))\nfig.add_trace(\n    go.Bar(\n        x=frame3['YEAR'],\n        y=frame3['TUITIONFEE_IN'],\n        marker_color='rgb(118,184,925)'\n    ))\n\nfig.update_layout(\n    showlegend=False,\n    title_text='JHU in-state tuition overtime from 1996 to 2019',\n    xaxis=dict(\n        tickfont_size=14,\n        tickangle = 270,\n        showgrid = True,\n        zeroline = True,\n        showline = True,\n        showticklabels = True,\n        dtick=1,\n        title_text = 'Year'\n    ), #CAN'T MISS THIS ONE LITTLE COMMA!!!\n    yaxis=dict(\n        title_text = 'In State Tuition (in thousands of dollars)'\n    )\n)\n\nfig.show()\n",
   "execution_count": 41,
   "outputs": [
    {
     "data": {
      "text/html": "<html>\n<head><meta charset=\"utf-8\" /></head>\n<body>\n    <div>            <script src=\"https://cdnjs.cloudflare.com/ajax/libs/mathjax/2.7.5/MathJax.js?config=TeX-AMS-MML_SVG\"></script><script type=\"text/javascript\">if (window.MathJax) {MathJax.Hub.Config({SVG: {font: \"STIX-Web\"}});}</script>                <script type=\"text/javascript\">window.PlotlyConfig = {MathJaxConfig: 'local'};</script>\n        <script src=\"https://cdn.plot.ly/plotly-latest.min.js\"></script>                <div id=\"fa90f53d-a250-4caf-add7-a8d5c2df6c96\" class=\"plotly-graph-div\" style=\"height:525px; width:100%;\"></div>            <script type=\"text/javascript\">                                    window.PLOTLYENV=window.PLOTLYENV || {};                                    if (document.getElementById(\"fa90f53d-a250-4caf-add7-a8d5c2df6c96\")) {                    Plotly.newPlot(                        \"fa90f53d-a250-4caf-add7-a8d5c2df6c96\",                        [{\"line\": {\"color\": \"firebrick\", \"width\": 6}, \"type\": \"scatter\", \"x\": [\"1996\", \"1997\", \"1998\", \"1999\", \"2000\", \"2001\", \"2002\", \"2003\", \"2004\", \"2005\", \"2006\", \"2007\", \"2008\", \"2009\", \"2010\", \"2011\", \"2012\", \"2013\", \"2014\", \"2015\", \"2016\", \"2017\", \"2018\"], \"y\": [null, null, null, null, 24930.0, 26210.0, 27390.0, 28730.0, 30140.0, 31620.0, 33900.0, 35900.0, 37700.0, 39150.0, 40680.0, 42280.0, 43390.0, 45470.0, 47060.0, 48710.0, 50410.0, 52170.0, 53740.0]}, {\"marker\": {\"color\": \"rgb(118,184,925)\"}, \"type\": \"bar\", \"x\": [\"1996\", \"1997\", \"1998\", \"1999\", \"2000\", \"2001\", \"2002\", \"2003\", \"2004\", \"2005\", \"2006\", \"2007\", \"2008\", \"2009\", \"2010\", \"2011\", \"2012\", \"2013\", \"2014\", \"2015\", \"2016\", \"2017\", \"2018\"], \"y\": [null, null, null, null, 24930.0, 26210.0, 27390.0, 28730.0, 30140.0, 31620.0, 33900.0, 35900.0, 37700.0, 39150.0, 40680.0, 42280.0, 43390.0, 45470.0, 47060.0, 48710.0, 50410.0, 52170.0, 53740.0]}],                        {\"showlegend\": false, \"template\": {\"data\": {\"bar\": [{\"error_x\": {\"color\": \"#f2f5fa\"}, \"error_y\": {\"color\": \"#f2f5fa\"}, \"marker\": {\"line\": {\"color\": \"rgb(17,17,17)\", \"width\": 0.5}}, \"type\": \"bar\"}], \"barpolar\": [{\"marker\": {\"line\": {\"color\": \"rgb(17,17,17)\", \"width\": 0.5}}, \"type\": \"barpolar\"}], \"carpet\": [{\"aaxis\": {\"endlinecolor\": \"#A2B1C6\", \"gridcolor\": \"#506784\", \"linecolor\": \"#506784\", \"minorgridcolor\": \"#506784\", \"startlinecolor\": \"#A2B1C6\"}, \"baxis\": {\"endlinecolor\": \"#A2B1C6\", \"gridcolor\": \"#506784\", \"linecolor\": \"#506784\", \"minorgridcolor\": \"#506784\", \"startlinecolor\": \"#A2B1C6\"}, \"type\": \"carpet\"}], \"choropleth\": [{\"colorbar\": {\"outlinewidth\": 0, \"ticks\": \"\"}, \"type\": \"choropleth\"}], \"contour\": [{\"colorbar\": {\"outlinewidth\": 0, \"ticks\": \"\"}, \"colorscale\": [[0.0, \"#0d0887\"], [0.1111111111111111, \"#46039f\"], [0.2222222222222222, \"#7201a8\"], [0.3333333333333333, \"#9c179e\"], [0.4444444444444444, \"#bd3786\"], [0.5555555555555556, \"#d8576b\"], [0.6666666666666666, \"#ed7953\"], [0.7777777777777778, \"#fb9f3a\"], [0.8888888888888888, \"#fdca26\"], [1.0, \"#f0f921\"]], \"type\": \"contour\"}], \"contourcarpet\": [{\"colorbar\": {\"outlinewidth\": 0, \"ticks\": \"\"}, \"type\": \"contourcarpet\"}], \"heatmap\": [{\"colorbar\": {\"outlinewidth\": 0, \"ticks\": \"\"}, \"colorscale\": [[0.0, \"#0d0887\"], [0.1111111111111111, \"#46039f\"], [0.2222222222222222, \"#7201a8\"], [0.3333333333333333, \"#9c179e\"], [0.4444444444444444, \"#bd3786\"], [0.5555555555555556, \"#d8576b\"], [0.6666666666666666, \"#ed7953\"], [0.7777777777777778, \"#fb9f3a\"], [0.8888888888888888, \"#fdca26\"], [1.0, \"#f0f921\"]], \"type\": \"heatmap\"}], \"heatmapgl\": [{\"colorbar\": {\"outlinewidth\": 0, \"ticks\": \"\"}, \"colorscale\": [[0.0, \"#0d0887\"], [0.1111111111111111, \"#46039f\"], [0.2222222222222222, \"#7201a8\"], [0.3333333333333333, \"#9c179e\"], [0.4444444444444444, \"#bd3786\"], [0.5555555555555556, \"#d8576b\"], [0.6666666666666666, \"#ed7953\"], [0.7777777777777778, \"#fb9f3a\"], [0.8888888888888888, \"#fdca26\"], [1.0, \"#f0f921\"]], \"type\": \"heatmapgl\"}], \"histogram\": [{\"marker\": {\"colorbar\": {\"outlinewidth\": 0, \"ticks\": \"\"}}, \"type\": \"histogram\"}], \"histogram2d\": [{\"colorbar\": {\"outlinewidth\": 0, \"ticks\": \"\"}, \"colorscale\": [[0.0, \"#0d0887\"], [0.1111111111111111, \"#46039f\"], [0.2222222222222222, \"#7201a8\"], [0.3333333333333333, \"#9c179e\"], [0.4444444444444444, \"#bd3786\"], [0.5555555555555556, \"#d8576b\"], [0.6666666666666666, \"#ed7953\"], [0.7777777777777778, \"#fb9f3a\"], [0.8888888888888888, \"#fdca26\"], [1.0, \"#f0f921\"]], \"type\": \"histogram2d\"}], \"histogram2dcontour\": [{\"colorbar\": {\"outlinewidth\": 0, \"ticks\": \"\"}, \"colorscale\": [[0.0, \"#0d0887\"], [0.1111111111111111, \"#46039f\"], [0.2222222222222222, \"#7201a8\"], [0.3333333333333333, \"#9c179e\"], [0.4444444444444444, \"#bd3786\"], [0.5555555555555556, \"#d8576b\"], [0.6666666666666666, \"#ed7953\"], [0.7777777777777778, \"#fb9f3a\"], [0.8888888888888888, \"#fdca26\"], [1.0, \"#f0f921\"]], \"type\": \"histogram2dcontour\"}], \"mesh3d\": [{\"colorbar\": {\"outlinewidth\": 0, \"ticks\": \"\"}, \"type\": \"mesh3d\"}], \"parcoords\": [{\"line\": {\"colorbar\": {\"outlinewidth\": 0, \"ticks\": \"\"}}, \"type\": \"parcoords\"}], \"pie\": [{\"automargin\": true, \"type\": \"pie\"}], \"scatter\": [{\"marker\": {\"line\": {\"color\": \"#283442\"}}, \"type\": \"scatter\"}], \"scatter3d\": [{\"line\": {\"colorbar\": {\"outlinewidth\": 0, \"ticks\": \"\"}}, \"marker\": {\"colorbar\": {\"outlinewidth\": 0, \"ticks\": \"\"}}, \"type\": \"scatter3d\"}], \"scattercarpet\": [{\"marker\": {\"colorbar\": {\"outlinewidth\": 0, \"ticks\": \"\"}}, \"type\": \"scattercarpet\"}], \"scattergeo\": [{\"marker\": {\"colorbar\": {\"outlinewidth\": 0, \"ticks\": \"\"}}, \"type\": \"scattergeo\"}], \"scattergl\": [{\"marker\": {\"line\": {\"color\": \"#283442\"}}, \"type\": \"scattergl\"}], \"scattermapbox\": [{\"marker\": {\"colorbar\": {\"outlinewidth\": 0, \"ticks\": \"\"}}, \"type\": \"scattermapbox\"}], \"scatterpolar\": [{\"marker\": {\"colorbar\": {\"outlinewidth\": 0, \"ticks\": \"\"}}, \"type\": \"scatterpolar\"}], \"scatterpolargl\": [{\"marker\": {\"colorbar\": {\"outlinewidth\": 0, \"ticks\": \"\"}}, \"type\": \"scatterpolargl\"}], \"scatterternary\": [{\"marker\": {\"colorbar\": {\"outlinewidth\": 0, \"ticks\": \"\"}}, \"type\": \"scatterternary\"}], \"surface\": [{\"colorbar\": {\"outlinewidth\": 0, \"ticks\": \"\"}, \"colorscale\": [[0.0, \"#0d0887\"], [0.1111111111111111, \"#46039f\"], [0.2222222222222222, \"#7201a8\"], [0.3333333333333333, \"#9c179e\"], [0.4444444444444444, \"#bd3786\"], [0.5555555555555556, \"#d8576b\"], [0.6666666666666666, \"#ed7953\"], [0.7777777777777778, \"#fb9f3a\"], [0.8888888888888888, \"#fdca26\"], [1.0, \"#f0f921\"]], \"type\": \"surface\"}], \"table\": [{\"cells\": {\"fill\": {\"color\": \"#506784\"}, \"line\": {\"color\": \"rgb(17,17,17)\"}}, \"header\": {\"fill\": {\"color\": \"#2a3f5f\"}, \"line\": {\"color\": \"rgb(17,17,17)\"}}, \"type\": \"table\"}]}, \"layout\": {\"annotationdefaults\": {\"arrowcolor\": \"#f2f5fa\", \"arrowhead\": 0, \"arrowwidth\": 1}, \"autotypenumbers\": \"strict\", \"coloraxis\": {\"colorbar\": {\"outlinewidth\": 0, \"ticks\": \"\"}}, \"colorscale\": {\"diverging\": [[0, \"#8e0152\"], [0.1, \"#c51b7d\"], [0.2, \"#de77ae\"], [0.3, \"#f1b6da\"], [0.4, \"#fde0ef\"], [0.5, \"#f7f7f7\"], [0.6, \"#e6f5d0\"], [0.7, \"#b8e186\"], [0.8, \"#7fbc41\"], [0.9, \"#4d9221\"], [1, \"#276419\"]], \"sequential\": [[0.0, \"#0d0887\"], [0.1111111111111111, \"#46039f\"], [0.2222222222222222, \"#7201a8\"], [0.3333333333333333, \"#9c179e\"], [0.4444444444444444, \"#bd3786\"], [0.5555555555555556, \"#d8576b\"], [0.6666666666666666, \"#ed7953\"], [0.7777777777777778, \"#fb9f3a\"], [0.8888888888888888, \"#fdca26\"], [1.0, \"#f0f921\"]], \"sequentialminus\": [[0.0, \"#0d0887\"], [0.1111111111111111, \"#46039f\"], [0.2222222222222222, \"#7201a8\"], [0.3333333333333333, \"#9c179e\"], [0.4444444444444444, \"#bd3786\"], [0.5555555555555556, \"#d8576b\"], [0.6666666666666666, \"#ed7953\"], [0.7777777777777778, \"#fb9f3a\"], [0.8888888888888888, \"#fdca26\"], [1.0, \"#f0f921\"]]}, \"colorway\": [\"#636efa\", \"#EF553B\", \"#00cc96\", \"#ab63fa\", \"#FFA15A\", \"#19d3f3\", \"#FF6692\", \"#B6E880\", \"#FF97FF\", \"#FECB52\"], \"font\": {\"color\": \"#f2f5fa\"}, \"geo\": {\"bgcolor\": \"rgb(17,17,17)\", \"lakecolor\": \"rgb(17,17,17)\", \"landcolor\": \"rgb(17,17,17)\", \"showlakes\": true, \"showland\": true, \"subunitcolor\": \"#506784\"}, \"hoverlabel\": {\"align\": \"left\"}, \"hovermode\": \"closest\", \"mapbox\": {\"style\": \"dark\"}, \"paper_bgcolor\": \"rgb(17,17,17)\", \"plot_bgcolor\": \"rgb(17,17,17)\", \"polar\": {\"angularaxis\": {\"gridcolor\": \"#506784\", \"linecolor\": \"#506784\", \"ticks\": \"\"}, \"bgcolor\": \"rgb(17,17,17)\", \"radialaxis\": {\"gridcolor\": \"#506784\", \"linecolor\": \"#506784\", \"ticks\": \"\"}}, \"scene\": {\"xaxis\": {\"backgroundcolor\": \"rgb(17,17,17)\", \"gridcolor\": \"#506784\", \"gridwidth\": 2, \"linecolor\": \"#506784\", \"showbackground\": true, \"ticks\": \"\", \"zerolinecolor\": \"#C8D4E3\"}, \"yaxis\": {\"backgroundcolor\": \"rgb(17,17,17)\", \"gridcolor\": \"#506784\", \"gridwidth\": 2, \"linecolor\": \"#506784\", \"showbackground\": true, \"ticks\": \"\", \"zerolinecolor\": \"#C8D4E3\"}, \"zaxis\": {\"backgroundcolor\": \"rgb(17,17,17)\", \"gridcolor\": \"#506784\", \"gridwidth\": 2, \"linecolor\": \"#506784\", \"showbackground\": true, \"ticks\": \"\", \"zerolinecolor\": \"#C8D4E3\"}}, \"shapedefaults\": {\"line\": {\"color\": \"#f2f5fa\"}}, \"sliderdefaults\": {\"bgcolor\": \"#C8D4E3\", \"bordercolor\": \"rgb(17,17,17)\", \"borderwidth\": 1, \"tickwidth\": 0}, \"ternary\": {\"aaxis\": {\"gridcolor\": \"#506784\", \"linecolor\": \"#506784\", \"ticks\": \"\"}, \"baxis\": {\"gridcolor\": \"#506784\", \"linecolor\": \"#506784\", \"ticks\": \"\"}, \"bgcolor\": \"rgb(17,17,17)\", \"caxis\": {\"gridcolor\": \"#506784\", \"linecolor\": \"#506784\", \"ticks\": \"\"}}, \"title\": {\"x\": 0.05}, \"updatemenudefaults\": {\"bgcolor\": \"#506784\", \"borderwidth\": 0}, \"xaxis\": {\"automargin\": true, \"gridcolor\": \"#283442\", \"linecolor\": \"#506784\", \"ticks\": \"\", \"title\": {\"standoff\": 15}, \"zerolinecolor\": \"#283442\", \"zerolinewidth\": 2}, \"yaxis\": {\"automargin\": true, \"gridcolor\": \"#283442\", \"linecolor\": \"#506784\", \"ticks\": \"\", \"title\": {\"standoff\": 15}, \"zerolinecolor\": \"#283442\", \"zerolinewidth\": 2}}}, \"title\": {\"text\": \"JHU in-state tuition overtime from 1996 to 2019\"}, \"xaxis\": {\"dtick\": 1, \"showgrid\": true, \"showline\": true, \"showticklabels\": true, \"tickangle\": -90, \"tickfont\": {\"size\": 14}, \"title\": {\"text\": \"Year\"}, \"zeroline\": true}, \"yaxis\": {\"title\": {\"text\": \"In State Tuition (in thousands of dollars)\"}}},                        {\"responsive\": true}                    ).then(function(){\n                            \nvar gd = document.getElementById('fa90f53d-a250-4caf-add7-a8d5c2df6c96');\nvar x = new MutationObserver(function (mutations, observer) {{\n        var display = window.getComputedStyle(gd).display;\n        if (!display || display === 'none') {{\n            console.log([gd, 'removed!']);\n            Plotly.purge(gd);\n            observer.disconnect();\n        }}\n}});\n\n// Listen for the removal of the full notebook cells\nvar notebookContainer = gd.closest('#notebook-container');\nif (notebookContainer) {{\n    x.observe(notebookContainer, {childList: true});\n}}\n\n// Listen for the clearing of the current output cell\nvar outputEl = gd.closest('.output');\nif (outputEl) {{\n    x.observe(outputEl, {childList: true});\n}}\n\n                        })                };                            </script>        </div>\n</body>\n</html>"
     },
     "metadata": {},
     "output_type": "display_data"
    }
   ]
  },
  {
   "cell_type": "markdown",
   "source": "## 15 - Calculate the JHU tuition percentage growth using the function defined earlier.",
   "metadata": {
    "tags": [],
    "cell_id": "00067-e9b02ca6-8181-4d7b-b7d7-12d9aced8c9f",
    "deepnote_cell_type": "markdown"
   }
  },
  {
   "cell_type": "code",
   "metadata": {
    "tags": [],
    "cell_id": "00069-63628cc6-aeb9-4dc5-b855-39bcc5c3667c",
    "deepnote_to_be_reexecuted": false,
    "source_hash": "b3d2654a",
    "execution_start": 1620441978365,
    "execution_millis": 49,
    "deepnote_cell_type": "code"
   },
   "source": "#here we are using the more efficient method of directly converting a column into a list \n#we can do this because we have already sorted the year values, so all the values are in order\njhu_tuition = frame3.reset_index()['TUITIONFEE_IN'].values.tolist()\njhu_tuition",
   "execution_count": 42,
   "outputs": [
    {
     "output_type": "execute_result",
     "execution_count": 42,
     "data": {
      "text/plain": "[nan,\n nan,\n nan,\n nan,\n 24930.0,\n 26210.0,\n 27390.0,\n 28730.0,\n 30140.0,\n 31620.0,\n 33900.0,\n 35900.0,\n 37700.0,\n 39150.0,\n 40680.0,\n 42280.0,\n 43390.0,\n 45470.0,\n 47060.0,\n 48710.0,\n 50410.0,\n 52170.0,\n 53740.0]"
     },
     "metadata": {}
    }
   ]
  },
  {
   "cell_type": "code",
   "metadata": {
    "tags": [],
    "cell_id": "00072-c2dcc87f-228d-498f-bf76-b3bc2f80f949",
    "deepnote_to_be_reexecuted": false,
    "source_hash": "798c314e",
    "execution_start": 1620442003037,
    "execution_millis": 20,
    "deepnote_cell_type": "code"
   },
   "source": "#we put this list into the function defined in step 12\njhu_pct_change = calc_pct_list(jhu_tuition)\njhu_pct_change",
   "execution_count": 46,
   "outputs": [
    {
     "output_type": "execute_result",
     "execution_count": 46,
     "data": {
      "text/plain": "[None,\n None,\n None,\n None,\n 5.13,\n 4.5,\n 4.89,\n 4.91,\n 4.91,\n 7.21,\n 5.9,\n 5.01,\n 3.85,\n 3.91,\n 3.93,\n 2.63,\n 4.79,\n 3.5,\n 3.51,\n 3.49,\n 3.49,\n 3.01,\n None]"
     },
     "metadata": {}
    }
   ]
  },
  {
   "cell_type": "markdown",
   "source": "## 16 - Add the list of percentage changes to the dataframe as a new column (\"PCT_CHANGE\")",
   "metadata": {
    "tags": [],
    "cell_id": "00071-683d36f0-ecfe-4d16-857b-eaeca5791eec",
    "deepnote_cell_type": "markdown"
   }
  },
  {
   "cell_type": "code",
   "metadata": {
    "tags": [],
    "cell_id": "00072-fa4ca4e9-d74b-45c6-9264-1c68f23c8cb4",
    "deepnote_to_be_reexecuted": false,
    "source_hash": "8e89c4cb",
    "execution_start": 1620442006485,
    "execution_millis": 108,
    "deepnote_cell_type": "code"
   },
   "source": "frame3[\"PCT_CHANGE\"] = jhu_pct_change #just act like this column always existed, and assign it to pct_change\nframe3",
   "execution_count": 47,
   "outputs": [
    {
     "output_type": "execute_result",
     "execution_count": 47,
     "data": {
      "application/vnd.deepnote.dataframe.v2+json": {
       "row_count": 23,
       "column_count": 8,
       "columns": [
        {
         "name": "YEAR",
         "dtype": "object",
         "stats": {
          "unique_count": 23,
          "nan_count": 0,
          "categories": [
           {
            "name": "1996",
            "count": 1
           },
           {
            "name": "1997",
            "count": 1
           },
           {
            "name": "21 others",
            "count": 21
           }
          ]
         }
        },
        {
         "name": "UNITID",
         "dtype": "int64",
         "stats": {
          "unique_count": 1,
          "nan_count": 0,
          "min": "162928",
          "max": "162928",
          "histogram": [
           {
            "bin_start": 162927.5,
            "bin_end": 162927.6,
            "count": 0
           },
           {
            "bin_start": 162927.6,
            "bin_end": 162927.7,
            "count": 0
           },
           {
            "bin_start": 162927.7,
            "bin_end": 162927.8,
            "count": 0
           },
           {
            "bin_start": 162927.8,
            "bin_end": 162927.9,
            "count": 0
           },
           {
            "bin_start": 162927.9,
            "bin_end": 162928,
            "count": 0
           },
           {
            "bin_start": 162928,
            "bin_end": 162928.1,
            "count": 23
           },
           {
            "bin_start": 162928.1,
            "bin_end": 162928.2,
            "count": 0
           },
           {
            "bin_start": 162928.2,
            "bin_end": 162928.3,
            "count": 0
           },
           {
            "bin_start": 162928.3,
            "bin_end": 162928.4,
            "count": 0
           },
           {
            "bin_start": 162928.4,
            "bin_end": 162928.5,
            "count": 0
           }
          ]
         }
        },
        {
         "name": "INSTNM",
         "dtype": "object",
         "stats": {
          "unique_count": 1,
          "nan_count": 0,
          "categories": [
           {
            "name": "Johns Hopkins University",
            "count": 23
           }
          ]
         }
        },
        {
         "name": "STABBR",
         "dtype": "object",
         "stats": {
          "unique_count": 1,
          "nan_count": 0,
          "categories": [
           {
            "name": "MD",
            "count": 23
           }
          ]
         }
        },
        {
         "name": "REGION",
         "dtype": "float64",
         "stats": {
          "unique_count": 1,
          "nan_count": 0,
          "min": "2.0",
          "max": "2.0",
          "histogram": [
           {
            "bin_start": 1.5,
            "bin_end": 1.6,
            "count": 0
           },
           {
            "bin_start": 1.6,
            "bin_end": 1.7,
            "count": 0
           },
           {
            "bin_start": 1.7,
            "bin_end": 1.8,
            "count": 0
           },
           {
            "bin_start": 1.8,
            "bin_end": 1.9,
            "count": 0
           },
           {
            "bin_start": 1.9,
            "bin_end": 2,
            "count": 0
           },
           {
            "bin_start": 2,
            "bin_end": 2.1,
            "count": 23
           },
           {
            "bin_start": 2.1,
            "bin_end": 2.2,
            "count": 0
           },
           {
            "bin_start": 2.2,
            "bin_end": 2.3,
            "count": 0
           },
           {
            "bin_start": 2.3,
            "bin_end": 2.4,
            "count": 0
           },
           {
            "bin_start": 2.4,
            "bin_end": 2.5,
            "count": 0
           }
          ]
         }
        },
        {
         "name": "ADM_RATE",
         "dtype": "float64",
         "stats": {
          "unique_count": 18,
          "nan_count": 5,
          "min": "0.1148",
          "max": "0.3509",
          "histogram": [
           {
            "bin_start": 0.1148,
            "bin_end": 0.13841,
            "count": 3
           },
           {
            "bin_start": 0.13841,
            "bin_end": 0.16202,
            "count": 2
           },
           {
            "bin_start": 0.16202,
            "bin_end": 0.18563000000000002,
            "count": 2
           },
           {
            "bin_start": 0.18563000000000002,
            "bin_end": 0.20923999999999998,
            "count": 1
           },
           {
            "bin_start": 0.20923999999999998,
            "bin_end": 0.23285,
            "count": 1
           },
           {
            "bin_start": 0.23285,
            "bin_end": 0.25646,
            "count": 0
           },
           {
            "bin_start": 0.25646,
            "bin_end": 0.28007,
            "count": 4
           },
           {
            "bin_start": 0.28007,
            "bin_end": 0.30368,
            "count": 0
           },
           {
            "bin_start": 0.30368,
            "bin_end": 0.32728999999999997,
            "count": 2
           },
           {
            "bin_start": 0.32728999999999997,
            "bin_end": 0.3509,
            "count": 3
           }
          ]
         }
        },
        {
         "name": "TUITIONFEE_IN",
         "dtype": "float64",
         "stats": {
          "unique_count": 19,
          "nan_count": 4,
          "min": "24930.0",
          "max": "53740.0",
          "histogram": [
           {
            "bin_start": 24930,
            "bin_end": 27811,
            "count": 3
           },
           {
            "bin_start": 27811,
            "bin_end": 30692,
            "count": 2
           },
           {
            "bin_start": 30692,
            "bin_end": 33573,
            "count": 1
           },
           {
            "bin_start": 33573,
            "bin_end": 36454,
            "count": 2
           },
           {
            "bin_start": 36454,
            "bin_end": 39335,
            "count": 2
           },
           {
            "bin_start": 39335,
            "bin_end": 42216,
            "count": 1
           },
           {
            "bin_start": 42216,
            "bin_end": 45097,
            "count": 2
           },
           {
            "bin_start": 45097,
            "bin_end": 47978,
            "count": 2
           },
           {
            "bin_start": 47978,
            "bin_end": 50859,
            "count": 2
           },
           {
            "bin_start": 50859,
            "bin_end": 53740,
            "count": 2
           }
          ]
         }
        },
        {
         "name": "PCT_CHANGE",
         "dtype": "float64",
         "stats": {
          "unique_count": 16,
          "nan_count": 5,
          "min": "2.63",
          "max": "7.21",
          "histogram": [
           {
            "bin_start": 2.63,
            "bin_end": 3.088,
            "count": 2
           },
           {
            "bin_start": 3.088,
            "bin_end": 3.546,
            "count": 4
           },
           {
            "bin_start": 3.546,
            "bin_end": 4.004,
            "count": 3
           },
           {
            "bin_start": 4.004,
            "bin_end": 4.462,
            "count": 0
           },
           {
            "bin_start": 4.462,
            "bin_end": 4.92,
            "count": 5
           },
           {
            "bin_start": 4.92,
            "bin_end": 5.378,
            "count": 2
           },
           {
            "bin_start": 5.378,
            "bin_end": 5.836,
            "count": 0
           },
           {
            "bin_start": 5.836,
            "bin_end": 6.2940000000000005,
            "count": 1
           },
           {
            "bin_start": 6.2940000000000005,
            "bin_end": 6.752,
            "count": 0
           },
           {
            "bin_start": 6.752,
            "bin_end": 7.21,
            "count": 1
           }
          ]
         }
        },
        {
         "name": "_deepnote_index_column",
         "dtype": "int64"
        }
       ],
       "rows_top": [
        {
         "YEAR": "1996",
         "UNITID": 162928,
         "INSTNM": "Johns Hopkins University",
         "STABBR": "MD",
         "REGION": 2,
         "ADM_RATE": "nan",
         "TUITIONFEE_IN": "nan",
         "PCT_CHANGE": "nan",
         "_deepnote_index_column": 31260
        },
        {
         "YEAR": "1997",
         "UNITID": 162928,
         "INSTNM": "Johns Hopkins University",
         "STABBR": "MD",
         "REGION": 2,
         "ADM_RATE": "nan",
         "TUITIONFEE_IN": "nan",
         "PCT_CHANGE": "nan",
         "_deepnote_index_column": 8691
        },
        {
         "YEAR": "1998",
         "UNITID": 162928,
         "INSTNM": "Johns Hopkins University",
         "STABBR": "MD",
         "REGION": 2,
         "ADM_RATE": "nan",
         "TUITIONFEE_IN": "nan",
         "PCT_CHANGE": "nan",
         "_deepnote_index_column": 108019
        },
        {
         "YEAR": "1999",
         "UNITID": 162928,
         "INSTNM": "Johns Hopkins University",
         "STABBR": "MD",
         "REGION": 2,
         "ADM_RATE": "nan",
         "TUITIONFEE_IN": "nan",
         "PCT_CHANGE": "nan",
         "_deepnote_index_column": 87811
        },
        {
         "YEAR": "2000",
         "UNITID": 162928,
         "INSTNM": "Johns Hopkins University",
         "STABBR": "MD",
         "REGION": 2,
         "ADM_RATE": "nan",
         "TUITIONFEE_IN": "24930.0",
         "PCT_CHANGE": "5.13",
         "_deepnote_index_column": 38045
        },
        {
         "YEAR": "2001",
         "UNITID": 162928,
         "INSTNM": "Johns Hopkins University",
         "STABBR": "MD",
         "REGION": 2,
         "ADM_RATE": "0.3431",
         "TUITIONFEE_IN": "26210.0",
         "PCT_CHANGE": "4.5",
         "_deepnote_index_column": 129341
        },
        {
         "YEAR": "2002",
         "UNITID": 162928,
         "INSTNM": "Johns Hopkins University",
         "STABBR": "MD",
         "REGION": 2,
         "ADM_RATE": "0.3506",
         "TUITIONFEE_IN": "27390.0",
         "PCT_CHANGE": "4.89",
         "_deepnote_index_column": 1884
        },
        {
         "YEAR": "2003",
         "UNITID": 162928,
         "INSTNM": "Johns Hopkins University",
         "STABBR": "MD",
         "REGION": 2,
         "ADM_RATE": "0.306",
         "TUITIONFEE_IN": "28730.0",
         "PCT_CHANGE": "4.91",
         "_deepnote_index_column": 101238
        },
        {
         "YEAR": "2004",
         "UNITID": 162928,
         "INSTNM": "Johns Hopkins University",
         "STABBR": "MD",
         "REGION": 2,
         "ADM_RATE": "0.3071",
         "TUITIONFEE_IN": "30140.0",
         "PCT_CHANGE": "4.91",
         "_deepnote_index_column": 59322
        },
        {
         "YEAR": "2005",
         "UNITID": 162928,
         "INSTNM": "Johns Hopkins University",
         "STABBR": "MD",
         "REGION": 2,
         "ADM_RATE": "0.3509",
         "TUITIONFEE_IN": "31620.0",
         "PCT_CHANGE": "7.21",
         "_deepnote_index_column": 94286
        },
        {
         "YEAR": "2006",
         "UNITID": 162928,
         "INSTNM": "Johns Hopkins University",
         "STABBR": "MD",
         "REGION": 2,
         "ADM_RATE": "0.2792",
         "TUITIONFEE_IN": "33900.0",
         "PCT_CHANGE": "5.9",
         "_deepnote_index_column": 66038
        },
        {
         "YEAR": "2007",
         "UNITID": 162928,
         "INSTNM": "Johns Hopkins University",
         "STABBR": "MD",
         "REGION": 2,
         "ADM_RATE": "0.2571",
         "TUITIONFEE_IN": "35900.0",
         "PCT_CHANGE": "5.01",
         "_deepnote_index_column": 52300
        },
        {
         "YEAR": "2008",
         "UNITID": 162928,
         "INSTNM": "Johns Hopkins University",
         "STABBR": "MD",
         "REGION": 2,
         "ADM_RATE": "0.2609",
         "TUITIONFEE_IN": "37700.0",
         "PCT_CHANGE": "3.85",
         "_deepnote_index_column": 158036
        },
        {
         "YEAR": "2009",
         "UNITID": 162928,
         "INSTNM": "Johns Hopkins University",
         "STABBR": "MD",
         "REGION": 2,
         "ADM_RATE": "0.2782",
         "TUITIONFEE_IN": "39150.0",
         "PCT_CHANGE": "3.91",
         "_deepnote_index_column": 121956
        },
        {
         "YEAR": "2010",
         "UNITID": 162928,
         "INSTNM": "Johns Hopkins University",
         "STABBR": "MD",
         "REGION": 2,
         "ADM_RATE": "0.2225",
         "TUITIONFEE_IN": "40680.0",
         "PCT_CHANGE": "3.93",
         "_deepnote_index_column": 114451
        },
        {
         "YEAR": "2011",
         "UNITID": 162928,
         "INSTNM": "Johns Hopkins University",
         "STABBR": "MD",
         "REGION": 2,
         "ADM_RATE": "0.194",
         "TUITIONFEE_IN": "42280.0",
         "PCT_CHANGE": "2.63",
         "_deepnote_index_column": 44469
        },
        {
         "YEAR": "2012",
         "UNITID": 162928,
         "INSTNM": "Johns Hopkins University",
         "STABBR": "MD",
         "REGION": 2,
         "ADM_RATE": "0.1843",
         "TUITIONFEE_IN": "43390.0",
         "PCT_CHANGE": "4.79",
         "_deepnote_index_column": 79656
        },
        {
         "YEAR": "2013",
         "UNITID": 162928,
         "INSTNM": "Johns Hopkins University",
         "STABBR": "MD",
         "REGION": 2,
         "ADM_RATE": "0.1813",
         "TUITIONFEE_IN": "45470.0",
         "PCT_CHANGE": "3.5",
         "_deepnote_index_column": 22874
        },
        {
         "YEAR": "2014",
         "UNITID": 162928,
         "INSTNM": "Johns Hopkins University",
         "STABBR": "MD",
         "REGION": 2,
         "ADM_RATE": "0.1608",
         "TUITIONFEE_IN": "47060.0",
         "PCT_CHANGE": "3.51",
         "_deepnote_index_column": 142875
        },
        {
         "YEAR": "2015",
         "UNITID": 162928,
         "INSTNM": "Johns Hopkins University",
         "STABBR": "MD",
         "REGION": 2,
         "ADM_RATE": "0.1412",
         "TUITIONFEE_IN": "48710.0",
         "PCT_CHANGE": "3.49",
         "_deepnote_index_column": 15134
        },
        {
         "YEAR": "2016",
         "UNITID": 162928,
         "INSTNM": "Johns Hopkins University",
         "STABBR": "MD",
         "REGION": 2,
         "ADM_RATE": "0.1284",
         "TUITIONFEE_IN": "50410.0",
         "PCT_CHANGE": "3.49",
         "_deepnote_index_column": 150541
        },
        {
         "YEAR": "2017",
         "UNITID": 162928,
         "INSTNM": "Johns Hopkins University",
         "STABBR": "MD",
         "REGION": 2,
         "ADM_RATE": "0.1254",
         "TUITIONFEE_IN": "52170.0",
         "PCT_CHANGE": "3.01",
         "_deepnote_index_column": 135633
        },
        {
         "YEAR": "2018",
         "UNITID": 162928,
         "INSTNM": "Johns Hopkins University",
         "STABBR": "MD",
         "REGION": 2,
         "ADM_RATE": "0.1148",
         "TUITIONFEE_IN": "53740.0",
         "PCT_CHANGE": "nan",
         "_deepnote_index_column": 72607
        }
       ],
       "rows_bottom": null
      },
      "text/plain": "        YEAR  UNITID                    INSTNM STABBR  REGION  ADM_RATE  \\\n31260   1996  162928  Johns Hopkins University     MD     2.0       NaN   \n8691    1997  162928  Johns Hopkins University     MD     2.0       NaN   \n108019  1998  162928  Johns Hopkins University     MD     2.0       NaN   \n87811   1999  162928  Johns Hopkins University     MD     2.0       NaN   \n38045   2000  162928  Johns Hopkins University     MD     2.0       NaN   \n129341  2001  162928  Johns Hopkins University     MD     2.0    0.3431   \n1884    2002  162928  Johns Hopkins University     MD     2.0    0.3506   \n101238  2003  162928  Johns Hopkins University     MD     2.0    0.3060   \n59322   2004  162928  Johns Hopkins University     MD     2.0    0.3071   \n94286   2005  162928  Johns Hopkins University     MD     2.0    0.3509   \n66038   2006  162928  Johns Hopkins University     MD     2.0    0.2792   \n52300   2007  162928  Johns Hopkins University     MD     2.0    0.2571   \n158036  2008  162928  Johns Hopkins University     MD     2.0    0.2609   \n121956  2009  162928  Johns Hopkins University     MD     2.0    0.2782   \n114451  2010  162928  Johns Hopkins University     MD     2.0    0.2225   \n44469   2011  162928  Johns Hopkins University     MD     2.0    0.1940   \n79656   2012  162928  Johns Hopkins University     MD     2.0    0.1843   \n22874   2013  162928  Johns Hopkins University     MD     2.0    0.1813   \n142875  2014  162928  Johns Hopkins University     MD     2.0    0.1608   \n15134   2015  162928  Johns Hopkins University     MD     2.0    0.1412   \n150541  2016  162928  Johns Hopkins University     MD     2.0    0.1284   \n135633  2017  162928  Johns Hopkins University     MD     2.0    0.1254   \n72607   2018  162928  Johns Hopkins University     MD     2.0    0.1148   \n\n        TUITIONFEE_IN  PCT_CHANGE  \n31260             NaN         NaN  \n8691              NaN         NaN  \n108019            NaN         NaN  \n87811             NaN         NaN  \n38045         24930.0        5.13  \n129341        26210.0        4.50  \n1884          27390.0        4.89  \n101238        28730.0        4.91  \n59322         30140.0        4.91  \n94286         31620.0        7.21  \n66038         33900.0        5.90  \n52300         35900.0        5.01  \n158036        37700.0        3.85  \n121956        39150.0        3.91  \n114451        40680.0        3.93  \n44469         42280.0        2.63  \n79656         43390.0        4.79  \n22874         45470.0        3.50  \n142875        47060.0        3.51  \n15134         48710.0        3.49  \n150541        50410.0        3.49  \n135633        52170.0        3.01  \n72607         53740.0         NaN  ",
      "text/html": "<div>\n<style scoped>\n    .dataframe tbody tr th:only-of-type {\n        vertical-align: middle;\n    }\n\n    .dataframe tbody tr th {\n        vertical-align: top;\n    }\n\n    .dataframe thead th {\n        text-align: right;\n    }\n</style>\n<table border=\"1\" class=\"dataframe\">\n  <thead>\n    <tr style=\"text-align: right;\">\n      <th></th>\n      <th>YEAR</th>\n      <th>UNITID</th>\n      <th>INSTNM</th>\n      <th>STABBR</th>\n      <th>REGION</th>\n      <th>ADM_RATE</th>\n      <th>TUITIONFEE_IN</th>\n      <th>PCT_CHANGE</th>\n    </tr>\n  </thead>\n  <tbody>\n    <tr>\n      <th>31260</th>\n      <td>1996</td>\n      <td>162928</td>\n      <td>Johns Hopkins University</td>\n      <td>MD</td>\n      <td>2.0</td>\n      <td>NaN</td>\n      <td>NaN</td>\n      <td>NaN</td>\n    </tr>\n    <tr>\n      <th>8691</th>\n      <td>1997</td>\n      <td>162928</td>\n      <td>Johns Hopkins University</td>\n      <td>MD</td>\n      <td>2.0</td>\n      <td>NaN</td>\n      <td>NaN</td>\n      <td>NaN</td>\n    </tr>\n    <tr>\n      <th>108019</th>\n      <td>1998</td>\n      <td>162928</td>\n      <td>Johns Hopkins University</td>\n      <td>MD</td>\n      <td>2.0</td>\n      <td>NaN</td>\n      <td>NaN</td>\n      <td>NaN</td>\n    </tr>\n    <tr>\n      <th>87811</th>\n      <td>1999</td>\n      <td>162928</td>\n      <td>Johns Hopkins University</td>\n      <td>MD</td>\n      <td>2.0</td>\n      <td>NaN</td>\n      <td>NaN</td>\n      <td>NaN</td>\n    </tr>\n    <tr>\n      <th>38045</th>\n      <td>2000</td>\n      <td>162928</td>\n      <td>Johns Hopkins University</td>\n      <td>MD</td>\n      <td>2.0</td>\n      <td>NaN</td>\n      <td>24930.0</td>\n      <td>5.13</td>\n    </tr>\n    <tr>\n      <th>129341</th>\n      <td>2001</td>\n      <td>162928</td>\n      <td>Johns Hopkins University</td>\n      <td>MD</td>\n      <td>2.0</td>\n      <td>0.3431</td>\n      <td>26210.0</td>\n      <td>4.50</td>\n    </tr>\n    <tr>\n      <th>1884</th>\n      <td>2002</td>\n      <td>162928</td>\n      <td>Johns Hopkins University</td>\n      <td>MD</td>\n      <td>2.0</td>\n      <td>0.3506</td>\n      <td>27390.0</td>\n      <td>4.89</td>\n    </tr>\n    <tr>\n      <th>101238</th>\n      <td>2003</td>\n      <td>162928</td>\n      <td>Johns Hopkins University</td>\n      <td>MD</td>\n      <td>2.0</td>\n      <td>0.3060</td>\n      <td>28730.0</td>\n      <td>4.91</td>\n    </tr>\n    <tr>\n      <th>59322</th>\n      <td>2004</td>\n      <td>162928</td>\n      <td>Johns Hopkins University</td>\n      <td>MD</td>\n      <td>2.0</td>\n      <td>0.3071</td>\n      <td>30140.0</td>\n      <td>4.91</td>\n    </tr>\n    <tr>\n      <th>94286</th>\n      <td>2005</td>\n      <td>162928</td>\n      <td>Johns Hopkins University</td>\n      <td>MD</td>\n      <td>2.0</td>\n      <td>0.3509</td>\n      <td>31620.0</td>\n      <td>7.21</td>\n    </tr>\n    <tr>\n      <th>66038</th>\n      <td>2006</td>\n      <td>162928</td>\n      <td>Johns Hopkins University</td>\n      <td>MD</td>\n      <td>2.0</td>\n      <td>0.2792</td>\n      <td>33900.0</td>\n      <td>5.90</td>\n    </tr>\n    <tr>\n      <th>52300</th>\n      <td>2007</td>\n      <td>162928</td>\n      <td>Johns Hopkins University</td>\n      <td>MD</td>\n      <td>2.0</td>\n      <td>0.2571</td>\n      <td>35900.0</td>\n      <td>5.01</td>\n    </tr>\n    <tr>\n      <th>158036</th>\n      <td>2008</td>\n      <td>162928</td>\n      <td>Johns Hopkins University</td>\n      <td>MD</td>\n      <td>2.0</td>\n      <td>0.2609</td>\n      <td>37700.0</td>\n      <td>3.85</td>\n    </tr>\n    <tr>\n      <th>121956</th>\n      <td>2009</td>\n      <td>162928</td>\n      <td>Johns Hopkins University</td>\n      <td>MD</td>\n      <td>2.0</td>\n      <td>0.2782</td>\n      <td>39150.0</td>\n      <td>3.91</td>\n    </tr>\n    <tr>\n      <th>114451</th>\n      <td>2010</td>\n      <td>162928</td>\n      <td>Johns Hopkins University</td>\n      <td>MD</td>\n      <td>2.0</td>\n      <td>0.2225</td>\n      <td>40680.0</td>\n      <td>3.93</td>\n    </tr>\n    <tr>\n      <th>44469</th>\n      <td>2011</td>\n      <td>162928</td>\n      <td>Johns Hopkins University</td>\n      <td>MD</td>\n      <td>2.0</td>\n      <td>0.1940</td>\n      <td>42280.0</td>\n      <td>2.63</td>\n    </tr>\n    <tr>\n      <th>79656</th>\n      <td>2012</td>\n      <td>162928</td>\n      <td>Johns Hopkins University</td>\n      <td>MD</td>\n      <td>2.0</td>\n      <td>0.1843</td>\n      <td>43390.0</td>\n      <td>4.79</td>\n    </tr>\n    <tr>\n      <th>22874</th>\n      <td>2013</td>\n      <td>162928</td>\n      <td>Johns Hopkins University</td>\n      <td>MD</td>\n      <td>2.0</td>\n      <td>0.1813</td>\n      <td>45470.0</td>\n      <td>3.50</td>\n    </tr>\n    <tr>\n      <th>142875</th>\n      <td>2014</td>\n      <td>162928</td>\n      <td>Johns Hopkins University</td>\n      <td>MD</td>\n      <td>2.0</td>\n      <td>0.1608</td>\n      <td>47060.0</td>\n      <td>3.51</td>\n    </tr>\n    <tr>\n      <th>15134</th>\n      <td>2015</td>\n      <td>162928</td>\n      <td>Johns Hopkins University</td>\n      <td>MD</td>\n      <td>2.0</td>\n      <td>0.1412</td>\n      <td>48710.0</td>\n      <td>3.49</td>\n    </tr>\n    <tr>\n      <th>150541</th>\n      <td>2016</td>\n      <td>162928</td>\n      <td>Johns Hopkins University</td>\n      <td>MD</td>\n      <td>2.0</td>\n      <td>0.1284</td>\n      <td>50410.0</td>\n      <td>3.49</td>\n    </tr>\n    <tr>\n      <th>135633</th>\n      <td>2017</td>\n      <td>162928</td>\n      <td>Johns Hopkins University</td>\n      <td>MD</td>\n      <td>2.0</td>\n      <td>0.1254</td>\n      <td>52170.0</td>\n      <td>3.01</td>\n    </tr>\n    <tr>\n      <th>72607</th>\n      <td>2018</td>\n      <td>162928</td>\n      <td>Johns Hopkins University</td>\n      <td>MD</td>\n      <td>2.0</td>\n      <td>0.1148</td>\n      <td>53740.0</td>\n      <td>NaN</td>\n    </tr>\n  </tbody>\n</table>\n</div>"
     },
     "metadata": {}
    }
   ]
  },
  {
   "cell_type": "markdown",
   "source": "## 17 - Make a bar plot of JHU tuition percentage change over time",
   "metadata": {
    "tags": [],
    "cell_id": "00073-1596c2cb-457b-43d5-a0b6-134d6307500d",
    "deepnote_cell_type": "markdown"
   }
  },
  {
   "cell_type": "code",
   "metadata": {
    "tags": [],
    "cell_id": "00073-41ce2bb7-d6b2-4e0d-981a-56fb264021b0",
    "deepnote_to_be_reexecuted": false,
    "source_hash": "8ad771d8",
    "execution_start": 1620442010326,
    "execution_millis": 113,
    "deepnote_cell_type": "code"
   },
   "source": "#Use plotly express to visualize a bar chart:\nfig = px.bar(frame3, x='YEAR', y='PCT_CHANGE')\nfig.update_layout(\n    title=\"JHU's in-state tuition percentage change over time from 1996 to 2019\",\n    xaxis_title=\"Year\",\n    yaxis_title=\"Percentage Change\"\n    )\n#fig.update_xaxes(categoryorder=\"total ascending\") don't use this, because we already sorted the years\nfig.show()",
   "execution_count": 48,
   "outputs": [
    {
     "data": {
      "text/html": "<html>\n<head><meta charset=\"utf-8\" /></head>\n<body>\n    <div>            <script src=\"https://cdnjs.cloudflare.com/ajax/libs/mathjax/2.7.5/MathJax.js?config=TeX-AMS-MML_SVG\"></script><script type=\"text/javascript\">if (window.MathJax) {MathJax.Hub.Config({SVG: {font: \"STIX-Web\"}});}</script>                <script type=\"text/javascript\">window.PlotlyConfig = {MathJaxConfig: 'local'};</script>\n        <script src=\"https://cdn.plot.ly/plotly-latest.min.js\"></script>                <div id=\"cac30738-9ecb-40a6-9f39-08ef04b3bf83\" class=\"plotly-graph-div\" style=\"height:525px; width:100%;\"></div>            <script type=\"text/javascript\">                                    window.PLOTLYENV=window.PLOTLYENV || {};                                    if (document.getElementById(\"cac30738-9ecb-40a6-9f39-08ef04b3bf83\")) {                    Plotly.newPlot(                        \"cac30738-9ecb-40a6-9f39-08ef04b3bf83\",                        [{\"alignmentgroup\": \"True\", \"hovertemplate\": \"YEAR=%{x}<br>PCT_CHANGE=%{y}<extra></extra>\", \"legendgroup\": \"\", \"marker\": {\"color\": \"#636efa\"}, \"name\": \"\", \"offsetgroup\": \"\", \"orientation\": \"v\", \"showlegend\": false, \"textposition\": \"auto\", \"type\": \"bar\", \"x\": [\"1996\", \"1997\", \"1998\", \"1999\", \"2000\", \"2001\", \"2002\", \"2003\", \"2004\", \"2005\", \"2006\", \"2007\", \"2008\", \"2009\", \"2010\", \"2011\", \"2012\", \"2013\", \"2014\", \"2015\", \"2016\", \"2017\", \"2018\"], \"xaxis\": \"x\", \"y\": [null, null, null, null, 5.13, 4.5, 4.89, 4.91, 4.91, 7.21, 5.9, 5.01, 3.85, 3.91, 3.93, 2.63, 4.79, 3.5, 3.51, 3.49, 3.49, 3.01, null], \"yaxis\": \"y\"}],                        {\"barmode\": \"relative\", \"legend\": {\"tracegroupgap\": 0}, \"margin\": {\"t\": 60}, \"template\": {\"data\": {\"bar\": [{\"error_x\": {\"color\": \"#f2f5fa\"}, \"error_y\": {\"color\": \"#f2f5fa\"}, \"marker\": {\"line\": {\"color\": \"rgb(17,17,17)\", \"width\": 0.5}}, \"type\": \"bar\"}], \"barpolar\": [{\"marker\": {\"line\": {\"color\": \"rgb(17,17,17)\", \"width\": 0.5}}, \"type\": \"barpolar\"}], \"carpet\": [{\"aaxis\": {\"endlinecolor\": \"#A2B1C6\", \"gridcolor\": \"#506784\", \"linecolor\": \"#506784\", \"minorgridcolor\": \"#506784\", \"startlinecolor\": \"#A2B1C6\"}, \"baxis\": {\"endlinecolor\": \"#A2B1C6\", \"gridcolor\": \"#506784\", \"linecolor\": \"#506784\", \"minorgridcolor\": \"#506784\", \"startlinecolor\": \"#A2B1C6\"}, \"type\": \"carpet\"}], \"choropleth\": [{\"colorbar\": {\"outlinewidth\": 0, \"ticks\": \"\"}, \"type\": \"choropleth\"}], \"contour\": [{\"colorbar\": {\"outlinewidth\": 0, \"ticks\": \"\"}, \"colorscale\": [[0.0, \"#0d0887\"], [0.1111111111111111, \"#46039f\"], [0.2222222222222222, \"#7201a8\"], [0.3333333333333333, \"#9c179e\"], [0.4444444444444444, \"#bd3786\"], [0.5555555555555556, \"#d8576b\"], [0.6666666666666666, \"#ed7953\"], [0.7777777777777778, \"#fb9f3a\"], [0.8888888888888888, \"#fdca26\"], [1.0, \"#f0f921\"]], \"type\": \"contour\"}], \"contourcarpet\": [{\"colorbar\": {\"outlinewidth\": 0, \"ticks\": \"\"}, \"type\": \"contourcarpet\"}], \"heatmap\": [{\"colorbar\": {\"outlinewidth\": 0, \"ticks\": \"\"}, \"colorscale\": [[0.0, \"#0d0887\"], [0.1111111111111111, \"#46039f\"], [0.2222222222222222, \"#7201a8\"], [0.3333333333333333, \"#9c179e\"], [0.4444444444444444, \"#bd3786\"], [0.5555555555555556, \"#d8576b\"], [0.6666666666666666, \"#ed7953\"], [0.7777777777777778, \"#fb9f3a\"], [0.8888888888888888, \"#fdca26\"], [1.0, \"#f0f921\"]], \"type\": \"heatmap\"}], \"heatmapgl\": [{\"colorbar\": {\"outlinewidth\": 0, \"ticks\": \"\"}, \"colorscale\": [[0.0, \"#0d0887\"], [0.1111111111111111, \"#46039f\"], [0.2222222222222222, \"#7201a8\"], [0.3333333333333333, \"#9c179e\"], [0.4444444444444444, \"#bd3786\"], [0.5555555555555556, \"#d8576b\"], [0.6666666666666666, \"#ed7953\"], [0.7777777777777778, \"#fb9f3a\"], [0.8888888888888888, \"#fdca26\"], [1.0, \"#f0f921\"]], \"type\": \"heatmapgl\"}], \"histogram\": [{\"marker\": {\"colorbar\": {\"outlinewidth\": 0, \"ticks\": \"\"}}, \"type\": \"histogram\"}], \"histogram2d\": [{\"colorbar\": {\"outlinewidth\": 0, \"ticks\": \"\"}, \"colorscale\": [[0.0, \"#0d0887\"], [0.1111111111111111, \"#46039f\"], [0.2222222222222222, \"#7201a8\"], [0.3333333333333333, \"#9c179e\"], [0.4444444444444444, \"#bd3786\"], [0.5555555555555556, \"#d8576b\"], [0.6666666666666666, \"#ed7953\"], [0.7777777777777778, \"#fb9f3a\"], [0.8888888888888888, \"#fdca26\"], [1.0, \"#f0f921\"]], \"type\": \"histogram2d\"}], \"histogram2dcontour\": [{\"colorbar\": {\"outlinewidth\": 0, \"ticks\": \"\"}, \"colorscale\": [[0.0, \"#0d0887\"], [0.1111111111111111, \"#46039f\"], [0.2222222222222222, \"#7201a8\"], [0.3333333333333333, \"#9c179e\"], [0.4444444444444444, \"#bd3786\"], [0.5555555555555556, \"#d8576b\"], [0.6666666666666666, \"#ed7953\"], [0.7777777777777778, \"#fb9f3a\"], [0.8888888888888888, \"#fdca26\"], [1.0, \"#f0f921\"]], \"type\": \"histogram2dcontour\"}], \"mesh3d\": [{\"colorbar\": {\"outlinewidth\": 0, \"ticks\": \"\"}, \"type\": \"mesh3d\"}], \"parcoords\": [{\"line\": {\"colorbar\": {\"outlinewidth\": 0, \"ticks\": \"\"}}, \"type\": \"parcoords\"}], \"pie\": [{\"automargin\": true, \"type\": \"pie\"}], \"scatter\": [{\"marker\": {\"line\": {\"color\": \"#283442\"}}, \"type\": \"scatter\"}], \"scatter3d\": [{\"line\": {\"colorbar\": {\"outlinewidth\": 0, \"ticks\": \"\"}}, \"marker\": {\"colorbar\": {\"outlinewidth\": 0, \"ticks\": \"\"}}, \"type\": \"scatter3d\"}], \"scattercarpet\": [{\"marker\": {\"colorbar\": {\"outlinewidth\": 0, \"ticks\": \"\"}}, \"type\": \"scattercarpet\"}], \"scattergeo\": [{\"marker\": {\"colorbar\": {\"outlinewidth\": 0, \"ticks\": \"\"}}, \"type\": \"scattergeo\"}], \"scattergl\": [{\"marker\": {\"line\": {\"color\": \"#283442\"}}, \"type\": \"scattergl\"}], \"scattermapbox\": [{\"marker\": {\"colorbar\": {\"outlinewidth\": 0, \"ticks\": \"\"}}, \"type\": \"scattermapbox\"}], \"scatterpolar\": [{\"marker\": {\"colorbar\": {\"outlinewidth\": 0, \"ticks\": \"\"}}, \"type\": \"scatterpolar\"}], \"scatterpolargl\": [{\"marker\": {\"colorbar\": {\"outlinewidth\": 0, \"ticks\": \"\"}}, \"type\": \"scatterpolargl\"}], \"scatterternary\": [{\"marker\": {\"colorbar\": {\"outlinewidth\": 0, \"ticks\": \"\"}}, \"type\": \"scatterternary\"}], \"surface\": [{\"colorbar\": {\"outlinewidth\": 0, \"ticks\": \"\"}, \"colorscale\": [[0.0, \"#0d0887\"], [0.1111111111111111, \"#46039f\"], [0.2222222222222222, \"#7201a8\"], [0.3333333333333333, \"#9c179e\"], [0.4444444444444444, \"#bd3786\"], [0.5555555555555556, \"#d8576b\"], [0.6666666666666666, \"#ed7953\"], [0.7777777777777778, \"#fb9f3a\"], [0.8888888888888888, \"#fdca26\"], [1.0, \"#f0f921\"]], \"type\": \"surface\"}], \"table\": [{\"cells\": {\"fill\": {\"color\": \"#506784\"}, \"line\": {\"color\": \"rgb(17,17,17)\"}}, \"header\": {\"fill\": {\"color\": \"#2a3f5f\"}, \"line\": {\"color\": \"rgb(17,17,17)\"}}, \"type\": \"table\"}]}, \"layout\": {\"annotationdefaults\": {\"arrowcolor\": \"#f2f5fa\", \"arrowhead\": 0, \"arrowwidth\": 1}, \"autotypenumbers\": \"strict\", \"coloraxis\": {\"colorbar\": {\"outlinewidth\": 0, \"ticks\": \"\"}}, \"colorscale\": {\"diverging\": [[0, \"#8e0152\"], [0.1, \"#c51b7d\"], [0.2, \"#de77ae\"], [0.3, \"#f1b6da\"], [0.4, \"#fde0ef\"], [0.5, \"#f7f7f7\"], [0.6, \"#e6f5d0\"], [0.7, \"#b8e186\"], [0.8, \"#7fbc41\"], [0.9, \"#4d9221\"], [1, \"#276419\"]], \"sequential\": [[0.0, \"#0d0887\"], [0.1111111111111111, \"#46039f\"], [0.2222222222222222, \"#7201a8\"], [0.3333333333333333, \"#9c179e\"], [0.4444444444444444, \"#bd3786\"], [0.5555555555555556, \"#d8576b\"], [0.6666666666666666, \"#ed7953\"], [0.7777777777777778, \"#fb9f3a\"], [0.8888888888888888, \"#fdca26\"], [1.0, \"#f0f921\"]], \"sequentialminus\": [[0.0, \"#0d0887\"], [0.1111111111111111, \"#46039f\"], [0.2222222222222222, \"#7201a8\"], [0.3333333333333333, \"#9c179e\"], [0.4444444444444444, \"#bd3786\"], [0.5555555555555556, \"#d8576b\"], [0.6666666666666666, \"#ed7953\"], [0.7777777777777778, \"#fb9f3a\"], [0.8888888888888888, \"#fdca26\"], [1.0, \"#f0f921\"]]}, \"colorway\": [\"#636efa\", \"#EF553B\", \"#00cc96\", \"#ab63fa\", \"#FFA15A\", \"#19d3f3\", \"#FF6692\", \"#B6E880\", \"#FF97FF\", \"#FECB52\"], \"font\": {\"color\": \"#f2f5fa\"}, \"geo\": {\"bgcolor\": \"rgb(17,17,17)\", \"lakecolor\": \"rgb(17,17,17)\", \"landcolor\": \"rgb(17,17,17)\", \"showlakes\": true, \"showland\": true, \"subunitcolor\": \"#506784\"}, \"hoverlabel\": {\"align\": \"left\"}, \"hovermode\": \"closest\", \"mapbox\": {\"style\": \"dark\"}, \"paper_bgcolor\": \"rgb(17,17,17)\", \"plot_bgcolor\": \"rgb(17,17,17)\", \"polar\": {\"angularaxis\": {\"gridcolor\": \"#506784\", \"linecolor\": \"#506784\", \"ticks\": \"\"}, \"bgcolor\": \"rgb(17,17,17)\", \"radialaxis\": {\"gridcolor\": \"#506784\", \"linecolor\": \"#506784\", \"ticks\": \"\"}}, \"scene\": {\"xaxis\": {\"backgroundcolor\": \"rgb(17,17,17)\", \"gridcolor\": \"#506784\", \"gridwidth\": 2, \"linecolor\": \"#506784\", \"showbackground\": true, \"ticks\": \"\", \"zerolinecolor\": \"#C8D4E3\"}, \"yaxis\": {\"backgroundcolor\": \"rgb(17,17,17)\", \"gridcolor\": \"#506784\", \"gridwidth\": 2, \"linecolor\": \"#506784\", \"showbackground\": true, \"ticks\": \"\", \"zerolinecolor\": \"#C8D4E3\"}, \"zaxis\": {\"backgroundcolor\": \"rgb(17,17,17)\", \"gridcolor\": \"#506784\", \"gridwidth\": 2, \"linecolor\": \"#506784\", \"showbackground\": true, \"ticks\": \"\", \"zerolinecolor\": \"#C8D4E3\"}}, \"shapedefaults\": {\"line\": {\"color\": \"#f2f5fa\"}}, \"sliderdefaults\": {\"bgcolor\": \"#C8D4E3\", \"bordercolor\": \"rgb(17,17,17)\", \"borderwidth\": 1, \"tickwidth\": 0}, \"ternary\": {\"aaxis\": {\"gridcolor\": \"#506784\", \"linecolor\": \"#506784\", \"ticks\": \"\"}, \"baxis\": {\"gridcolor\": \"#506784\", \"linecolor\": \"#506784\", \"ticks\": \"\"}, \"bgcolor\": \"rgb(17,17,17)\", \"caxis\": {\"gridcolor\": \"#506784\", \"linecolor\": \"#506784\", \"ticks\": \"\"}}, \"title\": {\"x\": 0.05}, \"updatemenudefaults\": {\"bgcolor\": \"#506784\", \"borderwidth\": 0}, \"xaxis\": {\"automargin\": true, \"gridcolor\": \"#283442\", \"linecolor\": \"#506784\", \"ticks\": \"\", \"title\": {\"standoff\": 15}, \"zerolinecolor\": \"#283442\", \"zerolinewidth\": 2}, \"yaxis\": {\"automargin\": true, \"gridcolor\": \"#283442\", \"linecolor\": \"#506784\", \"ticks\": \"\", \"title\": {\"standoff\": 15}, \"zerolinecolor\": \"#283442\", \"zerolinewidth\": 2}}}, \"title\": {\"text\": \"JHU's in-state tuition percentage change over time from 1996 to 2019\"}, \"xaxis\": {\"anchor\": \"y\", \"domain\": [0.0, 1.0], \"title\": {\"text\": \"Year\"}}, \"yaxis\": {\"anchor\": \"x\", \"domain\": [0.0, 1.0], \"title\": {\"text\": \"Percentage Change\"}}},                        {\"responsive\": true}                    ).then(function(){\n                            \nvar gd = document.getElementById('cac30738-9ecb-40a6-9f39-08ef04b3bf83');\nvar x = new MutationObserver(function (mutations, observer) {{\n        var display = window.getComputedStyle(gd).display;\n        if (!display || display === 'none') {{\n            console.log([gd, 'removed!']);\n            Plotly.purge(gd);\n            observer.disconnect();\n        }}\n}});\n\n// Listen for the removal of the full notebook cells\nvar notebookContainer = gd.closest('#notebook-container');\nif (notebookContainer) {{\n    x.observe(notebookContainer, {childList: true});\n}}\n\n// Listen for the clearing of the current output cell\nvar outputEl = gd.closest('.output');\nif (outputEl) {{\n    x.observe(outputEl, {childList: true});\n}}\n\n                        })                };                            </script>        </div>\n</body>\n</html>"
     },
     "metadata": {},
     "output_type": "display_data"
    }
   ]
  },
  {
   "cell_type": "markdown",
   "source": "### Bar and line charts side by side:",
   "metadata": {
    "tags": [],
    "cell_id": "00075-cdef2999-946c-4651-b42f-667edd1b803a",
    "deepnote_cell_type": "markdown"
   }
  },
  {
   "cell_type": "code",
   "metadata": {
    "tags": [],
    "cell_id": "00075-8f557770-d360-4d96-a4e7-07b0628d2082",
    "deepnote_to_be_reexecuted": false,
    "source_hash": "eb654440",
    "execution_start": 1620442013426,
    "execution_millis": 80,
    "deepnote_cell_type": "code"
   },
   "source": "from plotly.subplots import make_subplots\n#import plotly.graph_objects as go <--- already imported previously\n\nfig = make_subplots(rows=1, cols=2)\n\nfig.add_trace(\n    go.Bar(x=frame3['YEAR'], y=frame3['PCT_CHANGE']),\n    row=1, col=1\n)\n\nfig.add_trace(\n    go.Scatter(x=frame3['YEAR'], y=frame3['PCT_CHANGE']),\n    row=1, col=2\n)\n\nfig.update_layout(height=600, width=1200, title_text=\"Side By Side Subplots\", showlegend=False)\nfig.show()",
   "execution_count": 49,
   "outputs": [
    {
     "data": {
      "text/html": "<html>\n<head><meta charset=\"utf-8\" /></head>\n<body>\n    <div>            <script src=\"https://cdnjs.cloudflare.com/ajax/libs/mathjax/2.7.5/MathJax.js?config=TeX-AMS-MML_SVG\"></script><script type=\"text/javascript\">if (window.MathJax) {MathJax.Hub.Config({SVG: {font: \"STIX-Web\"}});}</script>                <script type=\"text/javascript\">window.PlotlyConfig = {MathJaxConfig: 'local'};</script>\n        <script src=\"https://cdn.plot.ly/plotly-latest.min.js\"></script>                <div id=\"e3954511-822f-479c-84ba-100e33beebf8\" class=\"plotly-graph-div\" style=\"height:600px; width:1200px;\"></div>            <script type=\"text/javascript\">                                    window.PLOTLYENV=window.PLOTLYENV || {};                                    if (document.getElementById(\"e3954511-822f-479c-84ba-100e33beebf8\")) {                    Plotly.newPlot(                        \"e3954511-822f-479c-84ba-100e33beebf8\",                        [{\"type\": \"bar\", \"x\": [\"1996\", \"1997\", \"1998\", \"1999\", \"2000\", \"2001\", \"2002\", \"2003\", \"2004\", \"2005\", \"2006\", \"2007\", \"2008\", \"2009\", \"2010\", \"2011\", \"2012\", \"2013\", \"2014\", \"2015\", \"2016\", \"2017\", \"2018\"], \"xaxis\": \"x\", \"y\": [null, null, null, null, 5.13, 4.5, 4.89, 4.91, 4.91, 7.21, 5.9, 5.01, 3.85, 3.91, 3.93, 2.63, 4.79, 3.5, 3.51, 3.49, 3.49, 3.01, null], \"yaxis\": \"y\"}, {\"type\": \"scatter\", \"x\": [\"1996\", \"1997\", \"1998\", \"1999\", \"2000\", \"2001\", \"2002\", \"2003\", \"2004\", \"2005\", \"2006\", \"2007\", \"2008\", \"2009\", \"2010\", \"2011\", \"2012\", \"2013\", \"2014\", \"2015\", \"2016\", \"2017\", \"2018\"], \"xaxis\": \"x2\", \"y\": [null, null, null, null, 5.13, 4.5, 4.89, 4.91, 4.91, 7.21, 5.9, 5.01, 3.85, 3.91, 3.93, 2.63, 4.79, 3.5, 3.51, 3.49, 3.49, 3.01, null], \"yaxis\": \"y2\"}],                        {\"height\": 600, \"showlegend\": false, \"template\": {\"data\": {\"bar\": [{\"error_x\": {\"color\": \"#f2f5fa\"}, \"error_y\": {\"color\": \"#f2f5fa\"}, \"marker\": {\"line\": {\"color\": \"rgb(17,17,17)\", \"width\": 0.5}}, \"type\": \"bar\"}], \"barpolar\": [{\"marker\": {\"line\": {\"color\": \"rgb(17,17,17)\", \"width\": 0.5}}, \"type\": \"barpolar\"}], \"carpet\": [{\"aaxis\": {\"endlinecolor\": \"#A2B1C6\", \"gridcolor\": \"#506784\", \"linecolor\": \"#506784\", \"minorgridcolor\": \"#506784\", \"startlinecolor\": \"#A2B1C6\"}, \"baxis\": {\"endlinecolor\": \"#A2B1C6\", \"gridcolor\": \"#506784\", \"linecolor\": \"#506784\", \"minorgridcolor\": \"#506784\", \"startlinecolor\": \"#A2B1C6\"}, \"type\": \"carpet\"}], \"choropleth\": [{\"colorbar\": {\"outlinewidth\": 0, \"ticks\": \"\"}, \"type\": \"choropleth\"}], \"contour\": [{\"colorbar\": {\"outlinewidth\": 0, \"ticks\": \"\"}, \"colorscale\": [[0.0, \"#0d0887\"], [0.1111111111111111, \"#46039f\"], [0.2222222222222222, \"#7201a8\"], [0.3333333333333333, \"#9c179e\"], [0.4444444444444444, \"#bd3786\"], [0.5555555555555556, \"#d8576b\"], [0.6666666666666666, \"#ed7953\"], [0.7777777777777778, \"#fb9f3a\"], [0.8888888888888888, \"#fdca26\"], [1.0, \"#f0f921\"]], \"type\": \"contour\"}], \"contourcarpet\": [{\"colorbar\": {\"outlinewidth\": 0, \"ticks\": \"\"}, \"type\": \"contourcarpet\"}], \"heatmap\": [{\"colorbar\": {\"outlinewidth\": 0, \"ticks\": \"\"}, \"colorscale\": [[0.0, \"#0d0887\"], [0.1111111111111111, \"#46039f\"], [0.2222222222222222, \"#7201a8\"], [0.3333333333333333, \"#9c179e\"], [0.4444444444444444, \"#bd3786\"], [0.5555555555555556, \"#d8576b\"], [0.6666666666666666, \"#ed7953\"], [0.7777777777777778, \"#fb9f3a\"], [0.8888888888888888, \"#fdca26\"], [1.0, \"#f0f921\"]], \"type\": \"heatmap\"}], \"heatmapgl\": [{\"colorbar\": {\"outlinewidth\": 0, \"ticks\": \"\"}, \"colorscale\": [[0.0, \"#0d0887\"], [0.1111111111111111, \"#46039f\"], [0.2222222222222222, \"#7201a8\"], [0.3333333333333333, \"#9c179e\"], [0.4444444444444444, \"#bd3786\"], [0.5555555555555556, \"#d8576b\"], [0.6666666666666666, \"#ed7953\"], [0.7777777777777778, \"#fb9f3a\"], [0.8888888888888888, \"#fdca26\"], [1.0, \"#f0f921\"]], \"type\": \"heatmapgl\"}], \"histogram\": [{\"marker\": {\"colorbar\": {\"outlinewidth\": 0, \"ticks\": \"\"}}, \"type\": \"histogram\"}], \"histogram2d\": [{\"colorbar\": {\"outlinewidth\": 0, \"ticks\": \"\"}, \"colorscale\": [[0.0, \"#0d0887\"], [0.1111111111111111, \"#46039f\"], [0.2222222222222222, \"#7201a8\"], [0.3333333333333333, \"#9c179e\"], [0.4444444444444444, \"#bd3786\"], [0.5555555555555556, \"#d8576b\"], [0.6666666666666666, \"#ed7953\"], [0.7777777777777778, \"#fb9f3a\"], [0.8888888888888888, \"#fdca26\"], [1.0, \"#f0f921\"]], \"type\": \"histogram2d\"}], \"histogram2dcontour\": [{\"colorbar\": {\"outlinewidth\": 0, \"ticks\": \"\"}, \"colorscale\": [[0.0, \"#0d0887\"], [0.1111111111111111, \"#46039f\"], [0.2222222222222222, \"#7201a8\"], [0.3333333333333333, \"#9c179e\"], [0.4444444444444444, \"#bd3786\"], [0.5555555555555556, \"#d8576b\"], [0.6666666666666666, \"#ed7953\"], [0.7777777777777778, \"#fb9f3a\"], [0.8888888888888888, \"#fdca26\"], [1.0, \"#f0f921\"]], \"type\": \"histogram2dcontour\"}], \"mesh3d\": [{\"colorbar\": {\"outlinewidth\": 0, \"ticks\": \"\"}, \"type\": \"mesh3d\"}], \"parcoords\": [{\"line\": {\"colorbar\": {\"outlinewidth\": 0, \"ticks\": \"\"}}, \"type\": \"parcoords\"}], \"pie\": [{\"automargin\": true, \"type\": \"pie\"}], \"scatter\": [{\"marker\": {\"line\": {\"color\": \"#283442\"}}, \"type\": \"scatter\"}], \"scatter3d\": [{\"line\": {\"colorbar\": {\"outlinewidth\": 0, \"ticks\": \"\"}}, \"marker\": {\"colorbar\": {\"outlinewidth\": 0, \"ticks\": \"\"}}, \"type\": \"scatter3d\"}], \"scattercarpet\": [{\"marker\": {\"colorbar\": {\"outlinewidth\": 0, \"ticks\": \"\"}}, \"type\": \"scattercarpet\"}], \"scattergeo\": [{\"marker\": {\"colorbar\": {\"outlinewidth\": 0, \"ticks\": \"\"}}, \"type\": \"scattergeo\"}], \"scattergl\": [{\"marker\": {\"line\": {\"color\": \"#283442\"}}, \"type\": \"scattergl\"}], \"scattermapbox\": [{\"marker\": {\"colorbar\": {\"outlinewidth\": 0, \"ticks\": \"\"}}, \"type\": \"scattermapbox\"}], \"scatterpolar\": [{\"marker\": {\"colorbar\": {\"outlinewidth\": 0, \"ticks\": \"\"}}, \"type\": \"scatterpolar\"}], \"scatterpolargl\": [{\"marker\": {\"colorbar\": {\"outlinewidth\": 0, \"ticks\": \"\"}}, \"type\": \"scatterpolargl\"}], \"scatterternary\": [{\"marker\": {\"colorbar\": {\"outlinewidth\": 0, \"ticks\": \"\"}}, \"type\": \"scatterternary\"}], \"surface\": [{\"colorbar\": {\"outlinewidth\": 0, \"ticks\": \"\"}, \"colorscale\": [[0.0, \"#0d0887\"], [0.1111111111111111, \"#46039f\"], [0.2222222222222222, \"#7201a8\"], [0.3333333333333333, \"#9c179e\"], [0.4444444444444444, \"#bd3786\"], [0.5555555555555556, \"#d8576b\"], [0.6666666666666666, \"#ed7953\"], [0.7777777777777778, \"#fb9f3a\"], [0.8888888888888888, \"#fdca26\"], [1.0, \"#f0f921\"]], \"type\": \"surface\"}], \"table\": [{\"cells\": {\"fill\": {\"color\": \"#506784\"}, \"line\": {\"color\": \"rgb(17,17,17)\"}}, \"header\": {\"fill\": {\"color\": \"#2a3f5f\"}, \"line\": {\"color\": \"rgb(17,17,17)\"}}, \"type\": \"table\"}]}, \"layout\": {\"annotationdefaults\": {\"arrowcolor\": \"#f2f5fa\", \"arrowhead\": 0, \"arrowwidth\": 1}, \"autotypenumbers\": \"strict\", \"coloraxis\": {\"colorbar\": {\"outlinewidth\": 0, \"ticks\": \"\"}}, \"colorscale\": {\"diverging\": [[0, \"#8e0152\"], [0.1, \"#c51b7d\"], [0.2, \"#de77ae\"], [0.3, \"#f1b6da\"], [0.4, \"#fde0ef\"], [0.5, \"#f7f7f7\"], [0.6, \"#e6f5d0\"], [0.7, \"#b8e186\"], [0.8, \"#7fbc41\"], [0.9, \"#4d9221\"], [1, \"#276419\"]], \"sequential\": [[0.0, \"#0d0887\"], [0.1111111111111111, \"#46039f\"], [0.2222222222222222, \"#7201a8\"], [0.3333333333333333, \"#9c179e\"], [0.4444444444444444, \"#bd3786\"], [0.5555555555555556, \"#d8576b\"], [0.6666666666666666, \"#ed7953\"], [0.7777777777777778, \"#fb9f3a\"], [0.8888888888888888, \"#fdca26\"], [1.0, \"#f0f921\"]], \"sequentialminus\": [[0.0, \"#0d0887\"], [0.1111111111111111, \"#46039f\"], [0.2222222222222222, \"#7201a8\"], [0.3333333333333333, \"#9c179e\"], [0.4444444444444444, \"#bd3786\"], [0.5555555555555556, \"#d8576b\"], [0.6666666666666666, \"#ed7953\"], [0.7777777777777778, \"#fb9f3a\"], [0.8888888888888888, \"#fdca26\"], [1.0, \"#f0f921\"]]}, \"colorway\": [\"#636efa\", \"#EF553B\", \"#00cc96\", \"#ab63fa\", \"#FFA15A\", \"#19d3f3\", \"#FF6692\", \"#B6E880\", \"#FF97FF\", \"#FECB52\"], \"font\": {\"color\": \"#f2f5fa\"}, \"geo\": {\"bgcolor\": \"rgb(17,17,17)\", \"lakecolor\": \"rgb(17,17,17)\", \"landcolor\": \"rgb(17,17,17)\", \"showlakes\": true, \"showland\": true, \"subunitcolor\": \"#506784\"}, \"hoverlabel\": {\"align\": \"left\"}, \"hovermode\": \"closest\", \"mapbox\": {\"style\": \"dark\"}, \"paper_bgcolor\": \"rgb(17,17,17)\", \"plot_bgcolor\": \"rgb(17,17,17)\", \"polar\": {\"angularaxis\": {\"gridcolor\": \"#506784\", \"linecolor\": \"#506784\", \"ticks\": \"\"}, \"bgcolor\": \"rgb(17,17,17)\", \"radialaxis\": {\"gridcolor\": \"#506784\", \"linecolor\": \"#506784\", \"ticks\": \"\"}}, \"scene\": {\"xaxis\": {\"backgroundcolor\": \"rgb(17,17,17)\", \"gridcolor\": \"#506784\", \"gridwidth\": 2, \"linecolor\": \"#506784\", \"showbackground\": true, \"ticks\": \"\", \"zerolinecolor\": \"#C8D4E3\"}, \"yaxis\": {\"backgroundcolor\": \"rgb(17,17,17)\", \"gridcolor\": \"#506784\", \"gridwidth\": 2, \"linecolor\": \"#506784\", \"showbackground\": true, \"ticks\": \"\", \"zerolinecolor\": \"#C8D4E3\"}, \"zaxis\": {\"backgroundcolor\": \"rgb(17,17,17)\", \"gridcolor\": \"#506784\", \"gridwidth\": 2, \"linecolor\": \"#506784\", \"showbackground\": true, \"ticks\": \"\", \"zerolinecolor\": \"#C8D4E3\"}}, \"shapedefaults\": {\"line\": {\"color\": \"#f2f5fa\"}}, \"sliderdefaults\": {\"bgcolor\": \"#C8D4E3\", \"bordercolor\": \"rgb(17,17,17)\", \"borderwidth\": 1, \"tickwidth\": 0}, \"ternary\": {\"aaxis\": {\"gridcolor\": \"#506784\", \"linecolor\": \"#506784\", \"ticks\": \"\"}, \"baxis\": {\"gridcolor\": \"#506784\", \"linecolor\": \"#506784\", \"ticks\": \"\"}, \"bgcolor\": \"rgb(17,17,17)\", \"caxis\": {\"gridcolor\": \"#506784\", \"linecolor\": \"#506784\", \"ticks\": \"\"}}, \"title\": {\"x\": 0.05}, \"updatemenudefaults\": {\"bgcolor\": \"#506784\", \"borderwidth\": 0}, \"xaxis\": {\"automargin\": true, \"gridcolor\": \"#283442\", \"linecolor\": \"#506784\", \"ticks\": \"\", \"title\": {\"standoff\": 15}, \"zerolinecolor\": \"#283442\", \"zerolinewidth\": 2}, \"yaxis\": {\"automargin\": true, \"gridcolor\": \"#283442\", \"linecolor\": \"#506784\", \"ticks\": \"\", \"title\": {\"standoff\": 15}, \"zerolinecolor\": \"#283442\", \"zerolinewidth\": 2}}}, \"title\": {\"text\": \"Side By Side Subplots\"}, \"width\": 1200, \"xaxis\": {\"anchor\": \"y\", \"domain\": [0.0, 0.45]}, \"xaxis2\": {\"anchor\": \"y2\", \"domain\": [0.55, 1.0]}, \"yaxis\": {\"anchor\": \"x\", \"domain\": [0.0, 1.0]}, \"yaxis2\": {\"anchor\": \"x2\", \"domain\": [0.0, 1.0]}},                        {\"responsive\": true}                    ).then(function(){\n                            \nvar gd = document.getElementById('e3954511-822f-479c-84ba-100e33beebf8');\nvar x = new MutationObserver(function (mutations, observer) {{\n        var display = window.getComputedStyle(gd).display;\n        if (!display || display === 'none') {{\n            console.log([gd, 'removed!']);\n            Plotly.purge(gd);\n            observer.disconnect();\n        }}\n}});\n\n// Listen for the removal of the full notebook cells\nvar notebookContainer = gd.closest('#notebook-container');\nif (notebookContainer) {{\n    x.observe(notebookContainer, {childList: true});\n}}\n\n// Listen for the clearing of the current output cell\nvar outputEl = gd.closest('.output');\nif (outputEl) {{\n    x.observe(outputEl, {childList: true});\n}}\n\n                        })                };                            </script>        </div>\n</body>\n</html>"
     },
     "metadata": {},
     "output_type": "display_data"
    }
   ]
  },
  {
   "cell_type": "markdown",
   "source": "## 18 - Plot UMBC and JHU tuition change over time in the same plot. \n### In order to plot both UMBC and JHU tuition change over time in the same plot, we need to combine the two datasets using the common key of YEAR. \n### First make a umbc2 dataframe with only two columns needed. We don't need other columns.\n### Also change the column name from \"PCT_CHANGE\" to \"UMBC_PCT\" in preparation for the merge.\n### This is because both umbc and jhu dataframe have the same column name \"PCT_CHANGE\",\n### We will rename them so there is no collision during the merge. ",
   "metadata": {
    "tags": [],
    "cell_id": "00077-a7661f86-87e6-4af5-9d7d-0aad71b3d184",
    "deepnote_cell_type": "markdown"
   }
  },
  {
   "cell_type": "code",
   "metadata": {
    "tags": [],
    "cell_id": "00078-432e3b50-71a8-44d4-b43c-49bdd015f89f",
    "deepnote_to_be_reexecuted": false,
    "source_hash": "20fbe523",
    "execution_start": 1620442017082,
    "execution_millis": 62,
    "deepnote_cell_type": "code"
   },
   "source": "umbc2 = frame2[['YEAR','PCT_CHANGE']] \numbc2 = umbc2.rename(columns={'PCT_CHANGE': 'UMBC_PCT'})\numbc2",
   "execution_count": 50,
   "outputs": [
    {
     "output_type": "execute_result",
     "execution_count": 50,
     "data": {
      "application/vnd.deepnote.dataframe.v2+json": {
       "row_count": 23,
       "column_count": 2,
       "columns": [
        {
         "name": "YEAR",
         "dtype": "object",
         "stats": {
          "unique_count": 23,
          "nan_count": 0,
          "categories": [
           {
            "name": "1996",
            "count": 1
           },
           {
            "name": "1997",
            "count": 1
           },
           {
            "name": "21 others",
            "count": 21
           }
          ]
         }
        },
        {
         "name": "UMBC_PCT",
         "dtype": "float64",
         "stats": {
          "unique_count": 16,
          "nan_count": 5,
          "min": "0.83",
          "max": "16.13",
          "histogram": [
           {
            "bin_start": 0.83,
            "bin_end": 2.36,
            "count": 7
           },
           {
            "bin_start": 2.36,
            "bin_end": 3.8899999999999997,
            "count": 5
           },
           {
            "bin_start": 3.8899999999999997,
            "bin_end": 5.42,
            "count": 0
           },
           {
            "bin_start": 5.42,
            "bin_end": 6.949999999999999,
            "count": 2
           },
           {
            "bin_start": 6.949999999999999,
            "bin_end": 8.479999999999999,
            "count": 2
           },
           {
            "bin_start": 8.479999999999999,
            "bin_end": 10.01,
            "count": 1
           },
           {
            "bin_start": 10.01,
            "bin_end": 11.54,
            "count": 0
           },
           {
            "bin_start": 11.54,
            "bin_end": 13.069999999999999,
            "count": 0
           },
           {
            "bin_start": 13.069999999999999,
            "bin_end": 14.599999999999998,
            "count": 0
           },
           {
            "bin_start": 14.599999999999998,
            "bin_end": 16.13,
            "count": 1
           }
          ]
         }
        },
        {
         "name": "_deepnote_index_column",
         "dtype": "int64"
        }
       ],
       "rows_top": [
        {
         "YEAR": "1996",
         "UMBC_PCT": "nan",
         "_deepnote_index_column": 31272
        },
        {
         "YEAR": "1997",
         "UMBC_PCT": "nan",
         "_deepnote_index_column": 8701
        },
        {
         "YEAR": "1998",
         "UMBC_PCT": "nan",
         "_deepnote_index_column": 108028
        },
        {
         "YEAR": "1999",
         "UMBC_PCT": "nan",
         "_deepnote_index_column": 87820
        },
        {
         "YEAR": "2000",
         "UMBC_PCT": "7.65",
         "_deepnote_index_column": 38054
        },
        {
         "YEAR": "2001",
         "UMBC_PCT": "7.65",
         "_deepnote_index_column": 129350
        },
        {
         "YEAR": "2002",
         "UMBC_PCT": "16.13",
         "_deepnote_index_column": 1893
        },
        {
         "YEAR": "2003",
         "UMBC_PCT": "8.55",
         "_deepnote_index_column": 101246
        },
        {
         "YEAR": "2004",
         "UMBC_PCT": "6.23",
         "_deepnote_index_column": 59329
        },
        {
         "YEAR": "2005",
         "UMBC_PCT": "1.2",
         "_deepnote_index_column": 94293
        },
        {
         "YEAR": "2006",
         "UMBC_PCT": "1.0",
         "_deepnote_index_column": 66045
        },
        {
         "YEAR": "2007",
         "UMBC_PCT": "0.83",
         "_deepnote_index_column": 52307
        },
        {
         "YEAR": "2008",
         "UMBC_PCT": "1.05",
         "_deepnote_index_column": 158043
        },
        {
         "YEAR": "2009",
         "UMBC_PCT": "3.37",
         "_deepnote_index_column": 121963
        },
        {
         "YEAR": "2010",
         "UMBC_PCT": "3.23",
         "_deepnote_index_column": 114458
        },
        {
         "YEAR": "2011",
         "UMBC_PCT": "3.14",
         "_deepnote_index_column": 44476
        },
        {
         "YEAR": "2012",
         "UMBC_PCT": "3.11",
         "_deepnote_index_column": 79663
        },
        {
         "YEAR": "2013",
         "UMBC_PCT": "3.14",
         "_deepnote_index_column": 22881
        },
        {
         "YEAR": "2014",
         "UMBC_PCT": "5.99",
         "_deepnote_index_column": 142882
        },
        {
         "YEAR": "2015",
         "UMBC_PCT": "2.34",
         "_deepnote_index_column": 15141
        },
        {
         "YEAR": "2016",
         "UMBC_PCT": "2.25",
         "_deepnote_index_column": 150548
        },
        {
         "YEAR": "2017",
         "UMBC_PCT": "2.26",
         "_deepnote_index_column": 135638
        },
        {
         "YEAR": "2018",
         "UMBC_PCT": "nan",
         "_deepnote_index_column": 72612
        }
       ],
       "rows_bottom": null
      },
      "text/plain": "        YEAR  UMBC_PCT\n31272   1996       NaN\n8701    1997       NaN\n108028  1998       NaN\n87820   1999       NaN\n38054   2000      7.65\n129350  2001      7.65\n1893    2002     16.13\n101246  2003      8.55\n59329   2004      6.23\n94293   2005      1.20\n66045   2006      1.00\n52307   2007      0.83\n158043  2008      1.05\n121963  2009      3.37\n114458  2010      3.23\n44476   2011      3.14\n79663   2012      3.11\n22881   2013      3.14\n142882  2014      5.99\n15141   2015      2.34\n150548  2016      2.25\n135638  2017      2.26\n72612   2018       NaN",
      "text/html": "<div>\n<style scoped>\n    .dataframe tbody tr th:only-of-type {\n        vertical-align: middle;\n    }\n\n    .dataframe tbody tr th {\n        vertical-align: top;\n    }\n\n    .dataframe thead th {\n        text-align: right;\n    }\n</style>\n<table border=\"1\" class=\"dataframe\">\n  <thead>\n    <tr style=\"text-align: right;\">\n      <th></th>\n      <th>YEAR</th>\n      <th>UMBC_PCT</th>\n    </tr>\n  </thead>\n  <tbody>\n    <tr>\n      <th>31272</th>\n      <td>1996</td>\n      <td>NaN</td>\n    </tr>\n    <tr>\n      <th>8701</th>\n      <td>1997</td>\n      <td>NaN</td>\n    </tr>\n    <tr>\n      <th>108028</th>\n      <td>1998</td>\n      <td>NaN</td>\n    </tr>\n    <tr>\n      <th>87820</th>\n      <td>1999</td>\n      <td>NaN</td>\n    </tr>\n    <tr>\n      <th>38054</th>\n      <td>2000</td>\n      <td>7.65</td>\n    </tr>\n    <tr>\n      <th>129350</th>\n      <td>2001</td>\n      <td>7.65</td>\n    </tr>\n    <tr>\n      <th>1893</th>\n      <td>2002</td>\n      <td>16.13</td>\n    </tr>\n    <tr>\n      <th>101246</th>\n      <td>2003</td>\n      <td>8.55</td>\n    </tr>\n    <tr>\n      <th>59329</th>\n      <td>2004</td>\n      <td>6.23</td>\n    </tr>\n    <tr>\n      <th>94293</th>\n      <td>2005</td>\n      <td>1.20</td>\n    </tr>\n    <tr>\n      <th>66045</th>\n      <td>2006</td>\n      <td>1.00</td>\n    </tr>\n    <tr>\n      <th>52307</th>\n      <td>2007</td>\n      <td>0.83</td>\n    </tr>\n    <tr>\n      <th>158043</th>\n      <td>2008</td>\n      <td>1.05</td>\n    </tr>\n    <tr>\n      <th>121963</th>\n      <td>2009</td>\n      <td>3.37</td>\n    </tr>\n    <tr>\n      <th>114458</th>\n      <td>2010</td>\n      <td>3.23</td>\n    </tr>\n    <tr>\n      <th>44476</th>\n      <td>2011</td>\n      <td>3.14</td>\n    </tr>\n    <tr>\n      <th>79663</th>\n      <td>2012</td>\n      <td>3.11</td>\n    </tr>\n    <tr>\n      <th>22881</th>\n      <td>2013</td>\n      <td>3.14</td>\n    </tr>\n    <tr>\n      <th>142882</th>\n      <td>2014</td>\n      <td>5.99</td>\n    </tr>\n    <tr>\n      <th>15141</th>\n      <td>2015</td>\n      <td>2.34</td>\n    </tr>\n    <tr>\n      <th>150548</th>\n      <td>2016</td>\n      <td>2.25</td>\n    </tr>\n    <tr>\n      <th>135638</th>\n      <td>2017</td>\n      <td>2.26</td>\n    </tr>\n    <tr>\n      <th>72612</th>\n      <td>2018</td>\n      <td>NaN</td>\n    </tr>\n  </tbody>\n</table>\n</div>"
     },
     "metadata": {}
    }
   ]
  },
  {
   "cell_type": "markdown",
   "source": "### Make a jhu2 dataframe with only two columns needed. We don't need other columns.\n### Also change the column name from \"PCT_CHANGE\" to \"JHU_PCT\"  in preparation for the merge.",
   "metadata": {
    "tags": [],
    "cell_id": "00079-e8c2d8ed-91da-460b-832d-9d23c3bded52",
    "deepnote_cell_type": "markdown"
   }
  },
  {
   "cell_type": "code",
   "metadata": {
    "tags": [],
    "cell_id": "00079-a7361b5f-5d53-419b-9966-3ff921c05f69",
    "deepnote_to_be_reexecuted": false,
    "source_hash": "ac848d53",
    "execution_start": 1620442020130,
    "execution_millis": 36,
    "deepnote_cell_type": "code"
   },
   "source": "jhu2 = frame3[['YEAR','PCT_CHANGE']] \njhu2 = jhu2.rename(columns={'PCT_CHANGE': 'JHU_PCT'})\njhu2",
   "execution_count": 51,
   "outputs": [
    {
     "output_type": "execute_result",
     "execution_count": 51,
     "data": {
      "application/vnd.deepnote.dataframe.v2+json": {
       "row_count": 23,
       "column_count": 2,
       "columns": [
        {
         "name": "YEAR",
         "dtype": "object",
         "stats": {
          "unique_count": 23,
          "nan_count": 0,
          "categories": [
           {
            "name": "1996",
            "count": 1
           },
           {
            "name": "1997",
            "count": 1
           },
           {
            "name": "21 others",
            "count": 21
           }
          ]
         }
        },
        {
         "name": "JHU_PCT",
         "dtype": "float64",
         "stats": {
          "unique_count": 16,
          "nan_count": 5,
          "min": "2.63",
          "max": "7.21",
          "histogram": [
           {
            "bin_start": 2.63,
            "bin_end": 3.088,
            "count": 2
           },
           {
            "bin_start": 3.088,
            "bin_end": 3.546,
            "count": 4
           },
           {
            "bin_start": 3.546,
            "bin_end": 4.004,
            "count": 3
           },
           {
            "bin_start": 4.004,
            "bin_end": 4.462,
            "count": 0
           },
           {
            "bin_start": 4.462,
            "bin_end": 4.92,
            "count": 5
           },
           {
            "bin_start": 4.92,
            "bin_end": 5.378,
            "count": 2
           },
           {
            "bin_start": 5.378,
            "bin_end": 5.836,
            "count": 0
           },
           {
            "bin_start": 5.836,
            "bin_end": 6.2940000000000005,
            "count": 1
           },
           {
            "bin_start": 6.2940000000000005,
            "bin_end": 6.752,
            "count": 0
           },
           {
            "bin_start": 6.752,
            "bin_end": 7.21,
            "count": 1
           }
          ]
         }
        },
        {
         "name": "_deepnote_index_column",
         "dtype": "int64"
        }
       ],
       "rows_top": [
        {
         "YEAR": "1996",
         "JHU_PCT": "nan",
         "_deepnote_index_column": 31260
        },
        {
         "YEAR": "1997",
         "JHU_PCT": "nan",
         "_deepnote_index_column": 8691
        },
        {
         "YEAR": "1998",
         "JHU_PCT": "nan",
         "_deepnote_index_column": 108019
        },
        {
         "YEAR": "1999",
         "JHU_PCT": "nan",
         "_deepnote_index_column": 87811
        },
        {
         "YEAR": "2000",
         "JHU_PCT": "5.13",
         "_deepnote_index_column": 38045
        },
        {
         "YEAR": "2001",
         "JHU_PCT": "4.5",
         "_deepnote_index_column": 129341
        },
        {
         "YEAR": "2002",
         "JHU_PCT": "4.89",
         "_deepnote_index_column": 1884
        },
        {
         "YEAR": "2003",
         "JHU_PCT": "4.91",
         "_deepnote_index_column": 101238
        },
        {
         "YEAR": "2004",
         "JHU_PCT": "4.91",
         "_deepnote_index_column": 59322
        },
        {
         "YEAR": "2005",
         "JHU_PCT": "7.21",
         "_deepnote_index_column": 94286
        },
        {
         "YEAR": "2006",
         "JHU_PCT": "5.9",
         "_deepnote_index_column": 66038
        },
        {
         "YEAR": "2007",
         "JHU_PCT": "5.01",
         "_deepnote_index_column": 52300
        },
        {
         "YEAR": "2008",
         "JHU_PCT": "3.85",
         "_deepnote_index_column": 158036
        },
        {
         "YEAR": "2009",
         "JHU_PCT": "3.91",
         "_deepnote_index_column": 121956
        },
        {
         "YEAR": "2010",
         "JHU_PCT": "3.93",
         "_deepnote_index_column": 114451
        },
        {
         "YEAR": "2011",
         "JHU_PCT": "2.63",
         "_deepnote_index_column": 44469
        },
        {
         "YEAR": "2012",
         "JHU_PCT": "4.79",
         "_deepnote_index_column": 79656
        },
        {
         "YEAR": "2013",
         "JHU_PCT": "3.5",
         "_deepnote_index_column": 22874
        },
        {
         "YEAR": "2014",
         "JHU_PCT": "3.51",
         "_deepnote_index_column": 142875
        },
        {
         "YEAR": "2015",
         "JHU_PCT": "3.49",
         "_deepnote_index_column": 15134
        },
        {
         "YEAR": "2016",
         "JHU_PCT": "3.49",
         "_deepnote_index_column": 150541
        },
        {
         "YEAR": "2017",
         "JHU_PCT": "3.01",
         "_deepnote_index_column": 135633
        },
        {
         "YEAR": "2018",
         "JHU_PCT": "nan",
         "_deepnote_index_column": 72607
        }
       ],
       "rows_bottom": null
      },
      "text/plain": "        YEAR  JHU_PCT\n31260   1996      NaN\n8691    1997      NaN\n108019  1998      NaN\n87811   1999      NaN\n38045   2000     5.13\n129341  2001     4.50\n1884    2002     4.89\n101238  2003     4.91\n59322   2004     4.91\n94286   2005     7.21\n66038   2006     5.90\n52300   2007     5.01\n158036  2008     3.85\n121956  2009     3.91\n114451  2010     3.93\n44469   2011     2.63\n79656   2012     4.79\n22874   2013     3.50\n142875  2014     3.51\n15134   2015     3.49\n150541  2016     3.49\n135633  2017     3.01\n72607   2018      NaN",
      "text/html": "<div>\n<style scoped>\n    .dataframe tbody tr th:only-of-type {\n        vertical-align: middle;\n    }\n\n    .dataframe tbody tr th {\n        vertical-align: top;\n    }\n\n    .dataframe thead th {\n        text-align: right;\n    }\n</style>\n<table border=\"1\" class=\"dataframe\">\n  <thead>\n    <tr style=\"text-align: right;\">\n      <th></th>\n      <th>YEAR</th>\n      <th>JHU_PCT</th>\n    </tr>\n  </thead>\n  <tbody>\n    <tr>\n      <th>31260</th>\n      <td>1996</td>\n      <td>NaN</td>\n    </tr>\n    <tr>\n      <th>8691</th>\n      <td>1997</td>\n      <td>NaN</td>\n    </tr>\n    <tr>\n      <th>108019</th>\n      <td>1998</td>\n      <td>NaN</td>\n    </tr>\n    <tr>\n      <th>87811</th>\n      <td>1999</td>\n      <td>NaN</td>\n    </tr>\n    <tr>\n      <th>38045</th>\n      <td>2000</td>\n      <td>5.13</td>\n    </tr>\n    <tr>\n      <th>129341</th>\n      <td>2001</td>\n      <td>4.50</td>\n    </tr>\n    <tr>\n      <th>1884</th>\n      <td>2002</td>\n      <td>4.89</td>\n    </tr>\n    <tr>\n      <th>101238</th>\n      <td>2003</td>\n      <td>4.91</td>\n    </tr>\n    <tr>\n      <th>59322</th>\n      <td>2004</td>\n      <td>4.91</td>\n    </tr>\n    <tr>\n      <th>94286</th>\n      <td>2005</td>\n      <td>7.21</td>\n    </tr>\n    <tr>\n      <th>66038</th>\n      <td>2006</td>\n      <td>5.90</td>\n    </tr>\n    <tr>\n      <th>52300</th>\n      <td>2007</td>\n      <td>5.01</td>\n    </tr>\n    <tr>\n      <th>158036</th>\n      <td>2008</td>\n      <td>3.85</td>\n    </tr>\n    <tr>\n      <th>121956</th>\n      <td>2009</td>\n      <td>3.91</td>\n    </tr>\n    <tr>\n      <th>114451</th>\n      <td>2010</td>\n      <td>3.93</td>\n    </tr>\n    <tr>\n      <th>44469</th>\n      <td>2011</td>\n      <td>2.63</td>\n    </tr>\n    <tr>\n      <th>79656</th>\n      <td>2012</td>\n      <td>4.79</td>\n    </tr>\n    <tr>\n      <th>22874</th>\n      <td>2013</td>\n      <td>3.50</td>\n    </tr>\n    <tr>\n      <th>142875</th>\n      <td>2014</td>\n      <td>3.51</td>\n    </tr>\n    <tr>\n      <th>15134</th>\n      <td>2015</td>\n      <td>3.49</td>\n    </tr>\n    <tr>\n      <th>150541</th>\n      <td>2016</td>\n      <td>3.49</td>\n    </tr>\n    <tr>\n      <th>135633</th>\n      <td>2017</td>\n      <td>3.01</td>\n    </tr>\n    <tr>\n      <th>72607</th>\n      <td>2018</td>\n      <td>NaN</td>\n    </tr>\n  </tbody>\n</table>\n</div>"
     },
     "metadata": {}
    }
   ]
  },
  {
   "cell_type": "markdown",
   "source": "### Merge and display the two data frames.",
   "metadata": {
    "tags": [],
    "cell_id": "00081-196419ff-57f4-4e2e-9d6e-244a4e1c7b64",
    "deepnote_cell_type": "markdown"
   }
  },
  {
   "cell_type": "code",
   "metadata": {
    "tags": [],
    "cell_id": "00082-8b4510e6-aea1-4209-8e33-148fdb40d47b",
    "deepnote_to_be_reexecuted": false,
    "source_hash": "2f4a91fd",
    "execution_start": 1620442023245,
    "execution_millis": 74,
    "deepnote_cell_type": "code"
   },
   "source": "frame4 = jhu2.merge(umbc2)\nframe4",
   "execution_count": 52,
   "outputs": [
    {
     "output_type": "execute_result",
     "execution_count": 52,
     "data": {
      "application/vnd.deepnote.dataframe.v2+json": {
       "row_count": 23,
       "column_count": 3,
       "columns": [
        {
         "name": "YEAR",
         "dtype": "object",
         "stats": {
          "unique_count": 23,
          "nan_count": 0,
          "categories": [
           {
            "name": "1996",
            "count": 1
           },
           {
            "name": "1997",
            "count": 1
           },
           {
            "name": "21 others",
            "count": 21
           }
          ]
         }
        },
        {
         "name": "JHU_PCT",
         "dtype": "float64",
         "stats": {
          "unique_count": 16,
          "nan_count": 5,
          "min": "2.63",
          "max": "7.21",
          "histogram": [
           {
            "bin_start": 2.63,
            "bin_end": 3.088,
            "count": 2
           },
           {
            "bin_start": 3.088,
            "bin_end": 3.546,
            "count": 4
           },
           {
            "bin_start": 3.546,
            "bin_end": 4.004,
            "count": 3
           },
           {
            "bin_start": 4.004,
            "bin_end": 4.462,
            "count": 0
           },
           {
            "bin_start": 4.462,
            "bin_end": 4.92,
            "count": 5
           },
           {
            "bin_start": 4.92,
            "bin_end": 5.378,
            "count": 2
           },
           {
            "bin_start": 5.378,
            "bin_end": 5.836,
            "count": 0
           },
           {
            "bin_start": 5.836,
            "bin_end": 6.2940000000000005,
            "count": 1
           },
           {
            "bin_start": 6.2940000000000005,
            "bin_end": 6.752,
            "count": 0
           },
           {
            "bin_start": 6.752,
            "bin_end": 7.21,
            "count": 1
           }
          ]
         }
        },
        {
         "name": "UMBC_PCT",
         "dtype": "float64",
         "stats": {
          "unique_count": 16,
          "nan_count": 5,
          "min": "0.83",
          "max": "16.13",
          "histogram": [
           {
            "bin_start": 0.83,
            "bin_end": 2.36,
            "count": 7
           },
           {
            "bin_start": 2.36,
            "bin_end": 3.8899999999999997,
            "count": 5
           },
           {
            "bin_start": 3.8899999999999997,
            "bin_end": 5.42,
            "count": 0
           },
           {
            "bin_start": 5.42,
            "bin_end": 6.949999999999999,
            "count": 2
           },
           {
            "bin_start": 6.949999999999999,
            "bin_end": 8.479999999999999,
            "count": 2
           },
           {
            "bin_start": 8.479999999999999,
            "bin_end": 10.01,
            "count": 1
           },
           {
            "bin_start": 10.01,
            "bin_end": 11.54,
            "count": 0
           },
           {
            "bin_start": 11.54,
            "bin_end": 13.069999999999999,
            "count": 0
           },
           {
            "bin_start": 13.069999999999999,
            "bin_end": 14.599999999999998,
            "count": 0
           },
           {
            "bin_start": 14.599999999999998,
            "bin_end": 16.13,
            "count": 1
           }
          ]
         }
        },
        {
         "name": "_deepnote_index_column",
         "dtype": "int64"
        }
       ],
       "rows_top": [
        {
         "YEAR": "1996",
         "JHU_PCT": "nan",
         "UMBC_PCT": "nan",
         "_deepnote_index_column": 0
        },
        {
         "YEAR": "1997",
         "JHU_PCT": "nan",
         "UMBC_PCT": "nan",
         "_deepnote_index_column": 1
        },
        {
         "YEAR": "1998",
         "JHU_PCT": "nan",
         "UMBC_PCT": "nan",
         "_deepnote_index_column": 2
        },
        {
         "YEAR": "1999",
         "JHU_PCT": "nan",
         "UMBC_PCT": "nan",
         "_deepnote_index_column": 3
        },
        {
         "YEAR": "2000",
         "JHU_PCT": "5.13",
         "UMBC_PCT": "7.65",
         "_deepnote_index_column": 4
        },
        {
         "YEAR": "2001",
         "JHU_PCT": "4.5",
         "UMBC_PCT": "7.65",
         "_deepnote_index_column": 5
        },
        {
         "YEAR": "2002",
         "JHU_PCT": "4.89",
         "UMBC_PCT": "16.13",
         "_deepnote_index_column": 6
        },
        {
         "YEAR": "2003",
         "JHU_PCT": "4.91",
         "UMBC_PCT": "8.55",
         "_deepnote_index_column": 7
        },
        {
         "YEAR": "2004",
         "JHU_PCT": "4.91",
         "UMBC_PCT": "6.23",
         "_deepnote_index_column": 8
        },
        {
         "YEAR": "2005",
         "JHU_PCT": "7.21",
         "UMBC_PCT": "1.2",
         "_deepnote_index_column": 9
        },
        {
         "YEAR": "2006",
         "JHU_PCT": "5.9",
         "UMBC_PCT": "1.0",
         "_deepnote_index_column": 10
        },
        {
         "YEAR": "2007",
         "JHU_PCT": "5.01",
         "UMBC_PCT": "0.83",
         "_deepnote_index_column": 11
        },
        {
         "YEAR": "2008",
         "JHU_PCT": "3.85",
         "UMBC_PCT": "1.05",
         "_deepnote_index_column": 12
        },
        {
         "YEAR": "2009",
         "JHU_PCT": "3.91",
         "UMBC_PCT": "3.37",
         "_deepnote_index_column": 13
        },
        {
         "YEAR": "2010",
         "JHU_PCT": "3.93",
         "UMBC_PCT": "3.23",
         "_deepnote_index_column": 14
        },
        {
         "YEAR": "2011",
         "JHU_PCT": "2.63",
         "UMBC_PCT": "3.14",
         "_deepnote_index_column": 15
        },
        {
         "YEAR": "2012",
         "JHU_PCT": "4.79",
         "UMBC_PCT": "3.11",
         "_deepnote_index_column": 16
        },
        {
         "YEAR": "2013",
         "JHU_PCT": "3.5",
         "UMBC_PCT": "3.14",
         "_deepnote_index_column": 17
        },
        {
         "YEAR": "2014",
         "JHU_PCT": "3.51",
         "UMBC_PCT": "5.99",
         "_deepnote_index_column": 18
        },
        {
         "YEAR": "2015",
         "JHU_PCT": "3.49",
         "UMBC_PCT": "2.34",
         "_deepnote_index_column": 19
        },
        {
         "YEAR": "2016",
         "JHU_PCT": "3.49",
         "UMBC_PCT": "2.25",
         "_deepnote_index_column": 20
        },
        {
         "YEAR": "2017",
         "JHU_PCT": "3.01",
         "UMBC_PCT": "2.26",
         "_deepnote_index_column": 21
        },
        {
         "YEAR": "2018",
         "JHU_PCT": "nan",
         "UMBC_PCT": "nan",
         "_deepnote_index_column": 22
        }
       ],
       "rows_bottom": null
      },
      "text/plain": "    YEAR  JHU_PCT  UMBC_PCT\n0   1996      NaN       NaN\n1   1997      NaN       NaN\n2   1998      NaN       NaN\n3   1999      NaN       NaN\n4   2000     5.13      7.65\n5   2001     4.50      7.65\n6   2002     4.89     16.13\n7   2003     4.91      8.55\n8   2004     4.91      6.23\n9   2005     7.21      1.20\n10  2006     5.90      1.00\n11  2007     5.01      0.83\n12  2008     3.85      1.05\n13  2009     3.91      3.37\n14  2010     3.93      3.23\n15  2011     2.63      3.14\n16  2012     4.79      3.11\n17  2013     3.50      3.14\n18  2014     3.51      5.99\n19  2015     3.49      2.34\n20  2016     3.49      2.25\n21  2017     3.01      2.26\n22  2018      NaN       NaN",
      "text/html": "<div>\n<style scoped>\n    .dataframe tbody tr th:only-of-type {\n        vertical-align: middle;\n    }\n\n    .dataframe tbody tr th {\n        vertical-align: top;\n    }\n\n    .dataframe thead th {\n        text-align: right;\n    }\n</style>\n<table border=\"1\" class=\"dataframe\">\n  <thead>\n    <tr style=\"text-align: right;\">\n      <th></th>\n      <th>YEAR</th>\n      <th>JHU_PCT</th>\n      <th>UMBC_PCT</th>\n    </tr>\n  </thead>\n  <tbody>\n    <tr>\n      <th>0</th>\n      <td>1996</td>\n      <td>NaN</td>\n      <td>NaN</td>\n    </tr>\n    <tr>\n      <th>1</th>\n      <td>1997</td>\n      <td>NaN</td>\n      <td>NaN</td>\n    </tr>\n    <tr>\n      <th>2</th>\n      <td>1998</td>\n      <td>NaN</td>\n      <td>NaN</td>\n    </tr>\n    <tr>\n      <th>3</th>\n      <td>1999</td>\n      <td>NaN</td>\n      <td>NaN</td>\n    </tr>\n    <tr>\n      <th>4</th>\n      <td>2000</td>\n      <td>5.13</td>\n      <td>7.65</td>\n    </tr>\n    <tr>\n      <th>5</th>\n      <td>2001</td>\n      <td>4.50</td>\n      <td>7.65</td>\n    </tr>\n    <tr>\n      <th>6</th>\n      <td>2002</td>\n      <td>4.89</td>\n      <td>16.13</td>\n    </tr>\n    <tr>\n      <th>7</th>\n      <td>2003</td>\n      <td>4.91</td>\n      <td>8.55</td>\n    </tr>\n    <tr>\n      <th>8</th>\n      <td>2004</td>\n      <td>4.91</td>\n      <td>6.23</td>\n    </tr>\n    <tr>\n      <th>9</th>\n      <td>2005</td>\n      <td>7.21</td>\n      <td>1.20</td>\n    </tr>\n    <tr>\n      <th>10</th>\n      <td>2006</td>\n      <td>5.90</td>\n      <td>1.00</td>\n    </tr>\n    <tr>\n      <th>11</th>\n      <td>2007</td>\n      <td>5.01</td>\n      <td>0.83</td>\n    </tr>\n    <tr>\n      <th>12</th>\n      <td>2008</td>\n      <td>3.85</td>\n      <td>1.05</td>\n    </tr>\n    <tr>\n      <th>13</th>\n      <td>2009</td>\n      <td>3.91</td>\n      <td>3.37</td>\n    </tr>\n    <tr>\n      <th>14</th>\n      <td>2010</td>\n      <td>3.93</td>\n      <td>3.23</td>\n    </tr>\n    <tr>\n      <th>15</th>\n      <td>2011</td>\n      <td>2.63</td>\n      <td>3.14</td>\n    </tr>\n    <tr>\n      <th>16</th>\n      <td>2012</td>\n      <td>4.79</td>\n      <td>3.11</td>\n    </tr>\n    <tr>\n      <th>17</th>\n      <td>2013</td>\n      <td>3.50</td>\n      <td>3.14</td>\n    </tr>\n    <tr>\n      <th>18</th>\n      <td>2014</td>\n      <td>3.51</td>\n      <td>5.99</td>\n    </tr>\n    <tr>\n      <th>19</th>\n      <td>2015</td>\n      <td>3.49</td>\n      <td>2.34</td>\n    </tr>\n    <tr>\n      <th>20</th>\n      <td>2016</td>\n      <td>3.49</td>\n      <td>2.25</td>\n    </tr>\n    <tr>\n      <th>21</th>\n      <td>2017</td>\n      <td>3.01</td>\n      <td>2.26</td>\n    </tr>\n    <tr>\n      <th>22</th>\n      <td>2018</td>\n      <td>NaN</td>\n      <td>NaN</td>\n    </tr>\n  </tbody>\n</table>\n</div>"
     },
     "metadata": {}
    }
   ]
  },
  {
   "cell_type": "markdown",
   "source": "### Plot UMBC and JHU separately on the same plot \n### However, this does not work since the bars overlap.\n",
   "metadata": {
    "tags": [],
    "cell_id": "00083-a61cde1e-d7fd-4f2c-844e-b891aef75ece",
    "deepnote_cell_type": "markdown"
   }
  },
  {
   "cell_type": "code",
   "metadata": {
    "tags": [],
    "cell_id": "00084-fbbb1a29-a97b-4df5-a316-766d71b433d5",
    "deepnote_to_be_reexecuted": false,
    "source_hash": "6d3fa30f",
    "execution_start": 1620442026254,
    "execution_millis": 67,
    "deepnote_cell_type": "code"
   },
   "source": "fig = go.Figure()\nfig.add_trace(\n    go.Bar(\n        x=frame4['YEAR'],\n        y=frame4['JHU_PCT'],\n        name='JHU'\n    ))\nfig.add_trace(\n    go.Bar(\n        x=frame4['YEAR'],\n        y=frame4['UMBC_PCT'],\n        marker_color='rgb(118,184,925)',\n        name='UMBC'\n    ))\n\nfig.update_layout(\n    title_text='UMBC and JHU in-state tuition overtime from 1996 to 2019',\n    xaxis=dict(\n        tickfont_size=14,\n        tickangle = 270,\n        showgrid = True,\n        zeroline = True,\n        showline = True,\n        showticklabels = True,\n        dtick=1,\n        title_text = 'Year'\n    ), #CAN'T MISS THIS ONE LITTLE COMMA!!!\n    yaxis=dict(\n        title_text = 'In State Tuition (in thousands of dollars)'\n    )\n)\n\nfig.show()",
   "execution_count": 53,
   "outputs": [
    {
     "data": {
      "text/html": "<html>\n<head><meta charset=\"utf-8\" /></head>\n<body>\n    <div>            <script src=\"https://cdnjs.cloudflare.com/ajax/libs/mathjax/2.7.5/MathJax.js?config=TeX-AMS-MML_SVG\"></script><script type=\"text/javascript\">if (window.MathJax) {MathJax.Hub.Config({SVG: {font: \"STIX-Web\"}});}</script>                <script type=\"text/javascript\">window.PlotlyConfig = {MathJaxConfig: 'local'};</script>\n        <script src=\"https://cdn.plot.ly/plotly-latest.min.js\"></script>                <div id=\"dc163488-b65e-40ae-b786-cb710ef545e3\" class=\"plotly-graph-div\" style=\"height:525px; width:100%;\"></div>            <script type=\"text/javascript\">                                    window.PLOTLYENV=window.PLOTLYENV || {};                                    if (document.getElementById(\"dc163488-b65e-40ae-b786-cb710ef545e3\")) {                    Plotly.newPlot(                        \"dc163488-b65e-40ae-b786-cb710ef545e3\",                        [{\"name\": \"JHU\", \"type\": \"bar\", \"x\": [\"1996\", \"1997\", \"1998\", \"1999\", \"2000\", \"2001\", \"2002\", \"2003\", \"2004\", \"2005\", \"2006\", \"2007\", \"2008\", \"2009\", \"2010\", \"2011\", \"2012\", \"2013\", \"2014\", \"2015\", \"2016\", \"2017\", \"2018\"], \"y\": [null, null, null, null, 5.13, 4.5, 4.89, 4.91, 4.91, 7.21, 5.9, 5.01, 3.85, 3.91, 3.93, 2.63, 4.79, 3.5, 3.51, 3.49, 3.49, 3.01, null]}, {\"marker\": {\"color\": \"rgb(118,184,925)\"}, \"name\": \"UMBC\", \"type\": \"bar\", \"x\": [\"1996\", \"1997\", \"1998\", \"1999\", \"2000\", \"2001\", \"2002\", \"2003\", \"2004\", \"2005\", \"2006\", \"2007\", \"2008\", \"2009\", \"2010\", \"2011\", \"2012\", \"2013\", \"2014\", \"2015\", \"2016\", \"2017\", \"2018\"], \"y\": [null, null, null, null, 7.65, 7.65, 16.13, 8.55, 6.23, 1.2, 1.0, 0.83, 1.05, 3.37, 3.23, 3.14, 3.11, 3.14, 5.99, 2.34, 2.25, 2.26, null]}],                        {\"template\": {\"data\": {\"bar\": [{\"error_x\": {\"color\": \"#f2f5fa\"}, \"error_y\": {\"color\": \"#f2f5fa\"}, \"marker\": {\"line\": {\"color\": \"rgb(17,17,17)\", \"width\": 0.5}}, \"type\": \"bar\"}], \"barpolar\": [{\"marker\": {\"line\": {\"color\": \"rgb(17,17,17)\", \"width\": 0.5}}, \"type\": \"barpolar\"}], \"carpet\": [{\"aaxis\": {\"endlinecolor\": \"#A2B1C6\", \"gridcolor\": \"#506784\", \"linecolor\": \"#506784\", \"minorgridcolor\": \"#506784\", \"startlinecolor\": \"#A2B1C6\"}, \"baxis\": {\"endlinecolor\": \"#A2B1C6\", \"gridcolor\": \"#506784\", \"linecolor\": \"#506784\", \"minorgridcolor\": \"#506784\", \"startlinecolor\": \"#A2B1C6\"}, \"type\": \"carpet\"}], \"choropleth\": [{\"colorbar\": {\"outlinewidth\": 0, \"ticks\": \"\"}, \"type\": \"choropleth\"}], \"contour\": [{\"colorbar\": {\"outlinewidth\": 0, \"ticks\": \"\"}, \"colorscale\": [[0.0, \"#0d0887\"], [0.1111111111111111, \"#46039f\"], [0.2222222222222222, \"#7201a8\"], [0.3333333333333333, \"#9c179e\"], [0.4444444444444444, \"#bd3786\"], [0.5555555555555556, \"#d8576b\"], [0.6666666666666666, \"#ed7953\"], [0.7777777777777778, \"#fb9f3a\"], [0.8888888888888888, \"#fdca26\"], [1.0, \"#f0f921\"]], \"type\": \"contour\"}], \"contourcarpet\": [{\"colorbar\": {\"outlinewidth\": 0, \"ticks\": \"\"}, \"type\": \"contourcarpet\"}], \"heatmap\": [{\"colorbar\": {\"outlinewidth\": 0, \"ticks\": \"\"}, \"colorscale\": [[0.0, \"#0d0887\"], [0.1111111111111111, \"#46039f\"], [0.2222222222222222, \"#7201a8\"], [0.3333333333333333, \"#9c179e\"], [0.4444444444444444, \"#bd3786\"], [0.5555555555555556, \"#d8576b\"], [0.6666666666666666, \"#ed7953\"], [0.7777777777777778, \"#fb9f3a\"], [0.8888888888888888, \"#fdca26\"], [1.0, \"#f0f921\"]], \"type\": \"heatmap\"}], \"heatmapgl\": [{\"colorbar\": {\"outlinewidth\": 0, \"ticks\": \"\"}, \"colorscale\": [[0.0, \"#0d0887\"], [0.1111111111111111, \"#46039f\"], [0.2222222222222222, \"#7201a8\"], [0.3333333333333333, \"#9c179e\"], [0.4444444444444444, \"#bd3786\"], [0.5555555555555556, \"#d8576b\"], [0.6666666666666666, \"#ed7953\"], [0.7777777777777778, \"#fb9f3a\"], [0.8888888888888888, \"#fdca26\"], [1.0, \"#f0f921\"]], \"type\": \"heatmapgl\"}], \"histogram\": [{\"marker\": {\"colorbar\": {\"outlinewidth\": 0, \"ticks\": \"\"}}, \"type\": \"histogram\"}], \"histogram2d\": [{\"colorbar\": {\"outlinewidth\": 0, \"ticks\": \"\"}, \"colorscale\": [[0.0, \"#0d0887\"], [0.1111111111111111, \"#46039f\"], [0.2222222222222222, \"#7201a8\"], [0.3333333333333333, \"#9c179e\"], [0.4444444444444444, \"#bd3786\"], [0.5555555555555556, \"#d8576b\"], [0.6666666666666666, \"#ed7953\"], [0.7777777777777778, \"#fb9f3a\"], [0.8888888888888888, \"#fdca26\"], [1.0, \"#f0f921\"]], \"type\": \"histogram2d\"}], \"histogram2dcontour\": [{\"colorbar\": {\"outlinewidth\": 0, \"ticks\": \"\"}, \"colorscale\": [[0.0, \"#0d0887\"], [0.1111111111111111, \"#46039f\"], [0.2222222222222222, \"#7201a8\"], [0.3333333333333333, \"#9c179e\"], [0.4444444444444444, \"#bd3786\"], [0.5555555555555556, \"#d8576b\"], [0.6666666666666666, \"#ed7953\"], [0.7777777777777778, \"#fb9f3a\"], [0.8888888888888888, \"#fdca26\"], [1.0, \"#f0f921\"]], \"type\": \"histogram2dcontour\"}], \"mesh3d\": [{\"colorbar\": {\"outlinewidth\": 0, \"ticks\": \"\"}, \"type\": \"mesh3d\"}], \"parcoords\": [{\"line\": {\"colorbar\": {\"outlinewidth\": 0, \"ticks\": \"\"}}, \"type\": \"parcoords\"}], \"pie\": [{\"automargin\": true, \"type\": \"pie\"}], \"scatter\": [{\"marker\": {\"line\": {\"color\": \"#283442\"}}, \"type\": \"scatter\"}], \"scatter3d\": [{\"line\": {\"colorbar\": {\"outlinewidth\": 0, \"ticks\": \"\"}}, \"marker\": {\"colorbar\": {\"outlinewidth\": 0, \"ticks\": \"\"}}, \"type\": \"scatter3d\"}], \"scattercarpet\": [{\"marker\": {\"colorbar\": {\"outlinewidth\": 0, \"ticks\": \"\"}}, \"type\": \"scattercarpet\"}], \"scattergeo\": [{\"marker\": {\"colorbar\": {\"outlinewidth\": 0, \"ticks\": \"\"}}, \"type\": \"scattergeo\"}], \"scattergl\": [{\"marker\": {\"line\": {\"color\": \"#283442\"}}, \"type\": \"scattergl\"}], \"scattermapbox\": [{\"marker\": {\"colorbar\": {\"outlinewidth\": 0, \"ticks\": \"\"}}, \"type\": \"scattermapbox\"}], \"scatterpolar\": [{\"marker\": {\"colorbar\": {\"outlinewidth\": 0, \"ticks\": \"\"}}, \"type\": \"scatterpolar\"}], \"scatterpolargl\": [{\"marker\": {\"colorbar\": {\"outlinewidth\": 0, \"ticks\": \"\"}}, \"type\": \"scatterpolargl\"}], \"scatterternary\": [{\"marker\": {\"colorbar\": {\"outlinewidth\": 0, \"ticks\": \"\"}}, \"type\": \"scatterternary\"}], \"surface\": [{\"colorbar\": {\"outlinewidth\": 0, \"ticks\": \"\"}, \"colorscale\": [[0.0, \"#0d0887\"], [0.1111111111111111, \"#46039f\"], [0.2222222222222222, \"#7201a8\"], [0.3333333333333333, \"#9c179e\"], [0.4444444444444444, \"#bd3786\"], [0.5555555555555556, \"#d8576b\"], [0.6666666666666666, \"#ed7953\"], [0.7777777777777778, \"#fb9f3a\"], [0.8888888888888888, \"#fdca26\"], [1.0, \"#f0f921\"]], \"type\": \"surface\"}], \"table\": [{\"cells\": {\"fill\": {\"color\": \"#506784\"}, \"line\": {\"color\": \"rgb(17,17,17)\"}}, \"header\": {\"fill\": {\"color\": \"#2a3f5f\"}, \"line\": {\"color\": \"rgb(17,17,17)\"}}, \"type\": \"table\"}]}, \"layout\": {\"annotationdefaults\": {\"arrowcolor\": \"#f2f5fa\", \"arrowhead\": 0, \"arrowwidth\": 1}, \"autotypenumbers\": \"strict\", \"coloraxis\": {\"colorbar\": {\"outlinewidth\": 0, \"ticks\": \"\"}}, \"colorscale\": {\"diverging\": [[0, \"#8e0152\"], [0.1, \"#c51b7d\"], [0.2, \"#de77ae\"], [0.3, \"#f1b6da\"], [0.4, \"#fde0ef\"], [0.5, \"#f7f7f7\"], [0.6, \"#e6f5d0\"], [0.7, \"#b8e186\"], [0.8, \"#7fbc41\"], [0.9, \"#4d9221\"], [1, \"#276419\"]], \"sequential\": [[0.0, \"#0d0887\"], [0.1111111111111111, \"#46039f\"], [0.2222222222222222, \"#7201a8\"], [0.3333333333333333, \"#9c179e\"], [0.4444444444444444, \"#bd3786\"], [0.5555555555555556, \"#d8576b\"], [0.6666666666666666, \"#ed7953\"], [0.7777777777777778, \"#fb9f3a\"], [0.8888888888888888, \"#fdca26\"], [1.0, \"#f0f921\"]], \"sequentialminus\": [[0.0, \"#0d0887\"], [0.1111111111111111, \"#46039f\"], [0.2222222222222222, \"#7201a8\"], [0.3333333333333333, \"#9c179e\"], [0.4444444444444444, \"#bd3786\"], [0.5555555555555556, \"#d8576b\"], [0.6666666666666666, \"#ed7953\"], [0.7777777777777778, \"#fb9f3a\"], [0.8888888888888888, \"#fdca26\"], [1.0, \"#f0f921\"]]}, \"colorway\": [\"#636efa\", \"#EF553B\", \"#00cc96\", \"#ab63fa\", \"#FFA15A\", \"#19d3f3\", \"#FF6692\", \"#B6E880\", \"#FF97FF\", \"#FECB52\"], \"font\": {\"color\": \"#f2f5fa\"}, \"geo\": {\"bgcolor\": \"rgb(17,17,17)\", \"lakecolor\": \"rgb(17,17,17)\", \"landcolor\": \"rgb(17,17,17)\", \"showlakes\": true, \"showland\": true, \"subunitcolor\": \"#506784\"}, \"hoverlabel\": {\"align\": \"left\"}, \"hovermode\": \"closest\", \"mapbox\": {\"style\": \"dark\"}, \"paper_bgcolor\": \"rgb(17,17,17)\", \"plot_bgcolor\": \"rgb(17,17,17)\", \"polar\": {\"angularaxis\": {\"gridcolor\": \"#506784\", \"linecolor\": \"#506784\", \"ticks\": \"\"}, \"bgcolor\": \"rgb(17,17,17)\", \"radialaxis\": {\"gridcolor\": \"#506784\", \"linecolor\": \"#506784\", \"ticks\": \"\"}}, \"scene\": {\"xaxis\": {\"backgroundcolor\": \"rgb(17,17,17)\", \"gridcolor\": \"#506784\", \"gridwidth\": 2, \"linecolor\": \"#506784\", \"showbackground\": true, \"ticks\": \"\", \"zerolinecolor\": \"#C8D4E3\"}, \"yaxis\": {\"backgroundcolor\": \"rgb(17,17,17)\", \"gridcolor\": \"#506784\", \"gridwidth\": 2, \"linecolor\": \"#506784\", \"showbackground\": true, \"ticks\": \"\", \"zerolinecolor\": \"#C8D4E3\"}, \"zaxis\": {\"backgroundcolor\": \"rgb(17,17,17)\", \"gridcolor\": \"#506784\", \"gridwidth\": 2, \"linecolor\": \"#506784\", \"showbackground\": true, \"ticks\": \"\", \"zerolinecolor\": \"#C8D4E3\"}}, \"shapedefaults\": {\"line\": {\"color\": \"#f2f5fa\"}}, \"sliderdefaults\": {\"bgcolor\": \"#C8D4E3\", \"bordercolor\": \"rgb(17,17,17)\", \"borderwidth\": 1, \"tickwidth\": 0}, \"ternary\": {\"aaxis\": {\"gridcolor\": \"#506784\", \"linecolor\": \"#506784\", \"ticks\": \"\"}, \"baxis\": {\"gridcolor\": \"#506784\", \"linecolor\": \"#506784\", \"ticks\": \"\"}, \"bgcolor\": \"rgb(17,17,17)\", \"caxis\": {\"gridcolor\": \"#506784\", \"linecolor\": \"#506784\", \"ticks\": \"\"}}, \"title\": {\"x\": 0.05}, \"updatemenudefaults\": {\"bgcolor\": \"#506784\", \"borderwidth\": 0}, \"xaxis\": {\"automargin\": true, \"gridcolor\": \"#283442\", \"linecolor\": \"#506784\", \"ticks\": \"\", \"title\": {\"standoff\": 15}, \"zerolinecolor\": \"#283442\", \"zerolinewidth\": 2}, \"yaxis\": {\"automargin\": true, \"gridcolor\": \"#283442\", \"linecolor\": \"#506784\", \"ticks\": \"\", \"title\": {\"standoff\": 15}, \"zerolinecolor\": \"#283442\", \"zerolinewidth\": 2}}}, \"title\": {\"text\": \"UMBC and JHU in-state tuition overtime from 1996 to 2019\"}, \"xaxis\": {\"dtick\": 1, \"showgrid\": true, \"showline\": true, \"showticklabels\": true, \"tickangle\": -90, \"tickfont\": {\"size\": 14}, \"title\": {\"text\": \"Year\"}, \"zeroline\": true}, \"yaxis\": {\"title\": {\"text\": \"In State Tuition (in thousands of dollars)\"}}},                        {\"responsive\": true}                    ).then(function(){\n                            \nvar gd = document.getElementById('dc163488-b65e-40ae-b786-cb710ef545e3');\nvar x = new MutationObserver(function (mutations, observer) {{\n        var display = window.getComputedStyle(gd).display;\n        if (!display || display === 'none') {{\n            console.log([gd, 'removed!']);\n            Plotly.purge(gd);\n            observer.disconnect();\n        }}\n}});\n\n// Listen for the removal of the full notebook cells\nvar notebookContainer = gd.closest('#notebook-container');\nif (notebookContainer) {{\n    x.observe(notebookContainer, {childList: true});\n}}\n\n// Listen for the clearing of the current output cell\nvar outputEl = gd.closest('.output');\nif (outputEl) {{\n    x.observe(outputEl, {childList: true});\n}}\n\n                        })                };                            </script>        </div>\n</body>\n</html>"
     },
     "metadata": {},
     "output_type": "display_data"
    }
   ]
  },
  {
   "cell_type": "markdown",
   "source": "### Plot them together using y=[\"UMBC_PCT\",\"JHU_PCT\"] option of bar plot",
   "metadata": {
    "tags": [],
    "cell_id": "00085-98c20a11-b184-4ec3-a23e-fb5336ac0307",
    "deepnote_cell_type": "markdown"
   }
  },
  {
   "cell_type": "code",
   "metadata": {
    "tags": [],
    "cell_id": "00086-c81e6a15-ea86-45c0-a751-f60cd9698c3d",
    "deepnote_to_be_reexecuted": false,
    "source_hash": "47758b81",
    "execution_start": 1620442030574,
    "execution_millis": 208,
    "deepnote_cell_type": "code"
   },
   "source": "fig = px.bar(frame4, x='YEAR', y=[\"UMBC_PCT\",\"JHU_PCT\"])\nfig.update_layout(\n    title=\"UMBC and JHU's in-state tuition percentage change over time from 1996 to 2019\",\n    xaxis_title=\"Year\",\n    yaxis_title=\"Percentage Change\"\n    )\n#fig.update_xaxes(categoryorder=\"total ascending\") don't use this, because we already sorted the years\nfig.show()",
   "execution_count": 54,
   "outputs": [
    {
     "data": {
      "text/html": "<html>\n<head><meta charset=\"utf-8\" /></head>\n<body>\n    <div>            <script src=\"https://cdnjs.cloudflare.com/ajax/libs/mathjax/2.7.5/MathJax.js?config=TeX-AMS-MML_SVG\"></script><script type=\"text/javascript\">if (window.MathJax) {MathJax.Hub.Config({SVG: {font: \"STIX-Web\"}});}</script>                <script type=\"text/javascript\">window.PlotlyConfig = {MathJaxConfig: 'local'};</script>\n        <script src=\"https://cdn.plot.ly/plotly-latest.min.js\"></script>                <div id=\"159a1d9c-80ca-48d1-a5d0-0dfd77890da7\" class=\"plotly-graph-div\" style=\"height:525px; width:100%;\"></div>            <script type=\"text/javascript\">                                    window.PLOTLYENV=window.PLOTLYENV || {};                                    if (document.getElementById(\"159a1d9c-80ca-48d1-a5d0-0dfd77890da7\")) {                    Plotly.newPlot(                        \"159a1d9c-80ca-48d1-a5d0-0dfd77890da7\",                        [{\"alignmentgroup\": \"True\", \"hovertemplate\": \"variable=UMBC_PCT<br>YEAR=%{x}<br>value=%{y}<extra></extra>\", \"legendgroup\": \"UMBC_PCT\", \"marker\": {\"color\": \"#636efa\"}, \"name\": \"UMBC_PCT\", \"offsetgroup\": \"UMBC_PCT\", \"orientation\": \"v\", \"showlegend\": true, \"textposition\": \"auto\", \"type\": \"bar\", \"x\": [\"1996\", \"1997\", \"1998\", \"1999\", \"2000\", \"2001\", \"2002\", \"2003\", \"2004\", \"2005\", \"2006\", \"2007\", \"2008\", \"2009\", \"2010\", \"2011\", \"2012\", \"2013\", \"2014\", \"2015\", \"2016\", \"2017\", \"2018\"], \"xaxis\": \"x\", \"y\": [null, null, null, null, 7.65, 7.65, 16.13, 8.55, 6.23, 1.2, 1.0, 0.83, 1.05, 3.37, 3.23, 3.14, 3.11, 3.14, 5.99, 2.34, 2.25, 2.26, null], \"yaxis\": \"y\"}, {\"alignmentgroup\": \"True\", \"hovertemplate\": \"variable=JHU_PCT<br>YEAR=%{x}<br>value=%{y}<extra></extra>\", \"legendgroup\": \"JHU_PCT\", \"marker\": {\"color\": \"#EF553B\"}, \"name\": \"JHU_PCT\", \"offsetgroup\": \"JHU_PCT\", \"orientation\": \"v\", \"showlegend\": true, \"textposition\": \"auto\", \"type\": \"bar\", \"x\": [\"1996\", \"1997\", \"1998\", \"1999\", \"2000\", \"2001\", \"2002\", \"2003\", \"2004\", \"2005\", \"2006\", \"2007\", \"2008\", \"2009\", \"2010\", \"2011\", \"2012\", \"2013\", \"2014\", \"2015\", \"2016\", \"2017\", \"2018\"], \"xaxis\": \"x\", \"y\": [null, null, null, null, 5.13, 4.5, 4.89, 4.91, 4.91, 7.21, 5.9, 5.01, 3.85, 3.91, 3.93, 2.63, 4.79, 3.5, 3.51, 3.49, 3.49, 3.01, null], \"yaxis\": \"y\"}],                        {\"barmode\": \"relative\", \"legend\": {\"title\": {\"text\": \"variable\"}, \"tracegroupgap\": 0}, \"margin\": {\"t\": 60}, \"template\": {\"data\": {\"bar\": [{\"error_x\": {\"color\": \"#f2f5fa\"}, \"error_y\": {\"color\": \"#f2f5fa\"}, \"marker\": {\"line\": {\"color\": \"rgb(17,17,17)\", \"width\": 0.5}}, \"type\": \"bar\"}], \"barpolar\": [{\"marker\": {\"line\": {\"color\": \"rgb(17,17,17)\", \"width\": 0.5}}, \"type\": \"barpolar\"}], \"carpet\": [{\"aaxis\": {\"endlinecolor\": \"#A2B1C6\", \"gridcolor\": \"#506784\", \"linecolor\": \"#506784\", \"minorgridcolor\": \"#506784\", \"startlinecolor\": \"#A2B1C6\"}, \"baxis\": {\"endlinecolor\": \"#A2B1C6\", \"gridcolor\": \"#506784\", \"linecolor\": \"#506784\", \"minorgridcolor\": \"#506784\", \"startlinecolor\": \"#A2B1C6\"}, \"type\": \"carpet\"}], \"choropleth\": [{\"colorbar\": {\"outlinewidth\": 0, \"ticks\": \"\"}, \"type\": \"choropleth\"}], \"contour\": [{\"colorbar\": {\"outlinewidth\": 0, \"ticks\": \"\"}, \"colorscale\": [[0.0, \"#0d0887\"], [0.1111111111111111, \"#46039f\"], [0.2222222222222222, \"#7201a8\"], [0.3333333333333333, \"#9c179e\"], [0.4444444444444444, \"#bd3786\"], [0.5555555555555556, \"#d8576b\"], [0.6666666666666666, \"#ed7953\"], [0.7777777777777778, \"#fb9f3a\"], [0.8888888888888888, \"#fdca26\"], [1.0, \"#f0f921\"]], \"type\": \"contour\"}], \"contourcarpet\": [{\"colorbar\": {\"outlinewidth\": 0, \"ticks\": \"\"}, \"type\": \"contourcarpet\"}], \"heatmap\": [{\"colorbar\": {\"outlinewidth\": 0, \"ticks\": \"\"}, \"colorscale\": [[0.0, \"#0d0887\"], [0.1111111111111111, \"#46039f\"], [0.2222222222222222, \"#7201a8\"], [0.3333333333333333, \"#9c179e\"], [0.4444444444444444, \"#bd3786\"], [0.5555555555555556, \"#d8576b\"], [0.6666666666666666, \"#ed7953\"], [0.7777777777777778, \"#fb9f3a\"], [0.8888888888888888, \"#fdca26\"], [1.0, \"#f0f921\"]], \"type\": \"heatmap\"}], \"heatmapgl\": [{\"colorbar\": {\"outlinewidth\": 0, \"ticks\": \"\"}, \"colorscale\": [[0.0, \"#0d0887\"], [0.1111111111111111, \"#46039f\"], [0.2222222222222222, \"#7201a8\"], [0.3333333333333333, \"#9c179e\"], [0.4444444444444444, \"#bd3786\"], [0.5555555555555556, \"#d8576b\"], [0.6666666666666666, \"#ed7953\"], [0.7777777777777778, \"#fb9f3a\"], [0.8888888888888888, \"#fdca26\"], [1.0, \"#f0f921\"]], \"type\": \"heatmapgl\"}], \"histogram\": [{\"marker\": {\"colorbar\": {\"outlinewidth\": 0, \"ticks\": \"\"}}, \"type\": \"histogram\"}], \"histogram2d\": [{\"colorbar\": {\"outlinewidth\": 0, \"ticks\": \"\"}, \"colorscale\": [[0.0, \"#0d0887\"], [0.1111111111111111, \"#46039f\"], [0.2222222222222222, \"#7201a8\"], [0.3333333333333333, \"#9c179e\"], [0.4444444444444444, \"#bd3786\"], [0.5555555555555556, \"#d8576b\"], [0.6666666666666666, \"#ed7953\"], [0.7777777777777778, \"#fb9f3a\"], [0.8888888888888888, \"#fdca26\"], [1.0, \"#f0f921\"]], \"type\": \"histogram2d\"}], \"histogram2dcontour\": [{\"colorbar\": {\"outlinewidth\": 0, \"ticks\": \"\"}, \"colorscale\": [[0.0, \"#0d0887\"], [0.1111111111111111, \"#46039f\"], [0.2222222222222222, \"#7201a8\"], [0.3333333333333333, \"#9c179e\"], [0.4444444444444444, \"#bd3786\"], [0.5555555555555556, \"#d8576b\"], [0.6666666666666666, \"#ed7953\"], [0.7777777777777778, \"#fb9f3a\"], [0.8888888888888888, \"#fdca26\"], [1.0, \"#f0f921\"]], \"type\": \"histogram2dcontour\"}], \"mesh3d\": [{\"colorbar\": {\"outlinewidth\": 0, \"ticks\": \"\"}, \"type\": \"mesh3d\"}], \"parcoords\": [{\"line\": {\"colorbar\": {\"outlinewidth\": 0, \"ticks\": \"\"}}, \"type\": \"parcoords\"}], \"pie\": [{\"automargin\": true, \"type\": \"pie\"}], \"scatter\": [{\"marker\": {\"line\": {\"color\": \"#283442\"}}, \"type\": \"scatter\"}], \"scatter3d\": [{\"line\": {\"colorbar\": {\"outlinewidth\": 0, \"ticks\": \"\"}}, \"marker\": {\"colorbar\": {\"outlinewidth\": 0, \"ticks\": \"\"}}, \"type\": \"scatter3d\"}], \"scattercarpet\": [{\"marker\": {\"colorbar\": {\"outlinewidth\": 0, \"ticks\": \"\"}}, \"type\": \"scattercarpet\"}], \"scattergeo\": [{\"marker\": {\"colorbar\": {\"outlinewidth\": 0, \"ticks\": \"\"}}, \"type\": \"scattergeo\"}], \"scattergl\": [{\"marker\": {\"line\": {\"color\": \"#283442\"}}, \"type\": \"scattergl\"}], \"scattermapbox\": [{\"marker\": {\"colorbar\": {\"outlinewidth\": 0, \"ticks\": \"\"}}, \"type\": \"scattermapbox\"}], \"scatterpolar\": [{\"marker\": {\"colorbar\": {\"outlinewidth\": 0, \"ticks\": \"\"}}, \"type\": \"scatterpolar\"}], \"scatterpolargl\": [{\"marker\": {\"colorbar\": {\"outlinewidth\": 0, \"ticks\": \"\"}}, \"type\": \"scatterpolargl\"}], \"scatterternary\": [{\"marker\": {\"colorbar\": {\"outlinewidth\": 0, \"ticks\": \"\"}}, \"type\": \"scatterternary\"}], \"surface\": [{\"colorbar\": {\"outlinewidth\": 0, \"ticks\": \"\"}, \"colorscale\": [[0.0, \"#0d0887\"], [0.1111111111111111, \"#46039f\"], [0.2222222222222222, \"#7201a8\"], [0.3333333333333333, \"#9c179e\"], [0.4444444444444444, \"#bd3786\"], [0.5555555555555556, \"#d8576b\"], [0.6666666666666666, \"#ed7953\"], [0.7777777777777778, \"#fb9f3a\"], [0.8888888888888888, \"#fdca26\"], [1.0, \"#f0f921\"]], \"type\": \"surface\"}], \"table\": [{\"cells\": {\"fill\": {\"color\": \"#506784\"}, \"line\": {\"color\": \"rgb(17,17,17)\"}}, \"header\": {\"fill\": {\"color\": \"#2a3f5f\"}, \"line\": {\"color\": \"rgb(17,17,17)\"}}, \"type\": \"table\"}]}, \"layout\": {\"annotationdefaults\": {\"arrowcolor\": \"#f2f5fa\", \"arrowhead\": 0, \"arrowwidth\": 1}, \"autotypenumbers\": \"strict\", \"coloraxis\": {\"colorbar\": {\"outlinewidth\": 0, \"ticks\": \"\"}}, \"colorscale\": {\"diverging\": [[0, \"#8e0152\"], [0.1, \"#c51b7d\"], [0.2, \"#de77ae\"], [0.3, \"#f1b6da\"], [0.4, \"#fde0ef\"], [0.5, \"#f7f7f7\"], [0.6, \"#e6f5d0\"], [0.7, \"#b8e186\"], [0.8, \"#7fbc41\"], [0.9, \"#4d9221\"], [1, \"#276419\"]], \"sequential\": [[0.0, \"#0d0887\"], [0.1111111111111111, \"#46039f\"], [0.2222222222222222, \"#7201a8\"], [0.3333333333333333, \"#9c179e\"], [0.4444444444444444, \"#bd3786\"], [0.5555555555555556, \"#d8576b\"], [0.6666666666666666, \"#ed7953\"], [0.7777777777777778, \"#fb9f3a\"], [0.8888888888888888, \"#fdca26\"], [1.0, \"#f0f921\"]], \"sequentialminus\": [[0.0, \"#0d0887\"], [0.1111111111111111, \"#46039f\"], [0.2222222222222222, \"#7201a8\"], [0.3333333333333333, \"#9c179e\"], [0.4444444444444444, \"#bd3786\"], [0.5555555555555556, \"#d8576b\"], [0.6666666666666666, \"#ed7953\"], [0.7777777777777778, \"#fb9f3a\"], [0.8888888888888888, \"#fdca26\"], [1.0, \"#f0f921\"]]}, \"colorway\": [\"#636efa\", \"#EF553B\", \"#00cc96\", \"#ab63fa\", \"#FFA15A\", \"#19d3f3\", \"#FF6692\", \"#B6E880\", \"#FF97FF\", \"#FECB52\"], \"font\": {\"color\": \"#f2f5fa\"}, \"geo\": {\"bgcolor\": \"rgb(17,17,17)\", \"lakecolor\": \"rgb(17,17,17)\", \"landcolor\": \"rgb(17,17,17)\", \"showlakes\": true, \"showland\": true, \"subunitcolor\": \"#506784\"}, \"hoverlabel\": {\"align\": \"left\"}, \"hovermode\": \"closest\", \"mapbox\": {\"style\": \"dark\"}, \"paper_bgcolor\": \"rgb(17,17,17)\", \"plot_bgcolor\": \"rgb(17,17,17)\", \"polar\": {\"angularaxis\": {\"gridcolor\": \"#506784\", \"linecolor\": \"#506784\", \"ticks\": \"\"}, \"bgcolor\": \"rgb(17,17,17)\", \"radialaxis\": {\"gridcolor\": \"#506784\", \"linecolor\": \"#506784\", \"ticks\": \"\"}}, \"scene\": {\"xaxis\": {\"backgroundcolor\": \"rgb(17,17,17)\", \"gridcolor\": \"#506784\", \"gridwidth\": 2, \"linecolor\": \"#506784\", \"showbackground\": true, \"ticks\": \"\", \"zerolinecolor\": \"#C8D4E3\"}, \"yaxis\": {\"backgroundcolor\": \"rgb(17,17,17)\", \"gridcolor\": \"#506784\", \"gridwidth\": 2, \"linecolor\": \"#506784\", \"showbackground\": true, \"ticks\": \"\", \"zerolinecolor\": \"#C8D4E3\"}, \"zaxis\": {\"backgroundcolor\": \"rgb(17,17,17)\", \"gridcolor\": \"#506784\", \"gridwidth\": 2, \"linecolor\": \"#506784\", \"showbackground\": true, \"ticks\": \"\", \"zerolinecolor\": \"#C8D4E3\"}}, \"shapedefaults\": {\"line\": {\"color\": \"#f2f5fa\"}}, \"sliderdefaults\": {\"bgcolor\": \"#C8D4E3\", \"bordercolor\": \"rgb(17,17,17)\", \"borderwidth\": 1, \"tickwidth\": 0}, \"ternary\": {\"aaxis\": {\"gridcolor\": \"#506784\", \"linecolor\": \"#506784\", \"ticks\": \"\"}, \"baxis\": {\"gridcolor\": \"#506784\", \"linecolor\": \"#506784\", \"ticks\": \"\"}, \"bgcolor\": \"rgb(17,17,17)\", \"caxis\": {\"gridcolor\": \"#506784\", \"linecolor\": \"#506784\", \"ticks\": \"\"}}, \"title\": {\"x\": 0.05}, \"updatemenudefaults\": {\"bgcolor\": \"#506784\", \"borderwidth\": 0}, \"xaxis\": {\"automargin\": true, \"gridcolor\": \"#283442\", \"linecolor\": \"#506784\", \"ticks\": \"\", \"title\": {\"standoff\": 15}, \"zerolinecolor\": \"#283442\", \"zerolinewidth\": 2}, \"yaxis\": {\"automargin\": true, \"gridcolor\": \"#283442\", \"linecolor\": \"#506784\", \"ticks\": \"\", \"title\": {\"standoff\": 15}, \"zerolinecolor\": \"#283442\", \"zerolinewidth\": 2}}}, \"title\": {\"text\": \"UMBC and JHU's in-state tuition percentage change over time from 1996 to 2019\"}, \"xaxis\": {\"anchor\": \"y\", \"domain\": [0.0, 1.0], \"title\": {\"text\": \"Year\"}}, \"yaxis\": {\"anchor\": \"x\", \"domain\": [0.0, 1.0], \"title\": {\"text\": \"Percentage Change\"}}},                        {\"responsive\": true}                    ).then(function(){\n                            \nvar gd = document.getElementById('159a1d9c-80ca-48d1-a5d0-0dfd77890da7');\nvar x = new MutationObserver(function (mutations, observer) {{\n        var display = window.getComputedStyle(gd).display;\n        if (!display || display === 'none') {{\n            console.log([gd, 'removed!']);\n            Plotly.purge(gd);\n            observer.disconnect();\n        }}\n}});\n\n// Listen for the removal of the full notebook cells\nvar notebookContainer = gd.closest('#notebook-container');\nif (notebookContainer) {{\n    x.observe(notebookContainer, {childList: true});\n}}\n\n// Listen for the clearing of the current output cell\nvar outputEl = gd.closest('.output');\nif (outputEl) {{\n    x.observe(outputEl, {childList: true});\n}}\n\n                        })                };                            </script>        </div>\n</body>\n</html>"
     },
     "metadata": {},
     "output_type": "display_data"
    }
   ]
  },
  {
   "cell_type": "markdown",
   "source": "### Plot them together using y=[\"UMBC_PCT\",\"JHU_PCT\"] option of line plot",
   "metadata": {
    "tags": [],
    "cell_id": "00087-83e6b52f-bf63-440f-8ca7-78f085cced08",
    "deepnote_cell_type": "markdown"
   }
  },
  {
   "cell_type": "code",
   "metadata": {
    "tags": [],
    "cell_id": "00087-42a0d73e-fe3c-4e67-a7d9-bba8da4be916",
    "deepnote_to_be_reexecuted": false,
    "source_hash": "d3acc5f5",
    "execution_start": 1620442049163,
    "execution_millis": 141,
    "deepnote_cell_type": "code"
   },
   "source": "fig = px.line(frame4, x='YEAR', y=[\"UMBC_PCT\",\"JHU_PCT\"])\nfig.update_layout(\n    title=\"UMBC and JHU's in-state tuition percentage change over time from 1996 to 2019\",\n    xaxis_title=\"Year\",\n    yaxis_title=\"Percentage Change\"\n    )\n#fig.update_xaxes(categoryorder=\"total ascending\") don't use this, because we already sorted the years\nfig.show()",
   "execution_count": 56,
   "outputs": [
    {
     "data": {
      "text/html": "<html>\n<head><meta charset=\"utf-8\" /></head>\n<body>\n    <div>            <script src=\"https://cdnjs.cloudflare.com/ajax/libs/mathjax/2.7.5/MathJax.js?config=TeX-AMS-MML_SVG\"></script><script type=\"text/javascript\">if (window.MathJax) {MathJax.Hub.Config({SVG: {font: \"STIX-Web\"}});}</script>                <script type=\"text/javascript\">window.PlotlyConfig = {MathJaxConfig: 'local'};</script>\n        <script src=\"https://cdn.plot.ly/plotly-latest.min.js\"></script>                <div id=\"32593b86-7c8c-41ad-bda9-5f27effdb338\" class=\"plotly-graph-div\" style=\"height:525px; width:100%;\"></div>            <script type=\"text/javascript\">                                    window.PLOTLYENV=window.PLOTLYENV || {};                                    if (document.getElementById(\"32593b86-7c8c-41ad-bda9-5f27effdb338\")) {                    Plotly.newPlot(                        \"32593b86-7c8c-41ad-bda9-5f27effdb338\",                        [{\"hovertemplate\": \"variable=UMBC_PCT<br>YEAR=%{x}<br>value=%{y}<extra></extra>\", \"legendgroup\": \"UMBC_PCT\", \"line\": {\"color\": \"#636efa\", \"dash\": \"solid\"}, \"mode\": \"lines\", \"name\": \"UMBC_PCT\", \"orientation\": \"v\", \"showlegend\": true, \"type\": \"scatter\", \"x\": [\"1996\", \"1997\", \"1998\", \"1999\", \"2000\", \"2001\", \"2002\", \"2003\", \"2004\", \"2005\", \"2006\", \"2007\", \"2008\", \"2009\", \"2010\", \"2011\", \"2012\", \"2013\", \"2014\", \"2015\", \"2016\", \"2017\", \"2018\"], \"xaxis\": \"x\", \"y\": [null, null, null, null, 7.65, 7.65, 16.13, 8.55, 6.23, 1.2, 1.0, 0.83, 1.05, 3.37, 3.23, 3.14, 3.11, 3.14, 5.99, 2.34, 2.25, 2.26, null], \"yaxis\": \"y\"}, {\"hovertemplate\": \"variable=JHU_PCT<br>YEAR=%{x}<br>value=%{y}<extra></extra>\", \"legendgroup\": \"JHU_PCT\", \"line\": {\"color\": \"#EF553B\", \"dash\": \"solid\"}, \"mode\": \"lines\", \"name\": \"JHU_PCT\", \"orientation\": \"v\", \"showlegend\": true, \"type\": \"scatter\", \"x\": [\"1996\", \"1997\", \"1998\", \"1999\", \"2000\", \"2001\", \"2002\", \"2003\", \"2004\", \"2005\", \"2006\", \"2007\", \"2008\", \"2009\", \"2010\", \"2011\", \"2012\", \"2013\", \"2014\", \"2015\", \"2016\", \"2017\", \"2018\"], \"xaxis\": \"x\", \"y\": [null, null, null, null, 5.13, 4.5, 4.89, 4.91, 4.91, 7.21, 5.9, 5.01, 3.85, 3.91, 3.93, 2.63, 4.79, 3.5, 3.51, 3.49, 3.49, 3.01, null], \"yaxis\": \"y\"}],                        {\"legend\": {\"title\": {\"text\": \"variable\"}, \"tracegroupgap\": 0}, \"margin\": {\"t\": 60}, \"template\": {\"data\": {\"bar\": [{\"error_x\": {\"color\": \"#f2f5fa\"}, \"error_y\": {\"color\": \"#f2f5fa\"}, \"marker\": {\"line\": {\"color\": \"rgb(17,17,17)\", \"width\": 0.5}}, \"type\": \"bar\"}], \"barpolar\": [{\"marker\": {\"line\": {\"color\": \"rgb(17,17,17)\", \"width\": 0.5}}, \"type\": \"barpolar\"}], \"carpet\": [{\"aaxis\": {\"endlinecolor\": \"#A2B1C6\", \"gridcolor\": \"#506784\", \"linecolor\": \"#506784\", \"minorgridcolor\": \"#506784\", \"startlinecolor\": \"#A2B1C6\"}, \"baxis\": {\"endlinecolor\": \"#A2B1C6\", \"gridcolor\": \"#506784\", \"linecolor\": \"#506784\", \"minorgridcolor\": \"#506784\", \"startlinecolor\": \"#A2B1C6\"}, \"type\": \"carpet\"}], \"choropleth\": [{\"colorbar\": {\"outlinewidth\": 0, \"ticks\": \"\"}, \"type\": \"choropleth\"}], \"contour\": [{\"colorbar\": {\"outlinewidth\": 0, \"ticks\": \"\"}, \"colorscale\": [[0.0, \"#0d0887\"], [0.1111111111111111, \"#46039f\"], [0.2222222222222222, \"#7201a8\"], [0.3333333333333333, \"#9c179e\"], [0.4444444444444444, \"#bd3786\"], [0.5555555555555556, \"#d8576b\"], [0.6666666666666666, \"#ed7953\"], [0.7777777777777778, \"#fb9f3a\"], [0.8888888888888888, \"#fdca26\"], [1.0, \"#f0f921\"]], \"type\": \"contour\"}], \"contourcarpet\": [{\"colorbar\": {\"outlinewidth\": 0, \"ticks\": \"\"}, \"type\": \"contourcarpet\"}], \"heatmap\": [{\"colorbar\": {\"outlinewidth\": 0, \"ticks\": \"\"}, \"colorscale\": [[0.0, \"#0d0887\"], [0.1111111111111111, \"#46039f\"], [0.2222222222222222, \"#7201a8\"], [0.3333333333333333, \"#9c179e\"], [0.4444444444444444, \"#bd3786\"], [0.5555555555555556, \"#d8576b\"], [0.6666666666666666, \"#ed7953\"], [0.7777777777777778, \"#fb9f3a\"], [0.8888888888888888, \"#fdca26\"], [1.0, \"#f0f921\"]], \"type\": \"heatmap\"}], \"heatmapgl\": [{\"colorbar\": {\"outlinewidth\": 0, \"ticks\": \"\"}, \"colorscale\": [[0.0, \"#0d0887\"], [0.1111111111111111, \"#46039f\"], [0.2222222222222222, \"#7201a8\"], [0.3333333333333333, \"#9c179e\"], [0.4444444444444444, \"#bd3786\"], [0.5555555555555556, \"#d8576b\"], [0.6666666666666666, \"#ed7953\"], [0.7777777777777778, \"#fb9f3a\"], [0.8888888888888888, \"#fdca26\"], [1.0, \"#f0f921\"]], \"type\": \"heatmapgl\"}], \"histogram\": [{\"marker\": {\"colorbar\": {\"outlinewidth\": 0, \"ticks\": \"\"}}, \"type\": \"histogram\"}], \"histogram2d\": [{\"colorbar\": {\"outlinewidth\": 0, \"ticks\": \"\"}, \"colorscale\": [[0.0, \"#0d0887\"], [0.1111111111111111, \"#46039f\"], [0.2222222222222222, \"#7201a8\"], [0.3333333333333333, \"#9c179e\"], [0.4444444444444444, \"#bd3786\"], [0.5555555555555556, \"#d8576b\"], [0.6666666666666666, \"#ed7953\"], [0.7777777777777778, \"#fb9f3a\"], [0.8888888888888888, \"#fdca26\"], [1.0, \"#f0f921\"]], \"type\": \"histogram2d\"}], \"histogram2dcontour\": [{\"colorbar\": {\"outlinewidth\": 0, \"ticks\": \"\"}, \"colorscale\": [[0.0, \"#0d0887\"], [0.1111111111111111, \"#46039f\"], [0.2222222222222222, \"#7201a8\"], [0.3333333333333333, \"#9c179e\"], [0.4444444444444444, \"#bd3786\"], [0.5555555555555556, \"#d8576b\"], [0.6666666666666666, \"#ed7953\"], [0.7777777777777778, \"#fb9f3a\"], [0.8888888888888888, \"#fdca26\"], [1.0, \"#f0f921\"]], \"type\": \"histogram2dcontour\"}], \"mesh3d\": [{\"colorbar\": {\"outlinewidth\": 0, \"ticks\": \"\"}, \"type\": \"mesh3d\"}], \"parcoords\": [{\"line\": {\"colorbar\": {\"outlinewidth\": 0, \"ticks\": \"\"}}, \"type\": \"parcoords\"}], \"pie\": [{\"automargin\": true, \"type\": \"pie\"}], \"scatter\": [{\"marker\": {\"line\": {\"color\": \"#283442\"}}, \"type\": \"scatter\"}], \"scatter3d\": [{\"line\": {\"colorbar\": {\"outlinewidth\": 0, \"ticks\": \"\"}}, \"marker\": {\"colorbar\": {\"outlinewidth\": 0, \"ticks\": \"\"}}, \"type\": \"scatter3d\"}], \"scattercarpet\": [{\"marker\": {\"colorbar\": {\"outlinewidth\": 0, \"ticks\": \"\"}}, \"type\": \"scattercarpet\"}], \"scattergeo\": [{\"marker\": {\"colorbar\": {\"outlinewidth\": 0, \"ticks\": \"\"}}, \"type\": \"scattergeo\"}], \"scattergl\": [{\"marker\": {\"line\": {\"color\": \"#283442\"}}, \"type\": \"scattergl\"}], \"scattermapbox\": [{\"marker\": {\"colorbar\": {\"outlinewidth\": 0, \"ticks\": \"\"}}, \"type\": \"scattermapbox\"}], \"scatterpolar\": [{\"marker\": {\"colorbar\": {\"outlinewidth\": 0, \"ticks\": \"\"}}, \"type\": \"scatterpolar\"}], \"scatterpolargl\": [{\"marker\": {\"colorbar\": {\"outlinewidth\": 0, \"ticks\": \"\"}}, \"type\": \"scatterpolargl\"}], \"scatterternary\": [{\"marker\": {\"colorbar\": {\"outlinewidth\": 0, \"ticks\": \"\"}}, \"type\": \"scatterternary\"}], \"surface\": [{\"colorbar\": {\"outlinewidth\": 0, \"ticks\": \"\"}, \"colorscale\": [[0.0, \"#0d0887\"], [0.1111111111111111, \"#46039f\"], [0.2222222222222222, \"#7201a8\"], [0.3333333333333333, \"#9c179e\"], [0.4444444444444444, \"#bd3786\"], [0.5555555555555556, \"#d8576b\"], [0.6666666666666666, \"#ed7953\"], [0.7777777777777778, \"#fb9f3a\"], [0.8888888888888888, \"#fdca26\"], [1.0, \"#f0f921\"]], \"type\": \"surface\"}], \"table\": [{\"cells\": {\"fill\": {\"color\": \"#506784\"}, \"line\": {\"color\": \"rgb(17,17,17)\"}}, \"header\": {\"fill\": {\"color\": \"#2a3f5f\"}, \"line\": {\"color\": \"rgb(17,17,17)\"}}, \"type\": \"table\"}]}, \"layout\": {\"annotationdefaults\": {\"arrowcolor\": \"#f2f5fa\", \"arrowhead\": 0, \"arrowwidth\": 1}, \"autotypenumbers\": \"strict\", \"coloraxis\": {\"colorbar\": {\"outlinewidth\": 0, \"ticks\": \"\"}}, \"colorscale\": {\"diverging\": [[0, \"#8e0152\"], [0.1, \"#c51b7d\"], [0.2, \"#de77ae\"], [0.3, \"#f1b6da\"], [0.4, \"#fde0ef\"], [0.5, \"#f7f7f7\"], [0.6, \"#e6f5d0\"], [0.7, \"#b8e186\"], [0.8, \"#7fbc41\"], [0.9, \"#4d9221\"], [1, \"#276419\"]], \"sequential\": [[0.0, \"#0d0887\"], [0.1111111111111111, \"#46039f\"], [0.2222222222222222, \"#7201a8\"], [0.3333333333333333, \"#9c179e\"], [0.4444444444444444, \"#bd3786\"], [0.5555555555555556, \"#d8576b\"], [0.6666666666666666, \"#ed7953\"], [0.7777777777777778, \"#fb9f3a\"], [0.8888888888888888, \"#fdca26\"], [1.0, \"#f0f921\"]], \"sequentialminus\": [[0.0, \"#0d0887\"], [0.1111111111111111, \"#46039f\"], [0.2222222222222222, \"#7201a8\"], [0.3333333333333333, \"#9c179e\"], [0.4444444444444444, \"#bd3786\"], [0.5555555555555556, \"#d8576b\"], [0.6666666666666666, \"#ed7953\"], [0.7777777777777778, \"#fb9f3a\"], [0.8888888888888888, \"#fdca26\"], [1.0, \"#f0f921\"]]}, \"colorway\": [\"#636efa\", \"#EF553B\", \"#00cc96\", \"#ab63fa\", \"#FFA15A\", \"#19d3f3\", \"#FF6692\", \"#B6E880\", \"#FF97FF\", \"#FECB52\"], \"font\": {\"color\": \"#f2f5fa\"}, \"geo\": {\"bgcolor\": \"rgb(17,17,17)\", \"lakecolor\": \"rgb(17,17,17)\", \"landcolor\": \"rgb(17,17,17)\", \"showlakes\": true, \"showland\": true, \"subunitcolor\": \"#506784\"}, \"hoverlabel\": {\"align\": \"left\"}, \"hovermode\": \"closest\", \"mapbox\": {\"style\": \"dark\"}, \"paper_bgcolor\": \"rgb(17,17,17)\", \"plot_bgcolor\": \"rgb(17,17,17)\", \"polar\": {\"angularaxis\": {\"gridcolor\": \"#506784\", \"linecolor\": \"#506784\", \"ticks\": \"\"}, \"bgcolor\": \"rgb(17,17,17)\", \"radialaxis\": {\"gridcolor\": \"#506784\", \"linecolor\": \"#506784\", \"ticks\": \"\"}}, \"scene\": {\"xaxis\": {\"backgroundcolor\": \"rgb(17,17,17)\", \"gridcolor\": \"#506784\", \"gridwidth\": 2, \"linecolor\": \"#506784\", \"showbackground\": true, \"ticks\": \"\", \"zerolinecolor\": \"#C8D4E3\"}, \"yaxis\": {\"backgroundcolor\": \"rgb(17,17,17)\", \"gridcolor\": \"#506784\", \"gridwidth\": 2, \"linecolor\": \"#506784\", \"showbackground\": true, \"ticks\": \"\", \"zerolinecolor\": \"#C8D4E3\"}, \"zaxis\": {\"backgroundcolor\": \"rgb(17,17,17)\", \"gridcolor\": \"#506784\", \"gridwidth\": 2, \"linecolor\": \"#506784\", \"showbackground\": true, \"ticks\": \"\", \"zerolinecolor\": \"#C8D4E3\"}}, \"shapedefaults\": {\"line\": {\"color\": \"#f2f5fa\"}}, \"sliderdefaults\": {\"bgcolor\": \"#C8D4E3\", \"bordercolor\": \"rgb(17,17,17)\", \"borderwidth\": 1, \"tickwidth\": 0}, \"ternary\": {\"aaxis\": {\"gridcolor\": \"#506784\", \"linecolor\": \"#506784\", \"ticks\": \"\"}, \"baxis\": {\"gridcolor\": \"#506784\", \"linecolor\": \"#506784\", \"ticks\": \"\"}, \"bgcolor\": \"rgb(17,17,17)\", \"caxis\": {\"gridcolor\": \"#506784\", \"linecolor\": \"#506784\", \"ticks\": \"\"}}, \"title\": {\"x\": 0.05}, \"updatemenudefaults\": {\"bgcolor\": \"#506784\", \"borderwidth\": 0}, \"xaxis\": {\"automargin\": true, \"gridcolor\": \"#283442\", \"linecolor\": \"#506784\", \"ticks\": \"\", \"title\": {\"standoff\": 15}, \"zerolinecolor\": \"#283442\", \"zerolinewidth\": 2}, \"yaxis\": {\"automargin\": true, \"gridcolor\": \"#283442\", \"linecolor\": \"#506784\", \"ticks\": \"\", \"title\": {\"standoff\": 15}, \"zerolinecolor\": \"#283442\", \"zerolinewidth\": 2}}}, \"title\": {\"text\": \"UMBC and JHU's in-state tuition percentage change over time from 1996 to 2019\"}, \"xaxis\": {\"anchor\": \"y\", \"domain\": [0.0, 1.0], \"title\": {\"text\": \"Year\"}}, \"yaxis\": {\"anchor\": \"x\", \"domain\": [0.0, 1.0], \"title\": {\"text\": \"Percentage Change\"}}},                        {\"responsive\": true}                    ).then(function(){\n                            \nvar gd = document.getElementById('32593b86-7c8c-41ad-bda9-5f27effdb338');\nvar x = new MutationObserver(function (mutations, observer) {{\n        var display = window.getComputedStyle(gd).display;\n        if (!display || display === 'none') {{\n            console.log([gd, 'removed!']);\n            Plotly.purge(gd);\n            observer.disconnect();\n        }}\n}});\n\n// Listen for the removal of the full notebook cells\nvar notebookContainer = gd.closest('#notebook-container');\nif (notebookContainer) {{\n    x.observe(notebookContainer, {childList: true});\n}}\n\n// Listen for the clearing of the current output cell\nvar outputEl = gd.closest('.output');\nif (outputEl) {{\n    x.observe(outputEl, {childList: true});\n}}\n\n                        })                };                            </script>        </div>\n</body>\n</html>"
     },
     "metadata": {},
     "output_type": "display_data"
    }
   ]
  },
  {
   "cell_type": "markdown",
   "source": "## 19 - Document your observations/conclusion of the comparison plots (bar/line).",
   "metadata": {
    "tags": [],
    "cell_id": "00089-673e2e7c-f5ca-4446-9c1d-30d2f4d00406",
    "deepnote_cell_type": "markdown"
   }
  },
  {
   "cell_type": "markdown",
   "source": "### Both universities' in state tuition percentage changes show a downward trend over time. \n### UMBC's downward trend is more dramatic, with a spike in 2002 and a sharp decline in the following years. In 2007, tuition change started to increase again, more gradually. In the most recent period of 2015 to 2017, this percentage change has remained constant. \n### For JHU, the percentage change is relatively less dramatic than UMBC's, with a steady downward trend over time. In the most recent period of 2015 to 2017, it is contant, and slightly decreasing in 2016-2017. \n### In recent years, both universities' percentage changes are very close to each other. After a long period of incline and decline, both show these changes starting to become constant.  ",
   "metadata": {
    "tags": [],
    "cell_id": "00090-adb765d0-a9a9-4aa7-ad2a-c17eedbc0639",
    "deepnote_cell_type": "markdown"
   }
  },
  {
   "cell_type": "markdown",
   "source": "<a style='text-decoration:none;line-height:16px;display:flex;color:#5B5B62;padding:10px;justify-content:end;' href='https://deepnote.com?utm_source=created-in-deepnote-cell&projectId=e724fedd-4d55-4022-982f-31bf2f312f26' target=\"_blank\">\n<img alt='Created in deepnote.com' style='display:inline;max-height:16px;margin:0px;margin-right:7.5px;' src='data:image/svg+xml;base64,PD94bWwgdmVyc2lvbj0iMS4wIiBlbmNvZGluZz0iVVRGLTgiPz4KPHN2ZyB3aWR0aD0iODBweCIgaGVpZ2h0PSI4MHB4IiB2aWV3Qm94PSIwIDAgODAgODAiIHZlcnNpb249IjEuMSIgeG1sbnM9Imh0dHA6Ly93d3cudzMub3JnLzIwMDAvc3ZnIiB4bWxuczp4bGluaz0iaHR0cDovL3d3dy53My5vcmcvMTk5OS94bGluayI+CiAgICA8IS0tIEdlbmVyYXRvcjogU2tldGNoIDU0LjEgKDc2NDkwKSAtIGh0dHBzOi8vc2tldGNoYXBwLmNvbSAtLT4KICAgIDx0aXRsZT5Hcm91cCAzPC90aXRsZT4KICAgIDxkZXNjPkNyZWF0ZWQgd2l0aCBTa2V0Y2guPC9kZXNjPgogICAgPGcgaWQ9IkxhbmRpbmciIHN0cm9rZT0ibm9uZSIgc3Ryb2tlLXdpZHRoPSIxIiBmaWxsPSJub25lIiBmaWxsLXJ1bGU9ImV2ZW5vZGQiPgogICAgICAgIDxnIGlkPSJBcnRib2FyZCIgdHJhbnNmb3JtPSJ0cmFuc2xhdGUoLTEyMzUuMDAwMDAwLCAtNzkuMDAwMDAwKSI+CiAgICAgICAgICAgIDxnIGlkPSJHcm91cC0zIiB0cmFuc2Zvcm09InRyYW5zbGF0ZSgxMjM1LjAwMDAwMCwgNzkuMDAwMDAwKSI+CiAgICAgICAgICAgICAgICA8cG9seWdvbiBpZD0iUGF0aC0yMCIgZmlsbD0iIzAyNjVCNCIgcG9pbnRzPSIyLjM3NjIzNzYyIDgwIDM4LjA0NzY2NjcgODAgNTcuODIxNzgyMiA3My44MDU3NTkyIDU3LjgyMTc4MjIgMzIuNzU5MjczOSAzOS4xNDAyMjc4IDMxLjY4MzE2ODMiPjwvcG9seWdvbj4KICAgICAgICAgICAgICAgIDxwYXRoIGQ9Ik0zNS4wMDc3MTgsODAgQzQyLjkwNjIwMDcsNzYuNDU0OTM1OCA0Ny41NjQ5MTY3LDcxLjU0MjI2NzEgNDguOTgzODY2LDY1LjI2MTk5MzkgQzUxLjExMjI4OTksNTUuODQxNTg0MiA0MS42NzcxNzk1LDQ5LjIxMjIyODQgMjUuNjIzOTg0Niw0OS4yMTIyMjg0IEMyNS40ODQ5Mjg5LDQ5LjEyNjg0NDggMjkuODI2MTI5Niw0My4yODM4MjQ4IDM4LjY0NzU4NjksMzEuNjgzMTY4MyBMNzIuODcxMjg3MSwzMi41NTQ0MjUgTDY1LjI4MDk3Myw2Ny42NzYzNDIxIEw1MS4xMTIyODk5LDc3LjM3NjE0NCBMMzUuMDA3NzE4LDgwIFoiIGlkPSJQYXRoLTIyIiBmaWxsPSIjMDAyODY4Ij48L3BhdGg+CiAgICAgICAgICAgICAgICA8cGF0aCBkPSJNMCwzNy43MzA0NDA1IEwyNy4xMTQ1MzcsMC4yNTcxMTE0MzYgQzYyLjM3MTUxMjMsLTEuOTkwNzE3MDEgODAsMTAuNTAwMzkyNyA4MCwzNy43MzA0NDA1IEM4MCw2NC45NjA0ODgyIDY0Ljc3NjUwMzgsNzkuMDUwMzQxNCAzNC4zMjk1MTEzLDgwIEM0Ny4wNTUzNDg5LDc3LjU2NzA4MDggNTMuNDE4MjY3Nyw3MC4zMTM2MTAzIDUzLjQxODI2NzcsNTguMjM5NTg4NSBDNTMuNDE4MjY3Nyw0MC4xMjg1NTU3IDM2LjMwMzk1NDQsMzcuNzMwNDQwNSAyNS4yMjc0MTcsMzcuNzMwNDQwNSBDMTcuODQzMDU4NiwzNy43MzA0NDA1IDkuNDMzOTE5NjYsMzcuNzMwNDQwNSAwLDM3LjczMDQ0MDUgWiIgaWQ9IlBhdGgtMTkiIGZpbGw9IiMzNzkzRUYiPjwvcGF0aD4KICAgICAgICAgICAgPC9nPgogICAgICAgIDwvZz4KICAgIDwvZz4KPC9zdmc+' > </img>\nCreated in <span style='font-weight:600;margin-left:4px;'>Deepnote</span></a>",
   "metadata": {
    "tags": [],
    "created_in_deepnote_cell": true,
    "deepnote_cell_type": "markdown"
   }
  }
 ],
 "nbformat": 4,
 "nbformat_minor": 2,
 "metadata": {
  "orig_nbformat": 2,
  "deepnote": {
   "is_reactive": false
  },
  "deepnote_notebook_id": "6b98468f-0d91-4211-b2bf-1faeb365b0fd",
  "deepnote_execution_queue": []
 }
}