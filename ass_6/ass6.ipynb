{
  "cells": [
    {
      "cell_type": "markdown",
      "source": "# Assignment 06 - Using Pandas\n### Uses pandas and functions to \"web scrape\" to collect data",
      "metadata": {
        "tags": [],
        "cell_id": "00001-60f42139-a064-44ff-b50b-351a75a79b6b",
        "deepnote_cell_type": "markdown"
      }
    },
    {
      "cell_type": "markdown",
      "source": "### 1. Use Pandas read_html() function to retrieve the HTML tables as dataframes from the web page:",
      "metadata": {
        "tags": [],
        "cell_id": "00001-11dceea1-7b0c-42dc-9d72-d50690725b96",
        "deepnote_cell_type": "markdown"
      }
    },
    {
      "cell_type": "code",
      "metadata": {
        "tags": [],
        "cell_id": "00001-d8e9af31-5f82-4af7-84bc-6c552b6f1c07",
        "deepnote_to_be_reexecuted": false,
        "source_hash": "9b82ee11",
        "execution_millis": 0,
        "execution_start": 1615852099440,
        "deepnote_cell_type": "code"
      },
      "source": "import pandas as pd",
      "execution_count": 1,
      "outputs": []
    },
    {
      "cell_type": "markdown",
      "source": "### 2. Find out how many HTML tables Pandas retrieves from the web page. Find out which dataframe contains the data and use it for further processing.",
      "metadata": {
        "tags": [],
        "cell_id": "00003-0d3918d7-db75-47cd-981a-7d735a35494b",
        "deepnote_cell_type": "markdown"
      }
    },
    {
      "cell_type": "code",
      "metadata": {
        "tags": [],
        "cell_id": "00002-ef36f6a6-e12f-4ee6-901d-713b094723fc",
        "deepnote_to_be_reexecuted": false,
        "source_hash": "34c663a3",
        "execution_millis": 219,
        "execution_start": 1615852099442,
        "deepnote_cell_type": "code"
      },
      "source": "df_list = pd.read_html(\"https://www.genealogybranches.com/censuscosts.html\")\nlen(df_list)",
      "execution_count": 2,
      "outputs": [
        {
          "output_type": "execute_result",
          "execution_count": 2,
          "data": {
            "text/plain": "2"
          },
          "metadata": {}
        }
      ]
    },
    {
      "cell_type": "markdown",
      "source": "### Note: In terms of the number of observations, there are 23. ",
      "metadata": {
        "tags": [],
        "cell_id": "00005-15bc90f7-ff47-4629-aba5-3bab12bdc86f",
        "deepnote_cell_type": "markdown"
      }
    },
    {
      "cell_type": "markdown",
      "source": "### 3. - 4. Display and explore the data (rows, columns, etc.) and determine the data quality (bad rows, bad columns, bad elements, null values, etc.)",
      "metadata": {
        "tags": [],
        "cell_id": "00006-35433c6e-ab4d-440c-aecd-a142196c55be",
        "deepnote_cell_type": "markdown"
      }
    },
    {
      "cell_type": "code",
      "metadata": {
        "tags": [],
        "cell_id": "00006-da1e94db-1915-4059-af17-d2f9cb349585",
        "deepnote_to_be_reexecuted": false,
        "source_hash": "548dcda3",
        "execution_millis": 41,
        "execution_start": 1615852099664,
        "deepnote_cell_type": "code"
      },
      "source": "df1 = df_list[0]\ndf1.head()",
      "execution_count": 3,
      "outputs": [
        {
          "output_type": "execute_result",
          "execution_count": 3,
          "data": {
            "application/vnd.deepnote.dataframe.v2+json": {
              "row_count": 5,
              "column_count": 4,
              "columns": [
                {
                  "name": 0,
                  "dtype": "object",
                  "stats": {
                    "unique_count": 5,
                    "nan_count": 0,
                    "categories": [
                      {
                        "name": "Census Year",
                        "count": 1
                      },
                      {
                        "name": "1790",
                        "count": 1
                      },
                      {
                        "name": "3 others",
                        "count": 3
                      }
                    ]
                  }
                },
                {
                  "name": 1,
                  "dtype": "object",
                  "stats": {
                    "unique_count": 5,
                    "nan_count": 0,
                    "categories": [
                      {
                        "name": "Total Population",
                        "count": 1
                      },
                      {
                        "name": "3929214",
                        "count": 1
                      },
                      {
                        "name": "3 others",
                        "count": 3
                      }
                    ]
                  }
                },
                {
                  "name": 2,
                  "dtype": "object",
                  "stats": {
                    "unique_count": 5,
                    "nan_count": 0,
                    "categories": [
                      {
                        "name": "Census Cost",
                        "count": 1
                      },
                      {
                        "name": "$44,377",
                        "count": 1
                      },
                      {
                        "name": "3 others",
                        "count": 3
                      }
                    ]
                  }
                },
                {
                  "name": 3,
                  "dtype": "object",
                  "stats": {
                    "unique_count": 5,
                    "nan_count": 0,
                    "categories": [
                      {
                        "name": "Average Cost Per Person",
                        "count": 1
                      },
                      {
                        "name": "1.13 cents",
                        "count": 1
                      },
                      {
                        "name": "3 others",
                        "count": 3
                      }
                    ]
                  }
                },
                {
                  "name": "_deepnote_index_column",
                  "dtype": "int64"
                }
              ],
              "rows_top": [
                {
                  "0": "Census Year",
                  "1": "Total Population",
                  "2": "Census Cost",
                  "3": "Average Cost Per Person",
                  "_deepnote_index_column": 0
                },
                {
                  "0": "1790",
                  "1": "3929214",
                  "2": "$44,377",
                  "3": "1.13 cents",
                  "_deepnote_index_column": 1
                },
                {
                  "0": "1800",
                  "1": "5308483",
                  "2": "$66,109",
                  "3": "1.24 cents",
                  "_deepnote_index_column": 2
                },
                {
                  "0": "1810",
                  "1": "7239881",
                  "2": "$178,445",
                  "3": "2.46 cents",
                  "_deepnote_index_column": 3
                },
                {
                  "0": "1820",
                  "1": "9633822",
                  "2": "$208,526",
                  "3": "2.16 cents",
                  "_deepnote_index_column": 4
                }
              ],
              "rows_bottom": null
            },
            "text/plain": "             0                 1            2                        3\n0  Census Year  Total Population  Census Cost  Average Cost Per Person\n1         1790           3929214      $44,377               1.13 cents\n2         1800           5308483      $66,109               1.24 cents\n3         1810           7239881     $178,445               2.46 cents\n4         1820           9633822     $208,526               2.16 cents",
            "text/html": "<div>\n<style scoped>\n    .dataframe tbody tr th:only-of-type {\n        vertical-align: middle;\n    }\n\n    .dataframe tbody tr th {\n        vertical-align: top;\n    }\n\n    .dataframe thead th {\n        text-align: right;\n    }\n</style>\n<table border=\"1\" class=\"dataframe\">\n  <thead>\n    <tr style=\"text-align: right;\">\n      <th></th>\n      <th>0</th>\n      <th>1</th>\n      <th>2</th>\n      <th>3</th>\n    </tr>\n  </thead>\n  <tbody>\n    <tr>\n      <th>0</th>\n      <td>Census Year</td>\n      <td>Total Population</td>\n      <td>Census Cost</td>\n      <td>Average Cost Per Person</td>\n    </tr>\n    <tr>\n      <th>1</th>\n      <td>1790</td>\n      <td>3929214</td>\n      <td>$44,377</td>\n      <td>1.13 cents</td>\n    </tr>\n    <tr>\n      <th>2</th>\n      <td>1800</td>\n      <td>5308483</td>\n      <td>$66,109</td>\n      <td>1.24 cents</td>\n    </tr>\n    <tr>\n      <th>3</th>\n      <td>1810</td>\n      <td>7239881</td>\n      <td>$178,445</td>\n      <td>2.46 cents</td>\n    </tr>\n    <tr>\n      <th>4</th>\n      <td>1820</td>\n      <td>9633822</td>\n      <td>$208,526</td>\n      <td>2.16 cents</td>\n    </tr>\n  </tbody>\n</table>\n</div>"
          },
          "metadata": {}
        }
      ]
    },
    {
      "cell_type": "code",
      "metadata": {
        "tags": [],
        "cell_id": "00007-47f460e3-c45d-43ef-934b-a0cb54169f5f",
        "deepnote_to_be_reexecuted": false,
        "source_hash": "96babc7d",
        "execution_millis": 31,
        "execution_start": 1615852099688,
        "deepnote_cell_type": "code"
      },
      "source": "df2 = df_list[1]\ndf2.head()",
      "execution_count": 4,
      "outputs": [
        {
          "output_type": "execute_result",
          "execution_count": 4,
          "data": {
            "application/vnd.deepnote.dataframe.v2+json": {
              "row_count": 1,
              "column_count": 1,
              "columns": [
                {
                  "name": 0,
                  "dtype": "object",
                  "stats": {
                    "unique_count": 1,
                    "nan_count": 0,
                    "categories": [
                      {
                        "name": "The U.S. population reached 300,000,000 on 17 October 2006. At the end of 2015, it was at 319,958,045. At the end of 2017, it was at 326,971,209. Source (except 2010)... Gauthier, Jason G., Measuring America: The Decennial Censuses From 1790-2000, (US Bureau of the Census/Dept of Commerce), Washington: US Government Printing Office, 2002, Appendix A, Page A-1.The numbers in the fourth column are not included in the book and were added by me. * The 2010 census cost was taken from GAO (U.S. Government Accountability Office) report number GAO-11-496T, 2010 Census: Preliminary Lessons Learned Highlight the Need for Fundamental Reforms (April 6, 2011): \"At about $13 billion, 2010 was the costliest U.S. Census in history.\" The official census day for 2010 was April 1, 2010. The total population figure (308,745,538) was announced by the U.S. Census Bureau on Dec. 21, 2010. See: 2010 Census - Resident Population Data The 1940 Census 1940 census records were released on April 2, 2012. For details see:1940 Census Records and InformationFor information on census records for other years see: U.S. Census Records 1790-1940",
                        "count": 1
                      }
                    ]
                  }
                },
                {
                  "name": "_deepnote_index_column",
                  "dtype": "int64"
                }
              ],
              "rows_top": [
                {
                  "0": "The U.S. population reached 300,000,000 on 17 October 2006. At the end of 2015, it was at 319,958,045. At the end of 2017, it was at 326,971,209. Source (except 2010)... Gauthier, Jason G., Measuring America: The Decennial Censuses From 1790-2000, (US Bureau of the Census/Dept of Commerce), Washington: US Government Printing Office, 2002, Appendix A, Page A-1.The numbers in the fourth column are not included in the book and were added by me. * The 2010 census cost was taken from GAO (U.S. Government Accountability Office) report number GAO-11-496T, 2010 Census: Preliminary Lessons Learned Highlight the Need for Fundamental Reforms (April 6, 2011): \"At about $13 billion, 2010 was the costliest U.S. Census in history.\" The official census day for 2010 was April 1, 2010. The total population figure (308,745,538) was announced by the U.S. Census Bureau on Dec. 21, 2010. See: 2010 Census - Resident Population Data The 1940 Census 1940 census records were released on April 2, 2012. For details see:1940 Census Records and InformationFor information on census records for other years see: U.S. Census Records 1790-1940",
                  "_deepnote_index_column": 0
                }
              ],
              "rows_bottom": null
            },
            "text/plain": "                                                   0\n0  The U.S. population reached 300,000,000 on 17 ...",
            "text/html": "<div>\n<style scoped>\n    .dataframe tbody tr th:only-of-type {\n        vertical-align: middle;\n    }\n\n    .dataframe tbody tr th {\n        vertical-align: top;\n    }\n\n    .dataframe thead th {\n        text-align: right;\n    }\n</style>\n<table border=\"1\" class=\"dataframe\">\n  <thead>\n    <tr style=\"text-align: right;\">\n      <th></th>\n      <th>0</th>\n    </tr>\n  </thead>\n  <tbody>\n    <tr>\n      <th>0</th>\n      <td>The U.S. population reached 300,000,000 on 17 ...</td>\n    </tr>\n  </tbody>\n</table>\n</div>"
          },
          "metadata": {}
        }
      ]
    },
    {
      "cell_type": "code",
      "metadata": {
        "tags": [],
        "cell_id": "00008-901f06e9-803e-47ee-8c4f-03b0bb68ff93",
        "deepnote_to_be_reexecuted": false,
        "source_hash": "2c0d7517",
        "execution_millis": 28,
        "execution_start": 1615852099691,
        "deepnote_cell_type": "code"
      },
      "source": "df1",
      "execution_count": 5,
      "outputs": [
        {
          "output_type": "execute_result",
          "execution_count": 5,
          "data": {
            "application/vnd.deepnote.dataframe.v2+json": {
              "row_count": 24,
              "column_count": 4,
              "columns": [
                {
                  "name": 0,
                  "dtype": "object",
                  "stats": {
                    "unique_count": 24,
                    "nan_count": 0,
                    "categories": [
                      {
                        "name": "Census Year",
                        "count": 1
                      },
                      {
                        "name": "1790",
                        "count": 1
                      },
                      {
                        "name": "22 others",
                        "count": 22
                      }
                    ]
                  }
                },
                {
                  "name": 1,
                  "dtype": "object",
                  "stats": {
                    "unique_count": 24,
                    "nan_count": 0,
                    "categories": [
                      {
                        "name": "Total Population",
                        "count": 1
                      },
                      {
                        "name": "3929214",
                        "count": 1
                      },
                      {
                        "name": "22 others",
                        "count": 22
                      }
                    ]
                  }
                },
                {
                  "name": 2,
                  "dtype": "object",
                  "stats": {
                    "unique_count": 24,
                    "nan_count": 0,
                    "categories": [
                      {
                        "name": "Census Cost",
                        "count": 1
                      },
                      {
                        "name": "$44,377",
                        "count": 1
                      },
                      {
                        "name": "22 others",
                        "count": 22
                      }
                    ]
                  }
                },
                {
                  "name": 3,
                  "dtype": "object",
                  "stats": {
                    "unique_count": 24,
                    "nan_count": 0,
                    "categories": [
                      {
                        "name": "Average Cost Per Person",
                        "count": 1
                      },
                      {
                        "name": "1.13 cents",
                        "count": 1
                      },
                      {
                        "name": "22 others",
                        "count": 22
                      }
                    ]
                  }
                },
                {
                  "name": "_deepnote_index_column",
                  "dtype": "int64"
                }
              ],
              "rows_top": [
                {
                  "0": "Census Year",
                  "1": "Total Population",
                  "2": "Census Cost",
                  "3": "Average Cost Per Person",
                  "_deepnote_index_column": 0
                },
                {
                  "0": "1790",
                  "1": "3929214",
                  "2": "$44,377",
                  "3": "1.13 cents",
                  "_deepnote_index_column": 1
                },
                {
                  "0": "1800",
                  "1": "5308483",
                  "2": "$66,109",
                  "3": "1.24 cents",
                  "_deepnote_index_column": 2
                },
                {
                  "0": "1810",
                  "1": "7239881",
                  "2": "$178,445",
                  "3": "2.46 cents",
                  "_deepnote_index_column": 3
                },
                {
                  "0": "1820",
                  "1": "9633822",
                  "2": "$208,526",
                  "3": "2.16 cents",
                  "_deepnote_index_column": 4
                },
                {
                  "0": "1830",
                  "1": "12866020",
                  "2": "$378,545",
                  "3": "2.94 cents",
                  "_deepnote_index_column": 5
                },
                {
                  "0": "1840",
                  "1": "17069458",
                  "2": "$833,371",
                  "3": "4.88 cents",
                  "_deepnote_index_column": 6
                },
                {
                  "0": "1850",
                  "1": "23191876",
                  "2": "$1,423,351",
                  "3": "6.14 cents",
                  "_deepnote_index_column": 7
                },
                {
                  "0": "1860",
                  "1": "31443321",
                  "2": "$1,969,377",
                  "3": "6.26 cents",
                  "_deepnote_index_column": 8
                },
                {
                  "0": "1870",
                  "1": "38558371",
                  "2": "$3,421,198",
                  "3": "8.87 cents",
                  "_deepnote_index_column": 9
                },
                {
                  "0": "1880",
                  "1": "50155783",
                  "2": "$5,790,678",
                  "3": "11.54 cents",
                  "_deepnote_index_column": 10
                },
                {
                  "0": "1890",
                  "1": "62979766",
                  "2": "$11,547,127",
                  "3": "18.33 cents",
                  "_deepnote_index_column": 11
                },
                {
                  "0": "1900",
                  "1": "76303387",
                  "2": "$11,854,000",
                  "3": "15.54 cents",
                  "_deepnote_index_column": 12
                },
                {
                  "0": "1910",
                  "1": "91972266",
                  "2": "$15,968,000",
                  "3": "17.07 cents",
                  "_deepnote_index_column": 13
                },
                {
                  "0": "1920",
                  "1": "105710620",
                  "2": "$25,117,000",
                  "3": "23.76 cents",
                  "_deepnote_index_column": 14
                },
                {
                  "0": "1930",
                  "1": "122775046",
                  "2": "$40,156,000",
                  "3": "32.71 cents",
                  "_deepnote_index_column": 15
                },
                {
                  "0": "1940",
                  "1": "131669275",
                  "2": "$67,527,000",
                  "3": "51.29 cents",
                  "_deepnote_index_column": 16
                },
                {
                  "0": "1950",
                  "1": "151325798",
                  "2": "$91,462,000",
                  "3": "60.44 cents",
                  "_deepnote_index_column": 17
                },
                {
                  "0": "1960",
                  "1": "179323175",
                  "2": "$127,934,000",
                  "3": "71.34 cents",
                  "_deepnote_index_column": 18
                },
                {
                  "0": "1970",
                  "1": "203302031",
                  "2": "$247,653,000",
                  "3": "$1.22",
                  "_deepnote_index_column": 19
                },
                {
                  "0": "1980",
                  "1": "226542199",
                  "2": "$1,078,488,000",
                  "3": "$4.76",
                  "_deepnote_index_column": 20
                },
                {
                  "0": "1990",
                  "1": "248718301",
                  "2": "$2,492,830,000",
                  "3": "$10.02",
                  "_deepnote_index_column": 21
                },
                {
                  "0": "2000",
                  "1": "281421906",
                  "2": "$4.5 Billion",
                  "3": "$15.99",
                  "_deepnote_index_column": 22
                },
                {
                  "0": "2010*",
                  "1": "308745538",
                  "2": "$13 Billion",
                  "3": "$42.11",
                  "_deepnote_index_column": 23
                }
              ],
              "rows_bottom": null
            },
            "text/plain": "              0                 1               2                        3\n0   Census Year  Total Population     Census Cost  Average Cost Per Person\n1          1790           3929214         $44,377               1.13 cents\n2          1800           5308483         $66,109               1.24 cents\n3          1810           7239881        $178,445               2.46 cents\n4          1820           9633822        $208,526               2.16 cents\n5          1830          12866020        $378,545               2.94 cents\n6          1840          17069458        $833,371               4.88 cents\n7          1850          23191876      $1,423,351               6.14 cents\n8          1860          31443321      $1,969,377               6.26 cents\n9          1870          38558371      $3,421,198               8.87 cents\n10         1880          50155783      $5,790,678              11.54 cents\n11         1890          62979766     $11,547,127              18.33 cents\n12         1900          76303387     $11,854,000              15.54 cents\n13         1910          91972266     $15,968,000              17.07 cents\n14         1920         105710620     $25,117,000              23.76 cents\n15         1930         122775046     $40,156,000              32.71 cents\n16         1940         131669275     $67,527,000              51.29 cents\n17         1950         151325798     $91,462,000              60.44 cents\n18         1960         179323175    $127,934,000              71.34 cents\n19         1970         203302031    $247,653,000                    $1.22\n20         1980         226542199  $1,078,488,000                    $4.76\n21         1990         248718301  $2,492,830,000                   $10.02\n22         2000         281421906    $4.5 Billion                   $15.99\n23        2010*         308745538     $13 Billion                   $42.11",
            "text/html": "<div>\n<style scoped>\n    .dataframe tbody tr th:only-of-type {\n        vertical-align: middle;\n    }\n\n    .dataframe tbody tr th {\n        vertical-align: top;\n    }\n\n    .dataframe thead th {\n        text-align: right;\n    }\n</style>\n<table border=\"1\" class=\"dataframe\">\n  <thead>\n    <tr style=\"text-align: right;\">\n      <th></th>\n      <th>0</th>\n      <th>1</th>\n      <th>2</th>\n      <th>3</th>\n    </tr>\n  </thead>\n  <tbody>\n    <tr>\n      <th>0</th>\n      <td>Census Year</td>\n      <td>Total Population</td>\n      <td>Census Cost</td>\n      <td>Average Cost Per Person</td>\n    </tr>\n    <tr>\n      <th>1</th>\n      <td>1790</td>\n      <td>3929214</td>\n      <td>$44,377</td>\n      <td>1.13 cents</td>\n    </tr>\n    <tr>\n      <th>2</th>\n      <td>1800</td>\n      <td>5308483</td>\n      <td>$66,109</td>\n      <td>1.24 cents</td>\n    </tr>\n    <tr>\n      <th>3</th>\n      <td>1810</td>\n      <td>7239881</td>\n      <td>$178,445</td>\n      <td>2.46 cents</td>\n    </tr>\n    <tr>\n      <th>4</th>\n      <td>1820</td>\n      <td>9633822</td>\n      <td>$208,526</td>\n      <td>2.16 cents</td>\n    </tr>\n    <tr>\n      <th>5</th>\n      <td>1830</td>\n      <td>12866020</td>\n      <td>$378,545</td>\n      <td>2.94 cents</td>\n    </tr>\n    <tr>\n      <th>6</th>\n      <td>1840</td>\n      <td>17069458</td>\n      <td>$833,371</td>\n      <td>4.88 cents</td>\n    </tr>\n    <tr>\n      <th>7</th>\n      <td>1850</td>\n      <td>23191876</td>\n      <td>$1,423,351</td>\n      <td>6.14 cents</td>\n    </tr>\n    <tr>\n      <th>8</th>\n      <td>1860</td>\n      <td>31443321</td>\n      <td>$1,969,377</td>\n      <td>6.26 cents</td>\n    </tr>\n    <tr>\n      <th>9</th>\n      <td>1870</td>\n      <td>38558371</td>\n      <td>$3,421,198</td>\n      <td>8.87 cents</td>\n    </tr>\n    <tr>\n      <th>10</th>\n      <td>1880</td>\n      <td>50155783</td>\n      <td>$5,790,678</td>\n      <td>11.54 cents</td>\n    </tr>\n    <tr>\n      <th>11</th>\n      <td>1890</td>\n      <td>62979766</td>\n      <td>$11,547,127</td>\n      <td>18.33 cents</td>\n    </tr>\n    <tr>\n      <th>12</th>\n      <td>1900</td>\n      <td>76303387</td>\n      <td>$11,854,000</td>\n      <td>15.54 cents</td>\n    </tr>\n    <tr>\n      <th>13</th>\n      <td>1910</td>\n      <td>91972266</td>\n      <td>$15,968,000</td>\n      <td>17.07 cents</td>\n    </tr>\n    <tr>\n      <th>14</th>\n      <td>1920</td>\n      <td>105710620</td>\n      <td>$25,117,000</td>\n      <td>23.76 cents</td>\n    </tr>\n    <tr>\n      <th>15</th>\n      <td>1930</td>\n      <td>122775046</td>\n      <td>$40,156,000</td>\n      <td>32.71 cents</td>\n    </tr>\n    <tr>\n      <th>16</th>\n      <td>1940</td>\n      <td>131669275</td>\n      <td>$67,527,000</td>\n      <td>51.29 cents</td>\n    </tr>\n    <tr>\n      <th>17</th>\n      <td>1950</td>\n      <td>151325798</td>\n      <td>$91,462,000</td>\n      <td>60.44 cents</td>\n    </tr>\n    <tr>\n      <th>18</th>\n      <td>1960</td>\n      <td>179323175</td>\n      <td>$127,934,000</td>\n      <td>71.34 cents</td>\n    </tr>\n    <tr>\n      <th>19</th>\n      <td>1970</td>\n      <td>203302031</td>\n      <td>$247,653,000</td>\n      <td>$1.22</td>\n    </tr>\n    <tr>\n      <th>20</th>\n      <td>1980</td>\n      <td>226542199</td>\n      <td>$1,078,488,000</td>\n      <td>$4.76</td>\n    </tr>\n    <tr>\n      <th>21</th>\n      <td>1990</td>\n      <td>248718301</td>\n      <td>$2,492,830,000</td>\n      <td>$10.02</td>\n    </tr>\n    <tr>\n      <th>22</th>\n      <td>2000</td>\n      <td>281421906</td>\n      <td>$4.5 Billion</td>\n      <td>$15.99</td>\n    </tr>\n    <tr>\n      <th>23</th>\n      <td>2010*</td>\n      <td>308745538</td>\n      <td>$13 Billion</td>\n      <td>$42.11</td>\n    </tr>\n  </tbody>\n</table>\n</div>"
          },
          "metadata": {}
        }
      ]
    },
    {
      "cell_type": "code",
      "metadata": {
        "tags": [],
        "cell_id": "00010-d9a31b05-df7c-4079-91aa-cd079663e70c",
        "deepnote_to_be_reexecuted": false,
        "source_hash": "58133540",
        "execution_millis": 19,
        "execution_start": 1615852099712,
        "deepnote_cell_type": "code"
      },
      "source": "df1.columns",
      "execution_count": 6,
      "outputs": [
        {
          "output_type": "execute_result",
          "execution_count": 6,
          "data": {
            "text/plain": "Int64Index([0, 1, 2, 3], dtype='int64')"
          },
          "metadata": {}
        }
      ]
    },
    {
      "cell_type": "code",
      "metadata": {
        "tags": [],
        "cell_id": "00011-018fa962-ccb5-4adf-bb7c-0c94fe308138",
        "deepnote_to_be_reexecuted": false,
        "source_hash": "652aba72",
        "execution_millis": 11,
        "execution_start": 1615852099720,
        "deepnote_cell_type": "code"
      },
      "source": "first_row = df1.iloc[0]\nfirst_row",
      "execution_count": 7,
      "outputs": [
        {
          "output_type": "execute_result",
          "execution_count": 7,
          "data": {
            "text/plain": "0                Census Year\n1           Total Population\n2                Census Cost\n3    Average Cost Per Person\nName: 0, dtype: object"
          },
          "metadata": {}
        }
      ]
    },
    {
      "cell_type": "markdown",
      "source": "### From all this we can see that the first row repeats the headings:",
      "metadata": {
        "tags": [],
        "cell_id": "00012-a3e3e4e8-7c92-4a54-96d7-3e432bef4f8f",
        "deepnote_cell_type": "markdown"
      }
    },
    {
      "cell_type": "code",
      "metadata": {
        "tags": [],
        "cell_id": "00012-d930cd94-9660-4934-909f-d465b9a23f85",
        "deepnote_to_be_reexecuted": false,
        "source_hash": "e4aaca1a",
        "execution_millis": 34,
        "execution_start": 1615852099763,
        "deepnote_cell_type": "code"
      },
      "source": "df1.columns = first_row\ndf1.head()",
      "execution_count": 8,
      "outputs": [
        {
          "output_type": "execute_result",
          "execution_count": 8,
          "data": {
            "application/vnd.deepnote.dataframe.v2+json": {
              "row_count": 5,
              "column_count": 4,
              "columns": [
                {
                  "name": "Census Year",
                  "dtype": "object",
                  "stats": {
                    "unique_count": 5,
                    "nan_count": 0,
                    "categories": [
                      {
                        "name": "Census Year",
                        "count": 1
                      },
                      {
                        "name": "1790",
                        "count": 1
                      },
                      {
                        "name": "3 others",
                        "count": 3
                      }
                    ]
                  }
                },
                {
                  "name": "Total Population",
                  "dtype": "object",
                  "stats": {
                    "unique_count": 5,
                    "nan_count": 0,
                    "categories": [
                      {
                        "name": "Total Population",
                        "count": 1
                      },
                      {
                        "name": "3929214",
                        "count": 1
                      },
                      {
                        "name": "3 others",
                        "count": 3
                      }
                    ]
                  }
                },
                {
                  "name": "Census Cost",
                  "dtype": "object",
                  "stats": {
                    "unique_count": 5,
                    "nan_count": 0,
                    "categories": [
                      {
                        "name": "Census Cost",
                        "count": 1
                      },
                      {
                        "name": "$44,377",
                        "count": 1
                      },
                      {
                        "name": "3 others",
                        "count": 3
                      }
                    ]
                  }
                },
                {
                  "name": "Average Cost Per Person",
                  "dtype": "object",
                  "stats": {
                    "unique_count": 5,
                    "nan_count": 0,
                    "categories": [
                      {
                        "name": "Average Cost Per Person",
                        "count": 1
                      },
                      {
                        "name": "1.13 cents",
                        "count": 1
                      },
                      {
                        "name": "3 others",
                        "count": 3
                      }
                    ]
                  }
                },
                {
                  "name": "_deepnote_index_column",
                  "dtype": "int64"
                }
              ],
              "rows_top": [
                {
                  "Census Year": "Census Year",
                  "Total Population": "Total Population",
                  "Census Cost": "Census Cost",
                  "Average Cost Per Person": "Average Cost Per Person",
                  "_deepnote_index_column": 0
                },
                {
                  "Census Year": "1790",
                  "Total Population": "3929214",
                  "Census Cost": "$44,377",
                  "Average Cost Per Person": "1.13 cents",
                  "_deepnote_index_column": 1
                },
                {
                  "Census Year": "1800",
                  "Total Population": "5308483",
                  "Census Cost": "$66,109",
                  "Average Cost Per Person": "1.24 cents",
                  "_deepnote_index_column": 2
                },
                {
                  "Census Year": "1810",
                  "Total Population": "7239881",
                  "Census Cost": "$178,445",
                  "Average Cost Per Person": "2.46 cents",
                  "_deepnote_index_column": 3
                },
                {
                  "Census Year": "1820",
                  "Total Population": "9633822",
                  "Census Cost": "$208,526",
                  "Average Cost Per Person": "2.16 cents",
                  "_deepnote_index_column": 4
                }
              ],
              "rows_bottom": null
            },
            "text/plain": "0  Census Year  Total Population  Census Cost  Average Cost Per Person\n0  Census Year  Total Population  Census Cost  Average Cost Per Person\n1         1790           3929214      $44,377               1.13 cents\n2         1800           5308483      $66,109               1.24 cents\n3         1810           7239881     $178,445               2.46 cents\n4         1820           9633822     $208,526               2.16 cents",
            "text/html": "<div>\n<style scoped>\n    .dataframe tbody tr th:only-of-type {\n        vertical-align: middle;\n    }\n\n    .dataframe tbody tr th {\n        vertical-align: top;\n    }\n\n    .dataframe thead th {\n        text-align: right;\n    }\n</style>\n<table border=\"1\" class=\"dataframe\">\n  <thead>\n    <tr style=\"text-align: right;\">\n      <th></th>\n      <th>Census Year</th>\n      <th>Total Population</th>\n      <th>Census Cost</th>\n      <th>Average Cost Per Person</th>\n    </tr>\n  </thead>\n  <tbody>\n    <tr>\n      <th>0</th>\n      <td>Census Year</td>\n      <td>Total Population</td>\n      <td>Census Cost</td>\n      <td>Average Cost Per Person</td>\n    </tr>\n    <tr>\n      <th>1</th>\n      <td>1790</td>\n      <td>3929214</td>\n      <td>$44,377</td>\n      <td>1.13 cents</td>\n    </tr>\n    <tr>\n      <th>2</th>\n      <td>1800</td>\n      <td>5308483</td>\n      <td>$66,109</td>\n      <td>1.24 cents</td>\n    </tr>\n    <tr>\n      <th>3</th>\n      <td>1810</td>\n      <td>7239881</td>\n      <td>$178,445</td>\n      <td>2.46 cents</td>\n    </tr>\n    <tr>\n      <th>4</th>\n      <td>1820</td>\n      <td>9633822</td>\n      <td>$208,526</td>\n      <td>2.16 cents</td>\n    </tr>\n  </tbody>\n</table>\n</div>"
          },
          "metadata": {}
        }
      ]
    },
    {
      "cell_type": "markdown",
      "source": "### We take care of this problem:",
      "metadata": {
        "tags": [],
        "cell_id": "00014-27fc1a7c-4bad-4cb5-b070-2f23bc82628c",
        "deepnote_cell_type": "markdown"
      }
    },
    {
      "cell_type": "code",
      "metadata": {
        "tags": [],
        "cell_id": "00014-bd29d94e-a7d2-420d-8d47-c6a361b49b6f",
        "deepnote_to_be_reexecuted": false,
        "source_hash": "b734cf37",
        "execution_millis": 32,
        "execution_start": 1615852099765,
        "deepnote_cell_type": "code"
      },
      "source": "df1.drop([0], inplace=True)\ndf1",
      "execution_count": 9,
      "outputs": [
        {
          "output_type": "execute_result",
          "execution_count": 9,
          "data": {
            "application/vnd.deepnote.dataframe.v2+json": {
              "row_count": 23,
              "column_count": 4,
              "columns": [
                {
                  "name": "Census Year",
                  "dtype": "object",
                  "stats": {
                    "unique_count": 23,
                    "nan_count": 0,
                    "categories": [
                      {
                        "name": "1790",
                        "count": 1
                      },
                      {
                        "name": "1800",
                        "count": 1
                      },
                      {
                        "name": "21 others",
                        "count": 21
                      }
                    ]
                  }
                },
                {
                  "name": "Total Population",
                  "dtype": "object",
                  "stats": {
                    "unique_count": 23,
                    "nan_count": 0,
                    "categories": [
                      {
                        "name": "3929214",
                        "count": 1
                      },
                      {
                        "name": "5308483",
                        "count": 1
                      },
                      {
                        "name": "21 others",
                        "count": 21
                      }
                    ]
                  }
                },
                {
                  "name": "Census Cost",
                  "dtype": "object",
                  "stats": {
                    "unique_count": 23,
                    "nan_count": 0,
                    "categories": [
                      {
                        "name": "$44,377",
                        "count": 1
                      },
                      {
                        "name": "$66,109",
                        "count": 1
                      },
                      {
                        "name": "21 others",
                        "count": 21
                      }
                    ]
                  }
                },
                {
                  "name": "Average Cost Per Person",
                  "dtype": "object",
                  "stats": {
                    "unique_count": 23,
                    "nan_count": 0,
                    "categories": [
                      {
                        "name": "1.13 cents",
                        "count": 1
                      },
                      {
                        "name": "1.24 cents",
                        "count": 1
                      },
                      {
                        "name": "21 others",
                        "count": 21
                      }
                    ]
                  }
                },
                {
                  "name": "_deepnote_index_column",
                  "dtype": "int64"
                }
              ],
              "rows_top": [
                {
                  "Census Year": "1790",
                  "Total Population": "3929214",
                  "Census Cost": "$44,377",
                  "Average Cost Per Person": "1.13 cents",
                  "_deepnote_index_column": 1
                },
                {
                  "Census Year": "1800",
                  "Total Population": "5308483",
                  "Census Cost": "$66,109",
                  "Average Cost Per Person": "1.24 cents",
                  "_deepnote_index_column": 2
                },
                {
                  "Census Year": "1810",
                  "Total Population": "7239881",
                  "Census Cost": "$178,445",
                  "Average Cost Per Person": "2.46 cents",
                  "_deepnote_index_column": 3
                },
                {
                  "Census Year": "1820",
                  "Total Population": "9633822",
                  "Census Cost": "$208,526",
                  "Average Cost Per Person": "2.16 cents",
                  "_deepnote_index_column": 4
                },
                {
                  "Census Year": "1830",
                  "Total Population": "12866020",
                  "Census Cost": "$378,545",
                  "Average Cost Per Person": "2.94 cents",
                  "_deepnote_index_column": 5
                },
                {
                  "Census Year": "1840",
                  "Total Population": "17069458",
                  "Census Cost": "$833,371",
                  "Average Cost Per Person": "4.88 cents",
                  "_deepnote_index_column": 6
                },
                {
                  "Census Year": "1850",
                  "Total Population": "23191876",
                  "Census Cost": "$1,423,351",
                  "Average Cost Per Person": "6.14 cents",
                  "_deepnote_index_column": 7
                },
                {
                  "Census Year": "1860",
                  "Total Population": "31443321",
                  "Census Cost": "$1,969,377",
                  "Average Cost Per Person": "6.26 cents",
                  "_deepnote_index_column": 8
                },
                {
                  "Census Year": "1870",
                  "Total Population": "38558371",
                  "Census Cost": "$3,421,198",
                  "Average Cost Per Person": "8.87 cents",
                  "_deepnote_index_column": 9
                },
                {
                  "Census Year": "1880",
                  "Total Population": "50155783",
                  "Census Cost": "$5,790,678",
                  "Average Cost Per Person": "11.54 cents",
                  "_deepnote_index_column": 10
                },
                {
                  "Census Year": "1890",
                  "Total Population": "62979766",
                  "Census Cost": "$11,547,127",
                  "Average Cost Per Person": "18.33 cents",
                  "_deepnote_index_column": 11
                },
                {
                  "Census Year": "1900",
                  "Total Population": "76303387",
                  "Census Cost": "$11,854,000",
                  "Average Cost Per Person": "15.54 cents",
                  "_deepnote_index_column": 12
                },
                {
                  "Census Year": "1910",
                  "Total Population": "91972266",
                  "Census Cost": "$15,968,000",
                  "Average Cost Per Person": "17.07 cents",
                  "_deepnote_index_column": 13
                },
                {
                  "Census Year": "1920",
                  "Total Population": "105710620",
                  "Census Cost": "$25,117,000",
                  "Average Cost Per Person": "23.76 cents",
                  "_deepnote_index_column": 14
                },
                {
                  "Census Year": "1930",
                  "Total Population": "122775046",
                  "Census Cost": "$40,156,000",
                  "Average Cost Per Person": "32.71 cents",
                  "_deepnote_index_column": 15
                },
                {
                  "Census Year": "1940",
                  "Total Population": "131669275",
                  "Census Cost": "$67,527,000",
                  "Average Cost Per Person": "51.29 cents",
                  "_deepnote_index_column": 16
                },
                {
                  "Census Year": "1950",
                  "Total Population": "151325798",
                  "Census Cost": "$91,462,000",
                  "Average Cost Per Person": "60.44 cents",
                  "_deepnote_index_column": 17
                },
                {
                  "Census Year": "1960",
                  "Total Population": "179323175",
                  "Census Cost": "$127,934,000",
                  "Average Cost Per Person": "71.34 cents",
                  "_deepnote_index_column": 18
                },
                {
                  "Census Year": "1970",
                  "Total Population": "203302031",
                  "Census Cost": "$247,653,000",
                  "Average Cost Per Person": "$1.22",
                  "_deepnote_index_column": 19
                },
                {
                  "Census Year": "1980",
                  "Total Population": "226542199",
                  "Census Cost": "$1,078,488,000",
                  "Average Cost Per Person": "$4.76",
                  "_deepnote_index_column": 20
                },
                {
                  "Census Year": "1990",
                  "Total Population": "248718301",
                  "Census Cost": "$2,492,830,000",
                  "Average Cost Per Person": "$10.02",
                  "_deepnote_index_column": 21
                },
                {
                  "Census Year": "2000",
                  "Total Population": "281421906",
                  "Census Cost": "$4.5 Billion",
                  "Average Cost Per Person": "$15.99",
                  "_deepnote_index_column": 22
                },
                {
                  "Census Year": "2010*",
                  "Total Population": "308745538",
                  "Census Cost": "$13 Billion",
                  "Average Cost Per Person": "$42.11",
                  "_deepnote_index_column": 23
                }
              ],
              "rows_bottom": null
            },
            "text/plain": "0  Census Year Total Population     Census Cost Average Cost Per Person\n1         1790          3929214         $44,377              1.13 cents\n2         1800          5308483         $66,109              1.24 cents\n3         1810          7239881        $178,445              2.46 cents\n4         1820          9633822        $208,526              2.16 cents\n5         1830         12866020        $378,545              2.94 cents\n6         1840         17069458        $833,371              4.88 cents\n7         1850         23191876      $1,423,351              6.14 cents\n8         1860         31443321      $1,969,377              6.26 cents\n9         1870         38558371      $3,421,198              8.87 cents\n10        1880         50155783      $5,790,678             11.54 cents\n11        1890         62979766     $11,547,127             18.33 cents\n12        1900         76303387     $11,854,000             15.54 cents\n13        1910         91972266     $15,968,000             17.07 cents\n14        1920        105710620     $25,117,000             23.76 cents\n15        1930        122775046     $40,156,000             32.71 cents\n16        1940        131669275     $67,527,000             51.29 cents\n17        1950        151325798     $91,462,000             60.44 cents\n18        1960        179323175    $127,934,000             71.34 cents\n19        1970        203302031    $247,653,000                   $1.22\n20        1980        226542199  $1,078,488,000                   $4.76\n21        1990        248718301  $2,492,830,000                  $10.02\n22        2000        281421906    $4.5 Billion                  $15.99\n23       2010*        308745538     $13 Billion                  $42.11",
            "text/html": "<div>\n<style scoped>\n    .dataframe tbody tr th:only-of-type {\n        vertical-align: middle;\n    }\n\n    .dataframe tbody tr th {\n        vertical-align: top;\n    }\n\n    .dataframe thead th {\n        text-align: right;\n    }\n</style>\n<table border=\"1\" class=\"dataframe\">\n  <thead>\n    <tr style=\"text-align: right;\">\n      <th></th>\n      <th>Census Year</th>\n      <th>Total Population</th>\n      <th>Census Cost</th>\n      <th>Average Cost Per Person</th>\n    </tr>\n  </thead>\n  <tbody>\n    <tr>\n      <th>1</th>\n      <td>1790</td>\n      <td>3929214</td>\n      <td>$44,377</td>\n      <td>1.13 cents</td>\n    </tr>\n    <tr>\n      <th>2</th>\n      <td>1800</td>\n      <td>5308483</td>\n      <td>$66,109</td>\n      <td>1.24 cents</td>\n    </tr>\n    <tr>\n      <th>3</th>\n      <td>1810</td>\n      <td>7239881</td>\n      <td>$178,445</td>\n      <td>2.46 cents</td>\n    </tr>\n    <tr>\n      <th>4</th>\n      <td>1820</td>\n      <td>9633822</td>\n      <td>$208,526</td>\n      <td>2.16 cents</td>\n    </tr>\n    <tr>\n      <th>5</th>\n      <td>1830</td>\n      <td>12866020</td>\n      <td>$378,545</td>\n      <td>2.94 cents</td>\n    </tr>\n    <tr>\n      <th>6</th>\n      <td>1840</td>\n      <td>17069458</td>\n      <td>$833,371</td>\n      <td>4.88 cents</td>\n    </tr>\n    <tr>\n      <th>7</th>\n      <td>1850</td>\n      <td>23191876</td>\n      <td>$1,423,351</td>\n      <td>6.14 cents</td>\n    </tr>\n    <tr>\n      <th>8</th>\n      <td>1860</td>\n      <td>31443321</td>\n      <td>$1,969,377</td>\n      <td>6.26 cents</td>\n    </tr>\n    <tr>\n      <th>9</th>\n      <td>1870</td>\n      <td>38558371</td>\n      <td>$3,421,198</td>\n      <td>8.87 cents</td>\n    </tr>\n    <tr>\n      <th>10</th>\n      <td>1880</td>\n      <td>50155783</td>\n      <td>$5,790,678</td>\n      <td>11.54 cents</td>\n    </tr>\n    <tr>\n      <th>11</th>\n      <td>1890</td>\n      <td>62979766</td>\n      <td>$11,547,127</td>\n      <td>18.33 cents</td>\n    </tr>\n    <tr>\n      <th>12</th>\n      <td>1900</td>\n      <td>76303387</td>\n      <td>$11,854,000</td>\n      <td>15.54 cents</td>\n    </tr>\n    <tr>\n      <th>13</th>\n      <td>1910</td>\n      <td>91972266</td>\n      <td>$15,968,000</td>\n      <td>17.07 cents</td>\n    </tr>\n    <tr>\n      <th>14</th>\n      <td>1920</td>\n      <td>105710620</td>\n      <td>$25,117,000</td>\n      <td>23.76 cents</td>\n    </tr>\n    <tr>\n      <th>15</th>\n      <td>1930</td>\n      <td>122775046</td>\n      <td>$40,156,000</td>\n      <td>32.71 cents</td>\n    </tr>\n    <tr>\n      <th>16</th>\n      <td>1940</td>\n      <td>131669275</td>\n      <td>$67,527,000</td>\n      <td>51.29 cents</td>\n    </tr>\n    <tr>\n      <th>17</th>\n      <td>1950</td>\n      <td>151325798</td>\n      <td>$91,462,000</td>\n      <td>60.44 cents</td>\n    </tr>\n    <tr>\n      <th>18</th>\n      <td>1960</td>\n      <td>179323175</td>\n      <td>$127,934,000</td>\n      <td>71.34 cents</td>\n    </tr>\n    <tr>\n      <th>19</th>\n      <td>1970</td>\n      <td>203302031</td>\n      <td>$247,653,000</td>\n      <td>$1.22</td>\n    </tr>\n    <tr>\n      <th>20</th>\n      <td>1980</td>\n      <td>226542199</td>\n      <td>$1,078,488,000</td>\n      <td>$4.76</td>\n    </tr>\n    <tr>\n      <th>21</th>\n      <td>1990</td>\n      <td>248718301</td>\n      <td>$2,492,830,000</td>\n      <td>$10.02</td>\n    </tr>\n    <tr>\n      <th>22</th>\n      <td>2000</td>\n      <td>281421906</td>\n      <td>$4.5 Billion</td>\n      <td>$15.99</td>\n    </tr>\n    <tr>\n      <th>23</th>\n      <td>2010*</td>\n      <td>308745538</td>\n      <td>$13 Billion</td>\n      <td>$42.11</td>\n    </tr>\n  </tbody>\n</table>\n</div>"
          },
          "metadata": {}
        }
      ]
    },
    {
      "cell_type": "markdown",
      "source": "### 5. Write a function named cleanse_year() that takes a string as input and removes any asterisks in the string and return the cleansed string. Test the function by using test strings (for example, *\"1989**\",* \"20*10\")",
      "metadata": {
        "tags": [],
        "cell_id": "00016-1ddd2cf7-d56d-4c83-b250-c59433aa7d7b",
        "deepnote_cell_type": "markdown"
      }
    },
    {
      "cell_type": "code",
      "metadata": {
        "tags": [],
        "cell_id": "00019-2dcc4d66-dff1-4745-9dda-6e1c916a9ceb",
        "deepnote_to_be_reexecuted": false,
        "source_hash": "2b8b4ce4",
        "execution_millis": 1,
        "execution_start": 1615852099771,
        "deepnote_cell_type": "code"
      },
      "source": "def cleanse_year(raw_year):\n    year = raw_year.replace(\"*\",\"\")\n    return year\n",
      "execution_count": 10,
      "outputs": []
    },
    {
      "cell_type": "markdown",
      "source": "### Test the function by using test strings:",
      "metadata": {
        "tags": [],
        "cell_id": "00020-cb04c069-cf56-4d31-913f-cfc464294cfa",
        "deepnote_cell_type": "markdown"
      }
    },
    {
      "cell_type": "code",
      "metadata": {
        "tags": [],
        "cell_id": "00020-bda0927c-83b2-4535-bf80-4fd90a636614",
        "deepnote_to_be_reexecuted": false,
        "source_hash": "9530d551",
        "execution_millis": 43,
        "execution_start": 1615852099779,
        "deepnote_cell_type": "code"
      },
      "source": "print(cleanse_year(\"1989*\"))\nprint(cleanse_year(\"20*10\"))",
      "execution_count": 11,
      "outputs": [
        {
          "name": "stdout",
          "text": "1989\n2010\n",
          "output_type": "stream"
        }
      ]
    },
    {
      "cell_type": "markdown",
      "source": "### 6. Cleanse the column \"Census Year\" using the function cleanse_year() and Pandas's apply() function.",
      "metadata": {
        "tags": [],
        "cell_id": "00021-7393ba20-1d9e-4e7f-889c-87a9f586b730",
        "deepnote_cell_type": "markdown"
      }
    },
    {
      "cell_type": "code",
      "metadata": {
        "tags": [],
        "cell_id": "00022-fee3cb10-50f2-4e40-9554-3150a100c0b6",
        "deepnote_to_be_reexecuted": false,
        "source_hash": "d9dc959e",
        "execution_millis": 35,
        "execution_start": 1615852099787,
        "deepnote_cell_type": "code"
      },
      "source": "df1[\"Cleansed Year\"] = df1[\"Census Year\"].apply(cleanse_year)\ndf1",
      "execution_count": 12,
      "outputs": [
        {
          "output_type": "execute_result",
          "execution_count": 12,
          "data": {
            "application/vnd.deepnote.dataframe.v2+json": {
              "row_count": 23,
              "column_count": 5,
              "columns": [
                {
                  "name": "Census Year",
                  "dtype": "object",
                  "stats": {
                    "unique_count": 23,
                    "nan_count": 0,
                    "categories": [
                      {
                        "name": "1790",
                        "count": 1
                      },
                      {
                        "name": "1800",
                        "count": 1
                      },
                      {
                        "name": "21 others",
                        "count": 21
                      }
                    ]
                  }
                },
                {
                  "name": "Total Population",
                  "dtype": "object",
                  "stats": {
                    "unique_count": 23,
                    "nan_count": 0,
                    "categories": [
                      {
                        "name": "3929214",
                        "count": 1
                      },
                      {
                        "name": "5308483",
                        "count": 1
                      },
                      {
                        "name": "21 others",
                        "count": 21
                      }
                    ]
                  }
                },
                {
                  "name": "Census Cost",
                  "dtype": "object",
                  "stats": {
                    "unique_count": 23,
                    "nan_count": 0,
                    "categories": [
                      {
                        "name": "$44,377",
                        "count": 1
                      },
                      {
                        "name": "$66,109",
                        "count": 1
                      },
                      {
                        "name": "21 others",
                        "count": 21
                      }
                    ]
                  }
                },
                {
                  "name": "Average Cost Per Person",
                  "dtype": "object",
                  "stats": {
                    "unique_count": 23,
                    "nan_count": 0,
                    "categories": [
                      {
                        "name": "1.13 cents",
                        "count": 1
                      },
                      {
                        "name": "1.24 cents",
                        "count": 1
                      },
                      {
                        "name": "21 others",
                        "count": 21
                      }
                    ]
                  }
                },
                {
                  "name": "Cleansed Year",
                  "dtype": "object",
                  "stats": {
                    "unique_count": 23,
                    "nan_count": 0,
                    "categories": [
                      {
                        "name": "1790",
                        "count": 1
                      },
                      {
                        "name": "1800",
                        "count": 1
                      },
                      {
                        "name": "21 others",
                        "count": 21
                      }
                    ]
                  }
                },
                {
                  "name": "_deepnote_index_column",
                  "dtype": "int64"
                }
              ],
              "rows_top": [
                {
                  "Census Year": "1790",
                  "Total Population": "3929214",
                  "Census Cost": "$44,377",
                  "Average Cost Per Person": "1.13 cents",
                  "Cleansed Year": "1790",
                  "_deepnote_index_column": 1
                },
                {
                  "Census Year": "1800",
                  "Total Population": "5308483",
                  "Census Cost": "$66,109",
                  "Average Cost Per Person": "1.24 cents",
                  "Cleansed Year": "1800",
                  "_deepnote_index_column": 2
                },
                {
                  "Census Year": "1810",
                  "Total Population": "7239881",
                  "Census Cost": "$178,445",
                  "Average Cost Per Person": "2.46 cents",
                  "Cleansed Year": "1810",
                  "_deepnote_index_column": 3
                },
                {
                  "Census Year": "1820",
                  "Total Population": "9633822",
                  "Census Cost": "$208,526",
                  "Average Cost Per Person": "2.16 cents",
                  "Cleansed Year": "1820",
                  "_deepnote_index_column": 4
                },
                {
                  "Census Year": "1830",
                  "Total Population": "12866020",
                  "Census Cost": "$378,545",
                  "Average Cost Per Person": "2.94 cents",
                  "Cleansed Year": "1830",
                  "_deepnote_index_column": 5
                },
                {
                  "Census Year": "1840",
                  "Total Population": "17069458",
                  "Census Cost": "$833,371",
                  "Average Cost Per Person": "4.88 cents",
                  "Cleansed Year": "1840",
                  "_deepnote_index_column": 6
                },
                {
                  "Census Year": "1850",
                  "Total Population": "23191876",
                  "Census Cost": "$1,423,351",
                  "Average Cost Per Person": "6.14 cents",
                  "Cleansed Year": "1850",
                  "_deepnote_index_column": 7
                },
                {
                  "Census Year": "1860",
                  "Total Population": "31443321",
                  "Census Cost": "$1,969,377",
                  "Average Cost Per Person": "6.26 cents",
                  "Cleansed Year": "1860",
                  "_deepnote_index_column": 8
                },
                {
                  "Census Year": "1870",
                  "Total Population": "38558371",
                  "Census Cost": "$3,421,198",
                  "Average Cost Per Person": "8.87 cents",
                  "Cleansed Year": "1870",
                  "_deepnote_index_column": 9
                },
                {
                  "Census Year": "1880",
                  "Total Population": "50155783",
                  "Census Cost": "$5,790,678",
                  "Average Cost Per Person": "11.54 cents",
                  "Cleansed Year": "1880",
                  "_deepnote_index_column": 10
                },
                {
                  "Census Year": "1890",
                  "Total Population": "62979766",
                  "Census Cost": "$11,547,127",
                  "Average Cost Per Person": "18.33 cents",
                  "Cleansed Year": "1890",
                  "_deepnote_index_column": 11
                },
                {
                  "Census Year": "1900",
                  "Total Population": "76303387",
                  "Census Cost": "$11,854,000",
                  "Average Cost Per Person": "15.54 cents",
                  "Cleansed Year": "1900",
                  "_deepnote_index_column": 12
                },
                {
                  "Census Year": "1910",
                  "Total Population": "91972266",
                  "Census Cost": "$15,968,000",
                  "Average Cost Per Person": "17.07 cents",
                  "Cleansed Year": "1910",
                  "_deepnote_index_column": 13
                },
                {
                  "Census Year": "1920",
                  "Total Population": "105710620",
                  "Census Cost": "$25,117,000",
                  "Average Cost Per Person": "23.76 cents",
                  "Cleansed Year": "1920",
                  "_deepnote_index_column": 14
                },
                {
                  "Census Year": "1930",
                  "Total Population": "122775046",
                  "Census Cost": "$40,156,000",
                  "Average Cost Per Person": "32.71 cents",
                  "Cleansed Year": "1930",
                  "_deepnote_index_column": 15
                },
                {
                  "Census Year": "1940",
                  "Total Population": "131669275",
                  "Census Cost": "$67,527,000",
                  "Average Cost Per Person": "51.29 cents",
                  "Cleansed Year": "1940",
                  "_deepnote_index_column": 16
                },
                {
                  "Census Year": "1950",
                  "Total Population": "151325798",
                  "Census Cost": "$91,462,000",
                  "Average Cost Per Person": "60.44 cents",
                  "Cleansed Year": "1950",
                  "_deepnote_index_column": 17
                },
                {
                  "Census Year": "1960",
                  "Total Population": "179323175",
                  "Census Cost": "$127,934,000",
                  "Average Cost Per Person": "71.34 cents",
                  "Cleansed Year": "1960",
                  "_deepnote_index_column": 18
                },
                {
                  "Census Year": "1970",
                  "Total Population": "203302031",
                  "Census Cost": "$247,653,000",
                  "Average Cost Per Person": "$1.22",
                  "Cleansed Year": "1970",
                  "_deepnote_index_column": 19
                },
                {
                  "Census Year": "1980",
                  "Total Population": "226542199",
                  "Census Cost": "$1,078,488,000",
                  "Average Cost Per Person": "$4.76",
                  "Cleansed Year": "1980",
                  "_deepnote_index_column": 20
                },
                {
                  "Census Year": "1990",
                  "Total Population": "248718301",
                  "Census Cost": "$2,492,830,000",
                  "Average Cost Per Person": "$10.02",
                  "Cleansed Year": "1990",
                  "_deepnote_index_column": 21
                },
                {
                  "Census Year": "2000",
                  "Total Population": "281421906",
                  "Census Cost": "$4.5 Billion",
                  "Average Cost Per Person": "$15.99",
                  "Cleansed Year": "2000",
                  "_deepnote_index_column": 22
                },
                {
                  "Census Year": "2010*",
                  "Total Population": "308745538",
                  "Census Cost": "$13 Billion",
                  "Average Cost Per Person": "$42.11",
                  "Cleansed Year": "2010",
                  "_deepnote_index_column": 23
                }
              ],
              "rows_bottom": null
            },
            "text/plain": "0  Census Year Total Population     Census Cost Average Cost Per Person  \\\n1         1790          3929214         $44,377              1.13 cents   \n2         1800          5308483         $66,109              1.24 cents   \n3         1810          7239881        $178,445              2.46 cents   \n4         1820          9633822        $208,526              2.16 cents   \n5         1830         12866020        $378,545              2.94 cents   \n6         1840         17069458        $833,371              4.88 cents   \n7         1850         23191876      $1,423,351              6.14 cents   \n8         1860         31443321      $1,969,377              6.26 cents   \n9         1870         38558371      $3,421,198              8.87 cents   \n10        1880         50155783      $5,790,678             11.54 cents   \n11        1890         62979766     $11,547,127             18.33 cents   \n12        1900         76303387     $11,854,000             15.54 cents   \n13        1910         91972266     $15,968,000             17.07 cents   \n14        1920        105710620     $25,117,000             23.76 cents   \n15        1930        122775046     $40,156,000             32.71 cents   \n16        1940        131669275     $67,527,000             51.29 cents   \n17        1950        151325798     $91,462,000             60.44 cents   \n18        1960        179323175    $127,934,000             71.34 cents   \n19        1970        203302031    $247,653,000                   $1.22   \n20        1980        226542199  $1,078,488,000                   $4.76   \n21        1990        248718301  $2,492,830,000                  $10.02   \n22        2000        281421906    $4.5 Billion                  $15.99   \n23       2010*        308745538     $13 Billion                  $42.11   \n\n0  Cleansed Year  \n1           1790  \n2           1800  \n3           1810  \n4           1820  \n5           1830  \n6           1840  \n7           1850  \n8           1860  \n9           1870  \n10          1880  \n11          1890  \n12          1900  \n13          1910  \n14          1920  \n15          1930  \n16          1940  \n17          1950  \n18          1960  \n19          1970  \n20          1980  \n21          1990  \n22          2000  \n23          2010  ",
            "text/html": "<div>\n<style scoped>\n    .dataframe tbody tr th:only-of-type {\n        vertical-align: middle;\n    }\n\n    .dataframe tbody tr th {\n        vertical-align: top;\n    }\n\n    .dataframe thead th {\n        text-align: right;\n    }\n</style>\n<table border=\"1\" class=\"dataframe\">\n  <thead>\n    <tr style=\"text-align: right;\">\n      <th></th>\n      <th>Census Year</th>\n      <th>Total Population</th>\n      <th>Census Cost</th>\n      <th>Average Cost Per Person</th>\n      <th>Cleansed Year</th>\n    </tr>\n  </thead>\n  <tbody>\n    <tr>\n      <th>1</th>\n      <td>1790</td>\n      <td>3929214</td>\n      <td>$44,377</td>\n      <td>1.13 cents</td>\n      <td>1790</td>\n    </tr>\n    <tr>\n      <th>2</th>\n      <td>1800</td>\n      <td>5308483</td>\n      <td>$66,109</td>\n      <td>1.24 cents</td>\n      <td>1800</td>\n    </tr>\n    <tr>\n      <th>3</th>\n      <td>1810</td>\n      <td>7239881</td>\n      <td>$178,445</td>\n      <td>2.46 cents</td>\n      <td>1810</td>\n    </tr>\n    <tr>\n      <th>4</th>\n      <td>1820</td>\n      <td>9633822</td>\n      <td>$208,526</td>\n      <td>2.16 cents</td>\n      <td>1820</td>\n    </tr>\n    <tr>\n      <th>5</th>\n      <td>1830</td>\n      <td>12866020</td>\n      <td>$378,545</td>\n      <td>2.94 cents</td>\n      <td>1830</td>\n    </tr>\n    <tr>\n      <th>6</th>\n      <td>1840</td>\n      <td>17069458</td>\n      <td>$833,371</td>\n      <td>4.88 cents</td>\n      <td>1840</td>\n    </tr>\n    <tr>\n      <th>7</th>\n      <td>1850</td>\n      <td>23191876</td>\n      <td>$1,423,351</td>\n      <td>6.14 cents</td>\n      <td>1850</td>\n    </tr>\n    <tr>\n      <th>8</th>\n      <td>1860</td>\n      <td>31443321</td>\n      <td>$1,969,377</td>\n      <td>6.26 cents</td>\n      <td>1860</td>\n    </tr>\n    <tr>\n      <th>9</th>\n      <td>1870</td>\n      <td>38558371</td>\n      <td>$3,421,198</td>\n      <td>8.87 cents</td>\n      <td>1870</td>\n    </tr>\n    <tr>\n      <th>10</th>\n      <td>1880</td>\n      <td>50155783</td>\n      <td>$5,790,678</td>\n      <td>11.54 cents</td>\n      <td>1880</td>\n    </tr>\n    <tr>\n      <th>11</th>\n      <td>1890</td>\n      <td>62979766</td>\n      <td>$11,547,127</td>\n      <td>18.33 cents</td>\n      <td>1890</td>\n    </tr>\n    <tr>\n      <th>12</th>\n      <td>1900</td>\n      <td>76303387</td>\n      <td>$11,854,000</td>\n      <td>15.54 cents</td>\n      <td>1900</td>\n    </tr>\n    <tr>\n      <th>13</th>\n      <td>1910</td>\n      <td>91972266</td>\n      <td>$15,968,000</td>\n      <td>17.07 cents</td>\n      <td>1910</td>\n    </tr>\n    <tr>\n      <th>14</th>\n      <td>1920</td>\n      <td>105710620</td>\n      <td>$25,117,000</td>\n      <td>23.76 cents</td>\n      <td>1920</td>\n    </tr>\n    <tr>\n      <th>15</th>\n      <td>1930</td>\n      <td>122775046</td>\n      <td>$40,156,000</td>\n      <td>32.71 cents</td>\n      <td>1930</td>\n    </tr>\n    <tr>\n      <th>16</th>\n      <td>1940</td>\n      <td>131669275</td>\n      <td>$67,527,000</td>\n      <td>51.29 cents</td>\n      <td>1940</td>\n    </tr>\n    <tr>\n      <th>17</th>\n      <td>1950</td>\n      <td>151325798</td>\n      <td>$91,462,000</td>\n      <td>60.44 cents</td>\n      <td>1950</td>\n    </tr>\n    <tr>\n      <th>18</th>\n      <td>1960</td>\n      <td>179323175</td>\n      <td>$127,934,000</td>\n      <td>71.34 cents</td>\n      <td>1960</td>\n    </tr>\n    <tr>\n      <th>19</th>\n      <td>1970</td>\n      <td>203302031</td>\n      <td>$247,653,000</td>\n      <td>$1.22</td>\n      <td>1970</td>\n    </tr>\n    <tr>\n      <th>20</th>\n      <td>1980</td>\n      <td>226542199</td>\n      <td>$1,078,488,000</td>\n      <td>$4.76</td>\n      <td>1980</td>\n    </tr>\n    <tr>\n      <th>21</th>\n      <td>1990</td>\n      <td>248718301</td>\n      <td>$2,492,830,000</td>\n      <td>$10.02</td>\n      <td>1990</td>\n    </tr>\n    <tr>\n      <th>22</th>\n      <td>2000</td>\n      <td>281421906</td>\n      <td>$4.5 Billion</td>\n      <td>$15.99</td>\n      <td>2000</td>\n    </tr>\n    <tr>\n      <th>23</th>\n      <td>2010*</td>\n      <td>308745538</td>\n      <td>$13 Billion</td>\n      <td>$42.11</td>\n      <td>2010</td>\n    </tr>\n  </tbody>\n</table>\n</div>"
          },
          "metadata": {}
        }
      ]
    },
    {
      "cell_type": "markdown",
      "source": "### 7. Repeat this process for column \"Total Population\", \"Census Cost\", \"Average Cost Per Person\". (define, test, and apply the function)",
      "metadata": {
        "tags": [],
        "cell_id": "00023-ba6aae0e-6d17-4f3d-be03-58be40e718ca",
        "deepnote_cell_type": "markdown"
      }
    },
    {
      "cell_type": "markdown",
      "source": "##### Total Population: remove the commas since python doesn't recognize them. \n##### Note: in this html file, Total Population is technically already cleansed, it already doesn't have commas. But if there were, this is how we would proceed:\n",
      "metadata": {
        "tags": [],
        "cell_id": "00024-03d3186a-1954-438e-9d47-2c4a0ae53ec2",
        "deepnote_cell_type": "markdown"
      }
    },
    {
      "cell_type": "code",
      "metadata": {
        "tags": [],
        "cell_id": "00025-1e38451c-c10d-4763-85ad-d93cc9fe572c",
        "deepnote_to_be_reexecuted": false,
        "source_hash": "85cfb09c",
        "execution_millis": 0,
        "execution_start": 1615852099808,
        "deepnote_cell_type": "code"
      },
      "source": "def cleanse_pop(raw_pop):\n    pop = raw_pop.replace(\",\",\"\")\n    return pop",
      "execution_count": 13,
      "outputs": []
    },
    {
      "cell_type": "markdown",
      "source": "##### test this method using some test strings...",
      "metadata": {
        "tags": [],
        "cell_id": "00026-c60b2ff0-eaf5-4062-bba4-0a6e3640eeb8",
        "deepnote_cell_type": "markdown"
      }
    },
    {
      "cell_type": "code",
      "metadata": {
        "tags": [],
        "cell_id": "00027-ebb1b404-9257-498d-85bf-f16537ea6cc1",
        "deepnote_to_be_reexecuted": false,
        "source_hash": "21b717cd",
        "execution_millis": 16,
        "execution_start": 1615852099810,
        "deepnote_cell_type": "code"
      },
      "source": "print(cleanse_pop(\"300,000,000\"))\nprint(cleanse_pop(\"1,000,000,000\"))",
      "execution_count": 14,
      "outputs": [
        {
          "name": "stdout",
          "text": "300000000\n1000000000\n",
          "output_type": "stream"
        }
      ]
    },
    {
      "cell_type": "markdown",
      "source": "##### now apply this method to Total Population",
      "metadata": {
        "tags": [],
        "cell_id": "00028-b570adca-9bf6-4630-805a-ec5cd3121fdf",
        "deepnote_cell_type": "markdown"
      }
    },
    {
      "cell_type": "code",
      "metadata": {
        "tags": [],
        "cell_id": "00029-ff528bd8-d1e2-4ab8-b139-dd157eafba0f",
        "deepnote_to_be_reexecuted": false,
        "source_hash": "be7e91a7",
        "execution_millis": 41,
        "execution_start": 1615852099815,
        "deepnote_cell_type": "code"
      },
      "source": "df1[\"Cleansed Population\"] = df1[\"Total Population\"].apply(cleanse_pop)\ndf1",
      "execution_count": 15,
      "outputs": [
        {
          "output_type": "execute_result",
          "execution_count": 15,
          "data": {
            "application/vnd.deepnote.dataframe.v2+json": {
              "row_count": 23,
              "column_count": 6,
              "columns": [
                {
                  "name": "Census Year",
                  "dtype": "object",
                  "stats": {
                    "unique_count": 23,
                    "nan_count": 0,
                    "categories": [
                      {
                        "name": "1790",
                        "count": 1
                      },
                      {
                        "name": "1800",
                        "count": 1
                      },
                      {
                        "name": "21 others",
                        "count": 21
                      }
                    ]
                  }
                },
                {
                  "name": "Total Population",
                  "dtype": "object",
                  "stats": {
                    "unique_count": 23,
                    "nan_count": 0,
                    "categories": [
                      {
                        "name": "3929214",
                        "count": 1
                      },
                      {
                        "name": "5308483",
                        "count": 1
                      },
                      {
                        "name": "21 others",
                        "count": 21
                      }
                    ]
                  }
                },
                {
                  "name": "Census Cost",
                  "dtype": "object",
                  "stats": {
                    "unique_count": 23,
                    "nan_count": 0,
                    "categories": [
                      {
                        "name": "$44,377",
                        "count": 1
                      },
                      {
                        "name": "$66,109",
                        "count": 1
                      },
                      {
                        "name": "21 others",
                        "count": 21
                      }
                    ]
                  }
                },
                {
                  "name": "Average Cost Per Person",
                  "dtype": "object",
                  "stats": {
                    "unique_count": 23,
                    "nan_count": 0,
                    "categories": [
                      {
                        "name": "1.13 cents",
                        "count": 1
                      },
                      {
                        "name": "1.24 cents",
                        "count": 1
                      },
                      {
                        "name": "21 others",
                        "count": 21
                      }
                    ]
                  }
                },
                {
                  "name": "Cleansed Year",
                  "dtype": "object",
                  "stats": {
                    "unique_count": 23,
                    "nan_count": 0,
                    "categories": [
                      {
                        "name": "1790",
                        "count": 1
                      },
                      {
                        "name": "1800",
                        "count": 1
                      },
                      {
                        "name": "21 others",
                        "count": 21
                      }
                    ]
                  }
                },
                {
                  "name": "Cleansed Population",
                  "dtype": "object",
                  "stats": {
                    "unique_count": 23,
                    "nan_count": 0,
                    "categories": [
                      {
                        "name": "3929214",
                        "count": 1
                      },
                      {
                        "name": "5308483",
                        "count": 1
                      },
                      {
                        "name": "21 others",
                        "count": 21
                      }
                    ]
                  }
                },
                {
                  "name": "_deepnote_index_column",
                  "dtype": "int64"
                }
              ],
              "rows_top": [
                {
                  "Census Year": "1790",
                  "Total Population": "3929214",
                  "Census Cost": "$44,377",
                  "Average Cost Per Person": "1.13 cents",
                  "Cleansed Year": "1790",
                  "Cleansed Population": "3929214",
                  "_deepnote_index_column": 1
                },
                {
                  "Census Year": "1800",
                  "Total Population": "5308483",
                  "Census Cost": "$66,109",
                  "Average Cost Per Person": "1.24 cents",
                  "Cleansed Year": "1800",
                  "Cleansed Population": "5308483",
                  "_deepnote_index_column": 2
                },
                {
                  "Census Year": "1810",
                  "Total Population": "7239881",
                  "Census Cost": "$178,445",
                  "Average Cost Per Person": "2.46 cents",
                  "Cleansed Year": "1810",
                  "Cleansed Population": "7239881",
                  "_deepnote_index_column": 3
                },
                {
                  "Census Year": "1820",
                  "Total Population": "9633822",
                  "Census Cost": "$208,526",
                  "Average Cost Per Person": "2.16 cents",
                  "Cleansed Year": "1820",
                  "Cleansed Population": "9633822",
                  "_deepnote_index_column": 4
                },
                {
                  "Census Year": "1830",
                  "Total Population": "12866020",
                  "Census Cost": "$378,545",
                  "Average Cost Per Person": "2.94 cents",
                  "Cleansed Year": "1830",
                  "Cleansed Population": "12866020",
                  "_deepnote_index_column": 5
                },
                {
                  "Census Year": "1840",
                  "Total Population": "17069458",
                  "Census Cost": "$833,371",
                  "Average Cost Per Person": "4.88 cents",
                  "Cleansed Year": "1840",
                  "Cleansed Population": "17069458",
                  "_deepnote_index_column": 6
                },
                {
                  "Census Year": "1850",
                  "Total Population": "23191876",
                  "Census Cost": "$1,423,351",
                  "Average Cost Per Person": "6.14 cents",
                  "Cleansed Year": "1850",
                  "Cleansed Population": "23191876",
                  "_deepnote_index_column": 7
                },
                {
                  "Census Year": "1860",
                  "Total Population": "31443321",
                  "Census Cost": "$1,969,377",
                  "Average Cost Per Person": "6.26 cents",
                  "Cleansed Year": "1860",
                  "Cleansed Population": "31443321",
                  "_deepnote_index_column": 8
                },
                {
                  "Census Year": "1870",
                  "Total Population": "38558371",
                  "Census Cost": "$3,421,198",
                  "Average Cost Per Person": "8.87 cents",
                  "Cleansed Year": "1870",
                  "Cleansed Population": "38558371",
                  "_deepnote_index_column": 9
                },
                {
                  "Census Year": "1880",
                  "Total Population": "50155783",
                  "Census Cost": "$5,790,678",
                  "Average Cost Per Person": "11.54 cents",
                  "Cleansed Year": "1880",
                  "Cleansed Population": "50155783",
                  "_deepnote_index_column": 10
                },
                {
                  "Census Year": "1890",
                  "Total Population": "62979766",
                  "Census Cost": "$11,547,127",
                  "Average Cost Per Person": "18.33 cents",
                  "Cleansed Year": "1890",
                  "Cleansed Population": "62979766",
                  "_deepnote_index_column": 11
                },
                {
                  "Census Year": "1900",
                  "Total Population": "76303387",
                  "Census Cost": "$11,854,000",
                  "Average Cost Per Person": "15.54 cents",
                  "Cleansed Year": "1900",
                  "Cleansed Population": "76303387",
                  "_deepnote_index_column": 12
                },
                {
                  "Census Year": "1910",
                  "Total Population": "91972266",
                  "Census Cost": "$15,968,000",
                  "Average Cost Per Person": "17.07 cents",
                  "Cleansed Year": "1910",
                  "Cleansed Population": "91972266",
                  "_deepnote_index_column": 13
                },
                {
                  "Census Year": "1920",
                  "Total Population": "105710620",
                  "Census Cost": "$25,117,000",
                  "Average Cost Per Person": "23.76 cents",
                  "Cleansed Year": "1920",
                  "Cleansed Population": "105710620",
                  "_deepnote_index_column": 14
                },
                {
                  "Census Year": "1930",
                  "Total Population": "122775046",
                  "Census Cost": "$40,156,000",
                  "Average Cost Per Person": "32.71 cents",
                  "Cleansed Year": "1930",
                  "Cleansed Population": "122775046",
                  "_deepnote_index_column": 15
                },
                {
                  "Census Year": "1940",
                  "Total Population": "131669275",
                  "Census Cost": "$67,527,000",
                  "Average Cost Per Person": "51.29 cents",
                  "Cleansed Year": "1940",
                  "Cleansed Population": "131669275",
                  "_deepnote_index_column": 16
                },
                {
                  "Census Year": "1950",
                  "Total Population": "151325798",
                  "Census Cost": "$91,462,000",
                  "Average Cost Per Person": "60.44 cents",
                  "Cleansed Year": "1950",
                  "Cleansed Population": "151325798",
                  "_deepnote_index_column": 17
                },
                {
                  "Census Year": "1960",
                  "Total Population": "179323175",
                  "Census Cost": "$127,934,000",
                  "Average Cost Per Person": "71.34 cents",
                  "Cleansed Year": "1960",
                  "Cleansed Population": "179323175",
                  "_deepnote_index_column": 18
                },
                {
                  "Census Year": "1970",
                  "Total Population": "203302031",
                  "Census Cost": "$247,653,000",
                  "Average Cost Per Person": "$1.22",
                  "Cleansed Year": "1970",
                  "Cleansed Population": "203302031",
                  "_deepnote_index_column": 19
                },
                {
                  "Census Year": "1980",
                  "Total Population": "226542199",
                  "Census Cost": "$1,078,488,000",
                  "Average Cost Per Person": "$4.76",
                  "Cleansed Year": "1980",
                  "Cleansed Population": "226542199",
                  "_deepnote_index_column": 20
                },
                {
                  "Census Year": "1990",
                  "Total Population": "248718301",
                  "Census Cost": "$2,492,830,000",
                  "Average Cost Per Person": "$10.02",
                  "Cleansed Year": "1990",
                  "Cleansed Population": "248718301",
                  "_deepnote_index_column": 21
                },
                {
                  "Census Year": "2000",
                  "Total Population": "281421906",
                  "Census Cost": "$4.5 Billion",
                  "Average Cost Per Person": "$15.99",
                  "Cleansed Year": "2000",
                  "Cleansed Population": "281421906",
                  "_deepnote_index_column": 22
                },
                {
                  "Census Year": "2010*",
                  "Total Population": "308745538",
                  "Census Cost": "$13 Billion",
                  "Average Cost Per Person": "$42.11",
                  "Cleansed Year": "2010",
                  "Cleansed Population": "308745538",
                  "_deepnote_index_column": 23
                }
              ],
              "rows_bottom": null
            },
            "text/plain": "0  Census Year Total Population     Census Cost Average Cost Per Person  \\\n1         1790          3929214         $44,377              1.13 cents   \n2         1800          5308483         $66,109              1.24 cents   \n3         1810          7239881        $178,445              2.46 cents   \n4         1820          9633822        $208,526              2.16 cents   \n5         1830         12866020        $378,545              2.94 cents   \n6         1840         17069458        $833,371              4.88 cents   \n7         1850         23191876      $1,423,351              6.14 cents   \n8         1860         31443321      $1,969,377              6.26 cents   \n9         1870         38558371      $3,421,198              8.87 cents   \n10        1880         50155783      $5,790,678             11.54 cents   \n11        1890         62979766     $11,547,127             18.33 cents   \n12        1900         76303387     $11,854,000             15.54 cents   \n13        1910         91972266     $15,968,000             17.07 cents   \n14        1920        105710620     $25,117,000             23.76 cents   \n15        1930        122775046     $40,156,000             32.71 cents   \n16        1940        131669275     $67,527,000             51.29 cents   \n17        1950        151325798     $91,462,000             60.44 cents   \n18        1960        179323175    $127,934,000             71.34 cents   \n19        1970        203302031    $247,653,000                   $1.22   \n20        1980        226542199  $1,078,488,000                   $4.76   \n21        1990        248718301  $2,492,830,000                  $10.02   \n22        2000        281421906    $4.5 Billion                  $15.99   \n23       2010*        308745538     $13 Billion                  $42.11   \n\n0  Cleansed Year Cleansed Population  \n1           1790             3929214  \n2           1800             5308483  \n3           1810             7239881  \n4           1820             9633822  \n5           1830            12866020  \n6           1840            17069458  \n7           1850            23191876  \n8           1860            31443321  \n9           1870            38558371  \n10          1880            50155783  \n11          1890            62979766  \n12          1900            76303387  \n13          1910            91972266  \n14          1920           105710620  \n15          1930           122775046  \n16          1940           131669275  \n17          1950           151325798  \n18          1960           179323175  \n19          1970           203302031  \n20          1980           226542199  \n21          1990           248718301  \n22          2000           281421906  \n23          2010           308745538  ",
            "text/html": "<div>\n<style scoped>\n    .dataframe tbody tr th:only-of-type {\n        vertical-align: middle;\n    }\n\n    .dataframe tbody tr th {\n        vertical-align: top;\n    }\n\n    .dataframe thead th {\n        text-align: right;\n    }\n</style>\n<table border=\"1\" class=\"dataframe\">\n  <thead>\n    <tr style=\"text-align: right;\">\n      <th></th>\n      <th>Census Year</th>\n      <th>Total Population</th>\n      <th>Census Cost</th>\n      <th>Average Cost Per Person</th>\n      <th>Cleansed Year</th>\n      <th>Cleansed Population</th>\n    </tr>\n  </thead>\n  <tbody>\n    <tr>\n      <th>1</th>\n      <td>1790</td>\n      <td>3929214</td>\n      <td>$44,377</td>\n      <td>1.13 cents</td>\n      <td>1790</td>\n      <td>3929214</td>\n    </tr>\n    <tr>\n      <th>2</th>\n      <td>1800</td>\n      <td>5308483</td>\n      <td>$66,109</td>\n      <td>1.24 cents</td>\n      <td>1800</td>\n      <td>5308483</td>\n    </tr>\n    <tr>\n      <th>3</th>\n      <td>1810</td>\n      <td>7239881</td>\n      <td>$178,445</td>\n      <td>2.46 cents</td>\n      <td>1810</td>\n      <td>7239881</td>\n    </tr>\n    <tr>\n      <th>4</th>\n      <td>1820</td>\n      <td>9633822</td>\n      <td>$208,526</td>\n      <td>2.16 cents</td>\n      <td>1820</td>\n      <td>9633822</td>\n    </tr>\n    <tr>\n      <th>5</th>\n      <td>1830</td>\n      <td>12866020</td>\n      <td>$378,545</td>\n      <td>2.94 cents</td>\n      <td>1830</td>\n      <td>12866020</td>\n    </tr>\n    <tr>\n      <th>6</th>\n      <td>1840</td>\n      <td>17069458</td>\n      <td>$833,371</td>\n      <td>4.88 cents</td>\n      <td>1840</td>\n      <td>17069458</td>\n    </tr>\n    <tr>\n      <th>7</th>\n      <td>1850</td>\n      <td>23191876</td>\n      <td>$1,423,351</td>\n      <td>6.14 cents</td>\n      <td>1850</td>\n      <td>23191876</td>\n    </tr>\n    <tr>\n      <th>8</th>\n      <td>1860</td>\n      <td>31443321</td>\n      <td>$1,969,377</td>\n      <td>6.26 cents</td>\n      <td>1860</td>\n      <td>31443321</td>\n    </tr>\n    <tr>\n      <th>9</th>\n      <td>1870</td>\n      <td>38558371</td>\n      <td>$3,421,198</td>\n      <td>8.87 cents</td>\n      <td>1870</td>\n      <td>38558371</td>\n    </tr>\n    <tr>\n      <th>10</th>\n      <td>1880</td>\n      <td>50155783</td>\n      <td>$5,790,678</td>\n      <td>11.54 cents</td>\n      <td>1880</td>\n      <td>50155783</td>\n    </tr>\n    <tr>\n      <th>11</th>\n      <td>1890</td>\n      <td>62979766</td>\n      <td>$11,547,127</td>\n      <td>18.33 cents</td>\n      <td>1890</td>\n      <td>62979766</td>\n    </tr>\n    <tr>\n      <th>12</th>\n      <td>1900</td>\n      <td>76303387</td>\n      <td>$11,854,000</td>\n      <td>15.54 cents</td>\n      <td>1900</td>\n      <td>76303387</td>\n    </tr>\n    <tr>\n      <th>13</th>\n      <td>1910</td>\n      <td>91972266</td>\n      <td>$15,968,000</td>\n      <td>17.07 cents</td>\n      <td>1910</td>\n      <td>91972266</td>\n    </tr>\n    <tr>\n      <th>14</th>\n      <td>1920</td>\n      <td>105710620</td>\n      <td>$25,117,000</td>\n      <td>23.76 cents</td>\n      <td>1920</td>\n      <td>105710620</td>\n    </tr>\n    <tr>\n      <th>15</th>\n      <td>1930</td>\n      <td>122775046</td>\n      <td>$40,156,000</td>\n      <td>32.71 cents</td>\n      <td>1930</td>\n      <td>122775046</td>\n    </tr>\n    <tr>\n      <th>16</th>\n      <td>1940</td>\n      <td>131669275</td>\n      <td>$67,527,000</td>\n      <td>51.29 cents</td>\n      <td>1940</td>\n      <td>131669275</td>\n    </tr>\n    <tr>\n      <th>17</th>\n      <td>1950</td>\n      <td>151325798</td>\n      <td>$91,462,000</td>\n      <td>60.44 cents</td>\n      <td>1950</td>\n      <td>151325798</td>\n    </tr>\n    <tr>\n      <th>18</th>\n      <td>1960</td>\n      <td>179323175</td>\n      <td>$127,934,000</td>\n      <td>71.34 cents</td>\n      <td>1960</td>\n      <td>179323175</td>\n    </tr>\n    <tr>\n      <th>19</th>\n      <td>1970</td>\n      <td>203302031</td>\n      <td>$247,653,000</td>\n      <td>$1.22</td>\n      <td>1970</td>\n      <td>203302031</td>\n    </tr>\n    <tr>\n      <th>20</th>\n      <td>1980</td>\n      <td>226542199</td>\n      <td>$1,078,488,000</td>\n      <td>$4.76</td>\n      <td>1980</td>\n      <td>226542199</td>\n    </tr>\n    <tr>\n      <th>21</th>\n      <td>1990</td>\n      <td>248718301</td>\n      <td>$2,492,830,000</td>\n      <td>$10.02</td>\n      <td>1990</td>\n      <td>248718301</td>\n    </tr>\n    <tr>\n      <th>22</th>\n      <td>2000</td>\n      <td>281421906</td>\n      <td>$4.5 Billion</td>\n      <td>$15.99</td>\n      <td>2000</td>\n      <td>281421906</td>\n    </tr>\n    <tr>\n      <th>23</th>\n      <td>2010*</td>\n      <td>308745538</td>\n      <td>$13 Billion</td>\n      <td>$42.11</td>\n      <td>2010</td>\n      <td>308745538</td>\n    </tr>\n  </tbody>\n</table>\n</div>"
          },
          "metadata": {}
        }
      ]
    },
    {
      "cell_type": "markdown",
      "source": "##### Census Cost: Remove the \",\", and \"$\", and \"Billion\". Make sure to add the \"0\"s to the numbers from which you removed \"Billion\". ",
      "metadata": {
        "tags": [],
        "cell_id": "00030-198586d4-a519-427c-9034-3dc5933b23e7",
        "deepnote_cell_type": "markdown"
      }
    },
    {
      "cell_type": "code",
      "metadata": {
        "tags": [],
        "cell_id": "00031-044f9401-75e7-43c4-bd95-f2ccf07376c8",
        "deepnote_to_be_reexecuted": false,
        "source_hash": "338995b8",
        "execution_millis": 1,
        "execution_start": 1615852099850,
        "deepnote_cell_type": "code"
      },
      "source": "def cleanse_cost(raw_cost):\n    cost = raw_cost.lstrip(\"$\").replace(\",\",\"\")\n    if  raw_cost.find(\"4.5\") != -1:          # if \"4.5\" in raw_cost:\n        cost = \"45\" + \"0\" * 8\n    elif raw_cost.find(\"Billion\") != -1:     # elif \"Billion\" in raw_cost: \n        cost = \"13\" + \"0\" * 9\n    return cost",
      "execution_count": 16,
      "outputs": []
    },
    {
      "cell_type": "markdown",
      "source": "##### test this method using some test strings...",
      "metadata": {
        "tags": [],
        "cell_id": "00032-90ffa907-0bf6-49f3-8187-b27353433820",
        "deepnote_cell_type": "markdown"
      }
    },
    {
      "cell_type": "code",
      "metadata": {
        "tags": [],
        "cell_id": "00033-78cbc41e-10e6-42a9-b983-64ab43b92154",
        "deepnote_to_be_reexecuted": false,
        "source_hash": "cd2ed40c",
        "execution_millis": 38,
        "execution_start": 1615852099886,
        "deepnote_cell_type": "code"
      },
      "source": "print(cleanse_cost(\"$$$$100,000 Billion\"))\nprint(cleanse_cost(\"$40,000\"))",
      "execution_count": 17,
      "outputs": [
        {
          "name": "stdout",
          "text": "13000000000\n40000\n",
          "output_type": "stream"
        }
      ]
    },
    {
      "cell_type": "markdown",
      "source": "##### now apply this method to Census Cost",
      "metadata": {
        "tags": [],
        "cell_id": "00034-639e26af-52c1-48ef-96d7-ddf4ab5ac82a",
        "deepnote_cell_type": "markdown"
      }
    },
    {
      "cell_type": "code",
      "metadata": {
        "tags": [],
        "cell_id": "00035-fdd4f585-8554-4d86-992b-81048bf0d848",
        "deepnote_to_be_reexecuted": false,
        "source_hash": "11daf92a",
        "execution_millis": 36,
        "execution_start": 1615852099888,
        "deepnote_cell_type": "code"
      },
      "source": "df1[\"Cleansed Cost\"] = df1[\"Census Cost\"].apply(cleanse_cost)\ndf1",
      "execution_count": 18,
      "outputs": [
        {
          "output_type": "execute_result",
          "execution_count": 18,
          "data": {
            "application/vnd.deepnote.dataframe.v2+json": {
              "row_count": 23,
              "column_count": 7,
              "columns": [
                {
                  "name": "Census Year",
                  "dtype": "object",
                  "stats": {
                    "unique_count": 23,
                    "nan_count": 0,
                    "categories": [
                      {
                        "name": "1790",
                        "count": 1
                      },
                      {
                        "name": "1800",
                        "count": 1
                      },
                      {
                        "name": "21 others",
                        "count": 21
                      }
                    ]
                  }
                },
                {
                  "name": "Total Population",
                  "dtype": "object",
                  "stats": {
                    "unique_count": 23,
                    "nan_count": 0,
                    "categories": [
                      {
                        "name": "3929214",
                        "count": 1
                      },
                      {
                        "name": "5308483",
                        "count": 1
                      },
                      {
                        "name": "21 others",
                        "count": 21
                      }
                    ]
                  }
                },
                {
                  "name": "Census Cost",
                  "dtype": "object",
                  "stats": {
                    "unique_count": 23,
                    "nan_count": 0,
                    "categories": [
                      {
                        "name": "$44,377",
                        "count": 1
                      },
                      {
                        "name": "$66,109",
                        "count": 1
                      },
                      {
                        "name": "21 others",
                        "count": 21
                      }
                    ]
                  }
                },
                {
                  "name": "Average Cost Per Person",
                  "dtype": "object",
                  "stats": {
                    "unique_count": 23,
                    "nan_count": 0,
                    "categories": [
                      {
                        "name": "1.13 cents",
                        "count": 1
                      },
                      {
                        "name": "1.24 cents",
                        "count": 1
                      },
                      {
                        "name": "21 others",
                        "count": 21
                      }
                    ]
                  }
                },
                {
                  "name": "Cleansed Year",
                  "dtype": "object",
                  "stats": {
                    "unique_count": 23,
                    "nan_count": 0,
                    "categories": [
                      {
                        "name": "1790",
                        "count": 1
                      },
                      {
                        "name": "1800",
                        "count": 1
                      },
                      {
                        "name": "21 others",
                        "count": 21
                      }
                    ]
                  }
                },
                {
                  "name": "Cleansed Population",
                  "dtype": "object",
                  "stats": {
                    "unique_count": 23,
                    "nan_count": 0,
                    "categories": [
                      {
                        "name": "3929214",
                        "count": 1
                      },
                      {
                        "name": "5308483",
                        "count": 1
                      },
                      {
                        "name": "21 others",
                        "count": 21
                      }
                    ]
                  }
                },
                {
                  "name": "Cleansed Cost",
                  "dtype": "object",
                  "stats": {
                    "unique_count": 23,
                    "nan_count": 0,
                    "categories": [
                      {
                        "name": "44377",
                        "count": 1
                      },
                      {
                        "name": "66109",
                        "count": 1
                      },
                      {
                        "name": "21 others",
                        "count": 21
                      }
                    ]
                  }
                },
                {
                  "name": "_deepnote_index_column",
                  "dtype": "int64"
                }
              ],
              "rows_top": [
                {
                  "Census Year": "1790",
                  "Total Population": "3929214",
                  "Census Cost": "$44,377",
                  "Average Cost Per Person": "1.13 cents",
                  "Cleansed Year": "1790",
                  "Cleansed Population": "3929214",
                  "Cleansed Cost": "44377",
                  "_deepnote_index_column": 1
                },
                {
                  "Census Year": "1800",
                  "Total Population": "5308483",
                  "Census Cost": "$66,109",
                  "Average Cost Per Person": "1.24 cents",
                  "Cleansed Year": "1800",
                  "Cleansed Population": "5308483",
                  "Cleansed Cost": "66109",
                  "_deepnote_index_column": 2
                },
                {
                  "Census Year": "1810",
                  "Total Population": "7239881",
                  "Census Cost": "$178,445",
                  "Average Cost Per Person": "2.46 cents",
                  "Cleansed Year": "1810",
                  "Cleansed Population": "7239881",
                  "Cleansed Cost": "178445",
                  "_deepnote_index_column": 3
                },
                {
                  "Census Year": "1820",
                  "Total Population": "9633822",
                  "Census Cost": "$208,526",
                  "Average Cost Per Person": "2.16 cents",
                  "Cleansed Year": "1820",
                  "Cleansed Population": "9633822",
                  "Cleansed Cost": "208526",
                  "_deepnote_index_column": 4
                },
                {
                  "Census Year": "1830",
                  "Total Population": "12866020",
                  "Census Cost": "$378,545",
                  "Average Cost Per Person": "2.94 cents",
                  "Cleansed Year": "1830",
                  "Cleansed Population": "12866020",
                  "Cleansed Cost": "378545",
                  "_deepnote_index_column": 5
                },
                {
                  "Census Year": "1840",
                  "Total Population": "17069458",
                  "Census Cost": "$833,371",
                  "Average Cost Per Person": "4.88 cents",
                  "Cleansed Year": "1840",
                  "Cleansed Population": "17069458",
                  "Cleansed Cost": "833371",
                  "_deepnote_index_column": 6
                },
                {
                  "Census Year": "1850",
                  "Total Population": "23191876",
                  "Census Cost": "$1,423,351",
                  "Average Cost Per Person": "6.14 cents",
                  "Cleansed Year": "1850",
                  "Cleansed Population": "23191876",
                  "Cleansed Cost": "1423351",
                  "_deepnote_index_column": 7
                },
                {
                  "Census Year": "1860",
                  "Total Population": "31443321",
                  "Census Cost": "$1,969,377",
                  "Average Cost Per Person": "6.26 cents",
                  "Cleansed Year": "1860",
                  "Cleansed Population": "31443321",
                  "Cleansed Cost": "1969377",
                  "_deepnote_index_column": 8
                },
                {
                  "Census Year": "1870",
                  "Total Population": "38558371",
                  "Census Cost": "$3,421,198",
                  "Average Cost Per Person": "8.87 cents",
                  "Cleansed Year": "1870",
                  "Cleansed Population": "38558371",
                  "Cleansed Cost": "3421198",
                  "_deepnote_index_column": 9
                },
                {
                  "Census Year": "1880",
                  "Total Population": "50155783",
                  "Census Cost": "$5,790,678",
                  "Average Cost Per Person": "11.54 cents",
                  "Cleansed Year": "1880",
                  "Cleansed Population": "50155783",
                  "Cleansed Cost": "5790678",
                  "_deepnote_index_column": 10
                },
                {
                  "Census Year": "1890",
                  "Total Population": "62979766",
                  "Census Cost": "$11,547,127",
                  "Average Cost Per Person": "18.33 cents",
                  "Cleansed Year": "1890",
                  "Cleansed Population": "62979766",
                  "Cleansed Cost": "11547127",
                  "_deepnote_index_column": 11
                },
                {
                  "Census Year": "1900",
                  "Total Population": "76303387",
                  "Census Cost": "$11,854,000",
                  "Average Cost Per Person": "15.54 cents",
                  "Cleansed Year": "1900",
                  "Cleansed Population": "76303387",
                  "Cleansed Cost": "11854000",
                  "_deepnote_index_column": 12
                },
                {
                  "Census Year": "1910",
                  "Total Population": "91972266",
                  "Census Cost": "$15,968,000",
                  "Average Cost Per Person": "17.07 cents",
                  "Cleansed Year": "1910",
                  "Cleansed Population": "91972266",
                  "Cleansed Cost": "15968000",
                  "_deepnote_index_column": 13
                },
                {
                  "Census Year": "1920",
                  "Total Population": "105710620",
                  "Census Cost": "$25,117,000",
                  "Average Cost Per Person": "23.76 cents",
                  "Cleansed Year": "1920",
                  "Cleansed Population": "105710620",
                  "Cleansed Cost": "25117000",
                  "_deepnote_index_column": 14
                },
                {
                  "Census Year": "1930",
                  "Total Population": "122775046",
                  "Census Cost": "$40,156,000",
                  "Average Cost Per Person": "32.71 cents",
                  "Cleansed Year": "1930",
                  "Cleansed Population": "122775046",
                  "Cleansed Cost": "40156000",
                  "_deepnote_index_column": 15
                },
                {
                  "Census Year": "1940",
                  "Total Population": "131669275",
                  "Census Cost": "$67,527,000",
                  "Average Cost Per Person": "51.29 cents",
                  "Cleansed Year": "1940",
                  "Cleansed Population": "131669275",
                  "Cleansed Cost": "67527000",
                  "_deepnote_index_column": 16
                },
                {
                  "Census Year": "1950",
                  "Total Population": "151325798",
                  "Census Cost": "$91,462,000",
                  "Average Cost Per Person": "60.44 cents",
                  "Cleansed Year": "1950",
                  "Cleansed Population": "151325798",
                  "Cleansed Cost": "91462000",
                  "_deepnote_index_column": 17
                },
                {
                  "Census Year": "1960",
                  "Total Population": "179323175",
                  "Census Cost": "$127,934,000",
                  "Average Cost Per Person": "71.34 cents",
                  "Cleansed Year": "1960",
                  "Cleansed Population": "179323175",
                  "Cleansed Cost": "127934000",
                  "_deepnote_index_column": 18
                },
                {
                  "Census Year": "1970",
                  "Total Population": "203302031",
                  "Census Cost": "$247,653,000",
                  "Average Cost Per Person": "$1.22",
                  "Cleansed Year": "1970",
                  "Cleansed Population": "203302031",
                  "Cleansed Cost": "247653000",
                  "_deepnote_index_column": 19
                },
                {
                  "Census Year": "1980",
                  "Total Population": "226542199",
                  "Census Cost": "$1,078,488,000",
                  "Average Cost Per Person": "$4.76",
                  "Cleansed Year": "1980",
                  "Cleansed Population": "226542199",
                  "Cleansed Cost": "1078488000",
                  "_deepnote_index_column": 20
                },
                {
                  "Census Year": "1990",
                  "Total Population": "248718301",
                  "Census Cost": "$2,492,830,000",
                  "Average Cost Per Person": "$10.02",
                  "Cleansed Year": "1990",
                  "Cleansed Population": "248718301",
                  "Cleansed Cost": "2492830000",
                  "_deepnote_index_column": 21
                },
                {
                  "Census Year": "2000",
                  "Total Population": "281421906",
                  "Census Cost": "$4.5 Billion",
                  "Average Cost Per Person": "$15.99",
                  "Cleansed Year": "2000",
                  "Cleansed Population": "281421906",
                  "Cleansed Cost": "4500000000",
                  "_deepnote_index_column": 22
                },
                {
                  "Census Year": "2010*",
                  "Total Population": "308745538",
                  "Census Cost": "$13 Billion",
                  "Average Cost Per Person": "$42.11",
                  "Cleansed Year": "2010",
                  "Cleansed Population": "308745538",
                  "Cleansed Cost": "13000000000",
                  "_deepnote_index_column": 23
                }
              ],
              "rows_bottom": null
            },
            "text/plain": "0  Census Year Total Population     Census Cost Average Cost Per Person  \\\n1         1790          3929214         $44,377              1.13 cents   \n2         1800          5308483         $66,109              1.24 cents   \n3         1810          7239881        $178,445              2.46 cents   \n4         1820          9633822        $208,526              2.16 cents   \n5         1830         12866020        $378,545              2.94 cents   \n6         1840         17069458        $833,371              4.88 cents   \n7         1850         23191876      $1,423,351              6.14 cents   \n8         1860         31443321      $1,969,377              6.26 cents   \n9         1870         38558371      $3,421,198              8.87 cents   \n10        1880         50155783      $5,790,678             11.54 cents   \n11        1890         62979766     $11,547,127             18.33 cents   \n12        1900         76303387     $11,854,000             15.54 cents   \n13        1910         91972266     $15,968,000             17.07 cents   \n14        1920        105710620     $25,117,000             23.76 cents   \n15        1930        122775046     $40,156,000             32.71 cents   \n16        1940        131669275     $67,527,000             51.29 cents   \n17        1950        151325798     $91,462,000             60.44 cents   \n18        1960        179323175    $127,934,000             71.34 cents   \n19        1970        203302031    $247,653,000                   $1.22   \n20        1980        226542199  $1,078,488,000                   $4.76   \n21        1990        248718301  $2,492,830,000                  $10.02   \n22        2000        281421906    $4.5 Billion                  $15.99   \n23       2010*        308745538     $13 Billion                  $42.11   \n\n0  Cleansed Year Cleansed Population Cleansed Cost  \n1           1790             3929214         44377  \n2           1800             5308483         66109  \n3           1810             7239881        178445  \n4           1820             9633822        208526  \n5           1830            12866020        378545  \n6           1840            17069458        833371  \n7           1850            23191876       1423351  \n8           1860            31443321       1969377  \n9           1870            38558371       3421198  \n10          1880            50155783       5790678  \n11          1890            62979766      11547127  \n12          1900            76303387      11854000  \n13          1910            91972266      15968000  \n14          1920           105710620      25117000  \n15          1930           122775046      40156000  \n16          1940           131669275      67527000  \n17          1950           151325798      91462000  \n18          1960           179323175     127934000  \n19          1970           203302031     247653000  \n20          1980           226542199    1078488000  \n21          1990           248718301    2492830000  \n22          2000           281421906    4500000000  \n23          2010           308745538   13000000000  ",
            "text/html": "<div>\n<style scoped>\n    .dataframe tbody tr th:only-of-type {\n        vertical-align: middle;\n    }\n\n    .dataframe tbody tr th {\n        vertical-align: top;\n    }\n\n    .dataframe thead th {\n        text-align: right;\n    }\n</style>\n<table border=\"1\" class=\"dataframe\">\n  <thead>\n    <tr style=\"text-align: right;\">\n      <th></th>\n      <th>Census Year</th>\n      <th>Total Population</th>\n      <th>Census Cost</th>\n      <th>Average Cost Per Person</th>\n      <th>Cleansed Year</th>\n      <th>Cleansed Population</th>\n      <th>Cleansed Cost</th>\n    </tr>\n  </thead>\n  <tbody>\n    <tr>\n      <th>1</th>\n      <td>1790</td>\n      <td>3929214</td>\n      <td>$44,377</td>\n      <td>1.13 cents</td>\n      <td>1790</td>\n      <td>3929214</td>\n      <td>44377</td>\n    </tr>\n    <tr>\n      <th>2</th>\n      <td>1800</td>\n      <td>5308483</td>\n      <td>$66,109</td>\n      <td>1.24 cents</td>\n      <td>1800</td>\n      <td>5308483</td>\n      <td>66109</td>\n    </tr>\n    <tr>\n      <th>3</th>\n      <td>1810</td>\n      <td>7239881</td>\n      <td>$178,445</td>\n      <td>2.46 cents</td>\n      <td>1810</td>\n      <td>7239881</td>\n      <td>178445</td>\n    </tr>\n    <tr>\n      <th>4</th>\n      <td>1820</td>\n      <td>9633822</td>\n      <td>$208,526</td>\n      <td>2.16 cents</td>\n      <td>1820</td>\n      <td>9633822</td>\n      <td>208526</td>\n    </tr>\n    <tr>\n      <th>5</th>\n      <td>1830</td>\n      <td>12866020</td>\n      <td>$378,545</td>\n      <td>2.94 cents</td>\n      <td>1830</td>\n      <td>12866020</td>\n      <td>378545</td>\n    </tr>\n    <tr>\n      <th>6</th>\n      <td>1840</td>\n      <td>17069458</td>\n      <td>$833,371</td>\n      <td>4.88 cents</td>\n      <td>1840</td>\n      <td>17069458</td>\n      <td>833371</td>\n    </tr>\n    <tr>\n      <th>7</th>\n      <td>1850</td>\n      <td>23191876</td>\n      <td>$1,423,351</td>\n      <td>6.14 cents</td>\n      <td>1850</td>\n      <td>23191876</td>\n      <td>1423351</td>\n    </tr>\n    <tr>\n      <th>8</th>\n      <td>1860</td>\n      <td>31443321</td>\n      <td>$1,969,377</td>\n      <td>6.26 cents</td>\n      <td>1860</td>\n      <td>31443321</td>\n      <td>1969377</td>\n    </tr>\n    <tr>\n      <th>9</th>\n      <td>1870</td>\n      <td>38558371</td>\n      <td>$3,421,198</td>\n      <td>8.87 cents</td>\n      <td>1870</td>\n      <td>38558371</td>\n      <td>3421198</td>\n    </tr>\n    <tr>\n      <th>10</th>\n      <td>1880</td>\n      <td>50155783</td>\n      <td>$5,790,678</td>\n      <td>11.54 cents</td>\n      <td>1880</td>\n      <td>50155783</td>\n      <td>5790678</td>\n    </tr>\n    <tr>\n      <th>11</th>\n      <td>1890</td>\n      <td>62979766</td>\n      <td>$11,547,127</td>\n      <td>18.33 cents</td>\n      <td>1890</td>\n      <td>62979766</td>\n      <td>11547127</td>\n    </tr>\n    <tr>\n      <th>12</th>\n      <td>1900</td>\n      <td>76303387</td>\n      <td>$11,854,000</td>\n      <td>15.54 cents</td>\n      <td>1900</td>\n      <td>76303387</td>\n      <td>11854000</td>\n    </tr>\n    <tr>\n      <th>13</th>\n      <td>1910</td>\n      <td>91972266</td>\n      <td>$15,968,000</td>\n      <td>17.07 cents</td>\n      <td>1910</td>\n      <td>91972266</td>\n      <td>15968000</td>\n    </tr>\n    <tr>\n      <th>14</th>\n      <td>1920</td>\n      <td>105710620</td>\n      <td>$25,117,000</td>\n      <td>23.76 cents</td>\n      <td>1920</td>\n      <td>105710620</td>\n      <td>25117000</td>\n    </tr>\n    <tr>\n      <th>15</th>\n      <td>1930</td>\n      <td>122775046</td>\n      <td>$40,156,000</td>\n      <td>32.71 cents</td>\n      <td>1930</td>\n      <td>122775046</td>\n      <td>40156000</td>\n    </tr>\n    <tr>\n      <th>16</th>\n      <td>1940</td>\n      <td>131669275</td>\n      <td>$67,527,000</td>\n      <td>51.29 cents</td>\n      <td>1940</td>\n      <td>131669275</td>\n      <td>67527000</td>\n    </tr>\n    <tr>\n      <th>17</th>\n      <td>1950</td>\n      <td>151325798</td>\n      <td>$91,462,000</td>\n      <td>60.44 cents</td>\n      <td>1950</td>\n      <td>151325798</td>\n      <td>91462000</td>\n    </tr>\n    <tr>\n      <th>18</th>\n      <td>1960</td>\n      <td>179323175</td>\n      <td>$127,934,000</td>\n      <td>71.34 cents</td>\n      <td>1960</td>\n      <td>179323175</td>\n      <td>127934000</td>\n    </tr>\n    <tr>\n      <th>19</th>\n      <td>1970</td>\n      <td>203302031</td>\n      <td>$247,653,000</td>\n      <td>$1.22</td>\n      <td>1970</td>\n      <td>203302031</td>\n      <td>247653000</td>\n    </tr>\n    <tr>\n      <th>20</th>\n      <td>1980</td>\n      <td>226542199</td>\n      <td>$1,078,488,000</td>\n      <td>$4.76</td>\n      <td>1980</td>\n      <td>226542199</td>\n      <td>1078488000</td>\n    </tr>\n    <tr>\n      <th>21</th>\n      <td>1990</td>\n      <td>248718301</td>\n      <td>$2,492,830,000</td>\n      <td>$10.02</td>\n      <td>1990</td>\n      <td>248718301</td>\n      <td>2492830000</td>\n    </tr>\n    <tr>\n      <th>22</th>\n      <td>2000</td>\n      <td>281421906</td>\n      <td>$4.5 Billion</td>\n      <td>$15.99</td>\n      <td>2000</td>\n      <td>281421906</td>\n      <td>4500000000</td>\n    </tr>\n    <tr>\n      <th>23</th>\n      <td>2010*</td>\n      <td>308745538</td>\n      <td>$13 Billion</td>\n      <td>$42.11</td>\n      <td>2010</td>\n      <td>308745538</td>\n      <td>13000000000</td>\n    </tr>\n  </tbody>\n</table>\n</div>"
          },
          "metadata": {}
        }
      ]
    },
    {
      "cell_type": "markdown",
      "source": "##### Average Cost Per Person: Remove the \"cents\", and \"$\". \n##### Important: Make sure to convert cents to dollars. To do this, divide the number by 100.",
      "metadata": {
        "tags": [],
        "cell_id": "00036-d10cda6b-1078-4a7a-8645-925de13557fe",
        "deepnote_cell_type": "markdown"
      }
    },
    {
      "cell_type": "code",
      "metadata": {
        "tags": [],
        "cell_id": "00037-55b91166-9d0f-4653-b50b-7b2440d6caa6",
        "deepnote_to_be_reexecuted": false,
        "source_hash": "a1be4096",
        "execution_millis": 1,
        "execution_start": 1615852099895,
        "deepnote_cell_type": "code"
      },
      "source": "def cleanse_person(raw_person):\n    if (\"cents\" in raw_person):\n        person = raw_person.strip(\"cents\")\n        person = float(person) \n        person = person / 100\n    else:\n        person = raw_person.strip(\"$\")\n    return person",
      "execution_count": 19,
      "outputs": []
    },
    {
      "cell_type": "markdown",
      "source": "##### test the method on some test strings...",
      "metadata": {
        "tags": [],
        "cell_id": "00038-1b28effd-40bb-4b45-b4ec-3c410dceb26b",
        "deepnote_cell_type": "markdown"
      }
    },
    {
      "cell_type": "code",
      "metadata": {
        "tags": [],
        "cell_id": "00039-6faeb2b5-7f44-4def-89a4-586160180345",
        "deepnote_to_be_reexecuted": false,
        "source_hash": "fc925bfc",
        "execution_millis": 32,
        "execution_start": 1615852099897,
        "deepnote_cell_type": "code"
      },
      "source": "print(cleanse_person(\"956 cents\"))\nprint(cleanse_person(\"$78.89\"))\nprint(cleanse_person(\"198.13 cents\"))",
      "execution_count": 20,
      "outputs": [
        {
          "name": "stdout",
          "text": "9.56\n78.89\n1.9813\n",
          "output_type": "stream"
        }
      ]
    },
    {
      "cell_type": "markdown",
      "source": "##### now apply this method to the Average Cost Per Person",
      "metadata": {
        "tags": [],
        "cell_id": "00040-c244bcee-4b47-4713-b9c5-0eb61554d6dc",
        "deepnote_cell_type": "markdown"
      }
    },
    {
      "cell_type": "code",
      "metadata": {
        "tags": [],
        "cell_id": "00041-987ce763-79ba-4b31-b25c-963b7dd8070b",
        "deepnote_to_be_reexecuted": false,
        "source_hash": "e36405fb",
        "execution_millis": 54,
        "execution_start": 1615852099910,
        "deepnote_cell_type": "code"
      },
      "source": "df1[\"Cleansed Average Cost Per Person\"] = df1[\"Average Cost Per Person\"].apply(cleanse_person)\ndf1",
      "execution_count": 21,
      "outputs": [
        {
          "output_type": "execute_result",
          "execution_count": 21,
          "data": {
            "application/vnd.deepnote.dataframe.v2+json": {
              "row_count": 23,
              "column_count": 8,
              "columns": [
                {
                  "name": "Census Year",
                  "dtype": "object",
                  "stats": {
                    "unique_count": 23,
                    "nan_count": 0,
                    "categories": [
                      {
                        "name": "1790",
                        "count": 1
                      },
                      {
                        "name": "1800",
                        "count": 1
                      },
                      {
                        "name": "21 others",
                        "count": 21
                      }
                    ]
                  }
                },
                {
                  "name": "Total Population",
                  "dtype": "object",
                  "stats": {
                    "unique_count": 23,
                    "nan_count": 0,
                    "categories": [
                      {
                        "name": "3929214",
                        "count": 1
                      },
                      {
                        "name": "5308483",
                        "count": 1
                      },
                      {
                        "name": "21 others",
                        "count": 21
                      }
                    ]
                  }
                },
                {
                  "name": "Census Cost",
                  "dtype": "object",
                  "stats": {
                    "unique_count": 23,
                    "nan_count": 0,
                    "categories": [
                      {
                        "name": "$44,377",
                        "count": 1
                      },
                      {
                        "name": "$66,109",
                        "count": 1
                      },
                      {
                        "name": "21 others",
                        "count": 21
                      }
                    ]
                  }
                },
                {
                  "name": "Average Cost Per Person",
                  "dtype": "object",
                  "stats": {
                    "unique_count": 23,
                    "nan_count": 0,
                    "categories": [
                      {
                        "name": "1.13 cents",
                        "count": 1
                      },
                      {
                        "name": "1.24 cents",
                        "count": 1
                      },
                      {
                        "name": "21 others",
                        "count": 21
                      }
                    ]
                  }
                },
                {
                  "name": "Cleansed Year",
                  "dtype": "object",
                  "stats": {
                    "unique_count": 23,
                    "nan_count": 0,
                    "categories": [
                      {
                        "name": "1790",
                        "count": 1
                      },
                      {
                        "name": "1800",
                        "count": 1
                      },
                      {
                        "name": "21 others",
                        "count": 21
                      }
                    ]
                  }
                },
                {
                  "name": "Cleansed Population",
                  "dtype": "object",
                  "stats": {
                    "unique_count": 23,
                    "nan_count": 0,
                    "categories": [
                      {
                        "name": "3929214",
                        "count": 1
                      },
                      {
                        "name": "5308483",
                        "count": 1
                      },
                      {
                        "name": "21 others",
                        "count": 21
                      }
                    ]
                  }
                },
                {
                  "name": "Cleansed Cost",
                  "dtype": "object",
                  "stats": {
                    "unique_count": 23,
                    "nan_count": 0,
                    "categories": [
                      {
                        "name": "44377",
                        "count": 1
                      },
                      {
                        "name": "66109",
                        "count": 1
                      },
                      {
                        "name": "21 others",
                        "count": 21
                      }
                    ]
                  }
                },
                {
                  "name": "Cleansed Average Cost Per Person",
                  "dtype": "object",
                  "stats": {
                    "unique_count": 23,
                    "nan_count": 0,
                    "categories": [
                      {
                        "name": "0.0113",
                        "count": 1
                      },
                      {
                        "name": "0.0124",
                        "count": 1
                      },
                      {
                        "name": "21 others",
                        "count": 21
                      }
                    ]
                  }
                },
                {
                  "name": "_deepnote_index_column",
                  "dtype": "int64"
                }
              ],
              "rows_top": [
                {
                  "Census Year": "1790",
                  "Total Population": "3929214",
                  "Census Cost": "$44,377",
                  "Average Cost Per Person": "1.13 cents",
                  "Cleansed Year": "1790",
                  "Cleansed Population": "3929214",
                  "Cleansed Cost": "44377",
                  "Cleansed Average Cost Per Person": "0.0113",
                  "_deepnote_index_column": 1
                },
                {
                  "Census Year": "1800",
                  "Total Population": "5308483",
                  "Census Cost": "$66,109",
                  "Average Cost Per Person": "1.24 cents",
                  "Cleansed Year": "1800",
                  "Cleansed Population": "5308483",
                  "Cleansed Cost": "66109",
                  "Cleansed Average Cost Per Person": "0.0124",
                  "_deepnote_index_column": 2
                },
                {
                  "Census Year": "1810",
                  "Total Population": "7239881",
                  "Census Cost": "$178,445",
                  "Average Cost Per Person": "2.46 cents",
                  "Cleansed Year": "1810",
                  "Cleansed Population": "7239881",
                  "Cleansed Cost": "178445",
                  "Cleansed Average Cost Per Person": "0.0246",
                  "_deepnote_index_column": 3
                },
                {
                  "Census Year": "1820",
                  "Total Population": "9633822",
                  "Census Cost": "$208,526",
                  "Average Cost Per Person": "2.16 cents",
                  "Cleansed Year": "1820",
                  "Cleansed Population": "9633822",
                  "Cleansed Cost": "208526",
                  "Cleansed Average Cost Per Person": "0.0216",
                  "_deepnote_index_column": 4
                },
                {
                  "Census Year": "1830",
                  "Total Population": "12866020",
                  "Census Cost": "$378,545",
                  "Average Cost Per Person": "2.94 cents",
                  "Cleansed Year": "1830",
                  "Cleansed Population": "12866020",
                  "Cleansed Cost": "378545",
                  "Cleansed Average Cost Per Person": "0.0294",
                  "_deepnote_index_column": 5
                },
                {
                  "Census Year": "1840",
                  "Total Population": "17069458",
                  "Census Cost": "$833,371",
                  "Average Cost Per Person": "4.88 cents",
                  "Cleansed Year": "1840",
                  "Cleansed Population": "17069458",
                  "Cleansed Cost": "833371",
                  "Cleansed Average Cost Per Person": "0.048799999999999996",
                  "_deepnote_index_column": 6
                },
                {
                  "Census Year": "1850",
                  "Total Population": "23191876",
                  "Census Cost": "$1,423,351",
                  "Average Cost Per Person": "6.14 cents",
                  "Cleansed Year": "1850",
                  "Cleansed Population": "23191876",
                  "Cleansed Cost": "1423351",
                  "Cleansed Average Cost Per Person": "0.061399999999999996",
                  "_deepnote_index_column": 7
                },
                {
                  "Census Year": "1860",
                  "Total Population": "31443321",
                  "Census Cost": "$1,969,377",
                  "Average Cost Per Person": "6.26 cents",
                  "Cleansed Year": "1860",
                  "Cleansed Population": "31443321",
                  "Cleansed Cost": "1969377",
                  "Cleansed Average Cost Per Person": "0.0626",
                  "_deepnote_index_column": 8
                },
                {
                  "Census Year": "1870",
                  "Total Population": "38558371",
                  "Census Cost": "$3,421,198",
                  "Average Cost Per Person": "8.87 cents",
                  "Cleansed Year": "1870",
                  "Cleansed Population": "38558371",
                  "Cleansed Cost": "3421198",
                  "Cleansed Average Cost Per Person": "0.08869999999999999",
                  "_deepnote_index_column": 9
                },
                {
                  "Census Year": "1880",
                  "Total Population": "50155783",
                  "Census Cost": "$5,790,678",
                  "Average Cost Per Person": "11.54 cents",
                  "Cleansed Year": "1880",
                  "Cleansed Population": "50155783",
                  "Cleansed Cost": "5790678",
                  "Cleansed Average Cost Per Person": "0.11539999999999999",
                  "_deepnote_index_column": 10
                },
                {
                  "Census Year": "1890",
                  "Total Population": "62979766",
                  "Census Cost": "$11,547,127",
                  "Average Cost Per Person": "18.33 cents",
                  "Cleansed Year": "1890",
                  "Cleansed Population": "62979766",
                  "Cleansed Cost": "11547127",
                  "Cleansed Average Cost Per Person": "0.1833",
                  "_deepnote_index_column": 11
                },
                {
                  "Census Year": "1900",
                  "Total Population": "76303387",
                  "Census Cost": "$11,854,000",
                  "Average Cost Per Person": "15.54 cents",
                  "Cleansed Year": "1900",
                  "Cleansed Population": "76303387",
                  "Cleansed Cost": "11854000",
                  "Cleansed Average Cost Per Person": "0.15539999999999998",
                  "_deepnote_index_column": 12
                },
                {
                  "Census Year": "1910",
                  "Total Population": "91972266",
                  "Census Cost": "$15,968,000",
                  "Average Cost Per Person": "17.07 cents",
                  "Cleansed Year": "1910",
                  "Cleansed Population": "91972266",
                  "Cleansed Cost": "15968000",
                  "Cleansed Average Cost Per Person": "0.1707",
                  "_deepnote_index_column": 13
                },
                {
                  "Census Year": "1920",
                  "Total Population": "105710620",
                  "Census Cost": "$25,117,000",
                  "Average Cost Per Person": "23.76 cents",
                  "Cleansed Year": "1920",
                  "Cleansed Population": "105710620",
                  "Cleansed Cost": "25117000",
                  "Cleansed Average Cost Per Person": "0.2376",
                  "_deepnote_index_column": 14
                },
                {
                  "Census Year": "1930",
                  "Total Population": "122775046",
                  "Census Cost": "$40,156,000",
                  "Average Cost Per Person": "32.71 cents",
                  "Cleansed Year": "1930",
                  "Cleansed Population": "122775046",
                  "Cleansed Cost": "40156000",
                  "Cleansed Average Cost Per Person": "0.3271",
                  "_deepnote_index_column": 15
                },
                {
                  "Census Year": "1940",
                  "Total Population": "131669275",
                  "Census Cost": "$67,527,000",
                  "Average Cost Per Person": "51.29 cents",
                  "Cleansed Year": "1940",
                  "Cleansed Population": "131669275",
                  "Cleansed Cost": "67527000",
                  "Cleansed Average Cost Per Person": "0.5129",
                  "_deepnote_index_column": 16
                },
                {
                  "Census Year": "1950",
                  "Total Population": "151325798",
                  "Census Cost": "$91,462,000",
                  "Average Cost Per Person": "60.44 cents",
                  "Cleansed Year": "1950",
                  "Cleansed Population": "151325798",
                  "Cleansed Cost": "91462000",
                  "Cleansed Average Cost Per Person": "0.6043999999999999",
                  "_deepnote_index_column": 17
                },
                {
                  "Census Year": "1960",
                  "Total Population": "179323175",
                  "Census Cost": "$127,934,000",
                  "Average Cost Per Person": "71.34 cents",
                  "Cleansed Year": "1960",
                  "Cleansed Population": "179323175",
                  "Cleansed Cost": "127934000",
                  "Cleansed Average Cost Per Person": "0.7134",
                  "_deepnote_index_column": 18
                },
                {
                  "Census Year": "1970",
                  "Total Population": "203302031",
                  "Census Cost": "$247,653,000",
                  "Average Cost Per Person": "$1.22",
                  "Cleansed Year": "1970",
                  "Cleansed Population": "203302031",
                  "Cleansed Cost": "247653000",
                  "Cleansed Average Cost Per Person": "1.22",
                  "_deepnote_index_column": 19
                },
                {
                  "Census Year": "1980",
                  "Total Population": "226542199",
                  "Census Cost": "$1,078,488,000",
                  "Average Cost Per Person": "$4.76",
                  "Cleansed Year": "1980",
                  "Cleansed Population": "226542199",
                  "Cleansed Cost": "1078488000",
                  "Cleansed Average Cost Per Person": "4.76",
                  "_deepnote_index_column": 20
                },
                {
                  "Census Year": "1990",
                  "Total Population": "248718301",
                  "Census Cost": "$2,492,830,000",
                  "Average Cost Per Person": "$10.02",
                  "Cleansed Year": "1990",
                  "Cleansed Population": "248718301",
                  "Cleansed Cost": "2492830000",
                  "Cleansed Average Cost Per Person": "10.02",
                  "_deepnote_index_column": 21
                },
                {
                  "Census Year": "2000",
                  "Total Population": "281421906",
                  "Census Cost": "$4.5 Billion",
                  "Average Cost Per Person": "$15.99",
                  "Cleansed Year": "2000",
                  "Cleansed Population": "281421906",
                  "Cleansed Cost": "4500000000",
                  "Cleansed Average Cost Per Person": "15.99",
                  "_deepnote_index_column": 22
                },
                {
                  "Census Year": "2010*",
                  "Total Population": "308745538",
                  "Census Cost": "$13 Billion",
                  "Average Cost Per Person": "$42.11",
                  "Cleansed Year": "2010",
                  "Cleansed Population": "308745538",
                  "Cleansed Cost": "13000000000",
                  "Cleansed Average Cost Per Person": "42.11",
                  "_deepnote_index_column": 23
                }
              ],
              "rows_bottom": null
            },
            "text/plain": "0  Census Year Total Population     Census Cost Average Cost Per Person  \\\n1         1790          3929214         $44,377              1.13 cents   \n2         1800          5308483         $66,109              1.24 cents   \n3         1810          7239881        $178,445              2.46 cents   \n4         1820          9633822        $208,526              2.16 cents   \n5         1830         12866020        $378,545              2.94 cents   \n6         1840         17069458        $833,371              4.88 cents   \n7         1850         23191876      $1,423,351              6.14 cents   \n8         1860         31443321      $1,969,377              6.26 cents   \n9         1870         38558371      $3,421,198              8.87 cents   \n10        1880         50155783      $5,790,678             11.54 cents   \n11        1890         62979766     $11,547,127             18.33 cents   \n12        1900         76303387     $11,854,000             15.54 cents   \n13        1910         91972266     $15,968,000             17.07 cents   \n14        1920        105710620     $25,117,000             23.76 cents   \n15        1930        122775046     $40,156,000             32.71 cents   \n16        1940        131669275     $67,527,000             51.29 cents   \n17        1950        151325798     $91,462,000             60.44 cents   \n18        1960        179323175    $127,934,000             71.34 cents   \n19        1970        203302031    $247,653,000                   $1.22   \n20        1980        226542199  $1,078,488,000                   $4.76   \n21        1990        248718301  $2,492,830,000                  $10.02   \n22        2000        281421906    $4.5 Billion                  $15.99   \n23       2010*        308745538     $13 Billion                  $42.11   \n\n0  Cleansed Year Cleansed Population Cleansed Cost  \\\n1           1790             3929214         44377   \n2           1800             5308483         66109   \n3           1810             7239881        178445   \n4           1820             9633822        208526   \n5           1830            12866020        378545   \n6           1840            17069458        833371   \n7           1850            23191876       1423351   \n8           1860            31443321       1969377   \n9           1870            38558371       3421198   \n10          1880            50155783       5790678   \n11          1890            62979766      11547127   \n12          1900            76303387      11854000   \n13          1910            91972266      15968000   \n14          1920           105710620      25117000   \n15          1930           122775046      40156000   \n16          1940           131669275      67527000   \n17          1950           151325798      91462000   \n18          1960           179323175     127934000   \n19          1970           203302031     247653000   \n20          1980           226542199    1078488000   \n21          1990           248718301    2492830000   \n22          2000           281421906    4500000000   \n23          2010           308745538   13000000000   \n\n0  Cleansed Average Cost Per Person  \n1                            0.0113  \n2                            0.0124  \n3                            0.0246  \n4                            0.0216  \n5                            0.0294  \n6                            0.0488  \n7                            0.0614  \n8                            0.0626  \n9                            0.0887  \n10                           0.1154  \n11                           0.1833  \n12                           0.1554  \n13                           0.1707  \n14                           0.2376  \n15                           0.3271  \n16                           0.5129  \n17                           0.6044  \n18                           0.7134  \n19                             1.22  \n20                             4.76  \n21                            10.02  \n22                            15.99  \n23                            42.11  ",
            "text/html": "<div>\n<style scoped>\n    .dataframe tbody tr th:only-of-type {\n        vertical-align: middle;\n    }\n\n    .dataframe tbody tr th {\n        vertical-align: top;\n    }\n\n    .dataframe thead th {\n        text-align: right;\n    }\n</style>\n<table border=\"1\" class=\"dataframe\">\n  <thead>\n    <tr style=\"text-align: right;\">\n      <th></th>\n      <th>Census Year</th>\n      <th>Total Population</th>\n      <th>Census Cost</th>\n      <th>Average Cost Per Person</th>\n      <th>Cleansed Year</th>\n      <th>Cleansed Population</th>\n      <th>Cleansed Cost</th>\n      <th>Cleansed Average Cost Per Person</th>\n    </tr>\n  </thead>\n  <tbody>\n    <tr>\n      <th>1</th>\n      <td>1790</td>\n      <td>3929214</td>\n      <td>$44,377</td>\n      <td>1.13 cents</td>\n      <td>1790</td>\n      <td>3929214</td>\n      <td>44377</td>\n      <td>0.0113</td>\n    </tr>\n    <tr>\n      <th>2</th>\n      <td>1800</td>\n      <td>5308483</td>\n      <td>$66,109</td>\n      <td>1.24 cents</td>\n      <td>1800</td>\n      <td>5308483</td>\n      <td>66109</td>\n      <td>0.0124</td>\n    </tr>\n    <tr>\n      <th>3</th>\n      <td>1810</td>\n      <td>7239881</td>\n      <td>$178,445</td>\n      <td>2.46 cents</td>\n      <td>1810</td>\n      <td>7239881</td>\n      <td>178445</td>\n      <td>0.0246</td>\n    </tr>\n    <tr>\n      <th>4</th>\n      <td>1820</td>\n      <td>9633822</td>\n      <td>$208,526</td>\n      <td>2.16 cents</td>\n      <td>1820</td>\n      <td>9633822</td>\n      <td>208526</td>\n      <td>0.0216</td>\n    </tr>\n    <tr>\n      <th>5</th>\n      <td>1830</td>\n      <td>12866020</td>\n      <td>$378,545</td>\n      <td>2.94 cents</td>\n      <td>1830</td>\n      <td>12866020</td>\n      <td>378545</td>\n      <td>0.0294</td>\n    </tr>\n    <tr>\n      <th>6</th>\n      <td>1840</td>\n      <td>17069458</td>\n      <td>$833,371</td>\n      <td>4.88 cents</td>\n      <td>1840</td>\n      <td>17069458</td>\n      <td>833371</td>\n      <td>0.0488</td>\n    </tr>\n    <tr>\n      <th>7</th>\n      <td>1850</td>\n      <td>23191876</td>\n      <td>$1,423,351</td>\n      <td>6.14 cents</td>\n      <td>1850</td>\n      <td>23191876</td>\n      <td>1423351</td>\n      <td>0.0614</td>\n    </tr>\n    <tr>\n      <th>8</th>\n      <td>1860</td>\n      <td>31443321</td>\n      <td>$1,969,377</td>\n      <td>6.26 cents</td>\n      <td>1860</td>\n      <td>31443321</td>\n      <td>1969377</td>\n      <td>0.0626</td>\n    </tr>\n    <tr>\n      <th>9</th>\n      <td>1870</td>\n      <td>38558371</td>\n      <td>$3,421,198</td>\n      <td>8.87 cents</td>\n      <td>1870</td>\n      <td>38558371</td>\n      <td>3421198</td>\n      <td>0.0887</td>\n    </tr>\n    <tr>\n      <th>10</th>\n      <td>1880</td>\n      <td>50155783</td>\n      <td>$5,790,678</td>\n      <td>11.54 cents</td>\n      <td>1880</td>\n      <td>50155783</td>\n      <td>5790678</td>\n      <td>0.1154</td>\n    </tr>\n    <tr>\n      <th>11</th>\n      <td>1890</td>\n      <td>62979766</td>\n      <td>$11,547,127</td>\n      <td>18.33 cents</td>\n      <td>1890</td>\n      <td>62979766</td>\n      <td>11547127</td>\n      <td>0.1833</td>\n    </tr>\n    <tr>\n      <th>12</th>\n      <td>1900</td>\n      <td>76303387</td>\n      <td>$11,854,000</td>\n      <td>15.54 cents</td>\n      <td>1900</td>\n      <td>76303387</td>\n      <td>11854000</td>\n      <td>0.1554</td>\n    </tr>\n    <tr>\n      <th>13</th>\n      <td>1910</td>\n      <td>91972266</td>\n      <td>$15,968,000</td>\n      <td>17.07 cents</td>\n      <td>1910</td>\n      <td>91972266</td>\n      <td>15968000</td>\n      <td>0.1707</td>\n    </tr>\n    <tr>\n      <th>14</th>\n      <td>1920</td>\n      <td>105710620</td>\n      <td>$25,117,000</td>\n      <td>23.76 cents</td>\n      <td>1920</td>\n      <td>105710620</td>\n      <td>25117000</td>\n      <td>0.2376</td>\n    </tr>\n    <tr>\n      <th>15</th>\n      <td>1930</td>\n      <td>122775046</td>\n      <td>$40,156,000</td>\n      <td>32.71 cents</td>\n      <td>1930</td>\n      <td>122775046</td>\n      <td>40156000</td>\n      <td>0.3271</td>\n    </tr>\n    <tr>\n      <th>16</th>\n      <td>1940</td>\n      <td>131669275</td>\n      <td>$67,527,000</td>\n      <td>51.29 cents</td>\n      <td>1940</td>\n      <td>131669275</td>\n      <td>67527000</td>\n      <td>0.5129</td>\n    </tr>\n    <tr>\n      <th>17</th>\n      <td>1950</td>\n      <td>151325798</td>\n      <td>$91,462,000</td>\n      <td>60.44 cents</td>\n      <td>1950</td>\n      <td>151325798</td>\n      <td>91462000</td>\n      <td>0.6044</td>\n    </tr>\n    <tr>\n      <th>18</th>\n      <td>1960</td>\n      <td>179323175</td>\n      <td>$127,934,000</td>\n      <td>71.34 cents</td>\n      <td>1960</td>\n      <td>179323175</td>\n      <td>127934000</td>\n      <td>0.7134</td>\n    </tr>\n    <tr>\n      <th>19</th>\n      <td>1970</td>\n      <td>203302031</td>\n      <td>$247,653,000</td>\n      <td>$1.22</td>\n      <td>1970</td>\n      <td>203302031</td>\n      <td>247653000</td>\n      <td>1.22</td>\n    </tr>\n    <tr>\n      <th>20</th>\n      <td>1980</td>\n      <td>226542199</td>\n      <td>$1,078,488,000</td>\n      <td>$4.76</td>\n      <td>1980</td>\n      <td>226542199</td>\n      <td>1078488000</td>\n      <td>4.76</td>\n    </tr>\n    <tr>\n      <th>21</th>\n      <td>1990</td>\n      <td>248718301</td>\n      <td>$2,492,830,000</td>\n      <td>$10.02</td>\n      <td>1990</td>\n      <td>248718301</td>\n      <td>2492830000</td>\n      <td>10.02</td>\n    </tr>\n    <tr>\n      <th>22</th>\n      <td>2000</td>\n      <td>281421906</td>\n      <td>$4.5 Billion</td>\n      <td>$15.99</td>\n      <td>2000</td>\n      <td>281421906</td>\n      <td>4500000000</td>\n      <td>15.99</td>\n    </tr>\n    <tr>\n      <th>23</th>\n      <td>2010*</td>\n      <td>308745538</td>\n      <td>$13 Billion</td>\n      <td>$42.11</td>\n      <td>2010</td>\n      <td>308745538</td>\n      <td>13000000000</td>\n      <td>42.11</td>\n    </tr>\n  </tbody>\n</table>\n</div>"
          },
          "metadata": {}
        }
      ]
    },
    {
      "cell_type": "code",
      "metadata": {
        "tags": [],
        "cell_id": "00042-ac53724c-a96f-4645-8fd2-2c32a9b03a80",
        "deepnote_to_be_reexecuted": false,
        "source_hash": "a281dd21",
        "execution_millis": 59,
        "execution_start": 1615852099953,
        "deepnote_cell_type": "code"
      },
      "source": "df1.info()",
      "execution_count": 22,
      "outputs": [
        {
          "name": "stdout",
          "text": "<class 'pandas.core.frame.DataFrame'>\nInt64Index: 23 entries, 1 to 23\nData columns (total 8 columns):\n #   Column                            Non-Null Count  Dtype \n---  ------                            --------------  ----- \n 0   Census Year                       23 non-null     object\n 1   Total Population                  23 non-null     object\n 2   Census Cost                       23 non-null     object\n 3   Average Cost Per Person           23 non-null     object\n 4   Cleansed Year                     23 non-null     object\n 5   Cleansed Population               23 non-null     object\n 6   Cleansed Cost                     23 non-null     object\n 7   Cleansed Average Cost Per Person  23 non-null     object\ndtypes: object(8)\nmemory usage: 1.6+ KB\n",
          "output_type": "stream"
        }
      ]
    },
    {
      "cell_type": "markdown",
      "source": "### 8. After all columns are cleansed, save the cleansed dataframe to a file named \"census_cost_cleansed.csv\" using CSV format.",
      "metadata": {
        "tags": [],
        "cell_id": "00042-eaf6d631-6f28-40e2-95a9-750063a93d84",
        "deepnote_cell_type": "markdown"
      }
    },
    {
      "cell_type": "markdown",
      "source": "##### First, we must drop the original dataframes from df1.\n##### We will retain the original, df1, so we will save our changes to df2:",
      "metadata": {
        "tags": [],
        "cell_id": "00043-e2f2695b-a5a2-4fab-ac1d-3886c903e1bf",
        "deepnote_cell_type": "markdown"
      }
    },
    {
      "cell_type": "code",
      "metadata": {
        "tags": [],
        "cell_id": "00043-5efe2346-06cb-4e2d-a596-b0356d378a0a",
        "deepnote_to_be_reexecuted": false,
        "source_hash": "9a6207b6",
        "execution_millis": 46,
        "execution_start": 1615852099966,
        "deepnote_cell_type": "code"
      },
      "source": "df2 = df1.drop(columns=[\"Census Year\", \"Census Cost\", \"Total Population\", \"Average Cost Per Person\"])\ndf2",
      "execution_count": 23,
      "outputs": [
        {
          "output_type": "execute_result",
          "execution_count": 23,
          "data": {
            "application/vnd.deepnote.dataframe.v2+json": {
              "row_count": 23,
              "column_count": 4,
              "columns": [
                {
                  "name": "Cleansed Year",
                  "dtype": "object",
                  "stats": {
                    "unique_count": 23,
                    "nan_count": 0,
                    "categories": [
                      {
                        "name": "1790",
                        "count": 1
                      },
                      {
                        "name": "1800",
                        "count": 1
                      },
                      {
                        "name": "21 others",
                        "count": 21
                      }
                    ]
                  }
                },
                {
                  "name": "Cleansed Population",
                  "dtype": "object",
                  "stats": {
                    "unique_count": 23,
                    "nan_count": 0,
                    "categories": [
                      {
                        "name": "3929214",
                        "count": 1
                      },
                      {
                        "name": "5308483",
                        "count": 1
                      },
                      {
                        "name": "21 others",
                        "count": 21
                      }
                    ]
                  }
                },
                {
                  "name": "Cleansed Cost",
                  "dtype": "object",
                  "stats": {
                    "unique_count": 23,
                    "nan_count": 0,
                    "categories": [
                      {
                        "name": "44377",
                        "count": 1
                      },
                      {
                        "name": "66109",
                        "count": 1
                      },
                      {
                        "name": "21 others",
                        "count": 21
                      }
                    ]
                  }
                },
                {
                  "name": "Cleansed Average Cost Per Person",
                  "dtype": "object",
                  "stats": {
                    "unique_count": 23,
                    "nan_count": 0,
                    "categories": [
                      {
                        "name": "0.0113",
                        "count": 1
                      },
                      {
                        "name": "0.0124",
                        "count": 1
                      },
                      {
                        "name": "21 others",
                        "count": 21
                      }
                    ]
                  }
                },
                {
                  "name": "_deepnote_index_column",
                  "dtype": "int64"
                }
              ],
              "rows_top": [
                {
                  "Cleansed Year": "1790",
                  "Cleansed Population": "3929214",
                  "Cleansed Cost": "44377",
                  "Cleansed Average Cost Per Person": "0.0113",
                  "_deepnote_index_column": 1
                },
                {
                  "Cleansed Year": "1800",
                  "Cleansed Population": "5308483",
                  "Cleansed Cost": "66109",
                  "Cleansed Average Cost Per Person": "0.0124",
                  "_deepnote_index_column": 2
                },
                {
                  "Cleansed Year": "1810",
                  "Cleansed Population": "7239881",
                  "Cleansed Cost": "178445",
                  "Cleansed Average Cost Per Person": "0.0246",
                  "_deepnote_index_column": 3
                },
                {
                  "Cleansed Year": "1820",
                  "Cleansed Population": "9633822",
                  "Cleansed Cost": "208526",
                  "Cleansed Average Cost Per Person": "0.0216",
                  "_deepnote_index_column": 4
                },
                {
                  "Cleansed Year": "1830",
                  "Cleansed Population": "12866020",
                  "Cleansed Cost": "378545",
                  "Cleansed Average Cost Per Person": "0.0294",
                  "_deepnote_index_column": 5
                },
                {
                  "Cleansed Year": "1840",
                  "Cleansed Population": "17069458",
                  "Cleansed Cost": "833371",
                  "Cleansed Average Cost Per Person": "0.048799999999999996",
                  "_deepnote_index_column": 6
                },
                {
                  "Cleansed Year": "1850",
                  "Cleansed Population": "23191876",
                  "Cleansed Cost": "1423351",
                  "Cleansed Average Cost Per Person": "0.061399999999999996",
                  "_deepnote_index_column": 7
                },
                {
                  "Cleansed Year": "1860",
                  "Cleansed Population": "31443321",
                  "Cleansed Cost": "1969377",
                  "Cleansed Average Cost Per Person": "0.0626",
                  "_deepnote_index_column": 8
                },
                {
                  "Cleansed Year": "1870",
                  "Cleansed Population": "38558371",
                  "Cleansed Cost": "3421198",
                  "Cleansed Average Cost Per Person": "0.08869999999999999",
                  "_deepnote_index_column": 9
                },
                {
                  "Cleansed Year": "1880",
                  "Cleansed Population": "50155783",
                  "Cleansed Cost": "5790678",
                  "Cleansed Average Cost Per Person": "0.11539999999999999",
                  "_deepnote_index_column": 10
                },
                {
                  "Cleansed Year": "1890",
                  "Cleansed Population": "62979766",
                  "Cleansed Cost": "11547127",
                  "Cleansed Average Cost Per Person": "0.1833",
                  "_deepnote_index_column": 11
                },
                {
                  "Cleansed Year": "1900",
                  "Cleansed Population": "76303387",
                  "Cleansed Cost": "11854000",
                  "Cleansed Average Cost Per Person": "0.15539999999999998",
                  "_deepnote_index_column": 12
                },
                {
                  "Cleansed Year": "1910",
                  "Cleansed Population": "91972266",
                  "Cleansed Cost": "15968000",
                  "Cleansed Average Cost Per Person": "0.1707",
                  "_deepnote_index_column": 13
                },
                {
                  "Cleansed Year": "1920",
                  "Cleansed Population": "105710620",
                  "Cleansed Cost": "25117000",
                  "Cleansed Average Cost Per Person": "0.2376",
                  "_deepnote_index_column": 14
                },
                {
                  "Cleansed Year": "1930",
                  "Cleansed Population": "122775046",
                  "Cleansed Cost": "40156000",
                  "Cleansed Average Cost Per Person": "0.3271",
                  "_deepnote_index_column": 15
                },
                {
                  "Cleansed Year": "1940",
                  "Cleansed Population": "131669275",
                  "Cleansed Cost": "67527000",
                  "Cleansed Average Cost Per Person": "0.5129",
                  "_deepnote_index_column": 16
                },
                {
                  "Cleansed Year": "1950",
                  "Cleansed Population": "151325798",
                  "Cleansed Cost": "91462000",
                  "Cleansed Average Cost Per Person": "0.6043999999999999",
                  "_deepnote_index_column": 17
                },
                {
                  "Cleansed Year": "1960",
                  "Cleansed Population": "179323175",
                  "Cleansed Cost": "127934000",
                  "Cleansed Average Cost Per Person": "0.7134",
                  "_deepnote_index_column": 18
                },
                {
                  "Cleansed Year": "1970",
                  "Cleansed Population": "203302031",
                  "Cleansed Cost": "247653000",
                  "Cleansed Average Cost Per Person": "1.22",
                  "_deepnote_index_column": 19
                },
                {
                  "Cleansed Year": "1980",
                  "Cleansed Population": "226542199",
                  "Cleansed Cost": "1078488000",
                  "Cleansed Average Cost Per Person": "4.76",
                  "_deepnote_index_column": 20
                },
                {
                  "Cleansed Year": "1990",
                  "Cleansed Population": "248718301",
                  "Cleansed Cost": "2492830000",
                  "Cleansed Average Cost Per Person": "10.02",
                  "_deepnote_index_column": 21
                },
                {
                  "Cleansed Year": "2000",
                  "Cleansed Population": "281421906",
                  "Cleansed Cost": "4500000000",
                  "Cleansed Average Cost Per Person": "15.99",
                  "_deepnote_index_column": 22
                },
                {
                  "Cleansed Year": "2010",
                  "Cleansed Population": "308745538",
                  "Cleansed Cost": "13000000000",
                  "Cleansed Average Cost Per Person": "42.11",
                  "_deepnote_index_column": 23
                }
              ],
              "rows_bottom": null
            },
            "text/plain": "0  Cleansed Year Cleansed Population Cleansed Cost  \\\n1           1790             3929214         44377   \n2           1800             5308483         66109   \n3           1810             7239881        178445   \n4           1820             9633822        208526   \n5           1830            12866020        378545   \n6           1840            17069458        833371   \n7           1850            23191876       1423351   \n8           1860            31443321       1969377   \n9           1870            38558371       3421198   \n10          1880            50155783       5790678   \n11          1890            62979766      11547127   \n12          1900            76303387      11854000   \n13          1910            91972266      15968000   \n14          1920           105710620      25117000   \n15          1930           122775046      40156000   \n16          1940           131669275      67527000   \n17          1950           151325798      91462000   \n18          1960           179323175     127934000   \n19          1970           203302031     247653000   \n20          1980           226542199    1078488000   \n21          1990           248718301    2492830000   \n22          2000           281421906    4500000000   \n23          2010           308745538   13000000000   \n\n0  Cleansed Average Cost Per Person  \n1                            0.0113  \n2                            0.0124  \n3                            0.0246  \n4                            0.0216  \n5                            0.0294  \n6                            0.0488  \n7                            0.0614  \n8                            0.0626  \n9                            0.0887  \n10                           0.1154  \n11                           0.1833  \n12                           0.1554  \n13                           0.1707  \n14                           0.2376  \n15                           0.3271  \n16                           0.5129  \n17                           0.6044  \n18                           0.7134  \n19                             1.22  \n20                             4.76  \n21                            10.02  \n22                            15.99  \n23                            42.11  ",
            "text/html": "<div>\n<style scoped>\n    .dataframe tbody tr th:only-of-type {\n        vertical-align: middle;\n    }\n\n    .dataframe tbody tr th {\n        vertical-align: top;\n    }\n\n    .dataframe thead th {\n        text-align: right;\n    }\n</style>\n<table border=\"1\" class=\"dataframe\">\n  <thead>\n    <tr style=\"text-align: right;\">\n      <th></th>\n      <th>Cleansed Year</th>\n      <th>Cleansed Population</th>\n      <th>Cleansed Cost</th>\n      <th>Cleansed Average Cost Per Person</th>\n    </tr>\n  </thead>\n  <tbody>\n    <tr>\n      <th>1</th>\n      <td>1790</td>\n      <td>3929214</td>\n      <td>44377</td>\n      <td>0.0113</td>\n    </tr>\n    <tr>\n      <th>2</th>\n      <td>1800</td>\n      <td>5308483</td>\n      <td>66109</td>\n      <td>0.0124</td>\n    </tr>\n    <tr>\n      <th>3</th>\n      <td>1810</td>\n      <td>7239881</td>\n      <td>178445</td>\n      <td>0.0246</td>\n    </tr>\n    <tr>\n      <th>4</th>\n      <td>1820</td>\n      <td>9633822</td>\n      <td>208526</td>\n      <td>0.0216</td>\n    </tr>\n    <tr>\n      <th>5</th>\n      <td>1830</td>\n      <td>12866020</td>\n      <td>378545</td>\n      <td>0.0294</td>\n    </tr>\n    <tr>\n      <th>6</th>\n      <td>1840</td>\n      <td>17069458</td>\n      <td>833371</td>\n      <td>0.0488</td>\n    </tr>\n    <tr>\n      <th>7</th>\n      <td>1850</td>\n      <td>23191876</td>\n      <td>1423351</td>\n      <td>0.0614</td>\n    </tr>\n    <tr>\n      <th>8</th>\n      <td>1860</td>\n      <td>31443321</td>\n      <td>1969377</td>\n      <td>0.0626</td>\n    </tr>\n    <tr>\n      <th>9</th>\n      <td>1870</td>\n      <td>38558371</td>\n      <td>3421198</td>\n      <td>0.0887</td>\n    </tr>\n    <tr>\n      <th>10</th>\n      <td>1880</td>\n      <td>50155783</td>\n      <td>5790678</td>\n      <td>0.1154</td>\n    </tr>\n    <tr>\n      <th>11</th>\n      <td>1890</td>\n      <td>62979766</td>\n      <td>11547127</td>\n      <td>0.1833</td>\n    </tr>\n    <tr>\n      <th>12</th>\n      <td>1900</td>\n      <td>76303387</td>\n      <td>11854000</td>\n      <td>0.1554</td>\n    </tr>\n    <tr>\n      <th>13</th>\n      <td>1910</td>\n      <td>91972266</td>\n      <td>15968000</td>\n      <td>0.1707</td>\n    </tr>\n    <tr>\n      <th>14</th>\n      <td>1920</td>\n      <td>105710620</td>\n      <td>25117000</td>\n      <td>0.2376</td>\n    </tr>\n    <tr>\n      <th>15</th>\n      <td>1930</td>\n      <td>122775046</td>\n      <td>40156000</td>\n      <td>0.3271</td>\n    </tr>\n    <tr>\n      <th>16</th>\n      <td>1940</td>\n      <td>131669275</td>\n      <td>67527000</td>\n      <td>0.5129</td>\n    </tr>\n    <tr>\n      <th>17</th>\n      <td>1950</td>\n      <td>151325798</td>\n      <td>91462000</td>\n      <td>0.6044</td>\n    </tr>\n    <tr>\n      <th>18</th>\n      <td>1960</td>\n      <td>179323175</td>\n      <td>127934000</td>\n      <td>0.7134</td>\n    </tr>\n    <tr>\n      <th>19</th>\n      <td>1970</td>\n      <td>203302031</td>\n      <td>247653000</td>\n      <td>1.22</td>\n    </tr>\n    <tr>\n      <th>20</th>\n      <td>1980</td>\n      <td>226542199</td>\n      <td>1078488000</td>\n      <td>4.76</td>\n    </tr>\n    <tr>\n      <th>21</th>\n      <td>1990</td>\n      <td>248718301</td>\n      <td>2492830000</td>\n      <td>10.02</td>\n    </tr>\n    <tr>\n      <th>22</th>\n      <td>2000</td>\n      <td>281421906</td>\n      <td>4500000000</td>\n      <td>15.99</td>\n    </tr>\n    <tr>\n      <th>23</th>\n      <td>2010</td>\n      <td>308745538</td>\n      <td>13000000000</td>\n      <td>42.11</td>\n    </tr>\n  </tbody>\n</table>\n</div>"
          },
          "metadata": {}
        }
      ]
    },
    {
      "cell_type": "code",
      "source": "df2.info()",
      "metadata": {
        "tags": [],
        "cell_id": "00046-3894f1de-ff0c-4bde-ad8a-baeb7b1bf899",
        "deepnote_to_be_reexecuted": false,
        "source_hash": "e7acf07c",
        "execution_millis": 32,
        "execution_start": 1615852099980,
        "deepnote_cell_type": "code"
      },
      "outputs": [
        {
          "name": "stdout",
          "text": "<class 'pandas.core.frame.DataFrame'>\nInt64Index: 23 entries, 1 to 23\nData columns (total 4 columns):\n #   Column                            Non-Null Count  Dtype \n---  ------                            --------------  ----- \n 0   Cleansed Year                     23 non-null     object\n 1   Cleansed Population               23 non-null     object\n 2   Cleansed Cost                     23 non-null     object\n 3   Cleansed Average Cost Per Person  23 non-null     object\ndtypes: object(4)\nmemory usage: 920.0+ bytes\n",
          "output_type": "stream"
        }
      ],
      "execution_count": 24
    },
    {
      "cell_type": "code",
      "metadata": {
        "tags": [],
        "cell_id": "00043-0fe4124c-1ac1-4aaf-a7c8-e0e7510b5331",
        "deepnote_to_be_reexecuted": false,
        "source_hash": "1df24923",
        "execution_millis": 0,
        "execution_start": 1615852099998,
        "deepnote_cell_type": "code"
      },
      "source": "#save df2 to a new csv file named \"census_cost_cleansed.csv\"\n# write a pandas dataframe to csv file\ndf2.to_csv(\"census_cost_cleansed.csv\")",
      "execution_count": 25,
      "outputs": []
    },
    {
      "cell_type": "markdown",
      "source": "### 9. Use Pandas to read the saved cleansed file and explore it to make sure it is clean.",
      "metadata": {
        "tags": [],
        "cell_id": "00048-5af454dd-b51b-4545-b8c0-b6f437a97465",
        "deepnote_cell_type": "markdown"
      }
    },
    {
      "cell_type": "markdown",
      "source": "### When I read the csv file, I got a new column called \"Unnamed: 0\". \n### There are two ways to deal with this:\n### - Rename the extra column with an appropriate title, like \"Observation Number\"\n### - Drop the extra column",
      "metadata": {
        "tags": [],
        "cell_id": "00049-5bdbafbd-bd63-406d-993b-3377e3110d04",
        "deepnote_cell_type": "markdown"
      }
    },
    {
      "cell_type": "code",
      "metadata": {
        "tags": [],
        "cell_id": "00047-9f67b5aa-9b50-45e1-aa2e-362bf66dbb7d",
        "deepnote_to_be_reexecuted": false,
        "source_hash": "9795b937",
        "execution_millis": 46,
        "execution_start": 1615852099999,
        "deepnote_cell_type": "code"
      },
      "source": "df = pd.read_csv(\"census_cost_cleansed.csv\") #read csv file\ndf.info() #get some description about the file\ndf #display the cleansed file",
      "execution_count": 26,
      "outputs": [
        {
          "name": "stdout",
          "text": "<class 'pandas.core.frame.DataFrame'>\nRangeIndex: 23 entries, 0 to 22\nData columns (total 5 columns):\n #   Column                            Non-Null Count  Dtype  \n---  ------                            --------------  -----  \n 0   Unnamed: 0                        23 non-null     int64  \n 1   Cleansed Year                     23 non-null     int64  \n 2   Cleansed Population               23 non-null     int64  \n 3   Cleansed Cost                     23 non-null     int64  \n 4   Cleansed Average Cost Per Person  23 non-null     float64\ndtypes: float64(1), int64(4)\nmemory usage: 1.0 KB\n",
          "output_type": "stream"
        },
        {
          "output_type": "execute_result",
          "execution_count": 26,
          "data": {
            "application/vnd.deepnote.dataframe.v2+json": {
              "row_count": 23,
              "column_count": 5,
              "columns": [
                {
                  "name": "Unnamed: 0",
                  "dtype": "int64",
                  "stats": {
                    "unique_count": 23,
                    "nan_count": 0,
                    "min": 1,
                    "max": 23,
                    "histogram": [
                      {
                        "bin_start": 1,
                        "bin_end": 3.2,
                        "count": 3
                      },
                      {
                        "bin_start": 3.2,
                        "bin_end": 5.4,
                        "count": 2
                      },
                      {
                        "bin_start": 5.4,
                        "bin_end": 7.6000000000000005,
                        "count": 2
                      },
                      {
                        "bin_start": 7.6000000000000005,
                        "bin_end": 9.8,
                        "count": 2
                      },
                      {
                        "bin_start": 9.8,
                        "bin_end": 12,
                        "count": 2
                      },
                      {
                        "bin_start": 12,
                        "bin_end": 14.200000000000001,
                        "count": 3
                      },
                      {
                        "bin_start": 14.200000000000001,
                        "bin_end": 16.400000000000002,
                        "count": 2
                      },
                      {
                        "bin_start": 16.400000000000002,
                        "bin_end": 18.6,
                        "count": 2
                      },
                      {
                        "bin_start": 18.6,
                        "bin_end": 20.8,
                        "count": 2
                      },
                      {
                        "bin_start": 20.8,
                        "bin_end": 23,
                        "count": 3
                      }
                    ]
                  }
                },
                {
                  "name": "Cleansed Year",
                  "dtype": "int64",
                  "stats": {
                    "unique_count": 23,
                    "nan_count": 0,
                    "min": 1790,
                    "max": 2010,
                    "histogram": [
                      {
                        "bin_start": 1790,
                        "bin_end": 1812,
                        "count": 3
                      },
                      {
                        "bin_start": 1812,
                        "bin_end": 1834,
                        "count": 2
                      },
                      {
                        "bin_start": 1834,
                        "bin_end": 1856,
                        "count": 2
                      },
                      {
                        "bin_start": 1856,
                        "bin_end": 1878,
                        "count": 2
                      },
                      {
                        "bin_start": 1878,
                        "bin_end": 1900,
                        "count": 2
                      },
                      {
                        "bin_start": 1900,
                        "bin_end": 1922,
                        "count": 3
                      },
                      {
                        "bin_start": 1922,
                        "bin_end": 1944,
                        "count": 2
                      },
                      {
                        "bin_start": 1944,
                        "bin_end": 1966,
                        "count": 2
                      },
                      {
                        "bin_start": 1966,
                        "bin_end": 1988,
                        "count": 2
                      },
                      {
                        "bin_start": 1988,
                        "bin_end": 2010,
                        "count": 3
                      }
                    ]
                  }
                },
                {
                  "name": "Cleansed Population",
                  "dtype": "int64",
                  "stats": {
                    "unique_count": 23,
                    "nan_count": 0,
                    "min": 3929214,
                    "max": 308745538,
                    "histogram": [
                      {
                        "bin_start": 3929214,
                        "bin_end": 34410846.4,
                        "count": 8
                      },
                      {
                        "bin_start": 34410846.4,
                        "bin_end": 64892478.8,
                        "count": 3
                      },
                      {
                        "bin_start": 64892478.8,
                        "bin_end": 95374111.19999999,
                        "count": 2
                      },
                      {
                        "bin_start": 95374111.19999999,
                        "bin_end": 125855743.6,
                        "count": 2
                      },
                      {
                        "bin_start": 125855743.6,
                        "bin_end": 156337376,
                        "count": 2
                      },
                      {
                        "bin_start": 156337376,
                        "bin_end": 186819008.39999998,
                        "count": 1
                      },
                      {
                        "bin_start": 186819008.39999998,
                        "bin_end": 217300640.79999998,
                        "count": 1
                      },
                      {
                        "bin_start": 217300640.79999998,
                        "bin_end": 247782273.2,
                        "count": 1
                      },
                      {
                        "bin_start": 247782273.2,
                        "bin_end": 278263905.59999996,
                        "count": 1
                      },
                      {
                        "bin_start": 278263905.59999996,
                        "bin_end": 308745538,
                        "count": 2
                      }
                    ]
                  }
                },
                {
                  "name": "Cleansed Cost",
                  "dtype": "int64",
                  "stats": {
                    "unique_count": 23,
                    "nan_count": 0,
                    "min": 44377,
                    "max": 13000000000,
                    "histogram": [
                      {
                        "bin_start": 44377,
                        "bin_end": 1300039939.3,
                        "count": 20
                      },
                      {
                        "bin_start": 1300039939.3,
                        "bin_end": 2600035501.6,
                        "count": 1
                      },
                      {
                        "bin_start": 2600035501.6,
                        "bin_end": 3900031063.8999996,
                        "count": 0
                      },
                      {
                        "bin_start": 3900031063.8999996,
                        "bin_end": 5200026626.2,
                        "count": 1
                      },
                      {
                        "bin_start": 5200026626.2,
                        "bin_end": 6500022188.5,
                        "count": 0
                      },
                      {
                        "bin_start": 6500022188.5,
                        "bin_end": 7800017750.799999,
                        "count": 0
                      },
                      {
                        "bin_start": 7800017750.799999,
                        "bin_end": 9100013313.1,
                        "count": 0
                      },
                      {
                        "bin_start": 9100013313.1,
                        "bin_end": 10400008875.4,
                        "count": 0
                      },
                      {
                        "bin_start": 10400008875.4,
                        "bin_end": 11700004437.699999,
                        "count": 0
                      },
                      {
                        "bin_start": 11700004437.699999,
                        "bin_end": 13000000000,
                        "count": 1
                      }
                    ]
                  }
                },
                {
                  "name": "Cleansed Average Cost Per Person",
                  "dtype": "float64",
                  "stats": {
                    "unique_count": 23,
                    "nan_count": 0,
                    "min": 0.0113,
                    "max": 42.11,
                    "histogram": [
                      {
                        "bin_start": 0.0113,
                        "bin_end": 4.221170000000001,
                        "count": 19
                      },
                      {
                        "bin_start": 4.221170000000001,
                        "bin_end": 8.431040000000001,
                        "count": 1
                      },
                      {
                        "bin_start": 8.431040000000001,
                        "bin_end": 12.640910000000002,
                        "count": 1
                      },
                      {
                        "bin_start": 12.640910000000002,
                        "bin_end": 16.85078,
                        "count": 1
                      },
                      {
                        "bin_start": 16.85078,
                        "bin_end": 21.060650000000003,
                        "count": 0
                      },
                      {
                        "bin_start": 21.060650000000003,
                        "bin_end": 25.27052,
                        "count": 0
                      },
                      {
                        "bin_start": 25.27052,
                        "bin_end": 29.48039,
                        "count": 0
                      },
                      {
                        "bin_start": 29.48039,
                        "bin_end": 33.69026,
                        "count": 0
                      },
                      {
                        "bin_start": 33.69026,
                        "bin_end": 37.900130000000004,
                        "count": 0
                      },
                      {
                        "bin_start": 37.900130000000004,
                        "bin_end": 42.11,
                        "count": 1
                      }
                    ]
                  }
                },
                {
                  "name": "_deepnote_index_column",
                  "dtype": "int64"
                }
              ],
              "rows_top": [
                {
                  "Unnamed: 0": 1,
                  "Cleansed Year": 1790,
                  "Cleansed Population": 3929214,
                  "Cleansed Cost": 44377,
                  "Cleansed Average Cost Per Person": 0.0113,
                  "_deepnote_index_column": 0
                },
                {
                  "Unnamed: 0": 2,
                  "Cleansed Year": 1800,
                  "Cleansed Population": 5308483,
                  "Cleansed Cost": 66109,
                  "Cleansed Average Cost Per Person": 0.0124,
                  "_deepnote_index_column": 1
                },
                {
                  "Unnamed: 0": 3,
                  "Cleansed Year": 1810,
                  "Cleansed Population": 7239881,
                  "Cleansed Cost": 178445,
                  "Cleansed Average Cost Per Person": 0.0246,
                  "_deepnote_index_column": 2
                },
                {
                  "Unnamed: 0": 4,
                  "Cleansed Year": 1820,
                  "Cleansed Population": 9633822,
                  "Cleansed Cost": 208526,
                  "Cleansed Average Cost Per Person": 0.0216,
                  "_deepnote_index_column": 3
                },
                {
                  "Unnamed: 0": 5,
                  "Cleansed Year": 1830,
                  "Cleansed Population": 12866020,
                  "Cleansed Cost": 378545,
                  "Cleansed Average Cost Per Person": 0.0294,
                  "_deepnote_index_column": 4
                },
                {
                  "Unnamed: 0": 6,
                  "Cleansed Year": 1840,
                  "Cleansed Population": 17069458,
                  "Cleansed Cost": 833371,
                  "Cleansed Average Cost Per Person": 0.0487999999999999,
                  "_deepnote_index_column": 5
                },
                {
                  "Unnamed: 0": 7,
                  "Cleansed Year": 1850,
                  "Cleansed Population": 23191876,
                  "Cleansed Cost": 1423351,
                  "Cleansed Average Cost Per Person": 0.0613999999999999,
                  "_deepnote_index_column": 6
                },
                {
                  "Unnamed: 0": 8,
                  "Cleansed Year": 1860,
                  "Cleansed Population": 31443321,
                  "Cleansed Cost": 1969377,
                  "Cleansed Average Cost Per Person": 0.0626,
                  "_deepnote_index_column": 7
                },
                {
                  "Unnamed: 0": 9,
                  "Cleansed Year": 1870,
                  "Cleansed Population": 38558371,
                  "Cleansed Cost": 3421198,
                  "Cleansed Average Cost Per Person": 0.0886999999999999,
                  "_deepnote_index_column": 8
                },
                {
                  "Unnamed: 0": 10,
                  "Cleansed Year": 1880,
                  "Cleansed Population": 50155783,
                  "Cleansed Cost": 5790678,
                  "Cleansed Average Cost Per Person": 0.1153999999999999,
                  "_deepnote_index_column": 9
                },
                {
                  "Unnamed: 0": 11,
                  "Cleansed Year": 1890,
                  "Cleansed Population": 62979766,
                  "Cleansed Cost": 11547127,
                  "Cleansed Average Cost Per Person": 0.1833,
                  "_deepnote_index_column": 10
                },
                {
                  "Unnamed: 0": 12,
                  "Cleansed Year": 1900,
                  "Cleansed Population": 76303387,
                  "Cleansed Cost": 11854000,
                  "Cleansed Average Cost Per Person": 0.1553999999999999,
                  "_deepnote_index_column": 11
                },
                {
                  "Unnamed: 0": 13,
                  "Cleansed Year": 1910,
                  "Cleansed Population": 91972266,
                  "Cleansed Cost": 15968000,
                  "Cleansed Average Cost Per Person": 0.1707,
                  "_deepnote_index_column": 12
                },
                {
                  "Unnamed: 0": 14,
                  "Cleansed Year": 1920,
                  "Cleansed Population": 105710620,
                  "Cleansed Cost": 25117000,
                  "Cleansed Average Cost Per Person": 0.2376,
                  "_deepnote_index_column": 13
                },
                {
                  "Unnamed: 0": 15,
                  "Cleansed Year": 1930,
                  "Cleansed Population": 122775046,
                  "Cleansed Cost": 40156000,
                  "Cleansed Average Cost Per Person": 0.3271,
                  "_deepnote_index_column": 14
                },
                {
                  "Unnamed: 0": 16,
                  "Cleansed Year": 1940,
                  "Cleansed Population": 131669275,
                  "Cleansed Cost": 67527000,
                  "Cleansed Average Cost Per Person": 0.5129,
                  "_deepnote_index_column": 15
                },
                {
                  "Unnamed: 0": 17,
                  "Cleansed Year": 1950,
                  "Cleansed Population": 151325798,
                  "Cleansed Cost": 91462000,
                  "Cleansed Average Cost Per Person": 0.6043999999999999,
                  "_deepnote_index_column": 16
                },
                {
                  "Unnamed: 0": 18,
                  "Cleansed Year": 1960,
                  "Cleansed Population": 179323175,
                  "Cleansed Cost": 127934000,
                  "Cleansed Average Cost Per Person": 0.7134,
                  "_deepnote_index_column": 17
                },
                {
                  "Unnamed: 0": 19,
                  "Cleansed Year": 1970,
                  "Cleansed Population": 203302031,
                  "Cleansed Cost": 247653000,
                  "Cleansed Average Cost Per Person": 1.22,
                  "_deepnote_index_column": 18
                },
                {
                  "Unnamed: 0": 20,
                  "Cleansed Year": 1980,
                  "Cleansed Population": 226542199,
                  "Cleansed Cost": 1078488000,
                  "Cleansed Average Cost Per Person": 4.76,
                  "_deepnote_index_column": 19
                },
                {
                  "Unnamed: 0": 21,
                  "Cleansed Year": 1990,
                  "Cleansed Population": 248718301,
                  "Cleansed Cost": 2492830000,
                  "Cleansed Average Cost Per Person": 10.02,
                  "_deepnote_index_column": 20
                },
                {
                  "Unnamed: 0": 22,
                  "Cleansed Year": 2000,
                  "Cleansed Population": 281421906,
                  "Cleansed Cost": 4500000000,
                  "Cleansed Average Cost Per Person": 15.99,
                  "_deepnote_index_column": 21
                },
                {
                  "Unnamed: 0": 23,
                  "Cleansed Year": 2010,
                  "Cleansed Population": 308745538,
                  "Cleansed Cost": 13000000000,
                  "Cleansed Average Cost Per Person": 42.11,
                  "_deepnote_index_column": 22
                }
              ],
              "rows_bottom": null
            },
            "text/plain": "    Unnamed: 0  Cleansed Year  Cleansed Population  Cleansed Cost  \\\n0            1           1790              3929214          44377   \n1            2           1800              5308483          66109   \n2            3           1810              7239881         178445   \n3            4           1820              9633822         208526   \n4            5           1830             12866020         378545   \n5            6           1840             17069458         833371   \n6            7           1850             23191876        1423351   \n7            8           1860             31443321        1969377   \n8            9           1870             38558371        3421198   \n9           10           1880             50155783        5790678   \n10          11           1890             62979766       11547127   \n11          12           1900             76303387       11854000   \n12          13           1910             91972266       15968000   \n13          14           1920            105710620       25117000   \n14          15           1930            122775046       40156000   \n15          16           1940            131669275       67527000   \n16          17           1950            151325798       91462000   \n17          18           1960            179323175      127934000   \n18          19           1970            203302031      247653000   \n19          20           1980            226542199     1078488000   \n20          21           1990            248718301     2492830000   \n21          22           2000            281421906     4500000000   \n22          23           2010            308745538    13000000000   \n\n    Cleansed Average Cost Per Person  \n0                             0.0113  \n1                             0.0124  \n2                             0.0246  \n3                             0.0216  \n4                             0.0294  \n5                             0.0488  \n6                             0.0614  \n7                             0.0626  \n8                             0.0887  \n9                             0.1154  \n10                            0.1833  \n11                            0.1554  \n12                            0.1707  \n13                            0.2376  \n14                            0.3271  \n15                            0.5129  \n16                            0.6044  \n17                            0.7134  \n18                            1.2200  \n19                            4.7600  \n20                           10.0200  \n21                           15.9900  \n22                           42.1100  ",
            "text/html": "<div>\n<style scoped>\n    .dataframe tbody tr th:only-of-type {\n        vertical-align: middle;\n    }\n\n    .dataframe tbody tr th {\n        vertical-align: top;\n    }\n\n    .dataframe thead th {\n        text-align: right;\n    }\n</style>\n<table border=\"1\" class=\"dataframe\">\n  <thead>\n    <tr style=\"text-align: right;\">\n      <th></th>\n      <th>Unnamed: 0</th>\n      <th>Cleansed Year</th>\n      <th>Cleansed Population</th>\n      <th>Cleansed Cost</th>\n      <th>Cleansed Average Cost Per Person</th>\n    </tr>\n  </thead>\n  <tbody>\n    <tr>\n      <th>0</th>\n      <td>1</td>\n      <td>1790</td>\n      <td>3929214</td>\n      <td>44377</td>\n      <td>0.0113</td>\n    </tr>\n    <tr>\n      <th>1</th>\n      <td>2</td>\n      <td>1800</td>\n      <td>5308483</td>\n      <td>66109</td>\n      <td>0.0124</td>\n    </tr>\n    <tr>\n      <th>2</th>\n      <td>3</td>\n      <td>1810</td>\n      <td>7239881</td>\n      <td>178445</td>\n      <td>0.0246</td>\n    </tr>\n    <tr>\n      <th>3</th>\n      <td>4</td>\n      <td>1820</td>\n      <td>9633822</td>\n      <td>208526</td>\n      <td>0.0216</td>\n    </tr>\n    <tr>\n      <th>4</th>\n      <td>5</td>\n      <td>1830</td>\n      <td>12866020</td>\n      <td>378545</td>\n      <td>0.0294</td>\n    </tr>\n    <tr>\n      <th>5</th>\n      <td>6</td>\n      <td>1840</td>\n      <td>17069458</td>\n      <td>833371</td>\n      <td>0.0488</td>\n    </tr>\n    <tr>\n      <th>6</th>\n      <td>7</td>\n      <td>1850</td>\n      <td>23191876</td>\n      <td>1423351</td>\n      <td>0.0614</td>\n    </tr>\n    <tr>\n      <th>7</th>\n      <td>8</td>\n      <td>1860</td>\n      <td>31443321</td>\n      <td>1969377</td>\n      <td>0.0626</td>\n    </tr>\n    <tr>\n      <th>8</th>\n      <td>9</td>\n      <td>1870</td>\n      <td>38558371</td>\n      <td>3421198</td>\n      <td>0.0887</td>\n    </tr>\n    <tr>\n      <th>9</th>\n      <td>10</td>\n      <td>1880</td>\n      <td>50155783</td>\n      <td>5790678</td>\n      <td>0.1154</td>\n    </tr>\n    <tr>\n      <th>10</th>\n      <td>11</td>\n      <td>1890</td>\n      <td>62979766</td>\n      <td>11547127</td>\n      <td>0.1833</td>\n    </tr>\n    <tr>\n      <th>11</th>\n      <td>12</td>\n      <td>1900</td>\n      <td>76303387</td>\n      <td>11854000</td>\n      <td>0.1554</td>\n    </tr>\n    <tr>\n      <th>12</th>\n      <td>13</td>\n      <td>1910</td>\n      <td>91972266</td>\n      <td>15968000</td>\n      <td>0.1707</td>\n    </tr>\n    <tr>\n      <th>13</th>\n      <td>14</td>\n      <td>1920</td>\n      <td>105710620</td>\n      <td>25117000</td>\n      <td>0.2376</td>\n    </tr>\n    <tr>\n      <th>14</th>\n      <td>15</td>\n      <td>1930</td>\n      <td>122775046</td>\n      <td>40156000</td>\n      <td>0.3271</td>\n    </tr>\n    <tr>\n      <th>15</th>\n      <td>16</td>\n      <td>1940</td>\n      <td>131669275</td>\n      <td>67527000</td>\n      <td>0.5129</td>\n    </tr>\n    <tr>\n      <th>16</th>\n      <td>17</td>\n      <td>1950</td>\n      <td>151325798</td>\n      <td>91462000</td>\n      <td>0.6044</td>\n    </tr>\n    <tr>\n      <th>17</th>\n      <td>18</td>\n      <td>1960</td>\n      <td>179323175</td>\n      <td>127934000</td>\n      <td>0.7134</td>\n    </tr>\n    <tr>\n      <th>18</th>\n      <td>19</td>\n      <td>1970</td>\n      <td>203302031</td>\n      <td>247653000</td>\n      <td>1.2200</td>\n    </tr>\n    <tr>\n      <th>19</th>\n      <td>20</td>\n      <td>1980</td>\n      <td>226542199</td>\n      <td>1078488000</td>\n      <td>4.7600</td>\n    </tr>\n    <tr>\n      <th>20</th>\n      <td>21</td>\n      <td>1990</td>\n      <td>248718301</td>\n      <td>2492830000</td>\n      <td>10.0200</td>\n    </tr>\n    <tr>\n      <th>21</th>\n      <td>22</td>\n      <td>2000</td>\n      <td>281421906</td>\n      <td>4500000000</td>\n      <td>15.9900</td>\n    </tr>\n    <tr>\n      <th>22</th>\n      <td>23</td>\n      <td>2010</td>\n      <td>308745538</td>\n      <td>13000000000</td>\n      <td>42.1100</td>\n    </tr>\n  </tbody>\n</table>\n</div>"
          },
          "metadata": {}
        }
      ]
    },
    {
      "cell_type": "markdown",
      "source": "### Renaming the extra column \"Observation Number\":",
      "metadata": {
        "tags": [],
        "cell_id": "00051-02cd07b4-4a16-40ff-84d8-b83ad430260f",
        "deepnote_cell_type": "markdown"
      }
    },
    {
      "cell_type": "code",
      "source": "df.rename({\"Unnamed: 0\": \"Observation Number\"}, axis=1, inplace=True)\ndf",
      "metadata": {
        "tags": [],
        "cell_id": "00052-55dae01f-9ce9-4fd8-a40b-99f61e6fa1d6",
        "deepnote_to_be_reexecuted": false,
        "source_hash": "d7b92d2c",
        "execution_millis": 10,
        "execution_start": 1615852100053,
        "deepnote_cell_type": "code"
      },
      "outputs": [
        {
          "output_type": "execute_result",
          "execution_count": 27,
          "data": {
            "application/vnd.deepnote.dataframe.v2+json": {
              "row_count": 23,
              "column_count": 5,
              "columns": [
                {
                  "name": "Observation Number",
                  "dtype": "int64",
                  "stats": {
                    "unique_count": 23,
                    "nan_count": 0,
                    "min": 1,
                    "max": 23,
                    "histogram": [
                      {
                        "bin_start": 1,
                        "bin_end": 3.2,
                        "count": 3
                      },
                      {
                        "bin_start": 3.2,
                        "bin_end": 5.4,
                        "count": 2
                      },
                      {
                        "bin_start": 5.4,
                        "bin_end": 7.6000000000000005,
                        "count": 2
                      },
                      {
                        "bin_start": 7.6000000000000005,
                        "bin_end": 9.8,
                        "count": 2
                      },
                      {
                        "bin_start": 9.8,
                        "bin_end": 12,
                        "count": 2
                      },
                      {
                        "bin_start": 12,
                        "bin_end": 14.200000000000001,
                        "count": 3
                      },
                      {
                        "bin_start": 14.200000000000001,
                        "bin_end": 16.400000000000002,
                        "count": 2
                      },
                      {
                        "bin_start": 16.400000000000002,
                        "bin_end": 18.6,
                        "count": 2
                      },
                      {
                        "bin_start": 18.6,
                        "bin_end": 20.8,
                        "count": 2
                      },
                      {
                        "bin_start": 20.8,
                        "bin_end": 23,
                        "count": 3
                      }
                    ]
                  }
                },
                {
                  "name": "Cleansed Year",
                  "dtype": "int64",
                  "stats": {
                    "unique_count": 23,
                    "nan_count": 0,
                    "min": 1790,
                    "max": 2010,
                    "histogram": [
                      {
                        "bin_start": 1790,
                        "bin_end": 1812,
                        "count": 3
                      },
                      {
                        "bin_start": 1812,
                        "bin_end": 1834,
                        "count": 2
                      },
                      {
                        "bin_start": 1834,
                        "bin_end": 1856,
                        "count": 2
                      },
                      {
                        "bin_start": 1856,
                        "bin_end": 1878,
                        "count": 2
                      },
                      {
                        "bin_start": 1878,
                        "bin_end": 1900,
                        "count": 2
                      },
                      {
                        "bin_start": 1900,
                        "bin_end": 1922,
                        "count": 3
                      },
                      {
                        "bin_start": 1922,
                        "bin_end": 1944,
                        "count": 2
                      },
                      {
                        "bin_start": 1944,
                        "bin_end": 1966,
                        "count": 2
                      },
                      {
                        "bin_start": 1966,
                        "bin_end": 1988,
                        "count": 2
                      },
                      {
                        "bin_start": 1988,
                        "bin_end": 2010,
                        "count": 3
                      }
                    ]
                  }
                },
                {
                  "name": "Cleansed Population",
                  "dtype": "int64",
                  "stats": {
                    "unique_count": 23,
                    "nan_count": 0,
                    "min": 3929214,
                    "max": 308745538,
                    "histogram": [
                      {
                        "bin_start": 3929214,
                        "bin_end": 34410846.4,
                        "count": 8
                      },
                      {
                        "bin_start": 34410846.4,
                        "bin_end": 64892478.8,
                        "count": 3
                      },
                      {
                        "bin_start": 64892478.8,
                        "bin_end": 95374111.19999999,
                        "count": 2
                      },
                      {
                        "bin_start": 95374111.19999999,
                        "bin_end": 125855743.6,
                        "count": 2
                      },
                      {
                        "bin_start": 125855743.6,
                        "bin_end": 156337376,
                        "count": 2
                      },
                      {
                        "bin_start": 156337376,
                        "bin_end": 186819008.39999998,
                        "count": 1
                      },
                      {
                        "bin_start": 186819008.39999998,
                        "bin_end": 217300640.79999998,
                        "count": 1
                      },
                      {
                        "bin_start": 217300640.79999998,
                        "bin_end": 247782273.2,
                        "count": 1
                      },
                      {
                        "bin_start": 247782273.2,
                        "bin_end": 278263905.59999996,
                        "count": 1
                      },
                      {
                        "bin_start": 278263905.59999996,
                        "bin_end": 308745538,
                        "count": 2
                      }
                    ]
                  }
                },
                {
                  "name": "Cleansed Cost",
                  "dtype": "int64",
                  "stats": {
                    "unique_count": 23,
                    "nan_count": 0,
                    "min": 44377,
                    "max": 13000000000,
                    "histogram": [
                      {
                        "bin_start": 44377,
                        "bin_end": 1300039939.3,
                        "count": 20
                      },
                      {
                        "bin_start": 1300039939.3,
                        "bin_end": 2600035501.6,
                        "count": 1
                      },
                      {
                        "bin_start": 2600035501.6,
                        "bin_end": 3900031063.8999996,
                        "count": 0
                      },
                      {
                        "bin_start": 3900031063.8999996,
                        "bin_end": 5200026626.2,
                        "count": 1
                      },
                      {
                        "bin_start": 5200026626.2,
                        "bin_end": 6500022188.5,
                        "count": 0
                      },
                      {
                        "bin_start": 6500022188.5,
                        "bin_end": 7800017750.799999,
                        "count": 0
                      },
                      {
                        "bin_start": 7800017750.799999,
                        "bin_end": 9100013313.1,
                        "count": 0
                      },
                      {
                        "bin_start": 9100013313.1,
                        "bin_end": 10400008875.4,
                        "count": 0
                      },
                      {
                        "bin_start": 10400008875.4,
                        "bin_end": 11700004437.699999,
                        "count": 0
                      },
                      {
                        "bin_start": 11700004437.699999,
                        "bin_end": 13000000000,
                        "count": 1
                      }
                    ]
                  }
                },
                {
                  "name": "Cleansed Average Cost Per Person",
                  "dtype": "float64",
                  "stats": {
                    "unique_count": 23,
                    "nan_count": 0,
                    "min": 0.0113,
                    "max": 42.11,
                    "histogram": [
                      {
                        "bin_start": 0.0113,
                        "bin_end": 4.221170000000001,
                        "count": 19
                      },
                      {
                        "bin_start": 4.221170000000001,
                        "bin_end": 8.431040000000001,
                        "count": 1
                      },
                      {
                        "bin_start": 8.431040000000001,
                        "bin_end": 12.640910000000002,
                        "count": 1
                      },
                      {
                        "bin_start": 12.640910000000002,
                        "bin_end": 16.85078,
                        "count": 1
                      },
                      {
                        "bin_start": 16.85078,
                        "bin_end": 21.060650000000003,
                        "count": 0
                      },
                      {
                        "bin_start": 21.060650000000003,
                        "bin_end": 25.27052,
                        "count": 0
                      },
                      {
                        "bin_start": 25.27052,
                        "bin_end": 29.48039,
                        "count": 0
                      },
                      {
                        "bin_start": 29.48039,
                        "bin_end": 33.69026,
                        "count": 0
                      },
                      {
                        "bin_start": 33.69026,
                        "bin_end": 37.900130000000004,
                        "count": 0
                      },
                      {
                        "bin_start": 37.900130000000004,
                        "bin_end": 42.11,
                        "count": 1
                      }
                    ]
                  }
                },
                {
                  "name": "_deepnote_index_column",
                  "dtype": "int64"
                }
              ],
              "rows_top": [
                {
                  "Observation Number": 1,
                  "Cleansed Year": 1790,
                  "Cleansed Population": 3929214,
                  "Cleansed Cost": 44377,
                  "Cleansed Average Cost Per Person": 0.0113,
                  "_deepnote_index_column": 0
                },
                {
                  "Observation Number": 2,
                  "Cleansed Year": 1800,
                  "Cleansed Population": 5308483,
                  "Cleansed Cost": 66109,
                  "Cleansed Average Cost Per Person": 0.0124,
                  "_deepnote_index_column": 1
                },
                {
                  "Observation Number": 3,
                  "Cleansed Year": 1810,
                  "Cleansed Population": 7239881,
                  "Cleansed Cost": 178445,
                  "Cleansed Average Cost Per Person": 0.0246,
                  "_deepnote_index_column": 2
                },
                {
                  "Observation Number": 4,
                  "Cleansed Year": 1820,
                  "Cleansed Population": 9633822,
                  "Cleansed Cost": 208526,
                  "Cleansed Average Cost Per Person": 0.0216,
                  "_deepnote_index_column": 3
                },
                {
                  "Observation Number": 5,
                  "Cleansed Year": 1830,
                  "Cleansed Population": 12866020,
                  "Cleansed Cost": 378545,
                  "Cleansed Average Cost Per Person": 0.0294,
                  "_deepnote_index_column": 4
                },
                {
                  "Observation Number": 6,
                  "Cleansed Year": 1840,
                  "Cleansed Population": 17069458,
                  "Cleansed Cost": 833371,
                  "Cleansed Average Cost Per Person": 0.0487999999999999,
                  "_deepnote_index_column": 5
                },
                {
                  "Observation Number": 7,
                  "Cleansed Year": 1850,
                  "Cleansed Population": 23191876,
                  "Cleansed Cost": 1423351,
                  "Cleansed Average Cost Per Person": 0.0613999999999999,
                  "_deepnote_index_column": 6
                },
                {
                  "Observation Number": 8,
                  "Cleansed Year": 1860,
                  "Cleansed Population": 31443321,
                  "Cleansed Cost": 1969377,
                  "Cleansed Average Cost Per Person": 0.0626,
                  "_deepnote_index_column": 7
                },
                {
                  "Observation Number": 9,
                  "Cleansed Year": 1870,
                  "Cleansed Population": 38558371,
                  "Cleansed Cost": 3421198,
                  "Cleansed Average Cost Per Person": 0.0886999999999999,
                  "_deepnote_index_column": 8
                },
                {
                  "Observation Number": 10,
                  "Cleansed Year": 1880,
                  "Cleansed Population": 50155783,
                  "Cleansed Cost": 5790678,
                  "Cleansed Average Cost Per Person": 0.1153999999999999,
                  "_deepnote_index_column": 9
                },
                {
                  "Observation Number": 11,
                  "Cleansed Year": 1890,
                  "Cleansed Population": 62979766,
                  "Cleansed Cost": 11547127,
                  "Cleansed Average Cost Per Person": 0.1833,
                  "_deepnote_index_column": 10
                },
                {
                  "Observation Number": 12,
                  "Cleansed Year": 1900,
                  "Cleansed Population": 76303387,
                  "Cleansed Cost": 11854000,
                  "Cleansed Average Cost Per Person": 0.1553999999999999,
                  "_deepnote_index_column": 11
                },
                {
                  "Observation Number": 13,
                  "Cleansed Year": 1910,
                  "Cleansed Population": 91972266,
                  "Cleansed Cost": 15968000,
                  "Cleansed Average Cost Per Person": 0.1707,
                  "_deepnote_index_column": 12
                },
                {
                  "Observation Number": 14,
                  "Cleansed Year": 1920,
                  "Cleansed Population": 105710620,
                  "Cleansed Cost": 25117000,
                  "Cleansed Average Cost Per Person": 0.2376,
                  "_deepnote_index_column": 13
                },
                {
                  "Observation Number": 15,
                  "Cleansed Year": 1930,
                  "Cleansed Population": 122775046,
                  "Cleansed Cost": 40156000,
                  "Cleansed Average Cost Per Person": 0.3271,
                  "_deepnote_index_column": 14
                },
                {
                  "Observation Number": 16,
                  "Cleansed Year": 1940,
                  "Cleansed Population": 131669275,
                  "Cleansed Cost": 67527000,
                  "Cleansed Average Cost Per Person": 0.5129,
                  "_deepnote_index_column": 15
                },
                {
                  "Observation Number": 17,
                  "Cleansed Year": 1950,
                  "Cleansed Population": 151325798,
                  "Cleansed Cost": 91462000,
                  "Cleansed Average Cost Per Person": 0.6043999999999999,
                  "_deepnote_index_column": 16
                },
                {
                  "Observation Number": 18,
                  "Cleansed Year": 1960,
                  "Cleansed Population": 179323175,
                  "Cleansed Cost": 127934000,
                  "Cleansed Average Cost Per Person": 0.7134,
                  "_deepnote_index_column": 17
                },
                {
                  "Observation Number": 19,
                  "Cleansed Year": 1970,
                  "Cleansed Population": 203302031,
                  "Cleansed Cost": 247653000,
                  "Cleansed Average Cost Per Person": 1.22,
                  "_deepnote_index_column": 18
                },
                {
                  "Observation Number": 20,
                  "Cleansed Year": 1980,
                  "Cleansed Population": 226542199,
                  "Cleansed Cost": 1078488000,
                  "Cleansed Average Cost Per Person": 4.76,
                  "_deepnote_index_column": 19
                },
                {
                  "Observation Number": 21,
                  "Cleansed Year": 1990,
                  "Cleansed Population": 248718301,
                  "Cleansed Cost": 2492830000,
                  "Cleansed Average Cost Per Person": 10.02,
                  "_deepnote_index_column": 20
                },
                {
                  "Observation Number": 22,
                  "Cleansed Year": 2000,
                  "Cleansed Population": 281421906,
                  "Cleansed Cost": 4500000000,
                  "Cleansed Average Cost Per Person": 15.99,
                  "_deepnote_index_column": 21
                },
                {
                  "Observation Number": 23,
                  "Cleansed Year": 2010,
                  "Cleansed Population": 308745538,
                  "Cleansed Cost": 13000000000,
                  "Cleansed Average Cost Per Person": 42.11,
                  "_deepnote_index_column": 22
                }
              ],
              "rows_bottom": null
            },
            "text/plain": "    Observation Number  Cleansed Year  Cleansed Population  Cleansed Cost  \\\n0                    1           1790              3929214          44377   \n1                    2           1800              5308483          66109   \n2                    3           1810              7239881         178445   \n3                    4           1820              9633822         208526   \n4                    5           1830             12866020         378545   \n5                    6           1840             17069458         833371   \n6                    7           1850             23191876        1423351   \n7                    8           1860             31443321        1969377   \n8                    9           1870             38558371        3421198   \n9                   10           1880             50155783        5790678   \n10                  11           1890             62979766       11547127   \n11                  12           1900             76303387       11854000   \n12                  13           1910             91972266       15968000   \n13                  14           1920            105710620       25117000   \n14                  15           1930            122775046       40156000   \n15                  16           1940            131669275       67527000   \n16                  17           1950            151325798       91462000   \n17                  18           1960            179323175      127934000   \n18                  19           1970            203302031      247653000   \n19                  20           1980            226542199     1078488000   \n20                  21           1990            248718301     2492830000   \n21                  22           2000            281421906     4500000000   \n22                  23           2010            308745538    13000000000   \n\n    Cleansed Average Cost Per Person  \n0                             0.0113  \n1                             0.0124  \n2                             0.0246  \n3                             0.0216  \n4                             0.0294  \n5                             0.0488  \n6                             0.0614  \n7                             0.0626  \n8                             0.0887  \n9                             0.1154  \n10                            0.1833  \n11                            0.1554  \n12                            0.1707  \n13                            0.2376  \n14                            0.3271  \n15                            0.5129  \n16                            0.6044  \n17                            0.7134  \n18                            1.2200  \n19                            4.7600  \n20                           10.0200  \n21                           15.9900  \n22                           42.1100  ",
            "text/html": "<div>\n<style scoped>\n    .dataframe tbody tr th:only-of-type {\n        vertical-align: middle;\n    }\n\n    .dataframe tbody tr th {\n        vertical-align: top;\n    }\n\n    .dataframe thead th {\n        text-align: right;\n    }\n</style>\n<table border=\"1\" class=\"dataframe\">\n  <thead>\n    <tr style=\"text-align: right;\">\n      <th></th>\n      <th>Observation Number</th>\n      <th>Cleansed Year</th>\n      <th>Cleansed Population</th>\n      <th>Cleansed Cost</th>\n      <th>Cleansed Average Cost Per Person</th>\n    </tr>\n  </thead>\n  <tbody>\n    <tr>\n      <th>0</th>\n      <td>1</td>\n      <td>1790</td>\n      <td>3929214</td>\n      <td>44377</td>\n      <td>0.0113</td>\n    </tr>\n    <tr>\n      <th>1</th>\n      <td>2</td>\n      <td>1800</td>\n      <td>5308483</td>\n      <td>66109</td>\n      <td>0.0124</td>\n    </tr>\n    <tr>\n      <th>2</th>\n      <td>3</td>\n      <td>1810</td>\n      <td>7239881</td>\n      <td>178445</td>\n      <td>0.0246</td>\n    </tr>\n    <tr>\n      <th>3</th>\n      <td>4</td>\n      <td>1820</td>\n      <td>9633822</td>\n      <td>208526</td>\n      <td>0.0216</td>\n    </tr>\n    <tr>\n      <th>4</th>\n      <td>5</td>\n      <td>1830</td>\n      <td>12866020</td>\n      <td>378545</td>\n      <td>0.0294</td>\n    </tr>\n    <tr>\n      <th>5</th>\n      <td>6</td>\n      <td>1840</td>\n      <td>17069458</td>\n      <td>833371</td>\n      <td>0.0488</td>\n    </tr>\n    <tr>\n      <th>6</th>\n      <td>7</td>\n      <td>1850</td>\n      <td>23191876</td>\n      <td>1423351</td>\n      <td>0.0614</td>\n    </tr>\n    <tr>\n      <th>7</th>\n      <td>8</td>\n      <td>1860</td>\n      <td>31443321</td>\n      <td>1969377</td>\n      <td>0.0626</td>\n    </tr>\n    <tr>\n      <th>8</th>\n      <td>9</td>\n      <td>1870</td>\n      <td>38558371</td>\n      <td>3421198</td>\n      <td>0.0887</td>\n    </tr>\n    <tr>\n      <th>9</th>\n      <td>10</td>\n      <td>1880</td>\n      <td>50155783</td>\n      <td>5790678</td>\n      <td>0.1154</td>\n    </tr>\n    <tr>\n      <th>10</th>\n      <td>11</td>\n      <td>1890</td>\n      <td>62979766</td>\n      <td>11547127</td>\n      <td>0.1833</td>\n    </tr>\n    <tr>\n      <th>11</th>\n      <td>12</td>\n      <td>1900</td>\n      <td>76303387</td>\n      <td>11854000</td>\n      <td>0.1554</td>\n    </tr>\n    <tr>\n      <th>12</th>\n      <td>13</td>\n      <td>1910</td>\n      <td>91972266</td>\n      <td>15968000</td>\n      <td>0.1707</td>\n    </tr>\n    <tr>\n      <th>13</th>\n      <td>14</td>\n      <td>1920</td>\n      <td>105710620</td>\n      <td>25117000</td>\n      <td>0.2376</td>\n    </tr>\n    <tr>\n      <th>14</th>\n      <td>15</td>\n      <td>1930</td>\n      <td>122775046</td>\n      <td>40156000</td>\n      <td>0.3271</td>\n    </tr>\n    <tr>\n      <th>15</th>\n      <td>16</td>\n      <td>1940</td>\n      <td>131669275</td>\n      <td>67527000</td>\n      <td>0.5129</td>\n    </tr>\n    <tr>\n      <th>16</th>\n      <td>17</td>\n      <td>1950</td>\n      <td>151325798</td>\n      <td>91462000</td>\n      <td>0.6044</td>\n    </tr>\n    <tr>\n      <th>17</th>\n      <td>18</td>\n      <td>1960</td>\n      <td>179323175</td>\n      <td>127934000</td>\n      <td>0.7134</td>\n    </tr>\n    <tr>\n      <th>18</th>\n      <td>19</td>\n      <td>1970</td>\n      <td>203302031</td>\n      <td>247653000</td>\n      <td>1.2200</td>\n    </tr>\n    <tr>\n      <th>19</th>\n      <td>20</td>\n      <td>1980</td>\n      <td>226542199</td>\n      <td>1078488000</td>\n      <td>4.7600</td>\n    </tr>\n    <tr>\n      <th>20</th>\n      <td>21</td>\n      <td>1990</td>\n      <td>248718301</td>\n      <td>2492830000</td>\n      <td>10.0200</td>\n    </tr>\n    <tr>\n      <th>21</th>\n      <td>22</td>\n      <td>2000</td>\n      <td>281421906</td>\n      <td>4500000000</td>\n      <td>15.9900</td>\n    </tr>\n    <tr>\n      <th>22</th>\n      <td>23</td>\n      <td>2010</td>\n      <td>308745538</td>\n      <td>13000000000</td>\n      <td>42.1100</td>\n    </tr>\n  </tbody>\n</table>\n</div>"
          },
          "metadata": {}
        }
      ],
      "execution_count": 27
    },
    {
      "cell_type": "markdown",
      "source": "### Dropping \"Observation Number\":",
      "metadata": {
        "tags": [],
        "cell_id": "00051-4d610a5b-0b99-4fa5-95ec-040a93e64547",
        "deepnote_cell_type": "markdown"
      }
    },
    {
      "cell_type": "code",
      "source": "df.drop(columns=[\"Observation Number\"], inplace=True)\ndf",
      "metadata": {
        "tags": [],
        "cell_id": "00049-1a02755e-44a0-415e-b6b6-4523601a8d60",
        "deepnote_to_be_reexecuted": false,
        "source_hash": "5ee1250c",
        "execution_millis": 14,
        "execution_start": 1615852100069,
        "deepnote_cell_type": "code"
      },
      "outputs": [
        {
          "output_type": "execute_result",
          "execution_count": 28,
          "data": {
            "application/vnd.deepnote.dataframe.v2+json": {
              "row_count": 23,
              "column_count": 4,
              "columns": [
                {
                  "name": "Cleansed Year",
                  "dtype": "int64",
                  "stats": {
                    "unique_count": 23,
                    "nan_count": 0,
                    "min": 1790,
                    "max": 2010,
                    "histogram": [
                      {
                        "bin_start": 1790,
                        "bin_end": 1812,
                        "count": 3
                      },
                      {
                        "bin_start": 1812,
                        "bin_end": 1834,
                        "count": 2
                      },
                      {
                        "bin_start": 1834,
                        "bin_end": 1856,
                        "count": 2
                      },
                      {
                        "bin_start": 1856,
                        "bin_end": 1878,
                        "count": 2
                      },
                      {
                        "bin_start": 1878,
                        "bin_end": 1900,
                        "count": 2
                      },
                      {
                        "bin_start": 1900,
                        "bin_end": 1922,
                        "count": 3
                      },
                      {
                        "bin_start": 1922,
                        "bin_end": 1944,
                        "count": 2
                      },
                      {
                        "bin_start": 1944,
                        "bin_end": 1966,
                        "count": 2
                      },
                      {
                        "bin_start": 1966,
                        "bin_end": 1988,
                        "count": 2
                      },
                      {
                        "bin_start": 1988,
                        "bin_end": 2010,
                        "count": 3
                      }
                    ]
                  }
                },
                {
                  "name": "Cleansed Population",
                  "dtype": "int64",
                  "stats": {
                    "unique_count": 23,
                    "nan_count": 0,
                    "min": 3929214,
                    "max": 308745538,
                    "histogram": [
                      {
                        "bin_start": 3929214,
                        "bin_end": 34410846.4,
                        "count": 8
                      },
                      {
                        "bin_start": 34410846.4,
                        "bin_end": 64892478.8,
                        "count": 3
                      },
                      {
                        "bin_start": 64892478.8,
                        "bin_end": 95374111.19999999,
                        "count": 2
                      },
                      {
                        "bin_start": 95374111.19999999,
                        "bin_end": 125855743.6,
                        "count": 2
                      },
                      {
                        "bin_start": 125855743.6,
                        "bin_end": 156337376,
                        "count": 2
                      },
                      {
                        "bin_start": 156337376,
                        "bin_end": 186819008.39999998,
                        "count": 1
                      },
                      {
                        "bin_start": 186819008.39999998,
                        "bin_end": 217300640.79999998,
                        "count": 1
                      },
                      {
                        "bin_start": 217300640.79999998,
                        "bin_end": 247782273.2,
                        "count": 1
                      },
                      {
                        "bin_start": 247782273.2,
                        "bin_end": 278263905.59999996,
                        "count": 1
                      },
                      {
                        "bin_start": 278263905.59999996,
                        "bin_end": 308745538,
                        "count": 2
                      }
                    ]
                  }
                },
                {
                  "name": "Cleansed Cost",
                  "dtype": "int64",
                  "stats": {
                    "unique_count": 23,
                    "nan_count": 0,
                    "min": 44377,
                    "max": 13000000000,
                    "histogram": [
                      {
                        "bin_start": 44377,
                        "bin_end": 1300039939.3,
                        "count": 20
                      },
                      {
                        "bin_start": 1300039939.3,
                        "bin_end": 2600035501.6,
                        "count": 1
                      },
                      {
                        "bin_start": 2600035501.6,
                        "bin_end": 3900031063.8999996,
                        "count": 0
                      },
                      {
                        "bin_start": 3900031063.8999996,
                        "bin_end": 5200026626.2,
                        "count": 1
                      },
                      {
                        "bin_start": 5200026626.2,
                        "bin_end": 6500022188.5,
                        "count": 0
                      },
                      {
                        "bin_start": 6500022188.5,
                        "bin_end": 7800017750.799999,
                        "count": 0
                      },
                      {
                        "bin_start": 7800017750.799999,
                        "bin_end": 9100013313.1,
                        "count": 0
                      },
                      {
                        "bin_start": 9100013313.1,
                        "bin_end": 10400008875.4,
                        "count": 0
                      },
                      {
                        "bin_start": 10400008875.4,
                        "bin_end": 11700004437.699999,
                        "count": 0
                      },
                      {
                        "bin_start": 11700004437.699999,
                        "bin_end": 13000000000,
                        "count": 1
                      }
                    ]
                  }
                },
                {
                  "name": "Cleansed Average Cost Per Person",
                  "dtype": "float64",
                  "stats": {
                    "unique_count": 23,
                    "nan_count": 0,
                    "min": 0.0113,
                    "max": 42.11,
                    "histogram": [
                      {
                        "bin_start": 0.0113,
                        "bin_end": 4.221170000000001,
                        "count": 19
                      },
                      {
                        "bin_start": 4.221170000000001,
                        "bin_end": 8.431040000000001,
                        "count": 1
                      },
                      {
                        "bin_start": 8.431040000000001,
                        "bin_end": 12.640910000000002,
                        "count": 1
                      },
                      {
                        "bin_start": 12.640910000000002,
                        "bin_end": 16.85078,
                        "count": 1
                      },
                      {
                        "bin_start": 16.85078,
                        "bin_end": 21.060650000000003,
                        "count": 0
                      },
                      {
                        "bin_start": 21.060650000000003,
                        "bin_end": 25.27052,
                        "count": 0
                      },
                      {
                        "bin_start": 25.27052,
                        "bin_end": 29.48039,
                        "count": 0
                      },
                      {
                        "bin_start": 29.48039,
                        "bin_end": 33.69026,
                        "count": 0
                      },
                      {
                        "bin_start": 33.69026,
                        "bin_end": 37.900130000000004,
                        "count": 0
                      },
                      {
                        "bin_start": 37.900130000000004,
                        "bin_end": 42.11,
                        "count": 1
                      }
                    ]
                  }
                },
                {
                  "name": "_deepnote_index_column",
                  "dtype": "int64"
                }
              ],
              "rows_top": [
                {
                  "Cleansed Year": 1790,
                  "Cleansed Population": 3929214,
                  "Cleansed Cost": 44377,
                  "Cleansed Average Cost Per Person": 0.0113,
                  "_deepnote_index_column": 0
                },
                {
                  "Cleansed Year": 1800,
                  "Cleansed Population": 5308483,
                  "Cleansed Cost": 66109,
                  "Cleansed Average Cost Per Person": 0.0124,
                  "_deepnote_index_column": 1
                },
                {
                  "Cleansed Year": 1810,
                  "Cleansed Population": 7239881,
                  "Cleansed Cost": 178445,
                  "Cleansed Average Cost Per Person": 0.0246,
                  "_deepnote_index_column": 2
                },
                {
                  "Cleansed Year": 1820,
                  "Cleansed Population": 9633822,
                  "Cleansed Cost": 208526,
                  "Cleansed Average Cost Per Person": 0.0216,
                  "_deepnote_index_column": 3
                },
                {
                  "Cleansed Year": 1830,
                  "Cleansed Population": 12866020,
                  "Cleansed Cost": 378545,
                  "Cleansed Average Cost Per Person": 0.0294,
                  "_deepnote_index_column": 4
                },
                {
                  "Cleansed Year": 1840,
                  "Cleansed Population": 17069458,
                  "Cleansed Cost": 833371,
                  "Cleansed Average Cost Per Person": 0.0487999999999999,
                  "_deepnote_index_column": 5
                },
                {
                  "Cleansed Year": 1850,
                  "Cleansed Population": 23191876,
                  "Cleansed Cost": 1423351,
                  "Cleansed Average Cost Per Person": 0.0613999999999999,
                  "_deepnote_index_column": 6
                },
                {
                  "Cleansed Year": 1860,
                  "Cleansed Population": 31443321,
                  "Cleansed Cost": 1969377,
                  "Cleansed Average Cost Per Person": 0.0626,
                  "_deepnote_index_column": 7
                },
                {
                  "Cleansed Year": 1870,
                  "Cleansed Population": 38558371,
                  "Cleansed Cost": 3421198,
                  "Cleansed Average Cost Per Person": 0.0886999999999999,
                  "_deepnote_index_column": 8
                },
                {
                  "Cleansed Year": 1880,
                  "Cleansed Population": 50155783,
                  "Cleansed Cost": 5790678,
                  "Cleansed Average Cost Per Person": 0.1153999999999999,
                  "_deepnote_index_column": 9
                },
                {
                  "Cleansed Year": 1890,
                  "Cleansed Population": 62979766,
                  "Cleansed Cost": 11547127,
                  "Cleansed Average Cost Per Person": 0.1833,
                  "_deepnote_index_column": 10
                },
                {
                  "Cleansed Year": 1900,
                  "Cleansed Population": 76303387,
                  "Cleansed Cost": 11854000,
                  "Cleansed Average Cost Per Person": 0.1553999999999999,
                  "_deepnote_index_column": 11
                },
                {
                  "Cleansed Year": 1910,
                  "Cleansed Population": 91972266,
                  "Cleansed Cost": 15968000,
                  "Cleansed Average Cost Per Person": 0.1707,
                  "_deepnote_index_column": 12
                },
                {
                  "Cleansed Year": 1920,
                  "Cleansed Population": 105710620,
                  "Cleansed Cost": 25117000,
                  "Cleansed Average Cost Per Person": 0.2376,
                  "_deepnote_index_column": 13
                },
                {
                  "Cleansed Year": 1930,
                  "Cleansed Population": 122775046,
                  "Cleansed Cost": 40156000,
                  "Cleansed Average Cost Per Person": 0.3271,
                  "_deepnote_index_column": 14
                },
                {
                  "Cleansed Year": 1940,
                  "Cleansed Population": 131669275,
                  "Cleansed Cost": 67527000,
                  "Cleansed Average Cost Per Person": 0.5129,
                  "_deepnote_index_column": 15
                },
                {
                  "Cleansed Year": 1950,
                  "Cleansed Population": 151325798,
                  "Cleansed Cost": 91462000,
                  "Cleansed Average Cost Per Person": 0.6043999999999999,
                  "_deepnote_index_column": 16
                },
                {
                  "Cleansed Year": 1960,
                  "Cleansed Population": 179323175,
                  "Cleansed Cost": 127934000,
                  "Cleansed Average Cost Per Person": 0.7134,
                  "_deepnote_index_column": 17
                },
                {
                  "Cleansed Year": 1970,
                  "Cleansed Population": 203302031,
                  "Cleansed Cost": 247653000,
                  "Cleansed Average Cost Per Person": 1.22,
                  "_deepnote_index_column": 18
                },
                {
                  "Cleansed Year": 1980,
                  "Cleansed Population": 226542199,
                  "Cleansed Cost": 1078488000,
                  "Cleansed Average Cost Per Person": 4.76,
                  "_deepnote_index_column": 19
                },
                {
                  "Cleansed Year": 1990,
                  "Cleansed Population": 248718301,
                  "Cleansed Cost": 2492830000,
                  "Cleansed Average Cost Per Person": 10.02,
                  "_deepnote_index_column": 20
                },
                {
                  "Cleansed Year": 2000,
                  "Cleansed Population": 281421906,
                  "Cleansed Cost": 4500000000,
                  "Cleansed Average Cost Per Person": 15.99,
                  "_deepnote_index_column": 21
                },
                {
                  "Cleansed Year": 2010,
                  "Cleansed Population": 308745538,
                  "Cleansed Cost": 13000000000,
                  "Cleansed Average Cost Per Person": 42.11,
                  "_deepnote_index_column": 22
                }
              ],
              "rows_bottom": null
            },
            "text/plain": "    Cleansed Year  Cleansed Population  Cleansed Cost  \\\n0            1790              3929214          44377   \n1            1800              5308483          66109   \n2            1810              7239881         178445   \n3            1820              9633822         208526   \n4            1830             12866020         378545   \n5            1840             17069458         833371   \n6            1850             23191876        1423351   \n7            1860             31443321        1969377   \n8            1870             38558371        3421198   \n9            1880             50155783        5790678   \n10           1890             62979766       11547127   \n11           1900             76303387       11854000   \n12           1910             91972266       15968000   \n13           1920            105710620       25117000   \n14           1930            122775046       40156000   \n15           1940            131669275       67527000   \n16           1950            151325798       91462000   \n17           1960            179323175      127934000   \n18           1970            203302031      247653000   \n19           1980            226542199     1078488000   \n20           1990            248718301     2492830000   \n21           2000            281421906     4500000000   \n22           2010            308745538    13000000000   \n\n    Cleansed Average Cost Per Person  \n0                             0.0113  \n1                             0.0124  \n2                             0.0246  \n3                             0.0216  \n4                             0.0294  \n5                             0.0488  \n6                             0.0614  \n7                             0.0626  \n8                             0.0887  \n9                             0.1154  \n10                            0.1833  \n11                            0.1554  \n12                            0.1707  \n13                            0.2376  \n14                            0.3271  \n15                            0.5129  \n16                            0.6044  \n17                            0.7134  \n18                            1.2200  \n19                            4.7600  \n20                           10.0200  \n21                           15.9900  \n22                           42.1100  ",
            "text/html": "<div>\n<style scoped>\n    .dataframe tbody tr th:only-of-type {\n        vertical-align: middle;\n    }\n\n    .dataframe tbody tr th {\n        vertical-align: top;\n    }\n\n    .dataframe thead th {\n        text-align: right;\n    }\n</style>\n<table border=\"1\" class=\"dataframe\">\n  <thead>\n    <tr style=\"text-align: right;\">\n      <th></th>\n      <th>Cleansed Year</th>\n      <th>Cleansed Population</th>\n      <th>Cleansed Cost</th>\n      <th>Cleansed Average Cost Per Person</th>\n    </tr>\n  </thead>\n  <tbody>\n    <tr>\n      <th>0</th>\n      <td>1790</td>\n      <td>3929214</td>\n      <td>44377</td>\n      <td>0.0113</td>\n    </tr>\n    <tr>\n      <th>1</th>\n      <td>1800</td>\n      <td>5308483</td>\n      <td>66109</td>\n      <td>0.0124</td>\n    </tr>\n    <tr>\n      <th>2</th>\n      <td>1810</td>\n      <td>7239881</td>\n      <td>178445</td>\n      <td>0.0246</td>\n    </tr>\n    <tr>\n      <th>3</th>\n      <td>1820</td>\n      <td>9633822</td>\n      <td>208526</td>\n      <td>0.0216</td>\n    </tr>\n    <tr>\n      <th>4</th>\n      <td>1830</td>\n      <td>12866020</td>\n      <td>378545</td>\n      <td>0.0294</td>\n    </tr>\n    <tr>\n      <th>5</th>\n      <td>1840</td>\n      <td>17069458</td>\n      <td>833371</td>\n      <td>0.0488</td>\n    </tr>\n    <tr>\n      <th>6</th>\n      <td>1850</td>\n      <td>23191876</td>\n      <td>1423351</td>\n      <td>0.0614</td>\n    </tr>\n    <tr>\n      <th>7</th>\n      <td>1860</td>\n      <td>31443321</td>\n      <td>1969377</td>\n      <td>0.0626</td>\n    </tr>\n    <tr>\n      <th>8</th>\n      <td>1870</td>\n      <td>38558371</td>\n      <td>3421198</td>\n      <td>0.0887</td>\n    </tr>\n    <tr>\n      <th>9</th>\n      <td>1880</td>\n      <td>50155783</td>\n      <td>5790678</td>\n      <td>0.1154</td>\n    </tr>\n    <tr>\n      <th>10</th>\n      <td>1890</td>\n      <td>62979766</td>\n      <td>11547127</td>\n      <td>0.1833</td>\n    </tr>\n    <tr>\n      <th>11</th>\n      <td>1900</td>\n      <td>76303387</td>\n      <td>11854000</td>\n      <td>0.1554</td>\n    </tr>\n    <tr>\n      <th>12</th>\n      <td>1910</td>\n      <td>91972266</td>\n      <td>15968000</td>\n      <td>0.1707</td>\n    </tr>\n    <tr>\n      <th>13</th>\n      <td>1920</td>\n      <td>105710620</td>\n      <td>25117000</td>\n      <td>0.2376</td>\n    </tr>\n    <tr>\n      <th>14</th>\n      <td>1930</td>\n      <td>122775046</td>\n      <td>40156000</td>\n      <td>0.3271</td>\n    </tr>\n    <tr>\n      <th>15</th>\n      <td>1940</td>\n      <td>131669275</td>\n      <td>67527000</td>\n      <td>0.5129</td>\n    </tr>\n    <tr>\n      <th>16</th>\n      <td>1950</td>\n      <td>151325798</td>\n      <td>91462000</td>\n      <td>0.6044</td>\n    </tr>\n    <tr>\n      <th>17</th>\n      <td>1960</td>\n      <td>179323175</td>\n      <td>127934000</td>\n      <td>0.7134</td>\n    </tr>\n    <tr>\n      <th>18</th>\n      <td>1970</td>\n      <td>203302031</td>\n      <td>247653000</td>\n      <td>1.2200</td>\n    </tr>\n    <tr>\n      <th>19</th>\n      <td>1980</td>\n      <td>226542199</td>\n      <td>1078488000</td>\n      <td>4.7600</td>\n    </tr>\n    <tr>\n      <th>20</th>\n      <td>1990</td>\n      <td>248718301</td>\n      <td>2492830000</td>\n      <td>10.0200</td>\n    </tr>\n    <tr>\n      <th>21</th>\n      <td>2000</td>\n      <td>281421906</td>\n      <td>4500000000</td>\n      <td>15.9900</td>\n    </tr>\n    <tr>\n      <th>22</th>\n      <td>2010</td>\n      <td>308745538</td>\n      <td>13000000000</td>\n      <td>42.1100</td>\n    </tr>\n  </tbody>\n</table>\n</div>"
          },
          "metadata": {}
        }
      ],
      "execution_count": 28
    },
    {
      "cell_type": "markdown",
      "source": "<a style='text-decoration:none;line-height:16px;display:flex;color:#5B5B62;padding:10px;justify-content:end;' href='https://deepnote.com?utm_source=created-in-deepnote-cell&projectId=60ef67e3-efc2-49f2-bf21-473ea625ba5d' target=\"_blank\">\n<img style='display:inline;max-height:16px;margin:0px;margin-right:7.5px;' src='data:image/svg+xml;base64,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' > </img>\nCreated in <span style='font-weight:600;margin-left:4px;'>Deepnote</span></a>",
      "metadata": {
        "tags": [],
        "created_in_deepnote_cell": true,
        "deepnote_cell_type": "markdown"
      }
    }
  ],
  "nbformat": 4,
  "nbformat_minor": 2,
  "metadata": {
    "orig_nbformat": 2,
    "deepnote_notebook_id": "64757bcc-efd3-48cb-91f8-bd9fca10a43f",
    "deepnote": {},
    "deepnote_execution_queue": []
  }
}