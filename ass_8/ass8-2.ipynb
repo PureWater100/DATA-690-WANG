{
  "cells": [
    {
      "cell_type": "markdown",
      "source": "# Assignment 8\n### Preparation/Experimentation",
      "metadata": {
        "tags": [],
        "cell_id": "00000-89f20298-ee99-4258-ac45-5abe64a1383d",
        "deepnote_cell_type": "markdown"
      }
    },
    {
      "cell_type": "code",
      "metadata": {
        "tags": [],
        "cell_id": "00000-474175e0-e1f0-4058-85d2-85f037978dd0",
        "deepnote_to_be_reexecuted": false,
        "source_hash": "26173c20",
        "execution_millis": 7,
        "execution_start": 1619386258699,
        "deepnote_cell_type": "code"
      },
      "source": "import os\nimport pandas as pd",
      "execution_count": 1,
      "outputs": []
    },
    {
      "cell_type": "code",
      "metadata": {
        "tags": [],
        "cell_id": "00001-9063ee45-3319-4850-a403-4b8e20722056",
        "deepnote_to_be_reexecuted": false,
        "source_hash": "56342e36",
        "execution_millis": 10,
        "execution_start": 1619386258709,
        "deepnote_cell_type": "code"
      },
      "source": "#get name of current folder\ncurrent_folder = os.getcwd()\nprint(current_folder)",
      "execution_count": 2,
      "outputs": [
        {
          "name": "stdout",
          "text": "/work\n",
          "output_type": "stream"
        }
      ]
    },
    {
      "cell_type": "code",
      "metadata": {
        "tags": [],
        "cell_id": "00002-b2514481-8cdd-4526-b50f-3c95fe2520c4",
        "deepnote_to_be_reexecuted": false,
        "source_hash": "374625c1",
        "execution_millis": 48,
        "execution_start": 1619386258730,
        "deepnote_cell_type": "code"
      },
      "source": "file_list = os.listdir(\"./data/input/\")\nfile_list",
      "execution_count": 3,
      "outputs": [
        {
          "output_type": "execute_result",
          "execution_count": 3,
          "data": {
            "text/plain": "['Most-Recent-Cohorts-All-Data-Elements.csv',\n 'data.yaml',\n 'MERGED2002_03_PP.csv',\n 'MERGED1997_98_PP.csv',\n 'MERGED2015_16_PP.csv',\n 'MERGED2013_14_PP.csv',\n 'MERGED1996_97_PP.csv',\n 'MERGED2000_01_PP.csv',\n 'MERGED2011_12_PP.csv',\n 'MERGED2007_08_PP.csv',\n 'MERGED2004_05_PP.csv',\n 'MERGED2006_07_PP.csv',\n 'MERGED2018_19_PP.csv',\n 'Crosswalks.zip',\n 'MERGED2012_13_PP.csv',\n 'Most-Recent-Cohorts-Field-of-Study.csv',\n 'MERGED1999_00_PP.csv',\n 'MERGED2005_06_PP.csv',\n 'MERGED2003_04_PP.csv',\n 'MERGED1998_99_PP.csv',\n 'MERGED2010_11_PP.csv',\n 'MERGED2009_10_PP.csv',\n 'MERGED2001_02_PP.csv',\n 'MERGED2017_18_PP.csv',\n 'FieldOfStudyData1415_1516_PP.csv',\n 'FieldOfStudyData1617_1718_PP.csv',\n 'MERGED2014_15_PP.csv',\n 'MERGED2016_17_PP.csv',\n 'MERGED2008_09_PP.csv',\n 'FieldOfStudyData1516_1617_PP.csv']"
          },
          "metadata": {}
        }
      ]
    },
    {
      "cell_type": "code",
      "metadata": {
        "tags": [],
        "cell_id": "00003-d43a3dd8-bbcf-44ce-95d7-c5215997aef2",
        "deepnote_to_be_reexecuted": false,
        "source_hash": "dc18986",
        "execution_millis": 733,
        "execution_start": 1619386258774,
        "deepnote_cell_type": "code"
      },
      "source": "df = pd.read_csv(\"./data/input/MERGED2009_10_PP.csv\",usecols=[\"TUITIONFEE_IN\"])\ndf.head()",
      "execution_count": 4,
      "outputs": [
        {
          "output_type": "execute_result",
          "execution_count": 4,
          "data": {
            "application/vnd.deepnote.dataframe.v2+json": {
              "row_count": 5,
              "column_count": 1,
              "columns": [
                {
                  "name": "TUITIONFEE_IN",
                  "dtype": "float64",
                  "stats": {
                    "unique_count": 4,
                    "nan_count": 1,
                    "min": "4692.0",
                    "max": "8000.0",
                    "histogram": [
                      {
                        "bin_start": 4692,
                        "bin_end": 5022.8,
                        "count": 1
                      },
                      {
                        "bin_start": 5022.8,
                        "bin_end": 5353.6,
                        "count": 1
                      },
                      {
                        "bin_start": 5353.6,
                        "bin_end": 5684.4,
                        "count": 0
                      },
                      {
                        "bin_start": 5684.4,
                        "bin_end": 6015.2,
                        "count": 0
                      },
                      {
                        "bin_start": 6015.2,
                        "bin_end": 6346,
                        "count": 0
                      },
                      {
                        "bin_start": 6346,
                        "bin_end": 6676.8,
                        "count": 1
                      },
                      {
                        "bin_start": 6676.8,
                        "bin_end": 7007.6,
                        "count": 0
                      },
                      {
                        "bin_start": 7007.6,
                        "bin_end": 7338.4,
                        "count": 0
                      },
                      {
                        "bin_start": 7338.4,
                        "bin_end": 7669.200000000001,
                        "count": 0
                      },
                      {
                        "bin_start": 7669.200000000001,
                        "bin_end": 8000,
                        "count": 1
                      }
                    ]
                  }
                },
                {
                  "name": "_deepnote_index_column",
                  "dtype": "int64"
                }
              ],
              "rows_top": [
                {
                  "TUITIONFEE_IN": "nan",
                  "_deepnote_index_column": 0
                },
                {
                  "TUITIONFEE_IN": "4692.0",
                  "_deepnote_index_column": 1
                },
                {
                  "TUITIONFEE_IN": "5096.0",
                  "_deepnote_index_column": 2
                },
                {
                  "TUITIONFEE_IN": "8000.0",
                  "_deepnote_index_column": 3
                },
                {
                  "TUITIONFEE_IN": "6510.0",
                  "_deepnote_index_column": 4
                }
              ],
              "rows_bottom": null
            },
            "text/plain": "   TUITIONFEE_IN\n0            NaN\n1         4692.0\n2         5096.0\n3         8000.0\n4         6510.0",
            "text/html": "<div>\n<style scoped>\n    .dataframe tbody tr th:only-of-type {\n        vertical-align: middle;\n    }\n\n    .dataframe tbody tr th {\n        vertical-align: top;\n    }\n\n    .dataframe thead th {\n        text-align: right;\n    }\n</style>\n<table border=\"1\" class=\"dataframe\">\n  <thead>\n    <tr style=\"text-align: right;\">\n      <th></th>\n      <th>TUITIONFEE_IN</th>\n    </tr>\n  </thead>\n  <tbody>\n    <tr>\n      <th>0</th>\n      <td>NaN</td>\n    </tr>\n    <tr>\n      <th>1</th>\n      <td>4692.0</td>\n    </tr>\n    <tr>\n      <th>2</th>\n      <td>5096.0</td>\n    </tr>\n    <tr>\n      <th>3</th>\n      <td>8000.0</td>\n    </tr>\n    <tr>\n      <th>4</th>\n      <td>6510.0</td>\n    </tr>\n  </tbody>\n</table>\n</div>"
          },
          "metadata": {}
        }
      ]
    },
    {
      "cell_type": "markdown",
      "source": "### 1 - Import necessary libraries",
      "metadata": {
        "tags": [],
        "cell_id": "00004-b26699b5-126f-4d4c-bbbc-8b305aaac409",
        "deepnote_cell_type": "markdown"
      }
    },
    {
      "cell_type": "code",
      "metadata": {
        "tags": [],
        "cell_id": "00005-33784b90-09f3-4431-8963-e93e56493221",
        "deepnote_to_be_reexecuted": false,
        "source_hash": "a0d7bf6",
        "execution_millis": 346,
        "execution_start": 1619386259500,
        "deepnote_cell_type": "code"
      },
      "source": "import numpy as np\nimport matplotlib.pyplot as plt \nimport plotly.express as px\n\nplt.rcParams[\"figure.figsize\"] = (12,8)  # global setting [12,8] does not work!",
      "execution_count": 5,
      "outputs": []
    },
    {
      "cell_type": "markdown",
      "source": "### 2 - Retrieve the names of the 22 files and assign them to a List variable\n### You would need to filter out other files\n### Display the names of these 22 files",
      "metadata": {
        "tags": [],
        "cell_id": "00007-cdd180d6-7521-4906-ba90-5e9e44107c2d",
        "deepnote_cell_type": "markdown"
      }
    },
    {
      "cell_type": "markdown",
      "source": "#### Original list, contains all files inside folder \"input\"",
      "metadata": {
        "tags": [],
        "cell_id": "00008-fa157bca-c402-4450-967f-48ff1979eb7c",
        "deepnote_cell_type": "markdown"
      }
    },
    {
      "cell_type": "code",
      "metadata": {
        "tags": [],
        "cell_id": "00008-da5150d1-0afb-4e5c-ac12-4ac8ed411114",
        "deepnote_to_be_reexecuted": false,
        "source_hash": "374625c1",
        "execution_millis": 12,
        "execution_start": 1619386259849,
        "deepnote_cell_type": "code"
      },
      "source": "file_list = os.listdir(\"./data/input/\")\nfile_list",
      "execution_count": 6,
      "outputs": [
        {
          "output_type": "execute_result",
          "execution_count": 6,
          "data": {
            "text/plain": "['Most-Recent-Cohorts-All-Data-Elements.csv',\n 'data.yaml',\n 'MERGED2002_03_PP.csv',\n 'MERGED1997_98_PP.csv',\n 'MERGED2015_16_PP.csv',\n 'MERGED2013_14_PP.csv',\n 'MERGED1996_97_PP.csv',\n 'MERGED2000_01_PP.csv',\n 'MERGED2011_12_PP.csv',\n 'MERGED2007_08_PP.csv',\n 'MERGED2004_05_PP.csv',\n 'MERGED2006_07_PP.csv',\n 'MERGED2018_19_PP.csv',\n 'Crosswalks.zip',\n 'MERGED2012_13_PP.csv',\n 'Most-Recent-Cohorts-Field-of-Study.csv',\n 'MERGED1999_00_PP.csv',\n 'MERGED2005_06_PP.csv',\n 'MERGED2003_04_PP.csv',\n 'MERGED1998_99_PP.csv',\n 'MERGED2010_11_PP.csv',\n 'MERGED2009_10_PP.csv',\n 'MERGED2001_02_PP.csv',\n 'MERGED2017_18_PP.csv',\n 'FieldOfStudyData1415_1516_PP.csv',\n 'FieldOfStudyData1617_1718_PP.csv',\n 'MERGED2014_15_PP.csv',\n 'MERGED2016_17_PP.csv',\n 'MERGED2008_09_PP.csv',\n 'FieldOfStudyData1516_1617_PP.csv']"
          },
          "metadata": {}
        }
      ]
    },
    {
      "cell_type": "markdown",
      "source": "#### Filtered list, contains only the needed files",
      "metadata": {
        "tags": [],
        "cell_id": "00010-7498a987-bc2b-4ac4-bb21-782a2c429bba",
        "deepnote_cell_type": "markdown"
      }
    },
    {
      "cell_type": "code",
      "metadata": {
        "tags": [],
        "cell_id": "00011-31f860bc-da38-4ab3-9ce8-9f47dd7ef57f",
        "deepnote_to_be_reexecuted": false,
        "source_hash": "7b73ea80",
        "execution_millis": 13,
        "execution_start": 1619386259868,
        "deepnote_cell_type": "code"
      },
      "source": "clean_list = []\n\nfor x in file_list:\n    if \"MERGED\" in x:\n        clean_list.append(x)\n\nclean_list",
      "execution_count": 7,
      "outputs": [
        {
          "output_type": "execute_result",
          "execution_count": 7,
          "data": {
            "text/plain": "['MERGED2002_03_PP.csv',\n 'MERGED1997_98_PP.csv',\n 'MERGED2015_16_PP.csv',\n 'MERGED2013_14_PP.csv',\n 'MERGED1996_97_PP.csv',\n 'MERGED2000_01_PP.csv',\n 'MERGED2011_12_PP.csv',\n 'MERGED2007_08_PP.csv',\n 'MERGED2004_05_PP.csv',\n 'MERGED2006_07_PP.csv',\n 'MERGED2018_19_PP.csv',\n 'MERGED2012_13_PP.csv',\n 'MERGED1999_00_PP.csv',\n 'MERGED2005_06_PP.csv',\n 'MERGED2003_04_PP.csv',\n 'MERGED1998_99_PP.csv',\n 'MERGED2010_11_PP.csv',\n 'MERGED2009_10_PP.csv',\n 'MERGED2001_02_PP.csv',\n 'MERGED2017_18_PP.csv',\n 'MERGED2014_15_PP.csv',\n 'MERGED2016_17_PP.csv',\n 'MERGED2008_09_PP.csv']"
          },
          "metadata": {}
        }
      ]
    },
    {
      "cell_type": "markdown",
      "source": "### 3 - Write code to randomly select one file name out of the 22 files names. \n### Hint: generate a random integer between 0 and 21 first\n### Display the file name",
      "metadata": {
        "tags": [],
        "cell_id": "00012-63e7e320-2835-4632-b9e6-6cba7498284a",
        "deepnote_cell_type": "markdown"
      }
    },
    {
      "cell_type": "code",
      "metadata": {
        "tags": [],
        "cell_id": "00013-ee8081ce-7fb0-42d7-b377-9f981bcf3850",
        "deepnote_to_be_reexecuted": false,
        "source_hash": "45174fba",
        "execution_millis": 0,
        "execution_start": 1619386259873,
        "deepnote_cell_type": "code"
      },
      "source": "import random\nrandom_num = random.randint(0, 21)\nfile = \"./data/input/\" + clean_list[random_num]\nprint(file)",
      "execution_count": 8,
      "outputs": [
        {
          "name": "stdout",
          "text": "./data/input/MERGED2014_15_PP.csv\n",
          "output_type": "stream"
        }
      ]
    },
    {
      "cell_type": "markdown",
      "source": "### 4 - Only read the two columns: college name (INSTNM) and in state tution (\"TUITIONFEE_IN\")\n### Put this into a data frame and use info() function to display a summary information",
      "metadata": {
        "tags": [],
        "cell_id": "00014-c7c89bdf-3830-4bcd-9fdf-02677d9727b3",
        "deepnote_cell_type": "markdown"
      }
    },
    {
      "cell_type": "code",
      "metadata": {
        "tags": [],
        "cell_id": "00015-05060f91-9cb6-4514-aa90-ed684630f72f",
        "deepnote_to_be_reexecuted": false,
        "source_hash": "c9ba96e3",
        "execution_millis": 782,
        "execution_start": 1619386259921,
        "deepnote_cell_type": "code"
      },
      "source": "df = pd.read_csv(file,usecols=[\"TUITIONFEE_IN\", \"INSTNM\"]) \ndf.info()\ndf.head()",
      "execution_count": 9,
      "outputs": [
        {
          "name": "stdout",
          "text": "<class 'pandas.core.frame.DataFrame'>\nRangeIndex: 7766 entries, 0 to 7765\nData columns (total 2 columns):\n #   Column         Non-Null Count  Dtype  \n---  ------         --------------  -----  \n 0   INSTNM         7766 non-null   object \n 1   TUITIONFEE_IN  4407 non-null   float64\ndtypes: float64(1), object(1)\nmemory usage: 121.5+ KB\n",
          "output_type": "stream"
        },
        {
          "output_type": "execute_result",
          "execution_count": 9,
          "data": {
            "application/vnd.deepnote.dataframe.v2+json": {
              "row_count": 5,
              "column_count": 2,
              "columns": [
                {
                  "name": "INSTNM",
                  "dtype": "object",
                  "stats": {
                    "unique_count": 5,
                    "nan_count": 0,
                    "categories": [
                      {
                        "name": "Alabama A & M University",
                        "count": 1
                      },
                      {
                        "name": "University of Alabama at Birmingham",
                        "count": 1
                      },
                      {
                        "name": "3 others",
                        "count": 3
                      }
                    ]
                  }
                },
                {
                  "name": "TUITIONFEE_IN",
                  "dtype": "float64",
                  "stats": {
                    "unique_count": 5,
                    "nan_count": 0,
                    "min": "6900.0",
                    "max": "9158.0",
                    "histogram": [
                      {
                        "bin_start": 6900,
                        "bin_end": 7125.8,
                        "count": 1
                      },
                      {
                        "bin_start": 7125.8,
                        "bin_end": 7351.6,
                        "count": 0
                      },
                      {
                        "bin_start": 7351.6,
                        "bin_end": 7577.4,
                        "count": 1
                      },
                      {
                        "bin_start": 7577.4,
                        "bin_end": 7803.2,
                        "count": 0
                      },
                      {
                        "bin_start": 7803.2,
                        "bin_end": 8029,
                        "count": 0
                      },
                      {
                        "bin_start": 8029,
                        "bin_end": 8254.8,
                        "count": 0
                      },
                      {
                        "bin_start": 8254.8,
                        "bin_end": 8480.6,
                        "count": 0
                      },
                      {
                        "bin_start": 8480.6,
                        "bin_end": 8706.4,
                        "count": 0
                      },
                      {
                        "bin_start": 8706.4,
                        "bin_end": 8932.2,
                        "count": 1
                      },
                      {
                        "bin_start": 8932.2,
                        "bin_end": 9158,
                        "count": 2
                      }
                    ]
                  }
                },
                {
                  "name": "_deepnote_index_column",
                  "dtype": "int64"
                }
              ],
              "rows_top": [
                {
                  "INSTNM": "Alabama A & M University",
                  "TUITIONFEE_IN": 9096,
                  "_deepnote_index_column": 0
                },
                {
                  "INSTNM": "University of Alabama at Birmingham",
                  "TUITIONFEE_IN": 7510,
                  "_deepnote_index_column": 1
                },
                {
                  "INSTNM": "Amridge University",
                  "TUITIONFEE_IN": 6900,
                  "_deepnote_index_column": 2
                },
                {
                  "INSTNM": "University of Alabama in Huntsville",
                  "TUITIONFEE_IN": 9158,
                  "_deepnote_index_column": 3
                },
                {
                  "INSTNM": "Alabama State University",
                  "TUITIONFEE_IN": 8720,
                  "_deepnote_index_column": 4
                }
              ],
              "rows_bottom": null
            },
            "text/plain": "                                INSTNM  TUITIONFEE_IN\n0             Alabama A & M University         9096.0\n1  University of Alabama at Birmingham         7510.0\n2                   Amridge University         6900.0\n3  University of Alabama in Huntsville         9158.0\n4             Alabama State University         8720.0",
            "text/html": "<div>\n<style scoped>\n    .dataframe tbody tr th:only-of-type {\n        vertical-align: middle;\n    }\n\n    .dataframe tbody tr th {\n        vertical-align: top;\n    }\n\n    .dataframe thead th {\n        text-align: right;\n    }\n</style>\n<table border=\"1\" class=\"dataframe\">\n  <thead>\n    <tr style=\"text-align: right;\">\n      <th></th>\n      <th>INSTNM</th>\n      <th>TUITIONFEE_IN</th>\n    </tr>\n  </thead>\n  <tbody>\n    <tr>\n      <th>0</th>\n      <td>Alabama A &amp; M University</td>\n      <td>9096.0</td>\n    </tr>\n    <tr>\n      <th>1</th>\n      <td>University of Alabama at Birmingham</td>\n      <td>7510.0</td>\n    </tr>\n    <tr>\n      <th>2</th>\n      <td>Amridge University</td>\n      <td>6900.0</td>\n    </tr>\n    <tr>\n      <th>3</th>\n      <td>University of Alabama in Huntsville</td>\n      <td>9158.0</td>\n    </tr>\n    <tr>\n      <th>4</th>\n      <td>Alabama State University</td>\n      <td>8720.0</td>\n    </tr>\n  </tbody>\n</table>\n</div>"
          },
          "metadata": {}
        }
      ]
    },
    {
      "cell_type": "markdown",
      "source": "### 5 - Find out how many observations have missing value.",
      "metadata": {
        "tags": [],
        "cell_id": "00016-0e1aa939-718c-4379-afbb-cb3e21bf964a",
        "deepnote_cell_type": "markdown"
      }
    },
    {
      "cell_type": "markdown",
      "source": "#### Display boolean data frame \n#### True means it is a missing value \"nan\"\n#### False means it has a value",
      "metadata": {
        "tags": [],
        "cell_id": "00017-1bceff45-74ff-4468-80aa-d7eb3a08ac5e",
        "deepnote_cell_type": "markdown"
      }
    },
    {
      "cell_type": "code",
      "metadata": {
        "tags": [],
        "cell_id": "00018-8d69881c-1880-4dd0-9510-8ee2b983b0fd",
        "deepnote_to_be_reexecuted": false,
        "source_hash": "2dba6cbb",
        "execution_millis": 41,
        "execution_start": 1619386260699,
        "deepnote_cell_type": "code"
      },
      "source": "df.isnull()",
      "execution_count": 10,
      "outputs": [
        {
          "output_type": "execute_result",
          "execution_count": 10,
          "data": {
            "application/vnd.deepnote.dataframe.v2+json": {
              "row_count": 7766,
              "column_count": 2,
              "columns": [
                {
                  "name": "INSTNM",
                  "dtype": "bool",
                  "stats": {
                    "unique_count": 1,
                    "nan_count": 0,
                    "categories": [
                      {
                        "name": "False",
                        "count": 7766
                      }
                    ]
                  }
                },
                {
                  "name": "TUITIONFEE_IN",
                  "dtype": "bool",
                  "stats": {
                    "unique_count": 2,
                    "nan_count": 0,
                    "categories": [
                      {
                        "name": "False",
                        "count": 4407
                      },
                      {
                        "name": "True",
                        "count": 3359
                      }
                    ]
                  }
                },
                {
                  "name": "_deepnote_index_column",
                  "dtype": "int64"
                }
              ],
              "rows_top": [
                {
                  "INSTNM": false,
                  "TUITIONFEE_IN": false,
                  "_deepnote_index_column": 0
                },
                {
                  "INSTNM": false,
                  "TUITIONFEE_IN": false,
                  "_deepnote_index_column": 1
                },
                {
                  "INSTNM": false,
                  "TUITIONFEE_IN": false,
                  "_deepnote_index_column": 2
                },
                {
                  "INSTNM": false,
                  "TUITIONFEE_IN": false,
                  "_deepnote_index_column": 3
                },
                {
                  "INSTNM": false,
                  "TUITIONFEE_IN": false,
                  "_deepnote_index_column": 4
                },
                {
                  "INSTNM": false,
                  "TUITIONFEE_IN": false,
                  "_deepnote_index_column": 5
                },
                {
                  "INSTNM": false,
                  "TUITIONFEE_IN": false,
                  "_deepnote_index_column": 6
                },
                {
                  "INSTNM": false,
                  "TUITIONFEE_IN": true,
                  "_deepnote_index_column": 7
                },
                {
                  "INSTNM": false,
                  "TUITIONFEE_IN": false,
                  "_deepnote_index_column": 8
                },
                {
                  "INSTNM": false,
                  "TUITIONFEE_IN": false,
                  "_deepnote_index_column": 9
                },
                {
                  "INSTNM": false,
                  "TUITIONFEE_IN": false,
                  "_deepnote_index_column": 10
                },
                {
                  "INSTNM": false,
                  "TUITIONFEE_IN": false,
                  "_deepnote_index_column": 11
                },
                {
                  "INSTNM": false,
                  "TUITIONFEE_IN": false,
                  "_deepnote_index_column": 12
                },
                {
                  "INSTNM": false,
                  "TUITIONFEE_IN": false,
                  "_deepnote_index_column": 13
                },
                {
                  "INSTNM": false,
                  "TUITIONFEE_IN": false,
                  "_deepnote_index_column": 14
                },
                {
                  "INSTNM": false,
                  "TUITIONFEE_IN": false,
                  "_deepnote_index_column": 15
                },
                {
                  "INSTNM": false,
                  "TUITIONFEE_IN": false,
                  "_deepnote_index_column": 16
                },
                {
                  "INSTNM": false,
                  "TUITIONFEE_IN": false,
                  "_deepnote_index_column": 17
                },
                {
                  "INSTNM": false,
                  "TUITIONFEE_IN": true,
                  "_deepnote_index_column": 18
                },
                {
                  "INSTNM": false,
                  "TUITIONFEE_IN": false,
                  "_deepnote_index_column": 19
                },
                {
                  "INSTNM": false,
                  "TUITIONFEE_IN": false,
                  "_deepnote_index_column": 20
                },
                {
                  "INSTNM": false,
                  "TUITIONFEE_IN": false,
                  "_deepnote_index_column": 21
                },
                {
                  "INSTNM": false,
                  "TUITIONFEE_IN": false,
                  "_deepnote_index_column": 22
                },
                {
                  "INSTNM": false,
                  "TUITIONFEE_IN": false,
                  "_deepnote_index_column": 23
                },
                {
                  "INSTNM": false,
                  "TUITIONFEE_IN": false,
                  "_deepnote_index_column": 24
                },
                {
                  "INSTNM": false,
                  "TUITIONFEE_IN": false,
                  "_deepnote_index_column": 25
                },
                {
                  "INSTNM": false,
                  "TUITIONFEE_IN": false,
                  "_deepnote_index_column": 26
                },
                {
                  "INSTNM": false,
                  "TUITIONFEE_IN": false,
                  "_deepnote_index_column": 27
                },
                {
                  "INSTNM": false,
                  "TUITIONFEE_IN": false,
                  "_deepnote_index_column": 28
                },
                {
                  "INSTNM": false,
                  "TUITIONFEE_IN": false,
                  "_deepnote_index_column": 29
                },
                {
                  "INSTNM": false,
                  "TUITIONFEE_IN": false,
                  "_deepnote_index_column": 30
                },
                {
                  "INSTNM": false,
                  "TUITIONFEE_IN": false,
                  "_deepnote_index_column": 31
                },
                {
                  "INSTNM": false,
                  "TUITIONFEE_IN": false,
                  "_deepnote_index_column": 32
                },
                {
                  "INSTNM": false,
                  "TUITIONFEE_IN": false,
                  "_deepnote_index_column": 33
                },
                {
                  "INSTNM": false,
                  "TUITIONFEE_IN": false,
                  "_deepnote_index_column": 34
                },
                {
                  "INSTNM": false,
                  "TUITIONFEE_IN": false,
                  "_deepnote_index_column": 35
                },
                {
                  "INSTNM": false,
                  "TUITIONFEE_IN": false,
                  "_deepnote_index_column": 36
                },
                {
                  "INSTNM": false,
                  "TUITIONFEE_IN": false,
                  "_deepnote_index_column": 37
                },
                {
                  "INSTNM": false,
                  "TUITIONFEE_IN": false,
                  "_deepnote_index_column": 38
                },
                {
                  "INSTNM": false,
                  "TUITIONFEE_IN": false,
                  "_deepnote_index_column": 39
                },
                {
                  "INSTNM": false,
                  "TUITIONFEE_IN": false,
                  "_deepnote_index_column": 40
                },
                {
                  "INSTNM": false,
                  "TUITIONFEE_IN": false,
                  "_deepnote_index_column": 41
                },
                {
                  "INSTNM": false,
                  "TUITIONFEE_IN": false,
                  "_deepnote_index_column": 42
                },
                {
                  "INSTNM": false,
                  "TUITIONFEE_IN": false,
                  "_deepnote_index_column": 43
                },
                {
                  "INSTNM": false,
                  "TUITIONFEE_IN": false,
                  "_deepnote_index_column": 44
                },
                {
                  "INSTNM": false,
                  "TUITIONFEE_IN": false,
                  "_deepnote_index_column": 45
                },
                {
                  "INSTNM": false,
                  "TUITIONFEE_IN": false,
                  "_deepnote_index_column": 46
                },
                {
                  "INSTNM": false,
                  "TUITIONFEE_IN": false,
                  "_deepnote_index_column": 47
                },
                {
                  "INSTNM": false,
                  "TUITIONFEE_IN": false,
                  "_deepnote_index_column": 48
                },
                {
                  "INSTNM": false,
                  "TUITIONFEE_IN": false,
                  "_deepnote_index_column": 49
                },
                {
                  "INSTNM": false,
                  "TUITIONFEE_IN": false,
                  "_deepnote_index_column": 50
                },
                {
                  "INSTNM": false,
                  "TUITIONFEE_IN": false,
                  "_deepnote_index_column": 51
                },
                {
                  "INSTNM": false,
                  "TUITIONFEE_IN": false,
                  "_deepnote_index_column": 52
                },
                {
                  "INSTNM": false,
                  "TUITIONFEE_IN": false,
                  "_deepnote_index_column": 53
                },
                {
                  "INSTNM": false,
                  "TUITIONFEE_IN": false,
                  "_deepnote_index_column": 54
                },
                {
                  "INSTNM": false,
                  "TUITIONFEE_IN": false,
                  "_deepnote_index_column": 55
                },
                {
                  "INSTNM": false,
                  "TUITIONFEE_IN": false,
                  "_deepnote_index_column": 56
                },
                {
                  "INSTNM": false,
                  "TUITIONFEE_IN": false,
                  "_deepnote_index_column": 57
                },
                {
                  "INSTNM": false,
                  "TUITIONFEE_IN": false,
                  "_deepnote_index_column": 58
                },
                {
                  "INSTNM": false,
                  "TUITIONFEE_IN": true,
                  "_deepnote_index_column": 59
                },
                {
                  "INSTNM": false,
                  "TUITIONFEE_IN": false,
                  "_deepnote_index_column": 60
                },
                {
                  "INSTNM": false,
                  "TUITIONFEE_IN": false,
                  "_deepnote_index_column": 61
                },
                {
                  "INSTNM": false,
                  "TUITIONFEE_IN": false,
                  "_deepnote_index_column": 62
                },
                {
                  "INSTNM": false,
                  "TUITIONFEE_IN": false,
                  "_deepnote_index_column": 63
                },
                {
                  "INSTNM": false,
                  "TUITIONFEE_IN": false,
                  "_deepnote_index_column": 64
                },
                {
                  "INSTNM": false,
                  "TUITIONFEE_IN": false,
                  "_deepnote_index_column": 65
                },
                {
                  "INSTNM": false,
                  "TUITIONFEE_IN": true,
                  "_deepnote_index_column": 66
                },
                {
                  "INSTNM": false,
                  "TUITIONFEE_IN": false,
                  "_deepnote_index_column": 67
                },
                {
                  "INSTNM": false,
                  "TUITIONFEE_IN": true,
                  "_deepnote_index_column": 68
                },
                {
                  "INSTNM": false,
                  "TUITIONFEE_IN": false,
                  "_deepnote_index_column": 69
                },
                {
                  "INSTNM": false,
                  "TUITIONFEE_IN": true,
                  "_deepnote_index_column": 70
                },
                {
                  "INSTNM": false,
                  "TUITIONFEE_IN": true,
                  "_deepnote_index_column": 71
                },
                {
                  "INSTNM": false,
                  "TUITIONFEE_IN": true,
                  "_deepnote_index_column": 72
                },
                {
                  "INSTNM": false,
                  "TUITIONFEE_IN": true,
                  "_deepnote_index_column": 73
                },
                {
                  "INSTNM": false,
                  "TUITIONFEE_IN": false,
                  "_deepnote_index_column": 74
                },
                {
                  "INSTNM": false,
                  "TUITIONFEE_IN": true,
                  "_deepnote_index_column": 75
                },
                {
                  "INSTNM": false,
                  "TUITIONFEE_IN": true,
                  "_deepnote_index_column": 76
                },
                {
                  "INSTNM": false,
                  "TUITIONFEE_IN": true,
                  "_deepnote_index_column": 77
                },
                {
                  "INSTNM": false,
                  "TUITIONFEE_IN": true,
                  "_deepnote_index_column": 78
                },
                {
                  "INSTNM": false,
                  "TUITIONFEE_IN": false,
                  "_deepnote_index_column": 79
                },
                {
                  "INSTNM": false,
                  "TUITIONFEE_IN": true,
                  "_deepnote_index_column": 80
                },
                {
                  "INSTNM": false,
                  "TUITIONFEE_IN": true,
                  "_deepnote_index_column": 81
                },
                {
                  "INSTNM": false,
                  "TUITIONFEE_IN": true,
                  "_deepnote_index_column": 82
                },
                {
                  "INSTNM": false,
                  "TUITIONFEE_IN": false,
                  "_deepnote_index_column": 83
                },
                {
                  "INSTNM": false,
                  "TUITIONFEE_IN": false,
                  "_deepnote_index_column": 84
                },
                {
                  "INSTNM": false,
                  "TUITIONFEE_IN": false,
                  "_deepnote_index_column": 85
                },
                {
                  "INSTNM": false,
                  "TUITIONFEE_IN": false,
                  "_deepnote_index_column": 86
                },
                {
                  "INSTNM": false,
                  "TUITIONFEE_IN": false,
                  "_deepnote_index_column": 87
                },
                {
                  "INSTNM": false,
                  "TUITIONFEE_IN": false,
                  "_deepnote_index_column": 88
                },
                {
                  "INSTNM": false,
                  "TUITIONFEE_IN": true,
                  "_deepnote_index_column": 89
                },
                {
                  "INSTNM": false,
                  "TUITIONFEE_IN": false,
                  "_deepnote_index_column": 90
                },
                {
                  "INSTNM": false,
                  "TUITIONFEE_IN": true,
                  "_deepnote_index_column": 91
                },
                {
                  "INSTNM": false,
                  "TUITIONFEE_IN": true,
                  "_deepnote_index_column": 92
                },
                {
                  "INSTNM": false,
                  "TUITIONFEE_IN": true,
                  "_deepnote_index_column": 93
                },
                {
                  "INSTNM": false,
                  "TUITIONFEE_IN": true,
                  "_deepnote_index_column": 94
                },
                {
                  "INSTNM": false,
                  "TUITIONFEE_IN": false,
                  "_deepnote_index_column": 95
                },
                {
                  "INSTNM": false,
                  "TUITIONFEE_IN": false,
                  "_deepnote_index_column": 96
                },
                {
                  "INSTNM": false,
                  "TUITIONFEE_IN": true,
                  "_deepnote_index_column": 97
                },
                {
                  "INSTNM": false,
                  "TUITIONFEE_IN": false,
                  "_deepnote_index_column": 98
                },
                {
                  "INSTNM": false,
                  "TUITIONFEE_IN": false,
                  "_deepnote_index_column": 99
                },
                {
                  "INSTNM": false,
                  "TUITIONFEE_IN": true,
                  "_deepnote_index_column": 100
                },
                {
                  "INSTNM": false,
                  "TUITIONFEE_IN": false,
                  "_deepnote_index_column": 101
                },
                {
                  "INSTNM": false,
                  "TUITIONFEE_IN": false,
                  "_deepnote_index_column": 102
                },
                {
                  "INSTNM": false,
                  "TUITIONFEE_IN": false,
                  "_deepnote_index_column": 103
                },
                {
                  "INSTNM": false,
                  "TUITIONFEE_IN": false,
                  "_deepnote_index_column": 104
                },
                {
                  "INSTNM": false,
                  "TUITIONFEE_IN": false,
                  "_deepnote_index_column": 105
                },
                {
                  "INSTNM": false,
                  "TUITIONFEE_IN": true,
                  "_deepnote_index_column": 106
                },
                {
                  "INSTNM": false,
                  "TUITIONFEE_IN": false,
                  "_deepnote_index_column": 107
                },
                {
                  "INSTNM": false,
                  "TUITIONFEE_IN": false,
                  "_deepnote_index_column": 108
                },
                {
                  "INSTNM": false,
                  "TUITIONFEE_IN": false,
                  "_deepnote_index_column": 109
                },
                {
                  "INSTNM": false,
                  "TUITIONFEE_IN": false,
                  "_deepnote_index_column": 110
                },
                {
                  "INSTNM": false,
                  "TUITIONFEE_IN": false,
                  "_deepnote_index_column": 111
                },
                {
                  "INSTNM": false,
                  "TUITIONFEE_IN": true,
                  "_deepnote_index_column": 112
                },
                {
                  "INSTNM": false,
                  "TUITIONFEE_IN": false,
                  "_deepnote_index_column": 113
                },
                {
                  "INSTNM": false,
                  "TUITIONFEE_IN": true,
                  "_deepnote_index_column": 114
                },
                {
                  "INSTNM": false,
                  "TUITIONFEE_IN": true,
                  "_deepnote_index_column": 115
                },
                {
                  "INSTNM": false,
                  "TUITIONFEE_IN": false,
                  "_deepnote_index_column": 116
                },
                {
                  "INSTNM": false,
                  "TUITIONFEE_IN": true,
                  "_deepnote_index_column": 117
                },
                {
                  "INSTNM": false,
                  "TUITIONFEE_IN": false,
                  "_deepnote_index_column": 118
                },
                {
                  "INSTNM": false,
                  "TUITIONFEE_IN": true,
                  "_deepnote_index_column": 119
                },
                {
                  "INSTNM": false,
                  "TUITIONFEE_IN": true,
                  "_deepnote_index_column": 120
                },
                {
                  "INSTNM": false,
                  "TUITIONFEE_IN": false,
                  "_deepnote_index_column": 121
                },
                {
                  "INSTNM": false,
                  "TUITIONFEE_IN": false,
                  "_deepnote_index_column": 122
                },
                {
                  "INSTNM": false,
                  "TUITIONFEE_IN": false,
                  "_deepnote_index_column": 123
                },
                {
                  "INSTNM": false,
                  "TUITIONFEE_IN": true,
                  "_deepnote_index_column": 124
                },
                {
                  "INSTNM": false,
                  "TUITIONFEE_IN": true,
                  "_deepnote_index_column": 125
                },
                {
                  "INSTNM": false,
                  "TUITIONFEE_IN": false,
                  "_deepnote_index_column": 126
                },
                {
                  "INSTNM": false,
                  "TUITIONFEE_IN": true,
                  "_deepnote_index_column": 127
                },
                {
                  "INSTNM": false,
                  "TUITIONFEE_IN": false,
                  "_deepnote_index_column": 128
                },
                {
                  "INSTNM": false,
                  "TUITIONFEE_IN": false,
                  "_deepnote_index_column": 129
                },
                {
                  "INSTNM": false,
                  "TUITIONFEE_IN": true,
                  "_deepnote_index_column": 130
                },
                {
                  "INSTNM": false,
                  "TUITIONFEE_IN": true,
                  "_deepnote_index_column": 131
                },
                {
                  "INSTNM": false,
                  "TUITIONFEE_IN": false,
                  "_deepnote_index_column": 132
                },
                {
                  "INSTNM": false,
                  "TUITIONFEE_IN": true,
                  "_deepnote_index_column": 133
                },
                {
                  "INSTNM": false,
                  "TUITIONFEE_IN": true,
                  "_deepnote_index_column": 134
                },
                {
                  "INSTNM": false,
                  "TUITIONFEE_IN": false,
                  "_deepnote_index_column": 135
                },
                {
                  "INSTNM": false,
                  "TUITIONFEE_IN": true,
                  "_deepnote_index_column": 136
                },
                {
                  "INSTNM": false,
                  "TUITIONFEE_IN": true,
                  "_deepnote_index_column": 137
                },
                {
                  "INSTNM": false,
                  "TUITIONFEE_IN": false,
                  "_deepnote_index_column": 138
                },
                {
                  "INSTNM": false,
                  "TUITIONFEE_IN": false,
                  "_deepnote_index_column": 139
                },
                {
                  "INSTNM": false,
                  "TUITIONFEE_IN": false,
                  "_deepnote_index_column": 140
                },
                {
                  "INSTNM": false,
                  "TUITIONFEE_IN": false,
                  "_deepnote_index_column": 141
                },
                {
                  "INSTNM": false,
                  "TUITIONFEE_IN": false,
                  "_deepnote_index_column": 142
                },
                {
                  "INSTNM": false,
                  "TUITIONFEE_IN": false,
                  "_deepnote_index_column": 143
                },
                {
                  "INSTNM": false,
                  "TUITIONFEE_IN": true,
                  "_deepnote_index_column": 144
                },
                {
                  "INSTNM": false,
                  "TUITIONFEE_IN": false,
                  "_deepnote_index_column": 145
                },
                {
                  "INSTNM": false,
                  "TUITIONFEE_IN": false,
                  "_deepnote_index_column": 146
                },
                {
                  "INSTNM": false,
                  "TUITIONFEE_IN": false,
                  "_deepnote_index_column": 147
                },
                {
                  "INSTNM": false,
                  "TUITIONFEE_IN": false,
                  "_deepnote_index_column": 148
                },
                {
                  "INSTNM": false,
                  "TUITIONFEE_IN": false,
                  "_deepnote_index_column": 149
                },
                {
                  "INSTNM": false,
                  "TUITIONFEE_IN": false,
                  "_deepnote_index_column": 150
                },
                {
                  "INSTNM": false,
                  "TUITIONFEE_IN": false,
                  "_deepnote_index_column": 151
                },
                {
                  "INSTNM": false,
                  "TUITIONFEE_IN": false,
                  "_deepnote_index_column": 152
                },
                {
                  "INSTNM": false,
                  "TUITIONFEE_IN": true,
                  "_deepnote_index_column": 153
                },
                {
                  "INSTNM": false,
                  "TUITIONFEE_IN": true,
                  "_deepnote_index_column": 154
                },
                {
                  "INSTNM": false,
                  "TUITIONFEE_IN": false,
                  "_deepnote_index_column": 155
                },
                {
                  "INSTNM": false,
                  "TUITIONFEE_IN": false,
                  "_deepnote_index_column": 156
                },
                {
                  "INSTNM": false,
                  "TUITIONFEE_IN": false,
                  "_deepnote_index_column": 157
                },
                {
                  "INSTNM": false,
                  "TUITIONFEE_IN": false,
                  "_deepnote_index_column": 158
                },
                {
                  "INSTNM": false,
                  "TUITIONFEE_IN": false,
                  "_deepnote_index_column": 159
                },
                {
                  "INSTNM": false,
                  "TUITIONFEE_IN": true,
                  "_deepnote_index_column": 160
                },
                {
                  "INSTNM": false,
                  "TUITIONFEE_IN": true,
                  "_deepnote_index_column": 161
                },
                {
                  "INSTNM": false,
                  "TUITIONFEE_IN": false,
                  "_deepnote_index_column": 162
                },
                {
                  "INSTNM": false,
                  "TUITIONFEE_IN": true,
                  "_deepnote_index_column": 163
                },
                {
                  "INSTNM": false,
                  "TUITIONFEE_IN": true,
                  "_deepnote_index_column": 164
                },
                {
                  "INSTNM": false,
                  "TUITIONFEE_IN": true,
                  "_deepnote_index_column": 165
                },
                {
                  "INSTNM": false,
                  "TUITIONFEE_IN": false,
                  "_deepnote_index_column": 166
                },
                {
                  "INSTNM": false,
                  "TUITIONFEE_IN": false,
                  "_deepnote_index_column": 167
                },
                {
                  "INSTNM": false,
                  "TUITIONFEE_IN": true,
                  "_deepnote_index_column": 168
                },
                {
                  "INSTNM": false,
                  "TUITIONFEE_IN": true,
                  "_deepnote_index_column": 169
                },
                {
                  "INSTNM": false,
                  "TUITIONFEE_IN": false,
                  "_deepnote_index_column": 170
                },
                {
                  "INSTNM": false,
                  "TUITIONFEE_IN": false,
                  "_deepnote_index_column": 171
                },
                {
                  "INSTNM": false,
                  "TUITIONFEE_IN": false,
                  "_deepnote_index_column": 172
                },
                {
                  "INSTNM": false,
                  "TUITIONFEE_IN": false,
                  "_deepnote_index_column": 173
                },
                {
                  "INSTNM": false,
                  "TUITIONFEE_IN": false,
                  "_deepnote_index_column": 174
                },
                {
                  "INSTNM": false,
                  "TUITIONFEE_IN": false,
                  "_deepnote_index_column": 175
                },
                {
                  "INSTNM": false,
                  "TUITIONFEE_IN": false,
                  "_deepnote_index_column": 176
                },
                {
                  "INSTNM": false,
                  "TUITIONFEE_IN": false,
                  "_deepnote_index_column": 177
                },
                {
                  "INSTNM": false,
                  "TUITIONFEE_IN": false,
                  "_deepnote_index_column": 178
                },
                {
                  "INSTNM": false,
                  "TUITIONFEE_IN": false,
                  "_deepnote_index_column": 179
                },
                {
                  "INSTNM": false,
                  "TUITIONFEE_IN": true,
                  "_deepnote_index_column": 180
                },
                {
                  "INSTNM": false,
                  "TUITIONFEE_IN": false,
                  "_deepnote_index_column": 181
                },
                {
                  "INSTNM": false,
                  "TUITIONFEE_IN": false,
                  "_deepnote_index_column": 182
                },
                {
                  "INSTNM": false,
                  "TUITIONFEE_IN": false,
                  "_deepnote_index_column": 183
                },
                {
                  "INSTNM": false,
                  "TUITIONFEE_IN": true,
                  "_deepnote_index_column": 184
                },
                {
                  "INSTNM": false,
                  "TUITIONFEE_IN": true,
                  "_deepnote_index_column": 185
                },
                {
                  "INSTNM": false,
                  "TUITIONFEE_IN": false,
                  "_deepnote_index_column": 186
                },
                {
                  "INSTNM": false,
                  "TUITIONFEE_IN": false,
                  "_deepnote_index_column": 187
                },
                {
                  "INSTNM": false,
                  "TUITIONFEE_IN": false,
                  "_deepnote_index_column": 188
                },
                {
                  "INSTNM": false,
                  "TUITIONFEE_IN": false,
                  "_deepnote_index_column": 189
                },
                {
                  "INSTNM": false,
                  "TUITIONFEE_IN": false,
                  "_deepnote_index_column": 190
                },
                {
                  "INSTNM": false,
                  "TUITIONFEE_IN": true,
                  "_deepnote_index_column": 191
                },
                {
                  "INSTNM": false,
                  "TUITIONFEE_IN": false,
                  "_deepnote_index_column": 192
                },
                {
                  "INSTNM": false,
                  "TUITIONFEE_IN": false,
                  "_deepnote_index_column": 193
                },
                {
                  "INSTNM": false,
                  "TUITIONFEE_IN": false,
                  "_deepnote_index_column": 194
                },
                {
                  "INSTNM": false,
                  "TUITIONFEE_IN": true,
                  "_deepnote_index_column": 195
                },
                {
                  "INSTNM": false,
                  "TUITIONFEE_IN": true,
                  "_deepnote_index_column": 196
                },
                {
                  "INSTNM": false,
                  "TUITIONFEE_IN": true,
                  "_deepnote_index_column": 197
                },
                {
                  "INSTNM": false,
                  "TUITIONFEE_IN": false,
                  "_deepnote_index_column": 198
                },
                {
                  "INSTNM": false,
                  "TUITIONFEE_IN": false,
                  "_deepnote_index_column": 199
                },
                {
                  "INSTNM": false,
                  "TUITIONFEE_IN": false,
                  "_deepnote_index_column": 200
                },
                {
                  "INSTNM": false,
                  "TUITIONFEE_IN": true,
                  "_deepnote_index_column": 201
                },
                {
                  "INSTNM": false,
                  "TUITIONFEE_IN": true,
                  "_deepnote_index_column": 202
                },
                {
                  "INSTNM": false,
                  "TUITIONFEE_IN": true,
                  "_deepnote_index_column": 203
                },
                {
                  "INSTNM": false,
                  "TUITIONFEE_IN": true,
                  "_deepnote_index_column": 204
                },
                {
                  "INSTNM": false,
                  "TUITIONFEE_IN": true,
                  "_deepnote_index_column": 205
                },
                {
                  "INSTNM": false,
                  "TUITIONFEE_IN": false,
                  "_deepnote_index_column": 206
                },
                {
                  "INSTNM": false,
                  "TUITIONFEE_IN": false,
                  "_deepnote_index_column": 207
                },
                {
                  "INSTNM": false,
                  "TUITIONFEE_IN": false,
                  "_deepnote_index_column": 208
                },
                {
                  "INSTNM": false,
                  "TUITIONFEE_IN": true,
                  "_deepnote_index_column": 209
                },
                {
                  "INSTNM": false,
                  "TUITIONFEE_IN": true,
                  "_deepnote_index_column": 210
                },
                {
                  "INSTNM": false,
                  "TUITIONFEE_IN": false,
                  "_deepnote_index_column": 211
                },
                {
                  "INSTNM": false,
                  "TUITIONFEE_IN": false,
                  "_deepnote_index_column": 212
                },
                {
                  "INSTNM": false,
                  "TUITIONFEE_IN": false,
                  "_deepnote_index_column": 213
                },
                {
                  "INSTNM": false,
                  "TUITIONFEE_IN": true,
                  "_deepnote_index_column": 214
                },
                {
                  "INSTNM": false,
                  "TUITIONFEE_IN": false,
                  "_deepnote_index_column": 215
                },
                {
                  "INSTNM": false,
                  "TUITIONFEE_IN": false,
                  "_deepnote_index_column": 216
                },
                {
                  "INSTNM": false,
                  "TUITIONFEE_IN": false,
                  "_deepnote_index_column": 217
                },
                {
                  "INSTNM": false,
                  "TUITIONFEE_IN": true,
                  "_deepnote_index_column": 218
                },
                {
                  "INSTNM": false,
                  "TUITIONFEE_IN": false,
                  "_deepnote_index_column": 219
                },
                {
                  "INSTNM": false,
                  "TUITIONFEE_IN": false,
                  "_deepnote_index_column": 220
                },
                {
                  "INSTNM": false,
                  "TUITIONFEE_IN": true,
                  "_deepnote_index_column": 221
                },
                {
                  "INSTNM": false,
                  "TUITIONFEE_IN": true,
                  "_deepnote_index_column": 222
                },
                {
                  "INSTNM": false,
                  "TUITIONFEE_IN": false,
                  "_deepnote_index_column": 223
                },
                {
                  "INSTNM": false,
                  "TUITIONFEE_IN": false,
                  "_deepnote_index_column": 224
                },
                {
                  "INSTNM": false,
                  "TUITIONFEE_IN": false,
                  "_deepnote_index_column": 225
                },
                {
                  "INSTNM": false,
                  "TUITIONFEE_IN": true,
                  "_deepnote_index_column": 226
                },
                {
                  "INSTNM": false,
                  "TUITIONFEE_IN": false,
                  "_deepnote_index_column": 227
                },
                {
                  "INSTNM": false,
                  "TUITIONFEE_IN": false,
                  "_deepnote_index_column": 228
                },
                {
                  "INSTNM": false,
                  "TUITIONFEE_IN": false,
                  "_deepnote_index_column": 229
                },
                {
                  "INSTNM": false,
                  "TUITIONFEE_IN": false,
                  "_deepnote_index_column": 230
                },
                {
                  "INSTNM": false,
                  "TUITIONFEE_IN": false,
                  "_deepnote_index_column": 231
                },
                {
                  "INSTNM": false,
                  "TUITIONFEE_IN": false,
                  "_deepnote_index_column": 232
                },
                {
                  "INSTNM": false,
                  "TUITIONFEE_IN": false,
                  "_deepnote_index_column": 233
                },
                {
                  "INSTNM": false,
                  "TUITIONFEE_IN": false,
                  "_deepnote_index_column": 234
                },
                {
                  "INSTNM": false,
                  "TUITIONFEE_IN": false,
                  "_deepnote_index_column": 235
                },
                {
                  "INSTNM": false,
                  "TUITIONFEE_IN": false,
                  "_deepnote_index_column": 236
                },
                {
                  "INSTNM": false,
                  "TUITIONFEE_IN": false,
                  "_deepnote_index_column": 237
                },
                {
                  "INSTNM": false,
                  "TUITIONFEE_IN": false,
                  "_deepnote_index_column": 238
                },
                {
                  "INSTNM": false,
                  "TUITIONFEE_IN": false,
                  "_deepnote_index_column": 239
                },
                {
                  "INSTNM": false,
                  "TUITIONFEE_IN": false,
                  "_deepnote_index_column": 240
                },
                {
                  "INSTNM": false,
                  "TUITIONFEE_IN": false,
                  "_deepnote_index_column": 241
                },
                {
                  "INSTNM": false,
                  "TUITIONFEE_IN": false,
                  "_deepnote_index_column": 242
                },
                {
                  "INSTNM": false,
                  "TUITIONFEE_IN": false,
                  "_deepnote_index_column": 243
                },
                {
                  "INSTNM": false,
                  "TUITIONFEE_IN": false,
                  "_deepnote_index_column": 244
                },
                {
                  "INSTNM": false,
                  "TUITIONFEE_IN": false,
                  "_deepnote_index_column": 245
                },
                {
                  "INSTNM": false,
                  "TUITIONFEE_IN": false,
                  "_deepnote_index_column": 246
                },
                {
                  "INSTNM": false,
                  "TUITIONFEE_IN": false,
                  "_deepnote_index_column": 247
                },
                {
                  "INSTNM": false,
                  "TUITIONFEE_IN": false,
                  "_deepnote_index_column": 248
                },
                {
                  "INSTNM": false,
                  "TUITIONFEE_IN": false,
                  "_deepnote_index_column": 249
                }
              ],
              "rows_bottom": [
                {
                  "INSTNM": false,
                  "TUITIONFEE_IN": false,
                  "_deepnote_index_column": 7516
                },
                {
                  "INSTNM": false,
                  "TUITIONFEE_IN": false,
                  "_deepnote_index_column": 7517
                },
                {
                  "INSTNM": false,
                  "TUITIONFEE_IN": false,
                  "_deepnote_index_column": 7518
                },
                {
                  "INSTNM": false,
                  "TUITIONFEE_IN": false,
                  "_deepnote_index_column": 7519
                },
                {
                  "INSTNM": false,
                  "TUITIONFEE_IN": false,
                  "_deepnote_index_column": 7520
                },
                {
                  "INSTNM": false,
                  "TUITIONFEE_IN": true,
                  "_deepnote_index_column": 7521
                },
                {
                  "INSTNM": false,
                  "TUITIONFEE_IN": false,
                  "_deepnote_index_column": 7522
                },
                {
                  "INSTNM": false,
                  "TUITIONFEE_IN": false,
                  "_deepnote_index_column": 7523
                },
                {
                  "INSTNM": false,
                  "TUITIONFEE_IN": false,
                  "_deepnote_index_column": 7524
                },
                {
                  "INSTNM": false,
                  "TUITIONFEE_IN": true,
                  "_deepnote_index_column": 7525
                },
                {
                  "INSTNM": false,
                  "TUITIONFEE_IN": false,
                  "_deepnote_index_column": 7526
                },
                {
                  "INSTNM": false,
                  "TUITIONFEE_IN": false,
                  "_deepnote_index_column": 7527
                },
                {
                  "INSTNM": false,
                  "TUITIONFEE_IN": false,
                  "_deepnote_index_column": 7528
                },
                {
                  "INSTNM": false,
                  "TUITIONFEE_IN": false,
                  "_deepnote_index_column": 7529
                },
                {
                  "INSTNM": false,
                  "TUITIONFEE_IN": false,
                  "_deepnote_index_column": 7530
                },
                {
                  "INSTNM": false,
                  "TUITIONFEE_IN": false,
                  "_deepnote_index_column": 7531
                },
                {
                  "INSTNM": false,
                  "TUITIONFEE_IN": false,
                  "_deepnote_index_column": 7532
                },
                {
                  "INSTNM": false,
                  "TUITIONFEE_IN": false,
                  "_deepnote_index_column": 7533
                },
                {
                  "INSTNM": false,
                  "TUITIONFEE_IN": false,
                  "_deepnote_index_column": 7534
                },
                {
                  "INSTNM": false,
                  "TUITIONFEE_IN": false,
                  "_deepnote_index_column": 7535
                },
                {
                  "INSTNM": false,
                  "TUITIONFEE_IN": false,
                  "_deepnote_index_column": 7536
                },
                {
                  "INSTNM": false,
                  "TUITIONFEE_IN": false,
                  "_deepnote_index_column": 7537
                },
                {
                  "INSTNM": false,
                  "TUITIONFEE_IN": false,
                  "_deepnote_index_column": 7538
                },
                {
                  "INSTNM": false,
                  "TUITIONFEE_IN": false,
                  "_deepnote_index_column": 7539
                },
                {
                  "INSTNM": false,
                  "TUITIONFEE_IN": false,
                  "_deepnote_index_column": 7540
                },
                {
                  "INSTNM": false,
                  "TUITIONFEE_IN": false,
                  "_deepnote_index_column": 7541
                },
                {
                  "INSTNM": false,
                  "TUITIONFEE_IN": false,
                  "_deepnote_index_column": 7542
                },
                {
                  "INSTNM": false,
                  "TUITIONFEE_IN": false,
                  "_deepnote_index_column": 7543
                },
                {
                  "INSTNM": false,
                  "TUITIONFEE_IN": false,
                  "_deepnote_index_column": 7544
                },
                {
                  "INSTNM": false,
                  "TUITIONFEE_IN": false,
                  "_deepnote_index_column": 7545
                },
                {
                  "INSTNM": false,
                  "TUITIONFEE_IN": false,
                  "_deepnote_index_column": 7546
                },
                {
                  "INSTNM": false,
                  "TUITIONFEE_IN": false,
                  "_deepnote_index_column": 7547
                },
                {
                  "INSTNM": false,
                  "TUITIONFEE_IN": false,
                  "_deepnote_index_column": 7548
                },
                {
                  "INSTNM": false,
                  "TUITIONFEE_IN": true,
                  "_deepnote_index_column": 7549
                },
                {
                  "INSTNM": false,
                  "TUITIONFEE_IN": true,
                  "_deepnote_index_column": 7550
                },
                {
                  "INSTNM": false,
                  "TUITIONFEE_IN": true,
                  "_deepnote_index_column": 7551
                },
                {
                  "INSTNM": false,
                  "TUITIONFEE_IN": false,
                  "_deepnote_index_column": 7552
                },
                {
                  "INSTNM": false,
                  "TUITIONFEE_IN": false,
                  "_deepnote_index_column": 7553
                },
                {
                  "INSTNM": false,
                  "TUITIONFEE_IN": false,
                  "_deepnote_index_column": 7554
                },
                {
                  "INSTNM": false,
                  "TUITIONFEE_IN": false,
                  "_deepnote_index_column": 7555
                },
                {
                  "INSTNM": false,
                  "TUITIONFEE_IN": false,
                  "_deepnote_index_column": 7556
                },
                {
                  "INSTNM": false,
                  "TUITIONFEE_IN": false,
                  "_deepnote_index_column": 7557
                },
                {
                  "INSTNM": false,
                  "TUITIONFEE_IN": false,
                  "_deepnote_index_column": 7558
                },
                {
                  "INSTNM": false,
                  "TUITIONFEE_IN": false,
                  "_deepnote_index_column": 7559
                },
                {
                  "INSTNM": false,
                  "TUITIONFEE_IN": false,
                  "_deepnote_index_column": 7560
                },
                {
                  "INSTNM": false,
                  "TUITIONFEE_IN": false,
                  "_deepnote_index_column": 7561
                },
                {
                  "INSTNM": false,
                  "TUITIONFEE_IN": true,
                  "_deepnote_index_column": 7562
                },
                {
                  "INSTNM": false,
                  "TUITIONFEE_IN": false,
                  "_deepnote_index_column": 7563
                },
                {
                  "INSTNM": false,
                  "TUITIONFEE_IN": false,
                  "_deepnote_index_column": 7564
                },
                {
                  "INSTNM": false,
                  "TUITIONFEE_IN": false,
                  "_deepnote_index_column": 7565
                },
                {
                  "INSTNM": false,
                  "TUITIONFEE_IN": true,
                  "_deepnote_index_column": 7566
                },
                {
                  "INSTNM": false,
                  "TUITIONFEE_IN": false,
                  "_deepnote_index_column": 7567
                },
                {
                  "INSTNM": false,
                  "TUITIONFEE_IN": false,
                  "_deepnote_index_column": 7568
                },
                {
                  "INSTNM": false,
                  "TUITIONFEE_IN": true,
                  "_deepnote_index_column": 7569
                },
                {
                  "INSTNM": false,
                  "TUITIONFEE_IN": true,
                  "_deepnote_index_column": 7570
                },
                {
                  "INSTNM": false,
                  "TUITIONFEE_IN": true,
                  "_deepnote_index_column": 7571
                },
                {
                  "INSTNM": false,
                  "TUITIONFEE_IN": false,
                  "_deepnote_index_column": 7572
                },
                {
                  "INSTNM": false,
                  "TUITIONFEE_IN": false,
                  "_deepnote_index_column": 7573
                },
                {
                  "INSTNM": false,
                  "TUITIONFEE_IN": false,
                  "_deepnote_index_column": 7574
                },
                {
                  "INSTNM": false,
                  "TUITIONFEE_IN": false,
                  "_deepnote_index_column": 7575
                },
                {
                  "INSTNM": false,
                  "TUITIONFEE_IN": false,
                  "_deepnote_index_column": 7576
                },
                {
                  "INSTNM": false,
                  "TUITIONFEE_IN": false,
                  "_deepnote_index_column": 7577
                },
                {
                  "INSTNM": false,
                  "TUITIONFEE_IN": true,
                  "_deepnote_index_column": 7578
                },
                {
                  "INSTNM": false,
                  "TUITIONFEE_IN": false,
                  "_deepnote_index_column": 7579
                },
                {
                  "INSTNM": false,
                  "TUITIONFEE_IN": true,
                  "_deepnote_index_column": 7580
                },
                {
                  "INSTNM": false,
                  "TUITIONFEE_IN": false,
                  "_deepnote_index_column": 7581
                },
                {
                  "INSTNM": false,
                  "TUITIONFEE_IN": true,
                  "_deepnote_index_column": 7582
                },
                {
                  "INSTNM": false,
                  "TUITIONFEE_IN": false,
                  "_deepnote_index_column": 7583
                },
                {
                  "INSTNM": false,
                  "TUITIONFEE_IN": false,
                  "_deepnote_index_column": 7584
                },
                {
                  "INSTNM": false,
                  "TUITIONFEE_IN": true,
                  "_deepnote_index_column": 7585
                },
                {
                  "INSTNM": false,
                  "TUITIONFEE_IN": true,
                  "_deepnote_index_column": 7586
                },
                {
                  "INSTNM": false,
                  "TUITIONFEE_IN": true,
                  "_deepnote_index_column": 7587
                },
                {
                  "INSTNM": false,
                  "TUITIONFEE_IN": true,
                  "_deepnote_index_column": 7588
                },
                {
                  "INSTNM": false,
                  "TUITIONFEE_IN": false,
                  "_deepnote_index_column": 7589
                },
                {
                  "INSTNM": false,
                  "TUITIONFEE_IN": false,
                  "_deepnote_index_column": 7590
                },
                {
                  "INSTNM": false,
                  "TUITIONFEE_IN": false,
                  "_deepnote_index_column": 7591
                },
                {
                  "INSTNM": false,
                  "TUITIONFEE_IN": false,
                  "_deepnote_index_column": 7592
                },
                {
                  "INSTNM": false,
                  "TUITIONFEE_IN": false,
                  "_deepnote_index_column": 7593
                },
                {
                  "INSTNM": false,
                  "TUITIONFEE_IN": false,
                  "_deepnote_index_column": 7594
                },
                {
                  "INSTNM": false,
                  "TUITIONFEE_IN": false,
                  "_deepnote_index_column": 7595
                },
                {
                  "INSTNM": false,
                  "TUITIONFEE_IN": false,
                  "_deepnote_index_column": 7596
                },
                {
                  "INSTNM": false,
                  "TUITIONFEE_IN": false,
                  "_deepnote_index_column": 7597
                },
                {
                  "INSTNM": false,
                  "TUITIONFEE_IN": false,
                  "_deepnote_index_column": 7598
                },
                {
                  "INSTNM": false,
                  "TUITIONFEE_IN": false,
                  "_deepnote_index_column": 7599
                },
                {
                  "INSTNM": false,
                  "TUITIONFEE_IN": true,
                  "_deepnote_index_column": 7600
                },
                {
                  "INSTNM": false,
                  "TUITIONFEE_IN": false,
                  "_deepnote_index_column": 7601
                },
                {
                  "INSTNM": false,
                  "TUITIONFEE_IN": true,
                  "_deepnote_index_column": 7602
                },
                {
                  "INSTNM": false,
                  "TUITIONFEE_IN": false,
                  "_deepnote_index_column": 7603
                },
                {
                  "INSTNM": false,
                  "TUITIONFEE_IN": false,
                  "_deepnote_index_column": 7604
                },
                {
                  "INSTNM": false,
                  "TUITIONFEE_IN": false,
                  "_deepnote_index_column": 7605
                },
                {
                  "INSTNM": false,
                  "TUITIONFEE_IN": false,
                  "_deepnote_index_column": 7606
                },
                {
                  "INSTNM": false,
                  "TUITIONFEE_IN": false,
                  "_deepnote_index_column": 7607
                },
                {
                  "INSTNM": false,
                  "TUITIONFEE_IN": false,
                  "_deepnote_index_column": 7608
                },
                {
                  "INSTNM": false,
                  "TUITIONFEE_IN": false,
                  "_deepnote_index_column": 7609
                },
                {
                  "INSTNM": false,
                  "TUITIONFEE_IN": false,
                  "_deepnote_index_column": 7610
                },
                {
                  "INSTNM": false,
                  "TUITIONFEE_IN": false,
                  "_deepnote_index_column": 7611
                },
                {
                  "INSTNM": false,
                  "TUITIONFEE_IN": false,
                  "_deepnote_index_column": 7612
                },
                {
                  "INSTNM": false,
                  "TUITIONFEE_IN": false,
                  "_deepnote_index_column": 7613
                },
                {
                  "INSTNM": false,
                  "TUITIONFEE_IN": false,
                  "_deepnote_index_column": 7614
                },
                {
                  "INSTNM": false,
                  "TUITIONFEE_IN": false,
                  "_deepnote_index_column": 7615
                },
                {
                  "INSTNM": false,
                  "TUITIONFEE_IN": false,
                  "_deepnote_index_column": 7616
                },
                {
                  "INSTNM": false,
                  "TUITIONFEE_IN": false,
                  "_deepnote_index_column": 7617
                },
                {
                  "INSTNM": false,
                  "TUITIONFEE_IN": false,
                  "_deepnote_index_column": 7618
                },
                {
                  "INSTNM": false,
                  "TUITIONFEE_IN": false,
                  "_deepnote_index_column": 7619
                },
                {
                  "INSTNM": false,
                  "TUITIONFEE_IN": false,
                  "_deepnote_index_column": 7620
                },
                {
                  "INSTNM": false,
                  "TUITIONFEE_IN": false,
                  "_deepnote_index_column": 7621
                },
                {
                  "INSTNM": false,
                  "TUITIONFEE_IN": false,
                  "_deepnote_index_column": 7622
                },
                {
                  "INSTNM": false,
                  "TUITIONFEE_IN": false,
                  "_deepnote_index_column": 7623
                },
                {
                  "INSTNM": false,
                  "TUITIONFEE_IN": false,
                  "_deepnote_index_column": 7624
                },
                {
                  "INSTNM": false,
                  "TUITIONFEE_IN": false,
                  "_deepnote_index_column": 7625
                },
                {
                  "INSTNM": false,
                  "TUITIONFEE_IN": false,
                  "_deepnote_index_column": 7626
                },
                {
                  "INSTNM": false,
                  "TUITIONFEE_IN": true,
                  "_deepnote_index_column": 7627
                },
                {
                  "INSTNM": false,
                  "TUITIONFEE_IN": true,
                  "_deepnote_index_column": 7628
                },
                {
                  "INSTNM": false,
                  "TUITIONFEE_IN": true,
                  "_deepnote_index_column": 7629
                },
                {
                  "INSTNM": false,
                  "TUITIONFEE_IN": true,
                  "_deepnote_index_column": 7630
                },
                {
                  "INSTNM": false,
                  "TUITIONFEE_IN": true,
                  "_deepnote_index_column": 7631
                },
                {
                  "INSTNM": false,
                  "TUITIONFEE_IN": true,
                  "_deepnote_index_column": 7632
                },
                {
                  "INSTNM": false,
                  "TUITIONFEE_IN": true,
                  "_deepnote_index_column": 7633
                },
                {
                  "INSTNM": false,
                  "TUITIONFEE_IN": true,
                  "_deepnote_index_column": 7634
                },
                {
                  "INSTNM": false,
                  "TUITIONFEE_IN": true,
                  "_deepnote_index_column": 7635
                },
                {
                  "INSTNM": false,
                  "TUITIONFEE_IN": true,
                  "_deepnote_index_column": 7636
                },
                {
                  "INSTNM": false,
                  "TUITIONFEE_IN": true,
                  "_deepnote_index_column": 7637
                },
                {
                  "INSTNM": false,
                  "TUITIONFEE_IN": true,
                  "_deepnote_index_column": 7638
                },
                {
                  "INSTNM": false,
                  "TUITIONFEE_IN": true,
                  "_deepnote_index_column": 7639
                },
                {
                  "INSTNM": false,
                  "TUITIONFEE_IN": true,
                  "_deepnote_index_column": 7640
                },
                {
                  "INSTNM": false,
                  "TUITIONFEE_IN": false,
                  "_deepnote_index_column": 7641
                },
                {
                  "INSTNM": false,
                  "TUITIONFEE_IN": false,
                  "_deepnote_index_column": 7642
                },
                {
                  "INSTNM": false,
                  "TUITIONFEE_IN": true,
                  "_deepnote_index_column": 7643
                },
                {
                  "INSTNM": false,
                  "TUITIONFEE_IN": true,
                  "_deepnote_index_column": 7644
                },
                {
                  "INSTNM": false,
                  "TUITIONFEE_IN": false,
                  "_deepnote_index_column": 7645
                },
                {
                  "INSTNM": false,
                  "TUITIONFEE_IN": false,
                  "_deepnote_index_column": 7646
                },
                {
                  "INSTNM": false,
                  "TUITIONFEE_IN": false,
                  "_deepnote_index_column": 7647
                },
                {
                  "INSTNM": false,
                  "TUITIONFEE_IN": false,
                  "_deepnote_index_column": 7648
                },
                {
                  "INSTNM": false,
                  "TUITIONFEE_IN": false,
                  "_deepnote_index_column": 7649
                },
                {
                  "INSTNM": false,
                  "TUITIONFEE_IN": false,
                  "_deepnote_index_column": 7650
                },
                {
                  "INSTNM": false,
                  "TUITIONFEE_IN": true,
                  "_deepnote_index_column": 7651
                },
                {
                  "INSTNM": false,
                  "TUITIONFEE_IN": true,
                  "_deepnote_index_column": 7652
                },
                {
                  "INSTNM": false,
                  "TUITIONFEE_IN": true,
                  "_deepnote_index_column": 7653
                },
                {
                  "INSTNM": false,
                  "TUITIONFEE_IN": true,
                  "_deepnote_index_column": 7654
                },
                {
                  "INSTNM": false,
                  "TUITIONFEE_IN": false,
                  "_deepnote_index_column": 7655
                },
                {
                  "INSTNM": false,
                  "TUITIONFEE_IN": false,
                  "_deepnote_index_column": 7656
                },
                {
                  "INSTNM": false,
                  "TUITIONFEE_IN": false,
                  "_deepnote_index_column": 7657
                },
                {
                  "INSTNM": false,
                  "TUITIONFEE_IN": false,
                  "_deepnote_index_column": 7658
                },
                {
                  "INSTNM": false,
                  "TUITIONFEE_IN": false,
                  "_deepnote_index_column": 7659
                },
                {
                  "INSTNM": false,
                  "TUITIONFEE_IN": false,
                  "_deepnote_index_column": 7660
                },
                {
                  "INSTNM": false,
                  "TUITIONFEE_IN": false,
                  "_deepnote_index_column": 7661
                },
                {
                  "INSTNM": false,
                  "TUITIONFEE_IN": false,
                  "_deepnote_index_column": 7662
                },
                {
                  "INSTNM": false,
                  "TUITIONFEE_IN": false,
                  "_deepnote_index_column": 7663
                },
                {
                  "INSTNM": false,
                  "TUITIONFEE_IN": true,
                  "_deepnote_index_column": 7664
                },
                {
                  "INSTNM": false,
                  "TUITIONFEE_IN": true,
                  "_deepnote_index_column": 7665
                },
                {
                  "INSTNM": false,
                  "TUITIONFEE_IN": true,
                  "_deepnote_index_column": 7666
                },
                {
                  "INSTNM": false,
                  "TUITIONFEE_IN": true,
                  "_deepnote_index_column": 7667
                },
                {
                  "INSTNM": false,
                  "TUITIONFEE_IN": false,
                  "_deepnote_index_column": 7668
                },
                {
                  "INSTNM": false,
                  "TUITIONFEE_IN": false,
                  "_deepnote_index_column": 7669
                },
                {
                  "INSTNM": false,
                  "TUITIONFEE_IN": false,
                  "_deepnote_index_column": 7670
                },
                {
                  "INSTNM": false,
                  "TUITIONFEE_IN": false,
                  "_deepnote_index_column": 7671
                },
                {
                  "INSTNM": false,
                  "TUITIONFEE_IN": false,
                  "_deepnote_index_column": 7672
                },
                {
                  "INSTNM": false,
                  "TUITIONFEE_IN": false,
                  "_deepnote_index_column": 7673
                },
                {
                  "INSTNM": false,
                  "TUITIONFEE_IN": true,
                  "_deepnote_index_column": 7674
                },
                {
                  "INSTNM": false,
                  "TUITIONFEE_IN": true,
                  "_deepnote_index_column": 7675
                },
                {
                  "INSTNM": false,
                  "TUITIONFEE_IN": true,
                  "_deepnote_index_column": 7676
                },
                {
                  "INSTNM": false,
                  "TUITIONFEE_IN": true,
                  "_deepnote_index_column": 7677
                },
                {
                  "INSTNM": false,
                  "TUITIONFEE_IN": true,
                  "_deepnote_index_column": 7678
                },
                {
                  "INSTNM": false,
                  "TUITIONFEE_IN": true,
                  "_deepnote_index_column": 7679
                },
                {
                  "INSTNM": false,
                  "TUITIONFEE_IN": true,
                  "_deepnote_index_column": 7680
                },
                {
                  "INSTNM": false,
                  "TUITIONFEE_IN": true,
                  "_deepnote_index_column": 7681
                },
                {
                  "INSTNM": false,
                  "TUITIONFEE_IN": true,
                  "_deepnote_index_column": 7682
                },
                {
                  "INSTNM": false,
                  "TUITIONFEE_IN": false,
                  "_deepnote_index_column": 7683
                },
                {
                  "INSTNM": false,
                  "TUITIONFEE_IN": false,
                  "_deepnote_index_column": 7684
                },
                {
                  "INSTNM": false,
                  "TUITIONFEE_IN": false,
                  "_deepnote_index_column": 7685
                },
                {
                  "INSTNM": false,
                  "TUITIONFEE_IN": false,
                  "_deepnote_index_column": 7686
                },
                {
                  "INSTNM": false,
                  "TUITIONFEE_IN": false,
                  "_deepnote_index_column": 7687
                },
                {
                  "INSTNM": false,
                  "TUITIONFEE_IN": false,
                  "_deepnote_index_column": 7688
                },
                {
                  "INSTNM": false,
                  "TUITIONFEE_IN": false,
                  "_deepnote_index_column": 7689
                },
                {
                  "INSTNM": false,
                  "TUITIONFEE_IN": false,
                  "_deepnote_index_column": 7690
                },
                {
                  "INSTNM": false,
                  "TUITIONFEE_IN": false,
                  "_deepnote_index_column": 7691
                },
                {
                  "INSTNM": false,
                  "TUITIONFEE_IN": true,
                  "_deepnote_index_column": 7692
                },
                {
                  "INSTNM": false,
                  "TUITIONFEE_IN": true,
                  "_deepnote_index_column": 7693
                },
                {
                  "INSTNM": false,
                  "TUITIONFEE_IN": true,
                  "_deepnote_index_column": 7694
                },
                {
                  "INSTNM": false,
                  "TUITIONFEE_IN": true,
                  "_deepnote_index_column": 7695
                },
                {
                  "INSTNM": false,
                  "TUITIONFEE_IN": true,
                  "_deepnote_index_column": 7696
                },
                {
                  "INSTNM": false,
                  "TUITIONFEE_IN": true,
                  "_deepnote_index_column": 7697
                },
                {
                  "INSTNM": false,
                  "TUITIONFEE_IN": true,
                  "_deepnote_index_column": 7698
                },
                {
                  "INSTNM": false,
                  "TUITIONFEE_IN": false,
                  "_deepnote_index_column": 7699
                },
                {
                  "INSTNM": false,
                  "TUITIONFEE_IN": false,
                  "_deepnote_index_column": 7700
                },
                {
                  "INSTNM": false,
                  "TUITIONFEE_IN": false,
                  "_deepnote_index_column": 7701
                },
                {
                  "INSTNM": false,
                  "TUITIONFEE_IN": false,
                  "_deepnote_index_column": 7702
                },
                {
                  "INSTNM": false,
                  "TUITIONFEE_IN": false,
                  "_deepnote_index_column": 7703
                },
                {
                  "INSTNM": false,
                  "TUITIONFEE_IN": false,
                  "_deepnote_index_column": 7704
                },
                {
                  "INSTNM": false,
                  "TUITIONFEE_IN": false,
                  "_deepnote_index_column": 7705
                },
                {
                  "INSTNM": false,
                  "TUITIONFEE_IN": false,
                  "_deepnote_index_column": 7706
                },
                {
                  "INSTNM": false,
                  "TUITIONFEE_IN": false,
                  "_deepnote_index_column": 7707
                },
                {
                  "INSTNM": false,
                  "TUITIONFEE_IN": false,
                  "_deepnote_index_column": 7708
                },
                {
                  "INSTNM": false,
                  "TUITIONFEE_IN": false,
                  "_deepnote_index_column": 7709
                },
                {
                  "INSTNM": false,
                  "TUITIONFEE_IN": false,
                  "_deepnote_index_column": 7710
                },
                {
                  "INSTNM": false,
                  "TUITIONFEE_IN": false,
                  "_deepnote_index_column": 7711
                },
                {
                  "INSTNM": false,
                  "TUITIONFEE_IN": false,
                  "_deepnote_index_column": 7712
                },
                {
                  "INSTNM": false,
                  "TUITIONFEE_IN": true,
                  "_deepnote_index_column": 7713
                },
                {
                  "INSTNM": false,
                  "TUITIONFEE_IN": false,
                  "_deepnote_index_column": 7714
                },
                {
                  "INSTNM": false,
                  "TUITIONFEE_IN": false,
                  "_deepnote_index_column": 7715
                },
                {
                  "INSTNM": false,
                  "TUITIONFEE_IN": false,
                  "_deepnote_index_column": 7716
                },
                {
                  "INSTNM": false,
                  "TUITIONFEE_IN": true,
                  "_deepnote_index_column": 7717
                },
                {
                  "INSTNM": false,
                  "TUITIONFEE_IN": false,
                  "_deepnote_index_column": 7718
                },
                {
                  "INSTNM": false,
                  "TUITIONFEE_IN": false,
                  "_deepnote_index_column": 7719
                },
                {
                  "INSTNM": false,
                  "TUITIONFEE_IN": false,
                  "_deepnote_index_column": 7720
                },
                {
                  "INSTNM": false,
                  "TUITIONFEE_IN": false,
                  "_deepnote_index_column": 7721
                },
                {
                  "INSTNM": false,
                  "TUITIONFEE_IN": false,
                  "_deepnote_index_column": 7722
                },
                {
                  "INSTNM": false,
                  "TUITIONFEE_IN": false,
                  "_deepnote_index_column": 7723
                },
                {
                  "INSTNM": false,
                  "TUITIONFEE_IN": false,
                  "_deepnote_index_column": 7724
                },
                {
                  "INSTNM": false,
                  "TUITIONFEE_IN": false,
                  "_deepnote_index_column": 7725
                },
                {
                  "INSTNM": false,
                  "TUITIONFEE_IN": false,
                  "_deepnote_index_column": 7726
                },
                {
                  "INSTNM": false,
                  "TUITIONFEE_IN": false,
                  "_deepnote_index_column": 7727
                },
                {
                  "INSTNM": false,
                  "TUITIONFEE_IN": false,
                  "_deepnote_index_column": 7728
                },
                {
                  "INSTNM": false,
                  "TUITIONFEE_IN": false,
                  "_deepnote_index_column": 7729
                },
                {
                  "INSTNM": false,
                  "TUITIONFEE_IN": true,
                  "_deepnote_index_column": 7730
                },
                {
                  "INSTNM": false,
                  "TUITIONFEE_IN": true,
                  "_deepnote_index_column": 7731
                },
                {
                  "INSTNM": false,
                  "TUITIONFEE_IN": true,
                  "_deepnote_index_column": 7732
                },
                {
                  "INSTNM": false,
                  "TUITIONFEE_IN": true,
                  "_deepnote_index_column": 7733
                },
                {
                  "INSTNM": false,
                  "TUITIONFEE_IN": true,
                  "_deepnote_index_column": 7734
                },
                {
                  "INSTNM": false,
                  "TUITIONFEE_IN": true,
                  "_deepnote_index_column": 7735
                },
                {
                  "INSTNM": false,
                  "TUITIONFEE_IN": true,
                  "_deepnote_index_column": 7736
                },
                {
                  "INSTNM": false,
                  "TUITIONFEE_IN": false,
                  "_deepnote_index_column": 7737
                },
                {
                  "INSTNM": false,
                  "TUITIONFEE_IN": false,
                  "_deepnote_index_column": 7738
                },
                {
                  "INSTNM": false,
                  "TUITIONFEE_IN": false,
                  "_deepnote_index_column": 7739
                },
                {
                  "INSTNM": false,
                  "TUITIONFEE_IN": false,
                  "_deepnote_index_column": 7740
                },
                {
                  "INSTNM": false,
                  "TUITIONFEE_IN": false,
                  "_deepnote_index_column": 7741
                },
                {
                  "INSTNM": false,
                  "TUITIONFEE_IN": false,
                  "_deepnote_index_column": 7742
                },
                {
                  "INSTNM": false,
                  "TUITIONFEE_IN": false,
                  "_deepnote_index_column": 7743
                },
                {
                  "INSTNM": false,
                  "TUITIONFEE_IN": false,
                  "_deepnote_index_column": 7744
                },
                {
                  "INSTNM": false,
                  "TUITIONFEE_IN": false,
                  "_deepnote_index_column": 7745
                },
                {
                  "INSTNM": false,
                  "TUITIONFEE_IN": false,
                  "_deepnote_index_column": 7746
                },
                {
                  "INSTNM": false,
                  "TUITIONFEE_IN": false,
                  "_deepnote_index_column": 7747
                },
                {
                  "INSTNM": false,
                  "TUITIONFEE_IN": false,
                  "_deepnote_index_column": 7748
                },
                {
                  "INSTNM": false,
                  "TUITIONFEE_IN": false,
                  "_deepnote_index_column": 7749
                },
                {
                  "INSTNM": false,
                  "TUITIONFEE_IN": false,
                  "_deepnote_index_column": 7750
                },
                {
                  "INSTNM": false,
                  "TUITIONFEE_IN": false,
                  "_deepnote_index_column": 7751
                },
                {
                  "INSTNM": false,
                  "TUITIONFEE_IN": false,
                  "_deepnote_index_column": 7752
                },
                {
                  "INSTNM": false,
                  "TUITIONFEE_IN": false,
                  "_deepnote_index_column": 7753
                },
                {
                  "INSTNM": false,
                  "TUITIONFEE_IN": false,
                  "_deepnote_index_column": 7754
                },
                {
                  "INSTNM": false,
                  "TUITIONFEE_IN": false,
                  "_deepnote_index_column": 7755
                },
                {
                  "INSTNM": false,
                  "TUITIONFEE_IN": false,
                  "_deepnote_index_column": 7756
                },
                {
                  "INSTNM": false,
                  "TUITIONFEE_IN": true,
                  "_deepnote_index_column": 7757
                },
                {
                  "INSTNM": false,
                  "TUITIONFEE_IN": true,
                  "_deepnote_index_column": 7758
                },
                {
                  "INSTNM": false,
                  "TUITIONFEE_IN": true,
                  "_deepnote_index_column": 7759
                },
                {
                  "INSTNM": false,
                  "TUITIONFEE_IN": true,
                  "_deepnote_index_column": 7760
                },
                {
                  "INSTNM": false,
                  "TUITIONFEE_IN": false,
                  "_deepnote_index_column": 7761
                },
                {
                  "INSTNM": false,
                  "TUITIONFEE_IN": true,
                  "_deepnote_index_column": 7762
                },
                {
                  "INSTNM": false,
                  "TUITIONFEE_IN": true,
                  "_deepnote_index_column": 7763
                },
                {
                  "INSTNM": false,
                  "TUITIONFEE_IN": false,
                  "_deepnote_index_column": 7764
                },
                {
                  "INSTNM": false,
                  "TUITIONFEE_IN": true,
                  "_deepnote_index_column": 7765
                }
              ]
            },
            "text/plain": "      INSTNM  TUITIONFEE_IN\n0      False          False\n1      False          False\n2      False          False\n3      False          False\n4      False          False\n...      ...            ...\n7761   False          False\n7762   False           True\n7763   False           True\n7764   False          False\n7765   False           True\n\n[7766 rows x 2 columns]",
            "text/html": "<div>\n<style scoped>\n    .dataframe tbody tr th:only-of-type {\n        vertical-align: middle;\n    }\n\n    .dataframe tbody tr th {\n        vertical-align: top;\n    }\n\n    .dataframe thead th {\n        text-align: right;\n    }\n</style>\n<table border=\"1\" class=\"dataframe\">\n  <thead>\n    <tr style=\"text-align: right;\">\n      <th></th>\n      <th>INSTNM</th>\n      <th>TUITIONFEE_IN</th>\n    </tr>\n  </thead>\n  <tbody>\n    <tr>\n      <th>0</th>\n      <td>False</td>\n      <td>False</td>\n    </tr>\n    <tr>\n      <th>1</th>\n      <td>False</td>\n      <td>False</td>\n    </tr>\n    <tr>\n      <th>2</th>\n      <td>False</td>\n      <td>False</td>\n    </tr>\n    <tr>\n      <th>3</th>\n      <td>False</td>\n      <td>False</td>\n    </tr>\n    <tr>\n      <th>4</th>\n      <td>False</td>\n      <td>False</td>\n    </tr>\n    <tr>\n      <th>...</th>\n      <td>...</td>\n      <td>...</td>\n    </tr>\n    <tr>\n      <th>7761</th>\n      <td>False</td>\n      <td>False</td>\n    </tr>\n    <tr>\n      <th>7762</th>\n      <td>False</td>\n      <td>True</td>\n    </tr>\n    <tr>\n      <th>7763</th>\n      <td>False</td>\n      <td>True</td>\n    </tr>\n    <tr>\n      <th>7764</th>\n      <td>False</td>\n      <td>False</td>\n    </tr>\n    <tr>\n      <th>7765</th>\n      <td>False</td>\n      <td>True</td>\n    </tr>\n  </tbody>\n</table>\n<p>7766 rows × 2 columns</p>\n</div>"
          },
          "metadata": {}
        }
      ]
    },
    {
      "cell_type": "markdown",
      "source": "#### Count the number of missing values in each column",
      "metadata": {
        "tags": [],
        "cell_id": "00019-cc37d1b5-f0df-4956-8ab1-f0f821fc183f",
        "deepnote_cell_type": "markdown"
      }
    },
    {
      "cell_type": "code",
      "metadata": {
        "tags": [],
        "cell_id": "00017-b6ca813a-26f4-463a-8dca-af448a0112c9",
        "deepnote_to_be_reexecuted": false,
        "source_hash": "f3dd26da",
        "execution_millis": 14,
        "execution_start": 1619386260738,
        "deepnote_cell_type": "code"
      },
      "source": "df.isnull().sum()",
      "execution_count": 11,
      "outputs": [
        {
          "output_type": "execute_result",
          "execution_count": 11,
          "data": {
            "text/plain": "INSTNM              0\nTUITIONFEE_IN    3359\ndtype: int64"
          },
          "metadata": {}
        }
      ]
    },
    {
      "cell_type": "markdown",
      "source": "### 6 - Drop those observations with missing value\n### Display the number of observations afterward",
      "metadata": {
        "tags": [],
        "cell_id": "00021-9c143b7d-cd80-4e23-a699-fde8fd1844e5",
        "deepnote_cell_type": "markdown"
      }
    },
    {
      "cell_type": "markdown",
      "source": "#### Keep the DataFrame with valid entries in the same variable.",
      "metadata": {
        "tags": [],
        "cell_id": "00022-cfe8ba38-4005-48ad-868f-cdea2bb39930",
        "deepnote_cell_type": "markdown"
      }
    },
    {
      "cell_type": "code",
      "metadata": {
        "tags": [],
        "cell_id": "00023-1a5aacdf-23a1-4b1d-acca-0b1551ca38e9",
        "deepnote_to_be_reexecuted": false,
        "source_hash": "1c71098a",
        "execution_millis": 53,
        "execution_start": 1619386260749,
        "deepnote_cell_type": "code"
      },
      "source": "df.dropna(inplace=True)\ndf",
      "execution_count": 12,
      "outputs": [
        {
          "output_type": "execute_result",
          "execution_count": 12,
          "data": {
            "application/vnd.deepnote.dataframe.v2+json": {
              "row_count": 4407,
              "column_count": 2,
              "columns": [
                {
                  "name": "INSTNM",
                  "dtype": "object",
                  "stats": {
                    "unique_count": 4338,
                    "nan_count": 0,
                    "categories": [
                      {
                        "name": "Stevens-Henager College",
                        "count": 7
                      },
                      {
                        "name": "McCann School of Business & Technology",
                        "count": 7
                      },
                      {
                        "name": "4336 others",
                        "count": 4393
                      }
                    ]
                  }
                },
                {
                  "name": "TUITIONFEE_IN",
                  "dtype": "float64",
                  "stats": {
                    "unique_count": 3006,
                    "nan_count": 0,
                    "min": "0.0",
                    "max": "74787.0",
                    "histogram": [
                      {
                        "bin_start": 0,
                        "bin_end": 7478.7,
                        "count": 1501
                      },
                      {
                        "bin_start": 7478.7,
                        "bin_end": 14957.4,
                        "count": 1282
                      },
                      {
                        "bin_start": 14957.4,
                        "bin_end": 22436.1,
                        "count": 782
                      },
                      {
                        "bin_start": 22436.1,
                        "bin_end": 29914.8,
                        "count": 359
                      },
                      {
                        "bin_start": 29914.8,
                        "bin_end": 37393.5,
                        "count": 255
                      },
                      {
                        "bin_start": 37393.5,
                        "bin_end": 44872.2,
                        "count": 133
                      },
                      {
                        "bin_start": 44872.2,
                        "bin_end": 52350.9,
                        "count": 94
                      },
                      {
                        "bin_start": 52350.9,
                        "bin_end": 59829.6,
                        "count": 0
                      },
                      {
                        "bin_start": 59829.6,
                        "bin_end": 67308.3,
                        "count": 0
                      },
                      {
                        "bin_start": 67308.3,
                        "bin_end": 74787,
                        "count": 1
                      }
                    ]
                  }
                },
                {
                  "name": "_deepnote_index_column",
                  "dtype": "int64"
                }
              ],
              "rows_top": [
                {
                  "INSTNM": "Alabama A & M University",
                  "TUITIONFEE_IN": 9096,
                  "_deepnote_index_column": 0
                },
                {
                  "INSTNM": "University of Alabama at Birmingham",
                  "TUITIONFEE_IN": 7510,
                  "_deepnote_index_column": 1
                },
                {
                  "INSTNM": "Amridge University",
                  "TUITIONFEE_IN": 6900,
                  "_deepnote_index_column": 2
                },
                {
                  "INSTNM": "University of Alabama in Huntsville",
                  "TUITIONFEE_IN": 9158,
                  "_deepnote_index_column": 3
                },
                {
                  "INSTNM": "Alabama State University",
                  "TUITIONFEE_IN": 8720,
                  "_deepnote_index_column": 4
                },
                {
                  "INSTNM": "The University of Alabama",
                  "TUITIONFEE_IN": 9826,
                  "_deepnote_index_column": 5
                },
                {
                  "INSTNM": "Central Alabama Community College",
                  "TUITIONFEE_IN": 3491,
                  "_deepnote_index_column": 6
                },
                {
                  "INSTNM": "Auburn University at Montgomery",
                  "TUITIONFEE_IN": 9080,
                  "_deepnote_index_column": 8
                },
                {
                  "INSTNM": "Auburn University",
                  "TUITIONFEE_IN": 10200,
                  "_deepnote_index_column": 9
                },
                {
                  "INSTNM": "Birmingham-Southern College",
                  "TUITIONFEE_IN": 31708,
                  "_deepnote_index_column": 10
                },
                {
                  "INSTNM": "Chattahoochee Valley Community College",
                  "TUITIONFEE_IN": 4320,
                  "_deepnote_index_column": 11
                },
                {
                  "INSTNM": "Concordia College Alabama",
                  "TUITIONFEE_IN": 10320,
                  "_deepnote_index_column": 12
                },
                {
                  "INSTNM": "South University-Montgomery",
                  "TUITIONFEE_IN": 16360,
                  "_deepnote_index_column": 13
                },
                {
                  "INSTNM": "Enterprise State Community College",
                  "TUITIONFEE_IN": 3976,
                  "_deepnote_index_column": 14
                },
                {
                  "INSTNM": "Coastal Alabama Community College",
                  "TUITIONFEE_IN": 4260,
                  "_deepnote_index_column": 15
                },
                {
                  "INSTNM": "Faulkner University",
                  "TUITIONFEE_IN": 18750,
                  "_deepnote_index_column": 16
                },
                {
                  "INSTNM": "Gadsden State Community College",
                  "TUITIONFEE_IN": 3168,
                  "_deepnote_index_column": 17
                },
                {
                  "INSTNM": "George C Wallace Community College-Dothan",
                  "TUITIONFEE_IN": 3960,
                  "_deepnote_index_column": 19
                },
                {
                  "INSTNM": "George C Wallace State Community College-Hanceville",
                  "TUITIONFEE_IN": 4260,
                  "_deepnote_index_column": 20
                },
                {
                  "INSTNM": "George C Wallace State Community College-Selma",
                  "TUITIONFEE_IN": 3960,
                  "_deepnote_index_column": 21
                },
                {
                  "INSTNM": "Herzing University-Birmingham",
                  "TUITIONFEE_IN": 12790,
                  "_deepnote_index_column": 22
                },
                {
                  "INSTNM": "Huntingdon College",
                  "TUITIONFEE_IN": 24550,
                  "_deepnote_index_column": 23
                },
                {
                  "INSTNM": "Heritage Christian University",
                  "TUITIONFEE_IN": 9792,
                  "_deepnote_index_column": 24
                },
                {
                  "INSTNM": "J. F. Drake State Community and Technical College",
                  "TUITIONFEE_IN": 3384,
                  "_deepnote_index_column": 25
                },
                {
                  "INSTNM": "J F Ingram State Technical College",
                  "TUITIONFEE_IN": 4752,
                  "_deepnote_index_column": 26
                },
                {
                  "INSTNM": "Jacksonville State University",
                  "TUITIONFEE_IN": 7092,
                  "_deepnote_index_column": 27
                },
                {
                  "INSTNM": "Jefferson Davis Community College",
                  "TUITIONFEE_IN": 3968,
                  "_deepnote_index_column": 28
                },
                {
                  "INSTNM": "Jefferson State Community College",
                  "TUITIONFEE_IN": 4320,
                  "_deepnote_index_column": 29
                },
                {
                  "INSTNM": "John C Calhoun State Community College",
                  "TUITIONFEE_IN": 4260,
                  "_deepnote_index_column": 30
                },
                {
                  "INSTNM": "Judson College",
                  "TUITIONFEE_IN": 16258,
                  "_deepnote_index_column": 31
                },
                {
                  "INSTNM": "Lawson State Community College",
                  "TUITIONFEE_IN": 4290,
                  "_deepnote_index_column": 32
                },
                {
                  "INSTNM": "University of West Alabama",
                  "TUITIONFEE_IN": 8018,
                  "_deepnote_index_column": 33
                },
                {
                  "INSTNM": "Lurleen B Wallace Community College",
                  "TUITIONFEE_IN": 4230,
                  "_deepnote_index_column": 34
                },
                {
                  "INSTNM": "Marion Military Institute",
                  "TUITIONFEE_IN": 8778,
                  "_deepnote_index_column": 35
                },
                {
                  "INSTNM": "Miles College",
                  "TUITIONFEE_IN": 11604,
                  "_deepnote_index_column": 36
                },
                {
                  "INSTNM": "University of Mobile",
                  "TUITIONFEE_IN": 19475,
                  "_deepnote_index_column": 37
                },
                {
                  "INSTNM": "University of Montevallo",
                  "TUITIONFEE_IN": 10660,
                  "_deepnote_index_column": 38
                },
                {
                  "INSTNM": "Northwest-Shoals Community College",
                  "TUITIONFEE_IN": 4231,
                  "_deepnote_index_column": 39
                },
                {
                  "INSTNM": "University of North Alabama",
                  "TUITIONFEE_IN": 7412,
                  "_deepnote_index_column": 40
                },
                {
                  "INSTNM": "Northeast Alabama Community College",
                  "TUITIONFEE_IN": 4260,
                  "_deepnote_index_column": 41
                },
                {
                  "INSTNM": "Oakwood University",
                  "TUITIONFEE_IN": 16720,
                  "_deepnote_index_column": 42
                },
                {
                  "INSTNM": "Alabama Southern Community College",
                  "TUITIONFEE_IN": 4260,
                  "_deepnote_index_column": 43
                },
                {
                  "INSTNM": "Prince Institute-Southeast",
                  "TUITIONFEE_IN": 9685,
                  "_deepnote_index_column": 44
                },
                {
                  "INSTNM": "Reid State Technical College",
                  "TUITIONFEE_IN": 4320,
                  "_deepnote_index_column": 45
                },
                {
                  "INSTNM": "Bishop State Community College",
                  "TUITIONFEE_IN": 4260,
                  "_deepnote_index_column": 46
                },
                {
                  "INSTNM": "Samford University",
                  "TUITIONFEE_IN": 27324,
                  "_deepnote_index_column": 47
                },
                {
                  "INSTNM": "Selma University",
                  "TUITIONFEE_IN": 6680,
                  "_deepnote_index_column": 48
                },
                {
                  "INSTNM": "Shelton State Community College",
                  "TUITIONFEE_IN": 3960,
                  "_deepnote_index_column": 49
                },
                {
                  "INSTNM": "Snead State Community College",
                  "TUITIONFEE_IN": 4320,
                  "_deepnote_index_column": 50
                },
                {
                  "INSTNM": "University of South Alabama",
                  "TUITIONFEE_IN": 7188,
                  "_deepnote_index_column": 51
                },
                {
                  "INSTNM": "Spring Hill College",
                  "TUITIONFEE_IN": 32468,
                  "_deepnote_index_column": 52
                },
                {
                  "INSTNM": "Southeastern Bible College",
                  "TUITIONFEE_IN": 11370,
                  "_deepnote_index_column": 53
                },
                {
                  "INSTNM": "Stillman College",
                  "TUITIONFEE_IN": 15865,
                  "_deepnote_index_column": 54
                },
                {
                  "INSTNM": "Talladega College",
                  "TUITIONFEE_IN": 12509,
                  "_deepnote_index_column": 55
                },
                {
                  "INSTNM": "H Councill Trenholm State Community College",
                  "TUITIONFEE_IN": 3336,
                  "_deepnote_index_column": 56
                },
                {
                  "INSTNM": "Troy University",
                  "TUITIONFEE_IN": 7564,
                  "_deepnote_index_column": 57
                },
                {
                  "INSTNM": "Tuskegee University",
                  "TUITIONFEE_IN": 19570,
                  "_deepnote_index_column": 58
                },
                {
                  "INSTNM": "Bevill State Community College",
                  "TUITIONFEE_IN": 4290,
                  "_deepnote_index_column": 60
                },
                {
                  "INSTNM": "University of Alaska Anchorage",
                  "TUITIONFEE_IN": 5494,
                  "_deepnote_index_column": 61
                },
                {
                  "INSTNM": "Alaska Bible College",
                  "TUITIONFEE_IN": 9300,
                  "_deepnote_index_column": 62
                },
                {
                  "INSTNM": "University of Alaska Fairbanks",
                  "TUITIONFEE_IN": 5246,
                  "_deepnote_index_column": 63
                },
                {
                  "INSTNM": "University of Alaska Southeast",
                  "TUITIONFEE_IN": 5901,
                  "_deepnote_index_column": 64
                },
                {
                  "INSTNM": "Alaska Pacific University",
                  "TUITIONFEE_IN": 19610,
                  "_deepnote_index_column": 65
                },
                {
                  "INSTNM": "Charter College",
                  "TUITIONFEE_IN": 19532,
                  "_deepnote_index_column": 67
                },
                {
                  "INSTNM": "Everest College-Phoenix",
                  "TUITIONFEE_IN": 12204,
                  "_deepnote_index_column": 69
                },
                {
                  "INSTNM": "American Indian College Inc",
                  "TUITIONFEE_IN": 11700,
                  "_deepnote_index_column": 74
                },
                {
                  "INSTNM": "CollegeAmerica-Flagstaff",
                  "TUITIONFEE_IN": 16968,
                  "_deepnote_index_column": 79
                },
                {
                  "INSTNM": "Arizona State University-Tempe",
                  "TUITIONFEE_IN": 10157,
                  "_deepnote_index_column": 83
                },
                {
                  "INSTNM": "Arizona Western College",
                  "TUITIONFEE_IN": 2480,
                  "_deepnote_index_column": 84
                },
                {
                  "INSTNM": "University of Arizona",
                  "TUITIONFEE_IN": 10957,
                  "_deepnote_index_column": 85
                },
                {
                  "INSTNM": "Southwest University of Visual Arts-Tucson",
                  "TUITIONFEE_IN": 23069,
                  "_deepnote_index_column": 86
                },
                {
                  "INSTNM": "Central Arizona College",
                  "TUITIONFEE_IN": 2400,
                  "_deepnote_index_column": 87
                },
                {
                  "INSTNM": "Brown Mackie College-Tucson",
                  "TUITIONFEE_IN": 13203,
                  "_deepnote_index_column": 88
                },
                {
                  "INSTNM": "Cochise County Community College District",
                  "TUITIONFEE_IN": 1800,
                  "_deepnote_index_column": 90
                },
                {
                  "INSTNM": "Eastern Arizona College",
                  "TUITIONFEE_IN": 2000,
                  "_deepnote_index_column": 95
                },
                {
                  "INSTNM": "Embry-Riddle Aeronautical University-Prescott",
                  "TUITIONFEE_IN": 31648,
                  "_deepnote_index_column": 96
                },
                {
                  "INSTNM": "Glendale Community College",
                  "TUITIONFEE_IN": 2046,
                  "_deepnote_index_column": 98
                },
                {
                  "INSTNM": "Grand Canyon University",
                  "TUITIONFEE_IN": 17050,
                  "_deepnote_index_column": 99
                },
                {
                  "INSTNM": "GateWay Community College",
                  "TUITIONFEE_IN": 2046,
                  "_deepnote_index_column": 101
                },
                {
                  "INSTNM": "Mesa Community College",
                  "TUITIONFEE_IN": 2046,
                  "_deepnote_index_column": 102
                },
                {
                  "INSTNM": "ITT Technical Institute-Tucson",
                  "TUITIONFEE_IN": 18048,
                  "_deepnote_index_column": 103
                },
                {
                  "INSTNM": "ITT Technical Institute-Tempe",
                  "TUITIONFEE_IN": 18048,
                  "_deepnote_index_column": 104
                },
                {
                  "INSTNM": "Mohave Community College",
                  "TUITIONFEE_IN": 2088,
                  "_deepnote_index_column": 105
                },
                {
                  "INSTNM": "Dine College",
                  "TUITIONFEE_IN": 725,
                  "_deepnote_index_column": 107
                },
                {
                  "INSTNM": "Northern Arizona University",
                  "TUITIONFEE_IN": 9990,
                  "_deepnote_index_column": 108
                },
                {
                  "INSTNM": "Northland Pioneer College",
                  "TUITIONFEE_IN": 1664,
                  "_deepnote_index_column": 109
                },
                {
                  "INSTNM": "Ottawa University-Phoenix",
                  "TUITIONFEE_IN": 11670,
                  "_deepnote_index_column": 110
                },
                {
                  "INSTNM": "Phoenix College",
                  "TUITIONFEE_IN": 2046,
                  "_deepnote_index_column": 111
                },
                {
                  "INSTNM": "Pima Community College",
                  "TUITIONFEE_IN": 1844,
                  "_deepnote_index_column": 113
                },
                {
                  "INSTNM": "Prescott College",
                  "TUITIONFEE_IN": 26415,
                  "_deepnote_index_column": 116
                },
                {
                  "INSTNM": "Rio Salado College",
                  "TUITIONFEE_IN": 2046,
                  "_deepnote_index_column": 118
                },
                {
                  "INSTNM": "Scottsdale Community College",
                  "TUITIONFEE_IN": 2046,
                  "_deepnote_index_column": 121
                },
                {
                  "INSTNM": "South Mountain Community College",
                  "TUITIONFEE_IN": 2046,
                  "_deepnote_index_column": 122
                },
                {
                  "INSTNM": "Arizona Christian University",
                  "TUITIONFEE_IN": 22466,
                  "_deepnote_index_column": 123
                },
                {
                  "INSTNM": "Western International University",
                  "TUITIONFEE_IN": 6000,
                  "_deepnote_index_column": 126
                },
                {
                  "INSTNM": "Yavapai College",
                  "TUITIONFEE_IN": 1896,
                  "_deepnote_index_column": 128
                },
                {
                  "INSTNM": "University of Arkansas at Little Rock",
                  "TUITIONFEE_IN": 7432,
                  "_deepnote_index_column": 129
                },
                {
                  "INSTNM": "Arkansas Baptist College",
                  "TUITIONFEE_IN": 8040,
                  "_deepnote_index_column": 132
                },
                {
                  "INSTNM": "Lyon College",
                  "TUITIONFEE_IN": 24300,
                  "_deepnote_index_column": 135
                },
                {
                  "INSTNM": "University of Arkansas",
                  "TUITIONFEE_IN": 8210,
                  "_deepnote_index_column": 138
                },
                {
                  "INSTNM": "University of Arkansas at Pine Bluff",
                  "TUITIONFEE_IN": 6178,
                  "_deepnote_index_column": 139
                },
                {
                  "INSTNM": "Arkansas State University-Beebe",
                  "TUITIONFEE_IN": 2808,
                  "_deepnote_index_column": 140
                },
                {
                  "INSTNM": "Arkansas State University-Main Campus",
                  "TUITIONFEE_IN": 7720,
                  "_deepnote_index_column": 141
                },
                {
                  "INSTNM": "Arkansas Tech University",
                  "TUITIONFEE_IN": 5862,
                  "_deepnote_index_column": 142
                },
                {
                  "INSTNM": "University of Arkansas at Monticello",
                  "TUITIONFEE_IN": 6082,
                  "_deepnote_index_column": 143
                },
                {
                  "INSTNM": "Baptist Health College Little Rock",
                  "TUITIONFEE_IN": 8402,
                  "_deepnote_index_column": 145
                },
                {
                  "INSTNM": "Black River Technical College",
                  "TUITIONFEE_IN": 2688,
                  "_deepnote_index_column": 146
                },
                {
                  "INSTNM": "University of Central Arkansas",
                  "TUITIONFEE_IN": 7889,
                  "_deepnote_index_column": 147
                },
                {
                  "INSTNM": "Central Baptist College",
                  "TUITIONFEE_IN": 13800,
                  "_deepnote_index_column": 148
                },
                {
                  "INSTNM": "Cossatot Community College of the University of Arkansas",
                  "TUITIONFEE_IN": 2332,
                  "_deepnote_index_column": 149
                },
                {
                  "INSTNM": "Crowley's Ridge College",
                  "TUITIONFEE_IN": 11800,
                  "_deepnote_index_column": 150
                },
                {
                  "INSTNM": "Crowley's Ridge Technical Institute",
                  "TUITIONFEE_IN": 1350,
                  "_deepnote_index_column": 151
                },
                {
                  "INSTNM": "East Arkansas Community College",
                  "TUITIONFEE_IN": 2610,
                  "_deepnote_index_column": 152
                },
                {
                  "INSTNM": "National Park College",
                  "TUITIONFEE_IN": 3140,
                  "_deepnote_index_column": 155
                },
                {
                  "INSTNM": "University of Arkansas Community College-Batesville",
                  "TUITIONFEE_IN": 2262,
                  "_deepnote_index_column": 156
                },
                {
                  "INSTNM": "Harding University",
                  "TUITIONFEE_IN": 17040,
                  "_deepnote_index_column": 157
                },
                {
                  "INSTNM": "Henderson State University",
                  "TUITIONFEE_IN": 7860,
                  "_deepnote_index_column": 158
                },
                {
                  "INSTNM": "Hendrix College",
                  "TUITIONFEE_IN": 39290,
                  "_deepnote_index_column": 159
                },
                {
                  "INSTNM": "John Brown University",
                  "TUITIONFEE_IN": 23588,
                  "_deepnote_index_column": 162
                },
                {
                  "INSTNM": "Arkansas State University Mid-South",
                  "TUITIONFEE_IN": 2554,
                  "_deepnote_index_column": 166
                },
                {
                  "INSTNM": "Arkansas Northeastern College",
                  "TUITIONFEE_IN": 1954,
                  "_deepnote_index_column": 167
                },
                {
                  "INSTNM": "North Arkansas College",
                  "TUITIONFEE_IN": 1896,
                  "_deepnote_index_column": 170
                },
                {
                  "INSTNM": "Northwest Technical Institute",
                  "TUITIONFEE_IN": 2321,
                  "_deepnote_index_column": 171
                },
                {
                  "INSTNM": "Ouachita Baptist University",
                  "TUITIONFEE_IN": 23320,
                  "_deepnote_index_column": 172
                },
                {
                  "INSTNM": "Arkansas State University Three Rivers",
                  "TUITIONFEE_IN": 3310,
                  "_deepnote_index_column": 173
                },
                {
                  "INSTNM": "Ozarka College",
                  "TUITIONFEE_IN": 2680,
                  "_deepnote_index_column": 174
                },
                {
                  "INSTNM": "University of the Ozarks",
                  "TUITIONFEE_IN": 24470,
                  "_deepnote_index_column": 175
                },
                {
                  "INSTNM": "University of Arkansas Community College-Morrilton",
                  "TUITIONFEE_IN": 2732,
                  "_deepnote_index_column": 176
                },
                {
                  "INSTNM": "Philander Smith College",
                  "TUITIONFEE_IN": 12564,
                  "_deepnote_index_column": 177
                },
                {
                  "INSTNM": "Phillips Community College of the University of Arkansas",
                  "TUITIONFEE_IN": 2583,
                  "_deepnote_index_column": 178
                },
                {
                  "INSTNM": "Southeast Arkansas College",
                  "TUITIONFEE_IN": 3070,
                  "_deepnote_index_column": 179
                },
                {
                  "INSTNM": "University of Arkansas-Pulaski Technical College",
                  "TUITIONFEE_IN": 4013,
                  "_deepnote_index_column": 181
                },
                {
                  "INSTNM": "University of Arkansas Hope-Texarkana",
                  "TUITIONFEE_IN": 2281,
                  "_deepnote_index_column": 182
                },
                {
                  "INSTNM": "University of Arkansas Community College Rich Mountain",
                  "TUITIONFEE_IN": 2352,
                  "_deepnote_index_column": 183
                },
                {
                  "INSTNM": "Shorter College",
                  "TUITIONFEE_IN": 4200,
                  "_deepnote_index_column": 186
                },
                {
                  "INSTNM": "Williams Baptist University",
                  "TUITIONFEE_IN": 14360,
                  "_deepnote_index_column": 187
                },
                {
                  "INSTNM": "South Arkansas Community College",
                  "TUITIONFEE_IN": 2330,
                  "_deepnote_index_column": 188
                },
                {
                  "INSTNM": "Southern Arkansas University Main Campus",
                  "TUITIONFEE_IN": 7736,
                  "_deepnote_index_column": 189
                },
                {
                  "INSTNM": "Southern Arkansas University Tech",
                  "TUITIONFEE_IN": 4677,
                  "_deepnote_index_column": 190
                },
                {
                  "INSTNM": "University of Arkansas-Fort Smith",
                  "TUITIONFEE_IN": 4727,
                  "_deepnote_index_column": 192
                },
                {
                  "INSTNM": "Academy of Art University",
                  "TUITIONFEE_IN": 19740,
                  "_deepnote_index_column": 193
                },
                {
                  "INSTNM": "ITT Technical Institute-Rancho Cordova",
                  "TUITIONFEE_IN": 18048,
                  "_deepnote_index_column": 194
                },
                {
                  "INSTNM": "College of Alameda",
                  "TUITIONFEE_IN": 1144,
                  "_deepnote_index_column": 198
                },
                {
                  "INSTNM": "Allan Hancock College",
                  "TUITIONFEE_IN": 1346,
                  "_deepnote_index_column": 199
                },
                {
                  "INSTNM": "American Academy of Dramatic Arts-Los Angeles",
                  "TUITIONFEE_IN": 30650,
                  "_deepnote_index_column": 200
                },
                {
                  "INSTNM": "American River College",
                  "TUITIONFEE_IN": 1104,
                  "_deepnote_index_column": 206
                },
                {
                  "INSTNM": "Antelope Valley College",
                  "TUITIONFEE_IN": 1104,
                  "_deepnote_index_column": 207
                },
                {
                  "INSTNM": "Art Center College of Design",
                  "TUITIONFEE_IN": 37830,
                  "_deepnote_index_column": 208
                },
                {
                  "INSTNM": "Azusa Pacific University",
                  "TUITIONFEE_IN": 33096,
                  "_deepnote_index_column": 211
                },
                {
                  "INSTNM": "Bakersfield College",
                  "TUITIONFEE_IN": 1324,
                  "_deepnote_index_column": 212
                },
                {
                  "INSTNM": "Barstow Community College",
                  "TUITIONFEE_IN": 1104,
                  "_deepnote_index_column": 213
                },
                {
                  "INSTNM": "Bethesda University",
                  "TUITIONFEE_IN": 9120,
                  "_deepnote_index_column": 215
                },
                {
                  "INSTNM": "Biola University",
                  "TUITIONFEE_IN": 33322,
                  "_deepnote_index_column": 216
                },
                {
                  "INSTNM": "Brooks Institute",
                  "TUITIONFEE_IN": 20112,
                  "_deepnote_index_column": 217
                },
                {
                  "INSTNM": "Bryan University",
                  "TUITIONFEE_IN": 11850,
                  "_deepnote_index_column": 219
                },
                {
                  "INSTNM": "Butte College",
                  "TUITIONFEE_IN": 1364,
                  "_deepnote_index_column": 220
                },
                {
                  "INSTNM": "Cabrillo College",
                  "TUITIONFEE_IN": 1358,
                  "_deepnote_index_column": 223
                },
                {
                  "INSTNM": "California Baptist University",
                  "TUITIONFEE_IN": 29422,
                  "_deepnote_index_column": 224
                },
                {
                  "INSTNM": "California College of the Arts",
                  "TUITIONFEE_IN": 41942,
                  "_deepnote_index_column": 225
                },
                {
                  "INSTNM": "California Institute of Technology",
                  "TUITIONFEE_IN": 43362,
                  "_deepnote_index_column": 227
                },
                {
                  "INSTNM": "California Lutheran University",
                  "TUITIONFEE_IN": 37140,
                  "_deepnote_index_column": 228
                },
                {
                  "INSTNM": "California Polytechnic State University-San Luis Obispo",
                  "TUITIONFEE_IN": 8918,
                  "_deepnote_index_column": 229
                },
                {
                  "INSTNM": "Alliant International University-San Diego",
                  "TUITIONFEE_IN": 16350,
                  "_deepnote_index_column": 230
                },
                {
                  "INSTNM": "California State University-Bakersfield",
                  "TUITIONFEE_IN": 6792,
                  "_deepnote_index_column": 231
                },
                {
                  "INSTNM": "California State University-Stanislaus",
                  "TUITIONFEE_IN": 6686,
                  "_deepnote_index_column": 232
                },
                {
                  "INSTNM": "California State University-San Bernardino",
                  "TUITIONFEE_IN": 6550,
                  "_deepnote_index_column": 233
                },
                {
                  "INSTNM": "California State Polytechnic University-Pomona",
                  "TUITIONFEE_IN": 6904,
                  "_deepnote_index_column": 234
                },
                {
                  "INSTNM": "California State University-Chico",
                  "TUITIONFEE_IN": 7002,
                  "_deepnote_index_column": 235
                },
                {
                  "INSTNM": "California State University-Dominguez Hills",
                  "TUITIONFEE_IN": 6139,
                  "_deepnote_index_column": 236
                },
                {
                  "INSTNM": "California State University-Fresno",
                  "TUITIONFEE_IN": 6299,
                  "_deepnote_index_column": 237
                },
                {
                  "INSTNM": "California State University-Fullerton",
                  "TUITIONFEE_IN": 6315,
                  "_deepnote_index_column": 238
                },
                {
                  "INSTNM": "California State University-East Bay",
                  "TUITIONFEE_IN": 6564,
                  "_deepnote_index_column": 239
                },
                {
                  "INSTNM": "California State University-Long Beach",
                  "TUITIONFEE_IN": 6452,
                  "_deepnote_index_column": 240
                },
                {
                  "INSTNM": "California State University-Los Angeles",
                  "TUITIONFEE_IN": 6348,
                  "_deepnote_index_column": 241
                },
                {
                  "INSTNM": "California State University-Northridge",
                  "TUITIONFEE_IN": 6549,
                  "_deepnote_index_column": 242
                },
                {
                  "INSTNM": "California State University-Sacramento",
                  "TUITIONFEE_IN": 6648,
                  "_deepnote_index_column": 243
                },
                {
                  "INSTNM": "University of California-Berkeley",
                  "TUITIONFEE_IN": 12972,
                  "_deepnote_index_column": 244
                },
                {
                  "INSTNM": "University of California-Davis",
                  "TUITIONFEE_IN": 13896,
                  "_deepnote_index_column": 245
                },
                {
                  "INSTNM": "University of California-Irvine",
                  "TUITIONFEE_IN": 13179,
                  "_deepnote_index_column": 246
                },
                {
                  "INSTNM": "University of California-Los Angeles",
                  "TUITIONFEE_IN": 12705,
                  "_deepnote_index_column": 247
                },
                {
                  "INSTNM": "University of California-Riverside",
                  "TUITIONFEE_IN": 13407,
                  "_deepnote_index_column": 248
                },
                {
                  "INSTNM": "University of California-San Diego",
                  "TUITIONFEE_IN": 13427,
                  "_deepnote_index_column": 249
                },
                {
                  "INSTNM": "University of California-Santa Barbara",
                  "TUITIONFEE_IN": 13865,
                  "_deepnote_index_column": 251
                },
                {
                  "INSTNM": "University of California-Santa Cruz",
                  "TUITIONFEE_IN": 13397,
                  "_deepnote_index_column": 252
                },
                {
                  "INSTNM": "California Christian College",
                  "TUITIONFEE_IN": 8540,
                  "_deepnote_index_column": 255
                },
                {
                  "INSTNM": "Le Cordon Bleu College of Culinary Arts-San Francisco",
                  "TUITIONFEE_IN": 14774,
                  "_deepnote_index_column": 256
                },
                {
                  "INSTNM": "California Institute of the Arts",
                  "TUITIONFEE_IN": 42260,
                  "_deepnote_index_column": 258
                },
                {
                  "INSTNM": "California State University Maritime Academy",
                  "TUITIONFEE_IN": 6536,
                  "_deepnote_index_column": 259
                },
                {
                  "INSTNM": "Canada College",
                  "TUITIONFEE_IN": 1452,
                  "_deepnote_index_column": 261
                },
                {
                  "INSTNM": "College of the Canyons",
                  "TUITIONFEE_IN": 1154,
                  "_deepnote_index_column": 262
                },
                {
                  "INSTNM": "Cerritos College",
                  "TUITIONFEE_IN": 1346,
                  "_deepnote_index_column": 271
                },
                {
                  "INSTNM": "Cerro Coso Community College",
                  "TUITIONFEE_IN": 1290,
                  "_deepnote_index_column": 272
                },
                {
                  "INSTNM": "Chabot College",
                  "TUITIONFEE_IN": 1138,
                  "_deepnote_index_column": 273
                },
                {
                  "INSTNM": "Chaffey College",
                  "TUITIONFEE_IN": 1153,
                  "_deepnote_index_column": 274
                },
                {
                  "INSTNM": "Chapman University",
                  "TUITIONFEE_IN": 45393,
                  "_deepnote_index_column": 275
                },
                {
                  "INSTNM": "Charles R Drew University of Medicine and Science",
                  "TUITIONFEE_IN": 12436,
                  "_deepnote_index_column": 276
                },
                {
                  "INSTNM": "Concordia University-Irvine",
                  "TUITIONFEE_IN": 30640,
                  "_deepnote_index_column": 277
                },
                {
                  "INSTNM": "San Diego Christian College",
                  "TUITIONFEE_IN": 27090,
                  "_deepnote_index_column": 278
                },
                {
                  "INSTNM": "Citrus College",
                  "TUITIONFEE_IN": 1176,
                  "_deepnote_index_column": 280
                },
                {
                  "INSTNM": "City College of San Francisco",
                  "TUITIONFEE_IN": 1290,
                  "_deepnote_index_column": 282
                },
                {
                  "INSTNM": "Claremont McKenna College",
                  "TUITIONFEE_IN": 47395,
                  "_deepnote_index_column": 284
                },
                {
                  "INSTNM": "Coastline Community College",
                  "TUITIONFEE_IN": 1136,
                  "_deepnote_index_column": 287
                },
                {
                  "INSTNM": "Cogswell College",
                  "TUITIONFEE_IN": 16160,
                  "_deepnote_index_column": 288
                },
                {
                  "INSTNM": "Coleman University",
                  "TUITIONFEE_IN": 20800,
                  "_deepnote_index_column": 289
                },
                {
                  "INSTNM": "Columbia College",
                  "TUITIONFEE_IN": 1150,
                  "_deepnote_index_column": 292
                },
                {
                  "INSTNM": "Columbia College Hollywood",
                  "TUITIONFEE_IN": 18975,
                  "_deepnote_index_column": 293
                },
                {
                  "INSTNM": "Compton College",
                  "TUITIONFEE_IN": 1142,
                  "_deepnote_index_column": 294
                },
                {
                  "INSTNM": "Contra Costa College",
                  "TUITIONFEE_IN": 1298,
                  "_deepnote_index_column": 295
                },
                {
                  "INSTNM": "Cosumnes River College",
                  "TUITIONFEE_IN": 1104,
                  "_deepnote_index_column": 296
                },
                {
                  "INSTNM": "Crafton Hills College",
                  "TUITIONFEE_IN": 1142,
                  "_deepnote_index_column": 297
                },
                {
                  "INSTNM": "Cuesta College",
                  "TUITIONFEE_IN": 1234,
                  "_deepnote_index_column": 298
                },
                {
                  "INSTNM": "Cuyamaca College",
                  "TUITIONFEE_IN": 1386,
                  "_deepnote_index_column": 299
                },
                {
                  "INSTNM": "Cypress College",
                  "TUITIONFEE_IN": 1138,
                  "_deepnote_index_column": 300
                },
                {
                  "INSTNM": "De Anza College",
                  "TUITIONFEE_IN": 1542,
                  "_deepnote_index_column": 301
                },
                {
                  "INSTNM": "Dell'Arte International School of Physical Theatre",
                  "TUITIONFEE_IN": 12750,
                  "_deepnote_index_column": 304
                },
                {
                  "INSTNM": "College of the Desert",
                  "TUITIONFEE_IN": 1316,
                  "_deepnote_index_column": 305
                },
                {
                  "INSTNM": "Design Institute of San Diego",
                  "TUITIONFEE_IN": 17547,
                  "_deepnote_index_column": 306
                },
                {
                  "INSTNM": "Diablo Valley College",
                  "TUITIONFEE_IN": 1298,
                  "_deepnote_index_column": 307
                },
                {
                  "INSTNM": "Dominican University of California",
                  "TUITIONFEE_IN": 41730,
                  "_deepnote_index_column": 308
                },
                {
                  "INSTNM": "East Los Angeles College",
                  "TUITIONFEE_IN": 1220,
                  "_deepnote_index_column": 310
                },
                {
                  "INSTNM": "El Camino Community College District",
                  "TUITIONFEE_IN": 1142,
                  "_deepnote_index_column": 312
                },
                {
                  "INSTNM": "Evergreen Valley College",
                  "TUITIONFEE_IN": 1326,
                  "_deepnote_index_column": 318
                },
                {
                  "INSTNM": "FIDM-Fashion Institute of Design & Merchandising-Los Angeles",
                  "TUITIONFEE_IN": 29930,
                  "_deepnote_index_column": 319
                },
                {
                  "INSTNM": "FIDM-Fashion Institute of Design & Merchandising-San Francisco",
                  "TUITIONFEE_IN": 29930,
                  "_deepnote_index_column": 320
                },
                {
                  "INSTNM": "FIDM-Fashion Institute of Design & Merchandising-Orange County",
                  "TUITIONFEE_IN": 29930,
                  "_deepnote_index_column": 321
                },
                {
                  "INSTNM": "Feather River Community College District",
                  "TUITIONFEE_IN": 1446,
                  "_deepnote_index_column": 322
                },
                {
                  "INSTNM": "Foothill College",
                  "TUITIONFEE_IN": 1551,
                  "_deepnote_index_column": 327
                },
                {
                  "INSTNM": "Fresno City College",
                  "TUITIONFEE_IN": 1188,
                  "_deepnote_index_column": 330
                },
                {
                  "INSTNM": "Fresno Pacific University",
                  "TUITIONFEE_IN": 26638,
                  "_deepnote_index_column": 331
                },
                {
                  "INSTNM": "Fullerton College",
                  "TUITIONFEE_IN": 1138,
                  "_deepnote_index_column": 333
                },
                {
                  "INSTNM": "Gavilan College",
                  "TUITIONFEE_IN": 1246,
                  "_deepnote_index_column": 334
                },
                {
                  "INSTNM": "Glendale Community College",
                  "TUITIONFEE_IN": 1175,
                  "_deepnote_index_column": 336
                },
                {
                  "INSTNM": "Golden Gate University-San Francisco",
                  "TUITIONFEE_IN": 14640,
                  "_deepnote_index_column": 338
                },
                {
                  "INSTNM": "Golden West College",
                  "TUITIONFEE_IN": 1176,
                  "_deepnote_index_column": 339
                },
                {
                  "INSTNM": "Grossmont College",
                  "TUITIONFEE_IN": 1387,
                  "_deepnote_index_column": 341
                },
                {
                  "INSTNM": "Hartnell College",
                  "TUITIONFEE_IN": 1420,
                  "_deepnote_index_column": 343
                },
                {
                  "INSTNM": "Harvey Mudd College",
                  "TUITIONFEE_IN": 48594,
                  "_deepnote_index_column": 344
                },
                {
                  "INSTNM": "Heald College-Rancho Cordova",
                  "TUITIONFEE_IN": 13620,
                  "_deepnote_index_column": 345
                },
                {
                  "INSTNM": "Heald College-Fresno",
                  "TUITIONFEE_IN": 13620,
                  "_deepnote_index_column": 346
                },
                {
                  "INSTNM": "Heald College-San Jose",
                  "TUITIONFEE_IN": 13620,
                  "_deepnote_index_column": 347
                },
                {
                  "INSTNM": "Heald College-San Francisco",
                  "TUITIONFEE_IN": 13620,
                  "_deepnote_index_column": 348
                },
                {
                  "INSTNM": "Heald College-Concord",
                  "TUITIONFEE_IN": 13620,
                  "_deepnote_index_column": 349
                },
                {
                  "INSTNM": "Holy Names University",
                  "TUITIONFEE_IN": 34488,
                  "_deepnote_index_column": 351
                },
                {
                  "INSTNM": "Humboldt State University",
                  "TUITIONFEE_IN": 7171,
                  "_deepnote_index_column": 353
                },
                {
                  "INSTNM": "Humphreys University-Stockton and Modesto Campuses",
                  "TUITIONFEE_IN": 12456,
                  "_deepnote_index_column": 354
                },
                {
                  "INSTNM": "Imperial Valley College",
                  "TUITIONFEE_IN": 1365,
                  "_deepnote_index_column": 355
                },
                {
                  "INSTNM": "Interior Designers Institute",
                  "TUITIONFEE_IN": 18045,
                  "_deepnote_index_column": 357
                },
                {
                  "INSTNM": "Irvine Valley College",
                  "TUITIONFEE_IN": 1326,
                  "_deepnote_index_column": 359
                },
                {
                  "INSTNM": "ITT Technical Institute-National City",
                  "TUITIONFEE_IN": 18048,
                  "_deepnote_index_column": 360
                },
                {
                  "INSTNM": "ITT Technical Institute-San Dimas",
                  "TUITIONFEE_IN": 18048,
                  "_deepnote_index_column": 361
                }
              ],
              "rows_bottom": [
                {
                  "INSTNM": "Aparicio-Levy Technical College",
                  "TUITIONFEE_IN": 2602,
                  "_deepnote_index_column": 7338
                },
                {
                  "INSTNM": "Fred D. Learey Technical College",
                  "TUITIONFEE_IN": 2602,
                  "_deepnote_index_column": 7339
                },
                {
                  "INSTNM": "Dewey University-Mayaguez",
                  "TUITIONFEE_IN": 5835,
                  "_deepnote_index_column": 7343
                },
                {
                  "INSTNM": "Coastal Pines Technical College",
                  "TUITIONFEE_IN": 4770,
                  "_deepnote_index_column": 7344
                },
                {
                  "INSTNM": "Troy University-Phenix City Campus",
                  "TUITIONFEE_IN": 7564,
                  "_deepnote_index_column": 7345
                },
                {
                  "INSTNM": "Troy University-Montgomery Campus",
                  "TUITIONFEE_IN": 7564,
                  "_deepnote_index_column": 7346
                },
                {
                  "INSTNM": "Troy University-Dothan Campus",
                  "TUITIONFEE_IN": 7564,
                  "_deepnote_index_column": 7347
                },
                {
                  "INSTNM": "Troy University-Online",
                  "TUITIONFEE_IN": 7824,
                  "_deepnote_index_column": 7348
                },
                {
                  "INSTNM": "Troy University-Support Sites",
                  "TUITIONFEE_IN": 6000,
                  "_deepnote_index_column": 7349
                },
                {
                  "INSTNM": "Harding School of Theology",
                  "TUITIONFEE_IN": 12528,
                  "_deepnote_index_column": 7352
                },
                {
                  "INSTNM": "Humphreys College-Modesto",
                  "TUITIONFEE_IN": 12456,
                  "_deepnote_index_column": 7382
                },
                {
                  "INSTNM": "ATEP at IVC",
                  "TUITIONFEE_IN": 1326,
                  "_deepnote_index_column": 7384
                },
                {
                  "INSTNM": "Marymount University - Waterfront Campus",
                  "TUITIONFEE_IN": 31932,
                  "_deepnote_index_column": 7398
                },
                {
                  "INSTNM": "Mount Saint Mary's University - Doheny Campus",
                  "TUITIONFEE_IN": 34826,
                  "_deepnote_index_column": 7402
                },
                {
                  "INSTNM": "San Joaquin General Hospital School of Radiation Technology",
                  "TUITIONFEE_IN": 1380,
                  "_deepnote_index_column": 7404
                },
                {
                  "INSTNM": "Colorado Technical University",
                  "TUITIONFEE_IN": 11280,
                  "_deepnote_index_column": 7430
                },
                {
                  "INSTNM": "Lincoln College of New England-Hartford",
                  "TUITIONFEE_IN": 0,
                  "_deepnote_index_column": 7431
                },
                {
                  "INSTNM": "Porter and Chester Institute of Rocky Hill",
                  "TUITIONFEE_IN": 17220,
                  "_deepnote_index_column": 7435
                },
                {
                  "INSTNM": "Porter and Chester Institute of Enfield",
                  "TUITIONFEE_IN": 17220,
                  "_deepnote_index_column": 7436
                },
                {
                  "INSTNM": "Porter and Chester Institute of Waterbury",
                  "TUITIONFEE_IN": 17220,
                  "_deepnote_index_column": 7437
                },
                {
                  "INSTNM": "Porter and Chester Institute of Chicopee",
                  "TUITIONFEE_IN": 17220,
                  "_deepnote_index_column": 7438
                },
                {
                  "INSTNM": "Porter and Chester Institute of Worcester",
                  "TUITIONFEE_IN": 17220,
                  "_deepnote_index_column": 7439
                },
                {
                  "INSTNM": "Porter and Chester Institute of Canton",
                  "TUITIONFEE_IN": 17220,
                  "_deepnote_index_column": 7440
                },
                {
                  "INSTNM": "Porter and Chester Institute - New London",
                  "TUITIONFEE_IN": 17220,
                  "_deepnote_index_column": 7441
                },
                {
                  "INSTNM": "Strayer University-Takoma Park Campus",
                  "TUITIONFEE_IN": 12975,
                  "_deepnote_index_column": 7442
                },
                {
                  "INSTNM": "University of Southernmost Florida-Coral Gables Campus",
                  "TUITIONFEE_IN": 13200,
                  "_deepnote_index_column": 7444
                },
                {
                  "INSTNM": "Keiser University-Melbourne",
                  "TUITIONFEE_IN": 16936,
                  "_deepnote_index_column": 7445
                },
                {
                  "INSTNM": "Keiser University-Tallahassee",
                  "TUITIONFEE_IN": 16936,
                  "_deepnote_index_column": 7446
                },
                {
                  "INSTNM": "Keiser University-Daytona",
                  "TUITIONFEE_IN": 16936,
                  "_deepnote_index_column": 7447
                },
                {
                  "INSTNM": "Keiser University-Lakeland",
                  "TUITIONFEE_IN": 16936,
                  "_deepnote_index_column": 7448
                },
                {
                  "INSTNM": "Keiser University- Miami",
                  "TUITIONFEE_IN": 16936,
                  "_deepnote_index_column": 7449
                },
                {
                  "INSTNM": "Keiser University-Orlando",
                  "TUITIONFEE_IN": 16936,
                  "_deepnote_index_column": 7450
                },
                {
                  "INSTNM": "Keiser University-Sarasota",
                  "TUITIONFEE_IN": 16936,
                  "_deepnote_index_column": 7451
                },
                {
                  "INSTNM": "Keiser University-Jacksonville",
                  "TUITIONFEE_IN": 16936,
                  "_deepnote_index_column": 7452
                },
                {
                  "INSTNM": "Keiser University-Tampa",
                  "TUITIONFEE_IN": 16936,
                  "_deepnote_index_column": 7453
                },
                {
                  "INSTNM": "Keiser University-Pembroke Pines",
                  "TUITIONFEE_IN": 16936,
                  "_deepnote_index_column": 7454
                },
                {
                  "INSTNM": "Keiser University-Port St Lucie",
                  "TUITIONFEE_IN": 16936,
                  "_deepnote_index_column": 7455
                },
                {
                  "INSTNM": "Keiser University-West Palm Beach",
                  "TUITIONFEE_IN": 16936,
                  "_deepnote_index_column": 7456
                },
                {
                  "INSTNM": "Keiser University-Ft Myers",
                  "TUITIONFEE_IN": 16936,
                  "_deepnote_index_column": 7457
                },
                {
                  "INSTNM": "Rasmussen College-New Port Richey",
                  "TUITIONFEE_IN": 10764,
                  "_deepnote_index_column": 7459
                },
                {
                  "INSTNM": "Rasmussen College-Fort Myers",
                  "TUITIONFEE_IN": 10764,
                  "_deepnote_index_column": 7460
                },
                {
                  "INSTNM": "Rasmussen College-Tampa/Brandon",
                  "TUITIONFEE_IN": 10764,
                  "_deepnote_index_column": 7461
                },
                {
                  "INSTNM": "Rasmussen College-Land O' Lakes",
                  "TUITIONFEE_IN": 10764,
                  "_deepnote_index_column": 7462
                },
                {
                  "INSTNM": "Portfolio Center - Waltham",
                  "TUITIONFEE_IN": 26850,
                  "_deepnote_index_column": 7463
                },
                {
                  "INSTNM": "Portfolio Center -  DC Branch",
                  "TUITIONFEE_IN": 26850,
                  "_deepnote_index_column": 7464
                },
                {
                  "INSTNM": "Moody Bible Institute-Spokane",
                  "TUITIONFEE_IN": 8040,
                  "_deepnote_index_column": 7466
                },
                {
                  "INSTNM": "Ivy Tech Community College-Northcentral",
                  "TUITIONFEE_IN": 4055,
                  "_deepnote_index_column": 7471
                },
                {
                  "INSTNM": "Ivy Tech Community College-Columbus",
                  "TUITIONFEE_IN": 4055,
                  "_deepnote_index_column": 7472
                },
                {
                  "INSTNM": "Ivy Tech Community College-East Central",
                  "TUITIONFEE_IN": 4055,
                  "_deepnote_index_column": 7473
                },
                {
                  "INSTNM": "Ivy Tech Community College-Kokomo",
                  "TUITIONFEE_IN": 4055,
                  "_deepnote_index_column": 7474
                },
                {
                  "INSTNM": "Ivy Tech Community College-Lafayette",
                  "TUITIONFEE_IN": 4055,
                  "_deepnote_index_column": 7475
                },
                {
                  "INSTNM": "Ivy Tech Community College-Northeast",
                  "TUITIONFEE_IN": 4055,
                  "_deepnote_index_column": 7476
                },
                {
                  "INSTNM": "Ivy Tech Community College-South Central",
                  "TUITIONFEE_IN": 4055,
                  "_deepnote_index_column": 7477
                },
                {
                  "INSTNM": "Ivy Tech Community College-Southwest",
                  "TUITIONFEE_IN": 4055,
                  "_deepnote_index_column": 7478
                },
                {
                  "INSTNM": "Ivy Tech Community College-Wabash Valley",
                  "TUITIONFEE_IN": 4055,
                  "_deepnote_index_column": 7479
                },
                {
                  "INSTNM": "Ivy Tech Community College-Richmond",
                  "TUITIONFEE_IN": 4055,
                  "_deepnote_index_column": 7480
                },
                {
                  "INSTNM": "Ivy Tech Community College-Northwest",
                  "TUITIONFEE_IN": 4055,
                  "_deepnote_index_column": 7481
                },
                {
                  "INSTNM": "Ivy Tech Community College-Southeast",
                  "TUITIONFEE_IN": 4055,
                  "_deepnote_index_column": 7482
                },
                {
                  "INSTNM": "Ivy Tech Community College-Bloomington",
                  "TUITIONFEE_IN": 4055,
                  "_deepnote_index_column": 7483
                },
                {
                  "INSTNM": "Ivy Tech Community College-Central Indiana",
                  "TUITIONFEE_IN": 4055,
                  "_deepnote_index_column": 7484
                },
                {
                  "INSTNM": "Harrison College-Anderson",
                  "TUITIONFEE_IN": 17025,
                  "_deepnote_index_column": 7485
                },
                {
                  "INSTNM": "Harrison College-Columbus",
                  "TUITIONFEE_IN": 17025,
                  "_deepnote_index_column": 7486
                },
                {
                  "INSTNM": "Harrison College-Terre Haute",
                  "TUITIONFEE_IN": 17025,
                  "_deepnote_index_column": 7487
                },
                {
                  "INSTNM": "Harrison College-Lafayette",
                  "TUITIONFEE_IN": 17025,
                  "_deepnote_index_column": 7488
                },
                {
                  "INSTNM": "Harrison College-Indianapolis East",
                  "TUITIONFEE_IN": 17025,
                  "_deepnote_index_column": 7489
                },
                {
                  "INSTNM": "Harrison College-Evansville",
                  "TUITIONFEE_IN": 17025,
                  "_deepnote_index_column": 7490
                },
                {
                  "INSTNM": "Harrison College-Fort Wayne",
                  "TUITIONFEE_IN": 17025,
                  "_deepnote_index_column": 7491
                },
                {
                  "INSTNM": "Harrison College-Northwest",
                  "TUITIONFEE_IN": 17025,
                  "_deepnote_index_column": 7492
                },
                {
                  "INSTNM": "Harrison College-Elkhart",
                  "TUITIONFEE_IN": 17025,
                  "_deepnote_index_column": 7493
                },
                {
                  "INSTNM": "Marian University",
                  "TUITIONFEE_IN": 9000,
                  "_deepnote_index_column": 7494
                },
                {
                  "INSTNM": "CBTS - Wisconsin",
                  "TUITIONFEE_IN": 9140,
                  "_deepnote_index_column": 7498
                },
                {
                  "INSTNM": "Coffeyville Technical Campus",
                  "TUITIONFEE_IN": 3370,
                  "_deepnote_index_column": 7499
                },
                {
                  "INSTNM": "Columbus Technical Campus",
                  "TUITIONFEE_IN": 3370,
                  "_deepnote_index_column": 7500
                },
                {
                  "INSTNM": "Cleary University",
                  "TUITIONFEE_IN": 19200,
                  "_deepnote_index_column": 7514
                },
                {
                  "INSTNM": "Davenport University-Warren Location",
                  "TUITIONFEE_IN": 14932,
                  "_deepnote_index_column": 7515
                },
                {
                  "INSTNM": "Davenport University-Kalamazoo Location",
                  "TUITIONFEE_IN": 14932,
                  "_deepnote_index_column": 7516
                },
                {
                  "INSTNM": "Davenport University-Lansing Location",
                  "TUITIONFEE_IN": 14932,
                  "_deepnote_index_column": 7517
                },
                {
                  "INSTNM": "Davenport University-Midland Location",
                  "TUITIONFEE_IN": 14116,
                  "_deepnote_index_column": 7518
                },
                {
                  "INSTNM": "Davenport University-Holland Location",
                  "TUITIONFEE_IN": 14932,
                  "_deepnote_index_column": 7519
                },
                {
                  "INSTNM": "Davenport University-Flint Location",
                  "TUITIONFEE_IN": 14116,
                  "_deepnote_index_column": 7520
                },
                {
                  "INSTNM": "Davenport University-Saginaw Location",
                  "TUITIONFEE_IN": 14116,
                  "_deepnote_index_column": 7522
                },
                {
                  "INSTNM": "Davenport University-Livonia Location",
                  "TUITIONFEE_IN": 14932,
                  "_deepnote_index_column": 7523
                },
                {
                  "INSTNM": "Davenport University-Battle Creek Location",
                  "TUITIONFEE_IN": 14116,
                  "_deepnote_index_column": 7524
                },
                {
                  "INSTNM": "Davenport University - Treasury Site Dimondale",
                  "TUITIONFEE_IN": 15232,
                  "_deepnote_index_column": 7526
                },
                {
                  "INSTNM": "Anoka-Ramsey Community College-Cambridge Campus",
                  "TUITIONFEE_IN": 5004,
                  "_deepnote_index_column": 7527
                },
                {
                  "INSTNM": "Central Lakes College-Staples Campus",
                  "TUITIONFEE_IN": 5393,
                  "_deepnote_index_column": 7528
                },
                {
                  "INSTNM": "M State - Detroit Lakes Campus",
                  "TUITIONFEE_IN": 5303,
                  "_deepnote_index_column": 7529
                },
                {
                  "INSTNM": "M State - Moorhead Campus",
                  "TUITIONFEE_IN": 5444,
                  "_deepnote_index_column": 7530
                },
                {
                  "INSTNM": "M State - Wadena Campus",
                  "TUITIONFEE_IN": 5273,
                  "_deepnote_index_column": 7531
                },
                {
                  "INSTNM": "South Central College-Faribault",
                  "TUITIONFEE_IN": 5378,
                  "_deepnote_index_column": 7532
                },
                {
                  "INSTNM": "Mesabi Range College",
                  "TUITIONFEE_IN": 5293,
                  "_deepnote_index_column": 7533
                },
                {
                  "INSTNM": "Northland Community and Technical College - East Grand Forks",
                  "TUITIONFEE_IN": 5517,
                  "_deepnote_index_column": 7534
                },
                {
                  "INSTNM": "Rasmussen College-Bloomington",
                  "TUITIONFEE_IN": 10764,
                  "_deepnote_index_column": 7535
                },
                {
                  "INSTNM": "Rasmussen College-Eagan",
                  "TUITIONFEE_IN": 10764,
                  "_deepnote_index_column": 7536
                },
                {
                  "INSTNM": "Rasmussen College-Mankato",
                  "TUITIONFEE_IN": 10764,
                  "_deepnote_index_column": 7537
                },
                {
                  "INSTNM": "Rasmussen College-Brooklyn Park",
                  "TUITIONFEE_IN": 10764,
                  "_deepnote_index_column": 7538
                },
                {
                  "INSTNM": "Rasmussen College-Lake Elmo/Woodbury",
                  "TUITIONFEE_IN": 10764,
                  "_deepnote_index_column": 7539
                },
                {
                  "INSTNM": "Rasmussen College-Blaine",
                  "TUITIONFEE_IN": 10764,
                  "_deepnote_index_column": 7540
                },
                {
                  "INSTNM": "Ridgewater College",
                  "TUITIONFEE_IN": 5400,
                  "_deepnote_index_column": 7541
                },
                {
                  "INSTNM": "Minnesota State CollegeSoutheast-Red Wing Campus",
                  "TUITIONFEE_IN": 5617,
                  "_deepnote_index_column": 7542
                },
                {
                  "INSTNM": "Copiah-Lincoln Community College Simpson County Center",
                  "TUITIONFEE_IN": 2455,
                  "_deepnote_index_column": 7543
                },
                {
                  "INSTNM": "Copiah-Lincoln Community College-Natchez Campus",
                  "TUITIONFEE_IN": 2455,
                  "_deepnote_index_column": 7544
                },
                {
                  "INSTNM": "Pearl River Community College-Forrest County Center",
                  "TUITIONFEE_IN": 2750,
                  "_deepnote_index_column": 7545
                },
                {
                  "INSTNM": "Lindenwood University-Belleville",
                  "TUITIONFEE_IN": 15580,
                  "_deepnote_index_column": 7546
                },
                {
                  "INSTNM": "City College Montana State University Billings",
                  "TUITIONFEE_IN": 3782,
                  "_deepnote_index_column": 7547
                },
                {
                  "INSTNM": "The University of Montana - Missoula College",
                  "TUITIONFEE_IN": 3498,
                  "_deepnote_index_column": 7548
                },
                {
                  "INSTNM": "Berkeley College - Westchester Campus",
                  "TUITIONFEE_IN": 23700,
                  "_deepnote_index_column": 7552
                },
                {
                  "INSTNM": "Briarcliffe College-Bohemia",
                  "TUITIONFEE_IN": 18879,
                  "_deepnote_index_column": 7553
                },
                {
                  "INSTNM": "Culinary Institute of America at Greystone",
                  "TUITIONFEE_IN": 28140,
                  "_deepnote_index_column": 7554
                },
                {
                  "INSTNM": "Culinary Institute of America San Antonio",
                  "TUITIONFEE_IN": 27580,
                  "_deepnote_index_column": 7555
                },
                {
                  "INSTNM": "Jamestown Business College -",
                  "TUITIONFEE_IN": 12000,
                  "_deepnote_index_column": 7556
                },
                {
                  "INSTNM": "Pratt Manhattan-A Division of Pratt Institute",
                  "TUITIONFEE_IN": 44804,
                  "_deepnote_index_column": 7557
                },
                {
                  "INSTNM": "St. Joseph's College Long Island",
                  "TUITIONFEE_IN": 22830,
                  "_deepnote_index_column": 7558
                },
                {
                  "INSTNM": "Saint Elizabeth College of Nursing",
                  "TUITIONFEE_IN": 14600,
                  "_deepnote_index_column": 7559
                },
                {
                  "INSTNM": "Gaston College",
                  "TUITIONFEE_IN": 2560,
                  "_deepnote_index_column": 7560
                },
                {
                  "INSTNM": "Rasmussen College-Bismarck",
                  "TUITIONFEE_IN": 10764,
                  "_deepnote_index_column": 7561
                },
                {
                  "INSTNM": "Los Angeles Center",
                  "TUITIONFEE_IN": 11904,
                  "_deepnote_index_column": 7563
                },
                {
                  "INSTNM": "Florida Center",
                  "TUITIONFEE_IN": 11904,
                  "_deepnote_index_column": 7564
                },
                {
                  "INSTNM": "Sacramento Center",
                  "TUITIONFEE_IN": 11904,
                  "_deepnote_index_column": 7565
                },
                {
                  "INSTNM": "New England Center",
                  "TUITIONFEE_IN": 11904,
                  "_deepnote_index_column": 7567
                },
                {
                  "INSTNM": "Corban University Bellevue Washington Campus",
                  "TUITIONFEE_IN": 6000,
                  "_deepnote_index_column": 7568
                },
                {
                  "INSTNM": "Bucks County Community College-Upper Bucks Campus",
                  "TUITIONFEE_IN": 4034,
                  "_deepnote_index_column": 7572
                },
                {
                  "INSTNM": "Bucks County Community College-Lower Bucks Campus",
                  "TUITIONFEE_IN": 4034,
                  "_deepnote_index_column": 7573
                },
                {
                  "INSTNM": "Harrisburg Area Community College-Lancaster",
                  "TUITIONFEE_IN": 5655,
                  "_deepnote_index_column": 7574
                },
                {
                  "INSTNM": "Harrisburg Area Community College-Gettysburg",
                  "TUITIONFEE_IN": 5655,
                  "_deepnote_index_column": 7575
                },
                {
                  "INSTNM": "Harrisburg Area Community College-Lebanon",
                  "TUITIONFEE_IN": 5655,
                  "_deepnote_index_column": 7576
                },
                {
                  "INSTNM": "Harrisburg Area Community College-York",
                  "TUITIONFEE_IN": 5655,
                  "_deepnote_index_column": 7577
                },
                {
                  "INSTNM": "Northampton County Area Community College-Monroe",
                  "TUITIONFEE_IN": 3840,
                  "_deepnote_index_column": 7579
                },
                {
                  "INSTNM": "South Hills School of Business and Technology-Altoona",
                  "TUITIONFEE_IN": 16521,
                  "_deepnote_index_column": 7581
                },
                {
                  "INSTNM": "San Jacinto College-North Campus",
                  "TUITIONFEE_IN": 1408,
                  "_deepnote_index_column": 7583
                },
                {
                  "INSTNM": "San Jacinto College-South Campus",
                  "TUITIONFEE_IN": 1408,
                  "_deepnote_index_column": 7584
                },
                {
                  "INSTNM": "Snow College-Richfield Campus",
                  "TUITIONFEE_IN": 3388,
                  "_deepnote_index_column": 7589
                },
                {
                  "INSTNM": "Strayer University-Alexandria Campus",
                  "TUITIONFEE_IN": 12975,
                  "_deepnote_index_column": 7590
                },
                {
                  "INSTNM": "Strayer University-Woodbridge Campus",
                  "TUITIONFEE_IN": 12975,
                  "_deepnote_index_column": 7591
                },
                {
                  "INSTNM": "Strayer University-Manassas Campus",
                  "TUITIONFEE_IN": 12975,
                  "_deepnote_index_column": 7592
                },
                {
                  "INSTNM": "Strayer University-Loudoun Campus",
                  "TUITIONFEE_IN": 12975,
                  "_deepnote_index_column": 7593
                },
                {
                  "INSTNM": "Strayer University-Fredericksburg Campus",
                  "TUITIONFEE_IN": 12975,
                  "_deepnote_index_column": 7594
                },
                {
                  "INSTNM": "Strayer University-Henrico Campus",
                  "TUITIONFEE_IN": 12975,
                  "_deepnote_index_column": 7595
                },
                {
                  "INSTNM": "Strayer University-Chesterfield Campus",
                  "TUITIONFEE_IN": 12975,
                  "_deepnote_index_column": 7596
                },
                {
                  "INSTNM": "Strayer University-Chesapeake Campus",
                  "TUITIONFEE_IN": 12975,
                  "_deepnote_index_column": 7597
                },
                {
                  "INSTNM": "Strayer University-Newport News Campus",
                  "TUITIONFEE_IN": 12975,
                  "_deepnote_index_column": 7598
                },
                {
                  "INSTNM": "Strayer University-Virginia Beach Campus",
                  "TUITIONFEE_IN": 12975,
                  "_deepnote_index_column": 7599
                },
                {
                  "INSTNM": "Washington State University-Vancouver",
                  "TUITIONFEE_IN": 11386,
                  "_deepnote_index_column": 7601
                },
                {
                  "INSTNM": "Washington State University-Tri Cities",
                  "TUITIONFEE_IN": 11386,
                  "_deepnote_index_column": 7603
                },
                {
                  "INSTNM": "West Virginia Business College-Nutter Fort",
                  "TUITIONFEE_IN": 9700,
                  "_deepnote_index_column": 7604
                },
                {
                  "INSTNM": "University of the Virgin Islands-Albert A. Sheen",
                  "TUITIONFEE_IN": 4794,
                  "_deepnote_index_column": 7605
                },
                {
                  "INSTNM": "ECPI University-Newport News",
                  "TUITIONFEE_IN": 14245,
                  "_deepnote_index_column": 7606
                },
                {
                  "INSTNM": "ECPI University-Greensboro",
                  "TUITIONFEE_IN": 14245,
                  "_deepnote_index_column": 7607
                },
                {
                  "INSTNM": "ECPI University-Charlotte",
                  "TUITIONFEE_IN": 14245,
                  "_deepnote_index_column": 7608
                },
                {
                  "INSTNM": "ECPI University-Greenville",
                  "TUITIONFEE_IN": 14245,
                  "_deepnote_index_column": 7609
                },
                {
                  "INSTNM": "ECPI University-Manassas",
                  "TUITIONFEE_IN": 14245,
                  "_deepnote_index_column": 7610
                },
                {
                  "INSTNM": "ECPI University-Charleston",
                  "TUITIONFEE_IN": 14245,
                  "_deepnote_index_column": 7611
                },
                {
                  "INSTNM": "ECPI University-Raleigh",
                  "TUITIONFEE_IN": 14245,
                  "_deepnote_index_column": 7612
                },
                {
                  "INSTNM": "ECPI University-Columbia",
                  "TUITIONFEE_IN": 14245,
                  "_deepnote_index_column": 7613
                },
                {
                  "INSTNM": "ECPI University-Concord",
                  "TUITIONFEE_IN": 14245,
                  "_deepnote_index_column": 7614
                },
                {
                  "INSTNM": "ECPI University-Culinary Institute of Virginia",
                  "TUITIONFEE_IN": 14955,
                  "_deepnote_index_column": 7615
                },
                {
                  "INSTNM": "ECPI University-Virginia Beach Health Sciences",
                  "TUITIONFEE_IN": 15035,
                  "_deepnote_index_column": 7616
                },
                {
                  "INSTNM": "ECPI University-Richmond South",
                  "TUITIONFEE_IN": 14245,
                  "_deepnote_index_column": 7617
                },
                {
                  "INSTNM": "ECPI University-Innsbrook",
                  "TUITIONFEE_IN": 14245,
                  "_deepnote_index_column": 7618
                },
                {
                  "INSTNM": "ECPI University-Richmond West",
                  "TUITIONFEE_IN": 15035,
                  "_deepnote_index_column": 7619
                },
                {
                  "INSTNM": "Vista College Amarillo",
                  "TUITIONFEE_IN": 15425,
                  "_deepnote_index_column": 7620
                },
                {
                  "INSTNM": "Vista College Lubbock",
                  "TUITIONFEE_IN": 15425,
                  "_deepnote_index_column": 7621
                },
                {
                  "INSTNM": "Computer Career Center-Las Cruces",
                  "TUITIONFEE_IN": 15425,
                  "_deepnote_index_column": 7622
                },
                {
                  "INSTNM": "Vista College-Beaumont",
                  "TUITIONFEE_IN": 15425,
                  "_deepnote_index_column": 7623
                },
                {
                  "INSTNM": "Vista College-Longview",
                  "TUITIONFEE_IN": 15425,
                  "_deepnote_index_column": 7624
                },
                {
                  "INSTNM": "Vista College-Killeen",
                  "TUITIONFEE_IN": 15425,
                  "_deepnote_index_column": 7625
                },
                {
                  "INSTNM": "Vista College - College Station",
                  "TUITIONFEE_IN": 15425,
                  "_deepnote_index_column": 7626
                },
                {
                  "INSTNM": "Everglades University-Orlando",
                  "TUITIONFEE_IN": 15200,
                  "_deepnote_index_column": 7641
                },
                {
                  "INSTNM": "Everglades University-Sarasota",
                  "TUITIONFEE_IN": 15200,
                  "_deepnote_index_column": 7642
                },
                {
                  "INSTNM": "Wright Career College - Oklahoma City OK",
                  "TUITIONFEE_IN": 12500,
                  "_deepnote_index_column": 7645
                },
                {
                  "INSTNM": "Wright Career College - Tulsa OK",
                  "TUITIONFEE_IN": 12500,
                  "_deepnote_index_column": 7646
                },
                {
                  "INSTNM": "Wright Career College-Wichita",
                  "TUITIONFEE_IN": 12500,
                  "_deepnote_index_column": 7647
                },
                {
                  "INSTNM": "Wright Career College-Omaha",
                  "TUITIONFEE_IN": 12500,
                  "_deepnote_index_column": 7648
                },
                {
                  "INSTNM": "Florida National University-South Campus",
                  "TUITIONFEE_IN": 13250,
                  "_deepnote_index_column": 7649
                },
                {
                  "INSTNM": "Florida National University Training Center",
                  "TUITIONFEE_IN": 13250,
                  "_deepnote_index_column": 7650
                },
                {
                  "INSTNM": "Southeastern College-Miami Lakes",
                  "TUITIONFEE_IN": 16856,
                  "_deepnote_index_column": 7655
                },
                {
                  "INSTNM": "Southeastern College-St. Petersburg",
                  "TUITIONFEE_IN": 16856,
                  "_deepnote_index_column": 7656
                },
                {
                  "INSTNM": "Southeastern College-New Port Richey",
                  "TUITIONFEE_IN": 16856,
                  "_deepnote_index_column": 7657
                },
                {
                  "INSTNM": "Southeastern College - Tampa",
                  "TUITIONFEE_IN": 16856,
                  "_deepnote_index_column": 7658
                },
                {
                  "INSTNM": "Colorado Technical University",
                  "TUITIONFEE_IN": 11396,
                  "_deepnote_index_column": 7659
                },
                {
                  "INSTNM": "Strayer University-Rockville Campus",
                  "TUITIONFEE_IN": 12975,
                  "_deepnote_index_column": 7660
                },
                {
                  "INSTNM": "Strayer University-Anne Arundel Campus",
                  "TUITIONFEE_IN": 12975,
                  "_deepnote_index_column": 7661
                },
                {
                  "INSTNM": "Strayer University-White Marsh Campus",
                  "TUITIONFEE_IN": 12975,
                  "_deepnote_index_column": 7662
                },
                {
                  "INSTNM": "Strayer University-Owings Mills Campus",
                  "TUITIONFEE_IN": 12975,
                  "_deepnote_index_column": 7663
                },
                {
                  "INSTNM": "McCann School of Business & Technology",
                  "TUITIONFEE_IN": 9820,
                  "_deepnote_index_column": 7668
                },
                {
                  "INSTNM": "McCann School of Business & Technology",
                  "TUITIONFEE_IN": 9820,
                  "_deepnote_index_column": 7669
                },
                {
                  "INSTNM": "McCann School of Business & Technology",
                  "TUITIONFEE_IN": 9820,
                  "_deepnote_index_column": 7670
                },
                {
                  "INSTNM": "McCann School of Business & Technology",
                  "TUITIONFEE_IN": 9820,
                  "_deepnote_index_column": 7671
                },
                {
                  "INSTNM": "McCann School of Business & Technology",
                  "TUITIONFEE_IN": 9820,
                  "_deepnote_index_column": 7672
                },
                {
                  "INSTNM": "McCann School of Business & Technology",
                  "TUITIONFEE_IN": 9820,
                  "_deepnote_index_column": 7673
                },
                {
                  "INSTNM": "Strayer University-Nashville Campus",
                  "TUITIONFEE_IN": 12975,
                  "_deepnote_index_column": 7683
                },
                {
                  "INSTNM": "Strayer University-Shelby Oaks Campus",
                  "TUITIONFEE_IN": 12975,
                  "_deepnote_index_column": 7684
                },
                {
                  "INSTNM": "Strayer University-Knoxville Campus",
                  "TUITIONFEE_IN": 12975,
                  "_deepnote_index_column": 7685
                },
                {
                  "INSTNM": "Strayer University-Delaware County Campus",
                  "TUITIONFEE_IN": 12975,
                  "_deepnote_index_column": 7686
                },
                {
                  "INSTNM": "Strayer University-King of Prussia Campus",
                  "TUITIONFEE_IN": 12975,
                  "_deepnote_index_column": 7687
                },
                {
                  "INSTNM": "Strayer University-Center City Campus",
                  "TUITIONFEE_IN": 12975,
                  "_deepnote_index_column": 7688
                },
                {
                  "INSTNM": "Strayer University-Lower Bucks County Campus",
                  "TUITIONFEE_IN": 12975,
                  "_deepnote_index_column": 7689
                },
                {
                  "INSTNM": "Strayer University-Warrendale Campus",
                  "TUITIONFEE_IN": 12975,
                  "_deepnote_index_column": 7690
                },
                {
                  "INSTNM": "Strayer University-Allentown Campus",
                  "TUITIONFEE_IN": 12975,
                  "_deepnote_index_column": 7691
                },
                {
                  "INSTNM": "Rasmussen College-Aurora",
                  "TUITIONFEE_IN": 10764,
                  "_deepnote_index_column": 7699
                },
                {
                  "INSTNM": "Rasmussen College-Romeoville/Joliet",
                  "TUITIONFEE_IN": 10764,
                  "_deepnote_index_column": 7700
                },
                {
                  "INSTNM": "Rasmussen College-Mokena/Tinley Park",
                  "TUITIONFEE_IN": 10764,
                  "_deepnote_index_column": 7701
                },
                {
                  "INSTNM": "Strayer University-Tampa East Campus",
                  "TUITIONFEE_IN": 12975,
                  "_deepnote_index_column": 7702
                },
                {
                  "INSTNM": "Strayer University-Maitland Campus",
                  "TUITIONFEE_IN": 12975,
                  "_deepnote_index_column": 7703
                },
                {
                  "INSTNM": "Strayer University-Orlando East Campus",
                  "TUITIONFEE_IN": 12975,
                  "_deepnote_index_column": 7704
                },
                {
                  "INSTNM": "Strayer University-Sand Lake Campus",
                  "TUITIONFEE_IN": 12975,
                  "_deepnote_index_column": 7705
                },
                {
                  "INSTNM": "Strayer University-Baymeadows Campus",
                  "TUITIONFEE_IN": 12975,
                  "_deepnote_index_column": 7706
                },
                {
                  "INSTNM": "Strayer University-Palm Beach Gardens Campus",
                  "TUITIONFEE_IN": 12975,
                  "_deepnote_index_column": 7707
                },
                {
                  "INSTNM": "Strayer University-Coral Springs Campus",
                  "TUITIONFEE_IN": 12975,
                  "_deepnote_index_column": 7708
                },
                {
                  "INSTNM": "Strayer University-Fort Lauderdale Campus",
                  "TUITIONFEE_IN": 12975,
                  "_deepnote_index_column": 7709
                },
                {
                  "INSTNM": "Strayer University-Miramar Campus",
                  "TUITIONFEE_IN": 12975,
                  "_deepnote_index_column": 7710
                },
                {
                  "INSTNM": "Strayer University-Doral",
                  "TUITIONFEE_IN": 12975,
                  "_deepnote_index_column": 7711
                },
                {
                  "INSTNM": "Strayer University-Brickell",
                  "TUITIONFEE_IN": 12975,
                  "_deepnote_index_column": 7712
                },
                {
                  "INSTNM": "Dayton School of Medical Massage-Lima",
                  "TUITIONFEE_IN": 15400,
                  "_deepnote_index_column": 7714
                },
                {
                  "INSTNM": "Cincinnati School of Medical Massage",
                  "TUITIONFEE_IN": 15400,
                  "_deepnote_index_column": 7715
                },
                {
                  "INSTNM": "Cleveland Institute of Medical Massage",
                  "TUITIONFEE_IN": 15400,
                  "_deepnote_index_column": 7716
                },
                {
                  "INSTNM": "Strayer University-Huntsville Campus",
                  "TUITIONFEE_IN": 12975,
                  "_deepnote_index_column": 7718
                },
                {
                  "INSTNM": "Rasmussen College-Appleton",
                  "TUITIONFEE_IN": 10764,
                  "_deepnote_index_column": 7719
                },
                {
                  "INSTNM": "Rasmussen College-Wausau",
                  "TUITIONFEE_IN": 10764,
                  "_deepnote_index_column": 7720
                },
                {
                  "INSTNM": "Strayer University-North Charlotte",
                  "TUITIONFEE_IN": 12975,
                  "_deepnote_index_column": 7721
                },
                {
                  "INSTNM": "Strayer University-South Charlotte",
                  "TUITIONFEE_IN": 12975,
                  "_deepnote_index_column": 7722
                },
                {
                  "INSTNM": "Strayer University-North Raleigh Campus",
                  "TUITIONFEE_IN": 12975,
                  "_deepnote_index_column": 7723
                },
                {
                  "INSTNM": "Strayer University-Greensboro Campus",
                  "TUITIONFEE_IN": 12975,
                  "_deepnote_index_column": 7724
                },
                {
                  "INSTNM": "Strayer University-Huntersville Campus",
                  "TUITIONFEE_IN": 12975,
                  "_deepnote_index_column": 7725
                },
                {
                  "INSTNM": "Strayer University-South Raleigh Campus",
                  "TUITIONFEE_IN": 12975,
                  "_deepnote_index_column": 7726
                },
                {
                  "INSTNM": "Strayer University-Willingboro Campus",
                  "TUITIONFEE_IN": 12975,
                  "_deepnote_index_column": 7727
                },
                {
                  "INSTNM": "Strayer University-Lawrenceville",
                  "TUITIONFEE_IN": 12975,
                  "_deepnote_index_column": 7728
                },
                {
                  "INSTNM": "Strayer University-Piscataway",
                  "TUITIONFEE_IN": 12975,
                  "_deepnote_index_column": 7729
                },
                {
                  "INSTNM": "National Career Institute - Jersey City Branch",
                  "TUITIONFEE_IN": 9800,
                  "_deepnote_index_column": 7737
                },
                {
                  "INSTNM": "Strayer University-Cobb Campus",
                  "TUITIONFEE_IN": 12975,
                  "_deepnote_index_column": 7738
                },
                {
                  "INSTNM": "Strayer University-Morrow Campus",
                  "TUITIONFEE_IN": 12975,
                  "_deepnote_index_column": 7739
                },
                {
                  "INSTNM": "Strayer University-Roswell Campus",
                  "TUITIONFEE_IN": 12975,
                  "_deepnote_index_column": 7740
                },
                {
                  "INSTNM": "Strayer University-Douglasville Campus",
                  "TUITIONFEE_IN": 12975,
                  "_deepnote_index_column": 7741
                },
                {
                  "INSTNM": "Strayer University-Lithonia Campus",
                  "TUITIONFEE_IN": 12975,
                  "_deepnote_index_column": 7742
                },
                {
                  "INSTNM": "Strayer University-Savannah Campus",
                  "TUITIONFEE_IN": 12975,
                  "_deepnote_index_column": 7743
                },
                {
                  "INSTNM": "Strayer University-Augusta Campus",
                  "TUITIONFEE_IN": 12975,
                  "_deepnote_index_column": 7744
                },
                {
                  "INSTNM": "Strayer University-Columbus",
                  "TUITIONFEE_IN": 12975,
                  "_deepnote_index_column": 7745
                },
                {
                  "INSTNM": "Strayer University-Columbia Campus",
                  "TUITIONFEE_IN": 12975,
                  "_deepnote_index_column": 7746
                },
                {
                  "INSTNM": "Strayer University-Charleston Campus",
                  "TUITIONFEE_IN": 12975,
                  "_deepnote_index_column": 7747
                },
                {
                  "INSTNM": "Strayer University-Irving",
                  "TUITIONFEE_IN": 12975,
                  "_deepnote_index_column": 7748
                },
                {
                  "INSTNM": "Strayer University-Katy",
                  "TUITIONFEE_IN": 12975,
                  "_deepnote_index_column": 7749
                },
                {
                  "INSTNM": "Strayer University-Northwest Houston",
                  "TUITIONFEE_IN": 12975,
                  "_deepnote_index_column": 7750
                },
                {
                  "INSTNM": "Strayer University-Plano",
                  "TUITIONFEE_IN": 12975,
                  "_deepnote_index_column": 7751
                },
                {
                  "INSTNM": "Strayer University-Cedar Hill",
                  "TUITIONFEE_IN": 12975,
                  "_deepnote_index_column": 7752
                },
                {
                  "INSTNM": "Strayer University-North Dallas",
                  "TUITIONFEE_IN": 12975,
                  "_deepnote_index_column": 7753
                },
                {
                  "INSTNM": "Strayer University-San Antonio",
                  "TUITIONFEE_IN": 12975,
                  "_deepnote_index_column": 7754
                },
                {
                  "INSTNM": "Strayer University-Stafford",
                  "TUITIONFEE_IN": 12975,
                  "_deepnote_index_column": 7755
                },
                {
                  "INSTNM": "Unitek College",
                  "TUITIONFEE_IN": 22256,
                  "_deepnote_index_column": 7756
                },
                {
                  "INSTNM": "Rasmussen College - Overland Park",
                  "TUITIONFEE_IN": 10764,
                  "_deepnote_index_column": 7761
                },
                {
                  "INSTNM": "High Desert Medical College - Bakerfield",
                  "TUITIONFEE_IN": 29932,
                  "_deepnote_index_column": 7764
                }
              ]
            },
            "text/plain": "                                        INSTNM  TUITIONFEE_IN\n0                     Alabama A & M University         9096.0\n1          University of Alabama at Birmingham         7510.0\n2                           Amridge University         6900.0\n3          University of Alabama in Huntsville         9158.0\n4                     Alabama State University         8720.0\n...                                        ...            ...\n7754            Strayer University-San Antonio        12975.0\n7755               Strayer University-Stafford        12975.0\n7756                            Unitek College        22256.0\n7761         Rasmussen College - Overland Park        10764.0\n7764  High Desert Medical College - Bakerfield        29932.0\n\n[4407 rows x 2 columns]",
            "text/html": "<div>\n<style scoped>\n    .dataframe tbody tr th:only-of-type {\n        vertical-align: middle;\n    }\n\n    .dataframe tbody tr th {\n        vertical-align: top;\n    }\n\n    .dataframe thead th {\n        text-align: right;\n    }\n</style>\n<table border=\"1\" class=\"dataframe\">\n  <thead>\n    <tr style=\"text-align: right;\">\n      <th></th>\n      <th>INSTNM</th>\n      <th>TUITIONFEE_IN</th>\n    </tr>\n  </thead>\n  <tbody>\n    <tr>\n      <th>0</th>\n      <td>Alabama A &amp; M University</td>\n      <td>9096.0</td>\n    </tr>\n    <tr>\n      <th>1</th>\n      <td>University of Alabama at Birmingham</td>\n      <td>7510.0</td>\n    </tr>\n    <tr>\n      <th>2</th>\n      <td>Amridge University</td>\n      <td>6900.0</td>\n    </tr>\n    <tr>\n      <th>3</th>\n      <td>University of Alabama in Huntsville</td>\n      <td>9158.0</td>\n    </tr>\n    <tr>\n      <th>4</th>\n      <td>Alabama State University</td>\n      <td>8720.0</td>\n    </tr>\n    <tr>\n      <th>...</th>\n      <td>...</td>\n      <td>...</td>\n    </tr>\n    <tr>\n      <th>7754</th>\n      <td>Strayer University-San Antonio</td>\n      <td>12975.0</td>\n    </tr>\n    <tr>\n      <th>7755</th>\n      <td>Strayer University-Stafford</td>\n      <td>12975.0</td>\n    </tr>\n    <tr>\n      <th>7756</th>\n      <td>Unitek College</td>\n      <td>22256.0</td>\n    </tr>\n    <tr>\n      <th>7761</th>\n      <td>Rasmussen College - Overland Park</td>\n      <td>10764.0</td>\n    </tr>\n    <tr>\n      <th>7764</th>\n      <td>High Desert Medical College - Bakerfield</td>\n      <td>29932.0</td>\n    </tr>\n  </tbody>\n</table>\n<p>4407 rows × 2 columns</p>\n</div>"
          },
          "metadata": {}
        }
      ]
    },
    {
      "cell_type": "markdown",
      "source": "#### Display remaining number of observations.",
      "metadata": {
        "tags": [],
        "cell_id": "00024-deb81362-8828-45b4-aa6a-f8e2149bb627",
        "deepnote_cell_type": "markdown"
      }
    },
    {
      "cell_type": "code",
      "metadata": {
        "tags": [],
        "cell_id": "00024-868a1d1d-d057-48c0-a535-29568329215d",
        "deepnote_to_be_reexecuted": false,
        "source_hash": "de1e323c",
        "execution_millis": 15,
        "execution_start": 1619386260800,
        "deepnote_cell_type": "code"
      },
      "source": "df.info()",
      "execution_count": 13,
      "outputs": [
        {
          "name": "stdout",
          "text": "<class 'pandas.core.frame.DataFrame'>\nInt64Index: 4407 entries, 0 to 7764\nData columns (total 2 columns):\n #   Column         Non-Null Count  Dtype  \n---  ------         --------------  -----  \n 0   INSTNM         4407 non-null   object \n 1   TUITIONFEE_IN  4407 non-null   float64\ndtypes: float64(1), object(1)\nmemory usage: 103.3+ KB\n",
          "output_type": "stream"
        }
      ]
    },
    {
      "cell_type": "markdown",
      "source": "### 7 - Find out how many observations have 0 tuition.",
      "metadata": {
        "tags": [],
        "cell_id": "00026-f412c427-9197-4ea2-ad75-3e6d04acb75e",
        "deepnote_cell_type": "markdown"
      }
    },
    {
      "cell_type": "markdown",
      "source": "#### Number of observations with a non-zero value in the data frame. ",
      "metadata": {
        "tags": [],
        "cell_id": "00027-343ca447-51f6-4f55-8c58-dd3dd7995e8c",
        "deepnote_cell_type": "markdown"
      }
    },
    {
      "cell_type": "code",
      "metadata": {
        "tags": [],
        "cell_id": "00027-9239b37f-d531-4f06-8f76-dd29f2bad3a3",
        "deepnote_to_be_reexecuted": false,
        "source_hash": "e6d7b1d6",
        "execution_millis": 19,
        "execution_start": 1619386260811,
        "deepnote_cell_type": "code"
      },
      "source": "df.astype(bool).sum(axis=0)",
      "execution_count": 14,
      "outputs": [
        {
          "output_type": "execute_result",
          "execution_count": 14,
          "data": {
            "text/plain": "INSTNM           4407\nTUITIONFEE_IN    4406\ndtype: int64"
          },
          "metadata": {}
        }
      ]
    },
    {
      "cell_type": "markdown",
      "source": "#### Number of obervations with non-zero tuition.",
      "metadata": {
        "tags": [],
        "cell_id": "00029-4bca0eb0-560b-4cdb-88ce-95e617780ab7",
        "deepnote_cell_type": "markdown"
      }
    },
    {
      "cell_type": "code",
      "metadata": {
        "tags": [],
        "cell_id": "00028-7bbfb761-83b5-481b-9fa1-e6d2c4aaf6bb",
        "deepnote_to_be_reexecuted": false,
        "source_hash": "833b9496",
        "execution_millis": 17,
        "execution_start": 1619386260825,
        "deepnote_cell_type": "code"
      },
      "source": "np.count_nonzero(df['TUITIONFEE_IN'])",
      "execution_count": 15,
      "outputs": [
        {
          "output_type": "execute_result",
          "execution_count": 15,
          "data": {
            "text/plain": "4406"
          },
          "metadata": {}
        }
      ]
    },
    {
      "cell_type": "markdown",
      "source": "#### Number of observations with zero tuition. ",
      "metadata": {
        "tags": [],
        "cell_id": "00031-75229694-26de-4018-b099-f2c5cf7df2ff",
        "deepnote_cell_type": "markdown"
      }
    },
    {
      "cell_type": "code",
      "metadata": {
        "tags": [],
        "cell_id": "00029-e8d0e6aa-3643-46b2-bfe2-0b67028baef3",
        "deepnote_to_be_reexecuted": false,
        "source_hash": "ab5e37a7",
        "execution_millis": 0,
        "execution_start": 1619386260859,
        "deepnote_cell_type": "code"
      },
      "source": "print(np.count_nonzero(df['TUITIONFEE_IN'] == 0))",
      "execution_count": 16,
      "outputs": [
        {
          "name": "stdout",
          "text": "1\n",
          "output_type": "stream"
        }
      ]
    },
    {
      "cell_type": "markdown",
      "source": "### 8 - Drop those observations with 0 tuition",
      "metadata": {
        "tags": [],
        "cell_id": "00031-945526a4-c782-417b-b477-520eefe03c9d",
        "deepnote_cell_type": "markdown"
      }
    },
    {
      "cell_type": "code",
      "metadata": {
        "tags": [],
        "cell_id": "00036-d987c018-4f88-43d4-bab9-ea924963e7cc",
        "deepnote_to_be_reexecuted": false,
        "source_hash": "6954c700",
        "execution_millis": 7,
        "execution_start": 1619386260860,
        "deepnote_cell_type": "code"
      },
      "source": "df.drop(df.index[df['TUITIONFEE_IN'] == 0], inplace = True)",
      "execution_count": 17,
      "outputs": []
    },
    {
      "cell_type": "markdown",
      "source": "#### Number of observations with zero tuition is now zero.",
      "metadata": {
        "tags": [],
        "cell_id": "00035-e781dfd8-89b2-4a59-a9a6-4c83009d431c",
        "deepnote_cell_type": "markdown"
      }
    },
    {
      "cell_type": "code",
      "metadata": {
        "tags": [],
        "cell_id": "00036-0f534c48-d104-4a96-8715-7272ff91788d",
        "deepnote_to_be_reexecuted": false,
        "source_hash": "d04d1958",
        "execution_millis": 56,
        "execution_start": 1619386260861,
        "deepnote_cell_type": "code"
      },
      "source": "np.count_nonzero(df['TUITIONFEE_IN'] == 0)",
      "execution_count": 18,
      "outputs": [
        {
          "output_type": "execute_result",
          "execution_count": 18,
          "data": {
            "text/plain": "0"
          },
          "metadata": {}
        }
      ]
    },
    {
      "cell_type": "markdown",
      "source": "#### Display the number of observations afterward ",
      "metadata": {
        "tags": [],
        "cell_id": "00035-aafb2cfe-2bef-4a94-ae39-c25a78dc5e77",
        "deepnote_cell_type": "markdown"
      }
    },
    {
      "cell_type": "code",
      "metadata": {
        "tags": [],
        "cell_id": "00033-5a56ba7f-b3bb-4e51-95ed-24994da16a83",
        "deepnote_to_be_reexecuted": false,
        "source_hash": "de1e323c",
        "execution_millis": 52,
        "execution_start": 1619386260865,
        "deepnote_cell_type": "code"
      },
      "source": "df.info()",
      "execution_count": 19,
      "outputs": [
        {
          "name": "stdout",
          "text": "<class 'pandas.core.frame.DataFrame'>\nInt64Index: 4406 entries, 0 to 7764\nData columns (total 2 columns):\n #   Column         Non-Null Count  Dtype  \n---  ------         --------------  -----  \n 0   INSTNM         4406 non-null   object \n 1   TUITIONFEE_IN  4406 non-null   float64\ndtypes: float64(1), object(1)\nmemory usage: 103.3+ KB\n",
          "output_type": "stream"
        }
      ]
    },
    {
      "cell_type": "markdown",
      "source": "### 9 - Calculate and display the mean (average) of the tuitions of all the remaining observations",
      "metadata": {
        "tags": [],
        "cell_id": "00039-07bfada7-e984-44f6-b8aa-30e9ce63ba59",
        "deepnote_cell_type": "markdown"
      }
    },
    {
      "cell_type": "code",
      "metadata": {
        "tags": [],
        "cell_id": "00040-50803dc5-7e91-4ac3-be6c-c89eda8513e3",
        "deepnote_to_be_reexecuted": false,
        "source_hash": "4069939a",
        "execution_millis": 30,
        "execution_start": 1619386260887,
        "deepnote_cell_type": "code"
      },
      "source": "average_df = np.mean(df['TUITIONFEE_IN'])\nprint(average_df)",
      "execution_count": 20,
      "outputs": [
        {
          "name": "stdout",
          "text": "14151.408533817521\n",
          "output_type": "stream"
        }
      ]
    },
    {
      "cell_type": "markdown",
      "source": "### 10 - Randomly select just 1 observation from the data frame.\n### Display the tuition of that observation.",
      "metadata": {
        "tags": [],
        "cell_id": "00041-c5fbc607-1398-4534-b0a9-9ed09331e1b9",
        "deepnote_cell_type": "markdown"
      }
    },
    {
      "cell_type": "markdown",
      "source": "#### First use df.sample() to get a random observation.\n#### Assign it to the variable \"sample_of_one\" in order to keep this observation and perform operations on it later.",
      "metadata": {
        "tags": [],
        "cell_id": "00042-ada4f9b2-7db5-4661-afa5-79ae85be9ccd",
        "deepnote_cell_type": "markdown"
      }
    },
    {
      "cell_type": "code",
      "metadata": {
        "tags": [],
        "cell_id": "00042-21dbb7ba-a06c-4fb1-b35b-99e2fa318335",
        "deepnote_to_be_reexecuted": false,
        "source_hash": "98ffbac8",
        "execution_millis": 23,
        "execution_start": 1619386260894,
        "deepnote_cell_type": "code"
      },
      "source": "sample_of_one = df.sample()\nsample_of_one",
      "execution_count": 21,
      "outputs": [
        {
          "output_type": "execute_result",
          "execution_count": 21,
          "data": {
            "application/vnd.deepnote.dataframe.v2+json": {
              "row_count": 1,
              "column_count": 2,
              "columns": [
                {
                  "name": "INSTNM",
                  "dtype": "object",
                  "stats": {
                    "unique_count": 1,
                    "nan_count": 0,
                    "categories": [
                      {
                        "name": "Sage College",
                        "count": 1
                      }
                    ]
                  }
                },
                {
                  "name": "TUITIONFEE_IN",
                  "dtype": "float64",
                  "stats": {
                    "unique_count": 1,
                    "nan_count": 0,
                    "min": "12460.0",
                    "max": "12460.0",
                    "histogram": [
                      {
                        "bin_start": 12459.5,
                        "bin_end": 12459.6,
                        "count": 0
                      },
                      {
                        "bin_start": 12459.6,
                        "bin_end": 12459.7,
                        "count": 0
                      },
                      {
                        "bin_start": 12459.7,
                        "bin_end": 12459.8,
                        "count": 0
                      },
                      {
                        "bin_start": 12459.8,
                        "bin_end": 12459.9,
                        "count": 0
                      },
                      {
                        "bin_start": 12459.9,
                        "bin_end": 12460,
                        "count": 0
                      },
                      {
                        "bin_start": 12460,
                        "bin_end": 12460.1,
                        "count": 1
                      },
                      {
                        "bin_start": 12460.1,
                        "bin_end": 12460.2,
                        "count": 0
                      },
                      {
                        "bin_start": 12460.2,
                        "bin_end": 12460.3,
                        "count": 0
                      },
                      {
                        "bin_start": 12460.3,
                        "bin_end": 12460.4,
                        "count": 0
                      },
                      {
                        "bin_start": 12460.4,
                        "bin_end": 12460.5,
                        "count": 0
                      }
                    ]
                  }
                },
                {
                  "name": "_deepnote_index_column",
                  "dtype": "int64"
                }
              ],
              "rows_top": [
                {
                  "INSTNM": "Sage College",
                  "TUITIONFEE_IN": 12460,
                  "_deepnote_index_column": 4899
                }
              ],
              "rows_bottom": null
            },
            "text/plain": "            INSTNM  TUITIONFEE_IN\n4899  Sage College        12460.0",
            "text/html": "<div>\n<style scoped>\n    .dataframe tbody tr th:only-of-type {\n        vertical-align: middle;\n    }\n\n    .dataframe tbody tr th {\n        vertical-align: top;\n    }\n\n    .dataframe thead th {\n        text-align: right;\n    }\n</style>\n<table border=\"1\" class=\"dataframe\">\n  <thead>\n    <tr style=\"text-align: right;\">\n      <th></th>\n      <th>INSTNM</th>\n      <th>TUITIONFEE_IN</th>\n    </tr>\n  </thead>\n  <tbody>\n    <tr>\n      <th>4899</th>\n      <td>Sage College</td>\n      <td>12460.0</td>\n    </tr>\n  </tbody>\n</table>\n</div>"
          },
          "metadata": {}
        }
      ]
    },
    {
      "cell_type": "markdown",
      "source": "### 11/12 - Calculate the difference between the tuition of this observation and \n### the mean tuition of all observations calculated earlier.\n### Display the difference.",
      "metadata": {
        "tags": [],
        "cell_id": "00043-a3299fb9-fb08-4b9d-97ce-3b673f52a39f",
        "deepnote_cell_type": "markdown"
      }
    },
    {
      "cell_type": "code",
      "metadata": {
        "tags": [],
        "cell_id": "00044-2cdc0bdd-7343-44e3-8bd3-9ef22539e7c3",
        "deepnote_to_be_reexecuted": false,
        "source_hash": "bd69f410",
        "execution_millis": 11,
        "execution_start": 1619386260906,
        "deepnote_cell_type": "code"
      },
      "source": "diff_sample_of_one = sample_of_one['TUITIONFEE_IN'] - average_df\ndiff_sample_of_one",
      "execution_count": 22,
      "outputs": [
        {
          "output_type": "execute_result",
          "execution_count": 22,
          "data": {
            "text/plain": "4899   -1691.408534\nName: TUITIONFEE_IN, dtype: float64"
          },
          "metadata": {}
        }
      ]
    },
    {
      "cell_type": "markdown",
      "source": "### 13 - Randomly select 20 observations, display the tuition of these observation.",
      "metadata": {
        "tags": [],
        "cell_id": "00046-7eaa9639-ccff-4e17-a80d-a3408de31a4d",
        "deepnote_cell_type": "markdown"
      }
    },
    {
      "cell_type": "code",
      "metadata": {
        "tags": [],
        "cell_id": "00047-84eaf67f-f27e-4dd3-8b90-86530c6beff6",
        "deepnote_to_be_reexecuted": false,
        "source_hash": "252ecaad",
        "execution_millis": 31,
        "execution_start": 1619386260910,
        "deepnote_cell_type": "code"
      },
      "source": "sample_of_twenty = df.sample(20)\nsample_of_twenty",
      "execution_count": 23,
      "outputs": [
        {
          "output_type": "execute_result",
          "execution_count": 23,
          "data": {
            "application/vnd.deepnote.dataframe.v2+json": {
              "row_count": 20,
              "column_count": 2,
              "columns": [
                {
                  "name": "INSTNM",
                  "dtype": "object",
                  "stats": {
                    "unique_count": 20,
                    "nan_count": 0,
                    "categories": [
                      {
                        "name": "The Art Institute of Wisconsin",
                        "count": 1
                      },
                      {
                        "name": "Fortis College-Cuyahoga Falls",
                        "count": 1
                      },
                      {
                        "name": "18 others",
                        "count": 18
                      }
                    ]
                  }
                },
                {
                  "name": "TUITIONFEE_IN",
                  "dtype": "float64",
                  "stats": {
                    "unique_count": 20,
                    "nan_count": 0,
                    "min": "3264.0",
                    "max": "47214.0",
                    "histogram": [
                      {
                        "bin_start": 3264,
                        "bin_end": 7659,
                        "count": 7
                      },
                      {
                        "bin_start": 7659,
                        "bin_end": 12054,
                        "count": 3
                      },
                      {
                        "bin_start": 12054,
                        "bin_end": 16449,
                        "count": 6
                      },
                      {
                        "bin_start": 16449,
                        "bin_end": 20844,
                        "count": 1
                      },
                      {
                        "bin_start": 20844,
                        "bin_end": 25239,
                        "count": 0
                      },
                      {
                        "bin_start": 25239,
                        "bin_end": 29634,
                        "count": 0
                      },
                      {
                        "bin_start": 29634,
                        "bin_end": 34029,
                        "count": 2
                      },
                      {
                        "bin_start": 34029,
                        "bin_end": 38424,
                        "count": 0
                      },
                      {
                        "bin_start": 38424,
                        "bin_end": 42819,
                        "count": 0
                      },
                      {
                        "bin_start": 42819,
                        "bin_end": 47214,
                        "count": 1
                      }
                    ]
                  }
                },
                {
                  "name": "_deepnote_index_column",
                  "dtype": "int64"
                }
              ],
              "rows_top": [
                {
                  "INSTNM": "The Art Institute of Wisconsin",
                  "TUITIONFEE_IN": 14968,
                  "_deepnote_index_column": 6825
                },
                {
                  "INSTNM": "Fortis College-Cuyahoga Falls",
                  "TUITIONFEE_IN": 13533,
                  "_deepnote_index_column": 2964
                },
                {
                  "INSTNM": "Atlantic Cape Community College",
                  "TUITIONFEE_IN": 4152,
                  "_deepnote_index_column": 2250
                },
                {
                  "INSTNM": "Rasmussen College-Eagan",
                  "TUITIONFEE_IN": 10764,
                  "_deepnote_index_column": 7536
                },
                {
                  "INSTNM": "Roane State Community College",
                  "TUITIONFEE_IN": 3831,
                  "_deepnote_index_column": 3634
                },
                {
                  "INSTNM": "Haverford College",
                  "TUITIONFEE_IN": 47214,
                  "_deepnote_index_column": 3276
                },
                {
                  "INSTNM": "SUNY College of Environmental Science and Forestry",
                  "TUITIONFEE_IN": 7398,
                  "_deepnote_index_column": 2623
                },
                {
                  "INSTNM": "Altierus Career College-Arlington",
                  "TUITIONFEE_IN": 13500,
                  "_deepnote_index_column": 5593
                },
                {
                  "INSTNM": "College of Western Idaho",
                  "TUITIONFEE_IN": 3264,
                  "_deepnote_index_column": 6222
                },
                {
                  "INSTNM": "Claflin University",
                  "TUITIONFEE_IN": 15010,
                  "_deepnote_index_column": 3484
                },
                {
                  "INSTNM": "Remington College-Houston Southeast Campus",
                  "TUITIONFEE_IN": 16755,
                  "_deepnote_index_column": 6106
                },
                {
                  "INSTNM": "Adams State University",
                  "TUITIONFEE_IN": 8014,
                  "_deepnote_index_column": 571
                },
                {
                  "INSTNM": "Purdue University Global-Lewiston",
                  "TUITIONFEE_IN": 10710,
                  "_deepnote_index_column": 1545
                },
                {
                  "INSTNM": "Lake Land College",
                  "TUITIONFEE_IN": 3459,
                  "_deepnote_index_column": 1085
                },
                {
                  "INSTNM": "University of California-Irvine",
                  "TUITIONFEE_IN": 13179,
                  "_deepnote_index_column": 246
                },
                {
                  "INSTNM": "Delaware County Community College",
                  "TUITIONFEE_IN": 4840,
                  "_deepnote_index_column": 3234
                },
                {
                  "INSTNM": "Texas A & M International University",
                  "TUITIONFEE_IN": 6453,
                  "_deepnote_index_column": 3751
                },
                {
                  "INSTNM": "Defiance College",
                  "TUITIONFEE_IN": 29916,
                  "_deepnote_index_column": 2900
                },
                {
                  "INSTNM": "Nazareth College",
                  "TUITIONFEE_IN": 30762,
                  "_deepnote_index_column": 2542
                },
                {
                  "INSTNM": "Lee University",
                  "TUITIONFEE_IN": 14280,
                  "_deepnote_index_column": 3606
                }
              ],
              "rows_bottom": null
            },
            "text/plain": "                                                 INSTNM  TUITIONFEE_IN\n6825                     The Art Institute of Wisconsin        14968.0\n2964                      Fortis College-Cuyahoga Falls        13533.0\n2250                    Atlantic Cape Community College         4152.0\n7536                            Rasmussen College-Eagan        10764.0\n3634                      Roane State Community College         3831.0\n3276                                  Haverford College        47214.0\n2623  SUNY College of Environmental Science and Fore...         7398.0\n5593                  Altierus Career College-Arlington        13500.0\n6222                           College of Western Idaho         3264.0\n3484                                 Claflin University        15010.0\n6106         Remington College-Houston Southeast Campus        16755.0\n571                              Adams State University         8014.0\n1545                  Purdue University Global-Lewiston        10710.0\n1085                                  Lake Land College         3459.0\n246                     University of California-Irvine        13179.0\n3234                  Delaware County Community College         4840.0\n3751               Texas A & M International University         6453.0\n2900                                   Defiance College        29916.0\n2542                                   Nazareth College        30762.0\n3606                                     Lee University        14280.0",
            "text/html": "<div>\n<style scoped>\n    .dataframe tbody tr th:only-of-type {\n        vertical-align: middle;\n    }\n\n    .dataframe tbody tr th {\n        vertical-align: top;\n    }\n\n    .dataframe thead th {\n        text-align: right;\n    }\n</style>\n<table border=\"1\" class=\"dataframe\">\n  <thead>\n    <tr style=\"text-align: right;\">\n      <th></th>\n      <th>INSTNM</th>\n      <th>TUITIONFEE_IN</th>\n    </tr>\n  </thead>\n  <tbody>\n    <tr>\n      <th>6825</th>\n      <td>The Art Institute of Wisconsin</td>\n      <td>14968.0</td>\n    </tr>\n    <tr>\n      <th>2964</th>\n      <td>Fortis College-Cuyahoga Falls</td>\n      <td>13533.0</td>\n    </tr>\n    <tr>\n      <th>2250</th>\n      <td>Atlantic Cape Community College</td>\n      <td>4152.0</td>\n    </tr>\n    <tr>\n      <th>7536</th>\n      <td>Rasmussen College-Eagan</td>\n      <td>10764.0</td>\n    </tr>\n    <tr>\n      <th>3634</th>\n      <td>Roane State Community College</td>\n      <td>3831.0</td>\n    </tr>\n    <tr>\n      <th>3276</th>\n      <td>Haverford College</td>\n      <td>47214.0</td>\n    </tr>\n    <tr>\n      <th>2623</th>\n      <td>SUNY College of Environmental Science and Fore...</td>\n      <td>7398.0</td>\n    </tr>\n    <tr>\n      <th>5593</th>\n      <td>Altierus Career College-Arlington</td>\n      <td>13500.0</td>\n    </tr>\n    <tr>\n      <th>6222</th>\n      <td>College of Western Idaho</td>\n      <td>3264.0</td>\n    </tr>\n    <tr>\n      <th>3484</th>\n      <td>Claflin University</td>\n      <td>15010.0</td>\n    </tr>\n    <tr>\n      <th>6106</th>\n      <td>Remington College-Houston Southeast Campus</td>\n      <td>16755.0</td>\n    </tr>\n    <tr>\n      <th>571</th>\n      <td>Adams State University</td>\n      <td>8014.0</td>\n    </tr>\n    <tr>\n      <th>1545</th>\n      <td>Purdue University Global-Lewiston</td>\n      <td>10710.0</td>\n    </tr>\n    <tr>\n      <th>1085</th>\n      <td>Lake Land College</td>\n      <td>3459.0</td>\n    </tr>\n    <tr>\n      <th>246</th>\n      <td>University of California-Irvine</td>\n      <td>13179.0</td>\n    </tr>\n    <tr>\n      <th>3234</th>\n      <td>Delaware County Community College</td>\n      <td>4840.0</td>\n    </tr>\n    <tr>\n      <th>3751</th>\n      <td>Texas A &amp; M International University</td>\n      <td>6453.0</td>\n    </tr>\n    <tr>\n      <th>2900</th>\n      <td>Defiance College</td>\n      <td>29916.0</td>\n    </tr>\n    <tr>\n      <th>2542</th>\n      <td>Nazareth College</td>\n      <td>30762.0</td>\n    </tr>\n    <tr>\n      <th>3606</th>\n      <td>Lee University</td>\n      <td>14280.0</td>\n    </tr>\n  </tbody>\n</table>\n</div>"
          },
          "metadata": {}
        }
      ]
    },
    {
      "cell_type": "markdown",
      "source": "### 14 - Calculate and display the mean tuition of these 20 observations\n",
      "metadata": {
        "tags": [],
        "cell_id": "00048-01100aab-6486-4c2a-ad0a-8cc2eb5c3dc6",
        "deepnote_cell_type": "markdown"
      }
    },
    {
      "cell_type": "code",
      "metadata": {
        "tags": [],
        "cell_id": "00049-156d7cdf-5eb8-4a72-b14a-f9d11565b1d7",
        "deepnote_to_be_reexecuted": false,
        "source_hash": "8575d171",
        "execution_millis": 8,
        "execution_start": 1619386260933,
        "deepnote_cell_type": "code"
      },
      "source": "average_sample = np.mean(sample_of_twenty['TUITIONFEE_IN'])\nprint(average_sample)",
      "execution_count": 24,
      "outputs": [
        {
          "name": "stdout",
          "text": "13600.1\n",
          "output_type": "stream"
        }
      ]
    },
    {
      "cell_type": "markdown",
      "source": "### 15 - Calculate  the difference between the average tuition of these 20 observations. \n### and the mean tuition of all observations calculated earlier.\n### Display the difference.",
      "metadata": {
        "tags": [],
        "cell_id": "00050-cc609811-26c7-4de5-b739-b08587b3b1e7",
        "deepnote_cell_type": "markdown"
      }
    },
    {
      "cell_type": "code",
      "metadata": {
        "tags": [],
        "cell_id": "00051-17731c53-61d9-4898-a82b-9f1d1c282304",
        "deepnote_to_be_reexecuted": false,
        "source_hash": "c2ff78f0",
        "execution_millis": 6,
        "execution_start": 1619386260939,
        "deepnote_cell_type": "code"
      },
      "source": "diff_sample_of_twenty = average_sample - average_df \ndiff_sample_of_twenty",
      "execution_count": 25,
      "outputs": [
        {
          "output_type": "execute_result",
          "execution_count": 25,
          "data": {
            "text/plain": "-551.3085338175206"
          },
          "metadata": {}
        }
      ]
    },
    {
      "cell_type": "markdown",
      "source": "### 16 - Repeat 13 to 15 several times and get the feel of the size of the difference in means.\n### Compare these differences with the differences calculated earlier with just 1 observation.\n### Describe your hunch/conclusion.",
      "metadata": {
        "tags": [],
        "cell_id": "00052-db31a3f1-5ef0-4bca-9546-dee1fd8f1b69",
        "deepnote_cell_type": "markdown"
      }
    },
    {
      "cell_type": "markdown",
      "source": "#### In each run, the size of the difference in means with a sample of 20 observations was always smaller than a sample with just one observation.\n#### From the law of large numbers: \n#### As you get more and more samples, the mean will get closer to the population mean. ",
      "metadata": {
        "tags": [],
        "cell_id": "00053-99269eec-bf23-47c8-9b22-6ca5de232d16",
        "deepnote_cell_type": "markdown"
      }
    },
    {
      "cell_type": "markdown",
      "source": "### 17 - Write a function that takes two input parameters:\n### x (number of observations)\n### y (the name of the dataframe).\n### The function will perform the following:\n### Randomly select x observations from y\n### Calculate the mean of these x observations\n### Calculate the mean of all observations\n### Calculate the difference between the two means\n### Return the difference",
      "metadata": {
        "tags": [],
        "cell_id": "00054-40015161-b107-4218-b345-583dcb8562fd",
        "deepnote_cell_type": "markdown"
      }
    },
    {
      "cell_type": "code",
      "metadata": {
        "tags": [],
        "cell_id": "00056-4dd599e5-764a-46fd-ab8d-f52b16f2d8ed",
        "deepnote_to_be_reexecuted": false,
        "source_hash": "653f5d14",
        "execution_millis": 1,
        "execution_start": 1619386393161,
        "deepnote_cell_type": "code"
      },
      "source": "def function(x, y): #x is the number of observations, and y is the name of the data frame\n    num = x #value of x gets stored in num\n    df_sample = y.sample(num) #randomly select x observations from y \n    df_sample_mean = np.mean(df_sample['TUITIONFEE_IN']) #calculate sample mean of these x observations\n    overall_mean = np.mean(y['TUITIONFEE_IN']) #calculate mean of all observations\n    diff_in_means = df_sample_mean - overall_mean #calculate the difference between the two means\n    return diff_in_means #return difference ",
      "execution_count": 34,
      "outputs": []
    },
    {
      "cell_type": "markdown",
      "source": "### 18 - Test the function by passing a sample size and the name of the dataframe\n### Display the return of the function",
      "metadata": {
        "tags": [],
        "cell_id": "00056-744a3980-577f-40e6-9e75-1a2efa37b37d",
        "deepnote_cell_type": "markdown"
      }
    },
    {
      "cell_type": "code",
      "metadata": {
        "tags": [],
        "cell_id": "00057-82beef3f-5dfe-4190-be93-fdc54b2290e7",
        "deepnote_to_be_reexecuted": false,
        "source_hash": "486041ea",
        "execution_millis": 6,
        "execution_start": 1619386260976,
        "deepnote_cell_type": "code"
      },
      "source": "print(function(5, sample_of_twenty))\nprint(function(19, sample_of_twenty)) #difference in means is always smaller than the above due to a larger sample size \n#------------------------------------\nprint(function(5, df))\nprint(function(98, df)) #difference in means is always smaller than the above due to a larger sample size",
      "execution_count": 27,
      "outputs": [
        {
          "name": "stdout",
          "text": "-3591.300000000001\n497.2684210526313\n8820.99146618248\n-1302.7350644297658\n",
          "output_type": "stream"
        }
      ]
    },
    {
      "cell_type": "markdown",
      "source": "### 19 - Create a list of sequence numbers from 1 to 50, name it \"sample_sizes\"\n### Display it to make sure its members are from 1 to 50",
      "metadata": {
        "tags": [],
        "cell_id": "00058-9ab243db-09f3-48e5-8322-d9b08b548478",
        "deepnote_cell_type": "markdown"
      }
    },
    {
      "cell_type": "code",
      "source": "sample_sizes = []\nfor x in range(50):\n    sample_sizes.append(x + 1)\nprint(sample_sizes)",
      "metadata": {
        "tags": [],
        "cell_id": "00062-f61902aa-24f5-470d-ac8f-de4912aa8384",
        "deepnote_to_be_reexecuted": false,
        "source_hash": "91b8f44a",
        "execution_millis": 5,
        "execution_start": 1619386260977,
        "deepnote_cell_type": "code"
      },
      "outputs": [
        {
          "name": "stdout",
          "text": "[1, 2, 3, 4, 5, 6, 7, 8, 9, 10, 11, 12, 13, 14, 15, 16, 17, 18, 19, 20, 21, 22, 23, 24, 25, 26, 27, 28, 29, 30, 31, 32, 33, 34, 35, 36, 37, 38, 39, 40, 41, 42, 43, 44, 45, 46, 47, 48, 49, 50]\n",
          "output_type": "stream"
        }
      ],
      "execution_count": 28
    },
    {
      "cell_type": "markdown",
      "source": "### 20 - Create an empty list and name it \"means_diff\" for differences of population mean and sample means;\n### Loop through the list sample_sizes:\n### For each element in the sample size list, obtain a random sample of that size from the data frame;\n### Calculate the sample mean \n### Calculate the difference between the population mean and the sample mean\n### Append the difference to the list \"means_diff\"\n### Display the list \"means_diff\" after the loop is completed",
      "metadata": {
        "tags": [],
        "cell_id": "00060-400c89fc-44b0-494b-b26d-cf857bd5a4ec",
        "deepnote_cell_type": "markdown"
      }
    },
    {
      "cell_type": "code",
      "metadata": {
        "tags": [],
        "cell_id": "00061-b4fcbbc9-87ce-4252-9c03-dbe778ed90ce",
        "deepnote_to_be_reexecuted": false,
        "source_hash": "ca384b00",
        "execution_millis": 48,
        "execution_start": 1619386260979,
        "deepnote_cell_type": "code"
      },
      "source": "means_diff = [] #list for the differences of population mean and sample means\n\nfor x in sample_sizes: #loop through sample_sizes\n    random_sample = df.sample(x) #obtain a random sample of that size from the data frame\n    sample_mean = np.mean(random_sample['TUITIONFEE_IN']) #calculate sample mean\n    overall_mean = np.mean(df['TUITIONFEE_IN']) #calculate mean of all observations\n    diff_in_means = sample_mean - overall_mean #calculate difference between population mean and sample mean\n    means_diff.append(diff_in_means) #append this difference to means_diff\n\n#display means_diff\nmeans_diff\n    ",
      "execution_count": 29,
      "outputs": [
        {
          "output_type": "execute_result",
          "execution_count": 29,
          "data": {
            "text/plain": "[-10290.408533817521,\n -2321.408533817521,\n -3506.741867150855,\n -3170.158533817521,\n 1501.591466182479,\n -7786.075200484188,\n 1455.591466182479,\n 2249.591466182479,\n 3068.258132849147,\n -2855.408533817521,\n -2258.772170181157,\n -2499.908533817521,\n -2025.6393030482905,\n -642.8371052460916,\n -5131.941867150854,\n -2155.283533817521,\n 2811.179701476598,\n 6676.758132849147,\n -7153.092744343837,\n -2481.0585338175206,\n 338.73432332533594,\n 4375.727829818843,\n -956.756359904477,\n 2213.299799515813,\n 445.7514661824789,\n 1498.2453123363248,\n 1610.2951698861834,\n 514.4128947539084,\n -1106.8568096795898,\n -1361.1418671508545,\n -2552.731114462682,\n 611.622716182479,\n -1943.832776241763,\n 619.7973485354196,\n -434.5228195318068,\n 2947.2859106269243,\n 5674.807682398696,\n 260.4335714456374,\n -2421.2290466380346,\n -2681.6085338175217,\n 3119.5670759385757,\n -1616.765676674664,\n 2613.289140601082,\n 382.477829818843,\n 10.902577293589275,\n 3259.156683573783,\n -761.4936402005005,\n -1129.116867150855,\n -1904.6126154501744,\n -1965.5685338175208]"
          },
          "metadata": {}
        }
      ]
    },
    {
      "cell_type": "markdown",
      "source": "### 21 - Make a scatter plot with sample size on the x-axis and  mean difference on the y-axis\n### Observe that as the sample size increases, the sample means converge towards the population mean.",
      "metadata": {
        "tags": [],
        "cell_id": "00062-5cb0127d-be37-43fd-8162-fbf69b0d6f85",
        "deepnote_cell_type": "markdown"
      }
    },
    {
      "cell_type": "markdown",
      "source": "#### Using Matplotlib:",
      "metadata": {
        "tags": [],
        "cell_id": "00063-2ccdf5f8-d2ad-4542-8262-9d10e1d36a82",
        "deepnote_cell_type": "markdown"
      }
    },
    {
      "cell_type": "code",
      "source": "plt.scatter(sample_sizes, means_diff)\nplt.show()",
      "metadata": {
        "tags": [],
        "cell_id": "00063-0f3071f4-661d-4635-9e1d-e8732cd86df1",
        "deepnote_to_be_reexecuted": false,
        "source_hash": "69efe479",
        "execution_millis": 162,
        "execution_start": 1619386261022,
        "deepnote_cell_type": "code"
      },
      "outputs": [
        {
          "data": {
            "text/plain": "<Figure size 864x576 with 1 Axes>",
            "image/png": "[encoded data removed]"
          },
          "metadata": {
            "needs_background": "light"
          },
          "output_type": "display_data"
        }
      ],
      "execution_count": 30
    },
    {
      "cell_type": "markdown",
      "source": "#### Using Plotly Express:",
      "metadata": {
        "tags": [],
        "cell_id": "00064-bb02b0bf-9596-4572-97b9-b7db8937cd2b",
        "deepnote_cell_type": "markdown"
      }
    },
    {
      "cell_type": "code",
      "source": "fig = px.scatter(x= sample_sizes, y= means_diff)\nfig.update_layout(\n    title=\"The Law of Large Numbers:\",\n    xaxis_title=\"Sample size\",\n    yaxis_title=\"Difference In Means\"\n    )\n\nfig.show()",
      "metadata": {
        "tags": [],
        "cell_id": "00064-1fadd5f9-a96c-4e7b-85c1-2183ec9a9c3a",
        "deepnote_to_be_reexecuted": false,
        "source_hash": "44b49acd",
        "execution_millis": 323,
        "execution_start": 1619386261221,
        "deepnote_cell_type": "code"
      },
      "outputs": [
        {
          "data": {
            "text/html": "<html>\n<head><meta charset=\"utf-8\" /></head>\n<body>\n    <div>            <script src=\"https://cdnjs.cloudflare.com/ajax/libs/mathjax/2.7.5/MathJax.js?config=TeX-AMS-MML_SVG\"></script><script type=\"text/javascript\">if (window.MathJax) {MathJax.Hub.Config({SVG: {font: \"STIX-Web\"}});}</script>                <script type=\"text/javascript\">window.PlotlyConfig = {MathJaxConfig: 'local'};</script>\n        <script src=\"https://cdn.plot.ly/plotly-latest.min.js\"></script>                <div id=\"b3ef8b25-6b67-4384-b649-be8637ac2f62\" class=\"plotly-graph-div\" style=\"height:525px; width:100%;\"></div>            <script type=\"text/javascript\">                                    window.PLOTLYENV=window.PLOTLYENV || {};                                    if (document.getElementById(\"b3ef8b25-6b67-4384-b649-be8637ac2f62\")) {                    Plotly.newPlot(                        \"b3ef8b25-6b67-4384-b649-be8637ac2f62\",                        [{\"hovertemplate\": \"x=%{x}<br>y=%{y}<extra></extra>\", \"legendgroup\": \"\", \"marker\": {\"color\": \"#636efa\", \"symbol\": \"circle\"}, \"mode\": \"markers\", \"name\": \"\", \"orientation\": \"v\", \"showlegend\": false, \"type\": \"scatter\", \"x\": [1, 2, 3, 4, 5, 6, 7, 8, 9, 10, 11, 12, 13, 14, 15, 16, 17, 18, 19, 20, 21, 22, 23, 24, 25, 26, 27, 28, 29, 30, 31, 32, 33, 34, 35, 36, 37, 38, 39, 40, 41, 42, 43, 44, 45, 46, 47, 48, 49, 50], \"xaxis\": \"x\", \"y\": [-10290.408533817521, -2321.408533817521, -3506.741867150855, -3170.158533817521, 1501.591466182479, -7786.075200484188, 1455.591466182479, 2249.591466182479, 3068.258132849147, -2855.408533817521, -2258.772170181157, -2499.908533817521, -2025.6393030482905, -642.8371052460916, -5131.941867150854, -2155.283533817521, 2811.179701476598, 6676.758132849147, -7153.092744343837, -2481.0585338175206, 338.73432332533594, 4375.727829818843, -956.756359904477, 2213.299799515813, 445.7514661824789, 1498.2453123363248, 1610.2951698861834, 514.4128947539084, -1106.8568096795898, -1361.1418671508545, -2552.731114462682, 611.622716182479, -1943.832776241763, 619.7973485354196, -434.5228195318068, 2947.2859106269243, 5674.807682398696, 260.4335714456374, -2421.2290466380346, -2681.6085338175217, 3119.5670759385757, -1616.765676674664, 2613.289140601082, 382.477829818843, 10.902577293589275, 3259.156683573783, -761.4936402005005, -1129.116867150855, -1904.6126154501744, -1965.5685338175208], \"yaxis\": \"y\"}],                        {\"legend\": {\"tracegroupgap\": 0}, \"margin\": {\"t\": 60}, \"template\": {\"data\": {\"bar\": [{\"error_x\": {\"color\": \"#2a3f5f\"}, \"error_y\": {\"color\": \"#2a3f5f\"}, \"marker\": {\"line\": {\"color\": \"#E5ECF6\", \"width\": 0.5}}, \"type\": \"bar\"}], \"barpolar\": [{\"marker\": {\"line\": {\"color\": \"#E5ECF6\", \"width\": 0.5}}, \"type\": \"barpolar\"}], \"carpet\": [{\"aaxis\": {\"endlinecolor\": \"#2a3f5f\", \"gridcolor\": \"white\", \"linecolor\": \"white\", \"minorgridcolor\": \"white\", \"startlinecolor\": \"#2a3f5f\"}, \"baxis\": {\"endlinecolor\": \"#2a3f5f\", \"gridcolor\": \"white\", \"linecolor\": \"white\", \"minorgridcolor\": \"white\", \"startlinecolor\": \"#2a3f5f\"}, \"type\": \"carpet\"}], \"choropleth\": [{\"colorbar\": {\"outlinewidth\": 0, \"ticks\": \"\"}, \"type\": \"choropleth\"}], \"contour\": [{\"colorbar\": {\"outlinewidth\": 0, \"ticks\": \"\"}, \"colorscale\": [[0.0, \"#0d0887\"], [0.1111111111111111, \"#46039f\"], [0.2222222222222222, \"#7201a8\"], [0.3333333333333333, \"#9c179e\"], [0.4444444444444444, \"#bd3786\"], [0.5555555555555556, \"#d8576b\"], [0.6666666666666666, \"#ed7953\"], [0.7777777777777778, \"#fb9f3a\"], [0.8888888888888888, \"#fdca26\"], [1.0, \"#f0f921\"]], \"type\": \"contour\"}], \"contourcarpet\": [{\"colorbar\": {\"outlinewidth\": 0, \"ticks\": \"\"}, \"type\": \"contourcarpet\"}], \"heatmap\": [{\"colorbar\": {\"outlinewidth\": 0, \"ticks\": \"\"}, \"colorscale\": [[0.0, \"#0d0887\"], [0.1111111111111111, \"#46039f\"], [0.2222222222222222, \"#7201a8\"], [0.3333333333333333, \"#9c179e\"], [0.4444444444444444, \"#bd3786\"], [0.5555555555555556, \"#d8576b\"], [0.6666666666666666, \"#ed7953\"], [0.7777777777777778, \"#fb9f3a\"], [0.8888888888888888, \"#fdca26\"], [1.0, \"#f0f921\"]], \"type\": \"heatmap\"}], \"heatmapgl\": [{\"colorbar\": {\"outlinewidth\": 0, \"ticks\": \"\"}, \"colorscale\": [[0.0, \"#0d0887\"], [0.1111111111111111, \"#46039f\"], [0.2222222222222222, \"#7201a8\"], [0.3333333333333333, \"#9c179e\"], [0.4444444444444444, \"#bd3786\"], [0.5555555555555556, \"#d8576b\"], [0.6666666666666666, \"#ed7953\"], [0.7777777777777778, \"#fb9f3a\"], [0.8888888888888888, \"#fdca26\"], [1.0, \"#f0f921\"]], \"type\": \"heatmapgl\"}], \"histogram\": [{\"marker\": {\"colorbar\": {\"outlinewidth\": 0, \"ticks\": \"\"}}, \"type\": \"histogram\"}], \"histogram2d\": [{\"colorbar\": {\"outlinewidth\": 0, \"ticks\": \"\"}, \"colorscale\": [[0.0, \"#0d0887\"], [0.1111111111111111, \"#46039f\"], [0.2222222222222222, \"#7201a8\"], [0.3333333333333333, \"#9c179e\"], [0.4444444444444444, \"#bd3786\"], [0.5555555555555556, \"#d8576b\"], [0.6666666666666666, \"#ed7953\"], [0.7777777777777778, \"#fb9f3a\"], [0.8888888888888888, \"#fdca26\"], [1.0, \"#f0f921\"]], \"type\": \"histogram2d\"}], \"histogram2dcontour\": [{\"colorbar\": {\"outlinewidth\": 0, \"ticks\": \"\"}, \"colorscale\": [[0.0, \"#0d0887\"], [0.1111111111111111, \"#46039f\"], [0.2222222222222222, \"#7201a8\"], [0.3333333333333333, \"#9c179e\"], [0.4444444444444444, \"#bd3786\"], [0.5555555555555556, \"#d8576b\"], [0.6666666666666666, \"#ed7953\"], [0.7777777777777778, \"#fb9f3a\"], [0.8888888888888888, \"#fdca26\"], [1.0, \"#f0f921\"]], \"type\": \"histogram2dcontour\"}], \"mesh3d\": [{\"colorbar\": {\"outlinewidth\": 0, \"ticks\": \"\"}, \"type\": \"mesh3d\"}], \"parcoords\": [{\"line\": {\"colorbar\": {\"outlinewidth\": 0, \"ticks\": \"\"}}, \"type\": \"parcoords\"}], \"pie\": [{\"automargin\": true, \"type\": \"pie\"}], \"scatter\": [{\"marker\": {\"colorbar\": {\"outlinewidth\": 0, \"ticks\": \"\"}}, \"type\": \"scatter\"}], \"scatter3d\": [{\"line\": {\"colorbar\": {\"outlinewidth\": 0, \"ticks\": \"\"}}, \"marker\": {\"colorbar\": {\"outlinewidth\": 0, \"ticks\": \"\"}}, \"type\": \"scatter3d\"}], \"scattercarpet\": [{\"marker\": {\"colorbar\": {\"outlinewidth\": 0, \"ticks\": \"\"}}, \"type\": \"scattercarpet\"}], \"scattergeo\": [{\"marker\": {\"colorbar\": {\"outlinewidth\": 0, \"ticks\": \"\"}}, \"type\": \"scattergeo\"}], \"scattergl\": [{\"marker\": {\"colorbar\": {\"outlinewidth\": 0, \"ticks\": \"\"}}, \"type\": \"scattergl\"}], \"scattermapbox\": [{\"marker\": {\"colorbar\": {\"outlinewidth\": 0, \"ticks\": \"\"}}, \"type\": \"scattermapbox\"}], \"scatterpolar\": [{\"marker\": {\"colorbar\": {\"outlinewidth\": 0, \"ticks\": \"\"}}, \"type\": \"scatterpolar\"}], \"scatterpolargl\": [{\"marker\": {\"colorbar\": {\"outlinewidth\": 0, \"ticks\": \"\"}}, \"type\": \"scatterpolargl\"}], \"scatterternary\": [{\"marker\": {\"colorbar\": {\"outlinewidth\": 0, \"ticks\": \"\"}}, \"type\": \"scatterternary\"}], \"surface\": [{\"colorbar\": {\"outlinewidth\": 0, \"ticks\": \"\"}, \"colorscale\": [[0.0, \"#0d0887\"], [0.1111111111111111, \"#46039f\"], [0.2222222222222222, \"#7201a8\"], [0.3333333333333333, \"#9c179e\"], [0.4444444444444444, \"#bd3786\"], [0.5555555555555556, \"#d8576b\"], [0.6666666666666666, \"#ed7953\"], [0.7777777777777778, \"#fb9f3a\"], [0.8888888888888888, \"#fdca26\"], [1.0, \"#f0f921\"]], \"type\": \"surface\"}], \"table\": [{\"cells\": {\"fill\": {\"color\": \"#EBF0F8\"}, \"line\": {\"color\": \"white\"}}, \"header\": {\"fill\": {\"color\": \"#C8D4E3\"}, \"line\": {\"color\": \"white\"}}, \"type\": \"table\"}]}, \"layout\": {\"annotationdefaults\": {\"arrowcolor\": \"#2a3f5f\", \"arrowhead\": 0, \"arrowwidth\": 1}, \"autotypenumbers\": \"strict\", \"coloraxis\": {\"colorbar\": {\"outlinewidth\": 0, \"ticks\": \"\"}}, \"colorscale\": {\"diverging\": [[0, \"#8e0152\"], [0.1, \"#c51b7d\"], [0.2, \"#de77ae\"], [0.3, \"#f1b6da\"], [0.4, \"#fde0ef\"], [0.5, \"#f7f7f7\"], [0.6, \"#e6f5d0\"], [0.7, \"#b8e186\"], [0.8, \"#7fbc41\"], [0.9, \"#4d9221\"], [1, \"#276419\"]], \"sequential\": [[0.0, \"#0d0887\"], [0.1111111111111111, \"#46039f\"], [0.2222222222222222, \"#7201a8\"], [0.3333333333333333, \"#9c179e\"], [0.4444444444444444, \"#bd3786\"], [0.5555555555555556, \"#d8576b\"], [0.6666666666666666, \"#ed7953\"], [0.7777777777777778, \"#fb9f3a\"], [0.8888888888888888, \"#fdca26\"], [1.0, \"#f0f921\"]], \"sequentialminus\": [[0.0, \"#0d0887\"], [0.1111111111111111, \"#46039f\"], [0.2222222222222222, \"#7201a8\"], [0.3333333333333333, \"#9c179e\"], [0.4444444444444444, \"#bd3786\"], [0.5555555555555556, \"#d8576b\"], [0.6666666666666666, \"#ed7953\"], [0.7777777777777778, \"#fb9f3a\"], [0.8888888888888888, \"#fdca26\"], [1.0, \"#f0f921\"]]}, \"colorway\": [\"#636efa\", \"#EF553B\", \"#00cc96\", \"#ab63fa\", \"#FFA15A\", \"#19d3f3\", \"#FF6692\", \"#B6E880\", \"#FF97FF\", \"#FECB52\"], \"font\": {\"color\": \"#2a3f5f\"}, \"geo\": {\"bgcolor\": \"white\", \"lakecolor\": \"white\", \"landcolor\": \"#E5ECF6\", \"showlakes\": true, \"showland\": true, \"subunitcolor\": \"white\"}, \"hoverlabel\": {\"align\": \"left\"}, \"hovermode\": \"closest\", \"mapbox\": {\"style\": \"light\"}, \"paper_bgcolor\": \"white\", \"plot_bgcolor\": \"#E5ECF6\", \"polar\": {\"angularaxis\": {\"gridcolor\": \"white\", \"linecolor\": \"white\", \"ticks\": \"\"}, \"bgcolor\": \"#E5ECF6\", \"radialaxis\": {\"gridcolor\": \"white\", \"linecolor\": \"white\", \"ticks\": \"\"}}, \"scene\": {\"xaxis\": {\"backgroundcolor\": \"#E5ECF6\", \"gridcolor\": \"white\", \"gridwidth\": 2, \"linecolor\": \"white\", \"showbackground\": true, \"ticks\": \"\", \"zerolinecolor\": \"white\"}, \"yaxis\": {\"backgroundcolor\": \"#E5ECF6\", \"gridcolor\": \"white\", \"gridwidth\": 2, \"linecolor\": \"white\", \"showbackground\": true, \"ticks\": \"\", \"zerolinecolor\": \"white\"}, \"zaxis\": {\"backgroundcolor\": \"#E5ECF6\", \"gridcolor\": \"white\", \"gridwidth\": 2, \"linecolor\": \"white\", \"showbackground\": true, \"ticks\": \"\", \"zerolinecolor\": \"white\"}}, \"shapedefaults\": {\"line\": {\"color\": \"#2a3f5f\"}}, \"ternary\": {\"aaxis\": {\"gridcolor\": \"white\", \"linecolor\": \"white\", \"ticks\": \"\"}, \"baxis\": {\"gridcolor\": \"white\", \"linecolor\": \"white\", \"ticks\": \"\"}, \"bgcolor\": \"#E5ECF6\", \"caxis\": {\"gridcolor\": \"white\", \"linecolor\": \"white\", \"ticks\": \"\"}}, \"title\": {\"x\": 0.05}, \"xaxis\": {\"automargin\": true, \"gridcolor\": \"white\", \"linecolor\": \"white\", \"ticks\": \"\", \"title\": {\"standoff\": 15}, \"zerolinecolor\": \"white\", \"zerolinewidth\": 2}, \"yaxis\": {\"automargin\": true, \"gridcolor\": \"white\", \"linecolor\": \"white\", \"ticks\": \"\", \"title\": {\"standoff\": 15}, \"zerolinecolor\": \"white\", \"zerolinewidth\": 2}}}, \"title\": {\"text\": \"The Law of Large Numbers:\"}, \"xaxis\": {\"anchor\": \"y\", \"domain\": [0.0, 1.0], \"title\": {\"text\": \"Sample size\"}}, \"yaxis\": {\"anchor\": \"x\", \"domain\": [0.0, 1.0], \"title\": {\"text\": \"Difference In Means\"}}},                        {\"responsive\": true}                    ).then(function(){\n                            \nvar gd = document.getElementById('b3ef8b25-6b67-4384-b649-be8637ac2f62');\nvar x = new MutationObserver(function (mutations, observer) {{\n        var display = window.getComputedStyle(gd).display;\n        if (!display || display === 'none') {{\n            console.log([gd, 'removed!']);\n            Plotly.purge(gd);\n            observer.disconnect();\n        }}\n}});\n\n// Listen for the removal of the full notebook cells\nvar notebookContainer = gd.closest('#notebook-container');\nif (notebookContainer) {{\n    x.observe(notebookContainer, {childList: true});\n}}\n\n// Listen for the clearing of the current output cell\nvar outputEl = gd.closest('.output');\nif (outputEl) {{\n    x.observe(outputEl, {childList: true});\n}}\n\n                        })                };                            </script>        </div>\n</body>\n</html>"
          },
          "metadata": {},
          "output_type": "display_data"
        }
      ],
      "execution_count": 31
    },
    {
      "cell_type": "markdown",
      "source": "### 22 - Repeat 18 to 21 by replacing 50 with a larger number. For example, 300, or even 1000.",
      "metadata": {
        "tags": [],
        "cell_id": "00067-8e394935-fc88-403a-a3be-ff9ef070d3eb",
        "deepnote_cell_type": "markdown"
      }
    },
    {
      "cell_type": "code",
      "source": "sample_sizes = []\nfor x in range(1000):\n    sample_sizes.append(x + 1)\nprint(sample_sizes)\n#-------------------------------\nmeans_diff = [] #list for the differences of population mean and sample means\n\nfor x in sample_sizes: #loop through sample_sizes\n    random_sample = df.sample(x) #obtain a random sample of that size from the data frame\n    sample_mean = np.mean(random_sample['TUITIONFEE_IN']) #calculate sample mean\n    overall_mean = np.mean(df['TUITIONFEE_IN']) #calculate mean of all observations\n    diff_in_means = sample_mean - overall_mean #calculate difference between population mean and sample mean\n    means_diff.append(diff_in_means) #append this difference to means_diff\n\n#display means_diff\nmeans_diff",
      "metadata": {
        "tags": [],
        "cell_id": "00068-e9574351-e4ed-4114-a65b-dceaa9a2ad76",
        "deepnote_to_be_reexecuted": false,
        "source_hash": "9ec1553e",
        "execution_millis": 588,
        "execution_start": 1619386261541,
        "deepnote_cell_type": "code"
      },
      "outputs": [
        {
          "name": "stdout",
          "text": "[1, 2, 3, 4, 5, 6, 7, 8, 9, 10, 11, 12, 13, 14, 15, 16, 17, 18, 19, 20, 21, 22, 23, 24, 25, 26, 27, 28, 29, 30, 31, 32, 33, 34, 35, 36, 37, 38, 39, 40, 41, 42, 43, 44, 45, 46, 47, 48, 49, 50, 51, 52, 53, 54, 55, 56, 57, 58, 59, 60, 61, 62, 63, 64, 65, 66, 67, 68, 69, 70, 71, 72, 73, 74, 75, 76, 77, 78, 79, 80, 81, 82, 83, 84, 85, 86, 87, 88, 89, 90, 91, 92, 93, 94, 95, 96, 97, 98, 99, 100, 101, 102, 103, 104, 105, 106, 107, 108, 109, 110, 111, 112, 113, 114, 115, 116, 117, 118, 119, 120, 121, 122, 123, 124, 125, 126, 127, 128, 129, 130, 131, 132, 133, 134, 135, 136, 137, 138, 139, 140, 141, 142, 143, 144, 145, 146, 147, 148, 149, 150, 151, 152, 153, 154, 155, 156, 157, 158, 159, 160, 161, 162, 163, 164, 165, 166, 167, 168, 169, 170, 171, 172, 173, 174, 175, 176, 177, 178, 179, 180, 181, 182, 183, 184, 185, 186, 187, 188, 189, 190, 191, 192, 193, 194, 195, 196, 197, 198, 199, 200, 201, 202, 203, 204, 205, 206, 207, 208, 209, 210, 211, 212, 213, 214, 215, 216, 217, 218, 219, 220, 221, 222, 223, 224, 225, 226, 227, 228, 229, 230, 231, 232, 233, 234, 235, 236, 237, 238, 239, 240, 241, 242, 243, 244, 245, 246, 247, 248, 249, 250, 251, 252, 253, 254, 255, 256, 257, 258, 259, 260, 261, 262, 263, 264, 265, 266, 267, 268, 269, 270, 271, 272, 273, 274, 275, 276, 277, 278, 279, 280, 281, 282, 283, 284, 285, 286, 287, 288, 289, 290, 291, 292, 293, 294, 295, 296, 297, 298, 299, 300, 301, 302, 303, 304, 305, 306, 307, 308, 309, 310, 311, 312, 313, 314, 315, 316, 317, 318, 319, 320, 321, 322, 323, 324, 325, 326, 327, 328, 329, 330, 331, 332, 333, 334, 335, 336, 337, 338, 339, 340, 341, 342, 343, 344, 345, 346, 347, 348, 349, 350, 351, 352, 353, 354, 355, 356, 357, 358, 359, 360, 361, 362, 363, 364, 365, 366, 367, 368, 369, 370, 371, 372, 373, 374, 375, 376, 377, 378, 379, 380, 381, 382, 383, 384, 385, 386, 387, 388, 389, 390, 391, 392, 393, 394, 395, 396, 397, 398, 399, 400, 401, 402, 403, 404, 405, 406, 407, 408, 409, 410, 411, 412, 413, 414, 415, 416, 417, 418, 419, 420, 421, 422, 423, 424, 425, 426, 427, 428, 429, 430, 431, 432, 433, 434, 435, 436, 437, 438, 439, 440, 441, 442, 443, 444, 445, 446, 447, 448, 449, 450, 451, 452, 453, 454, 455, 456, 457, 458, 459, 460, 461, 462, 463, 464, 465, 466, 467, 468, 469, 470, 471, 472, 473, 474, 475, 476, 477, 478, 479, 480, 481, 482, 483, 484, 485, 486, 487, 488, 489, 490, 491, 492, 493, 494, 495, 496, 497, 498, 499, 500, 501, 502, 503, 504, 505, 506, 507, 508, 509, 510, 511, 512, 513, 514, 515, 516, 517, 518, 519, 520, 521, 522, 523, 524, 525, 526, 527, 528, 529, 530, 531, 532, 533, 534, 535, 536, 537, 538, 539, 540, 541, 542, 543, 544, 545, 546, 547, 548, 549, 550, 551, 552, 553, 554, 555, 556, 557, 558, 559, 560, 561, 562, 563, 564, 565, 566, 567, 568, 569, 570, 571, 572, 573, 574, 575, 576, 577, 578, 579, 580, 581, 582, 583, 584, 585, 586, 587, 588, 589, 590, 591, 592, 593, 594, 595, 596, 597, 598, 599, 600, 601, 602, 603, 604, 605, 606, 607, 608, 609, 610, 611, 612, 613, 614, 615, 616, 617, 618, 619, 620, 621, 622, 623, 624, 625, 626, 627, 628, 629, 630, 631, 632, 633, 634, 635, 636, 637, 638, 639, 640, 641, 642, 643, 644, 645, 646, 647, 648, 649, 650, 651, 652, 653, 654, 655, 656, 657, 658, 659, 660, 661, 662, 663, 664, 665, 666, 667, 668, 669, 670, 671, 672, 673, 674, 675, 676, 677, 678, 679, 680, 681, 682, 683, 684, 685, 686, 687, 688, 689, 690, 691, 692, 693, 694, 695, 696, 697, 698, 699, 700, 701, 702, 703, 704, 705, 706, 707, 708, 709, 710, 711, 712, 713, 714, 715, 716, 717, 718, 719, 720, 721, 722, 723, 724, 725, 726, 727, 728, 729, 730, 731, 732, 733, 734, 735, 736, 737, 738, 739, 740, 741, 742, 743, 744, 745, 746, 747, 748, 749, 750, 751, 752, 753, 754, 755, 756, 757, 758, 759, 760, 761, 762, 763, 764, 765, 766, 767, 768, 769, 770, 771, 772, 773, 774, 775, 776, 777, 778, 779, 780, 781, 782, 783, 784, 785, 786, 787, 788, 789, 790, 791, 792, 793, 794, 795, 796, 797, 798, 799, 800, 801, 802, 803, 804, 805, 806, 807, 808, 809, 810, 811, 812, 813, 814, 815, 816, 817, 818, 819, 820, 821, 822, 823, 824, 825, 826, 827, 828, 829, 830, 831, 832, 833, 834, 835, 836, 837, 838, 839, 840, 841, 842, 843, 844, 845, 846, 847, 848, 849, 850, 851, 852, 853, 854, 855, 856, 857, 858, 859, 860, 861, 862, 863, 864, 865, 866, 867, 868, 869, 870, 871, 872, 873, 874, 875, 876, 877, 878, 879, 880, 881, 882, 883, 884, 885, 886, 887, 888, 889, 890, 891, 892, 893, 894, 895, 896, 897, 898, 899, 900, 901, 902, 903, 904, 905, 906, 907, 908, 909, 910, 911, 912, 913, 914, 915, 916, 917, 918, 919, 920, 921, 922, 923, 924, 925, 926, 927, 928, 929, 930, 931, 932, 933, 934, 935, 936, 937, 938, 939, 940, 941, 942, 943, 944, 945, 946, 947, 948, 949, 950, 951, 952, 953, 954, 955, 956, 957, 958, 959, 960, 961, 962, 963, 964, 965, 966, 967, 968, 969, 970, 971, 972, 973, 974, 975, 976, 977, 978, 979, 980, 981, 982, 983, 984, 985, 986, 987, 988, 989, 990, 991, 992, 993, 994, 995, 996, 997, 998, 999, 1000]\n",
          "output_type": "stream"
        },
        {
          "output_type": "execute_result",
          "execution_count": 32,
          "data": {
            "text/plain": "[-10682.408533817521,\n 11077.591466182479,\n 55.92479951581299,\n -7578.158533817521,\n 4737.591466182479,\n -229.2418671508549,\n 3302.4486090396204,\n 1446.591466182479,\n 6832.813688404702,\n -27.00853381752131,\n 1215.136920727933,\n -55.99186715085489,\n -5183.6393030482905,\n 2375.7343233253378,\n 3637.1914661824776,\n -629.908533817521,\n 237.65028971189167,\n 3800.424799515811,\n -3342.408533817521,\n -3005.20853381752,\n 224.11527570628823,\n -3984.772170181157,\n -3786.886794687087,\n -1876.408533817521,\n -3043.568533817521,\n -3891.254687663675,\n 485.66554025655387,\n -345.1942481032347,\n -2410.408533817521,\n -762.6418671508545,\n 39.17211134376885,\n -2282.846033817521,\n 492.59146618247905,\n -438.37912205281464,\n 5594.248609039623,\n 1765.341466182479,\n -272.3004257094126,\n -3331.6716917122576,\n -3816.254687663675,\n -1855.9585338175202,\n -1802.067070402887,\n -749.1704385794255,\n 1656.893791763874,\n -1853.340351999339,\n 309.8581328491455,\n -1255.756359904477,\n -2570.663852966458,\n 51.77896618247905,\n 1859.958813121255,\n 755.9514661824796,\n -117.29088675869752,\n 415.3030046440181,\n -1322.6160809873327,\n 643.4062809972947,\n 860.1005570915695,\n 1178.3771804681928,\n -1220.3559022385743,\n -566.83956830028,\n -487.27294059718224,\n 1207.258132849145,\n 1979.4439251988733,\n -2695.8924047852634,\n 3280.527974118988,\n 763.263341182479,\n -2177.946995355982,\n 2370.985405576419,\n -362.75181739961045,\n 419.72381912365563,\n -98.77085265810092,\n 1529.262894753907,\n -1353.971914099211,\n 2561.758132849147,\n 1348.2353017989171,\n 120.132006723019,\n 3428.551466182478,\n 1327.8283082877424,\n -475.46048186946973,\n 245.18120977222316,\n -1453.6743566023306,\n -1597.221033817521,\n -1266.359151101471,\n 659.4329295971129,\n 194.14568304994827,\n 313.5557518967653,\n -441.1497102881094,\n -575.117836143103,\n -1205.431522323268,\n 939.557375273389,\n 1118.9173088791085,\n -1127.1085338175217,\n -1540.9689733779596,\n -1158.658533817521,\n -736.3547703766599,\n -812.1319380728401,\n 2659.0546240772164,\n 1634.351882849145,\n 390.97290948144837,\n 823.6118743457446,\n -294.953988362975,\n 136.4914661824787,\n -1262.4679397581149,\n 140.6404857903217,\n -2.3114464388800116,\n -182.35084150982948,\n 1442.734323325336,\n -1276.276458345823,\n 279.11483066846085,\n -341.3807560397436,\n -322.08743290008897,\n -995.0721701811581,\n 516.5284031194151,\n 2005.484323325336,\n -744.2049939945118,\n 1633.109010042128,\n 2878.921900965088,\n -76.56370623131443,\n -860.1264825354701,\n 522.481296690954,\n 1715.9780208043285,\n -139.67520048418737,\n 1093.8146066783465,\n -651.6380420142414,\n -309.70934682565166,\n 704.2769500534469,\n -1173.7685338175215,\n -2625.321232230219,\n -18.298297597048077,\n 1309.075841182479,\n 17.382163856897023,\n 207.34531233632515,\n 1005.2021532053805,\n 351.553587394601,\n -2588.0852255468435,\n 776.2705706600918,\n 1205.2877624787761,\n -1566.621769111638,\n 490.26299902919527,\n 1246.236393718711,\n -559.1927064793908,\n -277.1942481032347,\n -669.1248458742593,\n 744.7111844923384,\n -947.3036387126267,\n 1056.1261884047017,\n 1414.2742248031682,\n 1024.1668086482332,\n 1729.1152757062882,\n -596.023398682386,\n -1226.247459992017,\n 1813.4581328491458,\n 864.0086847255261,\n 11.02567670879398,\n 537.6241459210414,\n 122.85120644221934,\n 647.2237242469946,\n 643.1427482337604,\n -666.5104446455462,\n -1070.4844831846094,\n -171.81733884896676,\n -134.11478381752022,\n 1019.1815282942807,\n -1166.2233486323366,\n 1830.4503618880008,\n -481.5853630858128,\n 1210.5005570915691,\n -435.18564225125556,\n 728.8908673800834,\n -1220.0037719127595,\n -82.50320837373329,\n -409.2261808763451,\n 83.83123226435055,\n -79.82132451519465,\n 729.267766760513,\n -165.25336140372747,\n 385.8200376110508,\n -264.02785199933896,\n 866.2750820016881,\n -201.24561246920712,\n 324.08308629421117,\n 1986.0747995158126,\n 19.32627281231362,\n -47.315127224113894,\n 1413.4876410458673,\n -552.0607077305649,\n 1584.964439155452,\n -237.29025424762767,\n -670.9753787373065,\n -958.5627891366694,\n -609.9164703254573,\n 573.2388346035314,\n -277.3614133986721,\n 875.200841182479,\n 1096.9904299130485,\n 44.50899195567581,\n -243.05981586880262,\n 390.2190172028877,\n 1016.8046641520214,\n 731.3793449703571,\n 920.3452350266998,\n -589.4235338175204,\n -356.26923033493404,\n 673.4479018260427,\n -233.03414958106805,\n -550.2320632292849,\n -169.6865825980094,\n 904.0089419106353,\n -441.6500797112403,\n -705.8893030482905,\n 249.13213603893928,\n 205.58194237295538,\n 213.35449935783436,\n 232.56316429568687,\n -1021.6761394513233,\n -436.90853381752095,\n 1311.6240243220145,\n 769.873873589886,\n 165.25506065252557,\n -238.91770812944742,\n 186.25356663909952,\n -1232.635806544793,\n -179.67550214331277,\n -441.27339868238596,\n 167.87397739324115,\n -1033.3862123889503,\n 510.47146618247825,\n 990.3658024656652,\n 100.25666442036527,\n -24.899761887696513,\n 211.21592033095112,\n -552.0302729479554,\n 537.7949293859419,\n 234.5483627342037,\n 309.7974747661701,\n 137.14274823376036,\n 1154.3957215016271,\n 288.23977126722457,\n -1129.6870148301787,\n 662.8771804681928,\n 473.35715655904824,\n -13.275200484187735,\n -978.2550068465662,\n 898.227829818843,\n -188.6225255870686,\n 646.6939251988733,\n -954.9187378991537,\n -780.5589403215854,\n -758.3882909025415,\n -534.7996628497785,\n -448.50491935968967,\n -84.78053381752034,\n 1278.0336972581754,\n 40.369243960256426,\n 117.90767171607513,\n 14.264694528936161,\n -1196.812455386149,\n 38.44693493247905,\n 579.3891315521287,\n 762.8356522289905,\n -560.0571824661693,\n 573.9030046440166,\n 982.909473845315,\n -214.91998419919946,\n 311.86903272240306,\n -414.44262472661103,\n 423.2895793900261,\n -911.1115413363186,\n 52.943526107572325,\n -153.74062336976021,\n -1399.6055598398252,\n 461.56183655284985,\n 1369.215082418641,\n 555.6723485354196,\n -271.65395506294226,\n 408.0513201970771,\n 1101.3332843642966,\n -356.220128020419,\n -106.42297425073411,\n 1322.7029769738456,\n -252.19348005408028,\n -469.90496238894957,\n 292.36370817536226,\n 69.21203355836587,\n -518.4544702132807,\n -372.3944493104791,\n -410.861165396469,\n -412.27916318815005,\n 122.8736961476352,\n -321.47103381752095,\n -1052.0348313953764,\n -241.29474071407276,\n -611.1164375975895,\n -277.28867080382224,\n 286.0385651585875,\n -1335.5139759943922,\n -41.076330427689754,\n 493.97660131761404,\n -847.1425405515274,\n -490.7306814685271,\n -1037.8834502054815,\n -1298.8418671508534,\n -529.5680022560591,\n -244.90853381752095,\n -661.3359265567942,\n 72.35791355090078,\n -381.3462387355539,\n 16.169897555028,\n 437.0572642280822,\n -40.52541693440435,\n 485.73386100448624,\n 206.27533715022037,\n -411.34100970176587,\n 412.5113379773502,\n 303.29434158184085,\n 53.22522414426203,\n 353.85178364279636,\n 512.9300737774156,\n 374.96686050424614,\n 1211.4782586353085,\n 553.6290837373381,\n -87.42728381752022,\n -193.89763039072932,\n 53.138050033410764,\n -529.9131777803686,\n 162.50196000964024,\n 372.8560815670953,\n 281.05772385119053,\n -46.353487945962115,\n 969.7347588654065,\n 1213.0656303162177,\n -41.4903519993386,\n -1166.9523404640458,\n 706.0854420860942,\n -242.66078606977317,\n 325.90583743996467,\n 842.2660930481507,\n 205.18968046819282,\n 484.81401811126307,\n 351.78081529490555,\n -726.7831650859571,\n 329.3297014765958,\n -343.8953373365821,\n 463.3984837263379,\n 206.3990463574064,\n 885.4751871127119,\n 1547.6726256027687,\n 169.42094595126582,\n -1434.9935482267429,\n -3.2217522083246877,\n 62.29060658362505,\n -295.402819531806,\n 278.6085601995728,\n -346.63012472661103,\n 1352.1722027263877,\n -449.8859349474642,\n 235.02808590078894,\n -167.8888708961731,\n 992.6867042777176,\n -155.9308801862353,\n -734.9127120905014,\n -49.7279782619662,\n 731.0817708916202,\n -300.99140674569753,\n -145.4498561315704,\n -242.74369865268636,\n -443.46606806409545,\n -558.0424135989415,\n -383.9207953979021,\n 539.776248791175,\n 343.716127429092,\n 1472.099574290587,\n 257.57259825795154,\n -59.55369510784294,\n 101.58074232188847,\n 485.2385250060088,\n 1121.0287995158124,\n -19.993640200500522,\n 264.1644104795614,\n -430.1201740291617,\n -306.28980030828643,\n 843.2335714456367,\n 637.8329359987529,\n 164.3741886955686,\n 909.6045210127668,\n 620.4846953491451,\n -337.79554680453475,\n 15.583694161754465,\n 276.6844894382939,\n 130.59662082165414,\n -330.6990222493969,\n -27.985456894444724,\n 568.3484994305618,\n -142.7860848379296,\n 56.4413389560159,\n 611.8655778576067,\n -177.24397685549593,\n 582.803587394601,\n -371.8694909963615,\n 153.3376973382583,\n 487.6766792150611,\n 299.8839661824786,\n 760.6787479779905,\n 147.40489901830006,\n -342.4383104924582,\n -989.8738803521737,\n 873.8507254417382,\n 626.1899883499664,\n 458.19343178444433,\n 632.5718583393409,\n 551.2296079917705,\n 469.62317349955265,\n -137.2601153260366,\n 582.6278739494701,\n -367.6167662630414,\n -204.14283333442836,\n 1183.8227914836843,\n 1258.4231969517095,\n -106.26225084389989,\n -389.8798256835489,\n -649.5755982566625,\n -487.0323433413305,\n 723.9810148760662,\n -205.22843903079047,\n -75.17212719813506,\n 548.9499567485163,\n -294.8955926410508,\n -114.77942583630102,\n 27.947438079434505,\n 1006.9302512292088,\n 65.75696734798112,\n -106.88992916635834,\n -13.63823219339065,\n 1201.841466182479,\n -47.20761002999279,\n -421.1089946470147,\n -240.99244186349824,\n -174.39935950559448,\n 623.200161834653,\n 187.82662599983087,\n -577.807167074925,\n -707.8153519993393,\n 1108.2558652754487,\n 527.9557195761445,\n 975.3905632479418,\n 742.3257004167135,\n 475.02292685663633,\n 34.791017751986146,\n 191.83978833012952,\n 309.9887876110497,\n 100.61596506889327,\n 224.30257729359073,\n -395.4129684073214,\n 383.7662449435411,\n 145.56939112729196,\n -31.360075667740603,\n -624.4986437076313,\n -478.59055136137977,\n -601.6973740801022,\n 1054.8229072305148,\n 1023.0990914548111,\n 226.6066835737838,\n 53.69992605232801,\n 75.2538038448165,\n -578.4301320896593,\n -873.0529303692456,\n -137.94831876375792,\n -1411.775486607221,\n 639.2509950904023,\n 299.79232088333447,\n -88.02260631218996,\n -51.30215083879739,\n -456.4913363652922,\n 256.1168899112927,\n -856.5966944940537,\n 329.5745885453489,\n -236.91169171225738,\n -559.4022312965117,\n 367.10718945291956,\n 134.10192643352457,\n -278.98264655238563,\n 118.6560495158119,\n -482.4709038798901,\n -575.2363346473958,\n 47.77573119283079,\n 164.8869207279331,\n -66.76729670411805,\n 326.44126042116295,\n -45.045084125529684,\n -87.22205840768402,\n 288.0270490045641,\n -225.94526851139926,\n -201.89325886843835,\n -134.1971517037,\n 486.0052592859265,\n -411.3417321980869,\n -483.6873216963086,\n -11.577888656231153,\n -201.09263844528687,\n -32.657529801455894,\n 375.49326978969293,\n -85.30253381752118,\n 604.6094302543352,\n 995.035689290049,\n 709.6550844727371,\n 61.80575189676529,\n -979.349127876927,\n -57.28600417325288,\n 624.8104010937222,\n 80.05012759980127,\n 51.38517934554329,\n -562.330102444972,\n -735.6590230543115,\n -249.55697131752095,\n 8.846826806260651,\n 981.8930226027132,\n -237.39688333208323,\n 469.4015437018588,\n -636.6290367188758,\n 337.9099990010127,\n -55.6840636826455,\n 73.98185079786344,\n 899.9772627275852,\n -588.877882476525,\n -124.82344777545586,\n 10.851008167212058,\n 557.728609039621,\n 144.39564869198512,\n 636.6559823115113,\n 555.2619207279331,\n -276.7412370311322,\n -1350.3368357043128,\n -69.32943777232322,\n 411.06890979150194,\n -115.43667640663989,\n 1064.1888444596334,\n 86.36155964042337,\n -420.352563668268,\n -112.71393418996013,\n -47.514481772910585,\n -245.51799578412647,\n -460.5233486323359,\n 18.107177827580017,\n -221.00816481383117,\n -49.90577138658227,\n 341.1319073589493,\n -150.44523106522684,\n 617.6519057429177,\n 67.8017038424423,\n 225.00934939415856,\n -444.52693090313187,\n -243.0685338175208,\n 955.9108854202277,\n -456.27991062911497,\n 587.576999636367,\n -493.5601583662574,\n 233.5878625788755,\n -272.85997266644154,\n 219.1157031663206,\n -126.34580980318424,\n -157.34949982825492,\n -132.7585338175213,\n -241.24632347883926,\n -1017.9334448495501,\n -197.90231712125023,\n 306.9088420690041,\n -111.82269310955598,\n -24.180618623175178,\n 661.0888206798336,\n 740.5720999852965,\n 521.7320637220218,\n 464.28444863862023,\n 366.0888392122506,\n 32.843214434227775,\n -165.2340137477131,\n -116.50957911368823,\n 518.7584227042189,\n -434.7644365952983,\n 457.42335526393435,\n -483.70957187980457,\n -281.39471689178754,\n 290.8466385962729,\n -251.09183846468113,\n 68.96431841615595,\n 172.96539414131257,\n -211.77668450245255,\n -176.0461406551276,\n -258.69351675267535,\n -270.5669665262085,\n -170.08370388554795,\n 227.33679725208822,\n -451.2542965293851,\n 506.5863900403474,\n 641.1911283446407,\n -179.75760633016762,\n 125.64870523971877,\n -511.8471892797061,\n -650.4538358309437,\n -364.8490698309215,\n 313.48778725271404,\n -427.48032012803924,\n -65.37020048418708,\n -263.0275022035439,\n -1082.945078668019,\n 244.14536336324272,\n 383.6990820765186,\n 120.78650750479392,\n -166.01249421356079,\n 638.3212849633692,\n 70.6983740772157,\n -129.0916208454364,\n 381.76031864149627,\n 593.4949031710221,\n 306.7581328491451,\n 223.71707792799316,\n 235.9986323062567,\n -312.93211105329283,\n -244.9799623889503,\n -997.1638012405347,\n 256.6950260530284,\n 227.1665873456459,\n -662.7053080110691,\n -1132.772462964058,\n 398.398540137463,\n -388.52731391382986,\n 123.81742772094003,\n -183.17333381752178,\n 418.5882712943003,\n 280.53883460353245,\n -169.21426630159658,\n 99.02866809027,\n -380.23869254768033,\n -277.77144982386017,\n -27.84049584283821,\n 123.73680583492751,\n -353.641972303325,\n 408.94737169429027,\n 898.9515290755608,\n 628.7704300757287,\n 105.95510254611509,\n -326.1049344434996,\n 342.7367786824798,\n -320.79698935574197,\n 161.79240076191854,\n 125.99426556039543,\n 392.026248791175,\n -223.13876637566136,\n -762.7165833531253,\n -119.89230506945205,\n -419.2742745582618,\n 15.278677276470262,\n 555.8930046440182,\n 319.07687324853214,\n 119.37060728677352,\n 368.8701798118818,\n 631.437031931715,\n -136.7367780923305,\n -231.36280211020312,\n 153.49253163148933,\n -274.8340657324152,\n 131.9116482765603,\n -116.61913987812659,\n -4.753465738851446,\n -176.0067211286987,\n 102.06205441777274,\n 298.6306228089852,\n -435.1980075017309,\n -68.22835363734157,\n 261.8298469920737,\n -10.559731422310506,\n 438.13855138427243,\n -133.28316068319327,\n 18.08028883523548,\n -480.93978381752095,\n -779.7294847833455,\n -25.57618960387117,\n -232.49742270641036,\n -28.837527900361238,\n -573.4720493271216,\n -160.32003824230014,\n 131.17762229440814,\n -303.8747102881098,\n 616.6913193396013,\n 89.19703802998629,\n 306.928215816446,\n -69.71993732629198,\n -151.71948272263035,\n 654.1730988355412,\n -10.670542551144536,\n 150.07983827550197,\n 476.25619767739954,\n 785.5117560375511,\n -68.669025858042,\n -424.8622910429549,\n -67.8068022157895,\n 154.68080335827108,\n -145.5567352563703,\n -383.612556806027,\n 108.90710463298092,\n 579.6774260678667,\n -123.47291149992452,\n -435.50710524609167,\n -506.7623141313579,\n 545.2752268662389,\n -328.7655750692993,\n 281.61987527338897,\n -361.5489593494367,\n -2.8008850923088175,\n -554.0337106209154,\n 455.1423136401063,\n 54.96805292436875,\n 108.111184492338,\n -54.32273916210579,\n -309.4647135928026,\n -112.64976803912032,\n -43.33990636654016,\n -245.99874360772992,\n 439.0160471880663,\n 475.5621774795509,\n 433.7641681323403,\n 1003.7235941379731,\n -218.16408937307642,\n -468.9092272987964,\n -256.9667055626742,\n -548.7211202628878,\n 902.6632893868991,\n 813.2590523893759,\n 394.46612182986246,\n -479.48281167171626,\n 480.2013562923694,\n 205.19366096985868,\n -46.848259844919085,\n -435.04191275049016,\n 283.43026399668634,\n -251.20525960196755,\n -288.9344193761044,\n -225.84935014405164,\n 104.30206400856514,\n -123.74638999119816,\n -309.7242519747033,\n 599.2748220688118,\n 191.49416888518135,\n -967.6608954909352,\n 149.432436532883,\n -676.5740789050033,\n -59.505308011070156,\n 230.36059369925715,\n 421.1517878982959,\n -341.9747988777617,\n -148.06628782821645,\n 315.15221384602955,\n -181.16320048418675,\n 200.52621984426332,\n -738.1558742430534,\n -424.13628946161043,\n 120.7347022567501,\n -22.628401367190236,\n 258.08352967454266,\n 294.31405535024714,\n -423.23702985973796,\n -67.31894224966891,\n 277.7862030245851,\n 29.90946881059972,\n -325.38491177027754,\n -491.57760328016775,\n 612.7891101615369,\n 293.9025772935893,\n 254.06274555584787,\n -71.50110226602192,\n 53.52375784914511,\n -141.15755852493385,\n 524.4057518967657,\n 92.282776169508,\n 193.8233314674526,\n -280.58835270497184,\n 695.170277551988,\n 247.1179177953818,\n -412.466523508243,\n 57.78837737939102,\n 515.0323402184695,\n -307.1107161025011,\n 106.36967131068377,\n 107.53768897377267,\n -57.266590083505434,\n -609.2131315186707,\n -207.30776851139854,\n -837.8199987856733,\n 192.3713644013078,\n 397.0755830820981,\n 240.98359816217453,\n -277.94212063627856,\n -83.92498951372363,\n -364.699304993248,\n -290.4375742215616,\n 63.65703995297008,\n -673.9312038427106,\n 632.1398938554357,\n 447.424380755343,\n -55.57290019142238,\n -166.6416165242881,\n 217.83176655794887,\n -665.8272838175217,\n 17.21318902892017,\n 18.197451219884897,\n -471.8120207415559,\n -295.4707228722473,\n -292.91660835168295,\n 477.5455604752824,\n -209.52253629583538,\n -338.26496946108455,\n -59.23177238365133,\n -104.95791653357082,\n 71.13030711959436,\n 58.25525928592651,\n -220.19574168960025,\n 220.75485684586965,\n -241.1422761488102,\n 231.7618093197343,\n -21.147823903200333,\n 183.6623708279567,\n 197.86497045598298,\n -735.8756069882529,\n 831.1322700801647,\n -259.3829863722658,\n -577.4547063570099,\n -63.32600954567715,\n 495.62176921278297,\n -597.6639817594096,\n -69.45690141123305,\n -288.857809179839,\n 250.6505735407427,\n -345.41696755246085,\n -387.7551042146333,\n -319.2126203559819,\n -147.84310764705333,\n -2.311411515362124,\n -653.5223062726109,\n -259.28532807589363,\n 591.7551459913193,\n 120.70005806792142,\n 240.34236010381392,\n -266.8978195318068,\n -152.6130522479616,\n 584.349185897443,\n -427.6374780642582,\n 519.6175325331897,\n -346.2144509772843,\n -455.35888842745044,\n 438.5536857810621,\n 273.4440605221025,\n 238.89064168306868,\n 301.26440735894903,\n -199.89737048027018,\n 238.78278073647016,\n -573.4483931375671,\n 73.79755517545345,\n -16.92900165377796,\n -298.95759923808146,\n -89.7515909937174,\n -233.65095805994497,\n 582.3155639706056,\n 217.27518711271114,\n -9.061263201958354,\n 369.02882117087756,\n -168.3853588464899,\n 91.81021618247905,\n -148.01200202561267,\n -21.406224348698743,\n -289.4269882581211,\n -426.78410985438677,\n 242.39353752885472,\n -121.9958901393602,\n 70.11729855905833,\n -370.87183656981506,\n -551.5563001405444,\n -415.52752695253184,\n 217.410894753908,\n 165.25699129663371,\n -296.90454293952826,\n -246.03495750772527,\n -181.10250423845355,\n 348.0141934552066,\n -209.7592716154777,\n 345.5211713978988,\n -316.9158950859237,\n -349.6121537270228,\n 44.69994075875002,\n 84.18627430888955,\n -343.9891426112081,\n 859.4574571734702,\n 148.73657304412154,\n 697.5510167442771,\n -33.113359855680756,\n -100.49037238254277,\n 198.42909216232147,\n -250.15909310163806,\n 149.13895221599887,\n -364.60607846037783,\n 59.74531233632479,\n -704.4953935057165,\n 538.1810101201881,\n 133.1336884047014,\n 110.49268704818314,\n -285.85310144501454,\n -69.6842813258263,\n 35.73416529752285,\n -318.48698685619456,\n 229.90934697718149,\n -335.4041236741905,\n 172.4978538476771,\n -329.3018231464539,\n -222.12721513620272,\n 343.64744861936197,\n 394.4368609193207,\n -240.85212636954748,\n -408.1908095286799,\n 74.81878858685013,\n -29.852856961626458,\n 74.07238221301304,\n -371.70047281534244,\n 105.55991014330539,\n -137.41831642621582,\n -127.63654684683752,\n -479.31525832945226,\n 48.82548568410493,\n 50.10661769763101,\n 154.19795266896472,\n 38.13142298593448,\n 268.1815416948848,\n 59.04836273420369,\n -336.30734974862935,\n -234.78380263472536,\n -169.79736303341815,\n 592.4219382854826,\n -109.7643751894393,\n 291.6439287092453,\n -185.4566621597678,\n -565.6927218517085,\n -289.79700767024224,\n 171.39850242981447,\n 405.75334051687787,\n -126.08725722177587,\n -166.1619875901033,\n -203.87562511263786,\n -29.103125546047522,\n 439.9526949960382,\n -293.6603856693728,\n -227.7605422741799,\n 583.7889318635771,\n 136.83408221623358,\n -119.22729040340164,\n 226.97357144563648,\n 179.03520961044887,\n -359.339206086428,\n -361.41692836106813,\n -221.27226547370628,\n 429.4668588526365,\n -470.18573047024074,\n 298.6008705711938,\n -340.22377390102884,\n 514.8083587789333,\n 6.142507849146568,\n -71.89344536798853,\n -168.94387685286347,\n -64.01808729623372,\n 357.50329190862067,\n 135.72825374724562,\n 337.424799515813,\n -8.930767530033336,\n 287.21233395107447,\n -157.96580935931706,\n 415.53476515155126,\n 89.8674703019442,\n -113.16264904385753,\n 87.54932846408155,\n -98.35925250335276,\n -98.25673894572537,\n -823.9997223421105,\n -62.64394835180974,\n 550.9636543215383,\n -458.86103637114684,\n -514.8717991236426,\n -311.9070047655332,\n -439.3769655894157,\n -146.26712995180424,\n -144.87296471183072,\n 178.3945118677584,\n 466.3754418417084,\n -8.569628042445402,\n -117.79517349363414,\n 60.034337769940976,\n 170.864193455207,\n 21.687328947362403,\n 184.96747424699606,\n 142.79287605156242,\n -132.32603884770288,\n 422.5482501020779,\n -117.3161643396088,\n 4.514234487392969,\n 123.09547419851151,\n -42.817943226929856,\n 146.57346618247902]"
          },
          "metadata": {}
        }
      ],
      "execution_count": 32
    },
    {
      "cell_type": "code",
      "source": "fig = px.scatter(x= sample_sizes, y= means_diff)\nfig.update_layout(\n    title=\"The Law of Large Numbers:\",\n    xaxis_title=\"Sample size\",\n    yaxis_title=\"Difference In Means\"\n    )\n\nfig.show()",
      "metadata": {
        "tags": [],
        "cell_id": "00068-5615e6dd-70f5-4a92-ab52-c73e7da3fdd8",
        "deepnote_to_be_reexecuted": false,
        "source_hash": "44b49acd",
        "execution_millis": 86,
        "execution_start": 1619386262135,
        "deepnote_cell_type": "code"
      },
      "outputs": [
        {
          "data": {
            "text/html": "<html>\n<head><meta charset=\"utf-8\" /></head>\n<body>\n    <div>            <script src=\"https://cdnjs.cloudflare.com/ajax/libs/mathjax/2.7.5/MathJax.js?config=TeX-AMS-MML_SVG\"></script><script type=\"text/javascript\">if (window.MathJax) {MathJax.Hub.Config({SVG: {font: \"STIX-Web\"}});}</script>                <script type=\"text/javascript\">window.PlotlyConfig = {MathJaxConfig: 'local'};</script>\n        <script src=\"https://cdn.plot.ly/plotly-latest.min.js\"></script>                <div id=\"3265142f-3d3b-412e-b71f-646b0f574593\" class=\"plotly-graph-div\" style=\"height:525px; width:100%;\"></div>            <script type=\"text/javascript\">                                    window.PLOTLYENV=window.PLOTLYENV || {};                                    if (document.getElementById(\"3265142f-3d3b-412e-b71f-646b0f574593\")) {                    Plotly.newPlot(                        \"3265142f-3d3b-412e-b71f-646b0f574593\",                        [{\"hovertemplate\": \"x=%{x}<br>y=%{y}<extra></extra>\", \"legendgroup\": \"\", \"marker\": {\"color\": \"#636efa\", \"symbol\": \"circle\"}, \"mode\": \"markers\", \"name\": \"\", \"orientation\": \"v\", \"showlegend\": false, \"type\": \"scatter\", \"x\": [1, 2, 3, 4, 5, 6, 7, 8, 9, 10, 11, 12, 13, 14, 15, 16, 17, 18, 19, 20, 21, 22, 23, 24, 25, 26, 27, 28, 29, 30, 31, 32, 33, 34, 35, 36, 37, 38, 39, 40, 41, 42, 43, 44, 45, 46, 47, 48, 49, 50, 51, 52, 53, 54, 55, 56, 57, 58, 59, 60, 61, 62, 63, 64, 65, 66, 67, 68, 69, 70, 71, 72, 73, 74, 75, 76, 77, 78, 79, 80, 81, 82, 83, 84, 85, 86, 87, 88, 89, 90, 91, 92, 93, 94, 95, 96, 97, 98, 99, 100, 101, 102, 103, 104, 105, 106, 107, 108, 109, 110, 111, 112, 113, 114, 115, 116, 117, 118, 119, 120, 121, 122, 123, 124, 125, 126, 127, 128, 129, 130, 131, 132, 133, 134, 135, 136, 137, 138, 139, 140, 141, 142, 143, 144, 145, 146, 147, 148, 149, 150, 151, 152, 153, 154, 155, 156, 157, 158, 159, 160, 161, 162, 163, 164, 165, 166, 167, 168, 169, 170, 171, 172, 173, 174, 175, 176, 177, 178, 179, 180, 181, 182, 183, 184, 185, 186, 187, 188, 189, 190, 191, 192, 193, 194, 195, 196, 197, 198, 199, 200, 201, 202, 203, 204, 205, 206, 207, 208, 209, 210, 211, 212, 213, 214, 215, 216, 217, 218, 219, 220, 221, 222, 223, 224, 225, 226, 227, 228, 229, 230, 231, 232, 233, 234, 235, 236, 237, 238, 239, 240, 241, 242, 243, 244, 245, 246, 247, 248, 249, 250, 251, 252, 253, 254, 255, 256, 257, 258, 259, 260, 261, 262, 263, 264, 265, 266, 267, 268, 269, 270, 271, 272, 273, 274, 275, 276, 277, 278, 279, 280, 281, 282, 283, 284, 285, 286, 287, 288, 289, 290, 291, 292, 293, 294, 295, 296, 297, 298, 299, 300, 301, 302, 303, 304, 305, 306, 307, 308, 309, 310, 311, 312, 313, 314, 315, 316, 317, 318, 319, 320, 321, 322, 323, 324, 325, 326, 327, 328, 329, 330, 331, 332, 333, 334, 335, 336, 337, 338, 339, 340, 341, 342, 343, 344, 345, 346, 347, 348, 349, 350, 351, 352, 353, 354, 355, 356, 357, 358, 359, 360, 361, 362, 363, 364, 365, 366, 367, 368, 369, 370, 371, 372, 373, 374, 375, 376, 377, 378, 379, 380, 381, 382, 383, 384, 385, 386, 387, 388, 389, 390, 391, 392, 393, 394, 395, 396, 397, 398, 399, 400, 401, 402, 403, 404, 405, 406, 407, 408, 409, 410, 411, 412, 413, 414, 415, 416, 417, 418, 419, 420, 421, 422, 423, 424, 425, 426, 427, 428, 429, 430, 431, 432, 433, 434, 435, 436, 437, 438, 439, 440, 441, 442, 443, 444, 445, 446, 447, 448, 449, 450, 451, 452, 453, 454, 455, 456, 457, 458, 459, 460, 461, 462, 463, 464, 465, 466, 467, 468, 469, 470, 471, 472, 473, 474, 475, 476, 477, 478, 479, 480, 481, 482, 483, 484, 485, 486, 487, 488, 489, 490, 491, 492, 493, 494, 495, 496, 497, 498, 499, 500, 501, 502, 503, 504, 505, 506, 507, 508, 509, 510, 511, 512, 513, 514, 515, 516, 517, 518, 519, 520, 521, 522, 523, 524, 525, 526, 527, 528, 529, 530, 531, 532, 533, 534, 535, 536, 537, 538, 539, 540, 541, 542, 543, 544, 545, 546, 547, 548, 549, 550, 551, 552, 553, 554, 555, 556, 557, 558, 559, 560, 561, 562, 563, 564, 565, 566, 567, 568, 569, 570, 571, 572, 573, 574, 575, 576, 577, 578, 579, 580, 581, 582, 583, 584, 585, 586, 587, 588, 589, 590, 591, 592, 593, 594, 595, 596, 597, 598, 599, 600, 601, 602, 603, 604, 605, 606, 607, 608, 609, 610, 611, 612, 613, 614, 615, 616, 617, 618, 619, 620, 621, 622, 623, 624, 625, 626, 627, 628, 629, 630, 631, 632, 633, 634, 635, 636, 637, 638, 639, 640, 641, 642, 643, 644, 645, 646, 647, 648, 649, 650, 651, 652, 653, 654, 655, 656, 657, 658, 659, 660, 661, 662, 663, 664, 665, 666, 667, 668, 669, 670, 671, 672, 673, 674, 675, 676, 677, 678, 679, 680, 681, 682, 683, 684, 685, 686, 687, 688, 689, 690, 691, 692, 693, 694, 695, 696, 697, 698, 699, 700, 701, 702, 703, 704, 705, 706, 707, 708, 709, 710, 711, 712, 713, 714, 715, 716, 717, 718, 719, 720, 721, 722, 723, 724, 725, 726, 727, 728, 729, 730, 731, 732, 733, 734, 735, 736, 737, 738, 739, 740, 741, 742, 743, 744, 745, 746, 747, 748, 749, 750, 751, 752, 753, 754, 755, 756, 757, 758, 759, 760, 761, 762, 763, 764, 765, 766, 767, 768, 769, 770, 771, 772, 773, 774, 775, 776, 777, 778, 779, 780, 781, 782, 783, 784, 785, 786, 787, 788, 789, 790, 791, 792, 793, 794, 795, 796, 797, 798, 799, 800, 801, 802, 803, 804, 805, 806, 807, 808, 809, 810, 811, 812, 813, 814, 815, 816, 817, 818, 819, 820, 821, 822, 823, 824, 825, 826, 827, 828, 829, 830, 831, 832, 833, 834, 835, 836, 837, 838, 839, 840, 841, 842, 843, 844, 845, 846, 847, 848, 849, 850, 851, 852, 853, 854, 855, 856, 857, 858, 859, 860, 861, 862, 863, 864, 865, 866, 867, 868, 869, 870, 871, 872, 873, 874, 875, 876, 877, 878, 879, 880, 881, 882, 883, 884, 885, 886, 887, 888, 889, 890, 891, 892, 893, 894, 895, 896, 897, 898, 899, 900, 901, 902, 903, 904, 905, 906, 907, 908, 909, 910, 911, 912, 913, 914, 915, 916, 917, 918, 919, 920, 921, 922, 923, 924, 925, 926, 927, 928, 929, 930, 931, 932, 933, 934, 935, 936, 937, 938, 939, 940, 941, 942, 943, 944, 945, 946, 947, 948, 949, 950, 951, 952, 953, 954, 955, 956, 957, 958, 959, 960, 961, 962, 963, 964, 965, 966, 967, 968, 969, 970, 971, 972, 973, 974, 975, 976, 977, 978, 979, 980, 981, 982, 983, 984, 985, 986, 987, 988, 989, 990, 991, 992, 993, 994, 995, 996, 997, 998, 999, 1000], \"xaxis\": \"x\", \"y\": [-10682.408533817521, 11077.591466182479, 55.92479951581299, -7578.158533817521, 4737.591466182479, -229.2418671508549, 3302.4486090396204, 1446.591466182479, 6832.813688404702, -27.00853381752131, 1215.136920727933, -55.99186715085489, -5183.6393030482905, 2375.7343233253378, 3637.1914661824776, -629.908533817521, 237.65028971189167, 3800.424799515811, -3342.408533817521, -3005.20853381752, 224.11527570628823, -3984.772170181157, -3786.886794687087, -1876.408533817521, -3043.568533817521, -3891.254687663675, 485.66554025655387, -345.1942481032347, -2410.408533817521, -762.6418671508545, 39.17211134376885, -2282.846033817521, 492.59146618247905, -438.37912205281464, 5594.248609039623, 1765.341466182479, -272.3004257094126, -3331.6716917122576, -3816.254687663675, -1855.9585338175202, -1802.067070402887, -749.1704385794255, 1656.893791763874, -1853.340351999339, 309.8581328491455, -1255.756359904477, -2570.663852966458, 51.77896618247905, 1859.958813121255, 755.9514661824796, -117.29088675869752, 415.3030046440181, -1322.6160809873327, 643.4062809972947, 860.1005570915695, 1178.3771804681928, -1220.3559022385743, -566.83956830028, -487.27294059718224, 1207.258132849145, 1979.4439251988733, -2695.8924047852634, 3280.527974118988, 763.263341182479, -2177.946995355982, 2370.985405576419, -362.75181739961045, 419.72381912365563, -98.77085265810092, 1529.262894753907, -1353.971914099211, 2561.758132849147, 1348.2353017989171, 120.132006723019, 3428.551466182478, 1327.8283082877424, -475.46048186946973, 245.18120977222316, -1453.6743566023306, -1597.221033817521, -1266.359151101471, 659.4329295971129, 194.14568304994827, 313.5557518967653, -441.1497102881094, -575.117836143103, -1205.431522323268, 939.557375273389, 1118.9173088791085, -1127.1085338175217, -1540.9689733779596, -1158.658533817521, -736.3547703766599, -812.1319380728401, 2659.0546240772164, 1634.351882849145, 390.97290948144837, 823.6118743457446, -294.953988362975, 136.4914661824787, -1262.4679397581149, 140.6404857903217, -2.3114464388800116, -182.35084150982948, 1442.734323325336, -1276.276458345823, 279.11483066846085, -341.3807560397436, -322.08743290008897, -995.0721701811581, 516.5284031194151, 2005.484323325336, -744.2049939945118, 1633.109010042128, 2878.921900965088, -76.56370623131443, -860.1264825354701, 522.481296690954, 1715.9780208043285, -139.67520048418737, 1093.8146066783465, -651.6380420142414, -309.70934682565166, 704.2769500534469, -1173.7685338175215, -2625.321232230219, -18.298297597048077, 1309.075841182479, 17.382163856897023, 207.34531233632515, 1005.2021532053805, 351.553587394601, -2588.0852255468435, 776.2705706600918, 1205.2877624787761, -1566.621769111638, 490.26299902919527, 1246.236393718711, -559.1927064793908, -277.1942481032347, -669.1248458742593, 744.7111844923384, -947.3036387126267, 1056.1261884047017, 1414.2742248031682, 1024.1668086482332, 1729.1152757062882, -596.023398682386, -1226.247459992017, 1813.4581328491458, 864.0086847255261, 11.02567670879398, 537.6241459210414, 122.85120644221934, 647.2237242469946, 643.1427482337604, -666.5104446455462, -1070.4844831846094, -171.81733884896676, -134.11478381752022, 1019.1815282942807, -1166.2233486323366, 1830.4503618880008, -481.5853630858128, 1210.5005570915691, -435.18564225125556, 728.8908673800834, -1220.0037719127595, -82.50320837373329, -409.2261808763451, 83.83123226435055, -79.82132451519465, 729.267766760513, -165.25336140372747, 385.8200376110508, -264.02785199933896, 866.2750820016881, -201.24561246920712, 324.08308629421117, 1986.0747995158126, 19.32627281231362, -47.315127224113894, 1413.4876410458673, -552.0607077305649, 1584.964439155452, -237.29025424762767, -670.9753787373065, -958.5627891366694, -609.9164703254573, 573.2388346035314, -277.3614133986721, 875.200841182479, 1096.9904299130485, 44.50899195567581, -243.05981586880262, 390.2190172028877, 1016.8046641520214, 731.3793449703571, 920.3452350266998, -589.4235338175204, -356.26923033493404, 673.4479018260427, -233.03414958106805, -550.2320632292849, -169.6865825980094, 904.0089419106353, -441.6500797112403, -705.8893030482905, 249.13213603893928, 205.58194237295538, 213.35449935783436, 232.56316429568687, -1021.6761394513233, -436.90853381752095, 1311.6240243220145, 769.873873589886, 165.25506065252557, -238.91770812944742, 186.25356663909952, -1232.635806544793, -179.67550214331277, -441.27339868238596, 167.87397739324115, -1033.3862123889503, 510.47146618247825, 990.3658024656652, 100.25666442036527, -24.899761887696513, 211.21592033095112, -552.0302729479554, 537.7949293859419, 234.5483627342037, 309.7974747661701, 137.14274823376036, 1154.3957215016271, 288.23977126722457, -1129.6870148301787, 662.8771804681928, 473.35715655904824, -13.275200484187735, -978.2550068465662, 898.227829818843, -188.6225255870686, 646.6939251988733, -954.9187378991537, -780.5589403215854, -758.3882909025415, -534.7996628497785, -448.50491935968967, -84.78053381752034, 1278.0336972581754, 40.369243960256426, 117.90767171607513, 14.264694528936161, -1196.812455386149, 38.44693493247905, 579.3891315521287, 762.8356522289905, -560.0571824661693, 573.9030046440166, 982.909473845315, -214.91998419919946, 311.86903272240306, -414.44262472661103, 423.2895793900261, -911.1115413363186, 52.943526107572325, -153.74062336976021, -1399.6055598398252, 461.56183655284985, 1369.215082418641, 555.6723485354196, -271.65395506294226, 408.0513201970771, 1101.3332843642966, -356.220128020419, -106.42297425073411, 1322.7029769738456, -252.19348005408028, -469.90496238894957, 292.36370817536226, 69.21203355836587, -518.4544702132807, -372.3944493104791, -410.861165396469, -412.27916318815005, 122.8736961476352, -321.47103381752095, -1052.0348313953764, -241.29474071407276, -611.1164375975895, -277.28867080382224, 286.0385651585875, -1335.5139759943922, -41.076330427689754, 493.97660131761404, -847.1425405515274, -490.7306814685271, -1037.8834502054815, -1298.8418671508534, -529.5680022560591, -244.90853381752095, -661.3359265567942, 72.35791355090078, -381.3462387355539, 16.169897555028, 437.0572642280822, -40.52541693440435, 485.73386100448624, 206.27533715022037, -411.34100970176587, 412.5113379773502, 303.29434158184085, 53.22522414426203, 353.85178364279636, 512.9300737774156, 374.96686050424614, 1211.4782586353085, 553.6290837373381, -87.42728381752022, -193.89763039072932, 53.138050033410764, -529.9131777803686, 162.50196000964024, 372.8560815670953, 281.05772385119053, -46.353487945962115, 969.7347588654065, 1213.0656303162177, -41.4903519993386, -1166.9523404640458, 706.0854420860942, -242.66078606977317, 325.90583743996467, 842.2660930481507, 205.18968046819282, 484.81401811126307, 351.78081529490555, -726.7831650859571, 329.3297014765958, -343.8953373365821, 463.3984837263379, 206.3990463574064, 885.4751871127119, 1547.6726256027687, 169.42094595126582, -1434.9935482267429, -3.2217522083246877, 62.29060658362505, -295.402819531806, 278.6085601995728, -346.63012472661103, 1352.1722027263877, -449.8859349474642, 235.02808590078894, -167.8888708961731, 992.6867042777176, -155.9308801862353, -734.9127120905014, -49.7279782619662, 731.0817708916202, -300.99140674569753, -145.4498561315704, -242.74369865268636, -443.46606806409545, -558.0424135989415, -383.9207953979021, 539.776248791175, 343.716127429092, 1472.099574290587, 257.57259825795154, -59.55369510784294, 101.58074232188847, 485.2385250060088, 1121.0287995158124, -19.993640200500522, 264.1644104795614, -430.1201740291617, -306.28980030828643, 843.2335714456367, 637.8329359987529, 164.3741886955686, 909.6045210127668, 620.4846953491451, -337.79554680453475, 15.583694161754465, 276.6844894382939, 130.59662082165414, -330.6990222493969, -27.985456894444724, 568.3484994305618, -142.7860848379296, 56.4413389560159, 611.8655778576067, -177.24397685549593, 582.803587394601, -371.8694909963615, 153.3376973382583, 487.6766792150611, 299.8839661824786, 760.6787479779905, 147.40489901830006, -342.4383104924582, -989.8738803521737, 873.8507254417382, 626.1899883499664, 458.19343178444433, 632.5718583393409, 551.2296079917705, 469.62317349955265, -137.2601153260366, 582.6278739494701, -367.6167662630414, -204.14283333442836, 1183.8227914836843, 1258.4231969517095, -106.26225084389989, -389.8798256835489, -649.5755982566625, -487.0323433413305, 723.9810148760662, -205.22843903079047, -75.17212719813506, 548.9499567485163, -294.8955926410508, -114.77942583630102, 27.947438079434505, 1006.9302512292088, 65.75696734798112, -106.88992916635834, -13.63823219339065, 1201.841466182479, -47.20761002999279, -421.1089946470147, -240.99244186349824, -174.39935950559448, 623.200161834653, 187.82662599983087, -577.807167074925, -707.8153519993393, 1108.2558652754487, 527.9557195761445, 975.3905632479418, 742.3257004167135, 475.02292685663633, 34.791017751986146, 191.83978833012952, 309.9887876110497, 100.61596506889327, 224.30257729359073, -395.4129684073214, 383.7662449435411, 145.56939112729196, -31.360075667740603, -624.4986437076313, -478.59055136137977, -601.6973740801022, 1054.8229072305148, 1023.0990914548111, 226.6066835737838, 53.69992605232801, 75.2538038448165, -578.4301320896593, -873.0529303692456, -137.94831876375792, -1411.775486607221, 639.2509950904023, 299.79232088333447, -88.02260631218996, -51.30215083879739, -456.4913363652922, 256.1168899112927, -856.5966944940537, 329.5745885453489, -236.91169171225738, -559.4022312965117, 367.10718945291956, 134.10192643352457, -278.98264655238563, 118.6560495158119, -482.4709038798901, -575.2363346473958, 47.77573119283079, 164.8869207279331, -66.76729670411805, 326.44126042116295, -45.045084125529684, -87.22205840768402, 288.0270490045641, -225.94526851139926, -201.89325886843835, -134.1971517037, 486.0052592859265, -411.3417321980869, -483.6873216963086, -11.577888656231153, -201.09263844528687, -32.657529801455894, 375.49326978969293, -85.30253381752118, 604.6094302543352, 995.035689290049, 709.6550844727371, 61.80575189676529, -979.349127876927, -57.28600417325288, 624.8104010937222, 80.05012759980127, 51.38517934554329, -562.330102444972, -735.6590230543115, -249.55697131752095, 8.846826806260651, 981.8930226027132, -237.39688333208323, 469.4015437018588, -636.6290367188758, 337.9099990010127, -55.6840636826455, 73.98185079786344, 899.9772627275852, -588.877882476525, -124.82344777545586, 10.851008167212058, 557.728609039621, 144.39564869198512, 636.6559823115113, 555.2619207279331, -276.7412370311322, -1350.3368357043128, -69.32943777232322, 411.06890979150194, -115.43667640663989, 1064.1888444596334, 86.36155964042337, -420.352563668268, -112.71393418996013, -47.514481772910585, -245.51799578412647, -460.5233486323359, 18.107177827580017, -221.00816481383117, -49.90577138658227, 341.1319073589493, -150.44523106522684, 617.6519057429177, 67.8017038424423, 225.00934939415856, -444.52693090313187, -243.0685338175208, 955.9108854202277, -456.27991062911497, 587.576999636367, -493.5601583662574, 233.5878625788755, -272.85997266644154, 219.1157031663206, -126.34580980318424, -157.34949982825492, -132.7585338175213, -241.24632347883926, -1017.9334448495501, -197.90231712125023, 306.9088420690041, -111.82269310955598, -24.180618623175178, 661.0888206798336, 740.5720999852965, 521.7320637220218, 464.28444863862023, 366.0888392122506, 32.843214434227775, -165.2340137477131, -116.50957911368823, 518.7584227042189, -434.7644365952983, 457.42335526393435, -483.70957187980457, -281.39471689178754, 290.8466385962729, -251.09183846468113, 68.96431841615595, 172.96539414131257, -211.77668450245255, -176.0461406551276, -258.69351675267535, -270.5669665262085, -170.08370388554795, 227.33679725208822, -451.2542965293851, 506.5863900403474, 641.1911283446407, -179.75760633016762, 125.64870523971877, -511.8471892797061, -650.4538358309437, -364.8490698309215, 313.48778725271404, -427.48032012803924, -65.37020048418708, -263.0275022035439, -1082.945078668019, 244.14536336324272, 383.6990820765186, 120.78650750479392, -166.01249421356079, 638.3212849633692, 70.6983740772157, -129.0916208454364, 381.76031864149627, 593.4949031710221, 306.7581328491451, 223.71707792799316, 235.9986323062567, -312.93211105329283, -244.9799623889503, -997.1638012405347, 256.6950260530284, 227.1665873456459, -662.7053080110691, -1132.772462964058, 398.398540137463, -388.52731391382986, 123.81742772094003, -183.17333381752178, 418.5882712943003, 280.53883460353245, -169.21426630159658, 99.02866809027, -380.23869254768033, -277.77144982386017, -27.84049584283821, 123.73680583492751, -353.641972303325, 408.94737169429027, 898.9515290755608, 628.7704300757287, 105.95510254611509, -326.1049344434996, 342.7367786824798, -320.79698935574197, 161.79240076191854, 125.99426556039543, 392.026248791175, -223.13876637566136, -762.7165833531253, -119.89230506945205, -419.2742745582618, 15.278677276470262, 555.8930046440182, 319.07687324853214, 119.37060728677352, 368.8701798118818, 631.437031931715, -136.7367780923305, -231.36280211020312, 153.49253163148933, -274.8340657324152, 131.9116482765603, -116.61913987812659, -4.753465738851446, -176.0067211286987, 102.06205441777274, 298.6306228089852, -435.1980075017309, -68.22835363734157, 261.8298469920737, -10.559731422310506, 438.13855138427243, -133.28316068319327, 18.08028883523548, -480.93978381752095, -779.7294847833455, -25.57618960387117, -232.49742270641036, -28.837527900361238, -573.4720493271216, -160.32003824230014, 131.17762229440814, -303.8747102881098, 616.6913193396013, 89.19703802998629, 306.928215816446, -69.71993732629198, -151.71948272263035, 654.1730988355412, -10.670542551144536, 150.07983827550197, 476.25619767739954, 785.5117560375511, -68.669025858042, -424.8622910429549, -67.8068022157895, 154.68080335827108, -145.5567352563703, -383.612556806027, 108.90710463298092, 579.6774260678667, -123.47291149992452, -435.50710524609167, -506.7623141313579, 545.2752268662389, -328.7655750692993, 281.61987527338897, -361.5489593494367, -2.8008850923088175, -554.0337106209154, 455.1423136401063, 54.96805292436875, 108.111184492338, -54.32273916210579, -309.4647135928026, -112.64976803912032, -43.33990636654016, -245.99874360772992, 439.0160471880663, 475.5621774795509, 433.7641681323403, 1003.7235941379731, -218.16408937307642, -468.9092272987964, -256.9667055626742, -548.7211202628878, 902.6632893868991, 813.2590523893759, 394.46612182986246, -479.48281167171626, 480.2013562923694, 205.19366096985868, -46.848259844919085, -435.04191275049016, 283.43026399668634, -251.20525960196755, -288.9344193761044, -225.84935014405164, 104.30206400856514, -123.74638999119816, -309.7242519747033, 599.2748220688118, 191.49416888518135, -967.6608954909352, 149.432436532883, -676.5740789050033, -59.505308011070156, 230.36059369925715, 421.1517878982959, -341.9747988777617, -148.06628782821645, 315.15221384602955, -181.16320048418675, 200.52621984426332, -738.1558742430534, -424.13628946161043, 120.7347022567501, -22.628401367190236, 258.08352967454266, 294.31405535024714, -423.23702985973796, -67.31894224966891, 277.7862030245851, 29.90946881059972, -325.38491177027754, -491.57760328016775, 612.7891101615369, 293.9025772935893, 254.06274555584787, -71.50110226602192, 53.52375784914511, -141.15755852493385, 524.4057518967657, 92.282776169508, 193.8233314674526, -280.58835270497184, 695.170277551988, 247.1179177953818, -412.466523508243, 57.78837737939102, 515.0323402184695, -307.1107161025011, 106.36967131068377, 107.53768897377267, -57.266590083505434, -609.2131315186707, -207.30776851139854, -837.8199987856733, 192.3713644013078, 397.0755830820981, 240.98359816217453, -277.94212063627856, -83.92498951372363, -364.699304993248, -290.4375742215616, 63.65703995297008, -673.9312038427106, 632.1398938554357, 447.424380755343, -55.57290019142238, -166.6416165242881, 217.83176655794887, -665.8272838175217, 17.21318902892017, 18.197451219884897, -471.8120207415559, -295.4707228722473, -292.91660835168295, 477.5455604752824, -209.52253629583538, -338.26496946108455, -59.23177238365133, -104.95791653357082, 71.13030711959436, 58.25525928592651, -220.19574168960025, 220.75485684586965, -241.1422761488102, 231.7618093197343, -21.147823903200333, 183.6623708279567, 197.86497045598298, -735.8756069882529, 831.1322700801647, -259.3829863722658, -577.4547063570099, -63.32600954567715, 495.62176921278297, -597.6639817594096, -69.45690141123305, -288.857809179839, 250.6505735407427, -345.41696755246085, -387.7551042146333, -319.2126203559819, -147.84310764705333, -2.311411515362124, -653.5223062726109, -259.28532807589363, 591.7551459913193, 120.70005806792142, 240.34236010381392, -266.8978195318068, -152.6130522479616, 584.349185897443, -427.6374780642582, 519.6175325331897, -346.2144509772843, -455.35888842745044, 438.5536857810621, 273.4440605221025, 238.89064168306868, 301.26440735894903, -199.89737048027018, 238.78278073647016, -573.4483931375671, 73.79755517545345, -16.92900165377796, -298.95759923808146, -89.7515909937174, -233.65095805994497, 582.3155639706056, 217.27518711271114, -9.061263201958354, 369.02882117087756, -168.3853588464899, 91.81021618247905, -148.01200202561267, -21.406224348698743, -289.4269882581211, -426.78410985438677, 242.39353752885472, -121.9958901393602, 70.11729855905833, -370.87183656981506, -551.5563001405444, -415.52752695253184, 217.410894753908, 165.25699129663371, -296.90454293952826, -246.03495750772527, -181.10250423845355, 348.0141934552066, -209.7592716154777, 345.5211713978988, -316.9158950859237, -349.6121537270228, 44.69994075875002, 84.18627430888955, -343.9891426112081, 859.4574571734702, 148.73657304412154, 697.5510167442771, -33.113359855680756, -100.49037238254277, 198.42909216232147, -250.15909310163806, 149.13895221599887, -364.60607846037783, 59.74531233632479, -704.4953935057165, 538.1810101201881, 133.1336884047014, 110.49268704818314, -285.85310144501454, -69.6842813258263, 35.73416529752285, -318.48698685619456, 229.90934697718149, -335.4041236741905, 172.4978538476771, -329.3018231464539, -222.12721513620272, 343.64744861936197, 394.4368609193207, -240.85212636954748, -408.1908095286799, 74.81878858685013, -29.852856961626458, 74.07238221301304, -371.70047281534244, 105.55991014330539, -137.41831642621582, -127.63654684683752, -479.31525832945226, 48.82548568410493, 50.10661769763101, 154.19795266896472, 38.13142298593448, 268.1815416948848, 59.04836273420369, -336.30734974862935, -234.78380263472536, -169.79736303341815, 592.4219382854826, -109.7643751894393, 291.6439287092453, -185.4566621597678, -565.6927218517085, -289.79700767024224, 171.39850242981447, 405.75334051687787, -126.08725722177587, -166.1619875901033, -203.87562511263786, -29.103125546047522, 439.9526949960382, -293.6603856693728, -227.7605422741799, 583.7889318635771, 136.83408221623358, -119.22729040340164, 226.97357144563648, 179.03520961044887, -359.339206086428, -361.41692836106813, -221.27226547370628, 429.4668588526365, -470.18573047024074, 298.6008705711938, -340.22377390102884, 514.8083587789333, 6.142507849146568, -71.89344536798853, -168.94387685286347, -64.01808729623372, 357.50329190862067, 135.72825374724562, 337.424799515813, -8.930767530033336, 287.21233395107447, -157.96580935931706, 415.53476515155126, 89.8674703019442, -113.16264904385753, 87.54932846408155, -98.35925250335276, -98.25673894572537, -823.9997223421105, -62.64394835180974, 550.9636543215383, -458.86103637114684, -514.8717991236426, -311.9070047655332, -439.3769655894157, -146.26712995180424, -144.87296471183072, 178.3945118677584, 466.3754418417084, -8.569628042445402, -117.79517349363414, 60.034337769940976, 170.864193455207, 21.687328947362403, 184.96747424699606, 142.79287605156242, -132.32603884770288, 422.5482501020779, -117.3161643396088, 4.514234487392969, 123.09547419851151, -42.817943226929856, 146.57346618247902], \"yaxis\": \"y\"}],                        {\"legend\": {\"tracegroupgap\": 0}, \"margin\": {\"t\": 60}, \"template\": {\"data\": {\"bar\": [{\"error_x\": {\"color\": \"#2a3f5f\"}, \"error_y\": {\"color\": \"#2a3f5f\"}, \"marker\": {\"line\": {\"color\": \"#E5ECF6\", \"width\": 0.5}}, \"type\": \"bar\"}], \"barpolar\": [{\"marker\": {\"line\": {\"color\": \"#E5ECF6\", \"width\": 0.5}}, \"type\": \"barpolar\"}], \"carpet\": [{\"aaxis\": {\"endlinecolor\": \"#2a3f5f\", \"gridcolor\": \"white\", \"linecolor\": \"white\", \"minorgridcolor\": \"white\", \"startlinecolor\": \"#2a3f5f\"}, \"baxis\": {\"endlinecolor\": \"#2a3f5f\", \"gridcolor\": \"white\", \"linecolor\": \"white\", \"minorgridcolor\": \"white\", \"startlinecolor\": \"#2a3f5f\"}, \"type\": \"carpet\"}], \"choropleth\": [{\"colorbar\": {\"outlinewidth\": 0, \"ticks\": \"\"}, \"type\": \"choropleth\"}], \"contour\": [{\"colorbar\": {\"outlinewidth\": 0, \"ticks\": \"\"}, \"colorscale\": [[0.0, \"#0d0887\"], [0.1111111111111111, \"#46039f\"], [0.2222222222222222, \"#7201a8\"], [0.3333333333333333, \"#9c179e\"], [0.4444444444444444, \"#bd3786\"], [0.5555555555555556, \"#d8576b\"], [0.6666666666666666, \"#ed7953\"], [0.7777777777777778, \"#fb9f3a\"], [0.8888888888888888, \"#fdca26\"], [1.0, \"#f0f921\"]], \"type\": \"contour\"}], \"contourcarpet\": [{\"colorbar\": {\"outlinewidth\": 0, \"ticks\": \"\"}, \"type\": \"contourcarpet\"}], \"heatmap\": [{\"colorbar\": {\"outlinewidth\": 0, \"ticks\": \"\"}, \"colorscale\": [[0.0, \"#0d0887\"], [0.1111111111111111, \"#46039f\"], [0.2222222222222222, \"#7201a8\"], [0.3333333333333333, \"#9c179e\"], [0.4444444444444444, \"#bd3786\"], [0.5555555555555556, \"#d8576b\"], [0.6666666666666666, \"#ed7953\"], [0.7777777777777778, \"#fb9f3a\"], [0.8888888888888888, \"#fdca26\"], [1.0, \"#f0f921\"]], \"type\": \"heatmap\"}], \"heatmapgl\": [{\"colorbar\": {\"outlinewidth\": 0, \"ticks\": \"\"}, \"colorscale\": [[0.0, \"#0d0887\"], [0.1111111111111111, \"#46039f\"], [0.2222222222222222, \"#7201a8\"], [0.3333333333333333, \"#9c179e\"], [0.4444444444444444, \"#bd3786\"], [0.5555555555555556, \"#d8576b\"], [0.6666666666666666, \"#ed7953\"], [0.7777777777777778, \"#fb9f3a\"], [0.8888888888888888, \"#fdca26\"], [1.0, \"#f0f921\"]], \"type\": \"heatmapgl\"}], \"histogram\": [{\"marker\": {\"colorbar\": {\"outlinewidth\": 0, \"ticks\": \"\"}}, \"type\": \"histogram\"}], \"histogram2d\": [{\"colorbar\": {\"outlinewidth\": 0, \"ticks\": \"\"}, \"colorscale\": [[0.0, \"#0d0887\"], [0.1111111111111111, \"#46039f\"], [0.2222222222222222, \"#7201a8\"], [0.3333333333333333, \"#9c179e\"], [0.4444444444444444, \"#bd3786\"], [0.5555555555555556, \"#d8576b\"], [0.6666666666666666, \"#ed7953\"], [0.7777777777777778, \"#fb9f3a\"], [0.8888888888888888, \"#fdca26\"], [1.0, \"#f0f921\"]], \"type\": \"histogram2d\"}], \"histogram2dcontour\": [{\"colorbar\": {\"outlinewidth\": 0, \"ticks\": \"\"}, \"colorscale\": [[0.0, \"#0d0887\"], [0.1111111111111111, \"#46039f\"], [0.2222222222222222, \"#7201a8\"], [0.3333333333333333, \"#9c179e\"], [0.4444444444444444, \"#bd3786\"], [0.5555555555555556, \"#d8576b\"], [0.6666666666666666, \"#ed7953\"], [0.7777777777777778, \"#fb9f3a\"], [0.8888888888888888, \"#fdca26\"], [1.0, \"#f0f921\"]], \"type\": \"histogram2dcontour\"}], \"mesh3d\": [{\"colorbar\": {\"outlinewidth\": 0, \"ticks\": \"\"}, \"type\": \"mesh3d\"}], \"parcoords\": [{\"line\": {\"colorbar\": {\"outlinewidth\": 0, \"ticks\": \"\"}}, \"type\": \"parcoords\"}], \"pie\": [{\"automargin\": true, \"type\": \"pie\"}], \"scatter\": [{\"marker\": {\"colorbar\": {\"outlinewidth\": 0, \"ticks\": \"\"}}, \"type\": \"scatter\"}], \"scatter3d\": [{\"line\": {\"colorbar\": {\"outlinewidth\": 0, \"ticks\": \"\"}}, \"marker\": {\"colorbar\": {\"outlinewidth\": 0, \"ticks\": \"\"}}, \"type\": \"scatter3d\"}], \"scattercarpet\": [{\"marker\": {\"colorbar\": {\"outlinewidth\": 0, \"ticks\": \"\"}}, \"type\": \"scattercarpet\"}], \"scattergeo\": [{\"marker\": {\"colorbar\": {\"outlinewidth\": 0, \"ticks\": \"\"}}, \"type\": \"scattergeo\"}], \"scattergl\": [{\"marker\": {\"colorbar\": {\"outlinewidth\": 0, \"ticks\": \"\"}}, \"type\": \"scattergl\"}], \"scattermapbox\": [{\"marker\": {\"colorbar\": {\"outlinewidth\": 0, \"ticks\": \"\"}}, \"type\": \"scattermapbox\"}], \"scatterpolar\": [{\"marker\": {\"colorbar\": {\"outlinewidth\": 0, \"ticks\": \"\"}}, \"type\": \"scatterpolar\"}], \"scatterpolargl\": [{\"marker\": {\"colorbar\": {\"outlinewidth\": 0, \"ticks\": \"\"}}, \"type\": \"scatterpolargl\"}], \"scatterternary\": [{\"marker\": {\"colorbar\": {\"outlinewidth\": 0, \"ticks\": \"\"}}, \"type\": \"scatterternary\"}], \"surface\": [{\"colorbar\": {\"outlinewidth\": 0, \"ticks\": \"\"}, \"colorscale\": [[0.0, \"#0d0887\"], [0.1111111111111111, \"#46039f\"], [0.2222222222222222, \"#7201a8\"], [0.3333333333333333, \"#9c179e\"], [0.4444444444444444, \"#bd3786\"], [0.5555555555555556, \"#d8576b\"], [0.6666666666666666, \"#ed7953\"], [0.7777777777777778, \"#fb9f3a\"], [0.8888888888888888, \"#fdca26\"], [1.0, \"#f0f921\"]], \"type\": \"surface\"}], \"table\": [{\"cells\": {\"fill\": {\"color\": \"#EBF0F8\"}, \"line\": {\"color\": \"white\"}}, \"header\": {\"fill\": {\"color\": \"#C8D4E3\"}, \"line\": {\"color\": \"white\"}}, \"type\": \"table\"}]}, \"layout\": {\"annotationdefaults\": {\"arrowcolor\": \"#2a3f5f\", \"arrowhead\": 0, \"arrowwidth\": 1}, \"autotypenumbers\": \"strict\", \"coloraxis\": {\"colorbar\": {\"outlinewidth\": 0, \"ticks\": \"\"}}, \"colorscale\": {\"diverging\": [[0, \"#8e0152\"], [0.1, \"#c51b7d\"], [0.2, \"#de77ae\"], [0.3, \"#f1b6da\"], [0.4, \"#fde0ef\"], [0.5, \"#f7f7f7\"], [0.6, \"#e6f5d0\"], [0.7, \"#b8e186\"], [0.8, \"#7fbc41\"], [0.9, \"#4d9221\"], [1, \"#276419\"]], \"sequential\": [[0.0, \"#0d0887\"], [0.1111111111111111, \"#46039f\"], [0.2222222222222222, \"#7201a8\"], [0.3333333333333333, \"#9c179e\"], [0.4444444444444444, \"#bd3786\"], [0.5555555555555556, \"#d8576b\"], [0.6666666666666666, \"#ed7953\"], [0.7777777777777778, \"#fb9f3a\"], [0.8888888888888888, \"#fdca26\"], [1.0, \"#f0f921\"]], \"sequentialminus\": [[0.0, \"#0d0887\"], [0.1111111111111111, \"#46039f\"], [0.2222222222222222, \"#7201a8\"], [0.3333333333333333, \"#9c179e\"], [0.4444444444444444, \"#bd3786\"], [0.5555555555555556, \"#d8576b\"], [0.6666666666666666, \"#ed7953\"], [0.7777777777777778, \"#fb9f3a\"], [0.8888888888888888, \"#fdca26\"], [1.0, \"#f0f921\"]]}, \"colorway\": [\"#636efa\", \"#EF553B\", \"#00cc96\", \"#ab63fa\", \"#FFA15A\", \"#19d3f3\", \"#FF6692\", \"#B6E880\", \"#FF97FF\", \"#FECB52\"], \"font\": {\"color\": \"#2a3f5f\"}, \"geo\": {\"bgcolor\": \"white\", \"lakecolor\": \"white\", \"landcolor\": \"#E5ECF6\", \"showlakes\": true, \"showland\": true, \"subunitcolor\": \"white\"}, \"hoverlabel\": {\"align\": \"left\"}, \"hovermode\": \"closest\", \"mapbox\": {\"style\": \"light\"}, \"paper_bgcolor\": \"white\", \"plot_bgcolor\": \"#E5ECF6\", \"polar\": {\"angularaxis\": {\"gridcolor\": \"white\", \"linecolor\": \"white\", \"ticks\": \"\"}, \"bgcolor\": \"#E5ECF6\", \"radialaxis\": {\"gridcolor\": \"white\", \"linecolor\": \"white\", \"ticks\": \"\"}}, \"scene\": {\"xaxis\": {\"backgroundcolor\": \"#E5ECF6\", \"gridcolor\": \"white\", \"gridwidth\": 2, \"linecolor\": \"white\", \"showbackground\": true, \"ticks\": \"\", \"zerolinecolor\": \"white\"}, \"yaxis\": {\"backgroundcolor\": \"#E5ECF6\", \"gridcolor\": \"white\", \"gridwidth\": 2, \"linecolor\": \"white\", \"showbackground\": true, \"ticks\": \"\", \"zerolinecolor\": \"white\"}, \"zaxis\": {\"backgroundcolor\": \"#E5ECF6\", \"gridcolor\": \"white\", \"gridwidth\": 2, \"linecolor\": \"white\", \"showbackground\": true, \"ticks\": \"\", \"zerolinecolor\": \"white\"}}, \"shapedefaults\": {\"line\": {\"color\": \"#2a3f5f\"}}, \"ternary\": {\"aaxis\": {\"gridcolor\": \"white\", \"linecolor\": \"white\", \"ticks\": \"\"}, \"baxis\": {\"gridcolor\": \"white\", \"linecolor\": \"white\", \"ticks\": \"\"}, \"bgcolor\": \"#E5ECF6\", \"caxis\": {\"gridcolor\": \"white\", \"linecolor\": \"white\", \"ticks\": \"\"}}, \"title\": {\"x\": 0.05}, \"xaxis\": {\"automargin\": true, \"gridcolor\": \"white\", \"linecolor\": \"white\", \"ticks\": \"\", \"title\": {\"standoff\": 15}, \"zerolinecolor\": \"white\", \"zerolinewidth\": 2}, \"yaxis\": {\"automargin\": true, \"gridcolor\": \"white\", \"linecolor\": \"white\", \"ticks\": \"\", \"title\": {\"standoff\": 15}, \"zerolinecolor\": \"white\", \"zerolinewidth\": 2}}}, \"title\": {\"text\": \"The Law of Large Numbers:\"}, \"xaxis\": {\"anchor\": \"y\", \"domain\": [0.0, 1.0], \"title\": {\"text\": \"Sample size\"}}, \"yaxis\": {\"anchor\": \"x\", \"domain\": [0.0, 1.0], \"title\": {\"text\": \"Difference In Means\"}}},                        {\"responsive\": true}                    ).then(function(){\n                            \nvar gd = document.getElementById('3265142f-3d3b-412e-b71f-646b0f574593');\nvar x = new MutationObserver(function (mutations, observer) {{\n        var display = window.getComputedStyle(gd).display;\n        if (!display || display === 'none') {{\n            console.log([gd, 'removed!']);\n            Plotly.purge(gd);\n            observer.disconnect();\n        }}\n}});\n\n// Listen for the removal of the full notebook cells\nvar notebookContainer = gd.closest('#notebook-container');\nif (notebookContainer) {{\n    x.observe(notebookContainer, {childList: true});\n}}\n\n// Listen for the clearing of the current output cell\nvar outputEl = gd.closest('.output');\nif (outputEl) {{\n    x.observe(outputEl, {childList: true});\n}}\n\n                        })                };                            </script>        </div>\n</body>\n</html>"
          },
          "metadata": {},
          "output_type": "display_data"
        }
      ],
      "execution_count": 33
    },
    {
      "cell_type": "markdown",
      "source": "#### When comparing the difference in means with sample sizes ranging from 1 to 50, we can see a slight trend of convergence. \n#### However, when we increased the range of sample sizes, to 1000 in the above example, the trend becomes very obvious. This describes the law of large numbers, in which as the sample size increases, the sample mean will get closer towards the population mean. \n#### We can see this in the above example, seeing that as the sample size increases, the dots are converging towards a specific point. ",
      "metadata": {
        "tags": [],
        "cell_id": "00070-a38c8c8b-e3d0-474a-b3e8-eb2767abfe0a",
        "deepnote_cell_type": "markdown"
      }
    },
    {
      "cell_type": "markdown",
      "source": "<a style='text-decoration:none;line-height:16px;display:flex;color:#5B5B62;padding:10px;justify-content:end;' href='https://deepnote.com?utm_source=created-in-deepnote-cell&projectId=e724fedd-4d55-4022-982f-31bf2f312f26' target=\"_blank\">\n<img alt='Created in deepnote.com' style='display:inline;max-height:16px;margin:0px;margin-right:7.5px;' src='data:image/svg+xml;base64,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' > </img>\nCreated in <span style='font-weight:600;margin-left:4px;'>Deepnote</span></a>",
      "metadata": {
        "tags": [],
        "created_in_deepnote_cell": true,
        "deepnote_cell_type": "markdown"
      }
    }
  ],
  "nbformat": 4,
  "nbformat_minor": 2,
  "metadata": {
    "orig_nbformat": 2,
    "deepnote": {
      "is_reactive": false
    },
    "deepnote_notebook_id": "f885b667-1638-4c9b-8fba-2ef17639474f",
    "deepnote_execution_queue": []
  }
}