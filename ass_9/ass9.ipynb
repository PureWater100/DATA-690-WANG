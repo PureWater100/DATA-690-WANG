{
  "cells": [
    {
      "cell_type": "markdown",
      "source": "# Assignment 9: Point Estimate and Interval Estimate (Confidence Interval)\n### A random survey of enrollment at 35 community colleges across the United States yielded the following figures:\n### 6,414; 1,550; 2,109; 9,350; 21,828; 4,300; 5,944; 5,722; 2,825; 2,044;\n### 5,481; 5,200; 5,853; 2,750; 10,012; 6,357; 27,000; 9,414; 7,681; 3,200;\n### 17,500; 9,200; 7,380; 18,314; 6,557; 13,713; 17,768; 7,493; 2,771; 2,861;\n### 1,263; 7,285; 28,165; 5,080; 11,622\n### Perform point estimate and interval estimate with 95% confidence level using t-distribution.\n### Since we don't know the population variance, we will use the t-distribiution instead of the normal distribution.\n",
      "metadata": {
        "tags": [],
        "cell_id": "00000-88fc296a-d52d-492b-964d-1ac4fb15bbe4",
        "deepnote_cell_type": "markdown"
      }
    },
    {
      "cell_type": "code",
      "metadata": {
        "tags": [],
        "cell_id": "00000-309f52f8-1827-4d6b-a18b-fa8bdf390f57",
        "deepnote_to_be_reexecuted": false,
        "source_hash": "110537f5",
        "execution_millis": 1025,
        "execution_start": 1619472194854,
        "deepnote_cell_type": "code"
      },
      "source": "# Import Python packages\nimport math\nimport pandas as pd\nimport numpy as np\nfrom scipy import stats\nimport matplotlib.pyplot as plt\nimport seaborn as sns\n\nplt.rcParams[\"figure.figsize\"] = (12,8)  # global setting [12,8] does not work!",
      "outputs": [],
      "execution_count": null
    },
    {
      "cell_type": "markdown",
      "source": "## Step 0 - Data Preprocessing\n### Process the raw data to make a list of integers. In order to calculate descriptive statistics, Python needs to work with a list of numbers.\n### Note: Don't manually make the list by hand-typing the numbers. Write code to automate the data preparation.",
      "metadata": {
        "tags": [],
        "cell_id": "00002-47475e85-1e9c-4585-b5bb-cf3c0affe8e9",
        "deepnote_cell_type": "markdown"
      }
    },
    {
      "cell_type": "code",
      "metadata": {
        "tags": [],
        "cell_id": "00003-fabaf144-5614-42d8-b0e0-7a2194b5a4da",
        "deepnote_to_be_reexecuted": false,
        "source_hash": "72de5b99",
        "execution_millis": 11,
        "execution_start": 1619472195884,
        "deepnote_cell_type": "code"
      },
      "source": "# make each line of numbers a string object and then concatenate them together \n# The end result is one single string containing 35 numbers separated by \";\"\n\ndata_1 = \"6,414; 1,550; 2,109; 9,350; 21,828; 4,300; 5,944; 5,722; 2,825; 2,044;\" \ndata_2 = \"5,481; 5,200; 5,853; 2,750; 10,012; 6,357; 27,000; 9,414; 7,681; 3,200; \"\ndata_3 = \"17,500; 9,200; 7,380; 18,314; 6,557; 13,713; 17,768; 7,493; 2,771; 2,861; \"\ndata_4 = \"1,263; 7,285; 28,165; 5,080; 11,622\"\ndata = data_1 + data_2 + data_3 + data_4\ndata",
      "outputs": [
        {
          "output_type": "execute_result",
          "execution_count": 2,
          "data": {
            "text/plain": "'6,414; 1,550; 2,109; 9,350; 21,828; 4,300; 5,944; 5,722; 2,825; 2,044;5,481; 5,200; 5,853; 2,750; 10,012; 6,357; 27,000; 9,414; 7,681; 3,200; 17,500; 9,200; 7,380; 18,314; 6,557; 13,713; 17,768; 7,493; 2,771; 2,861; 1,263; 7,285; 28,165; 5,080; 11,622'"
          },
          "metadata": {}
        }
      ],
      "execution_count": null
    },
    {
      "cell_type": "markdown",
      "source": "### Convert the single string into a list of strings using split() function\n### Make sure to specify a delimiter or separator",
      "metadata": {
        "tags": [],
        "cell_id": "00004-ecfc0863-d290-4777-8078-578605527b8f",
        "deepnote_cell_type": "markdown"
      }
    },
    {
      "cell_type": "code",
      "metadata": {
        "tags": [],
        "cell_id": "00005-fcda733b-23ac-4d06-b0dc-b7bb5bf5beb0",
        "deepnote_to_be_reexecuted": false,
        "source_hash": "1c12abce",
        "execution_millis": 24,
        "execution_start": 1619472195892,
        "deepnote_cell_type": "code"
      },
      "source": "data = data.split(\";\")\nprint(data)",
      "outputs": [
        {
          "name": "stdout",
          "text": "['6,414', ' 1,550', ' 2,109', ' 9,350', ' 21,828', ' 4,300', ' 5,944', ' 5,722', ' 2,825', ' 2,044', '5,481', ' 5,200', ' 5,853', ' 2,750', ' 10,012', ' 6,357', ' 27,000', ' 9,414', ' 7,681', ' 3,200', ' 17,500', ' 9,200', ' 7,380', ' 18,314', ' 6,557', ' 13,713', ' 17,768', ' 7,493', ' 2,771', ' 2,861', ' 1,263', ' 7,285', ' 28,165', ' 5,080', ' 11,622']\n",
          "output_type": "stream"
        }
      ],
      "execution_count": null
    },
    {
      "cell_type": "markdown",
      "source": "### Create a list of integers from the list of strings using List Comprehension or a for loop. Make sure to remove the \",\" first and then convert the strings to integers.",
      "metadata": {
        "tags": [],
        "cell_id": "00006-5c8a4cb0-49e2-49c5-a088-cad857070ebe",
        "deepnote_cell_type": "markdown"
      }
    },
    {
      "cell_type": "code",
      "metadata": {
        "tags": [],
        "cell_id": "00008-897c77e1-20fe-4eab-8db9-dfdf68a2ea4f",
        "deepnote_to_be_reexecuted": false,
        "source_hash": "d781b599",
        "execution_millis": 15,
        "execution_start": 1619472195901,
        "deepnote_cell_type": "code"
      },
      "source": "data = [x.strip(' ') for x in data]\ndata = [x.replace(\",\",\"\") for x in data]\nprint(data)",
      "outputs": [
        {
          "name": "stdout",
          "text": "['6414', '1550', '2109', '9350', '21828', '4300', '5944', '5722', '2825', '2044', '5481', '5200', '5853', '2750', '10012', '6357', '27000', '9414', '7681', '3200', '17500', '9200', '7380', '18314', '6557', '13713', '17768', '7493', '2771', '2861', '1263', '7285', '28165', '5080', '11622']\n",
          "output_type": "stream"
        }
      ],
      "execution_count": null
    },
    {
      "cell_type": "code",
      "metadata": {
        "tags": [],
        "cell_id": "00008-80e71ace-b208-43cf-bff1-f2538ba989f1",
        "deepnote_to_be_reexecuted": false,
        "source_hash": "d29e3044",
        "execution_millis": 99,
        "execution_start": 1619472195907,
        "deepnote_cell_type": "code"
      },
      "source": "#now we can convert the list of strings directly into integers\n#using list comprehension:\ndata = list(map(int, data))\nprint(data)",
      "outputs": [
        {
          "name": "stdout",
          "text": "[6414, 1550, 2109, 9350, 21828, 4300, 5944, 5722, 2825, 2044, 5481, 5200, 5853, 2750, 10012, 6357, 27000, 9414, 7681, 3200, 17500, 9200, 7380, 18314, 6557, 13713, 17768, 7493, 2771, 2861, 1263, 7285, 28165, 5080, 11622]\n",
          "output_type": "stream"
        }
      ],
      "execution_count": null
    },
    {
      "cell_type": "markdown",
      "source": "## Step 1 - Calculate and Display the Sample Size and Sample Mean",
      "metadata": {
        "tags": [],
        "cell_id": "00009-8dec28f5-e982-4093-9a07-2fedc3568def",
        "deepnote_cell_type": "markdown"
      }
    },
    {
      "cell_type": "code",
      "metadata": {
        "tags": [],
        "cell_id": "00010-879e9b07-1f19-4a36-ae89-ce79b8eb2f34",
        "deepnote_to_be_reexecuted": false,
        "source_hash": "d3731c73",
        "execution_millis": 76,
        "execution_start": 1619472195930,
        "deepnote_cell_type": "code"
      },
      "source": "#Calculate and display the sample size\nsample_size = len(data) #length of list, which is 35\nprint(\"Sample size = \" + str(sample_size)) \n#print(\"Sample size = \" + str(len(data))) ---alternatively, this one line of code can do the same thing\n\n#Calculate and display the sample mean\nsample_mean = np.mean(data, dtype=np.float64)\nsample_mean = np.round(sample_mean, 0) #round up to the full integer\nprint(\"Sample mean is \" + str(sample_mean))",
      "outputs": [
        {
          "name": "stdout",
          "text": "Sample size = 35\nSample mean is 8629.0\n",
          "output_type": "stream"
        }
      ],
      "execution_count": null
    },
    {
      "cell_type": "markdown",
      "source": "### The point estimate of the mean enrollment of US community colleges is 8629.\n",
      "metadata": {
        "tags": [],
        "cell_id": "00011-c1550246-4393-412e-a755-5ccfa3cca828",
        "deepnote_cell_type": "markdown"
      }
    },
    {
      "cell_type": "markdown",
      "source": "## Step 2 - Calculate and Display the Sample Standard Deviation & Sample Standard Error\n### Sample Standard Deviation $S=\\sqrt{\\dfrac{1}{n-1}\\sum\\limits_{i=1}^n (X_i-\\bar{X})^2}$\n### Sample Standard Error = $\\dfrac{S}{\\sqrt{n}}$\n### Note: The default Delta Degree of Freedom (DDOF) for Numpy's std function is 0 which is applicable to populate data. For sample data, we need to specify ddof=1.\n### For the enrollment data, we round up the statistics to be the full integers (no decimal points).",
      "metadata": {
        "tags": [],
        "cell_id": "00012-51b39e43-27dd-4b91-b800-1f6795da2881",
        "deepnote_cell_type": "markdown"
      }
    },
    {
      "cell_type": "code",
      "metadata": {
        "tags": [],
        "cell_id": "00013-3719d396-b79f-4ae4-bd8d-37c2e4d3ca9e",
        "deepnote_to_be_reexecuted": false,
        "source_hash": "194eaf9",
        "execution_millis": 74,
        "execution_start": 1619472195932,
        "deepnote_cell_type": "code"
      },
      "source": "#Calculate and display the sample standard deviation using Numpy's std function\nstd_dev = np.std(data, dtype=np.float64, ddof=1) #specify ddof = 1\nstd_dev = np.round(std_dev, 0) #round up to the full integer\nprint(\"Sample Standard Deviation = \" + str(std_dev))\n\n# Calculate and display the sample standard error\nstd_error = stats.sem(data, axis=None, ddof=1) #using SciPy stat package, this gets the standard error \nstd_error = np.round(std_error, 0) \nprint(\"Sample Standard Error is \" + str(std_error))",
      "outputs": [
        {
          "name": "stdout",
          "text": "Sample Standard Deviation = 6944.0\nSample Standard Error is 1174.0\n",
          "output_type": "stream"
        }
      ],
      "execution_count": null
    },
    {
      "cell_type": "markdown",
      "source": "## Step 3 - Calculate t Critical Value using t-Distribution\n### $\\alpha$ = 1 - Confidence Level = 1 - 95% = 0.05\n### $\\dfrac{\\alpha}{2}$ = 0.025\n### n (sample size) = 35\n### df (degree of freedom) = n - 1 = 35 - 1 = 34\n### We will use Python scipy.stats t-distribution's PPF (Percentage Point Function) to calculate t critical value $t_{0.025,34}$.",
      "metadata": {
        "tags": [],
        "cell_id": "00014-0aadfe4f-30d8-4a80-82bd-719ba893e260",
        "deepnote_cell_type": "markdown"
      }
    },
    {
      "cell_type": "code",
      "metadata": {
        "tags": [],
        "cell_id": "00015-adea7298-2851-4737-a3a0-ebae7e85da9d",
        "deepnote_to_be_reexecuted": false,
        "source_hash": "70c0086a",
        "execution_millis": 5,
        "execution_start": 1619472195933,
        "deepnote_cell_type": "code"
      },
      "source": "# Calculate and display the t critical value using scipy.stats.t package ppf function\nt_stat = np.round(stats.t.ppf(1-0.025, 35), 2) #first using the ppf function, then rounding it to 2 decimals\nprint(\"t critical value =  \" + str(t_stat))",
      "outputs": [
        {
          "name": "stdout",
          "text": "t critical value =  2.03\n",
          "output_type": "stream"
        }
      ],
      "execution_count": null
    },
    {
      "cell_type": "markdown",
      "source": "## Step 4 - Calculate the Margin of Error\n### Margin of Error = t-Statistics * Sample Standard Error = $t_{\\alpha/2,n-1}\\left(\\dfrac{s}{\\sqrt{n}}\\right)$",
      "metadata": {
        "tags": [],
        "cell_id": "00016-66744c99-b993-487c-b70a-043484169a66",
        "deepnote_cell_type": "markdown"
      }
    },
    {
      "cell_type": "code",
      "source": "# Calculate and display the margin of error\nmargin_error = np.round(t_stat * std_error, 0)\nprint(\"Margin of Error = \" + str(margin_error))",
      "metadata": {
        "tags": [],
        "cell_id": "00017-4d7f27d7-edb3-4db2-b8e6-cfd221a87c4b",
        "deepnote_to_be_reexecuted": false,
        "source_hash": "99a3ed2e",
        "execution_millis": 5,
        "execution_start": 1619472195947,
        "deepnote_cell_type": "code"
      },
      "outputs": [
        {
          "name": "stdout",
          "text": "Margin of Error = 2383.0\n",
          "output_type": "stream"
        }
      ],
      "execution_count": null
    },
    {
      "cell_type": "markdown",
      "source": "## Step 5 - Calculate Lower and Upper Limit of the Confidence Interval\n### Lower Limit = Sample Mean - Margin of Error\n### Upper Limit = Sample Mean + Margin of Error",
      "metadata": {
        "tags": [],
        "cell_id": "00018-76910eea-c5de-4a7a-b2fb-f5d060ea4a17",
        "deepnote_cell_type": "markdown"
      }
    },
    {
      "cell_type": "code",
      "source": "# Calculate and display the lower limit\nl_limit = sample_mean - margin_error\nprint(\"Lower limit = \", round(l_limit, 0))\n# Calculate and display the upper limit\nu_limit = sample_mean + margin_error\nprint(\"Upper limit = \", round(u_limit, 0))",
      "metadata": {
        "tags": [],
        "cell_id": "00019-bdbdccb1-de52-4868-a48d-2c58fa01a2b6",
        "deepnote_to_be_reexecuted": false,
        "source_hash": "e35d000",
        "execution_millis": 1,
        "execution_start": 1619472195952,
        "deepnote_cell_type": "code"
      },
      "outputs": [
        {
          "name": "stdout",
          "text": "Lower limit =  6246.0\nUpper limit =  11012.0\n",
          "output_type": "stream"
        }
      ],
      "execution_count": null
    },
    {
      "cell_type": "markdown",
      "source": "## Step 6 - Now We have the 95% Confidence Interval\n### Confidence Interval ($\\sigma$ unknown) = $\\bar{x}\\space\\pm\\space t_{\\alpha/2}\\left(\\dfrac{S}{\\sqrt{n}}\\right)$ = Sample_Mean $\\pm$ Margin of Error",
      "metadata": {
        "tags": [],
        "cell_id": "00020-b24a81c2-2eff-4588-bcbd-71267ad02d5f",
        "deepnote_cell_type": "markdown"
      }
    },
    {
      "cell_type": "code",
      "source": "# Print the 95% confidence interveral in the form (lower limit, upper limit)\nprint(\"The 95% Confidence Interval = (\", round(l_limit, 0), \",\", round(u_limit, 0), \")\")",
      "metadata": {
        "tags": [],
        "cell_id": "00021-4353b6d4-307a-4463-a79b-c7889e0441d3",
        "deepnote_to_be_reexecuted": false,
        "source_hash": "d3e0dd46",
        "execution_millis": 5,
        "execution_start": 1619472195961,
        "deepnote_cell_type": "code"
      },
      "outputs": [
        {
          "name": "stdout",
          "text": "The 95% Confidence Interval = ( 6246.0 , 11012.0 )\n",
          "output_type": "stream"
        }
      ],
      "execution_count": null
    },
    {
      "cell_type": "markdown",
      "source": "### The End",
      "metadata": {
        "tags": [],
        "cell_id": "00023-61abe4bf-3470-4034-a0ea-fc6a74034aa5",
        "deepnote_cell_type": "markdown"
      }
    },
    {
      "cell_type": "markdown",
      "source": "<a style='text-decoration:none;line-height:16px;display:flex;color:#5B5B62;padding:10px;justify-content:end;' href='https://deepnote.com?utm_source=created-in-deepnote-cell&projectId=e724fedd-4d55-4022-982f-31bf2f312f26' target=\"_blank\">\n<img alt='Created in deepnote.com' style='display:inline;max-height:16px;margin:0px;margin-right:7.5px;' src='data:image/svg+xml;base64,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' > </img>\nCreated in <span style='font-weight:600;margin-left:4px;'>Deepnote</span></a>",
      "metadata": {
        "tags": [],
        "created_in_deepnote_cell": true,
        "deepnote_cell_type": "markdown"
      }
    }
  ],
  "nbformat": 4,
  "nbformat_minor": 2,
  "metadata": {
    "orig_nbformat": 2,
    "deepnote": {
      "is_reactive": false
    },
    "deepnote_notebook_id": "ba3d7ab7-078b-4223-9e88-bce5f924d764",
    "deepnote_execution_queue": []
  }
}